{
 "cells": [
  {
   "cell_type": "code",
   "outputs": [],
   "source": [],
   "metadata": {
    "collapsed": false
   },
   "id": "1dedfd18f9e3ab1d"
  },
  {
   "cell_type": "code",
   "execution_count": null,
   "id": "b6ddd467-0022-4f2b-8e05-fa2f870e7cb1",
   "metadata": {
    "ExecuteTime": {
     "end_time": "2024-07-17T15:40:33.849846Z",
     "start_time": "2024-07-17T15:40:33.758952Z"
    }
   },
   "outputs": [],
   "source": [
    "from bs4 import BeautifulSoup\n",
    "import pandas as pd\n",
    "from io import StringIO\n",
    "import requests"
   ]
  },
  {
   "cell_type": "code",
   "execution_count": 1,
   "id": "dbf4203130f05d77",
   "metadata": {
    "ExecuteTime": {
     "end_time": "2024-05-28T13:59:09.327961Z",
     "start_time": "2024-05-28T13:59:09.326526Z"
    }
   },
   "outputs": [],
   "source": [
    "#Assign Years Variable"
   ]
  },
  {
   "cell_type": "code",
   "execution_count": 3,
   "id": "dcad253a4b41ca4b",
   "metadata": {
    "ExecuteTime": {
     "end_time": "2024-07-17T15:41:17.153904Z",
     "start_time": "2024-07-17T15:41:17.152113Z"
    }
   },
   "outputs": [],
   "source": [
    "years = list(range(1997,2024))"
   ]
  },
  {
   "cell_type": "code",
   "execution_count": 4,
   "id": "af1b7f7f0844c297",
   "metadata": {
    "ExecuteTime": {
     "end_time": "2024-05-28T13:59:17.516496Z",
     "start_time": "2024-05-28T13:59:17.514820Z"
    }
   },
   "outputs": [],
   "source": [
    "#Create separate HTMl files for each NBA season"
   ]
  },
  {
   "cell_type": "code",
   "execution_count": 4,
   "id": "5c92258dec501261",
   "metadata": {
    "ExecuteTime": {
     "end_time": "2024-07-17T15:41:22.413391Z",
     "start_time": "2024-07-17T15:41:22.411193Z"
    }
   },
   "outputs": [],
   "source": [
    "url_first = \"https://www.basketball-reference.com/leagues/NBA_{}.html#per_game-team\""
   ]
  },
  {
   "cell_type": "code",
   "execution_count": 5,
   "id": "b5a141ee5ad97ae3",
   "metadata": {
    "ExecuteTime": {
     "end_time": "2024-07-17T15:23:52.935596Z",
     "start_time": "2024-07-17T15:22:24.269478Z"
    }
   },
   "outputs": [],
   "source": [
    "for year in years:\n",
    "    url = url_first.format(year)\n",
    "    response = requests.get(url)\n",
    "    \n",
    "    with open(\"seasons/{}.html\".format(year),\"w+\") as f:\n",
    "        f.write(response.text)"
   ]
  },
  {
   "cell_type": "code",
   "execution_count": 7,
   "id": "f951359c2c6ddf0a",
   "metadata": {
    "ExecuteTime": {
     "end_time": "2024-05-28T13:59:33.851995Z",
     "start_time": "2024-05-28T13:59:33.850362Z"
    }
   },
   "outputs": [],
   "source": [
    "#Saving Regular Season Per Game Stats"
   ]
  },
  {
   "cell_type": "code",
   "execution_count": 5,
   "id": "4cd1fe6e-3175-4a38-a8ff-780fd6a4105a",
   "metadata": {
    "ExecuteTime": {
     "end_time": "2024-07-17T15:41:30.632579Z",
     "start_time": "2024-07-17T15:41:25.844317Z"
    }
   },
   "outputs": [],
   "source": [
    "dfs = []\n",
    "for year in years:\n",
    "    with open(\"seasons/{}.html\".format(year)) as f:\n",
    "        page = f.read()\n",
    "    soup = BeautifulSoup(page, \"html.parser\")\n",
    "    season_table = soup.find(id=\"per_game-team\")\n",
    "    seasons = pd.read_html(StringIO(str(season_table)))[0]\n",
    "\n",
    "    dfs.append(seasons)"
   ]
  },
  {
   "cell_type": "code",
   "execution_count": 15,
   "id": "e2ba2d96-e46d-4f35-a4f8-e40e091240ec",
   "metadata": {
    "ExecuteTime": {
     "end_time": "2024-07-17T15:26:26.487170Z",
     "start_time": "2024-07-17T15:26:26.483820Z"
    }
   },
   "outputs": [],
   "source": [
    "per_game_stats = pd.concat(dfs)\n",
    "per_game_stats.to_csv(\"per_game_stats.csv\")"
   ]
  },
  {
   "cell_type": "code",
   "execution_count": 20,
   "id": "e920e3902a16b340",
   "metadata": {
    "ExecuteTime": {
     "end_time": "2024-05-28T14:03:46.031426Z",
     "start_time": "2024-05-28T14:03:46.029114Z"
    }
   },
   "outputs": [],
   "source": [
    "#Saving Regular Season Total Stats"
   ]
  },
  {
   "cell_type": "code",
   "execution_count": 6,
   "id": "c0733cbc26d8cc9a",
   "metadata": {
    "ExecuteTime": {
     "end_time": "2024-07-17T15:41:52.386119Z",
     "start_time": "2024-07-17T15:41:47.384739Z"
    }
   },
   "outputs": [],
   "source": [
    "dfs1 = []\n",
    "for year in years:\n",
    "    with open(\"seasons/{}.html\".format(year)) as f:\n",
    "        page1 = f.read()\n",
    "    soup1 = BeautifulSoup(page1, \"html.parser\")\n",
    "    total_stats_table = soup1.find(id=\"totals-team\")\n",
    "    total_stats = pd.read_html(StringIO(str(total_stats_table)))[0]\n",
    "\n",
    "    dfs1.append(total_stats)"
   ]
  },
  {
   "cell_type": "code",
   "execution_count": 28,
   "id": "62cf68238191e0ee",
   "metadata": {
    "ExecuteTime": {
     "end_time": "2024-05-28T14:05:05.365749Z",
     "start_time": "2024-05-28T14:05:05.362164Z"
    }
   },
   "outputs": [],
   "source": [
    "stat_totals = pd.concat(dfs1)\n",
    "stat_totals.to_csv(\"stat_totals.csv\")"
   ]
  },
  {
   "cell_type": "code",
   "execution_count": 29,
   "id": "3d0edf4df79ea3a",
   "metadata": {
    "ExecuteTime": {
     "end_time": "2024-05-28T14:05:08.944690Z",
     "start_time": "2024-05-28T14:05:08.942717Z"
    }
   },
   "outputs": [],
   "source": [
    "#Saving Regular Season Per 100 Games Stats"
   ]
  },
  {
   "cell_type": "code",
   "execution_count": 7,
   "id": "eeff77bef5162705",
   "metadata": {
    "ExecuteTime": {
     "end_time": "2024-07-17T15:42:03.579810Z",
     "start_time": "2024-07-17T15:41:58.341948Z"
    }
   },
   "outputs": [],
   "source": [
    "dfs2 = []\n",
    "for year in years:\n",
    "    with open(\"seasons/{}.html\".format(year)) as f:\n",
    "        page2 = f.read()\n",
    "    soup2 = BeautifulSoup(page2, \"html.parser\")\n",
    "    per_100_table = soup2.find(id=\"per_poss-team\")\n",
    "    per_100_stats = pd.read_html(StringIO(str(per_100_table)))[0]\n",
    "    dfs2.append(per_100_stats)"
   ]
  },
  {
   "cell_type": "code",
   "execution_count": 37,
   "id": "4716ee2ec2fcfe1b",
   "metadata": {
    "ExecuteTime": {
     "end_time": "2024-05-28T14:06:24.426635Z",
     "start_time": "2024-05-28T14:06:24.423889Z"
    }
   },
   "outputs": [],
   "source": [
    "per_100 = pd.concat(dfs2)\n",
    "per_100.to_csv(\"per_100.csv\")"
   ]
  },
  {
   "cell_type": "code",
   "execution_count": null,
   "id": "ad33706174a45564",
   "metadata": {},
   "outputs": [],
   "source": [
    "#Saving Regular Season Advanced Stats"
   ]
  },
  {
   "cell_type": "code",
   "execution_count": 18,
   "id": "121768a46f59d6a2",
   "metadata": {
    "ExecuteTime": {
     "end_time": "2024-07-17T15:29:10.116099Z",
     "start_time": "2024-07-17T15:29:04.841729Z"
    }
   },
   "outputs": [],
   "source": [
    "dfs3 = []\n",
    "for year in years:\n",
    "    with open(\"seasons/{}.html\".format(year)) as f:\n",
    "        page3 = f.read()\n",
    "    soup3 = BeautifulSoup(page3, \"html.parser\")\n",
    "    adv_table = soup3.find(id=\"advanced-team\")\n",
    "    adv_stats = pd.read_html(StringIO(str(adv_table)))[0]\n",
    "    dfs3.append(adv_stats)"
   ]
  },
  {
   "cell_type": "code",
   "execution_count": 46,
   "id": "86eace6e444cb372",
   "metadata": {
    "ExecuteTime": {
     "end_time": "2024-05-28T14:08:33.980749Z",
     "start_time": "2024-05-28T14:08:33.976153Z"
    }
   },
   "outputs": [],
   "source": [
    "adv_statistics = pd.concat(dfs3)\n",
    "adv_statistics.to_csv(\"adv_statistics.csv\")"
   ]
  },
  {
   "cell_type": "code",
   "execution_count": null,
   "id": "670862a05dd08a30",
   "metadata": {},
   "outputs": [],
   "source": [
    "#Saving Regular Season Shooting Stats"
   ]
  },
  {
   "cell_type": "code",
   "execution_count": 8,
   "id": "2a07393c29250ab3",
   "metadata": {
    "ExecuteTime": {
     "end_time": "2024-07-18T03:02:04.047922Z",
     "start_time": "2024-07-18T03:01:58.780920Z"
    }
   },
   "outputs": [],
   "source": [
    "dfs4 = []\n",
    "for year in years:\n",
    "    with open(\"seasons/{}.html\".format(year)) as f:\n",
    "        page4 = f.read()\n",
    "    soup4 = BeautifulSoup(page4, \"html.parser\")\n",
    "    shooting_table = soup4.find_all(id=\"shooting-team\")\n",
    "    shooting_stats_table = pd.read_html(StringIO(str(shooting_table)))[0]\n",
    "    dfs4.append(shooting_stats_table)"
   ]
  },
  {
   "cell_type": "code",
   "execution_count": null,
   "id": "959938fc782562da",
   "metadata": {},
   "outputs": [],
   "source": [
    "reg_season_shooting_stats = pd.concat(dfs4)\n",
    "reg_season_shooting_stats.to_csv(\"reg_season_shooting_stats.csv\")"
   ]
  }
 ],
 "metadata": {
  "kernelspec": {
   "display_name": "Python 3 (ipykernel)",
   "language": "python",
   "name": "python3"
  },
  "language_info": {
   "codemirror_mode": {
    "name": "ipython",
    "version": 3
   },
   "file_extension": ".py",
   "mimetype": "text/x-python",
   "name": "python",
   "nbconvert_exporter": "python",
   "pygments_lexer": "ipython3",
   "version": "3.12.0"
  }
 },
 "nbformat": 4,
 "nbformat_minor": 5
}
