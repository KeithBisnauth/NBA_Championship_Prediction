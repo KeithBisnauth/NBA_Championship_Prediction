{
 "cells": [
  {
   "cell_type": "code",
   "outputs": [],
   "source": [
    "import pandas as pd"
   ],
   "metadata": {
    "collapsed": false,
    "ExecuteTime": {
     "end_time": "2024-06-10T15:30:49.228090Z",
     "start_time": "2024-06-10T15:30:49.226433Z"
    }
   },
   "id": "ab31a23dac6e8677",
   "execution_count": 1
  },
  {
   "cell_type": "code",
   "outputs": [],
   "source": [
    "# Load the dataset (A manually edited version of the dataset found of Kaggle that removed columns and added a 'Season' column)\n",
    "\n",
    "data = pd.read_csv(\"NBA Player Injury Stats.csv\")"
   ],
   "metadata": {
    "collapsed": false,
    "ExecuteTime": {
     "end_time": "2024-06-10T15:34:51.640520Z",
     "start_time": "2024-06-10T15:34:51.605245Z"
    }
   },
   "id": "3745c2d3119a8092",
   "execution_count": 6
  },
  {
   "cell_type": "code",
   "outputs": [],
   "source": [
    "# Ensure the 'Date' column is formatted correctly \n",
    "data['Date'] = pd.to_datetime(data['Date'])"
   ],
   "metadata": {
    "collapsed": false,
    "ExecuteTime": {
     "end_time": "2024-06-10T15:34:52.370462Z",
     "start_time": "2024-06-10T15:34:52.363668Z"
    }
   },
   "id": "4e22f086e0dc8df4",
   "execution_count": 7
  },
  {
   "cell_type": "code",
   "outputs": [],
   "source": [
    "# Start a dictionary to keep track of players' inactive and active dates by season\n",
    "player_status = {}\n",
    "\n",
    "for index, row in data.iterrows():\n",
    "    player = row['Inactive']\n",
    "    team = row['Team']\n",
    "    date = row['Date']\n",
    "    season = row['Season']\n",
    "\n",
    "# Looking for when a player is inactive (injured)\n",
    "    if pd.notna(player):  \n",
    "        if player not in player_status:\n",
    "            player_status[player] = {}\n",
    "        if season not in player_status[player]:\n",
    "            player_status[player][season] = {'team': team, 'inactive_dates': [], 'active_dates': []}\n",
    "        player_status[player][season]['inactive_dates'].append(date)\n",
    "    else:\n",
    "        player = row['Active']\n",
    "        if pd.notna(player):  # When a player rejoins the lineup \n",
    "            if player in player_status and season in player_status[player]:\n",
    "                player_status[player][season]['active_dates'].append(date)"
   ],
   "metadata": {
    "collapsed": false,
    "ExecuteTime": {
     "end_time": "2024-06-10T15:34:53.787991Z",
     "start_time": "2024-06-10T15:34:53.074716Z"
    }
   },
   "id": "51463679b7a88c9c",
   "execution_count": 8
  },
  {
   "cell_type": "code",
   "outputs": [],
   "source": [
    "# Calculate the total inactive days for each team for each season\n",
    "team_inactive_days = {}\n",
    "\n",
    "for player, seasons in player_status.items():\n",
    "    for season, info in seasons.items():\n",
    "        inactive_dates = sorted(info['inactive_dates'])\n",
    "        active_dates = sorted(info['active_dates'])\n",
    "        team = info['team']\n",
    "\n",
    "        # Calculate the inactive periods\n",
    "        total_inactive_days = 0\n",
    "        for i, inactive_date in enumerate(inactive_dates):\n",
    "            if i < len(active_dates):\n",
    "                active_date = active_dates[i]\n",
    "                inactive_period = (active_date - inactive_date).days\n",
    "                total_inactive_days += inactive_period\n",
    "\n",
    "        if (team, season) not in team_inactive_days:\n",
    "            team_inactive_days[(team, season)] = 0\n",
    "        team_inactive_days[(team, season)] += total_inactive_days"
   ],
   "metadata": {
    "collapsed": false,
    "ExecuteTime": {
     "end_time": "2024-06-10T15:35:10.756319Z",
     "start_time": "2024-06-10T15:35:10.710816Z"
    }
   },
   "id": "bfdaee50dae926ef",
   "execution_count": 9
  },
  {
   "cell_type": "code",
   "outputs": [],
   "source": [
    "# Save as Dataframe\n",
    "team_inactive_days_df = pd.DataFrame(list(team_inactive_days.items()), columns=['Team_Season', 'Total Inactive Days'])\n",
    "team_inactive_days_df[['Team', 'Season']] = pd.DataFrame(team_inactive_days_df['Team_Season'].tolist(), index=team_inactive_days_df.index)\n",
    "team_inactive_days_df.drop(columns=['Team_Season'], inplace=True)"
   ],
   "metadata": {
    "collapsed": false,
    "ExecuteTime": {
     "end_time": "2024-06-10T15:35:30.479864Z",
     "start_time": "2024-06-10T15:35:30.472673Z"
    }
   },
   "id": "15de6991d61667d0",
   "execution_count": 11
  },
  {
   "cell_type": "code",
   "outputs": [
    {
     "data": {
      "text/plain": "     Total Inactive Days       Team  Season\n0                    383    Blazers    1997\n1                    499    Blazers    1998\n2                    327    Blazers    1999\n3                    504    Blazers    2000\n4                    397     Pacers    2005\n..                   ...        ...     ...\n798                  602  Grizzlies    2022\n799                  377      Spurs    2023\n800                  219    Thunder    2023\n801                  131      Bulls    2019\n802                  522    Raptors    2022\n\n[803 rows x 3 columns]",
      "text/html": "<div>\n<style scoped>\n    .dataframe tbody tr th:only-of-type {\n        vertical-align: middle;\n    }\n\n    .dataframe tbody tr th {\n        vertical-align: top;\n    }\n\n    .dataframe thead th {\n        text-align: right;\n    }\n</style>\n<table border=\"1\" class=\"dataframe\">\n  <thead>\n    <tr style=\"text-align: right;\">\n      <th></th>\n      <th>Total Inactive Days</th>\n      <th>Team</th>\n      <th>Season</th>\n    </tr>\n  </thead>\n  <tbody>\n    <tr>\n      <th>0</th>\n      <td>383</td>\n      <td>Blazers</td>\n      <td>1997</td>\n    </tr>\n    <tr>\n      <th>1</th>\n      <td>499</td>\n      <td>Blazers</td>\n      <td>1998</td>\n    </tr>\n    <tr>\n      <th>2</th>\n      <td>327</td>\n      <td>Blazers</td>\n      <td>1999</td>\n    </tr>\n    <tr>\n      <th>3</th>\n      <td>504</td>\n      <td>Blazers</td>\n      <td>2000</td>\n    </tr>\n    <tr>\n      <th>4</th>\n      <td>397</td>\n      <td>Pacers</td>\n      <td>2005</td>\n    </tr>\n    <tr>\n      <th>...</th>\n      <td>...</td>\n      <td>...</td>\n      <td>...</td>\n    </tr>\n    <tr>\n      <th>798</th>\n      <td>602</td>\n      <td>Grizzlies</td>\n      <td>2022</td>\n    </tr>\n    <tr>\n      <th>799</th>\n      <td>377</td>\n      <td>Spurs</td>\n      <td>2023</td>\n    </tr>\n    <tr>\n      <th>800</th>\n      <td>219</td>\n      <td>Thunder</td>\n      <td>2023</td>\n    </tr>\n    <tr>\n      <th>801</th>\n      <td>131</td>\n      <td>Bulls</td>\n      <td>2019</td>\n    </tr>\n    <tr>\n      <th>802</th>\n      <td>522</td>\n      <td>Raptors</td>\n      <td>2022</td>\n    </tr>\n  </tbody>\n</table>\n<p>803 rows × 3 columns</p>\n</div>"
     },
     "execution_count": 15,
     "metadata": {},
     "output_type": "execute_result"
    }
   ],
   "source": [
    "team_inactive_days_df"
   ],
   "metadata": {
    "collapsed": false,
    "ExecuteTime": {
     "end_time": "2024-06-10T15:37:44.769230Z",
     "start_time": "2024-06-10T15:37:44.758832Z"
    }
   },
   "id": "3b9f744945f709a2",
   "execution_count": 15
  },
  {
   "cell_type": "code",
   "outputs": [],
   "source": [
    "# Save as csv"
   ],
   "metadata": {
    "collapsed": false
   },
   "id": "bf77ea98dae801cb"
  },
  {
   "cell_type": "code",
   "outputs": [],
   "source": [
    "team_inactive_days_df.to_csv(\"team_inactive_days.csv\")"
   ],
   "metadata": {
    "collapsed": false,
    "ExecuteTime": {
     "end_time": "2024-06-11T13:42:39.186984Z",
     "start_time": "2024-06-11T13:42:39.171364Z"
    }
   },
   "id": "80ae28d6cb9429b8",
   "execution_count": 16
  },
  {
   "cell_type": "code",
   "outputs": [],
   "source": [
    "# Change team names to full team names"
   ],
   "metadata": {
    "collapsed": false
   },
   "id": "3148c77f1899c446"
  },
  {
   "cell_type": "code",
   "outputs": [
    {
     "name": "stdout",
     "output_type": "stream",
     "text": [
      "['Blazers', 'Pacers', 'Raptors', 'Heat', 'Celtics', 'Suns', 'Warriors', 'Grizzlies', 'Spurs', 'Knicks', 'Nets', 'Sonics', '76ers', 'Bucks', 'Rockets', 'Bullets', 'Bulls', 'Cavaliers', 'Wizards', 'Magic', 'Clippers', 'Kings', 'Mavericks', 'Hornets', 'Jazz', 'Lakers', 'Nuggets', 'Pistons', 'Timberwolves', 'Hawks', 'Bobcats', 'Thunder', 'Pelicans']\n"
     ]
    }
   ],
   "source": [
    "data = pd.read_csv(\"team_inactive_days.csv\")\n",
    "\n",
    "unique_teams = data['Team'].unique()\n",
    "\n",
    "print(unique_teams.tolist())"
   ],
   "metadata": {
    "collapsed": false,
    "ExecuteTime": {
     "end_time": "2024-06-11T13:53:43.825046Z",
     "start_time": "2024-06-11T13:53:43.809888Z"
    }
   },
   "id": "9745918944785db7",
   "execution_count": 17
  },
  {
   "cell_type": "code",
   "outputs": [],
   "source": [
    "team_full_names = {\n",
    "    'Blazers': 'Portland Trail Blazers',\n",
    "    'Pacers': 'Indiana Pacers',\n",
    "    'Raptors': 'Toronto Raptors',\n",
    "    'Heat': 'Miami Heat',\n",
    "    'Celtics': 'Boston Celtics',\n",
    "    'Suns': 'Phoenix Suns',\n",
    "    'Warriors': 'Golden State Warriors',\n",
    "    'Grizzlies': 'Memphis Grizzlies',\n",
    "    'Spurs': 'San Antonio Spurs',\n",
    "    'Knicks': 'New York Knicks',\n",
    "    'Nets': 'Brooklyn Nets',\n",
    "    'Sonics': 'Seattle SuperSonics',\n",
    "    '76ers': 'Philadelphia 76ers',\n",
    "    'Bucks': 'Milwaukee Bucks',\n",
    "    'Rockets': 'Houston Rockets',\n",
    "    'Bullets': 'Washington Bullets',\n",
    "    'Bulls': 'Chicago Bulls',\n",
    "    'Cavaliers': 'Cleveland Cavaliers',\n",
    "    'Wizards': 'Washington Wizards',\n",
    "    'Magic': 'Orlando Magic',\n",
    "    'Clippers': 'Los Angeles Clippers',\n",
    "    'Kings': 'Sacramento Kings',\n",
    "    'Mavericks': 'Dallas Mavericks',\n",
    "    'Hornets': 'Charlotte Hornets',\n",
    "    'Jazz': 'Utah Jazz',\n",
    "    'Lakers': 'Los Angeles Lakers',\n",
    "    'Nuggets': 'Denver Nuggets',\n",
    "    'Pistons': 'Detroit Pistons',\n",
    "    'Timberwolves': 'Minnesota Timberwolves',\n",
    "    'Hawks': 'Atlanta Hawks',\n",
    "    'Bobcats': 'Charlotte Bobcats',\n",
    "    'Thunder': 'Oklahoma City Thunder',\n",
    "    'Pelicans': 'New Orleans Pelicans'\n",
    "}"
   ],
   "metadata": {
    "collapsed": false,
    "ExecuteTime": {
     "end_time": "2024-06-11T13:56:06.106204Z",
     "start_time": "2024-06-11T13:56:06.101365Z"
    }
   },
   "id": "a5863c0da03db67a",
   "execution_count": 18
  },
  {
   "cell_type": "code",
   "outputs": [],
   "source": [
    "data[\"Team\"] = data[\"Team\"].replace(team_full_names)"
   ],
   "metadata": {
    "collapsed": false,
    "ExecuteTime": {
     "end_time": "2024-06-11T13:56:43.211692Z",
     "start_time": "2024-06-11T13:56:43.203982Z"
    }
   },
   "id": "25c2600648ec8469",
   "execution_count": 19
  },
  {
   "cell_type": "code",
   "outputs": [
    {
     "data": {
      "text/plain": "     Unnamed: 0  Total Inactive Days                    Team  Season\n0             0                  383  Portland Trail Blazers    1997\n1             1                  499  Portland Trail Blazers    1998\n2             2                  327  Portland Trail Blazers    1999\n3             3                  504  Portland Trail Blazers    2000\n4             4                  397          Indiana Pacers    2005\n..          ...                  ...                     ...     ...\n798         798                  602       Memphis Grizzlies    2022\n799         799                  377       San Antonio Spurs    2023\n800         800                  219   Oklahoma City Thunder    2023\n801         801                  131           Chicago Bulls    2019\n802         802                  522         Toronto Raptors    2022\n\n[803 rows x 4 columns]",
      "text/html": "<div>\n<style scoped>\n    .dataframe tbody tr th:only-of-type {\n        vertical-align: middle;\n    }\n\n    .dataframe tbody tr th {\n        vertical-align: top;\n    }\n\n    .dataframe thead th {\n        text-align: right;\n    }\n</style>\n<table border=\"1\" class=\"dataframe\">\n  <thead>\n    <tr style=\"text-align: right;\">\n      <th></th>\n      <th>Unnamed: 0</th>\n      <th>Total Inactive Days</th>\n      <th>Team</th>\n      <th>Season</th>\n    </tr>\n  </thead>\n  <tbody>\n    <tr>\n      <th>0</th>\n      <td>0</td>\n      <td>383</td>\n      <td>Portland Trail Blazers</td>\n      <td>1997</td>\n    </tr>\n    <tr>\n      <th>1</th>\n      <td>1</td>\n      <td>499</td>\n      <td>Portland Trail Blazers</td>\n      <td>1998</td>\n    </tr>\n    <tr>\n      <th>2</th>\n      <td>2</td>\n      <td>327</td>\n      <td>Portland Trail Blazers</td>\n      <td>1999</td>\n    </tr>\n    <tr>\n      <th>3</th>\n      <td>3</td>\n      <td>504</td>\n      <td>Portland Trail Blazers</td>\n      <td>2000</td>\n    </tr>\n    <tr>\n      <th>4</th>\n      <td>4</td>\n      <td>397</td>\n      <td>Indiana Pacers</td>\n      <td>2005</td>\n    </tr>\n    <tr>\n      <th>...</th>\n      <td>...</td>\n      <td>...</td>\n      <td>...</td>\n      <td>...</td>\n    </tr>\n    <tr>\n      <th>798</th>\n      <td>798</td>\n      <td>602</td>\n      <td>Memphis Grizzlies</td>\n      <td>2022</td>\n    </tr>\n    <tr>\n      <th>799</th>\n      <td>799</td>\n      <td>377</td>\n      <td>San Antonio Spurs</td>\n      <td>2023</td>\n    </tr>\n    <tr>\n      <th>800</th>\n      <td>800</td>\n      <td>219</td>\n      <td>Oklahoma City Thunder</td>\n      <td>2023</td>\n    </tr>\n    <tr>\n      <th>801</th>\n      <td>801</td>\n      <td>131</td>\n      <td>Chicago Bulls</td>\n      <td>2019</td>\n    </tr>\n    <tr>\n      <th>802</th>\n      <td>802</td>\n      <td>522</td>\n      <td>Toronto Raptors</td>\n      <td>2022</td>\n    </tr>\n  </tbody>\n</table>\n<p>803 rows × 4 columns</p>\n</div>"
     },
     "execution_count": 20,
     "metadata": {},
     "output_type": "execute_result"
    }
   ],
   "source": [
    "data"
   ],
   "metadata": {
    "collapsed": false,
    "ExecuteTime": {
     "end_time": "2024-06-11T13:56:47.281185Z",
     "start_time": "2024-06-11T13:56:47.276267Z"
    }
   },
   "id": "74975eba46f5d069",
   "execution_count": 20
  },
  {
   "cell_type": "code",
   "outputs": [],
   "source": [
    "data.to_csv(\"total_inactive_days_1.csv\")"
   ],
   "metadata": {
    "collapsed": false,
    "ExecuteTime": {
     "end_time": "2024-06-11T13:57:34.205333Z",
     "start_time": "2024-06-11T13:57:34.199152Z"
    }
   },
   "id": "f93c843b38caf3ca",
   "execution_count": 21
  },
  {
   "cell_type": "code",
   "outputs": [],
   "source": [
    "# Changing team names for teams that were relocated and have a name change throughout the dataset"
   ],
   "metadata": {
    "collapsed": false
   },
   "id": "5020722b27e9163e"
  },
  {
   "cell_type": "code",
   "outputs": [],
   "source": [
    "def replace_team (row):\n",
    "    if row[\"Season\"] < 2013 and row[\"Team\"] == 'Brooklyn Nets':\n",
    "        return 'New Jersey Nets'\n",
    "    return row ['Team']\n",
    "\n",
    "data[\"Team\"] = data.apply(replace_team, axis=1)"
   ],
   "metadata": {
    "collapsed": false,
    "ExecuteTime": {
     "end_time": "2024-06-16T14:22:57.407299Z",
     "start_time": "2024-06-16T14:22:57.355145Z"
    }
   },
   "id": "c6b98d358078de5b",
   "execution_count": 22
  },
  {
   "cell_type": "code",
   "outputs": [
    {
     "data": {
      "text/plain": "     Unnamed: 0  Total Inactive Days                    Team  Season\n0             0                  383  Portland Trail Blazers    1997\n1             1                  499  Portland Trail Blazers    1998\n2             2                  327  Portland Trail Blazers    1999\n3             3                  504  Portland Trail Blazers    2000\n4             4                  397          Indiana Pacers    2005\n..          ...                  ...                     ...     ...\n798         798                  602       Memphis Grizzlies    2022\n799         799                  377       San Antonio Spurs    2023\n800         800                  219   Oklahoma City Thunder    2023\n801         801                  131           Chicago Bulls    2019\n802         802                  522         Toronto Raptors    2022\n\n[803 rows x 4 columns]",
      "text/html": "<div>\n<style scoped>\n    .dataframe tbody tr th:only-of-type {\n        vertical-align: middle;\n    }\n\n    .dataframe tbody tr th {\n        vertical-align: top;\n    }\n\n    .dataframe thead th {\n        text-align: right;\n    }\n</style>\n<table border=\"1\" class=\"dataframe\">\n  <thead>\n    <tr style=\"text-align: right;\">\n      <th></th>\n      <th>Unnamed: 0</th>\n      <th>Total Inactive Days</th>\n      <th>Team</th>\n      <th>Season</th>\n    </tr>\n  </thead>\n  <tbody>\n    <tr>\n      <th>0</th>\n      <td>0</td>\n      <td>383</td>\n      <td>Portland Trail Blazers</td>\n      <td>1997</td>\n    </tr>\n    <tr>\n      <th>1</th>\n      <td>1</td>\n      <td>499</td>\n      <td>Portland Trail Blazers</td>\n      <td>1998</td>\n    </tr>\n    <tr>\n      <th>2</th>\n      <td>2</td>\n      <td>327</td>\n      <td>Portland Trail Blazers</td>\n      <td>1999</td>\n    </tr>\n    <tr>\n      <th>3</th>\n      <td>3</td>\n      <td>504</td>\n      <td>Portland Trail Blazers</td>\n      <td>2000</td>\n    </tr>\n    <tr>\n      <th>4</th>\n      <td>4</td>\n      <td>397</td>\n      <td>Indiana Pacers</td>\n      <td>2005</td>\n    </tr>\n    <tr>\n      <th>...</th>\n      <td>...</td>\n      <td>...</td>\n      <td>...</td>\n      <td>...</td>\n    </tr>\n    <tr>\n      <th>798</th>\n      <td>798</td>\n      <td>602</td>\n      <td>Memphis Grizzlies</td>\n      <td>2022</td>\n    </tr>\n    <tr>\n      <th>799</th>\n      <td>799</td>\n      <td>377</td>\n      <td>San Antonio Spurs</td>\n      <td>2023</td>\n    </tr>\n    <tr>\n      <th>800</th>\n      <td>800</td>\n      <td>219</td>\n      <td>Oklahoma City Thunder</td>\n      <td>2023</td>\n    </tr>\n    <tr>\n      <th>801</th>\n      <td>801</td>\n      <td>131</td>\n      <td>Chicago Bulls</td>\n      <td>2019</td>\n    </tr>\n    <tr>\n      <th>802</th>\n      <td>802</td>\n      <td>522</td>\n      <td>Toronto Raptors</td>\n      <td>2022</td>\n    </tr>\n  </tbody>\n</table>\n<p>803 rows × 4 columns</p>\n</div>"
     },
     "execution_count": 24,
     "metadata": {},
     "output_type": "execute_result"
    }
   ],
   "source": [
    "data"
   ],
   "metadata": {
    "collapsed": false,
    "ExecuteTime": {
     "end_time": "2024-06-16T14:23:08.050744Z",
     "start_time": "2024-06-16T14:23:08.042150Z"
    }
   },
   "id": "f883c16b219799b3",
   "execution_count": 24
  },
  {
   "cell_type": "code",
   "outputs": [],
   "source": [
    "def replace_team_1 (row):\n",
    "    if 2005 <= row[\"Season\"] <= 2014 and row[\"Team\"] == 'Charlotte Hornets':\n",
    "        return 'Charlotte Bobcats'\n",
    "    return row ['Team']\n",
    "\n",
    "data[\"Team\"] = data.apply(replace_team_1, axis=1)"
   ],
   "metadata": {
    "collapsed": false,
    "ExecuteTime": {
     "end_time": "2024-06-16T14:30:15.852414Z",
     "start_time": "2024-06-16T14:30:15.842790Z"
    }
   },
   "id": "46c2a1efa87682b7",
   "execution_count": 25
  },
  {
   "cell_type": "markdown",
   "source": [],
   "metadata": {
    "collapsed": false
   },
   "id": "b6f90e4c0a310776"
  },
  {
   "cell_type": "code",
   "outputs": [],
   "source": [
    "#Save as csv and merge with total stats file"
   ],
   "metadata": {
    "collapsed": false
   },
   "id": "3226cf93752c0469"
  },
  {
   "cell_type": "code",
   "outputs": [],
   "source": [
    "data.to_csv(\"total_inactive_days_2.csv\")"
   ],
   "metadata": {
    "collapsed": false,
    "ExecuteTime": {
     "end_time": "2024-06-16T15:16:16.737990Z",
     "start_time": "2024-06-16T15:16:16.731430Z"
    }
   },
   "id": "e53fabefb6025d99",
   "execution_count": 34
  },
  {
   "cell_type": "code",
   "outputs": [],
   "source": [
    "inactive = pd.read_csv(\"total_inactive_days_2.csv\")"
   ],
   "metadata": {
    "collapsed": false,
    "ExecuteTime": {
     "end_time": "2024-06-17T13:22:11.074885Z",
     "start_time": "2024-06-17T13:22:11.068843Z"
    }
   },
   "id": "528aab8bfef8e702",
   "execution_count": 54
  },
  {
   "cell_type": "code",
   "outputs": [],
   "source": [
    "total_stats = pd.read_csv(\"final_stats_NBA.csv\")"
   ],
   "metadata": {
    "collapsed": false,
    "ExecuteTime": {
     "end_time": "2024-06-17T13:22:13.482240Z",
     "start_time": "2024-06-17T13:22:13.468440Z"
    }
   },
   "id": "83a10b74300b5740",
   "execution_count": 55
  },
  {
   "cell_type": "code",
   "outputs": [],
   "source": [
    "total = total_stats.merge(inactive, how='outer', on=[\"Team\", \"Season\"])"
   ],
   "metadata": {
    "collapsed": false,
    "ExecuteTime": {
     "end_time": "2024-06-17T13:22:14.870854Z",
     "start_time": "2024-06-17T13:22:14.863516Z"
    }
   },
   "id": "bef8bc7d002b3926",
   "execution_count": 56
  },
  {
   "cell_type": "code",
   "outputs": [
    {
     "data": {
      "text/plain": "                   Team   G  MP Per Game  FG Per Game  FGA Per Game  \\\n0         Atlanta Hawks  82        241.5         34.3          76.9   \n1         Atlanta Hawks  82        242.4         35.2          77.5   \n2         Atlanta Hawks  50        241.5         30.8          75.2   \n3         Atlanta Hawks  82        241.8         36.6          83.0   \n4         Atlanta Hawks  82        240.6         35.1          81.3   \n..                  ...  ..          ...          ...           ...   \n801  Washington Wizards  82        243.0         42.1          90.1   \n802  Washington Wizards  72        241.0         41.5          90.9   \n803  Washington Wizards  72        241.7         43.2          90.9   \n804  Washington Wizards  82        241.8         40.6          86.0   \n805  Washington Wizards  82        240.9         42.1          86.9   \n\n     3P Per Game  3PA Per Game  2P Per Game  2PA Per Game  FT Per Game  ...  \\\n0            8.0          22.4         26.3          54.5         18.2  ...   \n1            4.1          12.4         31.1          65.1         21.3  ...   \n2            3.9          12.9         26.8          62.3         20.8  ...   \n3            3.1           9.9         33.4          73.1         18.0  ...   \n4            4.1          11.4         31.0          69.9         16.8  ...   \n..           ...           ...          ...           ...          ...  ...   \n801         11.3          33.3         30.8          56.8         18.4  ...   \n802         12.0          32.6         29.5          58.3         19.4  ...   \n803         10.2          29.0         33.0          61.9         20.1  ...   \n804         10.5          30.6         30.1          55.4         17.0  ...   \n805         11.3          31.7         30.9          55.2         17.6  ...   \n\n     G (PF)  W (PF)  L (PF)  G (P Car)  W (P Car)  L (P Car)  \\\n0        34      13      21        144         68         76   \n1        38      14      24        148         69         79   \n2        47      17      30        157         72         85   \n3        47      17      30        157         72         85   \n4         0       0       0          0          0          0   \n..      ...     ...     ...        ...        ...        ...   \n801      19       9      10         92         48         44   \n802      19       9      10         92         48         44   \n803      24      10      14         97         49         48   \n804       0       0       0          0          0          0   \n805       0       0       0          0          0          0   \n\n     top 3 conference  rk conference  count_playoff_games  Total Inactive Days  \n0                 0.0            4.0                154.0                  282  \n1                 0.0            5.0                269.0                  234  \n2                 0.0            4.0                314.0                   86  \n3                 0.0           14.0                  0.0                  124  \n4                 0.0           13.0                  0.0                  292  \n..                ...            ...                  ...                  ...  \n801               0.0            9.0                  0.0                  193  \n802               0.0           10.0                  0.0                  674  \n803               0.0            9.0                  0.0                  165  \n804               0.0           14.0                100.0                  387  \n805               NaN            NaN                  NaN                  231  \n\n[806 rows x 106 columns]",
      "text/html": "<div>\n<style scoped>\n    .dataframe tbody tr th:only-of-type {\n        vertical-align: middle;\n    }\n\n    .dataframe tbody tr th {\n        vertical-align: top;\n    }\n\n    .dataframe thead th {\n        text-align: right;\n    }\n</style>\n<table border=\"1\" class=\"dataframe\">\n  <thead>\n    <tr style=\"text-align: right;\">\n      <th></th>\n      <th>Team</th>\n      <th>G</th>\n      <th>MP Per Game</th>\n      <th>FG Per Game</th>\n      <th>FGA Per Game</th>\n      <th>3P Per Game</th>\n      <th>3PA Per Game</th>\n      <th>2P Per Game</th>\n      <th>2PA Per Game</th>\n      <th>FT Per Game</th>\n      <th>...</th>\n      <th>G (PF)</th>\n      <th>W (PF)</th>\n      <th>L (PF)</th>\n      <th>G (P Car)</th>\n      <th>W (P Car)</th>\n      <th>L (P Car)</th>\n      <th>top 3 conference</th>\n      <th>rk conference</th>\n      <th>count_playoff_games</th>\n      <th>Total Inactive Days</th>\n    </tr>\n  </thead>\n  <tbody>\n    <tr>\n      <th>0</th>\n      <td>Atlanta Hawks</td>\n      <td>82</td>\n      <td>241.5</td>\n      <td>34.3</td>\n      <td>76.9</td>\n      <td>8.0</td>\n      <td>22.4</td>\n      <td>26.3</td>\n      <td>54.5</td>\n      <td>18.2</td>\n      <td>...</td>\n      <td>34</td>\n      <td>13</td>\n      <td>21</td>\n      <td>144</td>\n      <td>68</td>\n      <td>76</td>\n      <td>0.0</td>\n      <td>4.0</td>\n      <td>154.0</td>\n      <td>282</td>\n    </tr>\n    <tr>\n      <th>1</th>\n      <td>Atlanta Hawks</td>\n      <td>82</td>\n      <td>242.4</td>\n      <td>35.2</td>\n      <td>77.5</td>\n      <td>4.1</td>\n      <td>12.4</td>\n      <td>31.1</td>\n      <td>65.1</td>\n      <td>21.3</td>\n      <td>...</td>\n      <td>38</td>\n      <td>14</td>\n      <td>24</td>\n      <td>148</td>\n      <td>69</td>\n      <td>79</td>\n      <td>0.0</td>\n      <td>5.0</td>\n      <td>269.0</td>\n      <td>234</td>\n    </tr>\n    <tr>\n      <th>2</th>\n      <td>Atlanta Hawks</td>\n      <td>50</td>\n      <td>241.5</td>\n      <td>30.8</td>\n      <td>75.2</td>\n      <td>3.9</td>\n      <td>12.9</td>\n      <td>26.8</td>\n      <td>62.3</td>\n      <td>20.8</td>\n      <td>...</td>\n      <td>47</td>\n      <td>17</td>\n      <td>30</td>\n      <td>157</td>\n      <td>72</td>\n      <td>85</td>\n      <td>0.0</td>\n      <td>4.0</td>\n      <td>314.0</td>\n      <td>86</td>\n    </tr>\n    <tr>\n      <th>3</th>\n      <td>Atlanta Hawks</td>\n      <td>82</td>\n      <td>241.8</td>\n      <td>36.6</td>\n      <td>83.0</td>\n      <td>3.1</td>\n      <td>9.9</td>\n      <td>33.4</td>\n      <td>73.1</td>\n      <td>18.0</td>\n      <td>...</td>\n      <td>47</td>\n      <td>17</td>\n      <td>30</td>\n      <td>157</td>\n      <td>72</td>\n      <td>85</td>\n      <td>0.0</td>\n      <td>14.0</td>\n      <td>0.0</td>\n      <td>124</td>\n    </tr>\n    <tr>\n      <th>4</th>\n      <td>Atlanta Hawks</td>\n      <td>82</td>\n      <td>240.6</td>\n      <td>35.1</td>\n      <td>81.3</td>\n      <td>4.1</td>\n      <td>11.4</td>\n      <td>31.0</td>\n      <td>69.9</td>\n      <td>16.8</td>\n      <td>...</td>\n      <td>0</td>\n      <td>0</td>\n      <td>0</td>\n      <td>0</td>\n      <td>0</td>\n      <td>0</td>\n      <td>0.0</td>\n      <td>13.0</td>\n      <td>0.0</td>\n      <td>292</td>\n    </tr>\n    <tr>\n      <th>...</th>\n      <td>...</td>\n      <td>...</td>\n      <td>...</td>\n      <td>...</td>\n      <td>...</td>\n      <td>...</td>\n      <td>...</td>\n      <td>...</td>\n      <td>...</td>\n      <td>...</td>\n      <td>...</td>\n      <td>...</td>\n      <td>...</td>\n      <td>...</td>\n      <td>...</td>\n      <td>...</td>\n      <td>...</td>\n      <td>...</td>\n      <td>...</td>\n      <td>...</td>\n      <td>...</td>\n    </tr>\n    <tr>\n      <th>801</th>\n      <td>Washington Wizards</td>\n      <td>82</td>\n      <td>243.0</td>\n      <td>42.1</td>\n      <td>90.1</td>\n      <td>11.3</td>\n      <td>33.3</td>\n      <td>30.8</td>\n      <td>56.8</td>\n      <td>18.4</td>\n      <td>...</td>\n      <td>19</td>\n      <td>9</td>\n      <td>10</td>\n      <td>92</td>\n      <td>48</td>\n      <td>44</td>\n      <td>0.0</td>\n      <td>9.0</td>\n      <td>0.0</td>\n      <td>193</td>\n    </tr>\n    <tr>\n      <th>802</th>\n      <td>Washington Wizards</td>\n      <td>72</td>\n      <td>241.0</td>\n      <td>41.5</td>\n      <td>90.9</td>\n      <td>12.0</td>\n      <td>32.6</td>\n      <td>29.5</td>\n      <td>58.3</td>\n      <td>19.4</td>\n      <td>...</td>\n      <td>19</td>\n      <td>9</td>\n      <td>10</td>\n      <td>92</td>\n      <td>48</td>\n      <td>44</td>\n      <td>0.0</td>\n      <td>10.0</td>\n      <td>0.0</td>\n      <td>674</td>\n    </tr>\n    <tr>\n      <th>803</th>\n      <td>Washington Wizards</td>\n      <td>72</td>\n      <td>241.7</td>\n      <td>43.2</td>\n      <td>90.9</td>\n      <td>10.2</td>\n      <td>29.0</td>\n      <td>33.0</td>\n      <td>61.9</td>\n      <td>20.1</td>\n      <td>...</td>\n      <td>24</td>\n      <td>10</td>\n      <td>14</td>\n      <td>97</td>\n      <td>49</td>\n      <td>48</td>\n      <td>0.0</td>\n      <td>9.0</td>\n      <td>0.0</td>\n      <td>165</td>\n    </tr>\n    <tr>\n      <th>804</th>\n      <td>Washington Wizards</td>\n      <td>82</td>\n      <td>241.8</td>\n      <td>40.6</td>\n      <td>86.0</td>\n      <td>10.5</td>\n      <td>30.6</td>\n      <td>30.1</td>\n      <td>55.4</td>\n      <td>17.0</td>\n      <td>...</td>\n      <td>0</td>\n      <td>0</td>\n      <td>0</td>\n      <td>0</td>\n      <td>0</td>\n      <td>0</td>\n      <td>0.0</td>\n      <td>14.0</td>\n      <td>100.0</td>\n      <td>387</td>\n    </tr>\n    <tr>\n      <th>805</th>\n      <td>Washington Wizards</td>\n      <td>82</td>\n      <td>240.9</td>\n      <td>42.1</td>\n      <td>86.9</td>\n      <td>11.3</td>\n      <td>31.7</td>\n      <td>30.9</td>\n      <td>55.2</td>\n      <td>17.6</td>\n      <td>...</td>\n      <td>0</td>\n      <td>0</td>\n      <td>0</td>\n      <td>0</td>\n      <td>0</td>\n      <td>0</td>\n      <td>NaN</td>\n      <td>NaN</td>\n      <td>NaN</td>\n      <td>231</td>\n    </tr>\n  </tbody>\n</table>\n<p>806 rows × 106 columns</p>\n</div>"
     },
     "execution_count": 58,
     "metadata": {},
     "output_type": "execute_result"
    }
   ],
   "source": [
    "total"
   ],
   "metadata": {
    "collapsed": false,
    "ExecuteTime": {
     "end_time": "2024-06-17T13:22:52.559154Z",
     "start_time": "2024-06-17T13:22:52.537085Z"
    }
   },
   "id": "fd082166ebbaf36c",
   "execution_count": 58
  },
  {
   "cell_type": "code",
   "outputs": [],
   "source": [
    "total.to_csv(\"combined_newest.csv\")"
   ],
   "metadata": {
    "collapsed": false,
    "ExecuteTime": {
     "end_time": "2024-06-17T13:22:53.721113Z",
     "start_time": "2024-06-17T13:22:53.694491Z"
    }
   },
   "id": "37db2d1af678ab79",
   "execution_count": 59
  },
  {
   "cell_type": "code",
   "outputs": [],
   "source": [],
   "metadata": {
    "collapsed": false
   },
   "id": "85731de10ceb430d"
  }
 ],
 "metadata": {
  "kernelspec": {
   "display_name": "Python 3",
   "language": "python",
   "name": "python3"
  },
  "language_info": {
   "codemirror_mode": {
    "name": "ipython",
    "version": 2
   },
   "file_extension": ".py",
   "mimetype": "text/x-python",
   "name": "python",
   "nbconvert_exporter": "python",
   "pygments_lexer": "ipython2",
   "version": "2.7.6"
  }
 },
 "nbformat": 4,
 "nbformat_minor": 5
}
