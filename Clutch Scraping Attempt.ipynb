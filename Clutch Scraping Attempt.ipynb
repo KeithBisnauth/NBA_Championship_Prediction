{
 "cells": [
  {
   "cell_type": "code",
   "outputs": [],
   "source": [
    "from selenium import webdriver\n",
    "from selenium.webdriver.common.by import By\n",
    "from selenium.webdriver.support.ui import WebDriverWait\n",
    "from selenium.webdriver.support import expected_conditions as EC\n",
    "from selenium.webdriver.chrome.service import Service\n",
    "from webdriver_manager.chrome import ChromeDriverManager\n",
    "import pandas as pd\n",
    "from io import StringIO"
   ],
   "metadata": {
    "collapsed": false,
    "ExecuteTime": {
     "end_time": "2024-07-18T05:26:10.098160Z",
     "start_time": "2024-07-18T05:26:10.019711Z"
    }
   },
   "id": "617b27f60e534a09",
   "execution_count": 1
  },
  {
   "cell_type": "code",
   "outputs": [],
   "source": [
    "# Set up the WebDriver (use the path to your WebDriver executable)\n",
    "driver = webdriver.Chrome(service=Service(ChromeDriverManager().install()))"
   ],
   "metadata": {
    "collapsed": false,
    "ExecuteTime": {
     "end_time": "2024-07-18T05:33:00.112639Z",
     "start_time": "2024-07-18T05:32:57.134991Z"
    }
   },
   "id": "d413f4837e7c0048",
   "execution_count": 11
  },
  {
   "cell_type": "code",
   "outputs": [],
   "source": [
    "# List of seasons to scrape\n",
    "seasons = [f\"{year}-{str(year + 1)[-2:]}\" for year in range(1996, 2023)]"
   ],
   "metadata": {
    "collapsed": false,
    "ExecuteTime": {
     "end_time": "2024-07-18T05:33:09.118344Z",
     "start_time": "2024-07-18T05:33:09.115121Z"
    }
   },
   "id": "62dc07015e570553",
   "execution_count": 12
  },
  {
   "cell_type": "code",
   "outputs": [
    {
     "name": "stdout",
     "output_type": "stream",
     "text": [
      "['1996-97', '1997-98', '1998-99', '1999-00', '2000-01', '2001-02', '2002-03', '2003-04', '2004-05', '2005-06', '2006-07', '2007-08', '2008-09', '2009-10', '2010-11', '2011-12', '2012-13', '2013-14', '2014-15', '2015-16', '2016-17', '2017-18', '2018-19', '2019-20', '2020-21', '2021-22', '2022-23']\n"
     ]
    }
   ],
   "source": [
    "print(seasons)"
   ],
   "metadata": {
    "collapsed": false,
    "ExecuteTime": {
     "end_time": "2024-07-18T05:33:09.684194Z",
     "start_time": "2024-07-18T05:33:09.678844Z"
    }
   },
   "id": "a9024d187ad5ba3a",
   "execution_count": 13
  },
  {
   "cell_type": "code",
   "outputs": [],
   "source": [
    "# Initialize an empty DataFrame to store the data\n",
    "all_data = pd.DataFrame()"
   ],
   "metadata": {
    "collapsed": false,
    "ExecuteTime": {
     "end_time": "2024-07-18T05:33:10.433333Z",
     "start_time": "2024-07-18T05:33:10.429681Z"
    }
   },
   "id": "ff8c6807c216c304",
   "execution_count": 14
  },
  {
   "cell_type": "code",
   "outputs": [
    {
     "name": "stdout",
     "output_type": "stream",
     "text": [
      "Failed to scrape data for season 1996-97: Message: \n",
      "Stacktrace:\n",
      "0   chromedriver                        0x000000010473aa0c chromedriver + 4385292\n",
      "1   chromedriver                        0x0000000104733318 chromedriver + 4354840\n",
      "2   chromedriver                        0x0000000104350b0c chromedriver + 281356\n",
      "3   chromedriver                        0x00000001043932f8 chromedriver + 553720\n",
      "4   chromedriver                        0x00000001043cbd24 chromedriver + 785700\n",
      "5   chromedriver                        0x0000000104387eec chromedriver + 507628\n",
      "6   chromedriver                        0x00000001043888c4 chromedriver + 510148\n",
      "7   chromedriver                        0x00000001047023c8 chromedriver + 4154312\n",
      "8   chromedriver                        0x0000000104706e2c chromedriver + 4173356\n",
      "9   chromedriver                        0x00000001046e7f84 chromedriver + 4046724\n",
      "10  chromedriver                        0x0000000104707718 chromedriver + 4175640\n",
      "11  chromedriver                        0x00000001046daf44 chromedriver + 3993412\n",
      "12  chromedriver                        0x00000001047251a8 chromedriver + 4297128\n",
      "13  chromedriver                        0x0000000104725324 chromedriver + 4297508\n",
      "14  chromedriver                        0x0000000104732f10 chromedriver + 4353808\n",
      "15  libsystem_pthread.dylib             0x000000018819ef94 _pthread_start + 136\n",
      "16  libsystem_pthread.dylib             0x0000000188199d34 thread_start + 8\n"
     ]
    },
    {
     "ename": "KeyboardInterrupt",
     "evalue": "",
     "output_type": "error",
     "traceback": [
      "\u001B[0;31m---------------------------------------------------------------------------\u001B[0m",
      "\u001B[0;31mKeyboardInterrupt\u001B[0m                         Traceback (most recent call last)",
      "Cell \u001B[0;32mIn[15], line 7\u001B[0m\n\u001B[1;32m      4\u001B[0m url \u001B[38;5;241m=\u001B[39m \u001B[38;5;124mf\u001B[39m\u001B[38;5;124m\"\u001B[39m\u001B[38;5;124mhttps://www.nba.com/stats/teams/clutch-four-factors?SeasonType=Regular+Season&Season=\u001B[39m\u001B[38;5;132;01m{\u001B[39;00mseason\u001B[38;5;132;01m}\u001B[39;00m\u001B[38;5;124m\"\u001B[39m\n\u001B[1;32m      6\u001B[0m \u001B[38;5;66;03m# Open the URL\u001B[39;00m\n\u001B[0;32m----> 7\u001B[0m \u001B[43mdriver\u001B[49m\u001B[38;5;241;43m.\u001B[39;49m\u001B[43mget\u001B[49m\u001B[43m(\u001B[49m\u001B[43murl\u001B[49m\u001B[43m)\u001B[49m\n\u001B[1;32m      9\u001B[0m \u001B[38;5;66;03m# Wait for the page to load and the table to be available\u001B[39;00m\n\u001B[1;32m     10\u001B[0m wait \u001B[38;5;241m=\u001B[39m WebDriverWait(driver, \u001B[38;5;241m10\u001B[39m)\n",
      "File \u001B[0;32m~/PycharmProjects/NBA ChampionshIP Prediction/.venv/lib/python3.12/site-packages/selenium/webdriver/remote/webdriver.py:363\u001B[0m, in \u001B[0;36mWebDriver.get\u001B[0;34m(self, url)\u001B[0m\n\u001B[1;32m    361\u001B[0m \u001B[38;5;28;01mdef\u001B[39;00m \u001B[38;5;21mget\u001B[39m(\u001B[38;5;28mself\u001B[39m, url: \u001B[38;5;28mstr\u001B[39m) \u001B[38;5;241m-\u001B[39m\u001B[38;5;241m>\u001B[39m \u001B[38;5;28;01mNone\u001B[39;00m:\n\u001B[1;32m    362\u001B[0m \u001B[38;5;250m    \u001B[39m\u001B[38;5;124;03m\"\"\"Loads a web page in the current browser session.\"\"\"\u001B[39;00m\n\u001B[0;32m--> 363\u001B[0m     \u001B[38;5;28;43mself\u001B[39;49m\u001B[38;5;241;43m.\u001B[39;49m\u001B[43mexecute\u001B[49m\u001B[43m(\u001B[49m\u001B[43mCommand\u001B[49m\u001B[38;5;241;43m.\u001B[39;49m\u001B[43mGET\u001B[49m\u001B[43m,\u001B[49m\u001B[43m \u001B[49m\u001B[43m{\u001B[49m\u001B[38;5;124;43m\"\u001B[39;49m\u001B[38;5;124;43murl\u001B[39;49m\u001B[38;5;124;43m\"\u001B[39;49m\u001B[43m:\u001B[49m\u001B[43m \u001B[49m\u001B[43murl\u001B[49m\u001B[43m}\u001B[49m\u001B[43m)\u001B[49m\n",
      "File \u001B[0;32m~/PycharmProjects/NBA ChampionshIP Prediction/.venv/lib/python3.12/site-packages/selenium/webdriver/remote/webdriver.py:352\u001B[0m, in \u001B[0;36mWebDriver.execute\u001B[0;34m(self, driver_command, params)\u001B[0m\n\u001B[1;32m    349\u001B[0m     \u001B[38;5;28;01melif\u001B[39;00m \u001B[38;5;124m\"\u001B[39m\u001B[38;5;124msessionId\u001B[39m\u001B[38;5;124m\"\u001B[39m \u001B[38;5;129;01mnot\u001B[39;00m \u001B[38;5;129;01min\u001B[39;00m params:\n\u001B[1;32m    350\u001B[0m         params[\u001B[38;5;124m\"\u001B[39m\u001B[38;5;124msessionId\u001B[39m\u001B[38;5;124m\"\u001B[39m] \u001B[38;5;241m=\u001B[39m \u001B[38;5;28mself\u001B[39m\u001B[38;5;241m.\u001B[39msession_id\n\u001B[0;32m--> 352\u001B[0m response \u001B[38;5;241m=\u001B[39m \u001B[38;5;28;43mself\u001B[39;49m\u001B[38;5;241;43m.\u001B[39;49m\u001B[43mcommand_executor\u001B[49m\u001B[38;5;241;43m.\u001B[39;49m\u001B[43mexecute\u001B[49m\u001B[43m(\u001B[49m\u001B[43mdriver_command\u001B[49m\u001B[43m,\u001B[49m\u001B[43m \u001B[49m\u001B[43mparams\u001B[49m\u001B[43m)\u001B[49m\n\u001B[1;32m    353\u001B[0m \u001B[38;5;28;01mif\u001B[39;00m response:\n\u001B[1;32m    354\u001B[0m     \u001B[38;5;28mself\u001B[39m\u001B[38;5;241m.\u001B[39merror_handler\u001B[38;5;241m.\u001B[39mcheck_response(response)\n",
      "File \u001B[0;32m~/PycharmProjects/NBA ChampionshIP Prediction/.venv/lib/python3.12/site-packages/selenium/webdriver/remote/remote_connection.py:302\u001B[0m, in \u001B[0;36mRemoteConnection.execute\u001B[0;34m(self, command, params)\u001B[0m\n\u001B[1;32m    300\u001B[0m trimmed \u001B[38;5;241m=\u001B[39m \u001B[38;5;28mself\u001B[39m\u001B[38;5;241m.\u001B[39m_trim_large_entries(params)\n\u001B[1;32m    301\u001B[0m LOGGER\u001B[38;5;241m.\u001B[39mdebug(\u001B[38;5;124m\"\u001B[39m\u001B[38;5;132;01m%s\u001B[39;00m\u001B[38;5;124m \u001B[39m\u001B[38;5;132;01m%s\u001B[39;00m\u001B[38;5;124m \u001B[39m\u001B[38;5;132;01m%s\u001B[39;00m\u001B[38;5;124m\"\u001B[39m, command_info[\u001B[38;5;241m0\u001B[39m], url, \u001B[38;5;28mstr\u001B[39m(trimmed))\n\u001B[0;32m--> 302\u001B[0m \u001B[38;5;28;01mreturn\u001B[39;00m \u001B[38;5;28;43mself\u001B[39;49m\u001B[38;5;241;43m.\u001B[39;49m\u001B[43m_request\u001B[49m\u001B[43m(\u001B[49m\u001B[43mcommand_info\u001B[49m\u001B[43m[\u001B[49m\u001B[38;5;241;43m0\u001B[39;49m\u001B[43m]\u001B[49m\u001B[43m,\u001B[49m\u001B[43m \u001B[49m\u001B[43murl\u001B[49m\u001B[43m,\u001B[49m\u001B[43m \u001B[49m\u001B[43mbody\u001B[49m\u001B[38;5;241;43m=\u001B[39;49m\u001B[43mdata\u001B[49m\u001B[43m)\u001B[49m\n",
      "File \u001B[0;32m~/PycharmProjects/NBA ChampionshIP Prediction/.venv/lib/python3.12/site-packages/selenium/webdriver/remote/remote_connection.py:322\u001B[0m, in \u001B[0;36mRemoteConnection._request\u001B[0;34m(self, method, url, body)\u001B[0m\n\u001B[1;32m    319\u001B[0m     body \u001B[38;5;241m=\u001B[39m \u001B[38;5;28;01mNone\u001B[39;00m\n\u001B[1;32m    321\u001B[0m \u001B[38;5;28;01mif\u001B[39;00m \u001B[38;5;28mself\u001B[39m\u001B[38;5;241m.\u001B[39mkeep_alive:\n\u001B[0;32m--> 322\u001B[0m     response \u001B[38;5;241m=\u001B[39m \u001B[38;5;28;43mself\u001B[39;49m\u001B[38;5;241;43m.\u001B[39;49m\u001B[43m_conn\u001B[49m\u001B[38;5;241;43m.\u001B[39;49m\u001B[43mrequest\u001B[49m\u001B[43m(\u001B[49m\u001B[43mmethod\u001B[49m\u001B[43m,\u001B[49m\u001B[43m \u001B[49m\u001B[43murl\u001B[49m\u001B[43m,\u001B[49m\u001B[43m \u001B[49m\u001B[43mbody\u001B[49m\u001B[38;5;241;43m=\u001B[39;49m\u001B[43mbody\u001B[49m\u001B[43m,\u001B[49m\u001B[43m \u001B[49m\u001B[43mheaders\u001B[49m\u001B[38;5;241;43m=\u001B[39;49m\u001B[43mheaders\u001B[49m\u001B[43m)\u001B[49m\n\u001B[1;32m    323\u001B[0m     statuscode \u001B[38;5;241m=\u001B[39m response\u001B[38;5;241m.\u001B[39mstatus\n\u001B[1;32m    324\u001B[0m \u001B[38;5;28;01melse\u001B[39;00m:\n",
      "File \u001B[0;32m~/PycharmProjects/NBA ChampionshIP Prediction/.venv/lib/python3.12/site-packages/urllib3/_request_methods.py:144\u001B[0m, in \u001B[0;36mRequestMethods.request\u001B[0;34m(self, method, url, body, fields, headers, json, **urlopen_kw)\u001B[0m\n\u001B[1;32m    136\u001B[0m     \u001B[38;5;28;01mreturn\u001B[39;00m \u001B[38;5;28mself\u001B[39m\u001B[38;5;241m.\u001B[39mrequest_encode_url(\n\u001B[1;32m    137\u001B[0m         method,\n\u001B[1;32m    138\u001B[0m         url,\n\u001B[0;32m   (...)\u001B[0m\n\u001B[1;32m    141\u001B[0m         \u001B[38;5;241m*\u001B[39m\u001B[38;5;241m*\u001B[39murlopen_kw,\n\u001B[1;32m    142\u001B[0m     )\n\u001B[1;32m    143\u001B[0m \u001B[38;5;28;01melse\u001B[39;00m:\n\u001B[0;32m--> 144\u001B[0m     \u001B[38;5;28;01mreturn\u001B[39;00m \u001B[38;5;28;43mself\u001B[39;49m\u001B[38;5;241;43m.\u001B[39;49m\u001B[43mrequest_encode_body\u001B[49m\u001B[43m(\u001B[49m\n\u001B[1;32m    145\u001B[0m \u001B[43m        \u001B[49m\u001B[43mmethod\u001B[49m\u001B[43m,\u001B[49m\u001B[43m \u001B[49m\u001B[43murl\u001B[49m\u001B[43m,\u001B[49m\u001B[43m \u001B[49m\u001B[43mfields\u001B[49m\u001B[38;5;241;43m=\u001B[39;49m\u001B[43mfields\u001B[49m\u001B[43m,\u001B[49m\u001B[43m \u001B[49m\u001B[43mheaders\u001B[49m\u001B[38;5;241;43m=\u001B[39;49m\u001B[43mheaders\u001B[49m\u001B[43m,\u001B[49m\u001B[43m \u001B[49m\u001B[38;5;241;43m*\u001B[39;49m\u001B[38;5;241;43m*\u001B[39;49m\u001B[43murlopen_kw\u001B[49m\n\u001B[1;32m    146\u001B[0m \u001B[43m    \u001B[49m\u001B[43m)\u001B[49m\n",
      "File \u001B[0;32m~/PycharmProjects/NBA ChampionshIP Prediction/.venv/lib/python3.12/site-packages/urllib3/_request_methods.py:279\u001B[0m, in \u001B[0;36mRequestMethods.request_encode_body\u001B[0;34m(self, method, url, fields, headers, encode_multipart, multipart_boundary, **urlopen_kw)\u001B[0m\n\u001B[1;32m    275\u001B[0m     extra_kw[\u001B[38;5;124m\"\u001B[39m\u001B[38;5;124mheaders\u001B[39m\u001B[38;5;124m\"\u001B[39m]\u001B[38;5;241m.\u001B[39msetdefault(\u001B[38;5;124m\"\u001B[39m\u001B[38;5;124mContent-Type\u001B[39m\u001B[38;5;124m\"\u001B[39m, content_type)\n\u001B[1;32m    277\u001B[0m extra_kw\u001B[38;5;241m.\u001B[39mupdate(urlopen_kw)\n\u001B[0;32m--> 279\u001B[0m \u001B[38;5;28;01mreturn\u001B[39;00m \u001B[38;5;28;43mself\u001B[39;49m\u001B[38;5;241;43m.\u001B[39;49m\u001B[43murlopen\u001B[49m\u001B[43m(\u001B[49m\u001B[43mmethod\u001B[49m\u001B[43m,\u001B[49m\u001B[43m \u001B[49m\u001B[43murl\u001B[49m\u001B[43m,\u001B[49m\u001B[43m \u001B[49m\u001B[38;5;241;43m*\u001B[39;49m\u001B[38;5;241;43m*\u001B[39;49m\u001B[43mextra_kw\u001B[49m\u001B[43m)\u001B[49m\n",
      "File \u001B[0;32m~/PycharmProjects/NBA ChampionshIP Prediction/.venv/lib/python3.12/site-packages/urllib3/poolmanager.py:444\u001B[0m, in \u001B[0;36mPoolManager.urlopen\u001B[0;34m(self, method, url, redirect, **kw)\u001B[0m\n\u001B[1;32m    442\u001B[0m     response \u001B[38;5;241m=\u001B[39m conn\u001B[38;5;241m.\u001B[39murlopen(method, url, \u001B[38;5;241m*\u001B[39m\u001B[38;5;241m*\u001B[39mkw)\n\u001B[1;32m    443\u001B[0m \u001B[38;5;28;01melse\u001B[39;00m:\n\u001B[0;32m--> 444\u001B[0m     response \u001B[38;5;241m=\u001B[39m \u001B[43mconn\u001B[49m\u001B[38;5;241;43m.\u001B[39;49m\u001B[43murlopen\u001B[49m\u001B[43m(\u001B[49m\u001B[43mmethod\u001B[49m\u001B[43m,\u001B[49m\u001B[43m \u001B[49m\u001B[43mu\u001B[49m\u001B[38;5;241;43m.\u001B[39;49m\u001B[43mrequest_uri\u001B[49m\u001B[43m,\u001B[49m\u001B[43m \u001B[49m\u001B[38;5;241;43m*\u001B[39;49m\u001B[38;5;241;43m*\u001B[39;49m\u001B[43mkw\u001B[49m\u001B[43m)\u001B[49m\n\u001B[1;32m    446\u001B[0m redirect_location \u001B[38;5;241m=\u001B[39m redirect \u001B[38;5;129;01mand\u001B[39;00m response\u001B[38;5;241m.\u001B[39mget_redirect_location()\n\u001B[1;32m    447\u001B[0m \u001B[38;5;28;01mif\u001B[39;00m \u001B[38;5;129;01mnot\u001B[39;00m redirect_location:\n",
      "File \u001B[0;32m~/PycharmProjects/NBA ChampionshIP Prediction/.venv/lib/python3.12/site-packages/urllib3/connectionpool.py:793\u001B[0m, in \u001B[0;36mHTTPConnectionPool.urlopen\u001B[0;34m(self, method, url, body, headers, retries, redirect, assert_same_host, timeout, pool_timeout, release_conn, chunked, body_pos, preload_content, decode_content, **response_kw)\u001B[0m\n\u001B[1;32m    790\u001B[0m response_conn \u001B[38;5;241m=\u001B[39m conn \u001B[38;5;28;01mif\u001B[39;00m \u001B[38;5;129;01mnot\u001B[39;00m release_conn \u001B[38;5;28;01melse\u001B[39;00m \u001B[38;5;28;01mNone\u001B[39;00m\n\u001B[1;32m    792\u001B[0m \u001B[38;5;66;03m# Make the request on the HTTPConnection object\u001B[39;00m\n\u001B[0;32m--> 793\u001B[0m response \u001B[38;5;241m=\u001B[39m \u001B[38;5;28;43mself\u001B[39;49m\u001B[38;5;241;43m.\u001B[39;49m\u001B[43m_make_request\u001B[49m\u001B[43m(\u001B[49m\n\u001B[1;32m    794\u001B[0m \u001B[43m    \u001B[49m\u001B[43mconn\u001B[49m\u001B[43m,\u001B[49m\n\u001B[1;32m    795\u001B[0m \u001B[43m    \u001B[49m\u001B[43mmethod\u001B[49m\u001B[43m,\u001B[49m\n\u001B[1;32m    796\u001B[0m \u001B[43m    \u001B[49m\u001B[43murl\u001B[49m\u001B[43m,\u001B[49m\n\u001B[1;32m    797\u001B[0m \u001B[43m    \u001B[49m\u001B[43mtimeout\u001B[49m\u001B[38;5;241;43m=\u001B[39;49m\u001B[43mtimeout_obj\u001B[49m\u001B[43m,\u001B[49m\n\u001B[1;32m    798\u001B[0m \u001B[43m    \u001B[49m\u001B[43mbody\u001B[49m\u001B[38;5;241;43m=\u001B[39;49m\u001B[43mbody\u001B[49m\u001B[43m,\u001B[49m\n\u001B[1;32m    799\u001B[0m \u001B[43m    \u001B[49m\u001B[43mheaders\u001B[49m\u001B[38;5;241;43m=\u001B[39;49m\u001B[43mheaders\u001B[49m\u001B[43m,\u001B[49m\n\u001B[1;32m    800\u001B[0m \u001B[43m    \u001B[49m\u001B[43mchunked\u001B[49m\u001B[38;5;241;43m=\u001B[39;49m\u001B[43mchunked\u001B[49m\u001B[43m,\u001B[49m\n\u001B[1;32m    801\u001B[0m \u001B[43m    \u001B[49m\u001B[43mretries\u001B[49m\u001B[38;5;241;43m=\u001B[39;49m\u001B[43mretries\u001B[49m\u001B[43m,\u001B[49m\n\u001B[1;32m    802\u001B[0m \u001B[43m    \u001B[49m\u001B[43mresponse_conn\u001B[49m\u001B[38;5;241;43m=\u001B[39;49m\u001B[43mresponse_conn\u001B[49m\u001B[43m,\u001B[49m\n\u001B[1;32m    803\u001B[0m \u001B[43m    \u001B[49m\u001B[43mpreload_content\u001B[49m\u001B[38;5;241;43m=\u001B[39;49m\u001B[43mpreload_content\u001B[49m\u001B[43m,\u001B[49m\n\u001B[1;32m    804\u001B[0m \u001B[43m    \u001B[49m\u001B[43mdecode_content\u001B[49m\u001B[38;5;241;43m=\u001B[39;49m\u001B[43mdecode_content\u001B[49m\u001B[43m,\u001B[49m\n\u001B[1;32m    805\u001B[0m \u001B[43m    \u001B[49m\u001B[38;5;241;43m*\u001B[39;49m\u001B[38;5;241;43m*\u001B[39;49m\u001B[43mresponse_kw\u001B[49m\u001B[43m,\u001B[49m\n\u001B[1;32m    806\u001B[0m \u001B[43m\u001B[49m\u001B[43m)\u001B[49m\n\u001B[1;32m    808\u001B[0m \u001B[38;5;66;03m# Everything went great!\u001B[39;00m\n\u001B[1;32m    809\u001B[0m clean_exit \u001B[38;5;241m=\u001B[39m \u001B[38;5;28;01mTrue\u001B[39;00m\n",
      "File \u001B[0;32m~/PycharmProjects/NBA ChampionshIP Prediction/.venv/lib/python3.12/site-packages/urllib3/connectionpool.py:537\u001B[0m, in \u001B[0;36mHTTPConnectionPool._make_request\u001B[0;34m(self, conn, method, url, body, headers, retries, timeout, chunked, response_conn, preload_content, decode_content, enforce_content_length)\u001B[0m\n\u001B[1;32m    535\u001B[0m \u001B[38;5;66;03m# Receive the response from the server\u001B[39;00m\n\u001B[1;32m    536\u001B[0m \u001B[38;5;28;01mtry\u001B[39;00m:\n\u001B[0;32m--> 537\u001B[0m     response \u001B[38;5;241m=\u001B[39m \u001B[43mconn\u001B[49m\u001B[38;5;241;43m.\u001B[39;49m\u001B[43mgetresponse\u001B[49m\u001B[43m(\u001B[49m\u001B[43m)\u001B[49m\n\u001B[1;32m    538\u001B[0m \u001B[38;5;28;01mexcept\u001B[39;00m (BaseSSLError, \u001B[38;5;167;01mOSError\u001B[39;00m) \u001B[38;5;28;01mas\u001B[39;00m e:\n\u001B[1;32m    539\u001B[0m     \u001B[38;5;28mself\u001B[39m\u001B[38;5;241m.\u001B[39m_raise_timeout(err\u001B[38;5;241m=\u001B[39me, url\u001B[38;5;241m=\u001B[39murl, timeout_value\u001B[38;5;241m=\u001B[39mread_timeout)\n",
      "File \u001B[0;32m~/PycharmProjects/NBA ChampionshIP Prediction/.venv/lib/python3.12/site-packages/urllib3/connection.py:466\u001B[0m, in \u001B[0;36mHTTPConnection.getresponse\u001B[0;34m(self)\u001B[0m\n\u001B[1;32m    463\u001B[0m \u001B[38;5;28;01mfrom\u001B[39;00m \u001B[38;5;21;01m.\u001B[39;00m\u001B[38;5;21;01mresponse\u001B[39;00m \u001B[38;5;28;01mimport\u001B[39;00m HTTPResponse\n\u001B[1;32m    465\u001B[0m \u001B[38;5;66;03m# Get the response from http.client.HTTPConnection\u001B[39;00m\n\u001B[0;32m--> 466\u001B[0m httplib_response \u001B[38;5;241m=\u001B[39m \u001B[38;5;28;43msuper\u001B[39;49m\u001B[43m(\u001B[49m\u001B[43m)\u001B[49m\u001B[38;5;241;43m.\u001B[39;49m\u001B[43mgetresponse\u001B[49m\u001B[43m(\u001B[49m\u001B[43m)\u001B[49m\n\u001B[1;32m    468\u001B[0m \u001B[38;5;28;01mtry\u001B[39;00m:\n\u001B[1;32m    469\u001B[0m     assert_header_parsing(httplib_response\u001B[38;5;241m.\u001B[39mmsg)\n",
      "File \u001B[0;32m/Library/Frameworks/Python.framework/Versions/3.12/lib/python3.12/http/client.py:1411\u001B[0m, in \u001B[0;36mHTTPConnection.getresponse\u001B[0;34m(self)\u001B[0m\n\u001B[1;32m   1409\u001B[0m \u001B[38;5;28;01mtry\u001B[39;00m:\n\u001B[1;32m   1410\u001B[0m     \u001B[38;5;28;01mtry\u001B[39;00m:\n\u001B[0;32m-> 1411\u001B[0m         \u001B[43mresponse\u001B[49m\u001B[38;5;241;43m.\u001B[39;49m\u001B[43mbegin\u001B[49m\u001B[43m(\u001B[49m\u001B[43m)\u001B[49m\n\u001B[1;32m   1412\u001B[0m     \u001B[38;5;28;01mexcept\u001B[39;00m \u001B[38;5;167;01mConnectionError\u001B[39;00m:\n\u001B[1;32m   1413\u001B[0m         \u001B[38;5;28mself\u001B[39m\u001B[38;5;241m.\u001B[39mclose()\n",
      "File \u001B[0;32m/Library/Frameworks/Python.framework/Versions/3.12/lib/python3.12/http/client.py:324\u001B[0m, in \u001B[0;36mHTTPResponse.begin\u001B[0;34m(self)\u001B[0m\n\u001B[1;32m    322\u001B[0m \u001B[38;5;66;03m# read until we get a non-100 response\u001B[39;00m\n\u001B[1;32m    323\u001B[0m \u001B[38;5;28;01mwhile\u001B[39;00m \u001B[38;5;28;01mTrue\u001B[39;00m:\n\u001B[0;32m--> 324\u001B[0m     version, status, reason \u001B[38;5;241m=\u001B[39m \u001B[38;5;28;43mself\u001B[39;49m\u001B[38;5;241;43m.\u001B[39;49m\u001B[43m_read_status\u001B[49m\u001B[43m(\u001B[49m\u001B[43m)\u001B[49m\n\u001B[1;32m    325\u001B[0m     \u001B[38;5;28;01mif\u001B[39;00m status \u001B[38;5;241m!=\u001B[39m CONTINUE:\n\u001B[1;32m    326\u001B[0m         \u001B[38;5;28;01mbreak\u001B[39;00m\n",
      "File \u001B[0;32m/Library/Frameworks/Python.framework/Versions/3.12/lib/python3.12/http/client.py:285\u001B[0m, in \u001B[0;36mHTTPResponse._read_status\u001B[0;34m(self)\u001B[0m\n\u001B[1;32m    284\u001B[0m \u001B[38;5;28;01mdef\u001B[39;00m \u001B[38;5;21m_read_status\u001B[39m(\u001B[38;5;28mself\u001B[39m):\n\u001B[0;32m--> 285\u001B[0m     line \u001B[38;5;241m=\u001B[39m \u001B[38;5;28mstr\u001B[39m(\u001B[38;5;28;43mself\u001B[39;49m\u001B[38;5;241;43m.\u001B[39;49m\u001B[43mfp\u001B[49m\u001B[38;5;241;43m.\u001B[39;49m\u001B[43mreadline\u001B[49m\u001B[43m(\u001B[49m\u001B[43m_MAXLINE\u001B[49m\u001B[43m \u001B[49m\u001B[38;5;241;43m+\u001B[39;49m\u001B[43m \u001B[49m\u001B[38;5;241;43m1\u001B[39;49m\u001B[43m)\u001B[49m, \u001B[38;5;124m\"\u001B[39m\u001B[38;5;124miso-8859-1\u001B[39m\u001B[38;5;124m\"\u001B[39m)\n\u001B[1;32m    286\u001B[0m     \u001B[38;5;28;01mif\u001B[39;00m \u001B[38;5;28mlen\u001B[39m(line) \u001B[38;5;241m>\u001B[39m _MAXLINE:\n\u001B[1;32m    287\u001B[0m         \u001B[38;5;28;01mraise\u001B[39;00m LineTooLong(\u001B[38;5;124m\"\u001B[39m\u001B[38;5;124mstatus line\u001B[39m\u001B[38;5;124m\"\u001B[39m)\n",
      "File \u001B[0;32m/Library/Frameworks/Python.framework/Versions/3.12/lib/python3.12/socket.py:707\u001B[0m, in \u001B[0;36mSocketIO.readinto\u001B[0;34m(self, b)\u001B[0m\n\u001B[1;32m    705\u001B[0m \u001B[38;5;28;01mwhile\u001B[39;00m \u001B[38;5;28;01mTrue\u001B[39;00m:\n\u001B[1;32m    706\u001B[0m     \u001B[38;5;28;01mtry\u001B[39;00m:\n\u001B[0;32m--> 707\u001B[0m         \u001B[38;5;28;01mreturn\u001B[39;00m \u001B[38;5;28;43mself\u001B[39;49m\u001B[38;5;241;43m.\u001B[39;49m\u001B[43m_sock\u001B[49m\u001B[38;5;241;43m.\u001B[39;49m\u001B[43mrecv_into\u001B[49m\u001B[43m(\u001B[49m\u001B[43mb\u001B[49m\u001B[43m)\u001B[49m\n\u001B[1;32m    708\u001B[0m     \u001B[38;5;28;01mexcept\u001B[39;00m timeout:\n\u001B[1;32m    709\u001B[0m         \u001B[38;5;28mself\u001B[39m\u001B[38;5;241m.\u001B[39m_timeout_occurred \u001B[38;5;241m=\u001B[39m \u001B[38;5;28;01mTrue\u001B[39;00m\n",
      "\u001B[0;31mKeyboardInterrupt\u001B[0m: "
     ]
    }
   ],
   "source": [
    "for season in seasons:\n",
    "    \n",
    "    # Construct the URL for the current season\n",
    "    url = f\"https://www.nba.com/stats/teams/clutch-four-factors?SeasonType=Regular+Season&Season={season}\"\n",
    "        \n",
    "        # Open the URL\n",
    "        driver.get(url)\n",
    "        \n",
    "        # Wait for the page to load and the table to be available\n",
    "        wait = WebDriverWait(driver, 10)\n",
    "        table = wait.until(EC.presence_of_element_located((By.CLASS_NAME, 'Crom_table__p1iZz')))\n",
    "        \n",
    "        # Scrape the data table\n",
    "        df = pd.read_html(StringIO(str(table.get_attribute('outerHTML'))))[0]\n",
    "\n",
    "        # Add a column for the season\n",
    "        df['Season'] = season\n",
    "        \n",
    "        # Append the data to the main DataFrame\n",
    "        all_data = pd.concat([all_data, df], ignore_index=True)\n",
    "    \n",
    "    except Exception as e:\n",
    "        print(f\"Failed to scrape data for season {season}: {e}\")"
   ],
   "metadata": {
    "collapsed": false,
    "ExecuteTime": {
     "end_time": "2024-07-18T05:34:39.254823Z",
     "start_time": "2024-07-18T05:33:10.983975Z"
    }
   },
   "id": "2b1d9a2b025dc8e7",
   "execution_count": 15
  },
  {
   "cell_type": "code",
   "outputs": [],
   "source": [
    "# Close the WebDriver\n",
    "driver.quit()"
   ],
   "metadata": {
    "collapsed": false,
    "ExecuteTime": {
     "end_time": "2024-07-17T07:22:41.372201Z",
     "start_time": "2024-07-17T07:22:11.161976Z"
    }
   },
   "id": "6c5b81f6bed59589",
   "execution_count": 25
  },
  {
   "cell_type": "code",
   "outputs": [
    {
     "name": "stdout",
     "output_type": "stream",
     "text": [
      "Data scraping completed and saved to nba_clutch_four_factors_1996_2023.csv\n"
     ]
    }
   ],
   "source": [
    "# Save the compiled data to a CSV file\n",
    "all_data.to_csv('nba_clutch_four_factors_1996_2023.csv', index=False)\n",
    "\n",
    "print(\"Data scraping completed and saved to nba_clutch_four_factors_1996_2023.csv\")\n"
   ],
   "metadata": {
    "collapsed": false,
    "ExecuteTime": {
     "end_time": "2024-07-17T07:22:54.479990Z",
     "start_time": "2024-07-17T07:22:54.464466Z"
    }
   },
   "id": "e653e5a53593066d",
   "execution_count": 26
  },
  {
   "cell_type": "code",
   "outputs": [],
   "source": [
    "one = pd.read_csv('newest_NBA_stats_1.csv')"
   ],
   "metadata": {
    "collapsed": false,
    "ExecuteTime": {
     "end_time": "2024-07-17T07:40:04.826219Z",
     "start_time": "2024-07-17T07:40:04.806279Z"
    }
   },
   "id": "635be9e3c1c41e04",
   "execution_count": 27
  },
  {
   "cell_type": "code",
   "outputs": [
    {
     "data": {
      "text/plain": "                   Team   G  MP Per Game  FG Per Game  FGA Per Game  \\\n0         Atlanta Hawks  82        241.5         34.3          76.9   \n1         Atlanta Hawks  82        242.4         35.2          77.5   \n2         Atlanta Hawks  50        241.5         30.8          75.2   \n3         Atlanta Hawks  82        241.8         36.6          83.0   \n4         Atlanta Hawks  82        240.6         35.1          81.3   \n..                  ...  ..          ...          ...           ...   \n801  Washington Wizards  82        243.0         42.1          90.1   \n802  Washington Wizards  72        241.0         41.5          90.9   \n803  Washington Wizards  72        241.7         43.2          90.9   \n804  Washington Wizards  82        241.8         40.6          86.0   \n805  Washington Wizards  82        240.9         42.1          86.9   \n\n     3P Per Game  3PA Per Game  2P Per Game  2PA Per Game  FT Per Game  ...  \\\n0            8.0          22.4         26.3          54.5         18.2  ...   \n1            4.1          12.4         31.1          65.1         21.3  ...   \n2            3.9          12.9         26.8          62.3         20.8  ...   \n3            3.1           9.9         33.4          73.1         18.0  ...   \n4            4.1          11.4         31.0          69.9         16.8  ...   \n..           ...           ...          ...           ...          ...  ...   \n801         11.3          33.3         30.8          56.8         18.4  ...   \n802         12.0          32.6         29.5          58.3         19.4  ...   \n803         10.2          29.0         33.0          61.9         20.1  ...   \n804         10.5          30.6         30.1          55.4         17.0  ...   \n805         11.3          31.7         30.9          55.2         17.6  ...   \n\n     over600 rec  curr/past mvp or past fmvp  sum playoff games      Home  \\\n0             13                           0                 19  0.878049   \n1             14                           0                 13  0.707317   \n2              4                           0                 14  0.640000   \n3             19                           0                 24  0.512195   \n4             23                           0                 25  0.439024   \n..           ...                         ...                ...       ...   \n801           23                           0                 12  0.536585   \n802           22                           0                 17  0.444444   \n803            6                           1                 15  0.527778   \n804            9                           0                 20  0.512195   \n805           20                           0                 15  0.475000   \n\n         Road      L1YP      L3YP      L6YP     L10YP  Last_4_Months  \n0    0.487805  0.266667  0.600000  0.733333  1.533333       0.727273  \n1    0.512195  0.266667  0.533333  0.866667  1.533333       0.584906  \n2    0.600000  0.066667  0.600000  0.933333  1.200000       0.617021  \n3    0.170732  0.200000  0.533333  1.133333  1.266667       0.320755  \n4    0.170732  0.000000  0.266667  0.800000  1.266667       0.288462  \n..        ...       ...       ...       ...       ...            ...  \n801  0.243902  0.125000  0.562500  1.312500  1.312500       0.400000  \n802  0.250000  0.000000  0.562500  1.312500  1.312500       0.437500  \n803  0.416667  0.000000  0.125000  0.937500  1.312500       0.500000  \n804  0.341463  0.062500  0.062500  0.625000  1.375000       0.361702  \n805  0.390244  0.000000  0.062500  0.625000  1.375000       0.431818  \n\n[806 rows x 116 columns]",
      "text/html": "<div>\n<style scoped>\n    .dataframe tbody tr th:only-of-type {\n        vertical-align: middle;\n    }\n\n    .dataframe tbody tr th {\n        vertical-align: top;\n    }\n\n    .dataframe thead th {\n        text-align: right;\n    }\n</style>\n<table border=\"1\" class=\"dataframe\">\n  <thead>\n    <tr style=\"text-align: right;\">\n      <th></th>\n      <th>Team</th>\n      <th>G</th>\n      <th>MP Per Game</th>\n      <th>FG Per Game</th>\n      <th>FGA Per Game</th>\n      <th>3P Per Game</th>\n      <th>3PA Per Game</th>\n      <th>2P Per Game</th>\n      <th>2PA Per Game</th>\n      <th>FT Per Game</th>\n      <th>...</th>\n      <th>over600 rec</th>\n      <th>curr/past mvp or past fmvp</th>\n      <th>sum playoff games</th>\n      <th>Home</th>\n      <th>Road</th>\n      <th>L1YP</th>\n      <th>L3YP</th>\n      <th>L6YP</th>\n      <th>L10YP</th>\n      <th>Last_4_Months</th>\n    </tr>\n  </thead>\n  <tbody>\n    <tr>\n      <th>0</th>\n      <td>Atlanta Hawks</td>\n      <td>82</td>\n      <td>241.5</td>\n      <td>34.3</td>\n      <td>76.9</td>\n      <td>8.0</td>\n      <td>22.4</td>\n      <td>26.3</td>\n      <td>54.5</td>\n      <td>18.2</td>\n      <td>...</td>\n      <td>13</td>\n      <td>0</td>\n      <td>19</td>\n      <td>0.878049</td>\n      <td>0.487805</td>\n      <td>0.266667</td>\n      <td>0.600000</td>\n      <td>0.733333</td>\n      <td>1.533333</td>\n      <td>0.727273</td>\n    </tr>\n    <tr>\n      <th>1</th>\n      <td>Atlanta Hawks</td>\n      <td>82</td>\n      <td>242.4</td>\n      <td>35.2</td>\n      <td>77.5</td>\n      <td>4.1</td>\n      <td>12.4</td>\n      <td>31.1</td>\n      <td>65.1</td>\n      <td>21.3</td>\n      <td>...</td>\n      <td>14</td>\n      <td>0</td>\n      <td>13</td>\n      <td>0.707317</td>\n      <td>0.512195</td>\n      <td>0.266667</td>\n      <td>0.533333</td>\n      <td>0.866667</td>\n      <td>1.533333</td>\n      <td>0.584906</td>\n    </tr>\n    <tr>\n      <th>2</th>\n      <td>Atlanta Hawks</td>\n      <td>50</td>\n      <td>241.5</td>\n      <td>30.8</td>\n      <td>75.2</td>\n      <td>3.9</td>\n      <td>12.9</td>\n      <td>26.8</td>\n      <td>62.3</td>\n      <td>20.8</td>\n      <td>...</td>\n      <td>4</td>\n      <td>0</td>\n      <td>14</td>\n      <td>0.640000</td>\n      <td>0.600000</td>\n      <td>0.066667</td>\n      <td>0.600000</td>\n      <td>0.933333</td>\n      <td>1.200000</td>\n      <td>0.617021</td>\n    </tr>\n    <tr>\n      <th>3</th>\n      <td>Atlanta Hawks</td>\n      <td>82</td>\n      <td>241.8</td>\n      <td>36.6</td>\n      <td>83.0</td>\n      <td>3.1</td>\n      <td>9.9</td>\n      <td>33.4</td>\n      <td>73.1</td>\n      <td>18.0</td>\n      <td>...</td>\n      <td>19</td>\n      <td>0</td>\n      <td>24</td>\n      <td>0.512195</td>\n      <td>0.170732</td>\n      <td>0.200000</td>\n      <td>0.533333</td>\n      <td>1.133333</td>\n      <td>1.266667</td>\n      <td>0.320755</td>\n    </tr>\n    <tr>\n      <th>4</th>\n      <td>Atlanta Hawks</td>\n      <td>82</td>\n      <td>240.6</td>\n      <td>35.1</td>\n      <td>81.3</td>\n      <td>4.1</td>\n      <td>11.4</td>\n      <td>31.0</td>\n      <td>69.9</td>\n      <td>16.8</td>\n      <td>...</td>\n      <td>23</td>\n      <td>0</td>\n      <td>25</td>\n      <td>0.439024</td>\n      <td>0.170732</td>\n      <td>0.000000</td>\n      <td>0.266667</td>\n      <td>0.800000</td>\n      <td>1.266667</td>\n      <td>0.288462</td>\n    </tr>\n    <tr>\n      <th>...</th>\n      <td>...</td>\n      <td>...</td>\n      <td>...</td>\n      <td>...</td>\n      <td>...</td>\n      <td>...</td>\n      <td>...</td>\n      <td>...</td>\n      <td>...</td>\n      <td>...</td>\n      <td>...</td>\n      <td>...</td>\n      <td>...</td>\n      <td>...</td>\n      <td>...</td>\n      <td>...</td>\n      <td>...</td>\n      <td>...</td>\n      <td>...</td>\n      <td>...</td>\n      <td>...</td>\n    </tr>\n    <tr>\n      <th>801</th>\n      <td>Washington Wizards</td>\n      <td>82</td>\n      <td>243.0</td>\n      <td>42.1</td>\n      <td>90.1</td>\n      <td>11.3</td>\n      <td>33.3</td>\n      <td>30.8</td>\n      <td>56.8</td>\n      <td>18.4</td>\n      <td>...</td>\n      <td>23</td>\n      <td>0</td>\n      <td>12</td>\n      <td>0.536585</td>\n      <td>0.243902</td>\n      <td>0.125000</td>\n      <td>0.562500</td>\n      <td>1.312500</td>\n      <td>1.312500</td>\n      <td>0.400000</td>\n    </tr>\n    <tr>\n      <th>802</th>\n      <td>Washington Wizards</td>\n      <td>72</td>\n      <td>241.0</td>\n      <td>41.5</td>\n      <td>90.9</td>\n      <td>12.0</td>\n      <td>32.6</td>\n      <td>29.5</td>\n      <td>58.3</td>\n      <td>19.4</td>\n      <td>...</td>\n      <td>22</td>\n      <td>0</td>\n      <td>17</td>\n      <td>0.444444</td>\n      <td>0.250000</td>\n      <td>0.000000</td>\n      <td>0.562500</td>\n      <td>1.312500</td>\n      <td>1.312500</td>\n      <td>0.437500</td>\n    </tr>\n    <tr>\n      <th>803</th>\n      <td>Washington Wizards</td>\n      <td>72</td>\n      <td>241.7</td>\n      <td>43.2</td>\n      <td>90.9</td>\n      <td>10.2</td>\n      <td>29.0</td>\n      <td>33.0</td>\n      <td>61.9</td>\n      <td>20.1</td>\n      <td>...</td>\n      <td>6</td>\n      <td>1</td>\n      <td>15</td>\n      <td>0.527778</td>\n      <td>0.416667</td>\n      <td>0.000000</td>\n      <td>0.125000</td>\n      <td>0.937500</td>\n      <td>1.312500</td>\n      <td>0.500000</td>\n    </tr>\n    <tr>\n      <th>804</th>\n      <td>Washington Wizards</td>\n      <td>82</td>\n      <td>241.8</td>\n      <td>40.6</td>\n      <td>86.0</td>\n      <td>10.5</td>\n      <td>30.6</td>\n      <td>30.1</td>\n      <td>55.4</td>\n      <td>17.0</td>\n      <td>...</td>\n      <td>9</td>\n      <td>0</td>\n      <td>20</td>\n      <td>0.512195</td>\n      <td>0.341463</td>\n      <td>0.062500</td>\n      <td>0.062500</td>\n      <td>0.625000</td>\n      <td>1.375000</td>\n      <td>0.361702</td>\n    </tr>\n    <tr>\n      <th>805</th>\n      <td>Washington Wizards</td>\n      <td>82</td>\n      <td>240.9</td>\n      <td>42.1</td>\n      <td>86.9</td>\n      <td>11.3</td>\n      <td>31.7</td>\n      <td>30.9</td>\n      <td>55.2</td>\n      <td>17.6</td>\n      <td>...</td>\n      <td>20</td>\n      <td>0</td>\n      <td>15</td>\n      <td>0.475000</td>\n      <td>0.390244</td>\n      <td>0.000000</td>\n      <td>0.062500</td>\n      <td>0.625000</td>\n      <td>1.375000</td>\n      <td>0.431818</td>\n    </tr>\n  </tbody>\n</table>\n<p>806 rows × 116 columns</p>\n</div>"
     },
     "execution_count": 28,
     "metadata": {},
     "output_type": "execute_result"
    }
   ],
   "source": [
    "one"
   ],
   "metadata": {
    "collapsed": false,
    "ExecuteTime": {
     "end_time": "2024-07-17T07:40:07.002784Z",
     "start_time": "2024-07-17T07:40:06.986052Z"
    }
   },
   "id": "6c085d3442105c9c",
   "execution_count": 28
  },
  {
   "cell_type": "code",
   "outputs": [],
   "source": [
    "two = pd.read_csv('nba_clutch_four_factors_1996_2023.csv')"
   ],
   "metadata": {
    "collapsed": false,
    "ExecuteTime": {
     "end_time": "2024-07-17T07:40:21.652978Z",
     "start_time": "2024-07-17T07:40:21.649240Z"
    }
   },
   "id": "d1557a6de159e10e",
   "execution_count": 29
  },
  {
   "cell_type": "code",
   "outputs": [
    {
     "data": {
      "text/plain": "                      Team  GP (clutch)  W (clutch)  L (clutch)  \\\n0               Miami Heat           47          33          14   \n1          Houston Rockets           43          30          13   \n2          New York Knicks           52          36          16   \n3            Chicago Bulls           31          21          10   \n4                Utah Jazz           40          26          14   \n..                     ...          ...         ...         ...   \n797  Oklahoma City Thunder           43          17          26   \n798          Chicago Bulls           38          15          23   \n799      San Antonio Spurs           28          11          17   \n800     Washington Wizards           41          15          26   \n801        Detroit Pistons           37          11          26   \n\n     WIN% (clutch)  MIN (clutch)  eFG% (clutch)  FTA Rate (clutch)  \\\n0            0.702           158           46.2              0.571   \n1            0.698           176           50.0              0.567   \n2            0.692           188           50.2              0.808   \n3            0.677           116           44.1              0.600   \n4            0.650           181           45.2              0.585   \n..             ...           ...            ...                ...   \n797          0.395           168           44.4              0.365   \n798          0.395           178           49.8              0.445   \n799          0.393           111           47.5              0.449   \n800          0.366           149           45.9              0.491   \n801          0.297           144           45.8              0.516   \n\n     TOV% (clutch)  OREB% (clutch)  Opp eFG% (clutch)  Opp FTA Rate (clutch)  \\\n0             15.4            38.0               41.9                  0.614   \n1             12.2            37.5               40.3                  0.471   \n2             17.2            38.7               39.3                  0.698   \n3             10.6            32.5               41.3                  0.653   \n4              8.3            28.8               49.6                  0.792   \n..             ...             ...                ...                    ...   \n797           11.0            29.6               50.7                  0.495   \n798           10.6            22.4               51.7                  0.455   \n799           17.6            32.1               51.7                  0.401   \n800           14.3            31.9               47.5                  0.400   \n801           11.1            30.5               49.8                  0.613   \n\n     Opp TOV% (clutch)  Opp OREB% (clutch)  Season  \n0                 11.2                34.1    1997  \n1                 15.5                31.3    1997  \n2                 12.7                28.9    1997  \n3                 16.6                34.2    1997  \n4                 15.1                27.7    1997  \n..                 ...                 ...     ...  \n797               15.1                31.5    2023  \n798               15.3                29.4    2023  \n799               12.7                39.8    2023  \n800               10.1                34.7    2023  \n801                9.0                43.0    2023  \n\n[802 rows x 15 columns]",
      "text/html": "<div>\n<style scoped>\n    .dataframe tbody tr th:only-of-type {\n        vertical-align: middle;\n    }\n\n    .dataframe tbody tr th {\n        vertical-align: top;\n    }\n\n    .dataframe thead th {\n        text-align: right;\n    }\n</style>\n<table border=\"1\" class=\"dataframe\">\n  <thead>\n    <tr style=\"text-align: right;\">\n      <th></th>\n      <th>Team</th>\n      <th>GP (clutch)</th>\n      <th>W (clutch)</th>\n      <th>L (clutch)</th>\n      <th>WIN% (clutch)</th>\n      <th>MIN (clutch)</th>\n      <th>eFG% (clutch)</th>\n      <th>FTA Rate (clutch)</th>\n      <th>TOV% (clutch)</th>\n      <th>OREB% (clutch)</th>\n      <th>Opp eFG% (clutch)</th>\n      <th>Opp FTA Rate (clutch)</th>\n      <th>Opp TOV% (clutch)</th>\n      <th>Opp OREB% (clutch)</th>\n      <th>Season</th>\n    </tr>\n  </thead>\n  <tbody>\n    <tr>\n      <th>0</th>\n      <td>Miami Heat</td>\n      <td>47</td>\n      <td>33</td>\n      <td>14</td>\n      <td>0.702</td>\n      <td>158</td>\n      <td>46.2</td>\n      <td>0.571</td>\n      <td>15.4</td>\n      <td>38.0</td>\n      <td>41.9</td>\n      <td>0.614</td>\n      <td>11.2</td>\n      <td>34.1</td>\n      <td>1997</td>\n    </tr>\n    <tr>\n      <th>1</th>\n      <td>Houston Rockets</td>\n      <td>43</td>\n      <td>30</td>\n      <td>13</td>\n      <td>0.698</td>\n      <td>176</td>\n      <td>50.0</td>\n      <td>0.567</td>\n      <td>12.2</td>\n      <td>37.5</td>\n      <td>40.3</td>\n      <td>0.471</td>\n      <td>15.5</td>\n      <td>31.3</td>\n      <td>1997</td>\n    </tr>\n    <tr>\n      <th>2</th>\n      <td>New York Knicks</td>\n      <td>52</td>\n      <td>36</td>\n      <td>16</td>\n      <td>0.692</td>\n      <td>188</td>\n      <td>50.2</td>\n      <td>0.808</td>\n      <td>17.2</td>\n      <td>38.7</td>\n      <td>39.3</td>\n      <td>0.698</td>\n      <td>12.7</td>\n      <td>28.9</td>\n      <td>1997</td>\n    </tr>\n    <tr>\n      <th>3</th>\n      <td>Chicago Bulls</td>\n      <td>31</td>\n      <td>21</td>\n      <td>10</td>\n      <td>0.677</td>\n      <td>116</td>\n      <td>44.1</td>\n      <td>0.600</td>\n      <td>10.6</td>\n      <td>32.5</td>\n      <td>41.3</td>\n      <td>0.653</td>\n      <td>16.6</td>\n      <td>34.2</td>\n      <td>1997</td>\n    </tr>\n    <tr>\n      <th>4</th>\n      <td>Utah Jazz</td>\n      <td>40</td>\n      <td>26</td>\n      <td>14</td>\n      <td>0.650</td>\n      <td>181</td>\n      <td>45.2</td>\n      <td>0.585</td>\n      <td>8.3</td>\n      <td>28.8</td>\n      <td>49.6</td>\n      <td>0.792</td>\n      <td>15.1</td>\n      <td>27.7</td>\n      <td>1997</td>\n    </tr>\n    <tr>\n      <th>...</th>\n      <td>...</td>\n      <td>...</td>\n      <td>...</td>\n      <td>...</td>\n      <td>...</td>\n      <td>...</td>\n      <td>...</td>\n      <td>...</td>\n      <td>...</td>\n      <td>...</td>\n      <td>...</td>\n      <td>...</td>\n      <td>...</td>\n      <td>...</td>\n      <td>...</td>\n    </tr>\n    <tr>\n      <th>797</th>\n      <td>Oklahoma City Thunder</td>\n      <td>43</td>\n      <td>17</td>\n      <td>26</td>\n      <td>0.395</td>\n      <td>168</td>\n      <td>44.4</td>\n      <td>0.365</td>\n      <td>11.0</td>\n      <td>29.6</td>\n      <td>50.7</td>\n      <td>0.495</td>\n      <td>15.1</td>\n      <td>31.5</td>\n      <td>2023</td>\n    </tr>\n    <tr>\n      <th>798</th>\n      <td>Chicago Bulls</td>\n      <td>38</td>\n      <td>15</td>\n      <td>23</td>\n      <td>0.395</td>\n      <td>178</td>\n      <td>49.8</td>\n      <td>0.445</td>\n      <td>10.6</td>\n      <td>22.4</td>\n      <td>51.7</td>\n      <td>0.455</td>\n      <td>15.3</td>\n      <td>29.4</td>\n      <td>2023</td>\n    </tr>\n    <tr>\n      <th>799</th>\n      <td>San Antonio Spurs</td>\n      <td>28</td>\n      <td>11</td>\n      <td>17</td>\n      <td>0.393</td>\n      <td>111</td>\n      <td>47.5</td>\n      <td>0.449</td>\n      <td>17.6</td>\n      <td>32.1</td>\n      <td>51.7</td>\n      <td>0.401</td>\n      <td>12.7</td>\n      <td>39.8</td>\n      <td>2023</td>\n    </tr>\n    <tr>\n      <th>800</th>\n      <td>Washington Wizards</td>\n      <td>41</td>\n      <td>15</td>\n      <td>26</td>\n      <td>0.366</td>\n      <td>149</td>\n      <td>45.9</td>\n      <td>0.491</td>\n      <td>14.3</td>\n      <td>31.9</td>\n      <td>47.5</td>\n      <td>0.400</td>\n      <td>10.1</td>\n      <td>34.7</td>\n      <td>2023</td>\n    </tr>\n    <tr>\n      <th>801</th>\n      <td>Detroit Pistons</td>\n      <td>37</td>\n      <td>11</td>\n      <td>26</td>\n      <td>0.297</td>\n      <td>144</td>\n      <td>45.8</td>\n      <td>0.516</td>\n      <td>11.1</td>\n      <td>30.5</td>\n      <td>49.8</td>\n      <td>0.613</td>\n      <td>9.0</td>\n      <td>43.0</td>\n      <td>2023</td>\n    </tr>\n  </tbody>\n</table>\n<p>802 rows × 15 columns</p>\n</div>"
     },
     "execution_count": 30,
     "metadata": {},
     "output_type": "execute_result"
    }
   ],
   "source": [
    "two"
   ],
   "metadata": {
    "collapsed": false,
    "ExecuteTime": {
     "end_time": "2024-07-17T07:40:24.633085Z",
     "start_time": "2024-07-17T07:40:24.618475Z"
    }
   },
   "id": "31512076504f3f80",
   "execution_count": 30
  },
  {
   "cell_type": "code",
   "outputs": [],
   "source": [
    "combined = one.merge(two, how='outer', on=[\"Team\", \"Season\"])"
   ],
   "metadata": {
    "collapsed": false,
    "ExecuteTime": {
     "end_time": "2024-07-17T07:41:28.930979Z",
     "start_time": "2024-07-17T07:41:28.920413Z"
    }
   },
   "id": "75589d74be68aa19",
   "execution_count": 31
  },
  {
   "cell_type": "code",
   "outputs": [
    {
     "data": {
      "text/plain": "                   Team     G  MP Per Game  FG Per Game  FGA Per Game  \\\n0         Atlanta Hawks  82.0        241.5         34.3          76.9   \n1         Atlanta Hawks  82.0        242.4         35.2          77.5   \n2         Atlanta Hawks  50.0        241.5         30.8          75.2   \n3         Atlanta Hawks  82.0        241.8         36.6          83.0   \n4         Atlanta Hawks  82.0        240.6         35.1          81.3   \n..                  ...   ...          ...          ...           ...   \n809  Washington Wizards  82.0        243.0         42.1          90.1   \n810  Washington Wizards  72.0        241.0         41.5          90.9   \n811  Washington Wizards  72.0        241.7         43.2          90.9   \n812  Washington Wizards  82.0        241.8         40.6          86.0   \n813  Washington Wizards  82.0        240.9         42.1          86.9   \n\n     3P Per Game  3PA Per Game  2P Per Game  2PA Per Game  FT Per Game  ...  \\\n0            8.0          22.4         26.3          54.5         18.2  ...   \n1            4.1          12.4         31.1          65.1         21.3  ...   \n2            3.9          12.9         26.8          62.3         20.8  ...   \n3            3.1           9.9         33.4          73.1         18.0  ...   \n4            4.1          11.4         31.0          69.9         16.8  ...   \n..           ...           ...          ...           ...          ...  ...   \n809         11.3          33.3         30.8          56.8         18.4  ...   \n810         12.0          32.6         29.5          58.3         19.4  ...   \n811         10.2          29.0         33.0          61.9         20.1  ...   \n812         10.5          30.6         30.1          55.4         17.0  ...   \n813         11.3          31.7         30.9          55.2         17.6  ...   \n\n     WIN% (clutch)  MIN (clutch)  eFG% (clutch)  FTA Rate (clutch)  \\\n0            0.590         160.0           46.6              0.885   \n1            0.595         188.0           46.0              0.676   \n2            0.556         110.0           41.4              0.551   \n3            0.432         163.0           36.2              0.576   \n4            0.383         158.0           37.6              0.510   \n..             ...           ...            ...                ...   \n809          0.385         181.0           48.0              0.373   \n810          0.400         103.0           41.5              0.451   \n811          0.487         169.0           51.1              0.452   \n812          0.625         160.0           53.8              0.368   \n813          0.366         149.0           45.9              0.491   \n\n     TOV% (clutch)  OREB% (clutch)  Opp eFG% (clutch)  Opp FTA Rate (clutch)  \\\n0             12.1            35.0               44.8                  0.575   \n1             12.7            37.6               42.3                  0.509   \n2             10.3            39.6               48.8                  0.619   \n3             19.1            41.0               44.3                  0.516   \n4             15.4            35.3               39.1                  0.720   \n..             ...             ...                ...                    ...   \n809           14.1            37.9               49.5                  0.462   \n810            9.6            31.1               54.6                  0.615   \n811           10.6            29.1               48.7                  0.438   \n812           13.4            30.4               41.6                  0.367   \n813           14.3            31.9               47.5                  0.400   \n\n     Opp TOV% (clutch)  Opp OREB% (clutch)  \n0                 13.3                34.2  \n1                 14.3                31.1  \n2                 13.6                34.0  \n3                 11.8                28.8  \n4                  9.1                32.4  \n..                 ...                 ...  \n809               14.6                44.4  \n810               12.5                33.0  \n811                9.4                23.4  \n812                9.4                28.6  \n813               10.1                34.7  \n\n[814 rows x 129 columns]",
      "text/html": "<div>\n<style scoped>\n    .dataframe tbody tr th:only-of-type {\n        vertical-align: middle;\n    }\n\n    .dataframe tbody tr th {\n        vertical-align: top;\n    }\n\n    .dataframe thead th {\n        text-align: right;\n    }\n</style>\n<table border=\"1\" class=\"dataframe\">\n  <thead>\n    <tr style=\"text-align: right;\">\n      <th></th>\n      <th>Team</th>\n      <th>G</th>\n      <th>MP Per Game</th>\n      <th>FG Per Game</th>\n      <th>FGA Per Game</th>\n      <th>3P Per Game</th>\n      <th>3PA Per Game</th>\n      <th>2P Per Game</th>\n      <th>2PA Per Game</th>\n      <th>FT Per Game</th>\n      <th>...</th>\n      <th>WIN% (clutch)</th>\n      <th>MIN (clutch)</th>\n      <th>eFG% (clutch)</th>\n      <th>FTA Rate (clutch)</th>\n      <th>TOV% (clutch)</th>\n      <th>OREB% (clutch)</th>\n      <th>Opp eFG% (clutch)</th>\n      <th>Opp FTA Rate (clutch)</th>\n      <th>Opp TOV% (clutch)</th>\n      <th>Opp OREB% (clutch)</th>\n    </tr>\n  </thead>\n  <tbody>\n    <tr>\n      <th>0</th>\n      <td>Atlanta Hawks</td>\n      <td>82.0</td>\n      <td>241.5</td>\n      <td>34.3</td>\n      <td>76.9</td>\n      <td>8.0</td>\n      <td>22.4</td>\n      <td>26.3</td>\n      <td>54.5</td>\n      <td>18.2</td>\n      <td>...</td>\n      <td>0.590</td>\n      <td>160.0</td>\n      <td>46.6</td>\n      <td>0.885</td>\n      <td>12.1</td>\n      <td>35.0</td>\n      <td>44.8</td>\n      <td>0.575</td>\n      <td>13.3</td>\n      <td>34.2</td>\n    </tr>\n    <tr>\n      <th>1</th>\n      <td>Atlanta Hawks</td>\n      <td>82.0</td>\n      <td>242.4</td>\n      <td>35.2</td>\n      <td>77.5</td>\n      <td>4.1</td>\n      <td>12.4</td>\n      <td>31.1</td>\n      <td>65.1</td>\n      <td>21.3</td>\n      <td>...</td>\n      <td>0.595</td>\n      <td>188.0</td>\n      <td>46.0</td>\n      <td>0.676</td>\n      <td>12.7</td>\n      <td>37.6</td>\n      <td>42.3</td>\n      <td>0.509</td>\n      <td>14.3</td>\n      <td>31.1</td>\n    </tr>\n    <tr>\n      <th>2</th>\n      <td>Atlanta Hawks</td>\n      <td>50.0</td>\n      <td>241.5</td>\n      <td>30.8</td>\n      <td>75.2</td>\n      <td>3.9</td>\n      <td>12.9</td>\n      <td>26.8</td>\n      <td>62.3</td>\n      <td>20.8</td>\n      <td>...</td>\n      <td>0.556</td>\n      <td>110.0</td>\n      <td>41.4</td>\n      <td>0.551</td>\n      <td>10.3</td>\n      <td>39.6</td>\n      <td>48.8</td>\n      <td>0.619</td>\n      <td>13.6</td>\n      <td>34.0</td>\n    </tr>\n    <tr>\n      <th>3</th>\n      <td>Atlanta Hawks</td>\n      <td>82.0</td>\n      <td>241.8</td>\n      <td>36.6</td>\n      <td>83.0</td>\n      <td>3.1</td>\n      <td>9.9</td>\n      <td>33.4</td>\n      <td>73.1</td>\n      <td>18.0</td>\n      <td>...</td>\n      <td>0.432</td>\n      <td>163.0</td>\n      <td>36.2</td>\n      <td>0.576</td>\n      <td>19.1</td>\n      <td>41.0</td>\n      <td>44.3</td>\n      <td>0.516</td>\n      <td>11.8</td>\n      <td>28.8</td>\n    </tr>\n    <tr>\n      <th>4</th>\n      <td>Atlanta Hawks</td>\n      <td>82.0</td>\n      <td>240.6</td>\n      <td>35.1</td>\n      <td>81.3</td>\n      <td>4.1</td>\n      <td>11.4</td>\n      <td>31.0</td>\n      <td>69.9</td>\n      <td>16.8</td>\n      <td>...</td>\n      <td>0.383</td>\n      <td>158.0</td>\n      <td>37.6</td>\n      <td>0.510</td>\n      <td>15.4</td>\n      <td>35.3</td>\n      <td>39.1</td>\n      <td>0.720</td>\n      <td>9.1</td>\n      <td>32.4</td>\n    </tr>\n    <tr>\n      <th>...</th>\n      <td>...</td>\n      <td>...</td>\n      <td>...</td>\n      <td>...</td>\n      <td>...</td>\n      <td>...</td>\n      <td>...</td>\n      <td>...</td>\n      <td>...</td>\n      <td>...</td>\n      <td>...</td>\n      <td>...</td>\n      <td>...</td>\n      <td>...</td>\n      <td>...</td>\n      <td>...</td>\n      <td>...</td>\n      <td>...</td>\n      <td>...</td>\n      <td>...</td>\n      <td>...</td>\n    </tr>\n    <tr>\n      <th>809</th>\n      <td>Washington Wizards</td>\n      <td>82.0</td>\n      <td>243.0</td>\n      <td>42.1</td>\n      <td>90.1</td>\n      <td>11.3</td>\n      <td>33.3</td>\n      <td>30.8</td>\n      <td>56.8</td>\n      <td>18.4</td>\n      <td>...</td>\n      <td>0.385</td>\n      <td>181.0</td>\n      <td>48.0</td>\n      <td>0.373</td>\n      <td>14.1</td>\n      <td>37.9</td>\n      <td>49.5</td>\n      <td>0.462</td>\n      <td>14.6</td>\n      <td>44.4</td>\n    </tr>\n    <tr>\n      <th>810</th>\n      <td>Washington Wizards</td>\n      <td>72.0</td>\n      <td>241.0</td>\n      <td>41.5</td>\n      <td>90.9</td>\n      <td>12.0</td>\n      <td>32.6</td>\n      <td>29.5</td>\n      <td>58.3</td>\n      <td>19.4</td>\n      <td>...</td>\n      <td>0.400</td>\n      <td>103.0</td>\n      <td>41.5</td>\n      <td>0.451</td>\n      <td>9.6</td>\n      <td>31.1</td>\n      <td>54.6</td>\n      <td>0.615</td>\n      <td>12.5</td>\n      <td>33.0</td>\n    </tr>\n    <tr>\n      <th>811</th>\n      <td>Washington Wizards</td>\n      <td>72.0</td>\n      <td>241.7</td>\n      <td>43.2</td>\n      <td>90.9</td>\n      <td>10.2</td>\n      <td>29.0</td>\n      <td>33.0</td>\n      <td>61.9</td>\n      <td>20.1</td>\n      <td>...</td>\n      <td>0.487</td>\n      <td>169.0</td>\n      <td>51.1</td>\n      <td>0.452</td>\n      <td>10.6</td>\n      <td>29.1</td>\n      <td>48.7</td>\n      <td>0.438</td>\n      <td>9.4</td>\n      <td>23.4</td>\n    </tr>\n    <tr>\n      <th>812</th>\n      <td>Washington Wizards</td>\n      <td>82.0</td>\n      <td>241.8</td>\n      <td>40.6</td>\n      <td>86.0</td>\n      <td>10.5</td>\n      <td>30.6</td>\n      <td>30.1</td>\n      <td>55.4</td>\n      <td>17.0</td>\n      <td>...</td>\n      <td>0.625</td>\n      <td>160.0</td>\n      <td>53.8</td>\n      <td>0.368</td>\n      <td>13.4</td>\n      <td>30.4</td>\n      <td>41.6</td>\n      <td>0.367</td>\n      <td>9.4</td>\n      <td>28.6</td>\n    </tr>\n    <tr>\n      <th>813</th>\n      <td>Washington Wizards</td>\n      <td>82.0</td>\n      <td>240.9</td>\n      <td>42.1</td>\n      <td>86.9</td>\n      <td>11.3</td>\n      <td>31.7</td>\n      <td>30.9</td>\n      <td>55.2</td>\n      <td>17.6</td>\n      <td>...</td>\n      <td>0.366</td>\n      <td>149.0</td>\n      <td>45.9</td>\n      <td>0.491</td>\n      <td>14.3</td>\n      <td>31.9</td>\n      <td>47.5</td>\n      <td>0.400</td>\n      <td>10.1</td>\n      <td>34.7</td>\n    </tr>\n  </tbody>\n</table>\n<p>814 rows × 129 columns</p>\n</div>"
     },
     "execution_count": 32,
     "metadata": {},
     "output_type": "execute_result"
    }
   ],
   "source": [
    "combined"
   ],
   "metadata": {
    "collapsed": false,
    "ExecuteTime": {
     "end_time": "2024-07-17T07:41:32.634692Z",
     "start_time": "2024-07-17T07:41:32.613304Z"
    }
   },
   "id": "55163ddbc94b3888",
   "execution_count": 32
  },
  {
   "cell_type": "code",
   "outputs": [],
   "source": [
    "combined.to_csv('BEST.csv')"
   ],
   "metadata": {
    "collapsed": false,
    "ExecuteTime": {
     "end_time": "2024-07-17T07:42:00.502546Z",
     "start_time": "2024-07-17T07:42:00.447913Z"
    }
   },
   "id": "4c7e7845531601c5",
   "execution_count": 33
  },
  {
   "cell_type": "code",
   "outputs": [],
   "source": [],
   "metadata": {
    "collapsed": false
   },
   "id": "fa27180e95b74862"
  }
 ],
 "metadata": {
  "kernelspec": {
   "display_name": "Python 3",
   "language": "python",
   "name": "python3"
  },
  "language_info": {
   "codemirror_mode": {
    "name": "ipython",
    "version": 2
   },
   "file_extension": ".py",
   "mimetype": "text/x-python",
   "name": "python",
   "nbconvert_exporter": "python",
   "pygments_lexer": "ipython2",
   "version": "2.7.6"
  }
 },
 "nbformat": 4,
 "nbformat_minor": 5
}
