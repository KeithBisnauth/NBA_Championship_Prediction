{
 "cells": [
  {
   "cell_type": "code",
   "outputs": [],
   "source": [
    "from bs4 import BeautifulSoup\n",
    "import pandas as pd\n",
    "from io import StringIO"
   ],
   "metadata": {
    "collapsed": false,
    "ExecuteTime": {
     "end_time": "2024-07-19T01:17:19.150978Z",
     "start_time": "2024-07-19T01:17:19.149459Z"
    }
   },
   "id": "61960b0aa7155cc6",
   "execution_count": 13
  },
  {
   "cell_type": "code",
   "outputs": [],
   "source": [
    "# Assign years"
   ],
   "metadata": {
    "collapsed": false
   },
   "id": "c7e2398414305dc7"
  },
  {
   "cell_type": "code",
   "execution_count": 14,
   "id": "initial_id",
   "metadata": {
    "collapsed": true,
    "ExecuteTime": {
     "end_time": "2024-07-19T01:17:21.340527Z",
     "start_time": "2024-07-19T01:17:21.337506Z"
    }
   },
   "outputs": [],
   "source": [
    "years = list(range(1997,2024))"
   ]
  },
  {
   "cell_type": "code",
   "outputs": [],
   "source": [
    "# Save webpages with sata as individual html Files"
   ],
   "metadata": {
    "collapsed": false
   },
   "id": "429e99d6c2d7f1f3"
  },
  {
   "cell_type": "code",
   "outputs": [],
   "source": [
    "url_1 = \"https://www.basketball-reference.com/awards/awards_{}.html\""
   ],
   "metadata": {
    "collapsed": false,
    "ExecuteTime": {
     "end_time": "2024-07-18T12:53:31.151922Z",
     "start_time": "2024-07-18T12:53:31.149669Z"
    }
   },
   "id": "3a88a549473154b9",
   "execution_count": 6
  },
  {
   "cell_type": "code",
   "outputs": [],
   "source": [
    "import requests\n",
    "\n",
    "for year in years:\n",
    "    url = url_1.format(year)\n",
    "    response = requests.get(url)\n",
    "    \n",
    "    with open(\"shares/{}.html\".format(year),\"w+\") as f:\n",
    "        f.write(response.text)"
   ],
   "metadata": {
    "collapsed": false,
    "ExecuteTime": {
     "end_time": "2024-07-18T12:55:08.367196Z",
     "start_time": "2024-07-18T12:53:34.114520Z"
    }
   },
   "id": "781cf5b6ac63b795",
   "execution_count": 7
  },
  {
   "cell_type": "code",
   "outputs": [],
   "source": [
    "# Saving MVP voting data"
   ],
   "metadata": {
    "collapsed": false
   },
   "id": "c2ed6dcb13e19f59"
  },
  {
   "cell_type": "code",
   "outputs": [],
   "source": [
    "dfs = []\n",
    "for year in years:\n",
    "    with open(\"shares/{}.html\".format(year)) as f:\n",
    "        page = f.read()\n",
    "    soup = BeautifulSoup(page, \"html.parser\")\n",
    "    mvp = soup.find(id=\"mvp\")\n",
    "    seasons = pd.read_html(StringIO(str(mvp)))[0]\n",
    "\n",
    "    dfs.append(seasons)"
   ],
   "metadata": {
    "collapsed": false,
    "ExecuteTime": {
     "end_time": "2024-07-18T12:57:38.289254Z",
     "start_time": "2024-07-18T12:57:35.831769Z"
    }
   },
   "id": "1765ccafd4a89417",
   "execution_count": 8
  },
  {
   "cell_type": "code",
   "outputs": [],
   "source": [
    "mvp_shares = pd.concat(dfs)\n",
    "mvp_shares.to_csv(\"mvp.csv\")"
   ],
   "metadata": {
    "collapsed": false,
    "ExecuteTime": {
     "end_time": "2024-07-18T12:57:53.842833Z",
     "start_time": "2024-07-18T12:57:53.834366Z"
    }
   },
   "id": "24ba85e475bb3f70",
   "execution_count": 10
  },
  {
   "cell_type": "code",
   "outputs": [],
   "source": [
    "# Import manually edited csv file as new dataframe (removed columns and added season list)"
   ],
   "metadata": {
    "collapsed": false
   },
   "id": "bd5dcc6ff3d3b6da"
  },
  {
   "cell_type": "code",
   "outputs": [],
   "source": [
    "df = pd.read_csv(\"mvp.csv\")"
   ],
   "metadata": {
    "collapsed": false,
    "ExecuteTime": {
     "end_time": "2024-07-19T01:17:28.730895Z",
     "start_time": "2024-07-19T01:17:28.725616Z"
    }
   },
   "id": "7c690fa0546900c4",
   "execution_count": 15
  },
  {
   "cell_type": "code",
   "outputs": [
    {
     "name": "stdout",
     "output_type": "stream",
     "text": [
      "['Rank', 'Player', 'Age', 'Tm', 'First', 'Pts Won', 'Pts Max', 'Share', 'Season']\n"
     ]
    }
   ],
   "source": [
    "print(list(df.columns))"
   ],
   "metadata": {
    "collapsed": false,
    "ExecuteTime": {
     "end_time": "2024-07-19T01:17:29.420975Z",
     "start_time": "2024-07-19T01:17:29.418487Z"
    }
   },
   "id": "508cc468a65dc3e6",
   "execution_count": 16
  },
  {
   "cell_type": "code",
   "outputs": [],
   "source": [
    "# Calculating MVP Share metric by totalling Share value for each team per season"
   ],
   "metadata": {
    "collapsed": false
   },
   "id": "261cf788c67391c"
  },
  {
   "cell_type": "code",
   "outputs": [
    {
     "data": {
      "text/plain": "     Season Team  MVP_Shares\n0      2003  BOS       0.001\n1      2003  DAL       0.037\n2      2003  DET       0.028\n3      2003  LAL       0.523\n4      2003  MIN       0.732\n..      ...  ...         ...\n239    2023  MIL       0.606\n240    2023  NYK       0.001\n241    2023  OKC       0.046\n242    2023  PHI       0.915\n243    2023  SAC       0.029\n\n[244 rows x 3 columns]",
      "text/html": "<div>\n<style scoped>\n    .dataframe tbody tr th:only-of-type {\n        vertical-align: middle;\n    }\n\n    .dataframe tbody tr th {\n        vertical-align: top;\n    }\n\n    .dataframe thead th {\n        text-align: right;\n    }\n</style>\n<table border=\"1\" class=\"dataframe\">\n  <thead>\n    <tr style=\"text-align: right;\">\n      <th></th>\n      <th>Season</th>\n      <th>Team</th>\n      <th>MVP_Shares</th>\n    </tr>\n  </thead>\n  <tbody>\n    <tr>\n      <th>0</th>\n      <td>2003</td>\n      <td>BOS</td>\n      <td>0.001</td>\n    </tr>\n    <tr>\n      <th>1</th>\n      <td>2003</td>\n      <td>DAL</td>\n      <td>0.037</td>\n    </tr>\n    <tr>\n      <th>2</th>\n      <td>2003</td>\n      <td>DET</td>\n      <td>0.028</td>\n    </tr>\n    <tr>\n      <th>3</th>\n      <td>2003</td>\n      <td>LAL</td>\n      <td>0.523</td>\n    </tr>\n    <tr>\n      <th>4</th>\n      <td>2003</td>\n      <td>MIN</td>\n      <td>0.732</td>\n    </tr>\n    <tr>\n      <th>...</th>\n      <td>...</td>\n      <td>...</td>\n      <td>...</td>\n    </tr>\n    <tr>\n      <th>239</th>\n      <td>2023</td>\n      <td>MIL</td>\n      <td>0.606</td>\n    </tr>\n    <tr>\n      <th>240</th>\n      <td>2023</td>\n      <td>NYK</td>\n      <td>0.001</td>\n    </tr>\n    <tr>\n      <th>241</th>\n      <td>2023</td>\n      <td>OKC</td>\n      <td>0.046</td>\n    </tr>\n    <tr>\n      <th>242</th>\n      <td>2023</td>\n      <td>PHI</td>\n      <td>0.915</td>\n    </tr>\n    <tr>\n      <th>243</th>\n      <td>2023</td>\n      <td>SAC</td>\n      <td>0.029</td>\n    </tr>\n  </tbody>\n</table>\n<p>244 rows × 3 columns</p>\n</div>"
     },
     "execution_count": 17,
     "metadata": {},
     "output_type": "execute_result"
    }
   ],
   "source": [
    "mvp_shares_per_team_season =df.groupby(['Season', 'Tm'])['Share'].sum().reset_index()\n",
    "mvp_shares_per_team_season.columns = ['Season', 'Team', 'MVP_Shares']\n",
    "mvp_shares_per_team_season "
   ],
   "metadata": {
    "collapsed": false,
    "ExecuteTime": {
     "end_time": "2024-07-19T01:17:32.798213Z",
     "start_time": "2024-07-19T01:17:32.790543Z"
    }
   },
   "id": "4fa7e2f151a0db7",
   "execution_count": 17
  },
  {
   "cell_type": "code",
   "outputs": [],
   "source": [
    "# Library of team names based on abbreviations "
   ],
   "metadata": {
    "collapsed": false
   },
   "id": "dc853df477761cae"
  },
  {
   "cell_type": "code",
   "outputs": [],
   "source": [
    "team_names = {\n",
    "    'ATL': 'Atlanta Hawks',\n",
    "    'BOS': 'Boston Celtics',\n",
    "    'BKN': 'Brooklyn Nets',\n",
    "    'BRK': 'Brooklyn Nets',\n",
    "    'CHB': 'Charlotte Bobcats',\n",
    "    'CHH': 'Charlotte Hornets',\n",
    "    'CHA': 'Charlotte Hornets',\n",
    "    'CHI': 'Chicago Bulls',\n",
    "    'CLE': 'Cleveland Cavaliers',\n",
    "    'DAL': 'Dallas Mavericks',\n",
    "    'DEN': 'Denver Nuggets',\n",
    "    'DET': 'Detroit Pistons',\n",
    "    'GSW': 'Golden State Warriors',\n",
    "    'HOU': 'Houston Rockets',\n",
    "    'IND': 'Indiana Pacers',\n",
    "    'LAC': 'Los Angeles Clippers',\n",
    "    'LAL': 'Los Angeles Lakers',\n",
    "    'MEM': 'Memphis Grizzlies',\n",
    "    'MIA': 'Miami Heat',\n",
    "    'MIL': 'Milwaukee Bucks',\n",
    "    'MIN': 'Minnesota Timberwolves',\n",
    "    'NOP': 'New Orleans Pelicans',\n",
    "    'NYK': 'New York Knicks',\n",
    "    'OKC': 'Oklahoma City Thunder',\n",
    "    'ORL': 'Orlando Magic',\n",
    "    'PHI': 'Philadelphia 76ers',\n",
    "    'PHX': 'Phoenix Suns',\n",
    "    'PHO': 'Phoenix Suns',  \n",
    "    'POR': 'Portland Trail Blazers',\n",
    "    'SAC': 'Sacramento Kings',\n",
    "    'SAS': 'San Antonio Spurs',\n",
    "    'SEA': 'Seattle SuperSonics',\n",
    "    'TOR': 'Toronto Raptors',\n",
    "    'UTA': 'Utah Jazz',\n",
    "    'WAS': 'Washington Wizards',\n",
    "    'NJN': 'New Jersey Nets',  \n",
    "    'NOH': 'New Orleans Hornets',  \n",
    "    'NOK': 'New Orleans/Oklahoma City Hornets' \n",
    "}"
   ],
   "metadata": {
    "collapsed": false,
    "ExecuteTime": {
     "end_time": "2024-07-19T01:18:13.075383Z",
     "start_time": "2024-07-19T01:18:13.072470Z"
    }
   },
   "id": "4c44e2b83f6da35f",
   "execution_count": 19
  },
  {
   "cell_type": "code",
   "outputs": [],
   "source": [
    "# Replacing abbreviated team names with full names"
   ],
   "metadata": {
    "collapsed": false
   },
   "id": "a416c220da4b6b56"
  },
  {
   "cell_type": "code",
   "outputs": [
    {
     "data": {
      "text/plain": "     Season                    Team  MVP_Shares\n0      2003          Boston Celtics       0.001\n1      2003        Dallas Mavericks       0.037\n2      2003         Detroit Pistons       0.028\n3      2003      Los Angeles Lakers       0.523\n4      2003  Minnesota Timberwolves       0.732\n..      ...                     ...         ...\n239    2023         Milwaukee Bucks       0.606\n240    2023         New York Knicks       0.001\n241    2023   Oklahoma City Thunder       0.046\n242    2023      Philadelphia 76ers       0.915\n243    2023        Sacramento Kings       0.029\n\n[244 rows x 3 columns]",
      "text/html": "<div>\n<style scoped>\n    .dataframe tbody tr th:only-of-type {\n        vertical-align: middle;\n    }\n\n    .dataframe tbody tr th {\n        vertical-align: top;\n    }\n\n    .dataframe thead th {\n        text-align: right;\n    }\n</style>\n<table border=\"1\" class=\"dataframe\">\n  <thead>\n    <tr style=\"text-align: right;\">\n      <th></th>\n      <th>Season</th>\n      <th>Team</th>\n      <th>MVP_Shares</th>\n    </tr>\n  </thead>\n  <tbody>\n    <tr>\n      <th>0</th>\n      <td>2003</td>\n      <td>Boston Celtics</td>\n      <td>0.001</td>\n    </tr>\n    <tr>\n      <th>1</th>\n      <td>2003</td>\n      <td>Dallas Mavericks</td>\n      <td>0.037</td>\n    </tr>\n    <tr>\n      <th>2</th>\n      <td>2003</td>\n      <td>Detroit Pistons</td>\n      <td>0.028</td>\n    </tr>\n    <tr>\n      <th>3</th>\n      <td>2003</td>\n      <td>Los Angeles Lakers</td>\n      <td>0.523</td>\n    </tr>\n    <tr>\n      <th>4</th>\n      <td>2003</td>\n      <td>Minnesota Timberwolves</td>\n      <td>0.732</td>\n    </tr>\n    <tr>\n      <th>...</th>\n      <td>...</td>\n      <td>...</td>\n      <td>...</td>\n    </tr>\n    <tr>\n      <th>239</th>\n      <td>2023</td>\n      <td>Milwaukee Bucks</td>\n      <td>0.606</td>\n    </tr>\n    <tr>\n      <th>240</th>\n      <td>2023</td>\n      <td>New York Knicks</td>\n      <td>0.001</td>\n    </tr>\n    <tr>\n      <th>241</th>\n      <td>2023</td>\n      <td>Oklahoma City Thunder</td>\n      <td>0.046</td>\n    </tr>\n    <tr>\n      <th>242</th>\n      <td>2023</td>\n      <td>Philadelphia 76ers</td>\n      <td>0.915</td>\n    </tr>\n    <tr>\n      <th>243</th>\n      <td>2023</td>\n      <td>Sacramento Kings</td>\n      <td>0.029</td>\n    </tr>\n  </tbody>\n</table>\n<p>244 rows × 3 columns</p>\n</div>"
     },
     "execution_count": 20,
     "metadata": {},
     "output_type": "execute_result"
    }
   ],
   "source": [
    "mvp_shares_per_team_season['Team'] = mvp_shares_per_team_season['Team'].replace(team_names)\n",
    "mvp_shares_per_team_season"
   ],
   "metadata": {
    "collapsed": false,
    "ExecuteTime": {
     "end_time": "2024-07-19T01:18:15.669618Z",
     "start_time": "2024-07-19T01:18:15.657371Z"
    }
   },
   "id": "46cd80bbb35c1f28",
   "execution_count": 20
  },
  {
   "cell_type": "code",
   "outputs": [],
   "source": [
    "# Drop teams that have the name TOT (This results from players changing teams mid-season, meaning they will have very few MVP votes)"
   ],
   "metadata": {
    "collapsed": false
   },
   "id": "906c6d062b77f2e1"
  },
  {
   "cell_type": "code",
   "outputs": [],
   "source": [
    "mvp_shares_per_team_season.drop(mvp_shares_per_team_season.index[(mvp_shares_per_team_season[\"Team\"] == \"TOT\")], axis=0, inplace=True)\n",
    "mvp_shares_per_team_season"
   ],
   "metadata": {
    "collapsed": false,
    "ExecuteTime": {
     "end_time": "2024-06-05T12:20:09.018738Z",
     "start_time": "2024-06-05T12:20:09.014719Z"
    }
   },
   "id": "d138cd4e6bbbd41b",
   "execution_count": 92
  },
  {
   "cell_type": "code",
   "outputs": [],
   "source": [
    "# Saving as csv and combining with complete dataset "
   ],
   "metadata": {
    "collapsed": false
   },
   "id": "f24c259d2fd2e250"
  },
  {
   "cell_type": "code",
   "outputs": [],
   "source": [
    "df_new = pd.read_csv(\"final_regular_season_stats.csv\")\n",
    "combine = df_new.merge(mvp_shares_per_team_season,how='outer', on=[\"Team\", \"Season\"])\n",
    "combine"
   ],
   "metadata": {
    "collapsed": false,
    "ExecuteTime": {
     "end_time": "2024-06-05T12:20:34.008141Z",
     "start_time": "2024-06-05T12:20:33.996163Z"
    }
   },
   "id": "d1b6481eb0793ef",
   "execution_count": 94
  },
  {
   "cell_type": "code",
   "outputs": [],
   "source": [
    "# Saving All NBA Voting Data "
   ],
   "metadata": {
    "collapsed": false
   },
   "id": "a8a9ac013e059d50"
  },
  {
   "cell_type": "code",
   "outputs": [],
   "source": [
    "df_1 = []\n",
    "for year in years:\n",
    "    with open(\"shares/{}.html\".format(year)) as f:\n",
    "        page = f.read()\n",
    "    soup = BeautifulSoup(page, \"html.parser\")\n",
    "    all_nba = soup.find(id=\"leading_all_nba\")\n",
    "    all_nba_votes = pd.read_html(StringIO(str(all_nba)))[0]\n",
    "\n",
    "    df_1.append(all_nba_votes)"
   ],
   "metadata": {
    "collapsed": false,
    "ExecuteTime": {
     "end_time": "2024-06-05T12:22:01.987286Z",
     "start_time": "2024-06-05T12:21:59.986267Z"
    }
   },
   "id": "f9331d67059f2d14",
   "execution_count": 101
  },
  {
   "cell_type": "code",
   "outputs": [],
   "source": [
    "all_nba_teams = pd.concat(df_1)\n",
    "all_nba_teams.to_csv(\"all_nba_teams.csv\")"
   ],
   "metadata": {
    "collapsed": false,
    "ExecuteTime": {
     "end_time": "2024-06-05T12:22:12.390167Z",
     "start_time": "2024-06-05T12:22:12.384039Z"
    }
   },
   "id": "719664109d40cc0e",
   "execution_count": 103
  },
  {
   "cell_type": "code",
   "outputs": [],
   "source": [
    "# Import manually edited csv file as new dataframe (removed columns and added season list)"
   ],
   "metadata": {
    "collapsed": false
   },
   "id": "a3e84887e63610f6"
  },
  {
   "cell_type": "code",
   "outputs": [],
   "source": [
    "all_nba_shares = pd.read_csv(\"all_nba_teams.csv\")"
   ],
   "metadata": {
    "collapsed": false,
    "ExecuteTime": {
     "end_time": "2024-07-19T01:29:38.190167Z",
     "start_time": "2024-07-19T01:29:38.185227Z"
    }
   },
   "id": "218156b1176385e6",
   "execution_count": 21
  },
  {
   "cell_type": "code",
   "outputs": [
    {
     "data": {
      "text/plain": "    # Tm             Player Team  Pts Won  Pts Max  Share  Season\n0    1st         Tim Duncan  SAS    603.0    610.0  0.989  2003.0\n1    1st        Kobe Bryant  LAL    599.0    610.0  0.982  2003.0\n2    1st      Kevin Garnett  MIN    596.0    610.0  0.977  2003.0\n3    1st   Shaquille O'Neal  LAL    593.0    610.0  0.972  2003.0\n4    1st      Tracy McGrady  ORL    578.0    610.0  0.948  2003.0\n..   ...                ...  ...      ...      ...    ...     ...\n877  ORV        Paul George  LAC      1.0    500.0  0.002  2023.0\n878  ORV  Tyrese Haliburton  IND      1.0    500.0  0.002  2023.0\n879  ORV        Zach LaVine  CHI      1.0    500.0  0.002  2023.0\n880  ORV        Brook Lopez  MIL      1.0    500.0  0.002  2023.0\n881  ORV         Trae Young  ATL      1.0    500.0  0.002  2023.0\n\n[882 rows x 7 columns]",
      "text/html": "<div>\n<style scoped>\n    .dataframe tbody tr th:only-of-type {\n        vertical-align: middle;\n    }\n\n    .dataframe tbody tr th {\n        vertical-align: top;\n    }\n\n    .dataframe thead th {\n        text-align: right;\n    }\n</style>\n<table border=\"1\" class=\"dataframe\">\n  <thead>\n    <tr style=\"text-align: right;\">\n      <th></th>\n      <th># Tm</th>\n      <th>Player</th>\n      <th>Team</th>\n      <th>Pts Won</th>\n      <th>Pts Max</th>\n      <th>Share</th>\n      <th>Season</th>\n    </tr>\n  </thead>\n  <tbody>\n    <tr>\n      <th>0</th>\n      <td>1st</td>\n      <td>Tim Duncan</td>\n      <td>SAS</td>\n      <td>603.0</td>\n      <td>610.0</td>\n      <td>0.989</td>\n      <td>2003.0</td>\n    </tr>\n    <tr>\n      <th>1</th>\n      <td>1st</td>\n      <td>Kobe Bryant</td>\n      <td>LAL</td>\n      <td>599.0</td>\n      <td>610.0</td>\n      <td>0.982</td>\n      <td>2003.0</td>\n    </tr>\n    <tr>\n      <th>2</th>\n      <td>1st</td>\n      <td>Kevin Garnett</td>\n      <td>MIN</td>\n      <td>596.0</td>\n      <td>610.0</td>\n      <td>0.977</td>\n      <td>2003.0</td>\n    </tr>\n    <tr>\n      <th>3</th>\n      <td>1st</td>\n      <td>Shaquille O'Neal</td>\n      <td>LAL</td>\n      <td>593.0</td>\n      <td>610.0</td>\n      <td>0.972</td>\n      <td>2003.0</td>\n    </tr>\n    <tr>\n      <th>4</th>\n      <td>1st</td>\n      <td>Tracy McGrady</td>\n      <td>ORL</td>\n      <td>578.0</td>\n      <td>610.0</td>\n      <td>0.948</td>\n      <td>2003.0</td>\n    </tr>\n    <tr>\n      <th>...</th>\n      <td>...</td>\n      <td>...</td>\n      <td>...</td>\n      <td>...</td>\n      <td>...</td>\n      <td>...</td>\n      <td>...</td>\n    </tr>\n    <tr>\n      <th>877</th>\n      <td>ORV</td>\n      <td>Paul George</td>\n      <td>LAC</td>\n      <td>1.0</td>\n      <td>500.0</td>\n      <td>0.002</td>\n      <td>2023.0</td>\n    </tr>\n    <tr>\n      <th>878</th>\n      <td>ORV</td>\n      <td>Tyrese Haliburton</td>\n      <td>IND</td>\n      <td>1.0</td>\n      <td>500.0</td>\n      <td>0.002</td>\n      <td>2023.0</td>\n    </tr>\n    <tr>\n      <th>879</th>\n      <td>ORV</td>\n      <td>Zach LaVine</td>\n      <td>CHI</td>\n      <td>1.0</td>\n      <td>500.0</td>\n      <td>0.002</td>\n      <td>2023.0</td>\n    </tr>\n    <tr>\n      <th>880</th>\n      <td>ORV</td>\n      <td>Brook Lopez</td>\n      <td>MIL</td>\n      <td>1.0</td>\n      <td>500.0</td>\n      <td>0.002</td>\n      <td>2023.0</td>\n    </tr>\n    <tr>\n      <th>881</th>\n      <td>ORV</td>\n      <td>Trae Young</td>\n      <td>ATL</td>\n      <td>1.0</td>\n      <td>500.0</td>\n      <td>0.002</td>\n      <td>2023.0</td>\n    </tr>\n  </tbody>\n</table>\n<p>882 rows × 7 columns</p>\n</div>"
     },
     "execution_count": 22,
     "metadata": {},
     "output_type": "execute_result"
    }
   ],
   "source": [
    "all_nba_shares"
   ],
   "metadata": {
    "collapsed": false,
    "ExecuteTime": {
     "end_time": "2024-07-19T01:29:39.397990Z",
     "start_time": "2024-07-19T01:29:39.392140Z"
    }
   },
   "id": "1106297b187a650f",
   "execution_count": 22
  },
  {
   "cell_type": "code",
   "outputs": [],
   "source": [
    "# Replace abbreviated team names with full names"
   ],
   "metadata": {
    "collapsed": false
   },
   "id": "221d01e4b592a1fe"
  },
  {
   "cell_type": "code",
   "outputs": [],
   "source": [
    "all_nba_shares['Team'] = all_nba_shares['Team'].replace(team_names)"
   ],
   "metadata": {
    "collapsed": false,
    "ExecuteTime": {
     "end_time": "2024-06-06T05:31:57.947301Z",
     "start_time": "2024-06-06T05:31:57.942611Z"
    }
   },
   "id": "91b610aa80c9ee5d",
   "execution_count": 155
  },
  {
   "cell_type": "code",
   "outputs": [],
   "source": [
    "# Drop rows that have null values (rows acting as dividers between tiers of voting) and save as dataframe"
   ],
   "metadata": {
    "collapsed": false
   },
   "id": "ad19ad7f2d435822"
  },
  {
   "cell_type": "code",
   "outputs": [
    {
     "data": {
      "text/plain": "    # Tm             Player Team  Pts Won  Pts Max  Share  Season\n0    1st         Tim Duncan  SAS    603.0    610.0  0.989  2003.0\n1    1st        Kobe Bryant  LAL    599.0    610.0  0.982  2003.0\n2    1st      Kevin Garnett  MIN    596.0    610.0  0.977  2003.0\n3    1st   Shaquille O'Neal  LAL    593.0    610.0  0.972  2003.0\n4    1st      Tracy McGrady  ORL    578.0    610.0  0.948  2003.0\n..   ...                ...  ...      ...      ...    ...     ...\n877  ORV        Paul George  LAC      1.0    500.0  0.002  2023.0\n878  ORV  Tyrese Haliburton  IND      1.0    500.0  0.002  2023.0\n879  ORV        Zach LaVine  CHI      1.0    500.0  0.002  2023.0\n880  ORV        Brook Lopez  MIL      1.0    500.0  0.002  2023.0\n881  ORV         Trae Young  ATL      1.0    500.0  0.002  2023.0\n\n[817 rows x 7 columns]",
      "text/html": "<div>\n<style scoped>\n    .dataframe tbody tr th:only-of-type {\n        vertical-align: middle;\n    }\n\n    .dataframe tbody tr th {\n        vertical-align: top;\n    }\n\n    .dataframe thead th {\n        text-align: right;\n    }\n</style>\n<table border=\"1\" class=\"dataframe\">\n  <thead>\n    <tr style=\"text-align: right;\">\n      <th></th>\n      <th># Tm</th>\n      <th>Player</th>\n      <th>Team</th>\n      <th>Pts Won</th>\n      <th>Pts Max</th>\n      <th>Share</th>\n      <th>Season</th>\n    </tr>\n  </thead>\n  <tbody>\n    <tr>\n      <th>0</th>\n      <td>1st</td>\n      <td>Tim Duncan</td>\n      <td>SAS</td>\n      <td>603.0</td>\n      <td>610.0</td>\n      <td>0.989</td>\n      <td>2003.0</td>\n    </tr>\n    <tr>\n      <th>1</th>\n      <td>1st</td>\n      <td>Kobe Bryant</td>\n      <td>LAL</td>\n      <td>599.0</td>\n      <td>610.0</td>\n      <td>0.982</td>\n      <td>2003.0</td>\n    </tr>\n    <tr>\n      <th>2</th>\n      <td>1st</td>\n      <td>Kevin Garnett</td>\n      <td>MIN</td>\n      <td>596.0</td>\n      <td>610.0</td>\n      <td>0.977</td>\n      <td>2003.0</td>\n    </tr>\n    <tr>\n      <th>3</th>\n      <td>1st</td>\n      <td>Shaquille O'Neal</td>\n      <td>LAL</td>\n      <td>593.0</td>\n      <td>610.0</td>\n      <td>0.972</td>\n      <td>2003.0</td>\n    </tr>\n    <tr>\n      <th>4</th>\n      <td>1st</td>\n      <td>Tracy McGrady</td>\n      <td>ORL</td>\n      <td>578.0</td>\n      <td>610.0</td>\n      <td>0.948</td>\n      <td>2003.0</td>\n    </tr>\n    <tr>\n      <th>...</th>\n      <td>...</td>\n      <td>...</td>\n      <td>...</td>\n      <td>...</td>\n      <td>...</td>\n      <td>...</td>\n      <td>...</td>\n    </tr>\n    <tr>\n      <th>877</th>\n      <td>ORV</td>\n      <td>Paul George</td>\n      <td>LAC</td>\n      <td>1.0</td>\n      <td>500.0</td>\n      <td>0.002</td>\n      <td>2023.0</td>\n    </tr>\n    <tr>\n      <th>878</th>\n      <td>ORV</td>\n      <td>Tyrese Haliburton</td>\n      <td>IND</td>\n      <td>1.0</td>\n      <td>500.0</td>\n      <td>0.002</td>\n      <td>2023.0</td>\n    </tr>\n    <tr>\n      <th>879</th>\n      <td>ORV</td>\n      <td>Zach LaVine</td>\n      <td>CHI</td>\n      <td>1.0</td>\n      <td>500.0</td>\n      <td>0.002</td>\n      <td>2023.0</td>\n    </tr>\n    <tr>\n      <th>880</th>\n      <td>ORV</td>\n      <td>Brook Lopez</td>\n      <td>MIL</td>\n      <td>1.0</td>\n      <td>500.0</td>\n      <td>0.002</td>\n      <td>2023.0</td>\n    </tr>\n    <tr>\n      <th>881</th>\n      <td>ORV</td>\n      <td>Trae Young</td>\n      <td>ATL</td>\n      <td>1.0</td>\n      <td>500.0</td>\n      <td>0.002</td>\n      <td>2023.0</td>\n    </tr>\n  </tbody>\n</table>\n<p>817 rows × 7 columns</p>\n</div>"
     },
     "execution_count": 23,
     "metadata": {},
     "output_type": "execute_result"
    }
   ],
   "source": [
    "new = all_nba_shares.dropna(how='all')\n",
    "new_new =pd.DataFrame(new)\n",
    "new_new"
   ],
   "metadata": {
    "collapsed": false,
    "ExecuteTime": {
     "end_time": "2024-07-19T01:32:16.695143Z",
     "start_time": "2024-07-19T01:32:16.687263Z"
    }
   },
   "id": "a3c6b4f9b3bb5491",
   "execution_count": 23
  },
  {
   "cell_type": "code",
   "outputs": [],
   "source": [
    "# Drop teams that have the name TOT (This results from players changing teams mid-season, meaning they will have very few All NBA votes)"
   ],
   "metadata": {
    "collapsed": false
   },
   "id": "d252665e8a970aa8"
  },
  {
   "cell_type": "code",
   "outputs": [],
   "source": [
    "new_new.drop(new_new.index[(new_new[\"Team\"] == \"TOT\")], axis=0, inplace=True)"
   ],
   "metadata": {
    "collapsed": false,
    "ExecuteTime": {
     "end_time": "2024-06-06T05:32:09.891465Z",
     "start_time": "2024-06-06T05:32:09.886674Z"
    }
   },
   "id": "c7b72da3f5aeb7c8",
   "execution_count": 160
  },
  {
   "cell_type": "code",
   "outputs": [
    {
     "data": {
      "text/plain": "    # Tm             Player                    Team  Pts Won  Pts Max  Share  \\\n0    1st         Tim Duncan       San Antonio Spurs    603.0    610.0  0.989   \n1    1st        Kobe Bryant      Los Angeles Lakers    599.0    610.0  0.982   \n2    1st      Kevin Garnett  Minnesota Timberwolves    596.0    610.0  0.977   \n3    1st   Shaquille O'Neal      Los Angeles Lakers    593.0    610.0  0.972   \n4    1st      Tracy McGrady           Orlando Magic    578.0    610.0  0.948   \n..   ...                ...                     ...      ...      ...    ...   \n877  ORV        Paul George    Los Angeles Clippers      1.0    500.0  0.002   \n878  ORV  Tyrese Haliburton          Indiana Pacers      1.0    500.0  0.002   \n879  ORV        Zach LaVine           Chicago Bulls      1.0    500.0  0.002   \n880  ORV        Brook Lopez         Milwaukee Bucks      1.0    500.0  0.002   \n881  ORV         Trae Young           Atlanta Hawks      1.0    500.0  0.002   \n\n     Season  \n0    2003.0  \n1    2003.0  \n2    2003.0  \n3    2003.0  \n4    2003.0  \n..      ...  \n877  2023.0  \n878  2023.0  \n879  2023.0  \n880  2023.0  \n881  2023.0  \n\n[790 rows x 7 columns]",
      "text/html": "<div>\n<style scoped>\n    .dataframe tbody tr th:only-of-type {\n        vertical-align: middle;\n    }\n\n    .dataframe tbody tr th {\n        vertical-align: top;\n    }\n\n    .dataframe thead th {\n        text-align: right;\n    }\n</style>\n<table border=\"1\" class=\"dataframe\">\n  <thead>\n    <tr style=\"text-align: right;\">\n      <th></th>\n      <th># Tm</th>\n      <th>Player</th>\n      <th>Team</th>\n      <th>Pts Won</th>\n      <th>Pts Max</th>\n      <th>Share</th>\n      <th>Season</th>\n    </tr>\n  </thead>\n  <tbody>\n    <tr>\n      <th>0</th>\n      <td>1st</td>\n      <td>Tim Duncan</td>\n      <td>San Antonio Spurs</td>\n      <td>603.0</td>\n      <td>610.0</td>\n      <td>0.989</td>\n      <td>2003.0</td>\n    </tr>\n    <tr>\n      <th>1</th>\n      <td>1st</td>\n      <td>Kobe Bryant</td>\n      <td>Los Angeles Lakers</td>\n      <td>599.0</td>\n      <td>610.0</td>\n      <td>0.982</td>\n      <td>2003.0</td>\n    </tr>\n    <tr>\n      <th>2</th>\n      <td>1st</td>\n      <td>Kevin Garnett</td>\n      <td>Minnesota Timberwolves</td>\n      <td>596.0</td>\n      <td>610.0</td>\n      <td>0.977</td>\n      <td>2003.0</td>\n    </tr>\n    <tr>\n      <th>3</th>\n      <td>1st</td>\n      <td>Shaquille O'Neal</td>\n      <td>Los Angeles Lakers</td>\n      <td>593.0</td>\n      <td>610.0</td>\n      <td>0.972</td>\n      <td>2003.0</td>\n    </tr>\n    <tr>\n      <th>4</th>\n      <td>1st</td>\n      <td>Tracy McGrady</td>\n      <td>Orlando Magic</td>\n      <td>578.0</td>\n      <td>610.0</td>\n      <td>0.948</td>\n      <td>2003.0</td>\n    </tr>\n    <tr>\n      <th>...</th>\n      <td>...</td>\n      <td>...</td>\n      <td>...</td>\n      <td>...</td>\n      <td>...</td>\n      <td>...</td>\n      <td>...</td>\n    </tr>\n    <tr>\n      <th>877</th>\n      <td>ORV</td>\n      <td>Paul George</td>\n      <td>Los Angeles Clippers</td>\n      <td>1.0</td>\n      <td>500.0</td>\n      <td>0.002</td>\n      <td>2023.0</td>\n    </tr>\n    <tr>\n      <th>878</th>\n      <td>ORV</td>\n      <td>Tyrese Haliburton</td>\n      <td>Indiana Pacers</td>\n      <td>1.0</td>\n      <td>500.0</td>\n      <td>0.002</td>\n      <td>2023.0</td>\n    </tr>\n    <tr>\n      <th>879</th>\n      <td>ORV</td>\n      <td>Zach LaVine</td>\n      <td>Chicago Bulls</td>\n      <td>1.0</td>\n      <td>500.0</td>\n      <td>0.002</td>\n      <td>2023.0</td>\n    </tr>\n    <tr>\n      <th>880</th>\n      <td>ORV</td>\n      <td>Brook Lopez</td>\n      <td>Milwaukee Bucks</td>\n      <td>1.0</td>\n      <td>500.0</td>\n      <td>0.002</td>\n      <td>2023.0</td>\n    </tr>\n    <tr>\n      <th>881</th>\n      <td>ORV</td>\n      <td>Trae Young</td>\n      <td>Atlanta Hawks</td>\n      <td>1.0</td>\n      <td>500.0</td>\n      <td>0.002</td>\n      <td>2023.0</td>\n    </tr>\n  </tbody>\n</table>\n<p>790 rows × 7 columns</p>\n</div>"
     },
     "execution_count": 161,
     "metadata": {},
     "output_type": "execute_result"
    }
   ],
   "source": [
    "new_new"
   ],
   "metadata": {
    "collapsed": false,
    "ExecuteTime": {
     "end_time": "2024-06-06T05:32:10.926855Z",
     "start_time": "2024-06-06T05:32:10.919492Z"
    }
   },
   "id": "f546434f3d2167f5",
   "execution_count": 161
  },
  {
   "cell_type": "code",
   "outputs": [],
   "source": [
    "# Assigning a weighting system for All NBA votes (Players that are 1st team All NBA usually have a better season and greater impact on team success compared to 2nd team, 3rd team and vote getters that did not win an award (ORV))"
   ],
   "metadata": {
    "collapsed": false
   },
   "id": "cc9a7be05ef7f041"
  },
  {
   "cell_type": "code",
   "outputs": [],
   "source": [
    "rank_weights = {\n",
    "    '1st': 2,\n",
    "    '1T': 2,\n",
    "    '2nd': 1.5,\n",
    "    '2T': 1.5,\n",
    "    '3rd': 1,\n",
    "    '3T': 1,\n",
    "    'ORV': 0.5\n",
    "}"
   ],
   "metadata": {
    "collapsed": false,
    "ExecuteTime": {
     "end_time": "2024-06-08T09:48:28.062520Z",
     "start_time": "2024-06-08T09:48:28.059759Z"
    }
   },
   "id": "a2426a8e7b00e35d",
   "execution_count": 55
  },
  {
   "cell_type": "code",
   "outputs": [],
   "source": [
    "new_new['Weighted_Share'] = new_new.apply(lambda row: row['Share'] * rank_weights[row['# Tm']], axis=1)\n",
    "weighted_all_nba_share_per_team_season = new_new.groupby(['Team', 'Season'])['Weighted_Share'].sum().reset_index()\n",
    "weighted_all_nba_share_per_team_season"
   ],
   "metadata": {
    "collapsed": false,
    "ExecuteTime": {
     "end_time": "2024-06-06T05:32:18.063126Z",
     "start_time": "2024-06-06T05:32:18.056675Z"
    }
   },
   "id": "ede33fd15adc0f8",
   "execution_count": 163
  },
  {
   "cell_type": "code",
   "outputs": [],
   "source": [
    "# Replace abbreviations that were missed in team_name library"
   ],
   "metadata": {
    "collapsed": false
   },
   "id": "bc92b32a30598e60"
  },
  {
   "cell_type": "code",
   "outputs": [],
   "source": [
    "weighted_all_nba_share_per_team_season[\"Team\"] = weighted_all_nba_share_per_team_season[\"Team\"].str.replace(\"CHO\", \"Charlotte Hornets\", regex=False)\n",
    "weighted_all_nba_share_per_team_season[\"Team\"] = weighted_all_nba_share_per_team_season[\"Team\"].str.replace(\"NOK\", \"New Orleans/Oklahoma City Hornets\", regex=False)\n",
    "weighted_all_nba_share_per_team_season"
   ],
   "metadata": {
    "collapsed": false,
    "ExecuteTime": {
     "end_time": "2024-06-06T05:32:31.449191Z",
     "start_time": "2024-06-06T05:32:31.446526Z"
    }
   },
   "id": "feb4b4854a470b42",
   "execution_count": 166
  },
  {
   "cell_type": "code",
   "outputs": [],
   "source": [
    "# Combine dataframes"
   ],
   "metadata": {
    "collapsed": false
   },
   "id": "6ead8fc98b7aba15"
  },
  {
   "cell_type": "code",
   "outputs": [],
   "source": [
    "combine_1 = combine.merge(weighted_all_nba_share_per_team_season,how='outer', on=[\"Team\", \"Season\"])"
   ],
   "metadata": {
    "collapsed": false,
    "ExecuteTime": {
     "end_time": "2024-06-06T05:33:04.138534Z",
     "start_time": "2024-06-06T05:33:04.125674Z"
    }
   },
   "id": "41555519b48e5445",
   "execution_count": 170
  },
  {
   "cell_type": "code",
   "outputs": [
    {
     "data": {
      "text/plain": "              Team     G  MP Per Game  FG Per Game  FGA Per Game  3P Per Game  \\\n0    Atlanta Hawks  82.0        242.7         34.9          78.5          4.9   \n1    Atlanta Hawks  82.0        242.7         34.5          79.6          5.1   \n2    Atlanta Hawks  82.0        242.1         35.9          81.4          3.7   \n3    Atlanta Hawks  82.0        242.4         35.9          79.2          5.2   \n4    Atlanta Hawks  82.0        242.4         34.5          77.7          4.2   \n..             ...   ...          ...          ...           ...          ...   \n655            NaN   NaN          NaN          NaN           NaN          NaN   \n656            NaN   NaN          NaN          NaN           NaN          NaN   \n657            NaN   NaN          NaN          NaN           NaN          NaN   \n658            NaN   NaN          NaN          NaN           NaN          NaN   \n659            NaN   NaN          NaN          NaN           NaN          NaN   \n\n     3PA Per Game  2P Per Game  2PA Per Game  FT Per Game  ...  \\\n0            13.9         30.0          64.5         19.4  ...   \n1            15.2         29.4          64.4         18.7  ...   \n2            11.9         32.2          69.5         17.3  ...   \n3            14.1         30.8          65.1         20.2  ...   \n4            12.7         30.4          65.0         20.5  ...   \n..            ...          ...           ...          ...  ...   \n655           NaN          NaN           NaN          NaN  ...   \n656           NaN          NaN           NaN          NaN  ...   \n657           NaN          NaN           NaN          NaN  ...   \n658           NaN          NaN           NaN          NaN  ...   \n659           NaN          NaN           NaN          NaN  ...   \n\n     % of 3P's that were assisted  % of FGA that are dunks  Dunks Made  \\\n0                           0.856                    0.048       297.0   \n1                           0.845                    0.045       289.0   \n2                           0.872                    0.056       354.0   \n3                           0.837                    0.047       290.0   \n4                           0.833                    0.047       273.0   \n..                            ...                      ...         ...   \n655                           NaN                      NaN         NaN   \n656                           NaN                      NaN         NaN   \n657                           NaN                      NaN         NaN   \n658                           NaN                      NaN         NaN   \n659                           NaN                      NaN         NaN   \n\n     % of FGA that are layups  # of layups made  % of corner 3PA  \\\n0                       0.202             647.0            0.276   \n1                       0.232             767.0            0.292   \n2                       0.289             985.0            0.265   \n3                       0.272             922.0            0.278   \n4                       0.284             940.0            0.253   \n..                        ...               ...              ...   \n655                       NaN               NaN              NaN   \n656                       NaN               NaN              NaN   \n657                       NaN               NaN              NaN   \n658                       NaN               NaN              NaN   \n659                       NaN               NaN              NaN   \n\n     3P% from the corner  champion share  MVP_Shares  Weighted_Share  \n0                  0.397             0.0         NaN          0.0015  \n1                  0.370             0.0         NaN             NaN  \n2                  0.295             0.0         NaN             NaN  \n3                  0.383             0.0         NaN          0.0015  \n4                  0.373             0.0         NaN          0.0025  \n..                   ...             ...         ...             ...  \n655                  NaN             0.0         NaN             NaN  \n656                  NaN             0.0         NaN             NaN  \n657                  NaN             0.0         NaN             NaN  \n658                  NaN             0.0         NaN             NaN  \n659                  NaN             0.0         NaN             NaN  \n\n[660 rows x 88 columns]",
      "text/html": "<div>\n<style scoped>\n    .dataframe tbody tr th:only-of-type {\n        vertical-align: middle;\n    }\n\n    .dataframe tbody tr th {\n        vertical-align: top;\n    }\n\n    .dataframe thead th {\n        text-align: right;\n    }\n</style>\n<table border=\"1\" class=\"dataframe\">\n  <thead>\n    <tr style=\"text-align: right;\">\n      <th></th>\n      <th>Team</th>\n      <th>G</th>\n      <th>MP Per Game</th>\n      <th>FG Per Game</th>\n      <th>FGA Per Game</th>\n      <th>3P Per Game</th>\n      <th>3PA Per Game</th>\n      <th>2P Per Game</th>\n      <th>2PA Per Game</th>\n      <th>FT Per Game</th>\n      <th>...</th>\n      <th>% of 3P's that were assisted</th>\n      <th>% of FGA that are dunks</th>\n      <th>Dunks Made</th>\n      <th>% of FGA that are layups</th>\n      <th># of layups made</th>\n      <th>% of corner 3PA</th>\n      <th>3P% from the corner</th>\n      <th>champion share</th>\n      <th>MVP_Shares</th>\n      <th>Weighted_Share</th>\n    </tr>\n  </thead>\n  <tbody>\n    <tr>\n      <th>0</th>\n      <td>Atlanta Hawks</td>\n      <td>82.0</td>\n      <td>242.7</td>\n      <td>34.9</td>\n      <td>78.5</td>\n      <td>4.9</td>\n      <td>13.9</td>\n      <td>30.0</td>\n      <td>64.5</td>\n      <td>19.4</td>\n      <td>...</td>\n      <td>0.856</td>\n      <td>0.048</td>\n      <td>297.0</td>\n      <td>0.202</td>\n      <td>647.0</td>\n      <td>0.276</td>\n      <td>0.397</td>\n      <td>0.0</td>\n      <td>NaN</td>\n      <td>0.0015</td>\n    </tr>\n    <tr>\n      <th>1</th>\n      <td>Atlanta Hawks</td>\n      <td>82.0</td>\n      <td>242.7</td>\n      <td>34.5</td>\n      <td>79.6</td>\n      <td>5.1</td>\n      <td>15.2</td>\n      <td>29.4</td>\n      <td>64.4</td>\n      <td>18.7</td>\n      <td>...</td>\n      <td>0.845</td>\n      <td>0.045</td>\n      <td>289.0</td>\n      <td>0.232</td>\n      <td>767.0</td>\n      <td>0.292</td>\n      <td>0.370</td>\n      <td>0.0</td>\n      <td>NaN</td>\n      <td>NaN</td>\n    </tr>\n    <tr>\n      <th>2</th>\n      <td>Atlanta Hawks</td>\n      <td>82.0</td>\n      <td>242.1</td>\n      <td>35.9</td>\n      <td>81.4</td>\n      <td>3.7</td>\n      <td>11.9</td>\n      <td>32.2</td>\n      <td>69.5</td>\n      <td>17.3</td>\n      <td>...</td>\n      <td>0.872</td>\n      <td>0.056</td>\n      <td>354.0</td>\n      <td>0.289</td>\n      <td>985.0</td>\n      <td>0.265</td>\n      <td>0.295</td>\n      <td>0.0</td>\n      <td>NaN</td>\n      <td>NaN</td>\n    </tr>\n    <tr>\n      <th>3</th>\n      <td>Atlanta Hawks</td>\n      <td>82.0</td>\n      <td>242.4</td>\n      <td>35.9</td>\n      <td>79.2</td>\n      <td>5.2</td>\n      <td>14.1</td>\n      <td>30.8</td>\n      <td>65.1</td>\n      <td>20.2</td>\n      <td>...</td>\n      <td>0.837</td>\n      <td>0.047</td>\n      <td>290.0</td>\n      <td>0.272</td>\n      <td>922.0</td>\n      <td>0.278</td>\n      <td>0.383</td>\n      <td>0.0</td>\n      <td>NaN</td>\n      <td>0.0015</td>\n    </tr>\n    <tr>\n      <th>4</th>\n      <td>Atlanta Hawks</td>\n      <td>82.0</td>\n      <td>242.4</td>\n      <td>34.5</td>\n      <td>77.7</td>\n      <td>4.2</td>\n      <td>12.7</td>\n      <td>30.4</td>\n      <td>65.0</td>\n      <td>20.5</td>\n      <td>...</td>\n      <td>0.833</td>\n      <td>0.047</td>\n      <td>273.0</td>\n      <td>0.284</td>\n      <td>940.0</td>\n      <td>0.253</td>\n      <td>0.373</td>\n      <td>0.0</td>\n      <td>NaN</td>\n      <td>0.0025</td>\n    </tr>\n    <tr>\n      <th>...</th>\n      <td>...</td>\n      <td>...</td>\n      <td>...</td>\n      <td>...</td>\n      <td>...</td>\n      <td>...</td>\n      <td>...</td>\n      <td>...</td>\n      <td>...</td>\n      <td>...</td>\n      <td>...</td>\n      <td>...</td>\n      <td>...</td>\n      <td>...</td>\n      <td>...</td>\n      <td>...</td>\n      <td>...</td>\n      <td>...</td>\n      <td>...</td>\n      <td>...</td>\n      <td>...</td>\n    </tr>\n    <tr>\n      <th>655</th>\n      <td>NaN</td>\n      <td>NaN</td>\n      <td>NaN</td>\n      <td>NaN</td>\n      <td>NaN</td>\n      <td>NaN</td>\n      <td>NaN</td>\n      <td>NaN</td>\n      <td>NaN</td>\n      <td>NaN</td>\n      <td>...</td>\n      <td>NaN</td>\n      <td>NaN</td>\n      <td>NaN</td>\n      <td>NaN</td>\n      <td>NaN</td>\n      <td>NaN</td>\n      <td>NaN</td>\n      <td>0.0</td>\n      <td>NaN</td>\n      <td>NaN</td>\n    </tr>\n    <tr>\n      <th>656</th>\n      <td>NaN</td>\n      <td>NaN</td>\n      <td>NaN</td>\n      <td>NaN</td>\n      <td>NaN</td>\n      <td>NaN</td>\n      <td>NaN</td>\n      <td>NaN</td>\n      <td>NaN</td>\n      <td>NaN</td>\n      <td>...</td>\n      <td>NaN</td>\n      <td>NaN</td>\n      <td>NaN</td>\n      <td>NaN</td>\n      <td>NaN</td>\n      <td>NaN</td>\n      <td>NaN</td>\n      <td>0.0</td>\n      <td>NaN</td>\n      <td>NaN</td>\n    </tr>\n    <tr>\n      <th>657</th>\n      <td>NaN</td>\n      <td>NaN</td>\n      <td>NaN</td>\n      <td>NaN</td>\n      <td>NaN</td>\n      <td>NaN</td>\n      <td>NaN</td>\n      <td>NaN</td>\n      <td>NaN</td>\n      <td>NaN</td>\n      <td>...</td>\n      <td>NaN</td>\n      <td>NaN</td>\n      <td>NaN</td>\n      <td>NaN</td>\n      <td>NaN</td>\n      <td>NaN</td>\n      <td>NaN</td>\n      <td>0.0</td>\n      <td>NaN</td>\n      <td>NaN</td>\n    </tr>\n    <tr>\n      <th>658</th>\n      <td>NaN</td>\n      <td>NaN</td>\n      <td>NaN</td>\n      <td>NaN</td>\n      <td>NaN</td>\n      <td>NaN</td>\n      <td>NaN</td>\n      <td>NaN</td>\n      <td>NaN</td>\n      <td>NaN</td>\n      <td>...</td>\n      <td>NaN</td>\n      <td>NaN</td>\n      <td>NaN</td>\n      <td>NaN</td>\n      <td>NaN</td>\n      <td>NaN</td>\n      <td>NaN</td>\n      <td>0.0</td>\n      <td>NaN</td>\n      <td>NaN</td>\n    </tr>\n    <tr>\n      <th>659</th>\n      <td>NaN</td>\n      <td>NaN</td>\n      <td>NaN</td>\n      <td>NaN</td>\n      <td>NaN</td>\n      <td>NaN</td>\n      <td>NaN</td>\n      <td>NaN</td>\n      <td>NaN</td>\n      <td>NaN</td>\n      <td>...</td>\n      <td>NaN</td>\n      <td>NaN</td>\n      <td>NaN</td>\n      <td>NaN</td>\n      <td>NaN</td>\n      <td>NaN</td>\n      <td>NaN</td>\n      <td>0.0</td>\n      <td>NaN</td>\n      <td>NaN</td>\n    </tr>\n  </tbody>\n</table>\n<p>660 rows × 88 columns</p>\n</div>"
     },
     "execution_count": 171,
     "metadata": {},
     "output_type": "execute_result"
    }
   ],
   "source": [
    "combine_1"
   ],
   "metadata": {
    "collapsed": false,
    "ExecuteTime": {
     "end_time": "2024-06-06T05:33:09.401750Z",
     "start_time": "2024-06-06T05:33:09.388260Z"
    }
   },
   "id": "c8eff996cceca8cc",
   "execution_count": 171
  },
  {
   "cell_type": "code",
   "outputs": [],
   "source": [
    "combine_1.to_csv(\"combined_stats.csv\")"
   ],
   "metadata": {
    "collapsed": false,
    "ExecuteTime": {
     "end_time": "2024-06-06T05:33:32.253501Z",
     "start_time": "2024-06-06T05:33:32.222463Z"
    }
   },
   "id": "bb81d17ac3b0f83e",
   "execution_count": 172
  },
  {
   "cell_type": "code",
   "outputs": [],
   "source": [
    "# Saving Defensive Player of the Year"
   ],
   "metadata": {
    "collapsed": false
   },
   "id": "69a1412c281376fa"
  },
  {
   "cell_type": "code",
   "outputs": [],
   "source": [
    "df_2 = []\n",
    "for year in years:\n",
    "    with open(\"shares/{}.html\".format(year)) as f:\n",
    "        page = f.read()\n",
    "    soup = BeautifulSoup(page, \"html.parser\")\n",
    "    defense = soup.find(id=\"leading_all_defense\")\n",
    "    all_defense_votes = pd.read_html(StringIO(str(defense)))[0]\n",
    "\n",
    "    df_2.append(all_defense_votes)"
   ],
   "metadata": {
    "collapsed": false,
    "ExecuteTime": {
     "end_time": "2024-07-21T06:48:53.652424Z",
     "start_time": "2024-07-21T06:48:50.764846Z"
    }
   },
   "id": "bc002bfb59c91e5d",
   "execution_count": 24
  },
  {
   "cell_type": "code",
   "outputs": [],
   "source": [
    "all_team_defense = pd.concat(df_2)\n",
    "all_team_defense.to_csv(\"all_team_defense.csv\")"
   ],
   "metadata": {
    "collapsed": false,
    "ExecuteTime": {
     "end_time": "2024-06-06T06:43:44.694078Z",
     "start_time": "2024-06-06T06:43:44.689667Z"
    }
   },
   "id": "34acae340e5e0f24",
   "execution_count": 223
  },
  {
   "cell_type": "code",
   "outputs": [],
   "source": [
    "# Import manually edited csv file as new dataframe (removed columns and added season list)"
   ],
   "metadata": {
    "collapsed": false
   },
   "id": "debe0c364322d72b"
  },
  {
   "cell_type": "code",
   "outputs": [],
   "source": [
    "atd = pd.read_csv(\"all_nba_defense.csv\")\n",
    "atd"
   ],
   "metadata": {
    "collapsed": false,
    "ExecuteTime": {
     "end_time": "2024-06-06T06:50:55.150287Z",
     "start_time": "2024-06-06T06:50:55.145525Z"
    }
   },
   "id": "67f41cdae882a356",
   "execution_count": 227
  },
  {
   "cell_type": "code",
   "outputs": [],
   "source": [
    "# Replace abbreviated team names with full names, drop teams that have the name TOT and null values and save as dataframe"
   ],
   "metadata": {
    "collapsed": false
   },
   "id": "4e29e89480bdbd1"
  },
  {
   "cell_type": "code",
   "outputs": [],
   "source": [
    "atd['Team'] = atd['Team'].replace(team_names)\n",
    "atd.drop(atd.index[(atd[\"Team\"] == \"TOT\")], axis=0, inplace=True)\n",
    "atd1 = atd.dropna(how='all')"
   ],
   "metadata": {
    "collapsed": false,
    "ExecuteTime": {
     "end_time": "2024-06-06T06:51:01.483168Z",
     "start_time": "2024-06-06T06:51:01.477567Z"
    }
   },
   "id": "1520a0b7ab1bc4dd",
   "execution_count": 229
  },
  {
   "cell_type": "code",
   "outputs": [],
   "source": [
    "atd_new = pd.DataFrame(atd1)\n",
    "atd_new"
   ],
   "metadata": {
    "collapsed": false,
    "ExecuteTime": {
     "end_time": "2024-06-06T06:51:25.114684Z",
     "start_time": "2024-06-06T06:51:25.112882Z"
    }
   },
   "id": "ffab4d210e238afe",
   "execution_count": 235
  },
  {
   "cell_type": "code",
   "outputs": [],
   "source": [
    "# Replace abbreviations that were missed in team_name library"
   ],
   "metadata": {
    "collapsed": false
   },
   "id": "d7324e1fa4d7ea6d"
  },
  {
   "cell_type": "code",
   "outputs": [],
   "source": [
    "atd_new[\"Team\"] = atd_new[\"Team\"].str.replace(\"NOK\", \"New Orleans/Oklahoma City Hornets\", regex=False)\n",
    "atd_new[\"Team\"] = atd_new[\"Team\"].str.replace(\"Charlotte Hornets\", \"Charlotte Bobcats\", regex=False)"
   ],
   "metadata": {
    "collapsed": false,
    "ExecuteTime": {
     "end_time": "2024-06-06T06:52:51.378110Z",
     "start_time": "2024-06-06T06:52:51.375542Z"
    }
   },
   "id": "4cf0debd1a175702",
   "execution_count": 241
  },
  {
   "cell_type": "code",
   "outputs": [],
   "source": [
    "# Assign weighting system for votes (similar idea as All Team NBA)"
   ],
   "metadata": {
    "collapsed": false
   },
   "id": "49f92529380bf042"
  },
  {
   "cell_type": "code",
   "outputs": [],
   "source": [
    "rank_weights = {\n",
    "    '1st': 1,\n",
    "    '2nd': 0.75,\n",
    "    'ORV': 0.5\n",
    "}\n",
    "atd_new['DPOY_Share'] = atd_new.apply(lambda row: row['Share'] * rank_weights[row['#Tm']], axis=1)\n",
    "dpoy_shares = atd_new.groupby(['Team', 'Season'])['DPOY_Share'].sum().reset_index()\n",
    "dpoy_shares"
   ],
   "metadata": {
    "collapsed": false,
    "ExecuteTime": {
     "end_time": "2024-06-06T06:52:58.319578Z",
     "start_time": "2024-06-06T06:52:58.312711Z"
    }
   },
   "id": "696fb122246ce8a0",
   "execution_count": 242
  },
  {
   "cell_type": "code",
   "outputs": [],
   "source": [
    "# Combine dataframes and save as csv file"
   ],
   "metadata": {
    "collapsed": false
   },
   "id": "208eaff52b25764f"
  },
  {
   "cell_type": "code",
   "outputs": [],
   "source": [
    "combine_2 = pd.read_csv(\"combined_stats.csv\")"
   ],
   "metadata": {
    "collapsed": false,
    "ExecuteTime": {
     "end_time": "2024-06-06T06:55:29.166808Z",
     "start_time": "2024-06-06T06:55:29.156248Z"
    }
   },
   "id": "11d6a37ffdaa3798",
   "execution_count": 244
  },
  {
   "cell_type": "code",
   "outputs": [],
   "source": [
    "combine_3 = combine_2.merge(dpoy_shares, how='outer',on=[\"Team\", \"Season\"])"
   ],
   "metadata": {
    "collapsed": false,
    "ExecuteTime": {
     "end_time": "2024-06-06T06:55:31.718476Z",
     "start_time": "2024-06-06T06:55:31.714114Z"
    }
   },
   "id": "9c98e8c161e33a9c",
   "execution_count": 245
  },
  {
   "cell_type": "code",
   "outputs": [
    {
     "data": {
      "text/plain": "     Unnamed: 0                Team     G  MP Per Game  FG Per Game  \\\n0           0.0       Atlanta Hawks  82.0        242.7         34.9   \n1           1.0       Atlanta Hawks  82.0        242.7         34.5   \n2           2.0       Atlanta Hawks  82.0        242.1         35.9   \n3           3.0       Atlanta Hawks  82.0        242.4         35.9   \n4           4.0       Atlanta Hawks  82.0        242.4         34.5   \n..          ...                 ...   ...          ...          ...   \n626       625.0  Washington Wizards  82.0        243.0         42.1   \n627       626.0  Washington Wizards  72.0        241.0         41.5   \n628       627.0  Washington Wizards  72.0        241.7         43.2   \n629       628.0  Washington Wizards  82.0        241.8         40.6   \n630       629.0  Washington Wizards  82.0        240.9         42.1   \n\n     FGA Per Game  3P Per Game  3PA Per Game  2P Per Game  2PA Per Game  ...  \\\n0            78.5          4.9          13.9         30.0          64.5  ...   \n1            79.6          5.1          15.2         29.4          64.4  ...   \n2            81.4          3.7          11.9         32.2          69.5  ...   \n3            79.2          5.2          14.1         30.8          65.1  ...   \n4            77.7          4.2          12.7         30.4          65.0  ...   \n..            ...          ...           ...          ...           ...  ...   \n626          90.1         11.3          33.3         30.8          56.8  ...   \n627          90.9         12.0          32.6         29.5          58.3  ...   \n628          90.9         10.2          29.0         33.0          61.9  ...   \n629          86.0         10.5          30.6         30.1          55.4  ...   \n630          86.9         11.3          31.7         30.9          55.2  ...   \n\n     % of FGA that are dunks  Dunks Made  % of FGA that are layups  \\\n0                      0.048       297.0                     0.202   \n1                      0.045       289.0                     0.232   \n2                      0.056       354.0                     0.289   \n3                      0.047       290.0                     0.272   \n4                      0.047       273.0                     0.284   \n..                       ...         ...                       ...   \n626                    0.067       454.0                     0.282   \n627                    0.047       276.0                     0.285   \n628                    0.055       320.0                     0.299   \n629                    0.065       408.0                     0.280   \n630                    0.059       377.0                     0.272   \n\n     # of layups made  % of corner 3PA  3P% from the corner  champion share  \\\n0               647.0            0.276                0.397          0.0000   \n1               767.0            0.292                0.370          0.0000   \n2               985.0            0.265                0.295          0.0000   \n3               922.0            0.278                0.383          0.0000   \n4               940.0            0.253                0.373          0.0000   \n..                ...              ...                  ...             ...   \n626            1210.0            0.213                0.360          0.0000   \n627            1029.0            0.167                0.388          0.0000   \n628            1074.0            0.231                0.369          0.0625   \n629            1135.0            0.246                0.397          0.0000   \n630            1118.0            0.215                0.399          0.0000   \n\n     MVP_Shares  Weighted_Share  DPOY_Share  \n0           NaN          0.0015      0.0690  \n1           NaN             NaN         NaN  \n2           NaN             NaN         NaN  \n3           NaN          0.0015         NaN  \n4           NaN          0.0025      0.0335  \n..          ...             ...         ...  \n626         NaN          0.0340      0.0025  \n627         NaN          0.0320         NaN  \n628       0.005          0.1860      0.0025  \n629         NaN             NaN         NaN  \n630         NaN             NaN      0.0025  \n\n[631 rows x 90 columns]",
      "text/html": "<div>\n<style scoped>\n    .dataframe tbody tr th:only-of-type {\n        vertical-align: middle;\n    }\n\n    .dataframe tbody tr th {\n        vertical-align: top;\n    }\n\n    .dataframe thead th {\n        text-align: right;\n    }\n</style>\n<table border=\"1\" class=\"dataframe\">\n  <thead>\n    <tr style=\"text-align: right;\">\n      <th></th>\n      <th>Unnamed: 0</th>\n      <th>Team</th>\n      <th>G</th>\n      <th>MP Per Game</th>\n      <th>FG Per Game</th>\n      <th>FGA Per Game</th>\n      <th>3P Per Game</th>\n      <th>3PA Per Game</th>\n      <th>2P Per Game</th>\n      <th>2PA Per Game</th>\n      <th>...</th>\n      <th>% of FGA that are dunks</th>\n      <th>Dunks Made</th>\n      <th>% of FGA that are layups</th>\n      <th># of layups made</th>\n      <th>% of corner 3PA</th>\n      <th>3P% from the corner</th>\n      <th>champion share</th>\n      <th>MVP_Shares</th>\n      <th>Weighted_Share</th>\n      <th>DPOY_Share</th>\n    </tr>\n  </thead>\n  <tbody>\n    <tr>\n      <th>0</th>\n      <td>0.0</td>\n      <td>Atlanta Hawks</td>\n      <td>82.0</td>\n      <td>242.7</td>\n      <td>34.9</td>\n      <td>78.5</td>\n      <td>4.9</td>\n      <td>13.9</td>\n      <td>30.0</td>\n      <td>64.5</td>\n      <td>...</td>\n      <td>0.048</td>\n      <td>297.0</td>\n      <td>0.202</td>\n      <td>647.0</td>\n      <td>0.276</td>\n      <td>0.397</td>\n      <td>0.0000</td>\n      <td>NaN</td>\n      <td>0.0015</td>\n      <td>0.0690</td>\n    </tr>\n    <tr>\n      <th>1</th>\n      <td>1.0</td>\n      <td>Atlanta Hawks</td>\n      <td>82.0</td>\n      <td>242.7</td>\n      <td>34.5</td>\n      <td>79.6</td>\n      <td>5.1</td>\n      <td>15.2</td>\n      <td>29.4</td>\n      <td>64.4</td>\n      <td>...</td>\n      <td>0.045</td>\n      <td>289.0</td>\n      <td>0.232</td>\n      <td>767.0</td>\n      <td>0.292</td>\n      <td>0.370</td>\n      <td>0.0000</td>\n      <td>NaN</td>\n      <td>NaN</td>\n      <td>NaN</td>\n    </tr>\n    <tr>\n      <th>2</th>\n      <td>2.0</td>\n      <td>Atlanta Hawks</td>\n      <td>82.0</td>\n      <td>242.1</td>\n      <td>35.9</td>\n      <td>81.4</td>\n      <td>3.7</td>\n      <td>11.9</td>\n      <td>32.2</td>\n      <td>69.5</td>\n      <td>...</td>\n      <td>0.056</td>\n      <td>354.0</td>\n      <td>0.289</td>\n      <td>985.0</td>\n      <td>0.265</td>\n      <td>0.295</td>\n      <td>0.0000</td>\n      <td>NaN</td>\n      <td>NaN</td>\n      <td>NaN</td>\n    </tr>\n    <tr>\n      <th>3</th>\n      <td>3.0</td>\n      <td>Atlanta Hawks</td>\n      <td>82.0</td>\n      <td>242.4</td>\n      <td>35.9</td>\n      <td>79.2</td>\n      <td>5.2</td>\n      <td>14.1</td>\n      <td>30.8</td>\n      <td>65.1</td>\n      <td>...</td>\n      <td>0.047</td>\n      <td>290.0</td>\n      <td>0.272</td>\n      <td>922.0</td>\n      <td>0.278</td>\n      <td>0.383</td>\n      <td>0.0000</td>\n      <td>NaN</td>\n      <td>0.0015</td>\n      <td>NaN</td>\n    </tr>\n    <tr>\n      <th>4</th>\n      <td>4.0</td>\n      <td>Atlanta Hawks</td>\n      <td>82.0</td>\n      <td>242.4</td>\n      <td>34.5</td>\n      <td>77.7</td>\n      <td>4.2</td>\n      <td>12.7</td>\n      <td>30.4</td>\n      <td>65.0</td>\n      <td>...</td>\n      <td>0.047</td>\n      <td>273.0</td>\n      <td>0.284</td>\n      <td>940.0</td>\n      <td>0.253</td>\n      <td>0.373</td>\n      <td>0.0000</td>\n      <td>NaN</td>\n      <td>0.0025</td>\n      <td>0.0335</td>\n    </tr>\n    <tr>\n      <th>...</th>\n      <td>...</td>\n      <td>...</td>\n      <td>...</td>\n      <td>...</td>\n      <td>...</td>\n      <td>...</td>\n      <td>...</td>\n      <td>...</td>\n      <td>...</td>\n      <td>...</td>\n      <td>...</td>\n      <td>...</td>\n      <td>...</td>\n      <td>...</td>\n      <td>...</td>\n      <td>...</td>\n      <td>...</td>\n      <td>...</td>\n      <td>...</td>\n      <td>...</td>\n      <td>...</td>\n    </tr>\n    <tr>\n      <th>626</th>\n      <td>625.0</td>\n      <td>Washington Wizards</td>\n      <td>82.0</td>\n      <td>243.0</td>\n      <td>42.1</td>\n      <td>90.1</td>\n      <td>11.3</td>\n      <td>33.3</td>\n      <td>30.8</td>\n      <td>56.8</td>\n      <td>...</td>\n      <td>0.067</td>\n      <td>454.0</td>\n      <td>0.282</td>\n      <td>1210.0</td>\n      <td>0.213</td>\n      <td>0.360</td>\n      <td>0.0000</td>\n      <td>NaN</td>\n      <td>0.0340</td>\n      <td>0.0025</td>\n    </tr>\n    <tr>\n      <th>627</th>\n      <td>626.0</td>\n      <td>Washington Wizards</td>\n      <td>72.0</td>\n      <td>241.0</td>\n      <td>41.5</td>\n      <td>90.9</td>\n      <td>12.0</td>\n      <td>32.6</td>\n      <td>29.5</td>\n      <td>58.3</td>\n      <td>...</td>\n      <td>0.047</td>\n      <td>276.0</td>\n      <td>0.285</td>\n      <td>1029.0</td>\n      <td>0.167</td>\n      <td>0.388</td>\n      <td>0.0000</td>\n      <td>NaN</td>\n      <td>0.0320</td>\n      <td>NaN</td>\n    </tr>\n    <tr>\n      <th>628</th>\n      <td>627.0</td>\n      <td>Washington Wizards</td>\n      <td>72.0</td>\n      <td>241.7</td>\n      <td>43.2</td>\n      <td>90.9</td>\n      <td>10.2</td>\n      <td>29.0</td>\n      <td>33.0</td>\n      <td>61.9</td>\n      <td>...</td>\n      <td>0.055</td>\n      <td>320.0</td>\n      <td>0.299</td>\n      <td>1074.0</td>\n      <td>0.231</td>\n      <td>0.369</td>\n      <td>0.0625</td>\n      <td>0.005</td>\n      <td>0.1860</td>\n      <td>0.0025</td>\n    </tr>\n    <tr>\n      <th>629</th>\n      <td>628.0</td>\n      <td>Washington Wizards</td>\n      <td>82.0</td>\n      <td>241.8</td>\n      <td>40.6</td>\n      <td>86.0</td>\n      <td>10.5</td>\n      <td>30.6</td>\n      <td>30.1</td>\n      <td>55.4</td>\n      <td>...</td>\n      <td>0.065</td>\n      <td>408.0</td>\n      <td>0.280</td>\n      <td>1135.0</td>\n      <td>0.246</td>\n      <td>0.397</td>\n      <td>0.0000</td>\n      <td>NaN</td>\n      <td>NaN</td>\n      <td>NaN</td>\n    </tr>\n    <tr>\n      <th>630</th>\n      <td>629.0</td>\n      <td>Washington Wizards</td>\n      <td>82.0</td>\n      <td>240.9</td>\n      <td>42.1</td>\n      <td>86.9</td>\n      <td>11.3</td>\n      <td>31.7</td>\n      <td>30.9</td>\n      <td>55.2</td>\n      <td>...</td>\n      <td>0.059</td>\n      <td>377.0</td>\n      <td>0.272</td>\n      <td>1118.0</td>\n      <td>0.215</td>\n      <td>0.399</td>\n      <td>0.0000</td>\n      <td>NaN</td>\n      <td>NaN</td>\n      <td>0.0025</td>\n    </tr>\n  </tbody>\n</table>\n<p>631 rows × 90 columns</p>\n</div>"
     },
     "execution_count": 246,
     "metadata": {},
     "output_type": "execute_result"
    }
   ],
   "source": [
    "combine_3"
   ],
   "metadata": {
    "collapsed": false,
    "ExecuteTime": {
     "end_time": "2024-06-06T06:55:33.399327Z",
     "start_time": "2024-06-06T06:55:33.384468Z"
    }
   },
   "id": "5907599fd286bc94",
   "execution_count": 246
  },
  {
   "cell_type": "code",
   "outputs": [],
   "source": [
    "combine_3.to_csv(\"combined_stats_1.csv\")"
   ],
   "metadata": {
    "collapsed": false,
    "ExecuteTime": {
     "end_time": "2024-06-06T06:55:35.151789Z",
     "start_time": "2024-06-06T06:55:35.113824Z"
    }
   },
   "id": "dc9097e8c4c62dab",
   "execution_count": 247
  },
  {
   "cell_type": "code",
   "outputs": [],
   "source": [
    "years1 = list(range(1997,2003))"
   ],
   "metadata": {
    "collapsed": false,
    "ExecuteTime": {
     "end_time": "2024-06-08T08:55:13.273507Z",
     "start_time": "2024-06-08T08:55:13.271881Z"
    }
   },
   "id": "5528965d607fd7d3",
   "execution_count": 1
  },
  {
   "cell_type": "code",
   "outputs": [
    {
     "data": {
      "text/plain": "[1997, 1998, 1999, 2000, 2001, 2002]"
     },
     "execution_count": 2,
     "metadata": {},
     "output_type": "execute_result"
    }
   ],
   "source": [
    "years1"
   ],
   "metadata": {
    "collapsed": false,
    "ExecuteTime": {
     "end_time": "2024-06-08T08:55:18.855860Z",
     "start_time": "2024-06-08T08:55:18.851741Z"
    }
   },
   "id": "a1c09fc7243265bb",
   "execution_count": 2
  },
  {
   "cell_type": "code",
   "outputs": [],
   "source": [
    "dfs1 = []\n",
    "for year in years1:\n",
    "    with open(\"shares/{}.html\".format(year)) as f:\n",
    "        page = f.read()\n",
    "    soup = BeautifulSoup(page, \"html.parser\")\n",
    "    mvp = soup.find(id=\"mvp\")\n",
    "    seasons = pd.read_html(StringIO(str(mvp)))[0]\n",
    "\n",
    "    dfs1.append(seasons)"
   ],
   "metadata": {
    "collapsed": false,
    "ExecuteTime": {
     "end_time": "2024-06-08T08:58:22.550125Z",
     "start_time": "2024-06-08T08:58:22.030993Z"
    }
   },
   "id": "b310279747eaab6b",
   "execution_count": 11
  },
  {
   "cell_type": "code",
   "outputs": [
    {
     "data": {
      "text/plain": "[   Unnamed: 0_level_0 Unnamed: 1_level_0 Unnamed: 2_level_0  \\\n                  Rank             Player                Age   \n 0                   1        Karl Malone                 33   \n 1                   2     Michael Jordan                 33   \n 2                   3         Grant Hill                 24   \n 3                   4       Tim Hardaway                 30   \n 4                   5          Glen Rice                 29   \n 5                   6        Gary Payton                 28   \n 6                   7    Hakeem Olajuwon                 34   \n 7                   8      Patrick Ewing                 34   \n 8                  9T      Anthony Mason                 30   \n 9                  9T   Shaquille O'Neal                 24   \n 10                 11     Scottie Pippen                 31   \n 11                 12    Alonzo Mourning                 26   \n 12                13T    Dikembe Mutombo                 30   \n 13                13T     Mitch Richmond                 31   \n 14                 15      John Stockton                 34   \n 15                 16    Charles Barkley                 33   \n 16                17T      Tom Gugliotta                 27   \n 17                17T      Allen Iverson                 21   \n 18                17T      Kevin Johnson                 30   \n 19                17T        Steve Smith                 27   \n \n    Unnamed: 3_level_0 Voting                        Unnamed: 8_level_0  \\\n                    Tm  First Pts Won Pts Max  Share                  G   \n 0                 UTA   63.0   986.0    1150  0.857                 82   \n 1                 CHI   52.0   957.0    1150  0.832                 82   \n 2                 DET    0.0   376.0    1150  0.327                 80   \n 3                 MIA    0.0   238.0    1150  0.207                 81   \n 4                 CHH    0.0   134.0    1150  0.117                 79   \n 5                 SEA    0.0   105.0    1150  0.091                 82   \n 6                 HOU    0.0    95.0    1150  0.083                 78   \n 7                 NYK    0.0    57.0    1150  0.050                 78   \n 8                 CHH    0.0     7.0    1150  0.006                 73   \n 9                 LAL    0.0     7.0    1150  0.006                 51   \n 10                CHI    0.0     6.0    1150  0.005                 82   \n 11                MIA    0.0     5.0    1150  0.004                 66   \n 12                ATL    0.0     4.0    1150  0.003                 80   \n 13                SAC    0.0     4.0    1150  0.003                 81   \n 14                UTA    0.0     3.0    1150  0.003                 82   \n 15                HOU    0.0     2.0    1150  0.002                 53   \n 16                MIN    0.0     1.0    1150  0.001                 81   \n 17                PHI    0.0     1.0    1150  0.001                 76   \n 18                PHO    0.0     1.0    1150  0.001                 70   \n 19                ATL    0.0     1.0    1150  0.001                 72   \n \n    Per Game                             Shooting               Advanced         \n          MP   PTS   TRB   AST  STL  BLK      FG%    3P%    FT%       WS  WS/48  \n 0      36.6  27.4   9.9   4.5  1.4  0.6    0.550  0.000  0.755     16.7  0.268  \n 1      37.9  29.6   5.9   4.3  1.7  0.5    0.486  0.374  0.833     18.3  0.283  \n 2      39.3  21.4   9.0   7.3  1.8  0.6    0.496  0.303  0.711     14.6  0.223  \n 3      38.7  20.3   3.4   8.6  1.9  0.1    0.415  0.344  0.799     12.9  0.198  \n 4      42.6  26.8   4.0   2.0  0.9  0.3    0.477  0.470  0.867     10.8  0.154  \n 5      39.2  21.8   4.6   7.1  2.4  0.2    0.476  0.313  0.715     12.9  0.193  \n 6      36.6  23.2   9.2   3.0  1.5  2.2    0.510  0.313  0.787      9.1  0.154  \n 7      37.0  22.4  10.7   2.0  0.9  2.4    0.488  0.222  0.754      9.8  0.163  \n 8      43.1  16.2  11.4   5.7  1.0  0.5    0.525  0.333  0.745     11.4  0.173  \n 9      38.1  26.2  12.5   3.1  0.9  2.9    0.557  0.000  0.484      8.0  0.197  \n 10     37.7  20.2   6.5   5.7  1.9  0.5    0.474  0.368  0.701     13.1  0.203  \n 11     35.2  19.8   9.9   1.6  0.8  2.9    0.534  0.111  0.642      8.4  0.174  \n 12     37.2  13.3  11.6   1.4  0.6  3.3    0.527    NaN  0.705     11.3  0.183  \n 13     38.6  25.9   3.9   4.2  1.5  0.3    0.454  0.428  0.861     10.8  0.166  \n 14     35.3  14.4   2.8  10.5  2.0  0.2    0.548  0.422  0.846     13.6  0.226  \n 15     37.9  19.2  13.5   4.7  1.3  0.5    0.484  0.283  0.694      9.4  0.224  \n 16     38.7  20.6   8.7   4.1  1.6  1.1    0.442  0.258  0.820      6.7  0.103  \n 17     40.1  23.5   4.1   7.5  2.1  0.3    0.416  0.341  0.702      4.1  0.065  \n 18     38.0  20.1   3.6   9.3  1.5  0.2    0.496  0.441  0.852     11.7  0.211  \n 19     39.1  20.1   3.3   4.2  0.9  0.3    0.429  0.335  0.847      9.1  0.154  ,\n    Unnamed: 0_level_0 Unnamed: 1_level_0 Unnamed: 2_level_0  \\\n                  Rank             Player                Age   \n 0                   1     Michael Jordan                 34   \n 1                   2        Karl Malone                 34   \n 2                   3        Gary Payton                 29   \n 3                   4   Shaquille O'Neal                 25   \n 4                   5         Tim Duncan                 21   \n 5                   6       Tim Hardaway                 31   \n 6                   7     David Robinson                 32   \n 7                   8          Vin Baker                 26   \n 8                   9         Grant Hill                 25   \n 9                  10     Scottie Pippen                 32   \n 10                 11          Glen Rice                 30   \n 11                 12     Antoine Walker                 21   \n 12                13T         Jason Kidd                 24   \n 13                13T      John Stockton                 35   \n 14                 15     Mitch Richmond                 32   \n 15                16T      Reggie Miller                 32   \n 16                16T          Rik Smits                 31   \n 17                18T     Michael Finley                 24   \n 18                18T     Rod Strickland                 31   \n \n    Unnamed: 3_level_0 Voting                        Unnamed: 8_level_0  \\\n                    Tm  First Pts Won Pts Max  Share                  G   \n 0                 CHI   92.0  1084.0    1160  0.934                 82   \n 1                 UTA   20.0   842.0    1160  0.726                 81   \n 2                 SEA    3.0   431.0    1160  0.372                 82   \n 3                 LAL    1.0   311.0    1160  0.268                 60   \n 4                 SAS    0.0   148.0    1160  0.128                 82   \n 5                 MIA    0.0    71.0    1160  0.061                 81   \n 6                 SAS    0.0    36.0    1160  0.031                 73   \n 7                 SEA    0.0    24.0    1160  0.021                 82   \n 8                 DET    0.0    23.0    1160  0.020                 81   \n 9                 CHI    0.0    14.0    1160  0.012                 44   \n 10                CHH    0.0     7.0    1160  0.006                 82   \n 11                BOS    0.0     6.0    1160  0.005                 82   \n 12                PHO    0.0     5.0    1160  0.004                 82   \n 13                UTA    0.0     5.0    1160  0.004                 64   \n 14                SAC    0.0     3.0    1160  0.003                 70   \n 15                IND    0.0     2.0    1160  0.002                 81   \n 16                IND    0.0     2.0    1160  0.002                 73   \n 17                DAL    0.0     1.0    1160  0.001                 82   \n 18                WAS    0.0     1.0    1160  0.001                 76   \n \n    Per Game                             Shooting               Advanced         \n          MP   PTS   TRB   AST  STL  BLK      FG%    3P%    FT%       WS  WS/48  \n 0      38.8  28.7   5.8   3.5  1.7  0.5    0.465  0.238  0.784     15.8  0.238  \n 1      37.4  27.0  10.3   3.9  1.2  0.9    0.530  0.333  0.761     16.4  0.259  \n 2      38.4  19.2   4.6   8.3  2.3  0.2    0.453  0.338  0.744     12.5  0.190  \n 3      36.3  28.3  11.4   2.4  0.7  2.4    0.584    NaN  0.527     10.2  0.224  \n 4      39.1  21.1  11.9   2.7  0.7  2.5    0.549  0.000  0.662     12.8  0.192  \n 5      37.4  18.9   3.7   8.3  1.7  0.2    0.431  0.351  0.781     11.7  0.185  \n 6      33.7  21.6  10.6   2.7  0.9  2.6    0.511  0.250  0.735     13.8  0.269  \n 7      35.9  19.2   8.0   1.9  1.1  1.0    0.542  0.143  0.591     10.4  0.169  \n 8      40.7  21.1   7.7   6.8  1.8  0.7    0.452  0.143  0.740     10.2  0.149  \n 9      37.5  19.1   5.2   5.8  1.8  1.0    0.447  0.318  0.777      6.6  0.193  \n 10     40.2  22.3   4.3   2.2  0.9  0.3    0.457  0.433  0.849      9.3  0.136  \n 11     39.9  22.4  10.2   3.3  1.7  0.7    0.423  0.312  0.645      4.7  0.070  \n 12     38.0  11.6   6.2   9.1  2.0  0.3    0.416  0.313  0.799      8.0  0.123  \n 13     29.0  12.0   2.6   8.5  1.4  0.2    0.528  0.429  0.827      8.0  0.206  \n 14     36.7  23.2   3.3   4.0  1.3  0.2    0.445  0.389  0.864      7.9  0.148  \n 15     34.5  19.5   2.9   2.1  1.0  0.1    0.477  0.429  0.868     12.0  0.206  \n 16     28.6  16.7   6.9   1.4  0.5  1.2    0.495  0.000  0.783      6.1  0.141  \n 17     41.4  21.5   5.3   4.9  1.6  0.4    0.449  0.357  0.784      7.5  0.106  \n 18     39.7  17.8   5.3  10.5  1.7  0.3    0.434  0.250  0.726      8.1  0.129  ,\n    Unnamed: 0_level_0 Unnamed: 1_level_0 Unnamed: 2_level_0  \\\n                  Rank             Player                Age   \n 0                   1        Karl Malone                 35   \n 1                   2    Alonzo Mourning                 28   \n 2                   3         Tim Duncan                 22   \n 3                   4      Allen Iverson                 23   \n 4                   5         Jason Kidd                 25   \n 5                   6   Shaquille O'Neal                 26   \n 6                   7       Chris Webber                 25   \n 7                   8         Grant Hill                 26   \n 8                   9        Gary Payton                 30   \n 9                  10      Kevin Garnett                 22   \n 10                 11         Shawn Kemp                 29   \n 11                 12     David Robinson                 33   \n 12                13T    Hakeem Olajuwon                 36   \n 13                13T    Arvydas Sabonis                 34   \n 14                 15  Darrell Armstrong                 30   \n 15                16T       Vince Carter                 22   \n 16                16T  Anfernee Hardaway                 27   \n 17                16T       Mark Jackson                 33   \n 18                16T     Glenn Robinson                 26   \n 19                16T        Steve Smith                 29   \n 20                16T    Rasheed Wallace                 24   \n \n    Unnamed: 3_level_0 Voting                        Unnamed: 8_level_0  \\\n                    Tm  First Pts Won Pts Max  Share                  G   \n 0                 UTA   44.0   827.0    1180  0.701                 49   \n 1                 MIA   36.0   773.0    1180  0.655                 46   \n 2                 SAS   30.0   740.0    1180  0.627                 50   \n 3                 PHI    5.0   319.0    1180  0.270                 48   \n 4                 PHO    2.0   159.0    1180  0.135                 50   \n 5                 LAL    1.0    89.0    1180  0.075                 49   \n 6                 SAC    0.0    51.0    1180  0.043                 42   \n 7                 DET    0.0    39.0    1180  0.033                 50   \n 8                 SEA    0.0    35.0    1180  0.030                 50   \n 9                 MIN    0.0     9.0    1180  0.008                 47   \n 10                CLE    0.0     7.0    1180  0.006                 42   \n 11                SAS    0.0     6.0    1180  0.005                 49   \n 12                HOU    0.0     3.0    1180  0.003                 50   \n 13                POR    0.0     3.0    1180  0.003                 50   \n 14                ORL    0.0     2.0    1180  0.002                 50   \n 15                TOR    0.0     1.0    1180  0.001                 50   \n 16                ORL    0.0     1.0    1180  0.001                 50   \n 17                IND    0.0     1.0    1180  0.001                 49   \n 18                MIL    0.0     1.0    1180  0.001                 47   \n 19                ATL    0.0     1.0    1180  0.001                 36   \n 20                POR    0.0     1.0    1180  0.001                 49   \n \n    Per Game                             Shooting               Advanced         \n          MP   PTS   TRB   AST  STL  BLK      FG%    3P%    FT%       WS  WS/48  \n 0      37.4  23.8   9.4   4.1  1.3  0.6    0.493  0.000  0.788      9.6  0.252  \n 1      38.1  20.1  11.0   1.6  0.7  3.9    0.511  0.000  0.652      7.9  0.216  \n 2      39.3  21.7  11.4   2.4  0.9  2.5    0.495  0.143  0.690      8.7  0.213  \n 3      41.5  26.8   4.9   4.6  2.3  0.1    0.412  0.291  0.751      7.2  0.173  \n 4      41.2  16.9   6.8  10.8  2.3  0.4    0.444  0.366  0.757      8.1  0.188  \n 5      34.8  26.3  10.7   2.3  0.7  1.7    0.576  0.000  0.540      9.0  0.255  \n 6      40.9  20.0  13.0   4.1  1.4  2.1    0.486  0.118  0.454      3.6  0.102  \n 7      37.0  21.1   7.1   6.0  1.6  0.5    0.479  0.000  0.752      7.3  0.189  \n 8      40.2  21.7   4.9   8.7  2.2  0.2    0.434  0.295  0.721      7.2  0.172  \n 9      37.9  20.8  10.4   4.3  1.7  1.8    0.460  0.286  0.704      5.4  0.146  \n 10     35.1  20.5   9.2   2.4  1.1  1.1    0.482  0.500  0.789      6.3  0.205  \n 11     31.7  15.8  10.0   2.1  1.4  2.4    0.509  0.000  0.658      8.4  0.261  \n 12     35.7  18.9   9.6   1.8  1.6  2.5    0.514  0.308  0.717      6.5  0.175  \n 13     27.0  12.1   7.9   2.4  0.7  1.3    0.485  0.292  0.771      5.8  0.207  \n 14     30.0  13.8   3.6   6.7  2.2  0.1    0.441  0.365  0.904      6.4  0.205  \n 15     35.2  18.3   5.7   3.0  1.1  1.5    0.450  0.288  0.761      5.0  0.136  \n 16     38.9  15.8   5.7   5.3  2.2  0.5    0.420  0.286  0.706      5.0  0.122  \n 17     28.2   7.6   3.8   7.9  0.9  0.1    0.419  0.311  0.823      3.8  0.134  \n 18     33.6  18.4   5.9   2.1  1.0  0.9    0.459  0.392  0.870      4.0  0.122  \n 19     36.5  18.7   4.2   3.3  1.0  0.3    0.402  0.338  0.849      4.4  0.162  \n 20     28.9  12.8   4.9   1.2  1.0  1.1    0.508  0.419  0.732      5.0  0.169  ,\n    Unnamed: 0_level_0 Unnamed: 1_level_0 Unnamed: 2_level_0  \\\n                  Rank             Player                Age   \n 0                   1   Shaquille O'Neal                 27   \n 1                   2      Kevin Garnett                 23   \n 2                   3    Alonzo Mourning                 29   \n 3                   4        Karl Malone                 36   \n 4                   5         Tim Duncan                 23   \n 5                   6        Gary Payton                 31   \n 6                   7      Allen Iverson                 24   \n 7                   8         Grant Hill                 27   \n 8                   9       Chris Webber                 26   \n 9                  10       Vince Carter                 23   \n 10                 11         Jason Kidd                 26   \n 11                 12        Kobe Bryant                 21   \n 12                13T  Darrell Armstrong                 31   \n 13                13T     Michael Finley                 26   \n 14                13T      Reggie Miller                 34   \n 15                13T         Jalen Rose                 27   \n \n    Unnamed: 3_level_0 Voting                        Unnamed: 8_level_0  \\\n                    Tm  First Pts Won Pts Max  Share                  G   \n 0                 LAL  120.0  1207.0    1210  0.998                 79   \n 1                 MIN    0.0   408.0    1210  0.337                 81   \n 2                 MIA    0.0   367.0    1210  0.303                 79   \n 3                 UTA    0.0   312.0    1210  0.258                 82   \n 4                 SAS    0.0   248.0    1210  0.205                 74   \n 5                 SEA    0.0   180.0    1210  0.149                 82   \n 6                 PHI    1.0   132.0    1210  0.109                 70   \n 7                 DET    0.0   113.0    1210  0.093                 74   \n 8                 SAC    0.0    96.0    1210  0.079                 75   \n 9                 TOR    0.0    51.0    1210  0.042                 82   \n 10                PHO    0.0    25.0    1210  0.021                 67   \n 11                LAL    0.0     3.0    1210  0.002                 66   \n 12                ORL    0.0     1.0    1210  0.001                 82   \n 13                DAL    0.0     1.0    1210  0.001                 82   \n 14                IND    0.0     1.0    1210  0.001                 81   \n 15                IND    0.0     1.0    1210  0.001                 80   \n \n    Per Game                             Shooting               Advanced         \n          MP   PTS   TRB   AST  STL  BLK      FG%    3P%    FT%       WS  WS/48  \n 0      40.0  29.7  13.6   3.8  0.5  3.0    0.574  0.000  0.524     18.6  0.283  \n 1      40.0  22.9  11.8   5.0  1.5  1.6    0.497  0.370  0.765     11.6  0.172  \n 2      34.8  21.7   9.5   1.6  0.5  3.7    0.551  0.000  0.711     12.9  0.226  \n 3      35.9  25.5   9.5   3.7  1.0  0.9    0.509  0.250  0.797     15.3  0.249  \n 4      38.9  23.2  12.4   3.2  0.9  2.2    0.490  0.091  0.761     13.0  0.218  \n 5      41.8  24.2   6.5   8.9  1.9  0.2    0.448  0.340  0.735     13.9  0.195  \n 6      40.8  28.4   3.8   4.7  2.1  0.1    0.421  0.341  0.713      6.9  0.116  \n 7      37.5  25.8   6.6   5.2  1.4  0.6    0.489  0.347  0.795     10.7  0.185  \n 8      38.4  24.5  10.5   4.6  1.6  1.7    0.483  0.284  0.751     10.7  0.179  \n 9      38.1  25.7   5.8   3.9  1.3  1.1    0.465  0.403  0.791     11.8  0.182  \n 10     39.0  14.3   7.2  10.1  2.0  0.4    0.409  0.337  0.829      8.5  0.156  \n 11     38.2  22.5   6.3   4.9  1.6  0.9    0.468  0.319  0.821     10.6  0.202  \n 12     31.6  16.2   3.3   6.1  2.1  0.1    0.433  0.340  0.911      8.0  0.149  \n 13     42.2  22.6   6.3   5.3  1.3  0.4    0.457  0.401  0.820      8.3  0.114  \n 14     36.9  18.1   3.0   2.3  1.0  0.3    0.448  0.408  0.919     10.1  0.162  \n 15     37.2  18.2   4.8   4.0  1.1  0.6    0.471  0.393  0.827      7.3  0.118  ,\n    Unnamed: 0_level_0 Unnamed: 1_level_0 Unnamed: 2_level_0  \\\n                  Rank             Player                Age   \n 0                   1      Allen Iverson                 25   \n 1                   2         Tim Duncan                 24   \n 2                   3   Shaquille O'Neal                 28   \n 3                   4       Chris Webber                 27   \n 4                   5      Kevin Garnett                 24   \n 5                   6      Tracy McGrady                 21   \n 6                   7        Karl Malone                 37   \n 7                   8         Jason Kidd                 27   \n 8                   9        Kobe Bryant                 22   \n 9                  10     David Robinson                 35   \n 10                11T          Ray Allen                 25   \n 11                11T       Vince Carter                 24   \n 12                 13        Paul Pierce                 23   \n 13                 14   Jerry Stackhouse                 26   \n 14                15T     Michael Finley                 27   \n 15                15T      Anthony Mason                 34   \n 16                15T      John Stockton                 38   \n \n    Unnamed: 3_level_0 Voting                        Unnamed: 8_level_0  \\\n                    Tm  First Pts Won Pts Max  Share                  G   \n 0                 PHI   93.0  1121.0    1240  0.904                 71   \n 1                 SAS   18.0   706.0    1240  0.569                 82   \n 2                 LAL    7.0   578.0    1240  0.466                 74   \n 3                 SAC    5.0   521.0    1240  0.420                 70   \n 4                 MIN    1.0   151.0    1240  0.122                 81   \n 5                 ORL    0.0    64.0    1240  0.052                 77   \n 6                 UTA    0.0    21.0    1240  0.017                 81   \n 7                 PHO    0.0    18.0    1240  0.015                 77   \n 8                 LAL    0.0    11.0    1240  0.009                 68   \n 9                 SAS    0.0     8.0    1240  0.006                 80   \n 10                MIL    0.0     7.0    1240  0.006                 82   \n 11                TOR    0.0     7.0    1240  0.006                 75   \n 12                BOS    0.0     5.0    1240  0.004                 82   \n 13                DET    0.0     3.0    1240  0.002                 80   \n 14                DAL    0.0     1.0    1240  0.001                 82   \n 15                MIA    0.0     1.0    1240  0.001                 80   \n 16                UTA    0.0     1.0    1240  0.001                 82   \n \n    Per Game                            Shooting               Advanced         \n          MP   PTS   TRB  AST  STL  BLK      FG%    3P%    FT%       WS  WS/48  \n 0      42.0  31.1   3.8  4.6  2.5  0.3    0.420  0.320  0.814     11.8  0.190  \n 1      38.7  22.2  12.2  3.0  0.9  2.3    0.499  0.259  0.618     13.2  0.200  \n 2      39.5  28.7  12.7  3.7  0.6  2.8    0.572  0.000  0.513     14.9  0.245  \n 3      40.5  27.1  11.1  4.2  1.3  1.7    0.481  0.071  0.703     11.0  0.186  \n 4      39.5  22.0  11.4  5.0  1.4  1.8    0.477  0.288  0.764     11.8  0.176  \n 5      40.1  26.8   7.5  4.6  1.5  1.5    0.457  0.355  0.733     12.2  0.189  \n 6      35.7  23.2   8.3  4.5  1.1  0.8    0.498  0.400  0.793     13.1  0.217  \n 7      39.8  16.9   6.4  9.8  2.2  0.3    0.411  0.297  0.814      9.6  0.150  \n 8      40.9  28.5   5.9  5.0  1.7  0.6    0.464  0.305  0.853     11.3  0.196  \n 9      29.6  14.4   8.6  1.5  1.0  2.5    0.486  0.000  0.747     12.1  0.246  \n 10     38.2  22.0   5.2  4.6  1.5  0.2    0.480  0.433  0.888     13.7  0.211  \n 11     39.7  27.6   5.5  3.9  1.5  1.1    0.460  0.408  0.765     12.9  0.208  \n 12     38.0  25.3   6.4  3.1  1.7  0.8    0.454  0.383  0.745     10.4  0.160  \n 13     40.2  29.8   3.9  5.1  1.2  0.7    0.402  0.351  0.822      9.2  0.137  \n 14     42.0  21.5   5.2  4.4  1.4  0.4    0.458  0.346  0.775      8.5  0.119  \n 15     40.7  16.1   9.6  3.1  1.0  0.3    0.482    NaN  0.781     11.6  0.171  \n 16     29.2  11.5   2.8  8.7  1.6  0.3    0.504  0.462  0.817     10.8  0.216  ,\n    Unnamed: 0_level_0 Unnamed: 1_level_0 Unnamed: 2_level_0  \\\n                  Rank             Player                Age   \n 0                   1         Tim Duncan                 25   \n 1                   2         Jason Kidd                 28   \n 2                   3   Shaquille O'Neal                 29   \n 3                   4      Tracy McGrady                 22   \n 4                   5        Kobe Bryant                 23   \n 5                   6        Gary Payton                 33   \n 6                   7       Chris Webber                 28   \n 7                   8      Dirk Nowitzki                 23   \n 8                   9      Allen Iverson                 26   \n 9                  10        Ben Wallace                 27   \n 10                 11        Paul Pierce                 24   \n 11                 12      Kevin Garnett                 25   \n 12                 13     Michael Jordan                 38   \n 13                 14         Steve Nash                 27   \n 14                 15   Jerry Stackhouse                 27   \n 15                16T         Mike Bibby                 23   \n 16                16T        Elton Brand                 22   \n 17                16T    Peja Stojaković                 24   \n \n    Unnamed: 3_level_0 Voting                        Unnamed: 8_level_0  \\\n                    Tm  First Pts Won Pts Max  Share                  G   \n 0                 SAS   57.0   954.0    1260  0.757                 82   \n 1                 NJN   45.0   897.0    1260  0.712                 82   \n 2                 LAL   15.0   696.0    1260  0.552                 67   \n 3                 ORL    7.0   390.0    1260  0.310                 76   \n 4                 LAL    1.0    98.0    1260  0.078                 80   \n 5                 SEA    1.0    54.0    1260  0.043                 82   \n 6                 SAC    0.0    37.0    1260  0.029                 54   \n 7                 DAL    0.0    31.0    1260  0.025                 76   \n 8                 PHI    0.0    29.0    1260  0.023                 60   \n 9                 DET    0.0    24.0    1260  0.019                 80   \n 10                BOS    0.0    22.0    1260  0.017                 82   \n 11                MIN    0.0    17.0    1260  0.013                 81   \n 12                WAS    0.0    16.0    1260  0.013                 60   \n 13                DAL    0.0     5.0    1260  0.004                 82   \n 14                DET    0.0     3.0    1260  0.002                 76   \n 15                SAC    0.0     1.0    1260  0.001                 80   \n 16                LAC    0.0     1.0    1260  0.001                 80   \n 17                SAC    0.0     1.0    1260  0.001                 71   \n \n    Per Game                            Shooting               Advanced         \n          MP   PTS   TRB  AST  STL  BLK      FG%    3P%    FT%       WS  WS/48  \n 0      40.6  25.5  12.7  3.7  0.7  2.5    0.508  0.100  0.799     17.8  0.257  \n 1      37.3  14.7   7.3  9.9  2.1  0.2    0.391  0.321  0.814      8.9  0.140  \n 2      36.1  27.2  10.7  3.0  0.6  2.0    0.579  0.000  0.555     13.2  0.262  \n 3      38.3  25.6   7.9  5.3  1.6  1.0    0.451  0.364  0.748     11.5  0.189  \n 4      38.3  25.2   5.5  5.5  1.5  0.4    0.469  0.250  0.829     12.7  0.199  \n 5      40.3  22.1   4.8  9.0  1.6  0.3    0.467  0.314  0.797     12.6  0.183  \n 6      38.4  24.5  10.1  4.8  1.7  1.4    0.495  0.263  0.749      8.6  0.200  \n 7      38.0  23.4   9.9  2.4  1.1  1.0    0.477  0.397  0.853     13.4  0.222  \n 8      43.7  31.4   4.5  5.5  2.8  0.2    0.398  0.291  0.812      6.9  0.126  \n 9      36.5   7.6  13.0  1.4  1.7  3.5    0.531  0.000  0.423     11.6  0.190  \n 10     40.3  26.1   6.9  3.2  1.9  1.0    0.442  0.404  0.809     12.9  0.187  \n 11     39.2  21.2  12.1  5.2  1.2  1.6    0.470  0.319  0.801     12.8  0.194  \n 12     34.9  22.9   5.7  5.2  1.4  0.4    0.416  0.189  0.790      3.3  0.075  \n 13     34.6  17.9   3.1  7.7  0.6  0.0    0.483  0.455  0.887      9.9  0.167  \n 14     35.3  21.4   4.1  5.3  1.0  0.5    0.397  0.287  0.858      5.8  0.104  \n 15     33.2  13.7   2.8  5.0  1.1  0.2    0.453  0.370  0.803      6.3  0.113  \n 16     37.8  18.2  11.6  2.4  1.0  2.0    0.527    NaN  0.742     13.6  0.216  \n 17     37.3  21.2   5.3  2.5  1.1  0.2    0.484  0.416  0.876      9.9  0.179  ]"
     },
     "execution_count": 12,
     "metadata": {},
     "output_type": "execute_result"
    }
   ],
   "source": [
    "dfs1"
   ],
   "metadata": {
    "collapsed": false,
    "ExecuteTime": {
     "end_time": "2024-06-08T08:58:28.412374Z",
     "start_time": "2024-06-08T08:58:28.372293Z"
    }
   },
   "id": "2e4a18dfb253d643",
   "execution_count": 12
  },
  {
   "cell_type": "code",
   "outputs": [],
   "source": [
    "mvp_shares_new = pd.concat(dfs1)"
   ],
   "metadata": {
    "collapsed": false,
    "ExecuteTime": {
     "end_time": "2024-06-08T08:59:17.354044Z",
     "start_time": "2024-06-08T08:59:17.351529Z"
    }
   },
   "id": "1e1891ed6f6b16ca",
   "execution_count": 13
  },
  {
   "cell_type": "code",
   "outputs": [],
   "source": [
    "mvp_shares_new.to_csv(\"mvp_shares_new.csv\")"
   ],
   "metadata": {
    "collapsed": false,
    "ExecuteTime": {
     "end_time": "2024-06-08T09:15:01.549655Z",
     "start_time": "2024-06-08T09:15:01.541412Z"
    }
   },
   "id": "77c4c1be24407405",
   "execution_count": 18
  },
  {
   "cell_type": "code",
   "outputs": [],
   "source": [
    "df = pd.read_csv(\"mvp_shares_new_1.csv\")"
   ],
   "metadata": {
    "collapsed": false,
    "ExecuteTime": {
     "end_time": "2024-06-08T09:21:33.412309Z",
     "start_time": "2024-06-08T09:21:33.405783Z"
    }
   },
   "id": "3edcde9ec624b3dc",
   "execution_count": 30
  },
  {
   "cell_type": "code",
   "outputs": [],
   "source": [
    "mvp_shares_per_season = df.groupby(['Season', 'Team'])['Share'].sum().reset_index()\n",
    "mvp_shares_per_season.columns = ['Season', 'Team', 'MVP_Shares']"
   ],
   "metadata": {
    "collapsed": false,
    "ExecuteTime": {
     "end_time": "2024-06-08T09:21:34.057192Z",
     "start_time": "2024-06-08T09:21:34.053776Z"
    }
   },
   "id": "741553c15c2ea93d",
   "execution_count": 31
  },
  {
   "cell_type": "code",
   "outputs": [
    {
     "data": {
      "text/plain": "    Season Team  MVP_Shares\n0     1997  ATL       0.004\n1     1997  CHH       0.123\n2     1997  CHI       0.837\n3     1997  DET       0.327\n4     1997  HOU       0.085\n..     ...  ...         ...\n82    2002  PHI       0.023\n83    2002  SAC       0.031\n84    2002  SAS       0.757\n85    2002  SEA       0.043\n86    2002  WAS       0.013\n\n[87 rows x 3 columns]",
      "text/html": "<div>\n<style scoped>\n    .dataframe tbody tr th:only-of-type {\n        vertical-align: middle;\n    }\n\n    .dataframe tbody tr th {\n        vertical-align: top;\n    }\n\n    .dataframe thead th {\n        text-align: right;\n    }\n</style>\n<table border=\"1\" class=\"dataframe\">\n  <thead>\n    <tr style=\"text-align: right;\">\n      <th></th>\n      <th>Season</th>\n      <th>Team</th>\n      <th>MVP_Shares</th>\n    </tr>\n  </thead>\n  <tbody>\n    <tr>\n      <th>0</th>\n      <td>1997</td>\n      <td>ATL</td>\n      <td>0.004</td>\n    </tr>\n    <tr>\n      <th>1</th>\n      <td>1997</td>\n      <td>CHH</td>\n      <td>0.123</td>\n    </tr>\n    <tr>\n      <th>2</th>\n      <td>1997</td>\n      <td>CHI</td>\n      <td>0.837</td>\n    </tr>\n    <tr>\n      <th>3</th>\n      <td>1997</td>\n      <td>DET</td>\n      <td>0.327</td>\n    </tr>\n    <tr>\n      <th>4</th>\n      <td>1997</td>\n      <td>HOU</td>\n      <td>0.085</td>\n    </tr>\n    <tr>\n      <th>...</th>\n      <td>...</td>\n      <td>...</td>\n      <td>...</td>\n    </tr>\n    <tr>\n      <th>82</th>\n      <td>2002</td>\n      <td>PHI</td>\n      <td>0.023</td>\n    </tr>\n    <tr>\n      <th>83</th>\n      <td>2002</td>\n      <td>SAC</td>\n      <td>0.031</td>\n    </tr>\n    <tr>\n      <th>84</th>\n      <td>2002</td>\n      <td>SAS</td>\n      <td>0.757</td>\n    </tr>\n    <tr>\n      <th>85</th>\n      <td>2002</td>\n      <td>SEA</td>\n      <td>0.043</td>\n    </tr>\n    <tr>\n      <th>86</th>\n      <td>2002</td>\n      <td>WAS</td>\n      <td>0.013</td>\n    </tr>\n  </tbody>\n</table>\n<p>87 rows × 3 columns</p>\n</div>"
     },
     "execution_count": 32,
     "metadata": {},
     "output_type": "execute_result"
    }
   ],
   "source": [
    "mvp_shares_per_season"
   ],
   "metadata": {
    "collapsed": false,
    "ExecuteTime": {
     "end_time": "2024-06-08T09:21:34.653231Z",
     "start_time": "2024-06-08T09:21:34.647976Z"
    }
   },
   "id": "f4587e1d4f4d9f6f",
   "execution_count": 32
  },
  {
   "cell_type": "code",
   "outputs": [],
   "source": [
    "mvp_shares_per_season['Team'] = mvp_shares_per_season['Team'].replace(team_names)"
   ],
   "metadata": {
    "collapsed": false,
    "ExecuteTime": {
     "end_time": "2024-06-08T09:21:36.403916Z",
     "start_time": "2024-06-08T09:21:36.398603Z"
    }
   },
   "id": "be38afb1cf92e585",
   "execution_count": 33
  },
  {
   "cell_type": "code",
   "outputs": [
    {
     "data": {
      "text/plain": "    Season                 Team  MVP_Shares\n0     1997        Atlanta Hawks       0.004\n1     1997    Charlotte Hornets       0.123\n2     1997        Chicago Bulls       0.837\n3     1997      Detroit Pistons       0.327\n4     1997      Houston Rockets       0.085\n..     ...                  ...         ...\n82    2002   Philadelphia 76ers       0.023\n83    2002     Sacramento Kings       0.031\n84    2002    San Antonio Spurs       0.757\n85    2002  Seattle SuperSonics       0.043\n86    2002   Washington Wizards       0.013\n\n[87 rows x 3 columns]",
      "text/html": "<div>\n<style scoped>\n    .dataframe tbody tr th:only-of-type {\n        vertical-align: middle;\n    }\n\n    .dataframe tbody tr th {\n        vertical-align: top;\n    }\n\n    .dataframe thead th {\n        text-align: right;\n    }\n</style>\n<table border=\"1\" class=\"dataframe\">\n  <thead>\n    <tr style=\"text-align: right;\">\n      <th></th>\n      <th>Season</th>\n      <th>Team</th>\n      <th>MVP_Shares</th>\n    </tr>\n  </thead>\n  <tbody>\n    <tr>\n      <th>0</th>\n      <td>1997</td>\n      <td>Atlanta Hawks</td>\n      <td>0.004</td>\n    </tr>\n    <tr>\n      <th>1</th>\n      <td>1997</td>\n      <td>Charlotte Hornets</td>\n      <td>0.123</td>\n    </tr>\n    <tr>\n      <th>2</th>\n      <td>1997</td>\n      <td>Chicago Bulls</td>\n      <td>0.837</td>\n    </tr>\n    <tr>\n      <th>3</th>\n      <td>1997</td>\n      <td>Detroit Pistons</td>\n      <td>0.327</td>\n    </tr>\n    <tr>\n      <th>4</th>\n      <td>1997</td>\n      <td>Houston Rockets</td>\n      <td>0.085</td>\n    </tr>\n    <tr>\n      <th>...</th>\n      <td>...</td>\n      <td>...</td>\n      <td>...</td>\n    </tr>\n    <tr>\n      <th>82</th>\n      <td>2002</td>\n      <td>Philadelphia 76ers</td>\n      <td>0.023</td>\n    </tr>\n    <tr>\n      <th>83</th>\n      <td>2002</td>\n      <td>Sacramento Kings</td>\n      <td>0.031</td>\n    </tr>\n    <tr>\n      <th>84</th>\n      <td>2002</td>\n      <td>San Antonio Spurs</td>\n      <td>0.757</td>\n    </tr>\n    <tr>\n      <th>85</th>\n      <td>2002</td>\n      <td>Seattle SuperSonics</td>\n      <td>0.043</td>\n    </tr>\n    <tr>\n      <th>86</th>\n      <td>2002</td>\n      <td>Washington Wizards</td>\n      <td>0.013</td>\n    </tr>\n  </tbody>\n</table>\n<p>87 rows × 3 columns</p>\n</div>"
     },
     "execution_count": 34,
     "metadata": {},
     "output_type": "execute_result"
    }
   ],
   "source": [
    "mvp_shares_per_season"
   ],
   "metadata": {
    "collapsed": false,
    "ExecuteTime": {
     "end_time": "2024-06-08T09:21:37.431521Z",
     "start_time": "2024-06-08T09:21:37.426451Z"
    }
   },
   "id": "89e845eb0e48aa96",
   "execution_count": 34
  },
  {
   "cell_type": "code",
   "outputs": [],
   "source": [
    "df1 = pd.read_csv(\"97-02.csv\")"
   ],
   "metadata": {
    "collapsed": false,
    "ExecuteTime": {
     "end_time": "2024-06-08T09:22:39.859863Z",
     "start_time": "2024-06-08T09:22:39.856358Z"
    }
   },
   "id": "5793b09e2a5bd527",
   "execution_count": 35
  },
  {
   "cell_type": "code",
   "outputs": [],
   "source": [
    "combine1 = df1.merge(mvp_shares_per_season,how='outer', on=[\"Team\", \"Season\"])"
   ],
   "metadata": {
    "collapsed": false,
    "ExecuteTime": {
     "end_time": "2024-06-08T09:23:00.832473Z",
     "start_time": "2024-06-08T09:23:00.829153Z"
    }
   },
   "id": "979c64ef510ac1d3",
   "execution_count": 36
  },
  {
   "cell_type": "code",
   "outputs": [
    {
     "data": {
      "text/plain": "                   Team   G  MP Per Game  FG Per Game  FGA Per Game    FG%  \\\n0         Atlanta Hawks  82        241.5         34.3          76.9  0.446   \n1         Atlanta Hawks  82        242.4         35.2          77.5  0.455   \n2         Atlanta Hawks  50        241.5         30.8          75.2  0.409   \n3         Atlanta Hawks  82        241.8         36.6          83.0  0.441   \n4         Atlanta Hawks  82        240.6         35.1          81.3  0.431   \n..                  ...  ..          ...          ...           ...    ...   \n169  Washington Wizards  82        241.5         37.6          83.1  0.452   \n170  Washington Wizards  50        241.0         35.4          79.4  0.445   \n171  Washington Wizards  82        241.5         36.7          81.5  0.451   \n172  Washington Wizards  82        240.0         34.5          78.7  0.439   \n173  Washington Wizards  82        240.6         35.8          81.3  0.441   \n\n     3P Per Game  3PA Per Game    3P%  2P Per Game  ...  10-16 feet FG%  \\\n0            8.0          22.4  0.359         26.3  ...           0.344   \n1            4.1          12.4  0.332         31.1  ...           0.361   \n2            3.9          12.9  0.306         26.8  ...           0.330   \n3            3.1           9.9  0.317         33.4  ...           0.361   \n4            4.1          11.4  0.357         31.0  ...           0.387   \n..           ...           ...    ...          ...  ...             ...   \n169          3.9          11.5  0.339         33.7  ...           0.353   \n170          3.6          11.6  0.309         31.8  ...           0.392   \n171          4.1          10.9  0.376         32.6  ...           0.375   \n172          3.4          10.3  0.324         31.2  ...           0.397   \n173          3.7           9.6  0.388         32.1  ...           0.394   \n\n     16 feet - 3P FG%  % of 2P's that were assisted  \\\n0               0.470                         0.505   \n1               0.459                         0.516   \n2               0.392                         0.477   \n3               0.442                         0.489   \n4               0.403                         0.507   \n..                ...                           ...   \n169             0.454                         0.589   \n170             0.435                         0.578   \n171             0.445                         0.558   \n172             0.415                         0.563   \n173             0.422                         0.561   \n\n     % of 3P's that were assisted  % of FGA that are dunks  Dunks Made  \\\n0                           0.712                    0.043         259   \n1                           0.748                    0.054         304   \n2                           0.716                    0.037         126   \n3                           0.806                    0.038         236   \n4                           0.811                    0.037         224   \n..                            ...                      ...         ...   \n169                         0.853                    0.061         394   \n170                         0.810                    0.036         132   \n171                         0.833                    0.048         300   \n172                         0.753                    0.030         177   \n173                         0.784                    0.041         267   \n\n     % of corner 3PA  3P% from the corner  champion share  MVP_Shares  \n0              0.146                0.410        0.266667       0.004  \n1              0.102                0.288        0.066667         NaN  \n2              0.092                0.322        0.200000       0.001  \n3              0.128                0.452        0.000000         NaN  \n4              0.228                0.371        0.000000         NaN  \n..               ...                  ...             ...         ...  \n169            0.230                0.364        0.000000       0.001  \n170            0.198                0.322        0.000000         NaN  \n171            0.204                0.462        0.000000         NaN  \n172            0.216                0.361        0.000000         NaN  \n173            0.168                0.439        0.000000       0.013  \n\n[174 rows x 62 columns]",
      "text/html": "<div>\n<style scoped>\n    .dataframe tbody tr th:only-of-type {\n        vertical-align: middle;\n    }\n\n    .dataframe tbody tr th {\n        vertical-align: top;\n    }\n\n    .dataframe thead th {\n        text-align: right;\n    }\n</style>\n<table border=\"1\" class=\"dataframe\">\n  <thead>\n    <tr style=\"text-align: right;\">\n      <th></th>\n      <th>Team</th>\n      <th>G</th>\n      <th>MP Per Game</th>\n      <th>FG Per Game</th>\n      <th>FGA Per Game</th>\n      <th>FG%</th>\n      <th>3P Per Game</th>\n      <th>3PA Per Game</th>\n      <th>3P%</th>\n      <th>2P Per Game</th>\n      <th>...</th>\n      <th>10-16 feet FG%</th>\n      <th>16 feet - 3P FG%</th>\n      <th>% of 2P's that were assisted</th>\n      <th>% of 3P's that were assisted</th>\n      <th>% of FGA that are dunks</th>\n      <th>Dunks Made</th>\n      <th>% of corner 3PA</th>\n      <th>3P% from the corner</th>\n      <th>champion share</th>\n      <th>MVP_Shares</th>\n    </tr>\n  </thead>\n  <tbody>\n    <tr>\n      <th>0</th>\n      <td>Atlanta Hawks</td>\n      <td>82</td>\n      <td>241.5</td>\n      <td>34.3</td>\n      <td>76.9</td>\n      <td>0.446</td>\n      <td>8.0</td>\n      <td>22.4</td>\n      <td>0.359</td>\n      <td>26.3</td>\n      <td>...</td>\n      <td>0.344</td>\n      <td>0.470</td>\n      <td>0.505</td>\n      <td>0.712</td>\n      <td>0.043</td>\n      <td>259</td>\n      <td>0.146</td>\n      <td>0.410</td>\n      <td>0.266667</td>\n      <td>0.004</td>\n    </tr>\n    <tr>\n      <th>1</th>\n      <td>Atlanta Hawks</td>\n      <td>82</td>\n      <td>242.4</td>\n      <td>35.2</td>\n      <td>77.5</td>\n      <td>0.455</td>\n      <td>4.1</td>\n      <td>12.4</td>\n      <td>0.332</td>\n      <td>31.1</td>\n      <td>...</td>\n      <td>0.361</td>\n      <td>0.459</td>\n      <td>0.516</td>\n      <td>0.748</td>\n      <td>0.054</td>\n      <td>304</td>\n      <td>0.102</td>\n      <td>0.288</td>\n      <td>0.066667</td>\n      <td>NaN</td>\n    </tr>\n    <tr>\n      <th>2</th>\n      <td>Atlanta Hawks</td>\n      <td>50</td>\n      <td>241.5</td>\n      <td>30.8</td>\n      <td>75.2</td>\n      <td>0.409</td>\n      <td>3.9</td>\n      <td>12.9</td>\n      <td>0.306</td>\n      <td>26.8</td>\n      <td>...</td>\n      <td>0.330</td>\n      <td>0.392</td>\n      <td>0.477</td>\n      <td>0.716</td>\n      <td>0.037</td>\n      <td>126</td>\n      <td>0.092</td>\n      <td>0.322</td>\n      <td>0.200000</td>\n      <td>0.001</td>\n    </tr>\n    <tr>\n      <th>3</th>\n      <td>Atlanta Hawks</td>\n      <td>82</td>\n      <td>241.8</td>\n      <td>36.6</td>\n      <td>83.0</td>\n      <td>0.441</td>\n      <td>3.1</td>\n      <td>9.9</td>\n      <td>0.317</td>\n      <td>33.4</td>\n      <td>...</td>\n      <td>0.361</td>\n      <td>0.442</td>\n      <td>0.489</td>\n      <td>0.806</td>\n      <td>0.038</td>\n      <td>236</td>\n      <td>0.128</td>\n      <td>0.452</td>\n      <td>0.000000</td>\n      <td>NaN</td>\n    </tr>\n    <tr>\n      <th>4</th>\n      <td>Atlanta Hawks</td>\n      <td>82</td>\n      <td>240.6</td>\n      <td>35.1</td>\n      <td>81.3</td>\n      <td>0.431</td>\n      <td>4.1</td>\n      <td>11.4</td>\n      <td>0.357</td>\n      <td>31.0</td>\n      <td>...</td>\n      <td>0.387</td>\n      <td>0.403</td>\n      <td>0.507</td>\n      <td>0.811</td>\n      <td>0.037</td>\n      <td>224</td>\n      <td>0.228</td>\n      <td>0.371</td>\n      <td>0.000000</td>\n      <td>NaN</td>\n    </tr>\n    <tr>\n      <th>...</th>\n      <td>...</td>\n      <td>...</td>\n      <td>...</td>\n      <td>...</td>\n      <td>...</td>\n      <td>...</td>\n      <td>...</td>\n      <td>...</td>\n      <td>...</td>\n      <td>...</td>\n      <td>...</td>\n      <td>...</td>\n      <td>...</td>\n      <td>...</td>\n      <td>...</td>\n      <td>...</td>\n      <td>...</td>\n      <td>...</td>\n      <td>...</td>\n      <td>...</td>\n      <td>...</td>\n    </tr>\n    <tr>\n      <th>169</th>\n      <td>Washington Wizards</td>\n      <td>82</td>\n      <td>241.5</td>\n      <td>37.6</td>\n      <td>83.1</td>\n      <td>0.452</td>\n      <td>3.9</td>\n      <td>11.5</td>\n      <td>0.339</td>\n      <td>33.7</td>\n      <td>...</td>\n      <td>0.353</td>\n      <td>0.454</td>\n      <td>0.589</td>\n      <td>0.853</td>\n      <td>0.061</td>\n      <td>394</td>\n      <td>0.230</td>\n      <td>0.364</td>\n      <td>0.000000</td>\n      <td>0.001</td>\n    </tr>\n    <tr>\n      <th>170</th>\n      <td>Washington Wizards</td>\n      <td>50</td>\n      <td>241.0</td>\n      <td>35.4</td>\n      <td>79.4</td>\n      <td>0.445</td>\n      <td>3.6</td>\n      <td>11.6</td>\n      <td>0.309</td>\n      <td>31.8</td>\n      <td>...</td>\n      <td>0.392</td>\n      <td>0.435</td>\n      <td>0.578</td>\n      <td>0.810</td>\n      <td>0.036</td>\n      <td>132</td>\n      <td>0.198</td>\n      <td>0.322</td>\n      <td>0.000000</td>\n      <td>NaN</td>\n    </tr>\n    <tr>\n      <th>171</th>\n      <td>Washington Wizards</td>\n      <td>82</td>\n      <td>241.5</td>\n      <td>36.7</td>\n      <td>81.5</td>\n      <td>0.451</td>\n      <td>4.1</td>\n      <td>10.9</td>\n      <td>0.376</td>\n      <td>32.6</td>\n      <td>...</td>\n      <td>0.375</td>\n      <td>0.445</td>\n      <td>0.558</td>\n      <td>0.833</td>\n      <td>0.048</td>\n      <td>300</td>\n      <td>0.204</td>\n      <td>0.462</td>\n      <td>0.000000</td>\n      <td>NaN</td>\n    </tr>\n    <tr>\n      <th>172</th>\n      <td>Washington Wizards</td>\n      <td>82</td>\n      <td>240.0</td>\n      <td>34.5</td>\n      <td>78.7</td>\n      <td>0.439</td>\n      <td>3.4</td>\n      <td>10.3</td>\n      <td>0.324</td>\n      <td>31.2</td>\n      <td>...</td>\n      <td>0.397</td>\n      <td>0.415</td>\n      <td>0.563</td>\n      <td>0.753</td>\n      <td>0.030</td>\n      <td>177</td>\n      <td>0.216</td>\n      <td>0.361</td>\n      <td>0.000000</td>\n      <td>NaN</td>\n    </tr>\n    <tr>\n      <th>173</th>\n      <td>Washington Wizards</td>\n      <td>82</td>\n      <td>240.6</td>\n      <td>35.8</td>\n      <td>81.3</td>\n      <td>0.441</td>\n      <td>3.7</td>\n      <td>9.6</td>\n      <td>0.388</td>\n      <td>32.1</td>\n      <td>...</td>\n      <td>0.394</td>\n      <td>0.422</td>\n      <td>0.561</td>\n      <td>0.784</td>\n      <td>0.041</td>\n      <td>267</td>\n      <td>0.168</td>\n      <td>0.439</td>\n      <td>0.000000</td>\n      <td>0.013</td>\n    </tr>\n  </tbody>\n</table>\n<p>174 rows × 62 columns</p>\n</div>"
     },
     "execution_count": 37,
     "metadata": {},
     "output_type": "execute_result"
    }
   ],
   "source": [
    "combine1"
   ],
   "metadata": {
    "collapsed": false,
    "ExecuteTime": {
     "end_time": "2024-06-08T09:23:06.057282Z",
     "start_time": "2024-06-08T09:23:06.046413Z"
    }
   },
   "id": "fb498d68d59059fe",
   "execution_count": 37
  },
  {
   "cell_type": "code",
   "outputs": [],
   "source": [
    "dfs2 = []\n",
    "for year in years1:\n",
    "    with open(\"shares/{}.html\".format(year)) as f:\n",
    "        page = f.read()\n",
    "    soup = BeautifulSoup(page, \"html.parser\")\n",
    "    all_nba = soup.find(id=\"leading_all_nba\")\n",
    "    all_nba_votes = pd.read_html(StringIO(str(all_nba)))[0]\n",
    "\n",
    "    dfs2.append(all_nba_votes)"
   ],
   "metadata": {
    "collapsed": false,
    "ExecuteTime": {
     "end_time": "2024-06-08T09:25:41.141224Z",
     "start_time": "2024-06-08T09:25:40.476971Z"
    }
   },
   "id": "b2b357d5f44cc240",
   "execution_count": 38
  },
  {
   "cell_type": "code",
   "outputs": [
    {
     "data": {
      "text/plain": "[   Unnamed: 0_level_0 Unnamed: 1_level_0  Unnamed: 2_level_0  \\\n                  # Tm                Pos              Player   \n 0                 1st                  G      Michael Jordan   \n 1                 1st                  F         Karl Malone   \n 2                 1st                  C     Hakeem Olajuwon   \n 3                 1st                  F          Grant Hill   \n 4                 1st                  G        Tim Hardaway   \n 5                 NaN                NaN                 NaN   \n 6                 2nd                  G         Gary Payton   \n 7                 2nd                  F      Scottie Pippen   \n 8                 2nd                  C       Patrick Ewing   \n 9                 2nd                  F           Glen Rice   \n 10                2nd                  G      Mitch Richmond   \n 11                NaN                NaN                 NaN   \n 12                3rd                  G       John Stockton   \n 13                3rd                  F       Anthony Mason   \n 14                3rd                  C    Shaquille O'Neal   \n 15                3rd                  G   Anfernee Hardaway   \n 16                3rd                  F           Vin Baker   \n 17                NaN                NaN                 NaN   \n 18                ORV                  C     Alonzo Mourning   \n 19                ORV                  F       Tom Gugliotta   \n 20                ORV                  G     Mookie Blaylock   \n 21                ORV                  G       Kevin Johnson   \n 22                ORV                  C     Dikembe Mutombo   \n 23                ORV                  F     Charles Barkley   \n 24                ORV                  G    Latrell Sprewell   \n 25                ORV                  G     Terrell Brandon   \n 26                ORV                  F        Chris Webber   \n 27                ORV                  G         Eddie Jones   \n 28                ORV                  F  Christian Laettner   \n 29                ORV                  G        Mark Jackson   \n 30                ORV                  F          Shawn Kemp   \n 31                ORV                  G         Steve Smith   \n 32                ORV                  G       Reggie Miller   \n 33                ORV                  F       Dennis Rodman   \n 34                ORV                  G    Damon Stoudamire   \n 35                ORV                  G      Rod Strickland   \n 36                ORV                  G      Kenny Anderson   \n 37                ORV                  F       Kevin Garnett   \n 38                ORV                  G       Allen Iverson   \n 39                ORV                  F          Loy Vaught   \n 40                ORV                  G       Nick Van Exel   \n 41                ORV                  G        Kendall Gill   \n 42                ORV                  G          Jason Kidd   \n 43                ORV                  F   Clifford Robinson   \n 44                ORV                  F      Glenn Robinson   \n 45                ORV                  F      Antoine Walker   \n \n    Unnamed: 3_level_0 Unnamed: 4_level_0  Voting                               \\\n                   Age                 Tm Pts Won Pts Max  Share 1st Tm 2nd Tm   \n 0                33.0                CHI   575.0   575.0  1.000  115.0    0.0   \n 1                33.0                UTA   575.0   575.0  1.000  115.0    0.0   \n 2                34.0                HOU   514.0   575.0  0.894   89.0    NaN   \n 3                24.0                DET   483.0   575.0  0.840   76.0    NaN   \n 4                30.0                MIA   435.0   575.0  0.757   62.0    NaN   \n 5                 NaN                NaN     NaN     NaN    NaN    NaN    NaN   \n 6                28.0                SEA   386.0   575.0  0.671   42.0    NaN   \n 7                31.0                CHI   337.0   575.0  0.586   19.0    NaN   \n 8                34.0                NYK   327.0   575.0  0.569   20.0    NaN   \n 9                29.0                CHH   316.0   575.0  0.550   20.0    NaN   \n 10               31.0                SAC   198.0   575.0  0.344    1.0    NaN   \n 11                NaN                NaN     NaN     NaN    NaN    NaN    NaN   \n 12               34.0                UTA   142.0   575.0  0.247    6.0    NaN   \n 13               30.0                CHH   110.0   575.0  0.191    0.0    NaN   \n 14               24.0                LAL    72.0   575.0  0.125    3.0    NaN   \n 15               25.0                ORL    62.0   575.0  0.108    2.0    NaN   \n 16               25.0                MIL    61.0   575.0  0.106    0.0    NaN   \n 17                NaN                NaN     NaN     NaN    NaN    NaN    NaN   \n 18               26.0                MIA    67.0   575.0  0.117    0.0    NaN   \n 19               27.0                MIN    60.0   575.0  0.104    0.0    NaN   \n 20               29.0                ATL    57.0   575.0  0.099    1.0    NaN   \n 21               30.0                PHO    57.0   575.0  0.099    1.0    NaN   \n 22               30.0                ATL    55.0   575.0  0.096    3.0    NaN   \n 23               33.0                HOU    47.0   575.0  0.082    0.0    NaN   \n 24               26.0                GSW    44.0   575.0  0.077    0.0    NaN   \n 25               26.0                CLE    30.0   575.0  0.052    0.0    NaN   \n 26               23.0                WSB    29.0   575.0  0.050    0.0    NaN   \n 27               25.0                LAL    25.0   575.0  0.043    0.0    NaN   \n 28               27.0                ATL    20.0   575.0  0.035    0.0    NaN   \n 29               31.0                TOT    11.0   575.0  0.019    0.0    NaN   \n 30               27.0                SEA    11.0   575.0  0.019    0.0    NaN   \n 31               27.0                ATL    11.0   575.0  0.019    0.0    NaN   \n 32               31.0                IND     9.0   575.0  0.016    0.0    NaN   \n 33               35.0                CHI     9.0   575.0  0.016    0.0    NaN   \n 34               23.0                TOR     8.0   575.0  0.014    0.0    NaN   \n 35               30.0                WSB     7.0   575.0  0.012    0.0    NaN   \n 36               26.0                POR     6.0   575.0  0.010    0.0    NaN   \n 37               20.0                MIN     6.0   575.0  0.010    0.0    NaN   \n 38               21.0                PHI     3.0   575.0  0.005    0.0    NaN   \n 39               28.0                LAC     3.0   575.0  0.005    0.0    NaN   \n 40               25.0                LAL     2.0   575.0  0.003    0.0    0.0   \n 41               28.0                NJN     1.0   575.0  0.002    0.0    0.0   \n 42               23.0                TOT     1.0   575.0  0.002    0.0    0.0   \n 43               30.0                POR     1.0   575.0  0.002    0.0    0.0   \n 44               24.0                MIL     1.0   575.0  0.002    0.0    0.0   \n 45               20.0                BOS     1.0   575.0  0.002    0.0    0.0   \n \n     ... Per Game                       Shooting               Advanced         \n     ...      PTS   TRB   AST  STL  BLK      FG%    3P%    FT%       WS  WS/48  \n 0   ...     29.6   5.9   4.3  1.7  0.5    0.486  0.374  0.833     18.3  0.283  \n 1   ...     27.4   9.9   4.5  1.4  0.6    0.550  0.000  0.755     16.7  0.268  \n 2   ...     23.2   9.2   3.0  1.5  2.2    0.510  0.313  0.787      9.1  0.154  \n 3   ...     21.4   9.0   7.3  1.8  0.6    0.496  0.303  0.711     14.6  0.223  \n 4   ...     20.3   3.4   8.6  1.9  0.1    0.415  0.344  0.799     12.9  0.198  \n 5   ...      NaN   NaN   NaN  NaN  NaN      NaN    NaN    NaN      NaN    NaN  \n 6   ...     21.8   4.6   7.1  2.4  0.2    0.476  0.313  0.715     12.9  0.193  \n 7   ...     20.2   6.5   5.7  1.9  0.5    0.474  0.368  0.701     13.1  0.203  \n 8   ...     22.4  10.7   2.0  0.9  2.4    0.488  0.222  0.754      9.8  0.163  \n 9   ...     26.8   4.0   2.0  0.9  0.3    0.477  0.470  0.867     10.8  0.154  \n 10  ...     25.9   3.9   4.2  1.5  0.3    0.454  0.428  0.861     10.8  0.166  \n 11  ...      NaN   NaN   NaN  NaN  NaN      NaN    NaN    NaN      NaN    NaN  \n 12  ...     14.4   2.8  10.5  2.0  0.2    0.548  0.422  0.846     13.6  0.226  \n 13  ...     16.2  11.4   5.7  1.0  0.5    0.525  0.333  0.745     11.4  0.173  \n 14  ...     26.2  12.5   3.1  0.9  2.9    0.557  0.000  0.484      8.0  0.197  \n 15  ...     20.5   4.5   5.6  1.6  0.6    0.447  0.318  0.820      8.1  0.175  \n 16  ...     21.0  10.3   2.7  1.0  1.4    0.505  0.278  0.687      8.3  0.127  \n 17  ...      NaN   NaN   NaN  NaN  NaN      NaN    NaN    NaN      NaN    NaN  \n 18  ...     19.8   9.9   1.6  0.8  2.9    0.534  0.111  0.642      8.4  0.174  \n 19  ...     20.6   8.7   4.1  1.6  1.1    0.442  0.258  0.820      6.7  0.103  \n 20  ...     17.4   5.3   5.9  2.7  0.3    0.432  0.366  0.753     12.5  0.197  \n 21  ...     20.1   3.6   9.3  1.5  0.2    0.496  0.441  0.852     11.7  0.211  \n 22  ...     13.3  11.6   1.4  0.6  3.3    0.527    NaN  0.705     11.3  0.183  \n 23  ...     19.2  13.5   4.7  1.3  0.5    0.484  0.283  0.694      9.4  0.224  \n 24  ...     24.2   4.6   6.3  1.7  0.6    0.449  0.354  0.843      8.1  0.115  \n 25  ...     19.5   3.9   6.3  1.8  0.4    0.438  0.373  0.902     10.8  0.181  \n 26  ...     20.1  10.3   4.6  1.7  1.9    0.518  0.397  0.565      9.3  0.159  \n 27  ...     17.2   4.1   3.4  2.4  0.6    0.438  0.391  0.819      9.6  0.154  \n 28  ...     18.1   8.8   2.7  1.2  0.8    0.486  0.352  0.816     11.6  0.177  \n 29  ...      9.9   4.8  11.4  1.2  0.1    0.426  0.371  0.789      6.1  0.097  \n 30  ...     18.7  10.0   1.9  1.5  1.0    0.510  0.364  0.742     10.0  0.174  \n 31  ...     20.1   3.3   4.2  0.9  0.3    0.429  0.335  0.847      9.1  0.154  \n 32  ...     21.6   3.5   3.4  0.9  0.3    0.444  0.427  0.880     12.3  0.200  \n 33  ...      5.7  16.1   3.1  0.6  0.3    0.448  0.263  0.568      6.0  0.148  \n 34  ...     20.2   4.1   8.8  1.5  0.2    0.401  0.355  0.823      7.6  0.110  \n 35  ...     17.2   4.1   8.9  1.7  0.2    0.466  0.169  0.738      8.8  0.141  \n 36  ...     17.5   4.4   7.1  2.0  0.2    0.427  0.361  0.768     12.4  0.193  \n 37  ...     17.0   8.0   3.1  1.4  2.1    0.499  0.286  0.754      7.3  0.116  \n 38  ...     23.5   4.1   7.5  2.1  0.3    0.416  0.341  0.702      4.1  0.065  \n 39  ...     14.9  10.0   1.3  1.0  0.3    0.500  0.167  0.702      6.3  0.106  \n 40  ...     15.3   2.9   8.5  0.9  0.1    0.402  0.378  0.825      7.2  0.118  \n 41  ...     21.8   6.1   4.0  1.9  0.6    0.443  0.336  0.797      8.8  0.132  \n 42  ...     10.9   4.5   9.0  2.3  0.4    0.403  0.370  0.679      4.4  0.107  \n 43  ...     15.1   4.0   3.2  1.2  0.8    0.426  0.346  0.696      6.6  0.103  \n 44  ...     21.1   6.3   3.1  1.3  0.9    0.465  0.350  0.791      4.7  0.072  \n 45  ...     17.5   9.0   3.2  1.3  0.6    0.425  0.327  0.631      1.7  0.027  \n \n [46 rows x 23 columns],\n    Unnamed: 0_level_0 Unnamed: 1_level_0   Unnamed: 2_level_0  \\\n                  # Tm                Pos               Player   \n 0                 1st                  G       Michael Jordan   \n 1                 1st                  F          Karl Malone   \n 2                 1st                  G          Gary Payton   \n 3                 1st                  C     Shaquille O'Neal   \n 4                 1st                  F           Tim Duncan   \n 5                 NaN                NaN                  NaN   \n 6                 2nd                  G         Tim Hardaway   \n 7                 2nd                  C       David Robinson   \n 8                 2nd                  F           Grant Hill   \n 9                 2nd                  F            Vin Baker   \n 10                2nd                  G       Rod Strickland   \n 11                NaN                NaN                  NaN   \n 12                3rd                  F       Scottie Pippen   \n 13                3rd                  F            Glen Rice   \n 14                3rd                  G       Mitch Richmond   \n 15                3rd                  G        Reggie Miller   \n 16                3rd                  C      Dikembe Mutombo   \n 17                NaN                NaN                  NaN   \n 18                ORV                  G        John Stockton   \n 19                ORV                  G           Jason Kidd   \n 20                ORV                  F       Antoine Walker   \n 21                ORV                  G          Steve Smith   \n 22                ORV                  F        Dennis Rodman   \n 23                ORV                  C      Alonzo Mourning   \n 24                ORV                  F        Kevin Garnett   \n 25                ORV                  F           Shawn Kemp   \n 26                ORV                  G       Michael Finley   \n 27                ORV                  C      Hakeem Olajuwon   \n 28                ORV                  G          Eddie Jones   \n 29                ORV                  C      Jayson Williams   \n 30                ORV                  G        Allen Iverson   \n 31                ORV                  C            Rik Smits   \n 32                ORV                  F  Shareef Abdur-Rahim   \n 33                ORV                  G      Stephon Marbury   \n 34                ORV                  C      Arvydas Sabonis   \n 35                ORV                  F       Keith Van Horn   \n 36                ORV                  F         Chris Webber   \n 37                ORV                  G        Allan Houston   \n 38                ORV                  F      Detlef Schrempf   \n 39                ORV                  G     Damon Stoudamire   \n 40                ORV                  G      Mookie Blaylock   \n 41                ORV                  G        Nick Anderson   \n 42                ORV                  F        Anthony Mason   \n 43                ORV                  F            Bo Outlaw   \n 44                ORV                  F      Antonio McDyess   \n 45                ORV                  G            Ray Allen   \n 46                ORV                  F      Charles Barkley   \n 47                ORV                  G          Kobe Bryant   \n 48                ORV                  G          Sam Cassell   \n 49                ORV                  G          Rex Chapman   \n 50                ORV                  C           Bison Dele   \n 51                ORV                  G        Jeff Hornacek   \n 52                ORV                  F         Juwan Howard   \n 53                ORV                  G        Brevin Knight   \n \n    Unnamed: 3_level_0 Unnamed: 4_level_0  Voting                               \\\n                   Age                 Tm Pts Won Pts Max  Share 1st Tm 2nd Tm   \n 0                34.0                CHI   580.0   580.0  1.000  116.0    0.0   \n 1                34.0                UTA   580.0   580.0  1.000  116.0    0.0   \n 2                29.0                SEA   561.0   580.0  0.967  108.0    NaN   \n 3                25.0                LAL   544.0   580.0  0.938  103.0    NaN   \n 4                21.0                SAS   370.0   580.0  0.638   45.0    NaN   \n 5                 NaN                NaN     NaN     NaN    NaN    NaN    NaN   \n 6                31.0                MIA   345.0   580.0  0.595    2.0    NaN   \n 7                32.0                SAS   332.0   580.0  0.572   13.0    NaN   \n 8                25.0                DET   290.0   580.0  0.500   22.0    NaN   \n 9                26.0                SEA   269.0   580.0  0.464   10.0    NaN   \n 10               31.0                WAS   173.0   580.0  0.298    4.0    NaN   \n 11                NaN                NaN     NaN     NaN    NaN    NaN    NaN   \n 12               32.0                CHI   201.0   580.0  0.347   23.0    NaN   \n 13               30.0                CHH   179.0   580.0  0.309   14.0    NaN   \n 14               32.0                SAC   139.0   580.0  0.240    0.0    NaN   \n 15               32.0                IND   124.0   580.0  0.214    0.0    NaN   \n 16               31.0                ATL    80.0   580.0  0.138    0.0    NaN   \n 17                NaN                NaN     NaN     NaN    NaN    NaN    NaN   \n 18               35.0                UTA    64.0   580.0  0.110    2.0    NaN   \n 19               24.0                PHO    63.0   580.0  0.109    0.0    NaN   \n 20               21.0                BOS    62.0   580.0  0.107    1.0    NaN   \n 21               28.0                ATL    62.0   580.0  0.107    0.0    NaN   \n 22               36.0                CHI    41.0   580.0  0.071    0.0    NaN   \n 23               27.0                MIA    37.0   580.0  0.064    0.0    NaN   \n 24               21.0                MIN    36.0   580.0  0.062    1.0    NaN   \n 25               28.0                CLE    19.0   580.0  0.033    0.0    NaN   \n 26               24.0                DAL    17.0   580.0  0.029    0.0    NaN   \n 27               35.0                HOU    16.0   580.0  0.028    0.0    NaN   \n 28               26.0                LAL    15.0   580.0  0.026    0.0    NaN   \n 29               29.0                NJN    13.0   580.0  0.022    0.0    NaN   \n 30               22.0                PHI    11.0   580.0  0.019    0.0    NaN   \n 31               31.0                IND    11.0   580.0  0.019    0.0    NaN   \n 32               21.0                VAN    10.0   580.0  0.017    0.0    NaN   \n 33               20.0                MIN    10.0   580.0  0.017    0.0    NaN   \n 34               33.0                POR    10.0   580.0  0.017    0.0    NaN   \n 35               22.0                NJN     8.0   580.0  0.014    0.0    NaN   \n 36               24.0                WAS     8.0   580.0  0.014    0.0    NaN   \n 37               26.0                NYK     6.0   580.0  0.010    0.0    NaN   \n 38               35.0                SEA     5.0   580.0  0.009    0.0    NaN   \n 39               24.0                TOT     5.0   580.0  0.009    0.0    NaN   \n 40               30.0                ATL     4.0   580.0  0.007    0.0    NaN   \n 41               30.0                ORL     3.0   580.0  0.005    0.0    NaN   \n 42               31.0                CHH     3.0   580.0  0.005    0.0    NaN   \n 43               26.0                ORL     3.0   580.0  0.005    0.0    NaN   \n 44               23.0                PHO     2.0   580.0  0.003    0.0    0.0   \n 45               22.0                MIL     1.0   580.0  0.002    0.0    0.0   \n 46               34.0                HOU     1.0   580.0  0.002    0.0    0.0   \n 47               19.0                LAL     1.0   580.0  0.002    0.0    0.0   \n 48               28.0                NJN     1.0   580.0  0.002    0.0    0.0   \n 49               30.0                PHO     1.0   580.0  0.002    0.0    0.0   \n 50               28.0                DET     1.0   580.0  0.002    0.0    0.0   \n 51               34.0                UTA     1.0   580.0  0.002    0.0    0.0   \n 52               24.0                WAS     1.0   580.0  0.002    0.0    0.0   \n 53               22.0                CLE     1.0   580.0  0.002    0.0    0.0   \n \n     ... Per Game                       Shooting               Advanced         \n     ...      PTS   TRB   AST  STL  BLK      FG%    3P%    FT%       WS  WS/48  \n 0   ...     28.7   5.8   3.5  1.7  0.5    0.465  0.238  0.784     15.8  0.238  \n 1   ...     27.0  10.3   3.9  1.2  0.9    0.530  0.333  0.761     16.4  0.259  \n 2   ...     19.2   4.6   8.3  2.3  0.2    0.453  0.338  0.744     12.5  0.190  \n 3   ...     28.3  11.4   2.4  0.7  2.4    0.584    NaN  0.527     10.2  0.224  \n 4   ...     21.1  11.9   2.7  0.7  2.5    0.549  0.000  0.662     12.8  0.192  \n 5   ...      NaN   NaN   NaN  NaN  NaN      NaN    NaN    NaN      NaN    NaN  \n 6   ...     18.9   3.7   8.3  1.7  0.2    0.431  0.351  0.781     11.7  0.185  \n 7   ...     21.6  10.6   2.7  0.9  2.6    0.511  0.250  0.735     13.8  0.269  \n 8   ...     21.1   7.7   6.8  1.8  0.7    0.452  0.143  0.740     10.2  0.149  \n 9   ...     19.2   8.0   1.9  1.1  1.0    0.542  0.143  0.591     10.4  0.169  \n 10  ...     17.8   5.3  10.5  1.7  0.3    0.434  0.250  0.726      8.1  0.129  \n 11  ...      NaN   NaN   NaN  NaN  NaN      NaN    NaN    NaN      NaN    NaN  \n 12  ...     19.1   5.2   5.8  1.8  1.0    0.447  0.318  0.777      6.6  0.193  \n 13  ...     22.3   4.3   2.2  0.9  0.3    0.457  0.433  0.849      9.3  0.136  \n 14  ...     23.2   3.3   4.0  1.3  0.2    0.445  0.389  0.864      7.9  0.148  \n 15  ...     19.5   2.9   2.1  1.0  0.1    0.477  0.429  0.868     12.0  0.206  \n 16  ...     13.4  11.4   1.0  0.4  3.4    0.537    NaN  0.670     10.8  0.177  \n 17  ...      NaN   NaN   NaN  NaN  NaN      NaN    NaN    NaN      NaN    NaN  \n 18  ...     12.0   2.6   8.5  1.4  0.2    0.528  0.429  0.827      8.0  0.206  \n 19  ...     11.6   6.2   9.1  2.0  0.3    0.416  0.313  0.799      8.0  0.123  \n 20  ...     22.4  10.2   3.3  1.7  0.7    0.423  0.312  0.645      4.7  0.070  \n 21  ...     20.1   4.2   4.0  1.0  0.4    0.444  0.351  0.855     10.2  0.171  \n 22  ...      4.7  15.0   2.9  0.6  0.2    0.431  0.174  0.550      7.8  0.131  \n 23  ...     19.2   9.6   0.9  0.7  2.2    0.551    NaN  0.665      7.5  0.185  \n 24  ...     18.5   9.6   4.2  1.7  1.8    0.491  0.188  0.738      9.6  0.143  \n 25  ...     18.0   9.3   2.5  1.4  1.1    0.445  0.250  0.727      6.8  0.118  \n 26  ...     21.5   5.3   4.9  1.6  0.4    0.449  0.357  0.784      7.5  0.106  \n 27  ...     16.4   9.8   3.0  1.8  2.0    0.483  0.000  0.755      4.5  0.131  \n 28  ...     16.9   3.8   3.1  2.0  0.7    0.484  0.389  0.765     10.1  0.166  \n 29  ...     12.9  13.6   1.0  0.7  0.8    0.498  0.000  0.666      8.4  0.172  \n 30  ...     22.0   3.7   6.2  2.2  0.3    0.461  0.298  0.729      9.0  0.138  \n 31  ...     16.7   6.9   1.4  0.5  1.2    0.495  0.000  0.783      6.1  0.141  \n 32  ...     22.3   7.1   2.6  1.1  0.9    0.485  0.412  0.784      6.9  0.113  \n 33  ...     17.7   2.8   8.6  1.3  0.1    0.415  0.313  0.731      5.3  0.082  \n 34  ...     16.0  10.0   3.0  0.9  1.1    0.493  0.261  0.798      9.7  0.200  \n 35  ...     19.7   6.6   1.7  1.0  0.4    0.426  0.308  0.846      4.8  0.098  \n 36  ...     21.9   9.5   3.8  1.6  1.7    0.482  0.317  0.589      8.3  0.142  \n 37  ...     18.4   3.3   2.6  0.8  0.3    0.447  0.385  0.851      6.1  0.102  \n 38  ...     15.8   7.1   4.4  0.8  0.2    0.487  0.415  0.844     10.4  0.182  \n 39  ...     17.3   4.2   8.2  1.6  0.1    0.411  0.299  0.829      4.7  0.079  \n 40  ...     13.2   4.9   6.7  2.6  0.3    0.392  0.269  0.709      5.6  0.099  \n 41  ...     15.3   5.1   2.1  1.2  0.4    0.455  0.360  0.638      5.3  0.149  \n 42  ...     12.8  10.2   4.2  0.8  0.2    0.509  0.000  0.649      9.3  0.141  \n 43  ...      9.5   7.8   2.6  1.3  2.2    0.554  0.250  0.575      7.6  0.124  \n 44  ...     15.1   7.6   1.3  1.2  1.7    0.536  0.000  0.702      9.4  0.185  \n 45  ...     19.5   4.9   4.3  1.4  0.1    0.428  0.364  0.875      7.0  0.102  \n 46  ...     15.2  11.7   3.2  1.0  0.4    0.485  0.214  0.746      8.6  0.183  \n 47  ...     15.4   3.1   2.5  0.9  0.5    0.428  0.341  0.794      6.3  0.147  \n 48  ...     19.6   3.0   8.0  1.6  0.3    0.441  0.188  0.860      8.3  0.152  \n 49  ...     15.9   2.5   3.0  1.0  0.2    0.427  0.386  0.781      4.5  0.095  \n 50  ...     16.2   8.9   1.2  0.9  0.7    0.511  0.333  0.707      6.9  0.126  \n 51  ...     14.2   3.4   4.4  1.4  0.2    0.482  0.441  0.885      9.5  0.186  \n 52  ...     18.5   7.0   3.3  1.3  0.4    0.467  0.000  0.721      4.6  0.086  \n 53  ...      9.0   3.2   8.2  2.5  0.2    0.441  0.000  0.801      8.4  0.163  \n \n [54 rows x 23 columns],\n    Unnamed: 0_level_0 Unnamed: 1_level_0   Unnamed: 2_level_0  \\\n                  # Tm                Pos               Player   \n 0                 1st                  F          Karl Malone   \n 1                 1st                  F           Tim Duncan   \n 2                 1st                  C      Alonzo Mourning   \n 3                 1st                  G        Allen Iverson   \n 4                 1st                  G           Jason Kidd   \n 5                 NaN                NaN                  NaN   \n 6                 2nd                  G          Gary Payton   \n 7                 2nd                  C     Shaquille O'Neal   \n 8                 2nd                  F         Chris Webber   \n 9                 2nd                  F           Grant Hill   \n 10                2nd                  G         Tim Hardaway   \n 11                NaN                NaN                  NaN   \n 12                3rd                  F        Kevin Garnett   \n 13                3rd                  F      Antonio McDyess   \n 14                3rd                  G          Kobe Bryant   \n 15                3rd                  G        John Stockton   \n 16                3rd                  C      Hakeem Olajuwon   \n 17                NaN                NaN                  NaN   \n 18                ORV                  G          Steve Smith   \n 19                ORV                  G        Reggie Miller   \n 20                ORV                  G      Stephon Marbury   \n 21                ORV                  G    Anfernee Hardaway   \n 22                ORV                  F  Shareef Abdur-Rahim   \n 23                ORV                  C      Dikembe Mutombo   \n 24                ORV                  F           Shawn Kemp   \n 25                ORV                  C       David Robinson   \n 26                ORV                  G       Rod Strickland   \n 27                ORV                  G            Ray Allen   \n 28                ORV                  G       Michael Finley   \n 29                ORV                  F      Charles Barkley   \n 30                ORV                  G    Darrell Armstrong   \n 31                ORV                  C          Vlade Divac   \n 32                ORV                  G         Vince Carter   \n 33                ORV                  F          Brian Grant   \n 34                ORV                  G     Damon Stoudamire   \n 35                ORV                  G          Eddie Jones   \n 36                ORV                  G         Mark Jackson   \n 37                ORV                  G       Mitch Richmond   \n 38                ORV                  F       Glenn Robinson   \n 39                ORV                  F       Keith Van Horn   \n 40                ORV                  C      Arvydas Sabonis   \n 41                ORV                  G        Avery Johnson   \n 42                ORV                  F        Bryon Russell   \n 43                ORV                  F      Rasheed Wallace   \n 44                ORV                  G       Jason Williams   \n 45                ORV                  F        Tom Gugliotta   \n 46                ORV                  F       Scottie Pippen   \n 47                ORV                  G         Isaiah Rider   \n 48                ORV                  C            Rik Smits   \n \n    Unnamed: 3_level_0 Unnamed: 4_level_0  Voting                               \\\n                   Age                 Tm Pts Won Pts Max  Share 1st Tm 2nd Tm   \n 0                35.0                UTA   580.0   590.0  0.983  113.0    NaN   \n 1                22.0                SAS   576.0   590.0  0.976  112.0    NaN   \n 2                28.0                MIA   542.0   590.0  0.919   95.0    NaN   \n 3                23.0                PHI   532.0   590.0  0.902   93.0    NaN   \n 4                25.0                PHO   516.0   590.0  0.875   86.0    NaN   \n 5                 NaN                NaN     NaN     NaN    NaN    NaN    NaN   \n 6                30.0                SEA   440.0   590.0  0.746   51.0    NaN   \n 7                26.0                LAL   382.0   590.0  0.647   23.0    NaN   \n 8                25.0                SAC   278.0   590.0  0.471    3.0    NaN   \n 9                26.0                DET   263.0   590.0  0.446    4.0    NaN   \n 10               32.0                MIA   168.0   590.0  0.285    1.0    NaN   \n 11                NaN                NaN     NaN     NaN    NaN    NaN    NaN   \n 12               22.0                MIN   132.0   590.0  0.224    4.0    NaN   \n 13               24.0                DEN    80.0   590.0  0.136    0.0    NaN   \n 14               20.0                LAL    75.0   590.0  0.127    1.0    NaN   \n 15               36.0                UTA    75.0   590.0  0.127    1.0    NaN   \n 16               36.0                HOU    67.0   590.0  0.114    0.0    NaN   \n 17                NaN                NaN     NaN     NaN    NaN    NaN    NaN   \n 18               29.0                ATL    63.0   590.0  0.107    0.0    NaN   \n 19               33.0                IND    57.0   590.0  0.097    1.0    NaN   \n 20               21.0                TOT    54.0   590.0  0.092    0.0    NaN   \n 21               27.0                ORL    41.0   590.0  0.069    2.0    NaN   \n 22               22.0                VAN    36.0   590.0  0.061    0.0    NaN   \n 23               32.0                ATL    33.0   590.0  0.056    0.0    NaN   \n 24               29.0                CLE    30.0   590.0  0.051    0.0    NaN   \n 25               33.0                SAS    22.0   590.0  0.037    0.0    NaN   \n 26               32.0                WAS    21.0   590.0  0.036    0.0    NaN   \n 27               23.0                MIL    16.0   590.0  0.027    0.0    NaN   \n 28               25.0                DAL    16.0   590.0  0.027    0.0    NaN   \n 29               35.0                HOU    14.0   590.0  0.024    0.0    NaN   \n 30               30.0                ORL    12.0   590.0  0.020    0.0    NaN   \n 31               30.0                SAC    11.0   590.0  0.019    0.0    NaN   \n 32               22.0                TOR    10.0   590.0  0.017    0.0    NaN   \n 33               26.0                POR    10.0   590.0  0.017    0.0    NaN   \n 34               25.0                POR    10.0   590.0  0.017    0.0    NaN   \n 35               27.0                TOT     9.0   590.0  0.015    0.0    NaN   \n 36               33.0                IND     7.0   590.0  0.012    0.0    NaN   \n 37               33.0                WAS     7.0   590.0  0.012    0.0    NaN   \n 38               26.0                MIL     5.0   590.0  0.008    0.0    NaN   \n 39               23.0                NJN     5.0   590.0  0.008    0.0    NaN   \n 40               34.0                POR     4.0   590.0  0.007    0.0    NaN   \n 41               33.0                SAS     2.0   590.0  0.003    0.0    0.0   \n 42               28.0                UTA     2.0   590.0  0.003    0.0    0.0   \n 43               24.0                POR     2.0   590.0  0.003    0.0    0.0   \n 44               23.0                SAC     2.0   590.0  0.003    0.0    0.0   \n 45               29.0                PHO     1.0   590.0  0.002    0.0    0.0   \n 46               33.0                HOU     1.0   590.0  0.002    0.0    0.0   \n 47               27.0                POR     1.0   590.0  0.002    0.0    0.0   \n 48               32.0                IND     1.0   590.0  0.002    0.0    0.0   \n \n     ... Per Game                       Shooting               Advanced         \n     ...      PTS   TRB   AST  STL  BLK      FG%    3P%    FT%       WS  WS/48  \n 0   ...     23.8   9.4   4.1  1.3  0.6    0.493  0.000  0.788      9.6  0.252  \n 1   ...     21.7  11.4   2.4  0.9  2.5    0.495  0.143  0.690      8.7  0.213  \n 2   ...     20.1  11.0   1.6  0.7  3.9    0.511  0.000  0.652      7.9  0.216  \n 3   ...     26.8   4.9   4.6  2.3  0.1    0.412  0.291  0.751      7.2  0.173  \n 4   ...     16.9   6.8  10.8  2.3  0.4    0.444  0.366  0.757      8.1  0.188  \n 5   ...      NaN   NaN   NaN  NaN  NaN      NaN    NaN    NaN      NaN    NaN  \n 6   ...     21.7   4.9   8.7  2.2  0.2    0.434  0.295  0.721      7.2  0.172  \n 7   ...     26.3  10.7   2.3  0.7  1.7    0.576  0.000  0.540      9.0  0.255  \n 8   ...     20.0  13.0   4.1  1.4  2.1    0.486  0.118  0.454      3.6  0.102  \n 9   ...     21.1   7.1   6.0  1.6  0.5    0.479  0.000  0.752      7.3  0.189  \n 10  ...     17.4   3.2   7.3  1.2  0.1    0.400  0.360  0.812      5.4  0.146  \n 11  ...      NaN   NaN   NaN  NaN  NaN      NaN    NaN    NaN      NaN    NaN  \n 12  ...     20.8  10.4   4.3  1.7  1.8    0.460  0.286  0.704      5.4  0.146  \n 13  ...     21.2  10.7   1.6  1.5  2.3    0.471  0.111  0.680      4.2  0.105  \n 14  ...     19.9   5.3   3.8  1.4  1.0    0.465  0.267  0.839      5.2  0.130  \n 15  ...     11.1   2.9   7.5  1.6  0.3    0.488  0.320  0.811      6.4  0.217  \n 16  ...     18.9   9.6   1.8  1.6  2.5    0.514  0.308  0.717      6.5  0.175  \n 17  ...      NaN   NaN   NaN  NaN  NaN      NaN    NaN    NaN      NaN    NaN  \n 18  ...     18.7   4.2   3.3  1.0  0.3    0.402  0.338  0.849      4.4  0.162  \n 19  ...     18.4   2.7   2.2  0.7  0.2    0.438  0.385  0.915      6.4  0.172  \n 20  ...     21.3   2.9   8.9  1.2  0.2    0.428  0.335  0.799      5.3  0.134  \n 21  ...     15.8   5.7   5.3  2.2  0.5    0.420  0.286  0.706      5.0  0.122  \n 22  ...     23.0   7.5   3.4  1.4  1.1    0.432  0.306  0.841      4.6  0.108  \n 23  ...     10.8  12.2   1.1  0.3  2.9    0.512    NaN  0.684      7.9  0.206  \n 24  ...     20.5   9.2   2.4  1.1  1.1    0.482  0.500  0.789      6.3  0.205  \n 25  ...     15.8  10.0   2.1  1.4  2.4    0.509  0.000  0.658      8.4  0.261  \n 26  ...     15.7   4.8   9.9  1.7  0.1    0.416  0.286  0.746      4.1  0.120  \n 27  ...     17.1   4.2   3.6  1.1  0.1    0.450  0.356  0.903      5.2  0.146  \n 28  ...     20.2   5.3   4.4  1.3  0.3    0.444  0.331  0.823      5.4  0.126  \n 29  ...     16.1  12.3   4.6  1.0  0.3    0.478  0.160  0.719      6.8  0.215  \n 30  ...     13.8   3.6   6.7  2.2  0.1    0.441  0.365  0.904      6.4  0.205  \n 31  ...     14.3  10.0   4.3  0.9  1.0    0.470  0.256  0.702      5.2  0.142  \n 32  ...     18.3   5.7   3.0  1.1  1.5    0.450  0.288  0.761      5.0  0.136  \n 33  ...     11.5   9.8   1.4  0.4  0.7    0.479    NaN  0.814      5.9  0.185  \n 34  ...     12.6   3.3   6.2  1.0  0.1    0.396  0.310  0.730      3.6  0.102  \n 35  ...     15.6   3.9   3.7  2.5  1.2    0.437  0.338  0.782      6.0  0.153  \n 36  ...      7.6   3.8   7.9  0.9  0.1    0.419  0.311  0.823      3.8  0.134  \n 37  ...     19.7   3.4   2.4  1.3  0.2    0.412  0.317  0.857      3.3  0.082  \n 38  ...     18.4   5.9   2.1  1.0  0.9    0.459  0.392  0.870      4.0  0.122  \n 39  ...     21.8   8.5   1.5  1.0  1.3    0.428  0.302  0.859      3.7  0.113  \n 40  ...     12.1   7.9   2.4  0.7  1.3    0.485  0.292  0.771      5.8  0.207  \n 41  ...      9.7   2.4   7.4  1.0  0.2    0.473  0.083  0.568      3.9  0.111  \n 42  ...     12.4   5.3   1.5  1.5  0.3    0.464  0.354  0.795      5.6  0.151  \n 43  ...     12.8   4.9   1.2  1.0  1.1    0.508  0.419  0.732      5.0  0.169  \n 44  ...     12.8   3.1   6.0  1.9  0.0    0.374  0.310  0.752      2.1  0.055  \n 45  ...     17.0   8.9   2.8  1.4  0.5    0.483  0.286  0.794      5.4  0.165  \n 46  ...     14.5   6.5   5.9  2.0  0.7    0.432  0.340  0.721      4.9  0.116  \n 47  ...     13.9   4.2   2.2  0.5  0.2    0.412  0.378  0.755      2.5  0.086  \n 48  ...     14.9   5.6   1.1  0.4  1.1    0.490  0.000  0.818      3.4  0.130  \n \n [49 rows x 23 columns],\n    Unnamed: 0_level_0 Unnamed: 1_level_0   Unnamed: 2_level_0  \\\n                  # Tm                Pos               Player   \n 0                 1st                  C     Shaquille O'Neal   \n 1                 1st                  G          Gary Payton   \n 2                 1st                  F        Kevin Garnett   \n 3                 1st                  F           Tim Duncan   \n 4                 1st                  G           Jason Kidd   \n 5                 NaN                NaN                  NaN   \n 6                 2nd                  G        Allen Iverson   \n 7                 2nd                  G          Kobe Bryant   \n 8                 2nd                  F          Karl Malone   \n 9                 2nd                  C      Alonzo Mourning   \n 10                2nd                  F           Grant Hill   \n 11                NaN                NaN                  NaN   \n 12                3rd                  F         Chris Webber   \n 13                3rd                  F         Vince Carter   \n 14                3rd                  G          Eddie Jones   \n 15                3rd                  C       David Robinson   \n 16                3rd                  G      Stephon Marbury   \n 17                NaN                NaN                  NaN   \n 18                ORV                  G        John Stockton   \n 19                ORV                  G       Michael Finley   \n 20                ORV                  G        Allan Houston   \n 21                ORV                  C      Dikembe Mutombo   \n 22                ORV                  G     Jerry Stackhouse   \n 23                ORV                  G            Ray Allen   \n 24                ORV                  C        Patrick Ewing   \n 25                ORV                  F  Shareef Abdur-Rahim   \n 26                ORV                  F           Jalen Rose   \n 27                ORV                  F      Rasheed Wallace   \n 28                ORV                  F    Clifford Robinson   \n 29                ORV                  G     Latrell Sprewell   \n 30                ORV                  G      Terrell Brandon   \n 31                ORV                  C      Arvydas Sabonis   \n 32                ORV                  C            Rik Smits   \n 33                ORV                  G    Darrell Armstrong   \n 34                ORV                  G          Sam Cassell   \n 35                ORV                  C          Vlade Divac   \n 36                ORV                  G    Anfernee Hardaway   \n 37                ORV                  F      Antonio McDyess   \n 38                ORV                  G        Reggie Miller   \n 39                ORV                  G          Steve Smith   \n \n    Unnamed: 3_level_0 Unnamed: 4_level_0  Voting                               \\\n                   Age                 Tm Pts Won Pts Max  Share 1st Tm 2nd Tm   \n 0                27.0                LAL   605.0   605.0  1.000  121.0    0.0   \n 1                31.0                SEA   541.0   605.0  0.894   95.0    NaN   \n 2                23.0                MIN   495.0   605.0  0.818   77.0    NaN   \n 3                23.0                SAS   460.0   605.0  0.760   48.0    NaN   \n 4                26.0                PHO   445.0   605.0  0.736   48.0    NaN   \n 5                 NaN                NaN     NaN     NaN    NaN    NaN    NaN   \n 6                24.0                PHI   420.0   605.0  0.694   52.0    NaN   \n 7                21.0                LAL   411.0   605.0  0.679   45.0    NaN   \n 8                36.0                UTA   409.0   605.0  0.676   51.0    NaN   \n 9                29.0                MIA   354.0   605.0  0.585    0.0    NaN   \n 10               27.0                DET   342.0   605.0  0.565   32.0    NaN   \n 11                NaN                NaN     NaN     NaN    NaN    NaN    NaN   \n 12               26.0                SAC   254.0   605.0  0.420    8.0    NaN   \n 13               23.0                TOR   194.0   605.0  0.321   13.0    NaN   \n 14               28.0                CHH   125.0   605.0  0.207    2.0    NaN   \n 15               34.0                SAS    91.0   605.0  0.150    0.0    NaN   \n 16               22.0                NJN    53.0   605.0  0.088    0.0    NaN   \n 17                NaN                NaN     NaN     NaN    NaN    NaN    NaN   \n 18               37.0                UTA    50.0   605.0  0.083    0.0    NaN   \n 19               26.0                DAL    49.0   605.0  0.081    0.0    NaN   \n 20               28.0                NYK    28.0   605.0  0.046    0.0    NaN   \n 21               33.0                ATL    26.0   605.0  0.043    0.0    NaN   \n 22               25.0                DET    24.0   605.0  0.040    0.0    NaN   \n 23               24.0                MIL    20.0   605.0  0.033    0.0    NaN   \n 24               37.0                NYK     8.0   605.0  0.013    0.0    NaN   \n 25               23.0                VAN     7.0   605.0  0.012    0.0    NaN   \n 26               27.0                IND     6.0   605.0  0.010    0.0    NaN   \n 27               25.0                POR     6.0   605.0  0.010    0.0    NaN   \n 28               33.0                PHO     4.0   605.0  0.007    0.0    NaN   \n 29               29.0                NYK     4.0   605.0  0.007    0.0    NaN   \n 30               29.0                MIN     3.0   605.0  0.005    0.0    NaN   \n 31               35.0                POR     2.0   605.0  0.003    0.0    0.0   \n 32               33.0                IND     2.0   605.0  0.003    0.0    0.0   \n 33               31.0                ORL     1.0   605.0  0.002    0.0    0.0   \n 34               30.0                MIL     1.0   605.0  0.002    0.0    0.0   \n 35               31.0                SAC     1.0   605.0  0.002    0.0    0.0   \n 36               28.0                PHO     1.0   605.0  0.002    0.0    0.0   \n 37               25.0                DEN     1.0   605.0  0.002    0.0    0.0   \n 38               34.0                IND     1.0   605.0  0.002    0.0    0.0   \n 39               30.0                POR     1.0   605.0  0.002    0.0    0.0   \n \n     ... Per Game                       Shooting               Advanced         \n     ...      PTS   TRB   AST  STL  BLK      FG%    3P%    FT%       WS  WS/48  \n 0   ...     29.7  13.6   3.8  0.5  3.0    0.574  0.000  0.524     18.6  0.283  \n 1   ...     24.2   6.5   8.9  1.9  0.2    0.448  0.340  0.735     13.9  0.195  \n 2   ...     22.9  11.8   5.0  1.5  1.6    0.497  0.370  0.765     11.6  0.172  \n 3   ...     23.2  12.4   3.2  0.9  2.2    0.490  0.091  0.761     13.0  0.218  \n 4   ...     14.3   7.2  10.1  2.0  0.4    0.409  0.337  0.829      8.5  0.156  \n 5   ...      NaN   NaN   NaN  NaN  NaN      NaN    NaN    NaN      NaN    NaN  \n 6   ...     28.4   3.8   4.7  2.1  0.1    0.421  0.341  0.713      6.9  0.116  \n 7   ...     22.5   6.3   4.9  1.6  0.9    0.468  0.319  0.821     10.6  0.202  \n 8   ...     25.5   9.5   3.7  1.0  0.9    0.509  0.250  0.797     15.3  0.249  \n 9   ...     21.7   9.5   1.6  0.5  3.7    0.551  0.000  0.711     12.9  0.226  \n 10  ...     25.8   6.6   5.2  1.4  0.6    0.489  0.347  0.795     10.7  0.185  \n 11  ...      NaN   NaN   NaN  NaN  NaN      NaN    NaN    NaN      NaN    NaN  \n 12  ...     24.5  10.5   4.6  1.6  1.7    0.483  0.284  0.751     10.7  0.179  \n 13  ...     25.7   5.8   3.9  1.3  1.1    0.465  0.403  0.791     11.8  0.182  \n 14  ...     20.1   4.8   4.2  2.7  0.7    0.427  0.375  0.864     10.1  0.172  \n 15  ...     17.8   9.6   1.8  1.2  2.3    0.512  0.000  0.726     12.7  0.238  \n 16  ...     22.2   3.2   8.4  1.5  0.2    0.432  0.283  0.813      7.4  0.123  \n 17  ...      NaN   NaN   NaN  NaN  NaN      NaN    NaN    NaN      NaN    NaN  \n 18  ...     12.1   2.6   8.6  1.7  0.2    0.501  0.355  0.860     11.2  0.222  \n 19  ...     22.6   6.3   5.3  1.3  0.4    0.457  0.401  0.820      8.3  0.114  \n 20  ...     19.7   3.3   2.7  0.8  0.2    0.483  0.436  0.838      8.6  0.130  \n 21  ...     11.5  14.1   1.3  0.3  3.3    0.562    NaN  0.708      9.9  0.160  \n 22  ...     23.6   3.8   4.5  1.3  0.4    0.428  0.288  0.815      7.3  0.111  \n 23  ...     22.1   4.4   3.8  1.3  0.2    0.455  0.423  0.887     10.1  0.157  \n 24  ...     15.0   9.7   0.9  0.6  1.4    0.466  0.000  0.731      4.8  0.113  \n 25  ...     20.3  10.1   3.3  1.1  1.1    0.465  0.302  0.809      8.8  0.132  \n 26  ...     18.2   4.8   4.0  1.1  0.6    0.471  0.393  0.827      7.3  0.118  \n 27  ...     16.4   7.0   1.8  1.1  1.3    0.519  0.160  0.704      9.3  0.156  \n 28  ...     18.5   4.5   2.8  1.1  0.8    0.464  0.370  0.782      9.6  0.162  \n 29  ...     18.6   4.3   4.0  1.3  0.3    0.435  0.346  0.866      6.6  0.097  \n 30  ...     17.1   3.4   8.9  1.9  0.4    0.466  0.402  0.899      8.6  0.159  \n 31  ...     11.8   7.8   1.8  0.7  1.2    0.505  0.368  0.843      7.1  0.203  \n 32  ...     12.9   5.1   1.1  0.3  1.3    0.484  0.000  0.739      3.8  0.099  \n 33  ...     16.2   3.3   6.1  2.1  0.1    0.433  0.340  0.911      8.0  0.149  \n 34  ...     18.6   3.7   9.0  1.3  0.1    0.466  0.289  0.876      9.2  0.152  \n 35  ...     12.3   8.0   3.0  1.3  1.3    0.503  0.269  0.691      7.2  0.145  \n 36  ...     16.9   5.8   5.3  1.6  0.6    0.474  0.324  0.790      7.8  0.165  \n 37  ...     19.1   8.5   2.0  0.9  1.7    0.507  0.000  0.626      6.2  0.110  \n 38  ...     18.1   3.0   2.3  1.0  0.3    0.448  0.408  0.919     10.1  0.162  \n 39  ...     14.9   3.8   2.5  0.9  0.4    0.467  0.398  0.850     10.4  0.186  \n \n [40 rows x 23 columns],\n    Unnamed: 0_level_0 Unnamed: 1_level_0   Unnamed: 2_level_0  \\\n                  # Tm                Pos               Player   \n 0                 1st                  G        Allen Iverson   \n 1                 1st                  F           Tim Duncan   \n 2                 1st                  F         Chris Webber   \n 3                 1st                  C     Shaquille O'Neal   \n 4                 1st                  G           Jason Kidd   \n 5                 NaN                NaN                  NaN   \n 6                 2nd                  F        Kevin Garnett   \n 7                 2nd                  G          Kobe Bryant   \n 8                 2nd                  F        Tracy McGrady   \n 9                 2nd                  F         Vince Carter   \n 10                2nd                  C      Dikembe Mutombo   \n 11                NaN                NaN                  NaN   \n 12                3rd                  F          Karl Malone   \n 13                3rd                  C       David Robinson   \n 14                3rd                  G          Gary Payton   \n 15                3rd                  G            Ray Allen   \n 16                3rd                  F        Dirk Nowitzki   \n 17                NaN                NaN                  NaN   \n 18                ORV                  G     Jerry Stackhouse   \n 19                ORV                  F      Rasheed Wallace   \n 20                ORV                  G       Michael Finley   \n 21                ORV                  G      Stephon Marbury   \n 22                ORV                  F          Paul Pierce   \n 23                ORV                  F      Antonio McDyess   \n 24                ORV                  G        John Stockton   \n 25                ORV                  G        Steve Francis   \n 26                ORV                  F       Glenn Robinson   \n 27                ORV                  C        Antonio Davis   \n 28                ORV                  C          Vlade Divac   \n 29                ORV                  C         Marcus Camby   \n 30                ORV                  F        Anthony Mason   \n 31                ORV                  C         Theo Ratliff   \n 32                ORV                  F         Shawn Marion   \n 33                ORV                  F           Jalen Rose   \n 34                ORV                  G     Latrell Sprewell   \n 35                ORV                  F  Shareef Abdur-Rahim   \n 36                ORV                  F          Brian Grant   \n 37                ORV                  G        Allan Houston   \n 38                ORV                  G      Terrell Brandon   \n 39                ORV                  G          Sam Cassell   \n 40                ORV                  C      Jermaine O'Neal   \n 41                ORV                  C       Elden Campbell   \n 42                ORV                  F       Antawn Jamison   \n 43                ORV                  F        Rashard Lewis   \n 44                ORV                  F      Peja Stojaković   \n 45                ORV                  F       Antoine Walker   \n \n    Unnamed: 3_level_0 Unnamed: 4_level_0  Voting                               \\\n                   Age                 Tm Pts Won Pts Max  Share 1st Tm 2nd Tm   \n 0                25.0                PHI   612.0   620.0  0.987  120.0    NaN   \n 1                24.0                SAS   608.0   620.0  0.981  115.0    NaN   \n 2                27.0                SAC   596.0   620.0  0.961  109.0    NaN   \n 3                28.0                LAL   581.0   620.0  0.937  115.0    NaN   \n 4                27.0                PHO   423.0   620.0  0.682   54.0    NaN   \n 5                 NaN                NaN     NaN     NaN    NaN    NaN    NaN   \n 6                24.0                MIN   424.0   620.0  0.684   25.0    NaN   \n 7                22.0                LAL   411.0   620.0  0.663   36.0    NaN   \n 8                21.0                ORL   318.0   620.0  0.513   21.0    NaN   \n 9                24.0                TOR   287.0   620.0  0.463   11.0    NaN   \n 10               34.0                TOT   238.0   620.0  0.384    0.0    NaN   \n 11                NaN                NaN     NaN     NaN    NaN    NaN    NaN   \n 12               37.0                UTA   197.0   620.0  0.318    0.0    NaN   \n 13               35.0                SAS   165.0   620.0  0.266    0.0    NaN   \n 14               32.0                SEA   117.0   620.0  0.189    1.0    NaN   \n 15               25.0                MIL   105.0   620.0  0.169    3.0    NaN   \n 16               22.0                DAL    56.0   620.0  0.090    0.0    NaN   \n 17                NaN                NaN     NaN     NaN    NaN    NaN    NaN   \n 18               26.0                DET    54.0   620.0  0.087    3.0    NaN   \n 19               26.0                POR    51.0   620.0  0.082    0.0    NaN   \n 20               27.0                DAL    44.0   620.0  0.071    0.0    NaN   \n 21               23.0                NJN    38.0   620.0  0.061    0.0    NaN   \n 22               23.0                BOS    38.0   620.0  0.061    0.0    NaN   \n 23               26.0                DEN    34.0   620.0  0.055    0.0    NaN   \n 24               38.0                UTA    32.0   620.0  0.052    1.0    NaN   \n 25               23.0                HOU    29.0   620.0  0.047    1.0    NaN   \n 26               28.0                MIL    20.0   620.0  0.032    0.0    NaN   \n 27               32.0                TOR    17.0   620.0  0.027    0.0    NaN   \n 28               32.0                SAC    17.0   620.0  0.027    0.0    NaN   \n 29               26.0                NYK    11.0   620.0  0.018    0.0    NaN   \n 30               34.0                MIA     6.0   620.0  0.010    0.0    NaN   \n 31               27.0                PHI     5.0   620.0  0.008    0.0    NaN   \n 32               22.0                PHO     4.0   620.0  0.006    0.0    NaN   \n 33               28.0                IND     4.0   620.0  0.006    0.0    NaN   \n 34               30.0                NYK     4.0   620.0  0.006    0.0    NaN   \n 35               24.0                VAN     3.0   620.0  0.005    0.0    NaN   \n 36               28.0                MIA     3.0   620.0  0.005    0.0    NaN   \n 37               29.0                NYK     3.0   620.0  0.005    0.0    NaN   \n 38               30.0                MIN     2.0   620.0  0.003    0.0    0.0   \n 39               31.0                MIL     2.0   620.0  0.003    0.0    0.0   \n 40               22.0                IND     2.0   620.0  0.003    0.0    0.0   \n 41               32.0                CHH     1.0   620.0  0.002    0.0    0.0   \n 42               24.0                GSW     1.0   620.0  0.002    0.0    0.0   \n 43               21.0                SEA     1.0   620.0  0.002    0.0    0.0   \n 44               23.0                SAC     1.0   620.0  0.002    0.0    0.0   \n 45               24.0                BOS     1.0   620.0  0.002    0.0    0.0   \n \n     ... Per Game                      Shooting               Advanced         \n     ...      PTS   TRB  AST  STL  BLK      FG%    3P%    FT%       WS  WS/48  \n 0   ...     31.1   3.8  4.6  2.5  0.3    0.420  0.320  0.814     11.8  0.190  \n 1   ...     22.2  12.2  3.0  0.9  2.3    0.499  0.259  0.618     13.2  0.200  \n 2   ...     27.1  11.1  4.2  1.3  1.7    0.481  0.071  0.703     11.0  0.186  \n 3   ...     28.7  12.7  3.7  0.6  2.8    0.572  0.000  0.513     14.9  0.245  \n 4   ...     16.9   6.4  9.8  2.2  0.3    0.411  0.297  0.814      9.6  0.150  \n 5   ...      NaN   NaN  NaN  NaN  NaN      NaN    NaN    NaN      NaN    NaN  \n 6   ...     22.0  11.4  5.0  1.4  1.8    0.477  0.288  0.764     11.8  0.176  \n 7   ...     28.5   5.9  5.0  1.7  0.6    0.464  0.305  0.853     11.3  0.196  \n 8   ...     26.8   7.5  4.6  1.5  1.5    0.457  0.355  0.733     12.2  0.189  \n 9   ...     27.6   5.5  3.9  1.5  1.1    0.460  0.408  0.765     12.9  0.208  \n 10  ...     10.0  13.5  1.0  0.4  2.7    0.484    NaN  0.725      8.1  0.151  \n 11  ...      NaN   NaN  NaN  NaN  NaN      NaN    NaN    NaN      NaN    NaN  \n 12  ...     23.2   8.3  4.5  1.1  0.8    0.498  0.400  0.793     13.1  0.217  \n 13  ...     14.4   8.6  1.5  1.0  2.5    0.486  0.000  0.747     12.1  0.246  \n 14  ...     23.1   4.6  8.1  1.6  0.3    0.456  0.375  0.766     10.8  0.160  \n 15  ...     22.0   5.2  4.6  1.5  0.2    0.480  0.433  0.888     13.7  0.211  \n 16  ...     21.8   9.2  2.1  1.0  1.2    0.474  0.387  0.838     14.6  0.224  \n 17  ...      NaN   NaN  NaN  NaN  NaN      NaN    NaN    NaN      NaN    NaN  \n 18  ...     29.8   3.9  5.1  1.2  0.7    0.402  0.351  0.822      9.2  0.137  \n 19  ...     19.2   7.8  2.8  1.2  1.8    0.501  0.321  0.766     11.0  0.180  \n 20  ...     21.5   5.2  4.4  1.4  0.4    0.458  0.346  0.775      8.5  0.119  \n 21  ...     23.9   3.1  7.6  1.2  0.1    0.441  0.328  0.790      7.8  0.147  \n 22  ...     25.3   6.4  3.1  1.7  0.8    0.454  0.383  0.745     10.4  0.160  \n 23  ...     20.8  12.1  2.1  0.6  1.5    0.495    NaN  0.700      7.8  0.146  \n 24  ...     11.5   2.8  8.7  1.6  0.3    0.504  0.462  0.817     10.8  0.216  \n 25  ...     19.9   6.9  6.5  1.8  0.4    0.451  0.396  0.817     12.2  0.184  \n 26  ...     22.0   6.9  3.3  1.1  0.8    0.468  0.299  0.820      6.7  0.114  \n 27  ...     13.7  10.1  1.4  0.3  1.9    0.433  0.000  0.754      7.2  0.127  \n 28  ...     12.0   8.3  2.9  1.1  1.1    0.482  0.286  0.691      7.4  0.147  \n 29  ...     12.0  11.5  0.8  1.0  2.2    0.524  0.125  0.667     10.3  0.233  \n 30  ...     16.1   9.6  3.1  1.0  0.3    0.482    NaN  0.781     11.6  0.171  \n 31  ...     12.4   8.3  1.2  0.6  3.7    0.499    NaN  0.760      5.2  0.138  \n 32  ...     17.3  10.7  2.0  1.7  1.4    0.480  0.256  0.810     11.7  0.196  \n 33  ...     20.5   5.0  6.0  0.9  0.6    0.457  0.339  0.828      7.3  0.119  \n 34  ...     17.7   4.5  3.5  1.4  0.4    0.430  0.304  0.783      5.1  0.082  \n 35  ...     20.5   9.1  3.1  1.1  1.0    0.472  0.188  0.834      8.5  0.126  \n 36  ...     15.2   8.8  1.2  0.7  0.9    0.479  0.000  0.797      8.7  0.151  \n 37  ...     18.7   3.6  2.2  0.7  0.1    0.449  0.381  0.909      7.5  0.126  \n 38  ...     16.0   3.8  7.5  2.1  0.3    0.451  0.363  0.871      8.5  0.145  \n 39  ...     18.2   3.8  7.6  1.2  0.1    0.474  0.306  0.858      8.5  0.150  \n 40  ...     12.9   9.8  1.2  0.6  2.8    0.465  0.000  0.601      6.4  0.116  \n 41  ...     13.1   7.8  1.3  0.8  1.8    0.440  0.000  0.709      6.4  0.131  \n 42  ...     24.9   8.7  2.0  1.4  0.3    0.442  0.302  0.715      6.7  0.094  \n 43  ...     14.8   6.9  1.6  1.2  0.6    0.480  0.432  0.826      8.0  0.142  \n 44  ...     20.4   5.8  2.2  1.2  0.2    0.470  0.400  0.856     10.1  0.168  \n 45  ...     23.4   8.9  5.5  1.7  0.6    0.413  0.367  0.716      6.6  0.093  \n \n [46 rows x 23 columns],\n    Unnamed: 0_level_0 Unnamed: 1_level_0   Unnamed: 2_level_0  \\\n                  # Tm                Pos               Player   \n 0                 1st                  C     Shaquille O'Neal   \n 1                 1st                  F           Tim Duncan   \n 2                 1st                  G           Jason Kidd   \n 3                 1st                  F        Tracy McGrady   \n 4                 1st                  G          Kobe Bryant   \n 5                 NaN                NaN                  NaN   \n 6                 2nd                  F        Kevin Garnett   \n 7                 2nd                  F        Dirk Nowitzki   \n 8                 2nd                  F         Chris Webber   \n 9                 2nd                  G          Gary Payton   \n 10                2nd                  G        Allen Iverson   \n 11                NaN                NaN                  NaN   \n 12                3rd                  F          Paul Pierce   \n 13                3rd                  C          Ben Wallace   \n 14                3rd                  C      Dikembe Mutombo   \n 15                3rd                  G           Steve Nash   \n 16                3rd                  C      Jermaine O'Neal   \n 17                NaN                NaN                  NaN   \n 18                ORV                  F      Peja Stojaković   \n 19                ORV                  C          Vlade Divac   \n 20                ORV                  G     Jerry Stackhouse   \n 21                ORV                  F          Karl Malone   \n 22                ORV                  G         Andre Miller   \n 23                ORV                  F          Elton Brand   \n 24                ORV                  G       Michael Jordan   \n 25                ORV                  F       Antoine Walker   \n 26                ORV                  C      Alonzo Mourning   \n 27                ORV                  F          Baron Davis   \n 28                ORV                  F      Rasheed Wallace   \n 29                ORV                  G            Ray Allen   \n 30                ORV                  G        John Stockton   \n 31                ORV                  F  Shareef Abdur-Rahim   \n 32                ORV                  G       Michael Finley   \n 33                ORV                  G        Steve Francis   \n 34                ORV                  G           Mike Bibby   \n 35                ORV                  F            Pau Gasol   \n 36                ORV                  C        Raef LaFrentz   \n 37                ORV                  F         Shawn Marion   \n 38                ORV                  C       David Robinson   \n 39                ORV                  F         Vince Carter   \n 40                ORV                  C        Antonio Davis   \n 41                ORV                  F    Clifford Robinson   \n 42                ORV                  F        Rashard Lewis   \n 43                ORV                  C   Michael Olowokandi   \n 44                ORV                  C       Elden Campbell   \n 45                ORV                  G          Sam Cassell   \n 46                ORV                  G        Reggie Miller   \n 47                ORV                  G       Cuttino Mobley   \n 48                ORV                  F     Wally Szczerbiak   \n \n    Unnamed: 3_level_0 Unnamed: 4_level_0  Voting                               \\\n                   Age                 Tm Pts Won Pts Max  Share 1st Tm 2nd Tm   \n 0                29.0                LAL   626.0   630.0  0.994  125.0    0.0   \n 1                25.0                SAS   626.0   630.0  0.994  124.0    NaN   \n 2                28.0                NJN   601.0   630.0  0.954  115.0    NaN   \n 3                22.0                ORL   513.0   630.0  0.814   80.0    NaN   \n 4                23.0                LAL   507.0   630.0  0.805   72.0    NaN   \n 5                 NaN                NaN     NaN     NaN    NaN    NaN    NaN   \n 6                25.0                MIN   391.0   630.0  0.621   31.0    NaN   \n 7                23.0                DAL   358.0   630.0  0.568   22.0    NaN   \n 8                28.0                SAC   339.0   630.0  0.538   21.0    NaN   \n 9                33.0                SEA   284.0   630.0  0.451   11.0    NaN   \n 10               26.0                PHI   272.0   630.0  0.432   12.0    NaN   \n 11                NaN                NaN     NaN     NaN    NaN    NaN    NaN   \n 12               24.0                BOS   230.0   630.0  0.365    9.0    NaN   \n 13               27.0                DET   195.0   630.0  0.310    3.0    NaN   \n 14               35.0                PHI   105.0   630.0  0.167    0.0    NaN   \n 15               27.0                DAL    96.0   630.0  0.152    1.0    NaN   \n 16               23.0                IND    78.0   630.0  0.124    0.0    NaN   \n 17                NaN                NaN     NaN     NaN    NaN    NaN    NaN   \n 18               24.0                SAC    55.0   630.0  0.087    0.0    NaN   \n 19               33.0                SAC    51.0   630.0  0.081    0.0    NaN   \n 20               27.0                DET    46.0   630.0  0.073    1.0    NaN   \n 21               38.0                UTA    41.0   630.0  0.065    1.0    NaN   \n 22               25.0                CLE    32.0   630.0  0.051    0.0    NaN   \n 23               22.0                LAC    29.0   630.0  0.046    1.0    NaN   \n 24               38.0                WAS    29.0   630.0  0.046    0.0    NaN   \n 25               25.0                BOS    28.0   630.0  0.044    0.0    NaN   \n 26               31.0                MIA    25.0   630.0  0.040    0.0    NaN   \n 27               22.0                CHH    24.0   630.0  0.038    0.0    NaN   \n 28               27.0                POR    15.0   630.0  0.024    0.0    NaN   \n 29               26.0                MIL    13.0   630.0  0.021    0.0    NaN   \n 30               39.0                UTA    11.0   630.0  0.017    1.0    NaN   \n 31               25.0                ATL     5.0   630.0  0.008    0.0    NaN   \n 32               28.0                DAL     5.0   630.0  0.008    0.0    NaN   \n 33               24.0                HOU     5.0   630.0  0.008    0.0    NaN   \n 34               23.0                SAC     4.0   630.0  0.006    0.0    NaN   \n 35               21.0                MEM     4.0   630.0  0.006    0.0    NaN   \n 36               25.0                TOT     4.0   630.0  0.006    0.0    NaN   \n 37               23.0                PHO     4.0   630.0  0.006    0.0    NaN   \n 38               36.0                SAS     4.0   630.0  0.006    0.0    NaN   \n 39               25.0                TOR     3.0   630.0  0.005    0.0    NaN   \n 40               33.0                TOR     3.0   630.0  0.005    0.0    NaN   \n 41               35.0                DET     3.0   630.0  0.005    0.0    NaN   \n 42               22.0                SEA     2.0   630.0  0.003    0.0    0.0   \n 43               26.0                LAC     2.0   630.0  0.003    0.0    0.0   \n 44               33.0                CHH     1.0   630.0  0.002    0.0    0.0   \n 45               32.0                MIL     1.0   630.0  0.002    0.0    0.0   \n 46               36.0                IND     1.0   630.0  0.002    0.0    0.0   \n 47               26.0                HOU     1.0   630.0  0.002    0.0    0.0   \n 48               24.0                MIN     1.0   630.0  0.002    0.0    0.0   \n \n     ... Per Game                       Shooting               Advanced         \n     ...      PTS   TRB   AST  STL  BLK      FG%    3P%    FT%       WS  WS/48  \n 0   ...     27.2  10.7   3.0  0.6  2.0    0.579  0.000  0.555     13.2  0.262  \n 1   ...     25.5  12.7   3.7  0.7  2.5    0.508  0.100  0.799     17.8  0.257  \n 2   ...     14.7   7.3   9.9  2.1  0.2    0.391  0.321  0.814      8.9  0.140  \n 3   ...     25.6   7.9   5.3  1.6  1.0    0.451  0.364  0.748     11.5  0.189  \n 4   ...     25.2   5.5   5.5  1.5  0.4    0.469  0.250  0.829     12.7  0.199  \n 5   ...      NaN   NaN   NaN  NaN  NaN      NaN    NaN    NaN      NaN    NaN  \n 6   ...     21.2  12.1   5.2  1.2  1.6    0.470  0.319  0.801     12.8  0.194  \n 7   ...     23.4   9.9   2.4  1.1  1.0    0.477  0.397  0.853     13.4  0.222  \n 8   ...     24.5  10.1   4.8  1.7  1.4    0.495  0.263  0.749      8.6  0.200  \n 9   ...     22.1   4.8   9.0  1.6  0.3    0.467  0.314  0.797     12.6  0.183  \n 10  ...     31.4   4.5   5.5  2.8  0.2    0.398  0.291  0.812      6.9  0.126  \n 11  ...      NaN   NaN   NaN  NaN  NaN      NaN    NaN    NaN      NaN    NaN  \n 12  ...     26.1   6.9   3.2  1.9  1.0    0.442  0.404  0.809     12.9  0.187  \n 13  ...      7.6  13.0   1.4  1.7  3.5    0.531  0.000  0.423     11.6  0.190  \n 14  ...     11.5  10.8   1.0  0.4  2.4    0.501    NaN  0.764      9.6  0.158  \n 15  ...     17.9   3.1   7.7  0.6  0.0    0.483  0.455  0.887      9.9  0.167  \n 16  ...     19.0  10.5   1.6  0.6  2.3    0.479  0.071  0.688      6.4  0.113  \n 17  ...      NaN   NaN   NaN  NaN  NaN      NaN    NaN    NaN      NaN    NaN  \n 18  ...     21.2   5.3   2.5  1.1  0.2    0.484  0.416  0.876      9.9  0.179  \n 19  ...     11.1   8.4   3.7  1.0  1.2    0.472  0.231  0.615      7.3  0.145  \n 20  ...     21.4   4.1   5.3  1.0  0.5    0.397  0.287  0.858      5.8  0.104  \n 21  ...     22.4   8.6   4.3  1.9  0.7    0.454  0.360  0.797      9.8  0.155  \n 22  ...     16.5   4.7  10.9  1.6  0.4    0.454  0.253  0.817     10.3  0.163  \n 23  ...     18.2  11.6   2.4  1.0  2.0    0.527    NaN  0.742     13.6  0.216  \n 24  ...     22.9   5.7   5.2  1.4  0.4    0.416  0.189  0.790      3.3  0.075  \n 25  ...     22.1   8.8   5.0  1.5  0.5    0.394  0.344  0.741      6.7  0.094  \n 26  ...     15.7   8.4   1.2  0.4  2.5    0.516  0.333  0.657      7.4  0.145  \n 27  ...     18.1   4.3   8.5  2.1  0.6    0.417  0.356  0.580      8.2  0.118  \n 28  ...     19.3   8.2   1.9  1.3  1.3    0.469  0.360  0.734      9.7  0.158  \n 29  ...     21.8   4.5   3.9  1.3  0.3    0.462  0.434  0.873      8.9  0.169  \n 30  ...     13.4   3.2   8.2  1.9  0.3    0.517  0.321  0.857     10.7  0.200  \n 31  ...     21.2   9.0   3.1  1.3  1.1    0.461  0.300  0.801      7.2  0.116  \n 32  ...     20.6   5.2   3.3  0.9  0.4    0.463  0.339  0.837      6.3  0.110  \n 33  ...     21.6   7.0   6.4  1.2  0.4    0.417  0.324  0.773      4.4  0.091  \n 34  ...     13.7   2.8   5.0  1.1  0.2    0.453  0.370  0.803      6.3  0.113  \n 35  ...     17.6   8.9   2.7  0.5  2.1    0.518  0.200  0.709      7.6  0.121  \n 36  ...     13.5   7.4   1.1  0.7  2.7    0.458  0.388  0.695      6.4  0.125  \n 37  ...     19.1   9.9   2.0  1.8  1.1    0.469  0.393  0.845      9.8  0.151  \n 38  ...     12.2   8.3   1.2  1.1  1.8    0.507    NaN  0.681     10.1  0.211  \n 39  ...     24.7   5.2   4.0  1.6  0.7    0.428  0.387  0.798      7.0  0.140  \n 40  ...     14.5   9.6   2.0  0.7  1.1    0.426  0.000  0.818      6.5  0.105  \n 41  ...     14.6   4.8   2.5  1.1  1.2    0.425  0.378  0.694      4.3  0.073  \n 42  ...     16.8   7.0   1.7  1.5  0.6    0.468  0.389  0.810      8.6  0.160  \n 43  ...     11.1   8.9   1.1  0.7  1.8    0.433    NaN  0.622      1.6  0.029  \n 44  ...     13.9   6.9   1.3  0.8  1.8    0.484  0.000  0.797      7.6  0.168  \n 45  ...     19.7   4.2   6.7  1.2  0.2    0.463  0.348  0.860      8.6  0.158  \n 46  ...     16.5   2.8   3.2  1.1  0.1    0.453  0.406  0.911      9.5  0.159  \n 47  ...     21.7   4.1   2.5  1.5  0.5    0.438  0.395  0.850      5.7  0.087  \n 48  ...     18.7   4.8   3.1  0.8  0.3    0.508  0.455  0.831      8.7  0.134  \n \n [49 rows x 23 columns]]"
     },
     "execution_count": 39,
     "metadata": {},
     "output_type": "execute_result"
    }
   ],
   "source": [
    "dfs2"
   ],
   "metadata": {
    "collapsed": false,
    "ExecuteTime": {
     "end_time": "2024-06-08T09:25:43.826206Z",
     "start_time": "2024-06-08T09:25:43.754820Z"
    }
   },
   "id": "b038b6bab205f8cb",
   "execution_count": 39
  },
  {
   "cell_type": "code",
   "outputs": [],
   "source": [
    "all_nba_new = pd.concat(dfs2)"
   ],
   "metadata": {
    "collapsed": false,
    "ExecuteTime": {
     "end_time": "2024-06-08T09:26:05.165769Z",
     "start_time": "2024-06-08T09:26:05.163053Z"
    }
   },
   "id": "c57e7c10075729d8",
   "execution_count": 40
  },
  {
   "cell_type": "code",
   "outputs": [
    {
     "data": {
      "text/plain": "   Unnamed: 0_level_0 Unnamed: 1_level_0 Unnamed: 2_level_0  \\\n                 # Tm                Pos             Player   \n0                 1st                  G     Michael Jordan   \n1                 1st                  F        Karl Malone   \n2                 1st                  C    Hakeem Olajuwon   \n3                 1st                  F         Grant Hill   \n4                 1st                  G       Tim Hardaway   \n..                ...                ...                ...   \n44                ORV                  C     Elden Campbell   \n45                ORV                  G        Sam Cassell   \n46                ORV                  G      Reggie Miller   \n47                ORV                  G     Cuttino Mobley   \n48                ORV                  F   Wally Szczerbiak   \n\n   Unnamed: 3_level_0 Unnamed: 4_level_0  Voting                               \\\n                  Age                 Tm Pts Won Pts Max  Share 1st Tm 2nd Tm   \n0                33.0                CHI   575.0   575.0  1.000  115.0    0.0   \n1                33.0                UTA   575.0   575.0  1.000  115.0    0.0   \n2                34.0                HOU   514.0   575.0  0.894   89.0    NaN   \n3                24.0                DET   483.0   575.0  0.840   76.0    NaN   \n4                30.0                MIA   435.0   575.0  0.757   62.0    NaN   \n..                ...                ...     ...     ...    ...    ...    ...   \n44               33.0                CHH     1.0   630.0  0.002    0.0    0.0   \n45               32.0                MIL     1.0   630.0  0.002    0.0    0.0   \n46               36.0                IND     1.0   630.0  0.002    0.0    0.0   \n47               26.0                HOU     1.0   630.0  0.002    0.0    0.0   \n48               24.0                MIN     1.0   630.0  0.002    0.0    0.0   \n\n    ... Per Game                     Shooting               Advanced         \n    ...      PTS  TRB  AST  STL  BLK      FG%    3P%    FT%       WS  WS/48  \n0   ...     29.6  5.9  4.3  1.7  0.5    0.486  0.374  0.833     18.3  0.283  \n1   ...     27.4  9.9  4.5  1.4  0.6    0.550  0.000  0.755     16.7  0.268  \n2   ...     23.2  9.2  3.0  1.5  2.2    0.510  0.313  0.787      9.1  0.154  \n3   ...     21.4  9.0  7.3  1.8  0.6    0.496  0.303  0.711     14.6  0.223  \n4   ...     20.3  3.4  8.6  1.9  0.1    0.415  0.344  0.799     12.9  0.198  \n..  ...      ...  ...  ...  ...  ...      ...    ...    ...      ...    ...  \n44  ...     13.9  6.9  1.3  0.8  1.8    0.484  0.000  0.797      7.6  0.168  \n45  ...     19.7  4.2  6.7  1.2  0.2    0.463  0.348  0.860      8.6  0.158  \n46  ...     16.5  2.8  3.2  1.1  0.1    0.453  0.406  0.911      9.5  0.159  \n47  ...     21.7  4.1  2.5  1.5  0.5    0.438  0.395  0.850      5.7  0.087  \n48  ...     18.7  4.8  3.1  0.8  0.3    0.508  0.455  0.831      8.7  0.134  \n\n[284 rows x 23 columns]",
      "text/html": "<div>\n<style scoped>\n    .dataframe tbody tr th:only-of-type {\n        vertical-align: middle;\n    }\n\n    .dataframe tbody tr th {\n        vertical-align: top;\n    }\n\n    .dataframe thead tr th {\n        text-align: left;\n    }\n</style>\n<table border=\"1\" class=\"dataframe\">\n  <thead>\n    <tr>\n      <th></th>\n      <th>Unnamed: 0_level_0</th>\n      <th>Unnamed: 1_level_0</th>\n      <th>Unnamed: 2_level_0</th>\n      <th>Unnamed: 3_level_0</th>\n      <th>Unnamed: 4_level_0</th>\n      <th colspan=\"5\" halign=\"left\">Voting</th>\n      <th>...</th>\n      <th colspan=\"5\" halign=\"left\">Per Game</th>\n      <th colspan=\"3\" halign=\"left\">Shooting</th>\n      <th colspan=\"2\" halign=\"left\">Advanced</th>\n    </tr>\n    <tr>\n      <th></th>\n      <th># Tm</th>\n      <th>Pos</th>\n      <th>Player</th>\n      <th>Age</th>\n      <th>Tm</th>\n      <th>Pts Won</th>\n      <th>Pts Max</th>\n      <th>Share</th>\n      <th>1st Tm</th>\n      <th>2nd Tm</th>\n      <th>...</th>\n      <th>PTS</th>\n      <th>TRB</th>\n      <th>AST</th>\n      <th>STL</th>\n      <th>BLK</th>\n      <th>FG%</th>\n      <th>3P%</th>\n      <th>FT%</th>\n      <th>WS</th>\n      <th>WS/48</th>\n    </tr>\n  </thead>\n  <tbody>\n    <tr>\n      <th>0</th>\n      <td>1st</td>\n      <td>G</td>\n      <td>Michael Jordan</td>\n      <td>33.0</td>\n      <td>CHI</td>\n      <td>575.0</td>\n      <td>575.0</td>\n      <td>1.000</td>\n      <td>115.0</td>\n      <td>0.0</td>\n      <td>...</td>\n      <td>29.6</td>\n      <td>5.9</td>\n      <td>4.3</td>\n      <td>1.7</td>\n      <td>0.5</td>\n      <td>0.486</td>\n      <td>0.374</td>\n      <td>0.833</td>\n      <td>18.3</td>\n      <td>0.283</td>\n    </tr>\n    <tr>\n      <th>1</th>\n      <td>1st</td>\n      <td>F</td>\n      <td>Karl Malone</td>\n      <td>33.0</td>\n      <td>UTA</td>\n      <td>575.0</td>\n      <td>575.0</td>\n      <td>1.000</td>\n      <td>115.0</td>\n      <td>0.0</td>\n      <td>...</td>\n      <td>27.4</td>\n      <td>9.9</td>\n      <td>4.5</td>\n      <td>1.4</td>\n      <td>0.6</td>\n      <td>0.550</td>\n      <td>0.000</td>\n      <td>0.755</td>\n      <td>16.7</td>\n      <td>0.268</td>\n    </tr>\n    <tr>\n      <th>2</th>\n      <td>1st</td>\n      <td>C</td>\n      <td>Hakeem Olajuwon</td>\n      <td>34.0</td>\n      <td>HOU</td>\n      <td>514.0</td>\n      <td>575.0</td>\n      <td>0.894</td>\n      <td>89.0</td>\n      <td>NaN</td>\n      <td>...</td>\n      <td>23.2</td>\n      <td>9.2</td>\n      <td>3.0</td>\n      <td>1.5</td>\n      <td>2.2</td>\n      <td>0.510</td>\n      <td>0.313</td>\n      <td>0.787</td>\n      <td>9.1</td>\n      <td>0.154</td>\n    </tr>\n    <tr>\n      <th>3</th>\n      <td>1st</td>\n      <td>F</td>\n      <td>Grant Hill</td>\n      <td>24.0</td>\n      <td>DET</td>\n      <td>483.0</td>\n      <td>575.0</td>\n      <td>0.840</td>\n      <td>76.0</td>\n      <td>NaN</td>\n      <td>...</td>\n      <td>21.4</td>\n      <td>9.0</td>\n      <td>7.3</td>\n      <td>1.8</td>\n      <td>0.6</td>\n      <td>0.496</td>\n      <td>0.303</td>\n      <td>0.711</td>\n      <td>14.6</td>\n      <td>0.223</td>\n    </tr>\n    <tr>\n      <th>4</th>\n      <td>1st</td>\n      <td>G</td>\n      <td>Tim Hardaway</td>\n      <td>30.0</td>\n      <td>MIA</td>\n      <td>435.0</td>\n      <td>575.0</td>\n      <td>0.757</td>\n      <td>62.0</td>\n      <td>NaN</td>\n      <td>...</td>\n      <td>20.3</td>\n      <td>3.4</td>\n      <td>8.6</td>\n      <td>1.9</td>\n      <td>0.1</td>\n      <td>0.415</td>\n      <td>0.344</td>\n      <td>0.799</td>\n      <td>12.9</td>\n      <td>0.198</td>\n    </tr>\n    <tr>\n      <th>...</th>\n      <td>...</td>\n      <td>...</td>\n      <td>...</td>\n      <td>...</td>\n      <td>...</td>\n      <td>...</td>\n      <td>...</td>\n      <td>...</td>\n      <td>...</td>\n      <td>...</td>\n      <td>...</td>\n      <td>...</td>\n      <td>...</td>\n      <td>...</td>\n      <td>...</td>\n      <td>...</td>\n      <td>...</td>\n      <td>...</td>\n      <td>...</td>\n      <td>...</td>\n      <td>...</td>\n    </tr>\n    <tr>\n      <th>44</th>\n      <td>ORV</td>\n      <td>C</td>\n      <td>Elden Campbell</td>\n      <td>33.0</td>\n      <td>CHH</td>\n      <td>1.0</td>\n      <td>630.0</td>\n      <td>0.002</td>\n      <td>0.0</td>\n      <td>0.0</td>\n      <td>...</td>\n      <td>13.9</td>\n      <td>6.9</td>\n      <td>1.3</td>\n      <td>0.8</td>\n      <td>1.8</td>\n      <td>0.484</td>\n      <td>0.000</td>\n      <td>0.797</td>\n      <td>7.6</td>\n      <td>0.168</td>\n    </tr>\n    <tr>\n      <th>45</th>\n      <td>ORV</td>\n      <td>G</td>\n      <td>Sam Cassell</td>\n      <td>32.0</td>\n      <td>MIL</td>\n      <td>1.0</td>\n      <td>630.0</td>\n      <td>0.002</td>\n      <td>0.0</td>\n      <td>0.0</td>\n      <td>...</td>\n      <td>19.7</td>\n      <td>4.2</td>\n      <td>6.7</td>\n      <td>1.2</td>\n      <td>0.2</td>\n      <td>0.463</td>\n      <td>0.348</td>\n      <td>0.860</td>\n      <td>8.6</td>\n      <td>0.158</td>\n    </tr>\n    <tr>\n      <th>46</th>\n      <td>ORV</td>\n      <td>G</td>\n      <td>Reggie Miller</td>\n      <td>36.0</td>\n      <td>IND</td>\n      <td>1.0</td>\n      <td>630.0</td>\n      <td>0.002</td>\n      <td>0.0</td>\n      <td>0.0</td>\n      <td>...</td>\n      <td>16.5</td>\n      <td>2.8</td>\n      <td>3.2</td>\n      <td>1.1</td>\n      <td>0.1</td>\n      <td>0.453</td>\n      <td>0.406</td>\n      <td>0.911</td>\n      <td>9.5</td>\n      <td>0.159</td>\n    </tr>\n    <tr>\n      <th>47</th>\n      <td>ORV</td>\n      <td>G</td>\n      <td>Cuttino Mobley</td>\n      <td>26.0</td>\n      <td>HOU</td>\n      <td>1.0</td>\n      <td>630.0</td>\n      <td>0.002</td>\n      <td>0.0</td>\n      <td>0.0</td>\n      <td>...</td>\n      <td>21.7</td>\n      <td>4.1</td>\n      <td>2.5</td>\n      <td>1.5</td>\n      <td>0.5</td>\n      <td>0.438</td>\n      <td>0.395</td>\n      <td>0.850</td>\n      <td>5.7</td>\n      <td>0.087</td>\n    </tr>\n    <tr>\n      <th>48</th>\n      <td>ORV</td>\n      <td>F</td>\n      <td>Wally Szczerbiak</td>\n      <td>24.0</td>\n      <td>MIN</td>\n      <td>1.0</td>\n      <td>630.0</td>\n      <td>0.002</td>\n      <td>0.0</td>\n      <td>0.0</td>\n      <td>...</td>\n      <td>18.7</td>\n      <td>4.8</td>\n      <td>3.1</td>\n      <td>0.8</td>\n      <td>0.3</td>\n      <td>0.508</td>\n      <td>0.455</td>\n      <td>0.831</td>\n      <td>8.7</td>\n      <td>0.134</td>\n    </tr>\n  </tbody>\n</table>\n<p>284 rows × 23 columns</p>\n</div>"
     },
     "execution_count": 41,
     "metadata": {},
     "output_type": "execute_result"
    }
   ],
   "source": [
    "all_nba_new"
   ],
   "metadata": {
    "collapsed": false,
    "ExecuteTime": {
     "end_time": "2024-06-08T09:26:08.486687Z",
     "start_time": "2024-06-08T09:26:08.463622Z"
    }
   },
   "id": "f3fb2d6e3301a256",
   "execution_count": 41
  },
  {
   "cell_type": "code",
   "outputs": [],
   "source": [
    "all_nba_new.to_csv(\"all_nba_new.csv\")"
   ],
   "metadata": {
    "collapsed": false,
    "ExecuteTime": {
     "end_time": "2024-06-08T09:26:25.163650Z",
     "start_time": "2024-06-08T09:26:25.158843Z"
    }
   },
   "id": "5026c520027bce49",
   "execution_count": 42
  },
  {
   "cell_type": "code",
   "outputs": [],
   "source": [
    "df2 = pd.read_csv(\"all_nba_new.csv\")"
   ],
   "metadata": {
    "collapsed": false,
    "ExecuteTime": {
     "end_time": "2024-06-08T09:41:23.244437Z",
     "start_time": "2024-06-08T09:41:23.237443Z"
    }
   },
   "id": "da8de5f94ebe5984",
   "execution_count": 43
  },
  {
   "cell_type": "code",
   "outputs": [
    {
     "data": {
      "text/plain": "    # Tm            Player Team  Pts Won  Pts Max  Share  1st Tm  Season\n0    1st    Michael Jordan  CHI      575      575  1.000     115    1997\n1    1st       Karl Malone  UTA      575      575  1.000     115    1997\n2    1st   Hakeem Olajuwon  HOU      514      575  0.894      89    1997\n3    1st        Grant Hill  DET      483      575  0.840      76    1997\n4    1st      Tim Hardaway  MIA      435      575  0.757      62    1997\n..   ...               ...  ...      ...      ...    ...     ...     ...\n261  ORV    Elden Campbell  CHH        1      630  0.002       0    2002\n262  ORV       Sam Cassell  MIL        1      630  0.002       0    2002\n263  ORV     Reggie Miller  IND        1      630  0.002       0    2002\n264  ORV    Cuttino Mobley  HOU        1      630  0.002       0    2002\n265  ORV  Wally Szczerbiak  MIN        1      630  0.002       0    2002\n\n[266 rows x 8 columns]",
      "text/html": "<div>\n<style scoped>\n    .dataframe tbody tr th:only-of-type {\n        vertical-align: middle;\n    }\n\n    .dataframe tbody tr th {\n        vertical-align: top;\n    }\n\n    .dataframe thead th {\n        text-align: right;\n    }\n</style>\n<table border=\"1\" class=\"dataframe\">\n  <thead>\n    <tr style=\"text-align: right;\">\n      <th></th>\n      <th># Tm</th>\n      <th>Player</th>\n      <th>Team</th>\n      <th>Pts Won</th>\n      <th>Pts Max</th>\n      <th>Share</th>\n      <th>1st Tm</th>\n      <th>Season</th>\n    </tr>\n  </thead>\n  <tbody>\n    <tr>\n      <th>0</th>\n      <td>1st</td>\n      <td>Michael Jordan</td>\n      <td>CHI</td>\n      <td>575</td>\n      <td>575</td>\n      <td>1.000</td>\n      <td>115</td>\n      <td>1997</td>\n    </tr>\n    <tr>\n      <th>1</th>\n      <td>1st</td>\n      <td>Karl Malone</td>\n      <td>UTA</td>\n      <td>575</td>\n      <td>575</td>\n      <td>1.000</td>\n      <td>115</td>\n      <td>1997</td>\n    </tr>\n    <tr>\n      <th>2</th>\n      <td>1st</td>\n      <td>Hakeem Olajuwon</td>\n      <td>HOU</td>\n      <td>514</td>\n      <td>575</td>\n      <td>0.894</td>\n      <td>89</td>\n      <td>1997</td>\n    </tr>\n    <tr>\n      <th>3</th>\n      <td>1st</td>\n      <td>Grant Hill</td>\n      <td>DET</td>\n      <td>483</td>\n      <td>575</td>\n      <td>0.840</td>\n      <td>76</td>\n      <td>1997</td>\n    </tr>\n    <tr>\n      <th>4</th>\n      <td>1st</td>\n      <td>Tim Hardaway</td>\n      <td>MIA</td>\n      <td>435</td>\n      <td>575</td>\n      <td>0.757</td>\n      <td>62</td>\n      <td>1997</td>\n    </tr>\n    <tr>\n      <th>...</th>\n      <td>...</td>\n      <td>...</td>\n      <td>...</td>\n      <td>...</td>\n      <td>...</td>\n      <td>...</td>\n      <td>...</td>\n      <td>...</td>\n    </tr>\n    <tr>\n      <th>261</th>\n      <td>ORV</td>\n      <td>Elden Campbell</td>\n      <td>CHH</td>\n      <td>1</td>\n      <td>630</td>\n      <td>0.002</td>\n      <td>0</td>\n      <td>2002</td>\n    </tr>\n    <tr>\n      <th>262</th>\n      <td>ORV</td>\n      <td>Sam Cassell</td>\n      <td>MIL</td>\n      <td>1</td>\n      <td>630</td>\n      <td>0.002</td>\n      <td>0</td>\n      <td>2002</td>\n    </tr>\n    <tr>\n      <th>263</th>\n      <td>ORV</td>\n      <td>Reggie Miller</td>\n      <td>IND</td>\n      <td>1</td>\n      <td>630</td>\n      <td>0.002</td>\n      <td>0</td>\n      <td>2002</td>\n    </tr>\n    <tr>\n      <th>264</th>\n      <td>ORV</td>\n      <td>Cuttino Mobley</td>\n      <td>HOU</td>\n      <td>1</td>\n      <td>630</td>\n      <td>0.002</td>\n      <td>0</td>\n      <td>2002</td>\n    </tr>\n    <tr>\n      <th>265</th>\n      <td>ORV</td>\n      <td>Wally Szczerbiak</td>\n      <td>MIN</td>\n      <td>1</td>\n      <td>630</td>\n      <td>0.002</td>\n      <td>0</td>\n      <td>2002</td>\n    </tr>\n  </tbody>\n</table>\n<p>266 rows × 8 columns</p>\n</div>"
     },
     "execution_count": 44,
     "metadata": {},
     "output_type": "execute_result"
    }
   ],
   "source": [
    "df2"
   ],
   "metadata": {
    "collapsed": false,
    "ExecuteTime": {
     "end_time": "2024-06-08T09:41:26.233358Z",
     "start_time": "2024-06-08T09:41:26.228001Z"
    }
   },
   "id": "f550f2bb2f7ad6ca",
   "execution_count": 44
  },
  {
   "cell_type": "code",
   "outputs": [],
   "source": [
    "df2.drop(df2.index[(df2[\"Team\"] == \"TOT\")], axis=0, inplace=True)"
   ],
   "metadata": {
    "collapsed": false,
    "ExecuteTime": {
     "end_time": "2024-06-08T09:43:31.386383Z",
     "start_time": "2024-06-08T09:43:31.383433Z"
    }
   },
   "id": "9865c81335b59d77",
   "execution_count": 47
  },
  {
   "cell_type": "code",
   "outputs": [],
   "source": [
    "df2['Team'] = df2['Team'].replace(team_names)"
   ],
   "metadata": {
    "collapsed": false,
    "ExecuteTime": {
     "end_time": "2024-06-08T09:44:25.560569Z",
     "start_time": "2024-06-08T09:44:25.556002Z"
    }
   },
   "id": "376848261660a28a",
   "execution_count": 49
  },
  {
   "cell_type": "code",
   "outputs": [
    {
     "data": {
      "text/plain": "    # Tm            Player                    Team  Pts Won  Pts Max  Share  \\\n0    1st    Michael Jordan           Chicago Bulls      575      575  1.000   \n1    1st       Karl Malone               Utah Jazz      575      575  1.000   \n2    1st   Hakeem Olajuwon         Houston Rockets      514      575  0.894   \n3    1st        Grant Hill         Detroit Pistons      483      575  0.840   \n4    1st      Tim Hardaway              Miami Heat      435      575  0.757   \n..   ...               ...                     ...      ...      ...    ...   \n261  ORV    Elden Campbell       Charlotte Hornets        1      630  0.002   \n262  ORV       Sam Cassell         Milwaukee Bucks        1      630  0.002   \n263  ORV     Reggie Miller          Indiana Pacers        1      630  0.002   \n264  ORV    Cuttino Mobley         Houston Rockets        1      630  0.002   \n265  ORV  Wally Szczerbiak  Minnesota Timberwolves        1      630  0.002   \n\n     1st Tm  Season  \n0       115    1997  \n1       115    1997  \n2        89    1997  \n3        76    1997  \n4        62    1997  \n..      ...     ...  \n261       0    2002  \n262       0    2002  \n263       0    2002  \n264       0    2002  \n265       0    2002  \n\n[259 rows x 8 columns]",
      "text/html": "<div>\n<style scoped>\n    .dataframe tbody tr th:only-of-type {\n        vertical-align: middle;\n    }\n\n    .dataframe tbody tr th {\n        vertical-align: top;\n    }\n\n    .dataframe thead th {\n        text-align: right;\n    }\n</style>\n<table border=\"1\" class=\"dataframe\">\n  <thead>\n    <tr style=\"text-align: right;\">\n      <th></th>\n      <th># Tm</th>\n      <th>Player</th>\n      <th>Team</th>\n      <th>Pts Won</th>\n      <th>Pts Max</th>\n      <th>Share</th>\n      <th>1st Tm</th>\n      <th>Season</th>\n    </tr>\n  </thead>\n  <tbody>\n    <tr>\n      <th>0</th>\n      <td>1st</td>\n      <td>Michael Jordan</td>\n      <td>Chicago Bulls</td>\n      <td>575</td>\n      <td>575</td>\n      <td>1.000</td>\n      <td>115</td>\n      <td>1997</td>\n    </tr>\n    <tr>\n      <th>1</th>\n      <td>1st</td>\n      <td>Karl Malone</td>\n      <td>Utah Jazz</td>\n      <td>575</td>\n      <td>575</td>\n      <td>1.000</td>\n      <td>115</td>\n      <td>1997</td>\n    </tr>\n    <tr>\n      <th>2</th>\n      <td>1st</td>\n      <td>Hakeem Olajuwon</td>\n      <td>Houston Rockets</td>\n      <td>514</td>\n      <td>575</td>\n      <td>0.894</td>\n      <td>89</td>\n      <td>1997</td>\n    </tr>\n    <tr>\n      <th>3</th>\n      <td>1st</td>\n      <td>Grant Hill</td>\n      <td>Detroit Pistons</td>\n      <td>483</td>\n      <td>575</td>\n      <td>0.840</td>\n      <td>76</td>\n      <td>1997</td>\n    </tr>\n    <tr>\n      <th>4</th>\n      <td>1st</td>\n      <td>Tim Hardaway</td>\n      <td>Miami Heat</td>\n      <td>435</td>\n      <td>575</td>\n      <td>0.757</td>\n      <td>62</td>\n      <td>1997</td>\n    </tr>\n    <tr>\n      <th>...</th>\n      <td>...</td>\n      <td>...</td>\n      <td>...</td>\n      <td>...</td>\n      <td>...</td>\n      <td>...</td>\n      <td>...</td>\n      <td>...</td>\n    </tr>\n    <tr>\n      <th>261</th>\n      <td>ORV</td>\n      <td>Elden Campbell</td>\n      <td>Charlotte Hornets</td>\n      <td>1</td>\n      <td>630</td>\n      <td>0.002</td>\n      <td>0</td>\n      <td>2002</td>\n    </tr>\n    <tr>\n      <th>262</th>\n      <td>ORV</td>\n      <td>Sam Cassell</td>\n      <td>Milwaukee Bucks</td>\n      <td>1</td>\n      <td>630</td>\n      <td>0.002</td>\n      <td>0</td>\n      <td>2002</td>\n    </tr>\n    <tr>\n      <th>263</th>\n      <td>ORV</td>\n      <td>Reggie Miller</td>\n      <td>Indiana Pacers</td>\n      <td>1</td>\n      <td>630</td>\n      <td>0.002</td>\n      <td>0</td>\n      <td>2002</td>\n    </tr>\n    <tr>\n      <th>264</th>\n      <td>ORV</td>\n      <td>Cuttino Mobley</td>\n      <td>Houston Rockets</td>\n      <td>1</td>\n      <td>630</td>\n      <td>0.002</td>\n      <td>0</td>\n      <td>2002</td>\n    </tr>\n    <tr>\n      <th>265</th>\n      <td>ORV</td>\n      <td>Wally Szczerbiak</td>\n      <td>Minnesota Timberwolves</td>\n      <td>1</td>\n      <td>630</td>\n      <td>0.002</td>\n      <td>0</td>\n      <td>2002</td>\n    </tr>\n  </tbody>\n</table>\n<p>259 rows × 8 columns</p>\n</div>"
     },
     "execution_count": 50,
     "metadata": {},
     "output_type": "execute_result"
    }
   ],
   "source": [
    "df2"
   ],
   "metadata": {
    "collapsed": false,
    "ExecuteTime": {
     "end_time": "2024-06-08T09:44:32.140591Z",
     "start_time": "2024-06-08T09:44:32.136058Z"
    }
   },
   "id": "397aa75cc2bd022a",
   "execution_count": 50
  },
  {
   "cell_type": "markdown",
   "source": [],
   "metadata": {
    "collapsed": false
   },
   "id": "3511d3c716ed931f"
  },
  {
   "cell_type": "code",
   "outputs": [],
   "source": [
    "df2['Team'] = df2['Team'].replace('WSB','Washington Bullets', regex=True)\n",
    "df2['Team'] = df2['Team'].replace('VAN','Vancouver Grizzlies', regex=True)"
   ],
   "metadata": {
    "collapsed": false,
    "ExecuteTime": {
     "end_time": "2024-06-08T09:47:55.228404Z",
     "start_time": "2024-06-08T09:47:55.223936Z"
    }
   },
   "id": "f40e28c30d5134e0",
   "execution_count": 53
  },
  {
   "cell_type": "code",
   "outputs": [
    {
     "data": {
      "text/plain": "    # Tm            Player                    Team  Pts Won  Pts Max  Share  \\\n0    1st    Michael Jordan           Chicago Bulls      575      575  1.000   \n1    1st       Karl Malone               Utah Jazz      575      575  1.000   \n2    1st   Hakeem Olajuwon         Houston Rockets      514      575  0.894   \n3    1st        Grant Hill         Detroit Pistons      483      575  0.840   \n4    1st      Tim Hardaway              Miami Heat      435      575  0.757   \n..   ...               ...                     ...      ...      ...    ...   \n261  ORV    Elden Campbell       Charlotte Hornets        1      630  0.002   \n262  ORV       Sam Cassell         Milwaukee Bucks        1      630  0.002   \n263  ORV     Reggie Miller          Indiana Pacers        1      630  0.002   \n264  ORV    Cuttino Mobley         Houston Rockets        1      630  0.002   \n265  ORV  Wally Szczerbiak  Minnesota Timberwolves        1      630  0.002   \n\n     1st Tm  Season  \n0       115    1997  \n1       115    1997  \n2        89    1997  \n3        76    1997  \n4        62    1997  \n..      ...     ...  \n261       0    2002  \n262       0    2002  \n263       0    2002  \n264       0    2002  \n265       0    2002  \n\n[259 rows x 8 columns]",
      "text/html": "<div>\n<style scoped>\n    .dataframe tbody tr th:only-of-type {\n        vertical-align: middle;\n    }\n\n    .dataframe tbody tr th {\n        vertical-align: top;\n    }\n\n    .dataframe thead th {\n        text-align: right;\n    }\n</style>\n<table border=\"1\" class=\"dataframe\">\n  <thead>\n    <tr style=\"text-align: right;\">\n      <th></th>\n      <th># Tm</th>\n      <th>Player</th>\n      <th>Team</th>\n      <th>Pts Won</th>\n      <th>Pts Max</th>\n      <th>Share</th>\n      <th>1st Tm</th>\n      <th>Season</th>\n    </tr>\n  </thead>\n  <tbody>\n    <tr>\n      <th>0</th>\n      <td>1st</td>\n      <td>Michael Jordan</td>\n      <td>Chicago Bulls</td>\n      <td>575</td>\n      <td>575</td>\n      <td>1.000</td>\n      <td>115</td>\n      <td>1997</td>\n    </tr>\n    <tr>\n      <th>1</th>\n      <td>1st</td>\n      <td>Karl Malone</td>\n      <td>Utah Jazz</td>\n      <td>575</td>\n      <td>575</td>\n      <td>1.000</td>\n      <td>115</td>\n      <td>1997</td>\n    </tr>\n    <tr>\n      <th>2</th>\n      <td>1st</td>\n      <td>Hakeem Olajuwon</td>\n      <td>Houston Rockets</td>\n      <td>514</td>\n      <td>575</td>\n      <td>0.894</td>\n      <td>89</td>\n      <td>1997</td>\n    </tr>\n    <tr>\n      <th>3</th>\n      <td>1st</td>\n      <td>Grant Hill</td>\n      <td>Detroit Pistons</td>\n      <td>483</td>\n      <td>575</td>\n      <td>0.840</td>\n      <td>76</td>\n      <td>1997</td>\n    </tr>\n    <tr>\n      <th>4</th>\n      <td>1st</td>\n      <td>Tim Hardaway</td>\n      <td>Miami Heat</td>\n      <td>435</td>\n      <td>575</td>\n      <td>0.757</td>\n      <td>62</td>\n      <td>1997</td>\n    </tr>\n    <tr>\n      <th>...</th>\n      <td>...</td>\n      <td>...</td>\n      <td>...</td>\n      <td>...</td>\n      <td>...</td>\n      <td>...</td>\n      <td>...</td>\n      <td>...</td>\n    </tr>\n    <tr>\n      <th>261</th>\n      <td>ORV</td>\n      <td>Elden Campbell</td>\n      <td>Charlotte Hornets</td>\n      <td>1</td>\n      <td>630</td>\n      <td>0.002</td>\n      <td>0</td>\n      <td>2002</td>\n    </tr>\n    <tr>\n      <th>262</th>\n      <td>ORV</td>\n      <td>Sam Cassell</td>\n      <td>Milwaukee Bucks</td>\n      <td>1</td>\n      <td>630</td>\n      <td>0.002</td>\n      <td>0</td>\n      <td>2002</td>\n    </tr>\n    <tr>\n      <th>263</th>\n      <td>ORV</td>\n      <td>Reggie Miller</td>\n      <td>Indiana Pacers</td>\n      <td>1</td>\n      <td>630</td>\n      <td>0.002</td>\n      <td>0</td>\n      <td>2002</td>\n    </tr>\n    <tr>\n      <th>264</th>\n      <td>ORV</td>\n      <td>Cuttino Mobley</td>\n      <td>Houston Rockets</td>\n      <td>1</td>\n      <td>630</td>\n      <td>0.002</td>\n      <td>0</td>\n      <td>2002</td>\n    </tr>\n    <tr>\n      <th>265</th>\n      <td>ORV</td>\n      <td>Wally Szczerbiak</td>\n      <td>Minnesota Timberwolves</td>\n      <td>1</td>\n      <td>630</td>\n      <td>0.002</td>\n      <td>0</td>\n      <td>2002</td>\n    </tr>\n  </tbody>\n</table>\n<p>259 rows × 8 columns</p>\n</div>"
     },
     "execution_count": 54,
     "metadata": {},
     "output_type": "execute_result"
    }
   ],
   "source": [
    "df2"
   ],
   "metadata": {
    "collapsed": false,
    "ExecuteTime": {
     "end_time": "2024-06-08T09:47:55.974222Z",
     "start_time": "2024-06-08T09:47:55.967950Z"
    }
   },
   "id": "ea75bcf44af8d35f",
   "execution_count": 54
  },
  {
   "cell_type": "code",
   "outputs": [],
   "source": [
    "df2['Weighted_Share'] = df2.apply(lambda row: row['Share'] * rank_weights[row['# Tm']], axis=1)\n",
    "all_nba_voting = df2.groupby(['Team', 'Season'])['Weighted_Share'].sum().reset_index()"
   ],
   "metadata": {
    "collapsed": false,
    "ExecuteTime": {
     "end_time": "2024-06-08T09:49:32.318217Z",
     "start_time": "2024-06-08T09:49:32.313614Z"
    }
   },
   "id": "5ddf3a149bcbf265",
   "execution_count": 56
  },
  {
   "cell_type": "code",
   "outputs": [
    {
     "data": {
      "text/plain": "                    Team  Season  Weighted_Share\n0          Atlanta Hawks    1997          0.1245\n1          Atlanta Hawks    1998          0.1950\n2          Atlanta Hawks    1999          0.0815\n3          Atlanta Hawks    2000          0.0215\n4          Atlanta Hawks    2002          0.0040\n..                   ...     ...             ...\n139  Vancouver Grizzlies    2001          0.0025\n140   Washington Bullets    1997          0.0310\n141   Washington Wizards    1998          0.4550\n142   Washington Wizards    1999          0.0240\n143   Washington Wizards    2002          0.0230\n\n[144 rows x 3 columns]",
      "text/html": "<div>\n<style scoped>\n    .dataframe tbody tr th:only-of-type {\n        vertical-align: middle;\n    }\n\n    .dataframe tbody tr th {\n        vertical-align: top;\n    }\n\n    .dataframe thead th {\n        text-align: right;\n    }\n</style>\n<table border=\"1\" class=\"dataframe\">\n  <thead>\n    <tr style=\"text-align: right;\">\n      <th></th>\n      <th>Team</th>\n      <th>Season</th>\n      <th>Weighted_Share</th>\n    </tr>\n  </thead>\n  <tbody>\n    <tr>\n      <th>0</th>\n      <td>Atlanta Hawks</td>\n      <td>1997</td>\n      <td>0.1245</td>\n    </tr>\n    <tr>\n      <th>1</th>\n      <td>Atlanta Hawks</td>\n      <td>1998</td>\n      <td>0.1950</td>\n    </tr>\n    <tr>\n      <th>2</th>\n      <td>Atlanta Hawks</td>\n      <td>1999</td>\n      <td>0.0815</td>\n    </tr>\n    <tr>\n      <th>3</th>\n      <td>Atlanta Hawks</td>\n      <td>2000</td>\n      <td>0.0215</td>\n    </tr>\n    <tr>\n      <th>4</th>\n      <td>Atlanta Hawks</td>\n      <td>2002</td>\n      <td>0.0040</td>\n    </tr>\n    <tr>\n      <th>...</th>\n      <td>...</td>\n      <td>...</td>\n      <td>...</td>\n    </tr>\n    <tr>\n      <th>139</th>\n      <td>Vancouver Grizzlies</td>\n      <td>2001</td>\n      <td>0.0025</td>\n    </tr>\n    <tr>\n      <th>140</th>\n      <td>Washington Bullets</td>\n      <td>1997</td>\n      <td>0.0310</td>\n    </tr>\n    <tr>\n      <th>141</th>\n      <td>Washington Wizards</td>\n      <td>1998</td>\n      <td>0.4550</td>\n    </tr>\n    <tr>\n      <th>142</th>\n      <td>Washington Wizards</td>\n      <td>1999</td>\n      <td>0.0240</td>\n    </tr>\n    <tr>\n      <th>143</th>\n      <td>Washington Wizards</td>\n      <td>2002</td>\n      <td>0.0230</td>\n    </tr>\n  </tbody>\n</table>\n<p>144 rows × 3 columns</p>\n</div>"
     },
     "execution_count": 57,
     "metadata": {},
     "output_type": "execute_result"
    }
   ],
   "source": [
    "all_nba_voting"
   ],
   "metadata": {
    "collapsed": false,
    "ExecuteTime": {
     "end_time": "2024-06-08T09:49:36.268591Z",
     "start_time": "2024-06-08T09:49:36.259910Z"
    }
   },
   "id": "d15b9a0105b9b70",
   "execution_count": 57
  },
  {
   "cell_type": "code",
   "outputs": [],
   "source": [
    "combine2 = combine1.merge(all_nba_voting, how='outer', on=[\"Team\", \"Season\"])"
   ],
   "metadata": {
    "collapsed": false,
    "ExecuteTime": {
     "end_time": "2024-06-08T09:50:47.905369Z",
     "start_time": "2024-06-08T09:50:47.902219Z"
    }
   },
   "id": "4b56f128760a4871",
   "execution_count": 58
  },
  {
   "cell_type": "code",
   "outputs": [
    {
     "data": {
      "text/plain": "                   Team   G  MP Per Game  FG Per Game  FGA Per Game    FG%  \\\n0         Atlanta Hawks  82        241.5         34.3          76.9  0.446   \n1         Atlanta Hawks  82        242.4         35.2          77.5  0.455   \n2         Atlanta Hawks  50        241.5         30.8          75.2  0.409   \n3         Atlanta Hawks  82        241.8         36.6          83.0  0.441   \n4         Atlanta Hawks  82        240.6         35.1          81.3  0.431   \n..                  ...  ..          ...          ...           ...    ...   \n169  Washington Wizards  82        241.5         37.6          83.1  0.452   \n170  Washington Wizards  50        241.0         35.4          79.4  0.445   \n171  Washington Wizards  82        241.5         36.7          81.5  0.451   \n172  Washington Wizards  82        240.0         34.5          78.7  0.439   \n173  Washington Wizards  82        240.6         35.8          81.3  0.441   \n\n     3P Per Game  3PA Per Game    3P%  2P Per Game  ...  16 feet - 3P FG%  \\\n0            8.0          22.4  0.359         26.3  ...             0.470   \n1            4.1          12.4  0.332         31.1  ...             0.459   \n2            3.9          12.9  0.306         26.8  ...             0.392   \n3            3.1           9.9  0.317         33.4  ...             0.442   \n4            4.1          11.4  0.357         31.0  ...             0.403   \n..           ...           ...    ...          ...  ...               ...   \n169          3.9          11.5  0.339         33.7  ...             0.454   \n170          3.6          11.6  0.309         31.8  ...             0.435   \n171          4.1          10.9  0.376         32.6  ...             0.445   \n172          3.4          10.3  0.324         31.2  ...             0.415   \n173          3.7           9.6  0.388         32.1  ...             0.422   \n\n     % of 2P's that were assisted  % of 3P's that were assisted  \\\n0                           0.505                         0.712   \n1                           0.516                         0.748   \n2                           0.477                         0.716   \n3                           0.489                         0.806   \n4                           0.507                         0.811   \n..                            ...                           ...   \n169                         0.589                         0.853   \n170                         0.578                         0.810   \n171                         0.558                         0.833   \n172                         0.563                         0.753   \n173                         0.561                         0.784   \n\n     % of FGA that are dunks  Dunks Made  % of corner 3PA  \\\n0                      0.043         259            0.146   \n1                      0.054         304            0.102   \n2                      0.037         126            0.092   \n3                      0.038         236            0.128   \n4                      0.037         224            0.228   \n..                       ...         ...              ...   \n169                    0.061         394            0.230   \n170                    0.036         132            0.198   \n171                    0.048         300            0.204   \n172                    0.030         177            0.216   \n173                    0.041         267            0.168   \n\n     3P% from the corner  champion share  MVP_Shares  Weighted_Share  \n0                  0.410        0.266667       0.004          0.1245  \n1                  0.288        0.066667         NaN          0.1950  \n2                  0.322        0.200000       0.001          0.0815  \n3                  0.452        0.000000         NaN          0.0215  \n4                  0.371        0.000000         NaN             NaN  \n..                   ...             ...         ...             ...  \n169                0.364        0.000000       0.001          0.4550  \n170                0.322        0.000000         NaN          0.0240  \n171                0.462        0.000000         NaN             NaN  \n172                0.361        0.000000         NaN             NaN  \n173                0.439        0.000000       0.013          0.0230  \n\n[174 rows x 63 columns]",
      "text/html": "<div>\n<style scoped>\n    .dataframe tbody tr th:only-of-type {\n        vertical-align: middle;\n    }\n\n    .dataframe tbody tr th {\n        vertical-align: top;\n    }\n\n    .dataframe thead th {\n        text-align: right;\n    }\n</style>\n<table border=\"1\" class=\"dataframe\">\n  <thead>\n    <tr style=\"text-align: right;\">\n      <th></th>\n      <th>Team</th>\n      <th>G</th>\n      <th>MP Per Game</th>\n      <th>FG Per Game</th>\n      <th>FGA Per Game</th>\n      <th>FG%</th>\n      <th>3P Per Game</th>\n      <th>3PA Per Game</th>\n      <th>3P%</th>\n      <th>2P Per Game</th>\n      <th>...</th>\n      <th>16 feet - 3P FG%</th>\n      <th>% of 2P's that were assisted</th>\n      <th>% of 3P's that were assisted</th>\n      <th>% of FGA that are dunks</th>\n      <th>Dunks Made</th>\n      <th>% of corner 3PA</th>\n      <th>3P% from the corner</th>\n      <th>champion share</th>\n      <th>MVP_Shares</th>\n      <th>Weighted_Share</th>\n    </tr>\n  </thead>\n  <tbody>\n    <tr>\n      <th>0</th>\n      <td>Atlanta Hawks</td>\n      <td>82</td>\n      <td>241.5</td>\n      <td>34.3</td>\n      <td>76.9</td>\n      <td>0.446</td>\n      <td>8.0</td>\n      <td>22.4</td>\n      <td>0.359</td>\n      <td>26.3</td>\n      <td>...</td>\n      <td>0.470</td>\n      <td>0.505</td>\n      <td>0.712</td>\n      <td>0.043</td>\n      <td>259</td>\n      <td>0.146</td>\n      <td>0.410</td>\n      <td>0.266667</td>\n      <td>0.004</td>\n      <td>0.1245</td>\n    </tr>\n    <tr>\n      <th>1</th>\n      <td>Atlanta Hawks</td>\n      <td>82</td>\n      <td>242.4</td>\n      <td>35.2</td>\n      <td>77.5</td>\n      <td>0.455</td>\n      <td>4.1</td>\n      <td>12.4</td>\n      <td>0.332</td>\n      <td>31.1</td>\n      <td>...</td>\n      <td>0.459</td>\n      <td>0.516</td>\n      <td>0.748</td>\n      <td>0.054</td>\n      <td>304</td>\n      <td>0.102</td>\n      <td>0.288</td>\n      <td>0.066667</td>\n      <td>NaN</td>\n      <td>0.1950</td>\n    </tr>\n    <tr>\n      <th>2</th>\n      <td>Atlanta Hawks</td>\n      <td>50</td>\n      <td>241.5</td>\n      <td>30.8</td>\n      <td>75.2</td>\n      <td>0.409</td>\n      <td>3.9</td>\n      <td>12.9</td>\n      <td>0.306</td>\n      <td>26.8</td>\n      <td>...</td>\n      <td>0.392</td>\n      <td>0.477</td>\n      <td>0.716</td>\n      <td>0.037</td>\n      <td>126</td>\n      <td>0.092</td>\n      <td>0.322</td>\n      <td>0.200000</td>\n      <td>0.001</td>\n      <td>0.0815</td>\n    </tr>\n    <tr>\n      <th>3</th>\n      <td>Atlanta Hawks</td>\n      <td>82</td>\n      <td>241.8</td>\n      <td>36.6</td>\n      <td>83.0</td>\n      <td>0.441</td>\n      <td>3.1</td>\n      <td>9.9</td>\n      <td>0.317</td>\n      <td>33.4</td>\n      <td>...</td>\n      <td>0.442</td>\n      <td>0.489</td>\n      <td>0.806</td>\n      <td>0.038</td>\n      <td>236</td>\n      <td>0.128</td>\n      <td>0.452</td>\n      <td>0.000000</td>\n      <td>NaN</td>\n      <td>0.0215</td>\n    </tr>\n    <tr>\n      <th>4</th>\n      <td>Atlanta Hawks</td>\n      <td>82</td>\n      <td>240.6</td>\n      <td>35.1</td>\n      <td>81.3</td>\n      <td>0.431</td>\n      <td>4.1</td>\n      <td>11.4</td>\n      <td>0.357</td>\n      <td>31.0</td>\n      <td>...</td>\n      <td>0.403</td>\n      <td>0.507</td>\n      <td>0.811</td>\n      <td>0.037</td>\n      <td>224</td>\n      <td>0.228</td>\n      <td>0.371</td>\n      <td>0.000000</td>\n      <td>NaN</td>\n      <td>NaN</td>\n    </tr>\n    <tr>\n      <th>...</th>\n      <td>...</td>\n      <td>...</td>\n      <td>...</td>\n      <td>...</td>\n      <td>...</td>\n      <td>...</td>\n      <td>...</td>\n      <td>...</td>\n      <td>...</td>\n      <td>...</td>\n      <td>...</td>\n      <td>...</td>\n      <td>...</td>\n      <td>...</td>\n      <td>...</td>\n      <td>...</td>\n      <td>...</td>\n      <td>...</td>\n      <td>...</td>\n      <td>...</td>\n      <td>...</td>\n    </tr>\n    <tr>\n      <th>169</th>\n      <td>Washington Wizards</td>\n      <td>82</td>\n      <td>241.5</td>\n      <td>37.6</td>\n      <td>83.1</td>\n      <td>0.452</td>\n      <td>3.9</td>\n      <td>11.5</td>\n      <td>0.339</td>\n      <td>33.7</td>\n      <td>...</td>\n      <td>0.454</td>\n      <td>0.589</td>\n      <td>0.853</td>\n      <td>0.061</td>\n      <td>394</td>\n      <td>0.230</td>\n      <td>0.364</td>\n      <td>0.000000</td>\n      <td>0.001</td>\n      <td>0.4550</td>\n    </tr>\n    <tr>\n      <th>170</th>\n      <td>Washington Wizards</td>\n      <td>50</td>\n      <td>241.0</td>\n      <td>35.4</td>\n      <td>79.4</td>\n      <td>0.445</td>\n      <td>3.6</td>\n      <td>11.6</td>\n      <td>0.309</td>\n      <td>31.8</td>\n      <td>...</td>\n      <td>0.435</td>\n      <td>0.578</td>\n      <td>0.810</td>\n      <td>0.036</td>\n      <td>132</td>\n      <td>0.198</td>\n      <td>0.322</td>\n      <td>0.000000</td>\n      <td>NaN</td>\n      <td>0.0240</td>\n    </tr>\n    <tr>\n      <th>171</th>\n      <td>Washington Wizards</td>\n      <td>82</td>\n      <td>241.5</td>\n      <td>36.7</td>\n      <td>81.5</td>\n      <td>0.451</td>\n      <td>4.1</td>\n      <td>10.9</td>\n      <td>0.376</td>\n      <td>32.6</td>\n      <td>...</td>\n      <td>0.445</td>\n      <td>0.558</td>\n      <td>0.833</td>\n      <td>0.048</td>\n      <td>300</td>\n      <td>0.204</td>\n      <td>0.462</td>\n      <td>0.000000</td>\n      <td>NaN</td>\n      <td>NaN</td>\n    </tr>\n    <tr>\n      <th>172</th>\n      <td>Washington Wizards</td>\n      <td>82</td>\n      <td>240.0</td>\n      <td>34.5</td>\n      <td>78.7</td>\n      <td>0.439</td>\n      <td>3.4</td>\n      <td>10.3</td>\n      <td>0.324</td>\n      <td>31.2</td>\n      <td>...</td>\n      <td>0.415</td>\n      <td>0.563</td>\n      <td>0.753</td>\n      <td>0.030</td>\n      <td>177</td>\n      <td>0.216</td>\n      <td>0.361</td>\n      <td>0.000000</td>\n      <td>NaN</td>\n      <td>NaN</td>\n    </tr>\n    <tr>\n      <th>173</th>\n      <td>Washington Wizards</td>\n      <td>82</td>\n      <td>240.6</td>\n      <td>35.8</td>\n      <td>81.3</td>\n      <td>0.441</td>\n      <td>3.7</td>\n      <td>9.6</td>\n      <td>0.388</td>\n      <td>32.1</td>\n      <td>...</td>\n      <td>0.422</td>\n      <td>0.561</td>\n      <td>0.784</td>\n      <td>0.041</td>\n      <td>267</td>\n      <td>0.168</td>\n      <td>0.439</td>\n      <td>0.000000</td>\n      <td>0.013</td>\n      <td>0.0230</td>\n    </tr>\n  </tbody>\n</table>\n<p>174 rows × 63 columns</p>\n</div>"
     },
     "execution_count": 60,
     "metadata": {},
     "output_type": "execute_result"
    }
   ],
   "source": [
    "combine2"
   ],
   "metadata": {
    "collapsed": false,
    "ExecuteTime": {
     "end_time": "2024-06-09T07:38:31.025030Z",
     "start_time": "2024-06-09T07:38:31.000494Z"
    }
   },
   "id": "ab3d28047572dd62",
   "execution_count": 60
  },
  {
   "cell_type": "code",
   "outputs": [],
   "source": [
    "dfs3 = []\n",
    "for year in years1:\n",
    "    with open(\"shares/{}.html\".format(year)) as f:\n",
    "        page = f.read()\n",
    "    soup = BeautifulSoup(page, \"html.parser\")\n",
    "    all_defense = soup.find(id=\"leading_all_defense\")\n",
    "    all_defense_1 = pd.read_html(StringIO(str(all_defense)))[0]\n",
    "\n",
    "    dfs3.append(all_defense_1)"
   ],
   "metadata": {
    "collapsed": false,
    "ExecuteTime": {
     "end_time": "2024-06-09T07:41:13.310769Z",
     "start_time": "2024-06-09T07:41:12.454137Z"
    }
   },
   "id": "3784836ff34a55eb",
   "execution_count": 61
  },
  {
   "cell_type": "code",
   "outputs": [
    {
     "data": {
      "text/plain": "[   Unnamed: 0_level_0 Unnamed: 1_level_0 Unnamed: 2_level_0  \\\n                  # Tm                Pos             Player   \n 0                 1st                  F     Scottie Pippen   \n 1                 1st                  G     Michael Jordan   \n 2                 1st                  C    Dikembe Mutombo   \n 3                 1st                  G        Gary Payton   \n 4                 1st                  F        Karl Malone   \n 5                 NaN                NaN                NaN   \n 6                 2nd                  G    Mookie Blaylock   \n 7                 2nd                  C    Hakeem Olajuwon   \n 8                 2nd                  F      Anthony Mason   \n 9                 2nd                  F         P.J. Brown   \n 10                2nd                  G      John Stockton   \n 11                NaN                NaN                NaN   \n 12                ORV                  F     Charles Oakley   \n 13                ORV                  F      Dennis Rodman   \n 14                ORV                  F         Grant Hill   \n 15                ORV                  C    Alonzo Mourning   \n 16                ORV                  G        Eddie Jones   \n 17                ORV                  G       Bobby Phills   \n 18                ORV                  G     Mitch Richmond   \n 19                ORV                  F         Shawn Kemp   \n 20                ORV                  F          Glen Rice   \n 21                ORV                  G         Joe Dumars   \n 22                ORV                  F         Mario Elie   \n 23                ORV                  F      Kevin Garnett   \n 24                ORV                  F  Clifford Robinson   \n 25                ORV                  F       Keith Askins   \n 26                ORV                  C      Shawn Bradley   \n 27                ORV                  G      Doug Christie   \n 28                ORV                  F       Horace Grant   \n 29                ORV                  G       Tim Hardaway   \n 30                ORV                  G   Latrell Sprewell   \n 31                ORV                  G    Terrell Brandon   \n 32                ORV                  C      Patrick Ewing   \n 33                ORV                  F        Tyrone Hill   \n 34                ORV                  F        Chris Mills   \n 35                ORV                  F          Bo Outlaw   \n 36                ORV                  G       David Wesley   \n \n    Unnamed: 3_level_0 Unnamed: 4_level_0  Voting                 \\\n                   Age                 Tm Pts Won Pts Max  Share   \n 0                31.0                CHI    53.0    58.0  0.914   \n 1                33.0                CHI    51.0    58.0  0.879   \n 2                30.0                ATL    50.0    58.0  0.862   \n 3                28.0                SEA    49.0    58.0  0.845   \n 4                33.0                UTA    25.0    58.0  0.431   \n 5                 NaN                NaN     NaN     NaN    NaN   \n 6                29.0                ATL    35.0    58.0  0.603   \n 7                34.0                HOU    26.0    58.0  0.448   \n 8                30.0                CHH    22.0    58.0  0.379   \n 9                27.0                MIA    19.0    58.0  0.328   \n 10               34.0                UTA     9.0    58.0  0.155   \n 11                NaN                NaN     NaN     NaN    NaN   \n 12               33.0                NYK    12.0    58.0  0.207   \n 13               35.0                CHI    11.0    58.0  0.190   \n 14               24.0                DET    10.0    58.0  0.172   \n 15               26.0                MIA     7.0    58.0  0.121   \n 16               25.0                LAL     6.0    58.0  0.103   \n 17               27.0                CLE     6.0    58.0  0.103   \n 18               31.0                SAC     6.0    58.0  0.103   \n 19               27.0                SEA     4.0    58.0  0.069   \n 20               29.0                CHH     4.0    58.0  0.069   \n 21               33.0                DET     3.0    58.0  0.052   \n 22               33.0                HOU     3.0    58.0  0.052   \n 23               20.0                MIN     3.0    58.0  0.052   \n 24               30.0                POR     3.0    58.0  0.052   \n 25               29.0                MIA     2.0    58.0  0.034   \n 26               24.0                TOT     2.0    58.0  0.034   \n 27               26.0                TOR     2.0    58.0  0.034   \n 28               31.0                ORL     2.0    58.0  0.034   \n 29               30.0                MIA     2.0    58.0  0.034   \n 30               26.0                GSW     2.0    58.0  0.034   \n 31               26.0                CLE     1.0    58.0  0.017   \n 32               34.0                NYK     1.0    58.0  0.017   \n 33               28.0                CLE     1.0    58.0  0.017   \n 34               27.0                CLE     1.0    58.0  0.017   \n 35               25.0                LAC     1.0    58.0  0.017   \n 36               26.0                BOS     1.0    58.0  0.017   \n \n    Unnamed: 8_level_0 Per Game  ...           Shooting               Advanced  \\\n                     G       MP  ...  STL  BLK      FG%    3P%    FT%       WS   \n 0                82.0     37.7  ...  1.9  0.5    0.474  0.368  0.701     13.1   \n 1                82.0     37.9  ...  1.7  0.5    0.486  0.374  0.833     18.3   \n 2                80.0     37.2  ...  0.6  3.3    0.527    NaN  0.705     11.3   \n 3                82.0     39.2  ...  2.4  0.2    0.476  0.313  0.715     12.9   \n 4                82.0     36.6  ...  1.4  0.6    0.550  0.000  0.755     16.7   \n 5                 NaN      NaN  ...  NaN  NaN      NaN    NaN    NaN      NaN   \n 6                78.0     39.2  ...  2.7  0.3    0.432  0.366  0.753     12.5   \n 7                78.0     36.6  ...  1.5  2.2    0.510  0.313  0.787      9.1   \n 8                73.0     43.1  ...  1.0  0.5    0.525  0.333  0.745     11.4   \n 9                80.0     32.4  ...  1.1  1.2    0.457  0.000  0.732      7.5   \n 10               82.0     35.3  ...  2.0  0.2    0.548  0.422  0.846     13.6   \n 11                NaN      NaN  ...  NaN  NaN      NaN    NaN    NaN      NaN   \n 12               80.0     35.9  ...  1.4  0.3    0.488  0.263  0.808      8.9   \n 13               55.0     35.4  ...  0.6  0.3    0.448  0.263  0.568      6.0   \n 14               80.0     39.3  ...  1.8  0.6    0.496  0.303  0.711     14.6   \n 15               66.0     35.2  ...  0.8  2.9    0.534  0.111  0.642      8.4   \n 16               80.0     37.5  ...  2.4  0.6    0.438  0.391  0.819      9.6   \n 17               69.0     34.4  ...  1.6  0.3    0.428  0.394  0.718      5.0   \n 18               81.0     38.6  ...  1.5  0.3    0.454  0.428  0.861     10.8   \n 19               81.0     34.0  ...  1.5  1.0    0.510  0.364  0.742     10.0   \n 20               79.0     42.6  ...  0.9  0.3    0.477  0.470  0.867     10.8   \n 21               79.0     37.0  ...  0.7  0.0    0.440  0.432  0.867      8.8   \n 22               78.0     34.4  ...  1.2  0.2    0.497  0.420  0.896      8.9   \n 23               77.0     38.9  ...  1.4  2.1    0.499  0.286  0.754      7.3   \n 24               81.0     38.0  ...  1.2  0.8    0.426  0.346  0.696      6.6   \n 25               78.0     22.7  ...  0.7  0.2    0.433  0.401  0.672      4.3   \n 26               73.0     31.3  ...  0.5  3.4    0.449  0.000  0.654      3.0   \n 27               81.0     38.6  ...  2.5  0.6    0.417  0.384  0.775      7.0   \n 28               67.0     37.3  ...  1.5  1.0    0.515  0.167  0.715      7.7   \n 29               81.0     38.7  ...  1.9  0.1    0.415  0.344  0.799     12.9   \n 30               80.0     41.9  ...  1.7  0.6    0.449  0.354  0.843      8.1   \n 31               78.0     36.8  ...  1.8  0.4    0.438  0.373  0.902     10.8   \n 32               78.0     37.0  ...  0.9  2.4    0.488  0.222  0.754      9.8   \n 33               74.0     34.9  ...  0.9  0.4    0.600  0.000  0.633      9.9   \n 34               80.0     39.6  ...  1.1  0.5    0.453  0.391  0.842      8.9   \n 35               82.0     26.8  ...  1.1  1.7    0.609  0.000  0.504      6.1   \n 36               74.0     40.4  ...  2.2  0.2    0.468  0.360  0.781      6.1   \n \n                             \n     WS/48  DWS DBPM   DRtg  \n 0   0.203  5.2  1.4  101.0  \n 1   0.283  5.0  1.1  102.0  \n 2   0.183  6.6  2.4   97.0  \n 3   0.193  4.7  1.1  103.0  \n 4   0.268  5.1  1.2  101.0  \n 5     NaN  NaN  NaN    NaN  \n 6   0.197  5.6  2.4  100.0  \n 7   0.154  5.6  2.0   99.0  \n 8   0.173  3.3  0.8  106.0  \n 9   0.139  5.4  1.6   98.0  \n 10  0.226  3.6  1.0  105.0  \n 11    NaN  NaN  NaN    NaN  \n 12  0.149  5.8  2.1   99.0  \n 13  0.148  4.0  0.3   98.0  \n 14  0.223  5.9  2.7  100.0  \n 15  0.174  5.6  2.5   95.0  \n 16  0.154  4.3  1.9  103.0  \n 17  0.101  3.7  1.5  102.0  \n 18  0.166  2.1 -0.6  110.0  \n 19  0.174  5.4  0.3   99.0  \n 20  0.154  1.2 -2.1  112.0  \n 21  0.144  2.0 -1.0  110.0  \n 22  0.159  2.6  0.7  107.0  \n 23  0.116  3.9  1.1  105.0  \n 24  0.103  3.7  0.5  105.0  \n 25  0.116  2.8  1.7  102.0  \n 26  0.062  3.0  0.8  105.0  \n 27  0.107  3.6  1.7  106.0  \n 28  0.148  3.6  1.3  103.0  \n 29  0.198  5.0  1.0  102.0  \n 30  0.115  1.1 -1.1  113.0  \n 31  0.181  4.7  1.5  102.0  \n 32  0.163  6.9  1.9   96.0  \n 33  0.184  4.6  0.1  101.0  \n 34  0.134  4.7  0.8  103.0  \n 35  0.133  2.8  2.5  104.0  \n 36  0.097  1.1 -0.6  112.0  \n \n [37 rows x 23 columns],\n    Unnamed: 0_level_0 Unnamed: 1_level_0 Unnamed: 2_level_0  \\\n                  # Tm                Pos             Player   \n 0                 1st                  G     Michael Jordan   \n 1                 1st                  G        Gary Payton   \n 2                 1st                  C    Dikembe Mutombo   \n 3                 1st                  F     Scottie Pippen   \n 4                 1st                  F        Karl Malone   \n 5                 NaN                NaN                NaN   \n 6                 2nd                  G    Mookie Blaylock   \n 7                 2nd                  F         Tim Duncan   \n 8                 2nd                  F     Charles Oakley   \n 9                 2nd                  C     David Robinson   \n 10                2nd                  G        Eddie Jones   \n 11                NaN                NaN                NaN   \n 12                ORV                  F      Dennis Rodman   \n 13                ORV                  F         P.J. Brown   \n 14                ORV                  F          Bo Outlaw   \n 15                ORV                  F         Grant Hill   \n 16                ORV                  G      Brevin Knight   \n 17                ORV                  C    Alonzo Mourning   \n 18                ORV                  G      John Stockton   \n 19                ORV                  F      Anthony Mason   \n 20                ORV                  C   Shaquille O'Neal   \n 21                ORV                  C    Hakeem Olajuwon   \n 22                ORV                  G     Mitch Richmond   \n 23                ORV                  G       Tim Hardaway   \n 24                ORV                  F      Kevin Garnett   \n 25                ORV                  F          Vin Baker   \n 26                ORV                  G         Joe Dumars   \n 27                ORV                  F       Horace Grant   \n 28                ORV                  G         Jason Kidd   \n 29                ORV                  G       Bobby Phills   \n 30                ORV                  C    Arvydas Sabonis   \n 31                ORV                  G       Charlie Ward   \n 32                ORV                  C      Shawn Bradley   \n 33                ORV                  G      Doug Christie   \n 34                ORV                  F         Mario Elie   \n 35                ORV                  G       Kendall Gill   \n 36                ORV                  G         Ron Harper   \n 37                ORV                  G     Hersey Hawkins   \n 38                ORV                  G      Reggie Miller   \n 39                ORV                  F       Theo Ratliff   \n 40                ORV                  F    Detlef Schrempf   \n 41                ORV                  G          Eric Snow   \n 42                ORV                  C    Jayson Williams   \n \n    Unnamed: 3_level_0 Unnamed: 4_level_0  Voting                 \\\n                   Age                 Tm Pts Won Pts Max  Share   \n 0                34.0                CHI    53.0    58.0  0.914   \n 1                29.0                SEA    51.0    58.0  0.879   \n 2                31.0                ATL    48.0    58.0  0.828   \n 3                32.0                CHI    44.0    58.0  0.759   \n 4                34.0                UTA    24.0    58.0  0.414   \n 5                 NaN                NaN     NaN     NaN    NaN   \n 6                30.0                ATL    23.0    58.0  0.397   \n 7                21.0                SAS    21.0    58.0  0.362   \n 8                34.0                NYK    19.0    58.0  0.328   \n 9                32.0                SAS    18.0    58.0  0.310   \n 10               26.0                LAL    10.0    58.0  0.172   \n 11                NaN                NaN     NaN     NaN    NaN   \n 12               36.0                CHI    17.0    58.0  0.293   \n 13               28.0                MIA    12.0    58.0  0.207   \n 14               26.0                ORL    12.0    58.0  0.207   \n 15               25.0                DET    11.0    58.0  0.190   \n 16               22.0                CLE     8.0    58.0  0.138   \n 17               27.0                MIA     6.0    58.0  0.103   \n 18               35.0                UTA     6.0    58.0  0.103   \n 19               31.0                CHH     5.0    58.0  0.086   \n 20               25.0                LAL     5.0    58.0  0.086   \n 21               35.0                HOU     5.0    58.0  0.086   \n 22               32.0                SAC     5.0    58.0  0.086   \n 23               31.0                MIA     4.0    58.0  0.069   \n 24               21.0                MIN     3.0    58.0  0.052   \n 25               26.0                SEA     2.0    58.0  0.034   \n 26               34.0                DET     2.0    58.0  0.034   \n 27               32.0                ORL     2.0    58.0  0.034   \n 28               24.0                PHO     2.0    58.0  0.034   \n 29               28.0                CHH     2.0    58.0  0.034   \n 30               33.0                POR     2.0    58.0  0.034   \n 31               27.0                NYK     2.0    58.0  0.034   \n 32               25.0                DAL     1.0    58.0  0.017   \n 33               27.0                TOR     1.0    58.0  0.017   \n 34               34.0                HOU     1.0    58.0  0.017   \n 35               29.0                NJN     1.0    58.0  0.017   \n 36               34.0                CHI     1.0    58.0  0.017   \n 37               31.0                SEA     1.0    58.0  0.017   \n 38               32.0                IND     1.0    58.0  0.017   \n 39               24.0                TOT     1.0    58.0  0.017   \n 40               35.0                SEA     1.0    58.0  0.017   \n 41               24.0                TOT     1.0    58.0  0.017   \n 42               29.0                NJN     1.0    58.0  0.017   \n \n    Unnamed: 8_level_0 Per Game  ...           Shooting               Advanced  \\\n                     G       MP  ...  STL  BLK      FG%    3P%    FT%       WS   \n 0                82.0     38.8  ...  1.7  0.5    0.465  0.238  0.784     15.8   \n 1                82.0     38.4  ...  2.3  0.2    0.453  0.338  0.744     12.5   \n 2                82.0     35.6  ...  0.4  3.4    0.537    NaN  0.670     10.8   \n 3                44.0     37.5  ...  1.8  1.0    0.447  0.318  0.777      6.6   \n 4                81.0     37.4  ...  1.2  0.9    0.530  0.333  0.761     16.4   \n 5                 NaN      NaN  ...  NaN  NaN      NaN    NaN    NaN      NaN   \n 6                70.0     38.6  ...  2.6  0.3    0.392  0.269  0.709      5.6   \n 7                82.0     39.1  ...  0.7  2.5    0.549  0.000  0.662     12.8   \n 8                79.0     34.6  ...  1.6  0.3    0.440  0.000  0.851      7.0   \n 9                73.0     33.7  ...  0.9  2.6    0.511  0.250  0.735     13.8   \n 10               80.0     36.4  ...  2.0  0.7    0.484  0.389  0.765     10.1   \n 11                NaN      NaN  ...  NaN  NaN      NaN    NaN    NaN      NaN   \n 12               80.0     35.7  ...  0.6  0.2    0.431  0.174  0.550      7.8   \n 13               74.0     31.9  ...  0.9  1.3    0.471    NaN  0.766      7.5   \n 14               82.0     36.0  ...  1.3  2.2    0.554  0.250  0.575      7.6   \n 15               81.0     40.7  ...  1.8  0.7    0.452  0.143  0.740     10.2   \n 16               80.0     31.0  ...  2.5  0.2    0.441  0.000  0.801      8.4   \n 17               58.0     33.4  ...  0.7  2.2    0.551    NaN  0.665      7.5   \n 18               64.0     29.0  ...  1.4  0.2    0.528  0.429  0.827      8.0   \n 19               81.0     38.9  ...  0.8  0.2    0.509  0.000  0.649      9.3   \n 20               60.0     36.3  ...  0.7  2.4    0.584    NaN  0.527     10.2   \n 21               47.0     34.7  ...  1.8  2.0    0.483  0.000  0.755      4.5   \n 22               70.0     36.7  ...  1.3  0.2    0.445  0.389  0.864      7.9   \n 23               81.0     37.4  ...  1.7  0.2    0.431  0.351  0.781     11.7   \n 24               82.0     39.3  ...  1.7  1.8    0.491  0.188  0.738      9.6   \n 25               82.0     35.9  ...  1.1  1.0    0.542  0.143  0.591     10.4   \n 26               72.0     32.3  ...  0.6  0.0    0.416  0.371  0.825      5.9   \n 27               76.0     36.9  ...  1.1  1.0    0.459  0.000  0.678      7.1   \n 28               82.0     38.0  ...  2.0  0.3    0.416  0.313  0.799      8.0   \n 29               62.0     30.4  ...  1.3  0.3    0.446  0.386  0.757      3.2   \n 30               73.0     32.0  ...  0.9  1.1    0.493  0.261  0.798      9.7   \n 31               82.0     28.3  ...  1.8  0.5    0.455  0.377  0.805      7.1   \n 32               64.0     28.5  ...  0.8  3.3    0.422  0.333  0.722      2.9   \n 33               78.0     37.7  ...  2.4  0.7    0.428  0.326  0.829      4.0   \n 34               73.0     27.2  ...  1.1  0.1    0.452  0.291  0.833      3.8   \n 35               81.0     33.7  ...  1.9  0.8    0.429  0.257  0.688      5.9   \n 36               82.0     27.9  ...  1.3  0.6    0.441  0.190  0.750      7.2   \n 37               82.0     31.7  ...  1.8  0.2    0.440  0.415  0.868      8.6   \n 38               81.0     34.5  ...  1.0  0.1    0.477  0.429  0.868     12.0   \n 39               82.0     29.8  ...  0.6  3.1    0.513    NaN  0.701      6.7   \n 40               78.0     35.2  ...  0.8  0.2    0.487  0.415  0.844     10.4   \n 41               64.0     14.3  ...  0.9  0.1    0.429  0.118  0.690      1.3   \n 42               65.0     36.0  ...  0.7  0.8    0.498  0.000  0.666      8.4   \n \n                             \n     WS/48  DWS DBPM   DRtg  \n 0   0.238  5.4  1.0  100.0  \n 1   0.190  4.0  0.7  103.0  \n 2   0.177  5.2  1.4   99.0  \n 3   0.193  3.0  1.6   99.0  \n 4   0.259  4.3  0.7  102.0  \n 5     NaN  NaN  NaN    NaN  \n 6   0.099  3.7  1.5  102.0  \n 7   0.192  7.2  2.0   95.0  \n 8   0.122  5.6  2.3   97.0  \n 9   0.269  6.0  2.9   94.0  \n 10  0.166  3.2  1.1  104.0  \n 11    NaN  NaN  NaN    NaN  \n 12  0.131  5.9  0.4   97.0  \n 13  0.152  4.0  1.0  100.0  \n 14  0.124  4.5  2.7  101.0  \n 15  0.149  5.1  1.5  101.0  \n 16  0.163  4.9  3.1   97.0  \n 17  0.185  3.6  0.7   99.0  \n 18  0.206  1.6  0.2  107.0  \n 19  0.141  3.5  0.6  104.0  \n 20  0.224  3.4  0.2  101.0  \n 21  0.131  2.5  2.0  101.0  \n 22  0.148  1.3 -0.8  109.0  \n 23  0.185  3.8  0.4  103.0  \n 24  0.143  4.2  1.5  103.0  \n 25  0.169  3.5 -0.9  104.0  \n 26  0.122  1.2 -1.3  109.0  \n 27  0.122  3.6  0.8  103.0  \n 28  0.123  4.8  1.6  101.0  \n 29  0.081  1.7  0.4  106.0  \n 30  0.200  4.6  2.2   97.0  \n 31  0.148  4.5  3.4   98.0  \n 32  0.077  3.0  1.6  100.0  \n 33  0.066  1.6  0.0  109.0  \n 34  0.092  0.6 -0.1  111.0  \n 35  0.104  3.0  1.5  105.0  \n 36  0.151  3.7  2.1  100.0  \n 37  0.158  3.3  1.5  103.0  \n 38  0.206  2.8  0.1  105.0  \n 39  0.132  3.4  1.8  102.0  \n 40  0.182  2.9 -0.1  105.0  \n 41  0.067  1.0  1.6  105.0  \n 42  0.172  2.3 -2.0  105.0  \n \n [43 rows x 23 columns],\n    Unnamed: 0_level_0 Unnamed: 1_level_0 Unnamed: 2_level_0  \\\n                  # Tm                Pos             Player   \n 0                 1st                  G        Gary Payton   \n 1                 1st                  C    Alonzo Mourning   \n 2                 1st                  F         Tim Duncan   \n 3                 1st                  G         Jason Kidd   \n 4                 1st                  F        Karl Malone   \n 5                 1st                  F     Scottie Pippen   \n 6                 NaN                NaN                NaN   \n 7                 2nd                  C    Dikembe Mutombo   \n 8                 2nd                  G    Mookie Blaylock   \n 9                 2nd                  G        Eddie Jones   \n 10                2nd                  F         P.J. Brown   \n 11                2nd                  F       Theo Ratliff   \n 12                NaN                NaN                NaN   \n 13                ORV                  F      Kevin Garnett   \n 14                ORV                  G  Darrell Armstrong   \n 15                ORV                  F        Brian Grant   \n 16                ORV                  F         Grant Hill   \n 17                ORV                  F     Charles Oakley   \n 18                ORV                  F          Bo Outlaw   \n 19                ORV                  G          Eric Snow   \n 20                ORV                  G       Greg Anthony   \n 21                ORV                  G      Doug Christie   \n 22                ORV                  G       Kendall Gill   \n 23                ORV                  G       Bobby Phills   \n 24                ORV                  G     Mitch Richmond   \n 25                ORV                  G      John Stockton   \n 26                ORV                  F  Tariq Abdul-Wahad   \n 27                ORV                  F      Stacey Augmon   \n 28                ORV                  F        Dan Majerle   \n 29                ORV                  F    Antonio McDyess   \n 30                ORV                  F  Clifford Robinson   \n 31                ORV                  G       Chris Childs   \n 32                ORV                  F         Mario Elie   \n 33                ORV                  G      Allen Iverson   \n 34                ORV                  C     David Robinson   \n 35                ORV                  G        Steve Smith   \n 36                ORV                  G        John Starks   \n 37                ORV                  F       Chris Webber   \n 38                ORV                  G       David Wesley   \n 39                ORV                  F       Vince Carter   \n 40                ORV                  G        Bimbo Coles   \n 41                ORV                  F      Antonio Davis   \n 42                ORV                  F         Dale Davis   \n 43                ORV                  G     Hersey Hawkins   \n 44                ORV                  G      Reggie Miller   \n 45                ORV                  C   Shaquille O'Neal   \n 46                ORV                  C       Kevin Willis   \n \n    Unnamed: 3_level_0 Unnamed: 4_level_0  Voting                 \\\n                   Age                 Tm Pts Won Pts Max  Share   \n 0                30.0                SEA    47.0    58.0  0.810   \n 1                28.0                MIA    46.0    58.0  0.793   \n 2                22.0                SAS    38.0    58.0  0.655   \n 3                25.0                PHO    24.0    58.0  0.414   \n 4                35.0                UTA    22.0    58.0  0.379   \n 5                33.0                HOU    22.0    58.0  0.379   \n 6                 NaN                NaN     NaN     NaN    NaN   \n 7                32.0                ATL    37.0    58.0  0.638   \n 8                31.0                ATL    23.0    58.0  0.397   \n 9                27.0                TOT    16.0    58.0  0.276   \n 10               29.0                MIA    15.0    58.0  0.259   \n 11               25.0                PHI    14.0    58.0  0.241   \n 12                NaN                NaN     NaN     NaN    NaN   \n 13               22.0                MIN    13.0    58.0  0.224   \n 14               30.0                ORL    12.0    58.0  0.207   \n 15               26.0                POR    12.0    58.0  0.207   \n 16               26.0                DET     9.0    58.0  0.155   \n 17               35.0                TOR     9.0    58.0  0.155   \n 18               27.0                ORL     8.0    58.0  0.138   \n 19               25.0                PHI     5.0    58.0  0.086   \n 20               31.0                POR     4.0    58.0  0.069   \n 21               28.0                TOR     4.0    58.0  0.069   \n 22               30.0                NJN     4.0    58.0  0.069   \n 23               29.0                CHH     4.0    58.0  0.069   \n 24               33.0                WAS     4.0    58.0  0.069   \n 25               36.0                UTA     4.0    58.0  0.069   \n 26               24.0                SAC     3.0    58.0  0.052   \n 27               30.0                POR     3.0    58.0  0.052   \n 28               33.0                MIA     3.0    58.0  0.052   \n 29               24.0                DEN     3.0    58.0  0.052   \n 30               32.0                PHO     3.0    58.0  0.052   \n 31               31.0                NYK     2.0    58.0  0.034   \n 32               35.0                SAS     2.0    58.0  0.034   \n 33               23.0                PHI     2.0    58.0  0.034   \n 34               33.0                SAS     2.0    58.0  0.034   \n 35               29.0                ATL     2.0    58.0  0.034   \n 36               33.0                GSW     2.0    58.0  0.034   \n 37               25.0                SAC     2.0    58.0  0.034   \n 38               28.0                CHH     2.0    58.0  0.034   \n 39               22.0                TOR     1.0    58.0  0.017   \n 40               30.0                GSW     1.0    58.0  0.017   \n 41               30.0                IND     1.0    58.0  0.017   \n 42               29.0                IND     1.0    58.0  0.017   \n 43               32.0                SEA     1.0    58.0  0.017   \n 44               33.0                IND     1.0    58.0  0.017   \n 45               26.0                LAL     1.0    58.0  0.017   \n 46               36.0                TOR     1.0    58.0  0.017   \n \n    Unnamed: 8_level_0 Per Game  ...           Shooting               Advanced  \\\n                     G       MP  ...  STL  BLK      FG%    3P%    FT%       WS   \n 0                50.0     40.2  ...  2.2  0.2    0.434  0.295  0.721      7.2   \n 1                46.0     38.1  ...  0.7  3.9    0.511  0.000  0.652      7.9   \n 2                50.0     39.3  ...  0.9  2.5    0.495  0.143  0.690      8.7   \n 3                50.0     41.2  ...  2.3  0.4    0.444  0.366  0.757      8.1   \n 4                49.0     37.4  ...  1.3  0.6    0.493  0.000  0.788      9.6   \n 5                50.0     40.2  ...  2.0  0.7    0.432  0.340  0.721      4.9   \n 6                 NaN      NaN  ...  NaN  NaN      NaN    NaN    NaN      NaN   \n 7                50.0     36.6  ...  0.3  2.9    0.512    NaN  0.684      7.9   \n 8                48.0     36.7  ...  2.1  0.2    0.379  0.307  0.758      4.7   \n 9                50.0     37.6  ...  2.5  1.2    0.437  0.338  0.782      6.0   \n 10               50.0     32.2  ...  0.9  1.0    0.480    NaN  0.774      5.1   \n 11               50.0     32.5  ...  0.9  3.0    0.470    NaN  0.725      5.4   \n 12                NaN      NaN  ...  NaN  NaN      NaN    NaN    NaN      NaN   \n 13               47.0     37.9  ...  1.7  1.8    0.460  0.286  0.704      5.4   \n 14               50.0     30.0  ...  2.2  0.1    0.441  0.365  0.904      6.4   \n 15               48.0     31.8  ...  0.4  0.7    0.479    NaN  0.814      5.9   \n 16               50.0     37.0  ...  1.6  0.5    0.479  0.000  0.752      7.3   \n 17               50.0     32.7  ...  0.9  0.4    0.428  0.200  0.807      2.1   \n 18               31.0     27.5  ...  1.3  1.4    0.545  0.000  0.432      1.8   \n 19               48.0     35.8  ...  2.1  0.0    0.428  0.238  0.733      3.8   \n 20               50.0     16.1  ...  1.3  0.1    0.414  0.392  0.697      2.8   \n 21               50.0     35.4  ...  2.3  0.5    0.388  0.304  0.841      4.2   \n 22               50.0     32.1  ...  2.7  0.5    0.398  0.118  0.683      2.6   \n 23               43.0     36.6  ...  1.4  0.6    0.433  0.395  0.685      3.0   \n 24               50.0     38.2  ...  1.3  0.2    0.412  0.317  0.857      3.3   \n 25               50.0     28.2  ...  1.6  0.3    0.488  0.320  0.811      6.4   \n 26               49.0     24.6  ...  1.0  0.3    0.435  0.286  0.691      1.4   \n 27               48.0     18.2  ...  1.2  0.4    0.448  0.000  0.684      2.6   \n 28               48.0     33.8  ...  0.8  0.1    0.396  0.335  0.717      3.5   \n 29               50.0     38.7  ...  1.5  2.3    0.471  0.111  0.680      4.2   \n 30               50.0     34.8  ...  1.5  1.2    0.475  0.417  0.697      5.3   \n 31               48.0     27.0  ...  0.9  0.0    0.427  0.383  0.821      2.9   \n 32               47.0     27.5  ...  1.0  0.3    0.471  0.374  0.866      4.5   \n 33               48.0     41.5  ...  2.3  0.1    0.412  0.291  0.751      7.2   \n 34               49.0     31.7  ...  1.4  2.4    0.509  0.000  0.658      8.4   \n 35               36.0     36.5  ...  1.0  0.3    0.402  0.338  0.849      4.4   \n 36               50.0     33.7  ...  1.4  0.1    0.370  0.290  0.740      3.0   \n 37               42.0     40.9  ...  1.4  2.1    0.486  0.118  0.454      3.6   \n 38               50.0     37.0  ...  2.0  0.2    0.446  0.359  0.832      4.8   \n 39               50.0     35.2  ...  1.1  1.5    0.450  0.288  0.761      5.0   \n 40               48.0     26.5  ...  0.9  0.2    0.442  0.240  0.822      2.7   \n 41               49.0     25.9  ...  0.4  0.9    0.471    NaN  0.703      4.0   \n 42               50.0     27.5  ...  0.4  1.1    0.533    NaN  0.618      4.5   \n 43               50.0     32.9  ...  1.6  0.4    0.419  0.306  0.902      3.5   \n 44               50.0     35.7  ...  0.7  0.2    0.438  0.385  0.915      6.4   \n 45               49.0     34.8  ...  0.7  1.7    0.576  0.000  0.540      9.0   \n 46               42.0     29.0  ...  0.7  0.7    0.418  0.000  0.839      2.4   \n \n                             \n     WS/48  DWS DBPM   DRtg  \n 0   0.172  1.2  0.0  106.0  \n 1   0.216  3.9  2.2   93.0  \n 2   0.213  4.7  1.8   91.0  \n 3   0.188  2.3  1.1  102.0  \n 4   0.252  3.4  1.4   96.0  \n 5   0.116  2.3  1.1  101.0  \n 6     NaN  NaN  NaN    NaN  \n 7   0.206  4.2  2.5   92.0  \n 8   0.127  3.2  1.9   96.0  \n 9   0.153  2.2  2.1  101.0  \n 10  0.153  2.6  0.8   98.0  \n 11  0.159  3.3  2.0   94.0  \n 12    NaN  NaN  NaN    NaN  \n 13  0.146  3.0  1.7   97.0  \n 14  0.205  2.7  2.4   96.0  \n 15  0.185  2.5 -0.1   98.0  \n 16  0.189  2.8  1.4   98.0  \n 17  0.062  1.4  0.1  103.0  \n 18  0.100  1.7  3.2   95.0  \n 19  0.105  2.5  1.6   99.0  \n 20  0.165  1.5  3.1   96.0  \n 21  0.113  1.7  0.5  103.0  \n 22  0.076  2.2  2.4  100.0  \n 23  0.091  1.3 -0.1  104.0  \n 24  0.082  1.0 -1.2  106.0  \n 25  0.217  2.2  1.9   98.0  \n 26  0.058  0.9 -0.5  104.0  \n 27  0.142  1.6  3.7   96.0  \n 28  0.103  1.9  1.1  101.0  \n 29  0.105  1.3 -0.7  105.0  \n 30  0.146  1.7  0.6  103.0  \n 31  0.106  1.7  1.3  100.0  \n 32  0.169  1.9  1.6   98.0  \n 33  0.173  2.9  0.6   99.0  \n 34  0.261  4.4  3.5   88.0  \n 35  0.162  1.7  0.2  100.0  \n 36  0.085  1.5  0.4  103.0  \n 37  0.102  2.7  1.1   98.0  \n 38  0.124  1.7  0.2  103.0  \n 39  0.136  1.4 -0.4  104.0  \n 40  0.103  1.1  0.5  104.0  \n 41  0.151  1.3 -0.9  102.0  \n 42  0.157  1.5 -0.7  102.0  \n 43  0.102  0.9  0.7  106.0  \n 44  0.172  0.4 -1.2  108.0  \n 45  0.255  1.9 -0.4  102.0  \n 46  0.093  1.2 -1.5  102.0  \n \n [47 rows x 23 columns],\n    Unnamed: 0_level_0 Unnamed: 1_level_0 Unnamed: 2_level_0  \\\n                  # Tm                Pos             Player   \n 0                 1st                  G        Gary Payton   \n 1                 1st                  C    Alonzo Mourning   \n 2                 1st                  G        Kobe Bryant   \n 3                 1st                  F      Kevin Garnett   \n 4                 1st                  F         Tim Duncan   \n 5                 NaN                NaN                NaN   \n 6                 2nd                  C   Shaquille O'Neal   \n 7                 2nd                  G        Eddie Jones   \n 8                 2nd                  G         Jason Kidd   \n 9                 2nd                  F     Scottie Pippen   \n 10                2nd                  F  Clifford Robinson   \n 11                NaN                NaN                NaN   \n 12                ORV                  G          Eric Snow   \n 13                ORV                  F        Karl Malone   \n 14                ORV                  F         P.J. Brown   \n 15                ORV                  C    Dikembe Mutombo   \n 16                ORV                  F       Theo Ratliff   \n 17                ORV                  F          Bo Outlaw   \n 18                ORV                  F       George Lynch   \n 19                ORV                  F      Anthony Mason   \n 20                ORV                  C     David Robinson   \n 21                ORV                  G  Darrell Armstrong   \n 22                ORV                  F         Dale Davis   \n 23                ORV                  F    Rasheed Wallace   \n 24                ORV                  F         Grant Hill   \n 25                ORV                  G     Michael Finley   \n 26                ORV                  G       Kendall Gill   \n 27                ORV                  F        Dan Majerle   \n 28                ORV                  F     Charles Oakley   \n 29                ORV                  G   Latrell Sprewell   \n 30                ORV                  F        Kurt Thomas   \n 31                ORV                  F       Chris Webber   \n 32                ORV                  F    Jerome Williams   \n 33                ORV                  G       Greg Anthony   \n 34                ORV                  G    Mookie Blaylock   \n 35                ORV                  F       Horace Grant   \n 36                ORV                  G      Allen Iverson   \n 37                ORV                  C      Ervin Johnson   \n 38                ORV                  F      Tracy McGrady   \n \n    Unnamed: 3_level_0 Unnamed: 4_level_0  Voting                 \\\n                   Age                 Tm Pts Won Pts Max  Share   \n 0                31.0                SEA    52.0    58.0  0.897   \n 1                29.0                MIA    42.0    58.0  0.724   \n 2                21.0                LAL    33.0    58.0  0.569   \n 3                23.0                MIN    31.0    58.0  0.534   \n 4                23.0                SAS    29.0    58.0  0.500   \n 5                 NaN                NaN     NaN     NaN    NaN   \n 6                27.0                LAL    29.0    58.0  0.500   \n 7                28.0                CHH    27.0    58.0  0.466   \n 8                26.0                PHO    26.0    58.0  0.448   \n 9                34.0                POR    19.0    58.0  0.328   \n 10               33.0                PHO    18.0    58.0  0.310   \n 11                NaN                NaN     NaN     NaN    NaN   \n 12               26.0                PHI    21.0    58.0  0.362   \n 13               36.0                UTA    16.0    58.0  0.276   \n 14               30.0                MIA    14.0    58.0  0.241   \n 15               33.0                ATL     9.0    58.0  0.155   \n 16               26.0                PHI     9.0    58.0  0.155   \n 17               28.0                ORL     8.0    58.0  0.138   \n 18               29.0                PHI     5.0    58.0  0.086   \n 19               33.0                CHH     5.0    58.0  0.086   \n 20               34.0                SAS     5.0    58.0  0.086   \n 21               31.0                ORL     4.0    58.0  0.069   \n 22               30.0                IND     4.0    58.0  0.069   \n 23               25.0                POR     4.0    58.0  0.069   \n 24               27.0                DET     3.0    58.0  0.052   \n 25               26.0                DAL     2.0    58.0  0.034   \n 26               31.0                NJN     2.0    58.0  0.034   \n 27               34.0                MIA     2.0    58.0  0.034   \n 28               36.0                TOR     2.0    58.0  0.034   \n 29               29.0                NYK     2.0    58.0  0.034   \n 30               27.0                NYK     2.0    58.0  0.034   \n 31               26.0                SAC     2.0    58.0  0.034   \n 32               26.0                DET     2.0    58.0  0.034   \n 33               32.0                POR     1.0    58.0  0.017   \n 34               32.0                GSW     1.0    58.0  0.017   \n 35               34.0                SEA     1.0    58.0  0.017   \n 36               24.0                PHI     1.0    58.0  0.017   \n 37               32.0                MIL     1.0    58.0  0.017   \n 38               20.0                TOR     1.0    58.0  0.017   \n \n    Unnamed: 8_level_0 Per Game  ...           Shooting               Advanced  \\\n                     G       MP  ...  STL  BLK      FG%    3P%    FT%       WS   \n 0                82.0     41.8  ...  1.9  0.2    0.448  0.340  0.735     13.9   \n 1                79.0     34.8  ...  0.5  3.7    0.551  0.000  0.711     12.9   \n 2                66.0     38.2  ...  1.6  0.9    0.468  0.319  0.821     10.6   \n 3                81.0     40.0  ...  1.5  1.6    0.497  0.370  0.765     11.6   \n 4                74.0     38.9  ...  0.9  2.2    0.490  0.091  0.761     13.0   \n 5                 NaN      NaN  ...  NaN  NaN      NaN    NaN    NaN      NaN   \n 6                79.0     40.0  ...  0.5  3.0    0.574  0.000  0.524     18.6   \n 7                72.0     39.0  ...  2.7  0.7    0.427  0.375  0.864     10.1   \n 8                67.0     39.0  ...  2.0  0.4    0.409  0.337  0.829      8.5   \n 9                82.0     33.5  ...  1.4  0.5    0.451  0.327  0.717      7.8   \n 10               80.0     35.5  ...  1.1  0.8    0.464  0.370  0.782      9.6   \n 11                NaN      NaN  ...  NaN  NaN      NaN    NaN    NaN      NaN   \n 12               82.0     35.0  ...  1.7  0.1    0.430  0.244  0.712      6.1   \n 13               82.0     35.9  ...  1.0  0.9    0.509  0.250  0.797     15.3   \n 14               80.0     28.8  ...  0.8  0.8    0.480  0.000  0.755      6.9   \n 15               82.0     36.4  ...  0.3  3.3    0.562    NaN  0.708      9.9   \n 16               57.0     31.5  ...  0.6  3.0    0.503    NaN  0.771      5.6   \n 17               82.0     28.4  ...  1.4  1.8    0.602  0.000  0.506      6.8   \n 18               75.0     32.2  ...  1.6  0.5    0.461  0.417  0.617      5.8   \n 19               82.0     38.2  ...  0.9  0.4    0.480  0.000  0.746      8.9   \n 20               80.0     32.0  ...  1.2  2.3    0.512  0.000  0.726     12.7   \n 21               82.0     31.6  ...  2.1  0.1    0.433  0.340  0.911      8.0   \n 22               74.0     28.7  ...  0.7  1.3    0.502    NaN  0.685      7.1   \n 23               81.0     35.1  ...  1.1  1.3    0.519  0.160  0.704      9.3   \n 24               74.0     37.5  ...  1.4  0.6    0.489  0.347  0.795     10.7   \n 25               82.0     42.2  ...  1.3  0.4    0.457  0.401  0.820      8.3   \n 26               76.0     31.0  ...  1.8  0.5    0.414  0.256  0.710      3.7   \n 27               69.0     33.4  ...  1.3  0.2    0.403  0.362  0.812      6.1   \n 28               80.0     30.4  ...  1.3  0.6    0.418  0.341  0.776      2.2   \n 29               82.0     40.0  ...  1.3  0.3    0.435  0.346  0.866      6.6   \n 30               80.0     24.6  ...  0.6  0.5    0.505  0.333  0.781      5.2   \n 31               75.0     38.4  ...  1.6  1.7    0.483  0.284  0.751     10.7   \n 32               82.0     25.6  ...  1.2  0.3    0.564  0.000  0.616      7.6   \n 33               82.0     18.9  ...  0.7  0.1    0.406  0.378  0.772      4.1   \n 34               73.0     33.7  ...  2.0  0.3    0.391  0.336  0.705      3.3   \n 35               76.0     35.4  ...  0.7  0.8    0.444  0.000  0.721      5.2   \n 36               70.0     40.8  ...  2.1  0.1    0.421  0.341  0.713      6.9   \n 37               80.0     26.6  ...  1.0  1.6    0.516  0.000  0.605      4.9   \n 38               79.0     31.2  ...  1.1  1.9    0.451  0.277  0.707      6.6   \n \n                             \n     WS/48  DWS DBPM   DRtg  \n 0   0.195  3.5  0.7  104.0  \n 1   0.226  5.6  2.2   96.0  \n 2   0.202  4.5  1.6   98.0  \n 3   0.172  5.6  1.7   99.0  \n 4   0.218  6.4  1.8   95.0  \n 5     NaN  NaN  NaN    NaN  \n 6   0.283  7.0  2.0   95.0  \n 7   0.172  4.4  2.0  100.0  \n 8   0.156  4.8  2.0   98.0  \n 9   0.137  4.4  1.7   99.0  \n 10  0.162  3.9  0.4  101.0  \n 11    NaN  NaN  NaN    NaN  \n 12  0.102  3.7  1.4  102.0  \n 13  0.249  4.5  1.1  100.0  \n 14  0.143  3.6  0.6  100.0  \n 15  0.160  4.3  1.5  101.0  \n 16  0.149  3.3  2.0   97.0  \n 17  0.140  4.0  3.6   99.0  \n 18  0.116  4.2  1.6   98.0  \n 19  0.136  3.9  0.7  102.0  \n 20  0.238  6.4  2.7   92.0  \n 21  0.149  3.4  0.9  102.0  \n 22  0.161  3.3  0.1  100.0  \n 23  0.156  4.7  1.0   99.0  \n 24  0.185  2.6  0.1  105.0  \n 25  0.114  1.9 -0.9  108.0  \n 26  0.076  2.1  0.7  105.0  \n 27  0.126  3.3  2.1  101.0  \n 28  0.044  2.9  1.1  103.0  \n 29  0.097  4.1  0.5  102.0  \n 30  0.127  3.4  1.4   99.0  \n 31  0.179  5.0  2.1   98.0  \n 32  0.174  3.0 -0.5  101.0  \n 33  0.128  1.8  0.8  103.0  \n 34  0.065  1.4  0.2  108.0  \n 35  0.093  2.5  0.3  105.0  \n 36  0.116  3.6 -0.2  102.0  \n 37  0.111  2.6  0.9  103.0  \n 38  0.129  2.9  0.9  103.0  \n \n [39 rows x 23 columns],\n    Unnamed: 0_level_0 Unnamed: 1_level_0 Unnamed: 2_level_0  \\\n                  # Tm                Pos             Player   \n 0                 1st                  C    Dikembe Mutombo   \n 1                 1st                  F         Tim Duncan   \n 2                 1st                  G         Jason Kidd   \n 3                 1st                  G        Gary Payton   \n 4                 1st                  F      Kevin Garnett   \n 5                 NaN                NaN                NaN   \n 6                 2nd                  G        Kobe Bryant   \n 7                 2nd                  G      Doug Christie   \n 8                 2nd                  F        Bruce Bowen   \n 9                 2nd                  C   Shaquille O'Neal   \n 10                2nd                  F         P.J. Brown   \n 11                NaN                NaN                NaN   \n 12                ORV                  C     David Robinson   \n 13                ORV                  G      Allen Iverson   \n 14                ORV                  F       Shawn Marion   \n 15                ORV                  G          Eric Snow   \n 16                ORV                  F        Karl Malone   \n 17                ORV                  C       Theo Ratliff   \n 18                ORV                  F       George Lynch   \n 19                ORV                  G     Michael Finley   \n 20                ORV                  F        Brian Grant   \n 21                ORV                  F      Anthony Mason   \n 22                ORV                  G   Latrell Sprewell   \n 23                ORV                  F     Scottie Pippen   \n 24                ORV                  C      Antonio Davis   \n 25                ORV                  F          Bo Outlaw   \n 26                ORV                  F       Horace Grant   \n 27                ORV                  G      Tracy McGrady   \n 28                ORV                  F    Ruben Patterson   \n 29                ORV                  F  Clifford Robinson   \n 30                ORV                  F    Rasheed Wallace   \n 31                ORV                  F       Chris Webber   \n 32                ORV                  G        Travis Best   \n 33                ORV                  F       Vince Carter   \n 34                ORV                  G      Bobby Jackson   \n 35                ORV                  F     Charles Oakley   \n 36                ORV                  F        Kurt Thomas   \n 37                ORV                  C        Ben Wallace   \n 38                ORV                  G       David Wesley   \n 39                ORV                  G  Darrell Armstrong   \n 40                ORV                  C      Shawn Bradley   \n 41                ORV                  C       Marcus Camby   \n 42                ORV                  G        Sam Cassell   \n 43                ORV                  F         Dale Davis   \n 44                ORV                  G      Steve Francis   \n 45                ORV                  F        Tyrone Hill   \n 46                ORV                  G      Allan Houston   \n 47                ORV                  C      Ervin Johnson   \n 48                ORV                  G        Eddie Jones   \n 49                ORV                  G       Andre Miller   \n 50                ORV                  F      Dirk Nowitzki   \n 51                ORV                  G      John Stockton   \n \n    Unnamed: 3_level_0 Unnamed: 4_level_0  Voting                 \\\n                   Age                 Tm Pts Won Pts Max  Share   \n 0                34.0                TOT    43.0    58.0  0.741   \n 1                24.0                SAS    40.0    58.0  0.690   \n 2                27.0                PHO    39.0    58.0  0.672   \n 3                32.0                SEA    38.0    58.0  0.655   \n 4                24.0                MIN    24.0    58.0  0.414   \n 5                 NaN                NaN     NaN     NaN    NaN   \n 6                22.0                LAL    26.0    58.0  0.448   \n 7                30.0                SAC    20.0    58.0  0.345   \n 8                29.0                MIA    18.0    58.0  0.310   \n 9                28.0                LAL    17.0    58.0  0.293   \n 10               31.0                CHH    13.0    58.0  0.224   \n 11                NaN                NaN     NaN     NaN    NaN   \n 12               35.0                SAS    13.0    58.0  0.224   \n 13               25.0                PHI    12.0    58.0  0.207   \n 14               22.0                PHO    12.0    58.0  0.207   \n 15               27.0                PHI    12.0    58.0  0.207   \n 16               37.0                UTA     9.0    58.0  0.155   \n 17               27.0                PHI     9.0    58.0  0.155   \n 18               30.0                PHI     8.0    58.0  0.138   \n 19               27.0                DAL     6.0    58.0  0.103   \n 20               28.0                MIA     6.0    58.0  0.103   \n 21               34.0                MIA     6.0    58.0  0.103   \n 22               30.0                NYK     6.0    58.0  0.103   \n 23               35.0                POR     5.0    58.0  0.086   \n 24               32.0                TOR     4.0    58.0  0.069   \n 25               29.0                ORL     4.0    58.0  0.069   \n 26               35.0                LAL     3.0    58.0  0.052   \n 27               21.0                ORL     3.0    58.0  0.052   \n 28               25.0                SEA     3.0    58.0  0.052   \n 29               34.0                PHO     3.0    58.0  0.052   \n 30               26.0                POR     3.0    58.0  0.052   \n 31               27.0                SAC     3.0    58.0  0.052   \n 32               28.0                IND     2.0    58.0  0.034   \n 33               24.0                TOR     2.0    58.0  0.034   \n 34               27.0                SAC     2.0    58.0  0.034   \n 35               37.0                TOR     2.0    58.0  0.034   \n 36               28.0                NYK     2.0    58.0  0.034   \n 37               26.0                DET     2.0    58.0  0.034   \n 38               30.0                CHH     2.0    58.0  0.034   \n 39               32.0                ORL     1.0    58.0  0.017   \n 40               28.0                DAL     1.0    58.0  0.017   \n 41               26.0                NYK     1.0    58.0  0.017   \n 42               31.0                MIL     1.0    58.0  0.017   \n 43               31.0                POR     1.0    58.0  0.017   \n 44               23.0                HOU     1.0    58.0  0.017   \n 45               32.0                PHI     1.0    58.0  0.017   \n 46               29.0                NYK     1.0    58.0  0.017   \n 47               33.0                MIL     1.0    58.0  0.017   \n 48               29.0                MIA     1.0    58.0  0.017   \n 49               24.0                CLE     1.0    58.0  0.017   \n 50               22.0                DAL     1.0    58.0  0.017   \n 51               38.0                UTA     1.0    58.0  0.017   \n \n    Unnamed: 8_level_0 Per Game  ...           Shooting               Advanced  \\\n                     G       MP  ...  STL  BLK      FG%    3P%    FT%       WS   \n 0                75.0     34.5  ...  0.4  2.7    0.484    NaN  0.725      8.1   \n 1                82.0     38.7  ...  0.9  2.3    0.499  0.259  0.618     13.2   \n 2                77.0     39.8  ...  2.2  0.3    0.411  0.297  0.814      9.6   \n 3                79.0     41.1  ...  1.6  0.3    0.456  0.375  0.766     10.8   \n 4                81.0     39.5  ...  1.4  1.8    0.477  0.288  0.764     11.8   \n 5                 NaN      NaN  ...  NaN  NaN      NaN    NaN    NaN      NaN   \n 6                68.0     40.9  ...  1.7  0.6    0.464  0.305  0.853     11.3   \n 7                81.0     36.3  ...  2.3  0.6    0.395  0.376  0.897      8.7   \n 8                82.0     32.7  ...  1.0  0.6    0.363  0.336  0.609      4.2   \n 9                74.0     39.5  ...  0.6  2.8    0.572  0.000  0.513     14.9   \n 10               80.0     35.1  ...  1.0  1.2    0.444  0.000  0.852      8.0   \n 11                NaN      NaN  ...  NaN  NaN      NaN    NaN    NaN      NaN   \n 12               80.0     29.6  ...  1.0  2.5    0.486  0.000  0.747     12.1   \n 13               71.0     42.0  ...  2.5  0.3    0.420  0.320  0.814     11.8   \n 14               79.0     36.2  ...  1.7  1.4    0.480  0.256  0.810     11.7   \n 15               50.0     34.8  ...  1.5  0.1    0.418  0.263  0.792      3.8   \n 16               81.0     35.7  ...  1.1  0.8    0.498  0.400  0.793     13.1   \n 17               50.0     36.0  ...  0.6  3.7    0.499    NaN  0.760      5.2   \n 18               82.0     32.3  ...  1.2  0.4    0.445  0.263  0.719      6.5   \n 19               82.0     42.0  ...  1.4  0.4    0.458  0.346  0.775      8.5   \n 20               82.0     33.8  ...  0.7  0.9    0.479  0.000  0.797      8.7   \n 21               80.0     40.7  ...  1.0  0.3    0.482    NaN  0.781     11.6   \n 22               77.0     39.2  ...  1.4  0.4    0.430  0.304  0.783      5.1   \n 23               64.0     33.3  ...  1.5  0.5    0.451  0.344  0.739      5.1   \n 24               78.0     35.0  ...  0.3  1.9    0.433  0.000  0.754      7.2   \n 25               80.0     31.7  ...  1.3  1.7    0.614  0.500  0.573      7.9   \n 26               77.0     31.0  ...  0.7  0.8    0.462  0.000  0.775      6.5   \n 27               77.0     40.1  ...  1.5  1.5    0.457  0.355  0.733     12.2   \n 28               76.0     27.1  ...  1.4  0.6    0.494  0.056  0.681      5.5   \n 29               82.0     33.5  ...  1.1  1.0    0.422  0.361  0.709      5.4   \n 30               77.0     38.2  ...  1.2  1.8    0.501  0.321  0.766     11.0   \n 31               70.0     40.5  ...  1.3  1.7    0.481  0.071  0.703     11.0   \n 32               77.0     31.9  ...  1.4  0.1    0.440  0.381  0.827      7.2   \n 33               75.0     39.7  ...  1.5  1.1    0.460  0.408  0.765     12.9   \n 34               79.0     20.9  ...  1.1  0.1    0.439  0.375  0.739      3.1   \n 35               78.0     35.5  ...  1.0  0.6    0.388  0.224  0.836      3.7   \n 36               77.0     27.6  ...  0.8  0.9    0.511  0.333  0.814      8.2   \n 37               80.0     34.5  ...  1.3  2.3    0.490  0.250  0.336      7.0   \n 38               82.0     37.9  ...  1.6  0.2    0.422  0.376  0.799      7.6   \n 39               75.0     36.9  ...  1.8  0.2    0.412  0.355  0.884      8.7   \n 40               82.0     24.4  ...  0.4  2.8    0.490  0.167  0.787      6.3   \n 41               63.0     33.8  ...  1.0  2.2    0.524  0.125  0.667     10.3   \n 42               76.0     35.6  ...  1.2  0.1    0.474  0.306  0.858      8.5   \n 43               81.0     26.7  ...  0.5  0.9    0.497  0.000  0.632      6.6   \n 44               80.0     39.9  ...  1.8  0.4    0.451  0.396  0.817     12.2   \n 45               76.0     31.1  ...  0.5  0.4    0.474  0.000  0.630      5.5   \n 46               78.0     36.6  ...  0.7  0.1    0.449  0.381  0.909      7.5   \n 47               82.0     24.2  ...  0.5  1.2    0.545    NaN  0.538      5.1   \n 48               63.0     36.2  ...  1.7  0.9    0.445  0.378  0.844      7.9   \n 49               82.0     34.7  ...  1.5  0.3    0.452  0.266  0.833      8.0   \n 50               82.0     38.1  ...  1.0  1.2    0.474  0.387  0.838     14.6   \n 51               82.0     29.2  ...  1.6  0.3    0.504  0.462  0.817     10.8   \n \n                             \n     WS/48  DWS DBPM   DRtg  \n 0   0.151  4.7  1.3   97.0  \n 1   0.200  7.1  1.8   94.0  \n 2   0.150  5.4  1.7   97.0  \n 3   0.160  1.7 -0.7  107.0  \n 4   0.176  4.8  1.4   99.0  \n 5     NaN  NaN  NaN    NaN  \n 6   0.196  2.2 -0.3  105.0  \n 7   0.141  4.4  2.3   99.0  \n 8   0.075  3.7  1.5  100.0  \n 9   0.245  3.9  0.7  101.0  \n 10  0.137  4.7  0.9   98.0  \n 11    NaN  NaN  NaN    NaN  \n 12  0.246  5.7  2.7   92.0  \n 13  0.190  4.5  1.1   99.0  \n 14  0.196  6.4  1.8   93.0  \n 15  0.105  2.3  0.9  101.0  \n 16  0.217  4.0  1.1  100.0  \n 17  0.138  3.5  2.7   96.0  \n 18  0.118  4.2  1.3   99.0  \n 19  0.119  2.9 -0.5  105.0  \n 20  0.151  5.0  0.2   97.0  \n 21  0.171  5.6  1.1   98.0  \n 22  0.082  4.6  0.8   99.0  \n 23  0.115  2.7  1.2  101.0  \n 24  0.127  3.1 -0.8  102.0  \n 25  0.150  4.0  2.6   99.0  \n 26  0.130  1.7 -0.6  106.0  \n 27  0.189  3.9  0.5  101.0  \n 28  0.128  1.7 -0.1  105.0  \n 29  0.095  3.9  0.4  100.0  \n 30  0.180  4.2  1.1  100.0  \n 31  0.186  5.2  1.4   97.0  \n 32  0.140  2.3  0.6  104.0  \n 33  0.208  2.6  0.1  104.0  \n 34  0.091  2.3  1.3  100.0  \n 35  0.065  3.5  0.8  101.0  \n 36  0.185  4.1  1.4   96.0  \n 37  0.121  6.0  2.5   94.0  \n 38  0.117  3.4  0.0  103.0  \n 39  0.151  2.9  0.1  103.0  \n 40  0.151  3.8  2.5   96.0  \n 41  0.233  5.5  2.5   91.0  \n 42  0.150  1.4 -1.5  107.0  \n 43  0.147  2.8 -0.1  101.0  \n 44  0.184  3.0  0.5  104.0  \n 45  0.111  3.5 -0.8   99.0  \n 46  0.126  3.5 -0.1  102.0  \n 47  0.123  2.5  0.5  101.0  \n 48  0.166  4.0  2.1   97.0  \n 49  0.136  1.9 -0.2  106.0  \n 50  0.224  4.3  0.5  100.0  \n 51  0.216  2.6  1.2  103.0  \n \n [52 rows x 23 columns],\n    Unnamed: 0_level_0 Unnamed: 1_level_0 Unnamed: 2_level_0  \\\n                  # Tm                Pos             Player   \n 0                 1st                  C        Ben Wallace   \n 1                 1st                  G        Gary Payton   \n 2                 1st                  F         Tim Duncan   \n 3                 1st                  G         Jason Kidd   \n 4                 1st                  F      Kevin Garnett   \n 5                 NaN                NaN                NaN   \n 6                 2nd                  G        Kobe Bryant   \n 7                 2nd                  C    Dikembe Mutombo   \n 8                 2nd                  G      Doug Christie   \n 9                 2nd                  F        Bruce Bowen   \n 10                2nd                  F  Clifford Robinson   \n 11                NaN                NaN                NaN   \n 12                ORV                  C   Shaquille O'Neal   \n 13                ORV                  G          Eric Snow   \n 14                ORV                  F     Scottie Pippen   \n 15                ORV                  G      Tracy McGrady   \n 16                ORV                  F         P.J. Brown   \n 17                ORV                  F      Antonio Davis   \n 18                ORV                  F      Kenyon Martin   \n 19                ORV                  F        Karl Malone   \n 20                ORV                  F  Metta World Peace   \n 21                ORV                  G  Darrell Armstrong   \n 22                ORV                  F        Brian Grant   \n 23                ORV                  C    Alonzo Mourning   \n 24                ORV                  C    Jermaine O'Neal   \n 25                ORV                  F        Kurt Thomas   \n 26                ORV                  G     Michael Finley   \n 27                ORV                  F           Rick Fox   \n 28                ORV                  F       Horace Grant   \n 29                ORV                  F       Robert Horry   \n 30                ORV                  G      Allen Iverson   \n 31                ORV                  F       Shawn Marion   \n 32                ORV                  F    Ruben Patterson   \n 33                ORV                  C     David Robinson   \n 34                ORV                  F       Chris Webber   \n 35                ORV                  G        Baron Davis   \n 36                ORV                  F         Dale Davis   \n 37                ORV                  G      Bobby Jackson   \n 38                ORV                  G        Eddie Jones   \n 39                ORV                  F   Andrei Kirilenko   \n 40                ORV                  F       Darius Miles   \n 41                ORV                  G       Andre Miller   \n 42                ORV                  G        Paul Pierce   \n 43                ORV                  F         Malik Rose   \n 44                ORV                  G   Latrell Sprewell   \n 45                ORV                  G      John Stockton   \n 46                ORV                  F    Jerome Williams   \n \n    Unnamed: 3_level_0 Unnamed: 4_level_0  Voting                 \\\n                   Age                 Tm Pts Won Pts Max  Share   \n 0                27.0                DET    51.0    58.0  0.879   \n 1                33.0                SEA    47.0    58.0  0.810   \n 2                25.0                SAS    40.0    58.0  0.690   \n 3                28.0                NJN    37.0    58.0  0.638   \n 4                25.0                MIN    27.0    58.0  0.466   \n 5                 NaN                NaN     NaN     NaN    NaN   \n 6                23.0                LAL    32.0    58.0  0.552   \n 7                35.0                PHI    27.0    58.0  0.466   \n 8                31.0                SAC    25.0    58.0  0.431   \n 9                30.0                SAS    21.0    58.0  0.362   \n 10               35.0                DET    14.0    58.0  0.241   \n 11                NaN                NaN     NaN     NaN    NaN   \n 12               29.0                LAL    15.0    58.0  0.259   \n 13               28.0                PHI    12.0    58.0  0.207   \n 14               36.0                POR     9.0    58.0  0.155   \n 15               22.0                ORL     8.0    58.0  0.138   \n 16               32.0                CHH     7.0    58.0  0.121   \n 17               33.0                TOR     5.0    58.0  0.086   \n 18               24.0                NJN     5.0    58.0  0.086   \n 19               38.0                UTA     4.0    58.0  0.069   \n 20               22.0                TOT     4.0    58.0  0.069   \n 21               33.0                ORL     3.0    58.0  0.052   \n 22               29.0                MIA     3.0    58.0  0.052   \n 23               31.0                MIA     3.0    58.0  0.052   \n 24               23.0                IND     3.0    58.0  0.052   \n 25               29.0                NYK     3.0    58.0  0.052   \n 26               28.0                DAL     2.0    58.0  0.034   \n 27               32.0                LAL     2.0    58.0  0.034   \n 28               36.0                ORL     2.0    58.0  0.034   \n 29               31.0                LAL     2.0    58.0  0.034   \n 30               26.0                PHI     2.0    58.0  0.034   \n 31               23.0                PHO     2.0    58.0  0.034   \n 32               26.0                POR     2.0    58.0  0.034   \n 33               36.0                SAS     2.0    58.0  0.034   \n 34               28.0                SAC     2.0    58.0  0.034   \n 35               22.0                CHH     1.0    58.0  0.017   \n 36               32.0                POR     1.0    58.0  0.017   \n 37               28.0                SAC     1.0    58.0  0.017   \n 38               30.0                MIA     1.0    58.0  0.017   \n 39               20.0                UTA     1.0    58.0  0.017   \n 40               20.0                LAC     1.0    58.0  0.017   \n 41               25.0                CLE     1.0    58.0  0.017   \n 42               24.0                BOS     1.0    58.0  0.017   \n 43               27.0                SAS     1.0    58.0  0.017   \n 44               31.0                NYK     1.0    58.0  0.017   \n 45               39.0                UTA     1.0    58.0  0.017   \n 46               28.0                TOR     1.0    58.0  0.017   \n \n    Unnamed: 8_level_0 Per Game  ...           Shooting               Advanced  \\\n                     G       MP  ...  STL  BLK      FG%    3P%    FT%       WS   \n 0                80.0     36.5  ...  1.7  3.5    0.531  0.000  0.423     11.6   \n 1                82.0     40.3  ...  1.6  0.3    0.467  0.314  0.797     12.6   \n 2                82.0     40.6  ...  0.7  2.5    0.508  0.100  0.799     17.8   \n 3                82.0     37.3  ...  2.1  0.2    0.391  0.321  0.814      8.9   \n 4                81.0     39.2  ...  1.2  1.6    0.470  0.319  0.801     12.8   \n 5                 NaN      NaN  ...  NaN  NaN      NaN    NaN    NaN      NaN   \n 6                80.0     38.3  ...  1.5  0.4    0.469  0.250  0.829     12.7   \n 7                80.0     36.3  ...  0.4  2.4    0.501    NaN  0.764      9.6   \n 8                81.0     34.5  ...  2.0  0.3    0.460  0.352  0.851      8.6   \n 9                59.0     28.8  ...  1.1  0.4    0.389  0.378  0.479      1.9   \n 10               80.0     35.7  ...  1.1  1.2    0.425  0.378  0.694      4.3   \n 11                NaN      NaN  ...  NaN  NaN      NaN    NaN    NaN      NaN   \n 12               67.0     36.1  ...  0.6  2.0    0.579  0.000  0.555     13.2   \n 13               61.0     36.5  ...  1.6  0.1    0.442  0.111  0.806      5.5   \n 14               62.0     32.2  ...  1.6  0.6    0.411  0.305  0.774      3.7   \n 15               76.0     38.3  ...  1.6  1.0    0.451  0.364  0.748     11.5   \n 16               80.0     32.0  ...  0.7  1.0    0.474    NaN  0.858      8.2   \n 17               77.0     38.7  ...  0.7  1.1    0.426  0.000  0.818      6.5   \n 18               73.0     34.3  ...  1.2  1.7    0.463  0.224  0.678      4.9   \n 19               80.0     38.0  ...  1.9  0.7    0.454  0.360  0.797      9.8   \n 20               55.0     29.9  ...  2.6  0.7    0.423  0.312  0.667      2.7   \n 21               82.0     33.3  ...  1.9  0.1    0.419  0.349  0.888      7.6   \n 22               72.0     31.3  ...  0.7  0.4    0.469  0.000  0.849      4.8   \n 23               75.0     32.7  ...  0.4  2.5    0.516  0.333  0.657      7.4   \n 24               72.0     37.6  ...  0.6  2.3    0.479  0.071  0.688      6.4   \n 25               82.0     33.8  ...  0.9  1.0    0.494  0.167  0.815      6.5   \n 26               69.0     39.9  ...  0.9  0.4    0.463  0.339  0.837      6.3   \n 27               82.0     27.9  ...  0.8  0.3    0.421  0.313  0.824      4.3   \n 28               76.0     29.1  ...  0.8  0.6    0.513    NaN  0.721      5.6   \n 29               81.0     26.4  ...  1.0  1.1    0.398  0.374  0.783      6.9   \n 30               60.0     43.7  ...  2.8  0.2    0.398  0.291  0.812      6.9   \n 31               81.0     38.4  ...  1.8  1.1    0.469  0.393  0.845      9.8   \n 32               75.0     23.5  ...  1.1  0.5    0.515  0.250  0.701      5.6   \n 33               78.0     29.5  ...  1.1  1.8    0.507    NaN  0.681     10.1   \n 34               54.0     38.4  ...  1.7  1.4    0.495  0.263  0.749      8.6   \n 35               82.0     40.5  ...  2.1  0.6    0.417  0.356  0.580      8.2   \n 36               78.0     31.4  ...  0.8  1.1    0.510    NaN  0.708      8.5   \n 37               81.0     21.6  ...  0.9  0.1    0.443  0.361  0.810      5.4   \n 38               81.0     39.0  ...  1.4  1.0    0.432  0.390  0.837     10.5   \n 39               82.0     26.2  ...  1.4  1.9    0.450  0.250  0.768      7.3   \n 40               82.0     27.2  ...  0.9  1.3    0.481  0.158  0.620      3.4   \n 41               81.0     37.3  ...  1.6  0.4    0.454  0.253  0.817     10.3   \n 42               82.0     40.3  ...  1.9  1.0    0.442  0.404  0.809     12.9   \n 43               82.0     21.0  ...  0.9  0.5    0.463  0.083  0.720      4.4   \n 44               81.0     41.1  ...  1.2  0.2    0.404  0.360  0.821      2.8   \n 45               82.0     31.3  ...  1.9  0.3    0.517  0.321  0.857     10.7   \n 46               68.0     24.1  ...  1.1  0.4    0.490    NaN  0.676      5.0   \n \n                             \n     WS/48  DWS DBPM   DRtg  \n 0   0.190  7.2  3.3   93.0  \n 1   0.183  2.5 -0.2  107.0  \n 2   0.257  7.1  2.2   96.0  \n 3   0.140  5.8  1.5   98.0  \n 4   0.194  4.9  1.8  101.0  \n 5     NaN  NaN  NaN    NaN  \n 6   0.199  3.8  0.3  103.0  \n 7   0.158  5.5  1.2   98.0  \n 8   0.148  4.2  2.2  101.0  \n 9   0.054  2.2  1.2  102.0  \n 10  0.073  3.5  0.1  103.0  \n 11    NaN  NaN  NaN    NaN  \n 12  0.262  4.0  0.9   99.0  \n 13  0.119  2.9  0.9  102.0  \n 14  0.090  2.6  1.6  102.0  \n 15  0.189  3.4  0.4  103.0  \n 16  0.154  3.6  0.2  101.0  \n 17  0.105  3.6 -0.4  103.0  \n 18  0.093  4.2  1.4   99.0  \n 19  0.155  4.3  0.8  101.0  \n 20  0.079  2.7  3.0  100.0  \n 21  0.134  2.6  0.8  105.0  \n 22  0.103  3.7  0.7  100.0  \n 23  0.145  4.8  1.4   97.0  \n 24  0.113  4.1  0.2  101.0  \n 25  0.112  3.4  0.0  103.0  \n 26  0.110  1.0 -1.2  110.0  \n 27  0.091  2.8  0.6  103.0  \n 28  0.122  2.0 -0.1  105.0  \n 29  0.154  3.6  2.4   99.0  \n 30  0.126  4.3  0.8  100.0  \n 31  0.151  5.1  1.1  100.0  \n 32  0.151  1.9  0.2  104.0  \n 33  0.211  5.1  2.2   95.0  \n 34  0.200  3.9  1.6   98.0  \n 35  0.118  3.8  0.4  104.0  \n 36  0.168  3.1  0.1  103.0  \n 37  0.148  2.2  0.4  103.0  \n 38  0.160  5.0  1.7  100.0  \n 39  0.164  3.3  1.9  100.0  \n 40  0.074  2.6  1.3  104.0  \n 41  0.163  1.5 -0.3  109.0  \n 42  0.187  5.6  1.3   99.0  \n 43  0.123  3.4  0.3   97.0  \n 44  0.041  1.7 -1.1  109.0  \n 45  0.200  2.6  1.3  105.0  \n 46  0.147  2.3  0.8  102.0  \n \n [47 rows x 23 columns]]"
     },
     "execution_count": 62,
     "metadata": {},
     "output_type": "execute_result"
    }
   ],
   "source": [
    "dfs3"
   ],
   "metadata": {
    "collapsed": false,
    "ExecuteTime": {
     "end_time": "2024-06-09T07:41:17.485521Z",
     "start_time": "2024-06-09T07:41:17.418261Z"
    }
   },
   "id": "c5538ee75e82b3d6",
   "execution_count": 62
  },
  {
   "cell_type": "code",
   "outputs": [],
   "source": [
    "df_3 = pd.concat(dfs3)"
   ],
   "metadata": {
    "collapsed": false,
    "ExecuteTime": {
     "end_time": "2024-06-09T07:42:04.190390Z",
     "start_time": "2024-06-09T07:42:04.187821Z"
    }
   },
   "id": "7ab92ae32dcaf73e",
   "execution_count": 63
  },
  {
   "cell_type": "code",
   "outputs": [
    {
     "data": {
      "text/plain": "   Unnamed: 0_level_0 Unnamed: 1_level_0 Unnamed: 2_level_0  \\\n                 # Tm                Pos             Player   \n0                 1st                  F     Scottie Pippen   \n1                 1st                  G     Michael Jordan   \n2                 1st                  C    Dikembe Mutombo   \n3                 1st                  G        Gary Payton   \n4                 1st                  F        Karl Malone   \n..                ...                ...                ...   \n42                ORV                  G        Paul Pierce   \n43                ORV                  F         Malik Rose   \n44                ORV                  G   Latrell Sprewell   \n45                ORV                  G      John Stockton   \n46                ORV                  F    Jerome Williams   \n\n   Unnamed: 3_level_0 Unnamed: 4_level_0  Voting                 \\\n                  Age                 Tm Pts Won Pts Max  Share   \n0                31.0                CHI    53.0    58.0  0.914   \n1                33.0                CHI    51.0    58.0  0.879   \n2                30.0                ATL    50.0    58.0  0.862   \n3                28.0                SEA    49.0    58.0  0.845   \n4                33.0                UTA    25.0    58.0  0.431   \n..                ...                ...     ...     ...    ...   \n42               24.0                BOS     1.0    58.0  0.017   \n43               27.0                SAS     1.0    58.0  0.017   \n44               31.0                NYK     1.0    58.0  0.017   \n45               39.0                UTA     1.0    58.0  0.017   \n46               28.0                TOR     1.0    58.0  0.017   \n\n   Unnamed: 8_level_0 Per Game  ...           Shooting               Advanced  \\\n                    G       MP  ...  STL  BLK      FG%    3P%    FT%       WS   \n0                82.0     37.7  ...  1.9  0.5    0.474  0.368  0.701     13.1   \n1                82.0     37.9  ...  1.7  0.5    0.486  0.374  0.833     18.3   \n2                80.0     37.2  ...  0.6  3.3    0.527    NaN  0.705     11.3   \n3                82.0     39.2  ...  2.4  0.2    0.476  0.313  0.715     12.9   \n4                82.0     36.6  ...  1.4  0.6    0.550  0.000  0.755     16.7   \n..                ...      ...  ...  ...  ...      ...    ...    ...      ...   \n42               82.0     40.3  ...  1.9  1.0    0.442  0.404  0.809     12.9   \n43               82.0     21.0  ...  0.9  0.5    0.463  0.083  0.720      4.4   \n44               81.0     41.1  ...  1.2  0.2    0.404  0.360  0.821      2.8   \n45               82.0     31.3  ...  1.9  0.3    0.517  0.321  0.857     10.7   \n46               68.0     24.1  ...  1.1  0.4    0.490    NaN  0.676      5.0   \n\n                            \n    WS/48  DWS DBPM   DRtg  \n0   0.203  5.2  1.4  101.0  \n1   0.283  5.0  1.1  102.0  \n2   0.183  6.6  2.4   97.0  \n3   0.193  4.7  1.1  103.0  \n4   0.268  5.1  1.2  101.0  \n..    ...  ...  ...    ...  \n42  0.187  5.6  1.3   99.0  \n43  0.123  3.4  0.3   97.0  \n44  0.041  1.7 -1.1  109.0  \n45  0.200  2.6  1.3  105.0  \n46  0.147  2.3  0.8  102.0  \n\n[265 rows x 23 columns]",
      "text/html": "<div>\n<style scoped>\n    .dataframe tbody tr th:only-of-type {\n        vertical-align: middle;\n    }\n\n    .dataframe tbody tr th {\n        vertical-align: top;\n    }\n\n    .dataframe thead tr th {\n        text-align: left;\n    }\n</style>\n<table border=\"1\" class=\"dataframe\">\n  <thead>\n    <tr>\n      <th></th>\n      <th>Unnamed: 0_level_0</th>\n      <th>Unnamed: 1_level_0</th>\n      <th>Unnamed: 2_level_0</th>\n      <th>Unnamed: 3_level_0</th>\n      <th>Unnamed: 4_level_0</th>\n      <th colspan=\"3\" halign=\"left\">Voting</th>\n      <th>Unnamed: 8_level_0</th>\n      <th colspan=\"4\" halign=\"left\">Per Game</th>\n      <th colspan=\"3\" halign=\"left\">Shooting</th>\n      <th colspan=\"5\" halign=\"left\">Advanced</th>\n    </tr>\n    <tr>\n      <th></th>\n      <th># Tm</th>\n      <th>Pos</th>\n      <th>Player</th>\n      <th>Age</th>\n      <th>Tm</th>\n      <th>Pts Won</th>\n      <th>Pts Max</th>\n      <th>Share</th>\n      <th>G</th>\n      <th>MP</th>\n      <th>...</th>\n      <th>STL</th>\n      <th>BLK</th>\n      <th>FG%</th>\n      <th>3P%</th>\n      <th>FT%</th>\n      <th>WS</th>\n      <th>WS/48</th>\n      <th>DWS</th>\n      <th>DBPM</th>\n      <th>DRtg</th>\n    </tr>\n  </thead>\n  <tbody>\n    <tr>\n      <th>0</th>\n      <td>1st</td>\n      <td>F</td>\n      <td>Scottie Pippen</td>\n      <td>31.0</td>\n      <td>CHI</td>\n      <td>53.0</td>\n      <td>58.0</td>\n      <td>0.914</td>\n      <td>82.0</td>\n      <td>37.7</td>\n      <td>...</td>\n      <td>1.9</td>\n      <td>0.5</td>\n      <td>0.474</td>\n      <td>0.368</td>\n      <td>0.701</td>\n      <td>13.1</td>\n      <td>0.203</td>\n      <td>5.2</td>\n      <td>1.4</td>\n      <td>101.0</td>\n    </tr>\n    <tr>\n      <th>1</th>\n      <td>1st</td>\n      <td>G</td>\n      <td>Michael Jordan</td>\n      <td>33.0</td>\n      <td>CHI</td>\n      <td>51.0</td>\n      <td>58.0</td>\n      <td>0.879</td>\n      <td>82.0</td>\n      <td>37.9</td>\n      <td>...</td>\n      <td>1.7</td>\n      <td>0.5</td>\n      <td>0.486</td>\n      <td>0.374</td>\n      <td>0.833</td>\n      <td>18.3</td>\n      <td>0.283</td>\n      <td>5.0</td>\n      <td>1.1</td>\n      <td>102.0</td>\n    </tr>\n    <tr>\n      <th>2</th>\n      <td>1st</td>\n      <td>C</td>\n      <td>Dikembe Mutombo</td>\n      <td>30.0</td>\n      <td>ATL</td>\n      <td>50.0</td>\n      <td>58.0</td>\n      <td>0.862</td>\n      <td>80.0</td>\n      <td>37.2</td>\n      <td>...</td>\n      <td>0.6</td>\n      <td>3.3</td>\n      <td>0.527</td>\n      <td>NaN</td>\n      <td>0.705</td>\n      <td>11.3</td>\n      <td>0.183</td>\n      <td>6.6</td>\n      <td>2.4</td>\n      <td>97.0</td>\n    </tr>\n    <tr>\n      <th>3</th>\n      <td>1st</td>\n      <td>G</td>\n      <td>Gary Payton</td>\n      <td>28.0</td>\n      <td>SEA</td>\n      <td>49.0</td>\n      <td>58.0</td>\n      <td>0.845</td>\n      <td>82.0</td>\n      <td>39.2</td>\n      <td>...</td>\n      <td>2.4</td>\n      <td>0.2</td>\n      <td>0.476</td>\n      <td>0.313</td>\n      <td>0.715</td>\n      <td>12.9</td>\n      <td>0.193</td>\n      <td>4.7</td>\n      <td>1.1</td>\n      <td>103.0</td>\n    </tr>\n    <tr>\n      <th>4</th>\n      <td>1st</td>\n      <td>F</td>\n      <td>Karl Malone</td>\n      <td>33.0</td>\n      <td>UTA</td>\n      <td>25.0</td>\n      <td>58.0</td>\n      <td>0.431</td>\n      <td>82.0</td>\n      <td>36.6</td>\n      <td>...</td>\n      <td>1.4</td>\n      <td>0.6</td>\n      <td>0.550</td>\n      <td>0.000</td>\n      <td>0.755</td>\n      <td>16.7</td>\n      <td>0.268</td>\n      <td>5.1</td>\n      <td>1.2</td>\n      <td>101.0</td>\n    </tr>\n    <tr>\n      <th>...</th>\n      <td>...</td>\n      <td>...</td>\n      <td>...</td>\n      <td>...</td>\n      <td>...</td>\n      <td>...</td>\n      <td>...</td>\n      <td>...</td>\n      <td>...</td>\n      <td>...</td>\n      <td>...</td>\n      <td>...</td>\n      <td>...</td>\n      <td>...</td>\n      <td>...</td>\n      <td>...</td>\n      <td>...</td>\n      <td>...</td>\n      <td>...</td>\n      <td>...</td>\n      <td>...</td>\n    </tr>\n    <tr>\n      <th>42</th>\n      <td>ORV</td>\n      <td>G</td>\n      <td>Paul Pierce</td>\n      <td>24.0</td>\n      <td>BOS</td>\n      <td>1.0</td>\n      <td>58.0</td>\n      <td>0.017</td>\n      <td>82.0</td>\n      <td>40.3</td>\n      <td>...</td>\n      <td>1.9</td>\n      <td>1.0</td>\n      <td>0.442</td>\n      <td>0.404</td>\n      <td>0.809</td>\n      <td>12.9</td>\n      <td>0.187</td>\n      <td>5.6</td>\n      <td>1.3</td>\n      <td>99.0</td>\n    </tr>\n    <tr>\n      <th>43</th>\n      <td>ORV</td>\n      <td>F</td>\n      <td>Malik Rose</td>\n      <td>27.0</td>\n      <td>SAS</td>\n      <td>1.0</td>\n      <td>58.0</td>\n      <td>0.017</td>\n      <td>82.0</td>\n      <td>21.0</td>\n      <td>...</td>\n      <td>0.9</td>\n      <td>0.5</td>\n      <td>0.463</td>\n      <td>0.083</td>\n      <td>0.720</td>\n      <td>4.4</td>\n      <td>0.123</td>\n      <td>3.4</td>\n      <td>0.3</td>\n      <td>97.0</td>\n    </tr>\n    <tr>\n      <th>44</th>\n      <td>ORV</td>\n      <td>G</td>\n      <td>Latrell Sprewell</td>\n      <td>31.0</td>\n      <td>NYK</td>\n      <td>1.0</td>\n      <td>58.0</td>\n      <td>0.017</td>\n      <td>81.0</td>\n      <td>41.1</td>\n      <td>...</td>\n      <td>1.2</td>\n      <td>0.2</td>\n      <td>0.404</td>\n      <td>0.360</td>\n      <td>0.821</td>\n      <td>2.8</td>\n      <td>0.041</td>\n      <td>1.7</td>\n      <td>-1.1</td>\n      <td>109.0</td>\n    </tr>\n    <tr>\n      <th>45</th>\n      <td>ORV</td>\n      <td>G</td>\n      <td>John Stockton</td>\n      <td>39.0</td>\n      <td>UTA</td>\n      <td>1.0</td>\n      <td>58.0</td>\n      <td>0.017</td>\n      <td>82.0</td>\n      <td>31.3</td>\n      <td>...</td>\n      <td>1.9</td>\n      <td>0.3</td>\n      <td>0.517</td>\n      <td>0.321</td>\n      <td>0.857</td>\n      <td>10.7</td>\n      <td>0.200</td>\n      <td>2.6</td>\n      <td>1.3</td>\n      <td>105.0</td>\n    </tr>\n    <tr>\n      <th>46</th>\n      <td>ORV</td>\n      <td>F</td>\n      <td>Jerome Williams</td>\n      <td>28.0</td>\n      <td>TOR</td>\n      <td>1.0</td>\n      <td>58.0</td>\n      <td>0.017</td>\n      <td>68.0</td>\n      <td>24.1</td>\n      <td>...</td>\n      <td>1.1</td>\n      <td>0.4</td>\n      <td>0.490</td>\n      <td>NaN</td>\n      <td>0.676</td>\n      <td>5.0</td>\n      <td>0.147</td>\n      <td>2.3</td>\n      <td>0.8</td>\n      <td>102.0</td>\n    </tr>\n  </tbody>\n</table>\n<p>265 rows × 23 columns</p>\n</div>"
     },
     "execution_count": 64,
     "metadata": {},
     "output_type": "execute_result"
    }
   ],
   "source": [
    "df_3"
   ],
   "metadata": {
    "collapsed": false,
    "ExecuteTime": {
     "end_time": "2024-06-09T07:42:09.046583Z",
     "start_time": "2024-06-09T07:42:09.029105Z"
    }
   },
   "id": "44ae9fbdf5795b00",
   "execution_count": 64
  },
  {
   "cell_type": "code",
   "outputs": [],
   "source": [
    "df_3.to_csv(\"all_defense_new.csv\")"
   ],
   "metadata": {
    "collapsed": false,
    "ExecuteTime": {
     "end_time": "2024-06-09T07:42:53.649313Z",
     "start_time": "2024-06-09T07:42:53.644988Z"
    }
   },
   "id": "928c1d8a749e8bb8",
   "execution_count": 65
  },
  {
   "cell_type": "code",
   "outputs": [],
   "source": [
    "defense1 = pd.read_csv(\"all_defense_new.csv\")"
   ],
   "metadata": {
    "collapsed": false,
    "ExecuteTime": {
     "end_time": "2024-06-09T07:51:08.155415Z",
     "start_time": "2024-06-09T07:51:08.152344Z"
    }
   },
   "id": "a40f47e60a7efb9a",
   "execution_count": 66
  },
  {
   "cell_type": "code",
   "outputs": [
    {
     "data": {
      "text/plain": "    # Tm            Player Team  Pts Won  Pts Max  Share  Season\n0    1st    Scottie Pippen  CHI       53       58  0.914    1997\n1    1st    Michael Jordan  CHI       51       58  0.879    1997\n2    1st   Dikembe Mutombo  ATL       50       58  0.862    1997\n3    1st       Gary Payton  SEA       49       58  0.845    1997\n4    1st       Karl Malone  UTA       25       58  0.431    1997\n..   ...               ...  ...      ...      ...    ...     ...\n248  ORV       Paul Pierce  BOS        1       58  0.017    2002\n249  ORV        Malik Rose  SAS        1       58  0.017    2002\n250  ORV  Latrell Sprewell  NYK        1       58  0.017    2002\n251  ORV     John Stockton  UTA        1       58  0.017    2002\n252  ORV   Jerome Williams  TOR        1       58  0.017    2002\n\n[253 rows x 7 columns]",
      "text/html": "<div>\n<style scoped>\n    .dataframe tbody tr th:only-of-type {\n        vertical-align: middle;\n    }\n\n    .dataframe tbody tr th {\n        vertical-align: top;\n    }\n\n    .dataframe thead th {\n        text-align: right;\n    }\n</style>\n<table border=\"1\" class=\"dataframe\">\n  <thead>\n    <tr style=\"text-align: right;\">\n      <th></th>\n      <th># Tm</th>\n      <th>Player</th>\n      <th>Team</th>\n      <th>Pts Won</th>\n      <th>Pts Max</th>\n      <th>Share</th>\n      <th>Season</th>\n    </tr>\n  </thead>\n  <tbody>\n    <tr>\n      <th>0</th>\n      <td>1st</td>\n      <td>Scottie Pippen</td>\n      <td>CHI</td>\n      <td>53</td>\n      <td>58</td>\n      <td>0.914</td>\n      <td>1997</td>\n    </tr>\n    <tr>\n      <th>1</th>\n      <td>1st</td>\n      <td>Michael Jordan</td>\n      <td>CHI</td>\n      <td>51</td>\n      <td>58</td>\n      <td>0.879</td>\n      <td>1997</td>\n    </tr>\n    <tr>\n      <th>2</th>\n      <td>1st</td>\n      <td>Dikembe Mutombo</td>\n      <td>ATL</td>\n      <td>50</td>\n      <td>58</td>\n      <td>0.862</td>\n      <td>1997</td>\n    </tr>\n    <tr>\n      <th>3</th>\n      <td>1st</td>\n      <td>Gary Payton</td>\n      <td>SEA</td>\n      <td>49</td>\n      <td>58</td>\n      <td>0.845</td>\n      <td>1997</td>\n    </tr>\n    <tr>\n      <th>4</th>\n      <td>1st</td>\n      <td>Karl Malone</td>\n      <td>UTA</td>\n      <td>25</td>\n      <td>58</td>\n      <td>0.431</td>\n      <td>1997</td>\n    </tr>\n    <tr>\n      <th>...</th>\n      <td>...</td>\n      <td>...</td>\n      <td>...</td>\n      <td>...</td>\n      <td>...</td>\n      <td>...</td>\n      <td>...</td>\n    </tr>\n    <tr>\n      <th>248</th>\n      <td>ORV</td>\n      <td>Paul Pierce</td>\n      <td>BOS</td>\n      <td>1</td>\n      <td>58</td>\n      <td>0.017</td>\n      <td>2002</td>\n    </tr>\n    <tr>\n      <th>249</th>\n      <td>ORV</td>\n      <td>Malik Rose</td>\n      <td>SAS</td>\n      <td>1</td>\n      <td>58</td>\n      <td>0.017</td>\n      <td>2002</td>\n    </tr>\n    <tr>\n      <th>250</th>\n      <td>ORV</td>\n      <td>Latrell Sprewell</td>\n      <td>NYK</td>\n      <td>1</td>\n      <td>58</td>\n      <td>0.017</td>\n      <td>2002</td>\n    </tr>\n    <tr>\n      <th>251</th>\n      <td>ORV</td>\n      <td>John Stockton</td>\n      <td>UTA</td>\n      <td>1</td>\n      <td>58</td>\n      <td>0.017</td>\n      <td>2002</td>\n    </tr>\n    <tr>\n      <th>252</th>\n      <td>ORV</td>\n      <td>Jerome Williams</td>\n      <td>TOR</td>\n      <td>1</td>\n      <td>58</td>\n      <td>0.017</td>\n      <td>2002</td>\n    </tr>\n  </tbody>\n</table>\n<p>253 rows × 7 columns</p>\n</div>"
     },
     "execution_count": 67,
     "metadata": {},
     "output_type": "execute_result"
    }
   ],
   "source": [
    "defense1"
   ],
   "metadata": {
    "collapsed": false,
    "ExecuteTime": {
     "end_time": "2024-06-09T07:51:11.033780Z",
     "start_time": "2024-06-09T07:51:11.028409Z"
    }
   },
   "id": "9bed939af2f84482",
   "execution_count": 67
  },
  {
   "cell_type": "code",
   "outputs": [],
   "source": [
    "defense1['Team'] = defense1['Team'].replace(team_names)"
   ],
   "metadata": {
    "collapsed": false,
    "ExecuteTime": {
     "end_time": "2024-06-09T07:51:41.739550Z",
     "start_time": "2024-06-09T07:51:41.736553Z"
    }
   },
   "id": "c4a1928d39e5ccd2",
   "execution_count": 68
  },
  {
   "cell_type": "code",
   "outputs": [
    {
     "data": {
      "text/plain": "    # Tm            Player                 Team  Pts Won  Pts Max  Share  \\\n0    1st    Scottie Pippen        Chicago Bulls       53       58  0.914   \n1    1st    Michael Jordan        Chicago Bulls       51       58  0.879   \n2    1st   Dikembe Mutombo        Atlanta Hawks       50       58  0.862   \n3    1st       Gary Payton  Seattle SuperSonics       49       58  0.845   \n4    1st       Karl Malone            Utah Jazz       25       58  0.431   \n..   ...               ...                  ...      ...      ...    ...   \n248  ORV       Paul Pierce       Boston Celtics        1       58  0.017   \n249  ORV        Malik Rose    San Antonio Spurs        1       58  0.017   \n250  ORV  Latrell Sprewell      New York Knicks        1       58  0.017   \n251  ORV     John Stockton            Utah Jazz        1       58  0.017   \n252  ORV   Jerome Williams      Toronto Raptors        1       58  0.017   \n\n     Season  \n0      1997  \n1      1997  \n2      1997  \n3      1997  \n4      1997  \n..      ...  \n248    2002  \n249    2002  \n250    2002  \n251    2002  \n252    2002  \n\n[253 rows x 7 columns]",
      "text/html": "<div>\n<style scoped>\n    .dataframe tbody tr th:only-of-type {\n        vertical-align: middle;\n    }\n\n    .dataframe tbody tr th {\n        vertical-align: top;\n    }\n\n    .dataframe thead th {\n        text-align: right;\n    }\n</style>\n<table border=\"1\" class=\"dataframe\">\n  <thead>\n    <tr style=\"text-align: right;\">\n      <th></th>\n      <th># Tm</th>\n      <th>Player</th>\n      <th>Team</th>\n      <th>Pts Won</th>\n      <th>Pts Max</th>\n      <th>Share</th>\n      <th>Season</th>\n    </tr>\n  </thead>\n  <tbody>\n    <tr>\n      <th>0</th>\n      <td>1st</td>\n      <td>Scottie Pippen</td>\n      <td>Chicago Bulls</td>\n      <td>53</td>\n      <td>58</td>\n      <td>0.914</td>\n      <td>1997</td>\n    </tr>\n    <tr>\n      <th>1</th>\n      <td>1st</td>\n      <td>Michael Jordan</td>\n      <td>Chicago Bulls</td>\n      <td>51</td>\n      <td>58</td>\n      <td>0.879</td>\n      <td>1997</td>\n    </tr>\n    <tr>\n      <th>2</th>\n      <td>1st</td>\n      <td>Dikembe Mutombo</td>\n      <td>Atlanta Hawks</td>\n      <td>50</td>\n      <td>58</td>\n      <td>0.862</td>\n      <td>1997</td>\n    </tr>\n    <tr>\n      <th>3</th>\n      <td>1st</td>\n      <td>Gary Payton</td>\n      <td>Seattle SuperSonics</td>\n      <td>49</td>\n      <td>58</td>\n      <td>0.845</td>\n      <td>1997</td>\n    </tr>\n    <tr>\n      <th>4</th>\n      <td>1st</td>\n      <td>Karl Malone</td>\n      <td>Utah Jazz</td>\n      <td>25</td>\n      <td>58</td>\n      <td>0.431</td>\n      <td>1997</td>\n    </tr>\n    <tr>\n      <th>...</th>\n      <td>...</td>\n      <td>...</td>\n      <td>...</td>\n      <td>...</td>\n      <td>...</td>\n      <td>...</td>\n      <td>...</td>\n    </tr>\n    <tr>\n      <th>248</th>\n      <td>ORV</td>\n      <td>Paul Pierce</td>\n      <td>Boston Celtics</td>\n      <td>1</td>\n      <td>58</td>\n      <td>0.017</td>\n      <td>2002</td>\n    </tr>\n    <tr>\n      <th>249</th>\n      <td>ORV</td>\n      <td>Malik Rose</td>\n      <td>San Antonio Spurs</td>\n      <td>1</td>\n      <td>58</td>\n      <td>0.017</td>\n      <td>2002</td>\n    </tr>\n    <tr>\n      <th>250</th>\n      <td>ORV</td>\n      <td>Latrell Sprewell</td>\n      <td>New York Knicks</td>\n      <td>1</td>\n      <td>58</td>\n      <td>0.017</td>\n      <td>2002</td>\n    </tr>\n    <tr>\n      <th>251</th>\n      <td>ORV</td>\n      <td>John Stockton</td>\n      <td>Utah Jazz</td>\n      <td>1</td>\n      <td>58</td>\n      <td>0.017</td>\n      <td>2002</td>\n    </tr>\n    <tr>\n      <th>252</th>\n      <td>ORV</td>\n      <td>Jerome Williams</td>\n      <td>Toronto Raptors</td>\n      <td>1</td>\n      <td>58</td>\n      <td>0.017</td>\n      <td>2002</td>\n    </tr>\n  </tbody>\n</table>\n<p>253 rows × 7 columns</p>\n</div>"
     },
     "execution_count": 69,
     "metadata": {},
     "output_type": "execute_result"
    }
   ],
   "source": [
    "defense1"
   ],
   "metadata": {
    "collapsed": false,
    "ExecuteTime": {
     "end_time": "2024-06-09T07:51:44.216255Z",
     "start_time": "2024-06-09T07:51:44.210680Z"
    }
   },
   "id": "3e7fec7330d195b7",
   "execution_count": 69
  },
  {
   "cell_type": "code",
   "outputs": [],
   "source": [
    "defense1.drop(defense1.index[(defense1['Team'] == \"TOT\")], axis=0, inplace=True)"
   ],
   "metadata": {
    "collapsed": false,
    "ExecuteTime": {
     "end_time": "2024-06-09T07:54:02.013140Z",
     "start_time": "2024-06-09T07:54:02.010679Z"
    }
   },
   "id": "af52aa626e53a3dd",
   "execution_count": 70
  },
  {
   "cell_type": "code",
   "outputs": [
    {
     "data": {
      "text/plain": "    # Tm            Player                 Team  Pts Won  Pts Max  Share  \\\n0    1st    Scottie Pippen        Chicago Bulls       53       58  0.914   \n1    1st    Michael Jordan        Chicago Bulls       51       58  0.879   \n2    1st   Dikembe Mutombo        Atlanta Hawks       50       58  0.862   \n3    1st       Gary Payton  Seattle SuperSonics       49       58  0.845   \n4    1st       Karl Malone            Utah Jazz       25       58  0.431   \n..   ...               ...                  ...      ...      ...    ...   \n248  ORV       Paul Pierce       Boston Celtics        1       58  0.017   \n249  ORV        Malik Rose    San Antonio Spurs        1       58  0.017   \n250  ORV  Latrell Sprewell      New York Knicks        1       58  0.017   \n251  ORV     John Stockton            Utah Jazz        1       58  0.017   \n252  ORV   Jerome Williams      Toronto Raptors        1       58  0.017   \n\n     Season  \n0      1997  \n1      1997  \n2      1997  \n3      1997  \n4      1997  \n..      ...  \n248    2002  \n249    2002  \n250    2002  \n251    2002  \n252    2002  \n\n[247 rows x 7 columns]",
      "text/html": "<div>\n<style scoped>\n    .dataframe tbody tr th:only-of-type {\n        vertical-align: middle;\n    }\n\n    .dataframe tbody tr th {\n        vertical-align: top;\n    }\n\n    .dataframe thead th {\n        text-align: right;\n    }\n</style>\n<table border=\"1\" class=\"dataframe\">\n  <thead>\n    <tr style=\"text-align: right;\">\n      <th></th>\n      <th># Tm</th>\n      <th>Player</th>\n      <th>Team</th>\n      <th>Pts Won</th>\n      <th>Pts Max</th>\n      <th>Share</th>\n      <th>Season</th>\n    </tr>\n  </thead>\n  <tbody>\n    <tr>\n      <th>0</th>\n      <td>1st</td>\n      <td>Scottie Pippen</td>\n      <td>Chicago Bulls</td>\n      <td>53</td>\n      <td>58</td>\n      <td>0.914</td>\n      <td>1997</td>\n    </tr>\n    <tr>\n      <th>1</th>\n      <td>1st</td>\n      <td>Michael Jordan</td>\n      <td>Chicago Bulls</td>\n      <td>51</td>\n      <td>58</td>\n      <td>0.879</td>\n      <td>1997</td>\n    </tr>\n    <tr>\n      <th>2</th>\n      <td>1st</td>\n      <td>Dikembe Mutombo</td>\n      <td>Atlanta Hawks</td>\n      <td>50</td>\n      <td>58</td>\n      <td>0.862</td>\n      <td>1997</td>\n    </tr>\n    <tr>\n      <th>3</th>\n      <td>1st</td>\n      <td>Gary Payton</td>\n      <td>Seattle SuperSonics</td>\n      <td>49</td>\n      <td>58</td>\n      <td>0.845</td>\n      <td>1997</td>\n    </tr>\n    <tr>\n      <th>4</th>\n      <td>1st</td>\n      <td>Karl Malone</td>\n      <td>Utah Jazz</td>\n      <td>25</td>\n      <td>58</td>\n      <td>0.431</td>\n      <td>1997</td>\n    </tr>\n    <tr>\n      <th>...</th>\n      <td>...</td>\n      <td>...</td>\n      <td>...</td>\n      <td>...</td>\n      <td>...</td>\n      <td>...</td>\n      <td>...</td>\n    </tr>\n    <tr>\n      <th>248</th>\n      <td>ORV</td>\n      <td>Paul Pierce</td>\n      <td>Boston Celtics</td>\n      <td>1</td>\n      <td>58</td>\n      <td>0.017</td>\n      <td>2002</td>\n    </tr>\n    <tr>\n      <th>249</th>\n      <td>ORV</td>\n      <td>Malik Rose</td>\n      <td>San Antonio Spurs</td>\n      <td>1</td>\n      <td>58</td>\n      <td>0.017</td>\n      <td>2002</td>\n    </tr>\n    <tr>\n      <th>250</th>\n      <td>ORV</td>\n      <td>Latrell Sprewell</td>\n      <td>New York Knicks</td>\n      <td>1</td>\n      <td>58</td>\n      <td>0.017</td>\n      <td>2002</td>\n    </tr>\n    <tr>\n      <th>251</th>\n      <td>ORV</td>\n      <td>John Stockton</td>\n      <td>Utah Jazz</td>\n      <td>1</td>\n      <td>58</td>\n      <td>0.017</td>\n      <td>2002</td>\n    </tr>\n    <tr>\n      <th>252</th>\n      <td>ORV</td>\n      <td>Jerome Williams</td>\n      <td>Toronto Raptors</td>\n      <td>1</td>\n      <td>58</td>\n      <td>0.017</td>\n      <td>2002</td>\n    </tr>\n  </tbody>\n</table>\n<p>247 rows × 7 columns</p>\n</div>"
     },
     "execution_count": 73,
     "metadata": {},
     "output_type": "execute_result"
    }
   ],
   "source": [
    "defense1"
   ],
   "metadata": {
    "collapsed": false,
    "ExecuteTime": {
     "end_time": "2024-06-09T07:56:26.399620Z",
     "start_time": "2024-06-09T07:56:26.394737Z"
    }
   },
   "id": "61517e1499c2343b",
   "execution_count": 73
  },
  {
   "cell_type": "code",
   "outputs": [],
   "source": [
    "ranked_weights = {\n",
    "    '1st': 1,\n",
    "    '2nd': 0.75,\n",
    "    'ORV': 0.5\n",
    "}\n",
    "defense1['DPOY_Share'] = defense1.apply(lambda row: row['Share'] * ranked_weights[row['# Tm']], axis=1)\n",
    "dpoy_shares_new = defense1.groupby(['Team', 'Season'])['DPOY_Share'].sum().reset_index()"
   ],
   "metadata": {
    "collapsed": false,
    "ExecuteTime": {
     "end_time": "2024-06-09T07:56:47.477865Z",
     "start_time": "2024-06-09T07:56:47.473322Z"
    }
   },
   "id": "91789bd9a98ef041",
   "execution_count": 75
  },
  {
   "cell_type": "code",
   "outputs": [
    {
     "data": {
      "text/plain": "                   Team  Season  DPOY_Share\n0         Atlanta Hawks    1997     1.31425\n1         Atlanta Hawks    1998     1.12575\n2         Atlanta Hawks    1999     0.79325\n3         Atlanta Hawks    2000     0.07750\n4        Boston Celtics    1997     0.00850\n..                  ...     ...         ...\n119           Utah Jazz    1999     0.41350\n120           Utah Jazz    2000     0.13800\n121           Utah Jazz    2001     0.08600\n122           Utah Jazz    2002     0.05150\n123  Washington Wizards    1999     0.03450\n\n[124 rows x 3 columns]",
      "text/html": "<div>\n<style scoped>\n    .dataframe tbody tr th:only-of-type {\n        vertical-align: middle;\n    }\n\n    .dataframe tbody tr th {\n        vertical-align: top;\n    }\n\n    .dataframe thead th {\n        text-align: right;\n    }\n</style>\n<table border=\"1\" class=\"dataframe\">\n  <thead>\n    <tr style=\"text-align: right;\">\n      <th></th>\n      <th>Team</th>\n      <th>Season</th>\n      <th>DPOY_Share</th>\n    </tr>\n  </thead>\n  <tbody>\n    <tr>\n      <th>0</th>\n      <td>Atlanta Hawks</td>\n      <td>1997</td>\n      <td>1.31425</td>\n    </tr>\n    <tr>\n      <th>1</th>\n      <td>Atlanta Hawks</td>\n      <td>1998</td>\n      <td>1.12575</td>\n    </tr>\n    <tr>\n      <th>2</th>\n      <td>Atlanta Hawks</td>\n      <td>1999</td>\n      <td>0.79325</td>\n    </tr>\n    <tr>\n      <th>3</th>\n      <td>Atlanta Hawks</td>\n      <td>2000</td>\n      <td>0.07750</td>\n    </tr>\n    <tr>\n      <th>4</th>\n      <td>Boston Celtics</td>\n      <td>1997</td>\n      <td>0.00850</td>\n    </tr>\n    <tr>\n      <th>...</th>\n      <td>...</td>\n      <td>...</td>\n      <td>...</td>\n    </tr>\n    <tr>\n      <th>119</th>\n      <td>Utah Jazz</td>\n      <td>1999</td>\n      <td>0.41350</td>\n    </tr>\n    <tr>\n      <th>120</th>\n      <td>Utah Jazz</td>\n      <td>2000</td>\n      <td>0.13800</td>\n    </tr>\n    <tr>\n      <th>121</th>\n      <td>Utah Jazz</td>\n      <td>2001</td>\n      <td>0.08600</td>\n    </tr>\n    <tr>\n      <th>122</th>\n      <td>Utah Jazz</td>\n      <td>2002</td>\n      <td>0.05150</td>\n    </tr>\n    <tr>\n      <th>123</th>\n      <td>Washington Wizards</td>\n      <td>1999</td>\n      <td>0.03450</td>\n    </tr>\n  </tbody>\n</table>\n<p>124 rows × 3 columns</p>\n</div>"
     },
     "execution_count": 76,
     "metadata": {},
     "output_type": "execute_result"
    }
   ],
   "source": [
    "dpoy_shares_new"
   ],
   "metadata": {
    "collapsed": false,
    "ExecuteTime": {
     "end_time": "2024-06-09T07:56:52.370774Z",
     "start_time": "2024-06-09T07:56:52.366621Z"
    }
   },
   "id": "167a33bcf2e2a704",
   "execution_count": 76
  },
  {
   "cell_type": "code",
   "outputs": [],
   "source": [
    "combine3 = combine2.merge(dpoy_shares_new, how='outer', on=['Team', 'Season'])"
   ],
   "metadata": {
    "collapsed": false,
    "ExecuteTime": {
     "end_time": "2024-06-09T07:58:29.724457Z",
     "start_time": "2024-06-09T07:58:29.720755Z"
    }
   },
   "id": "952587a204cebf35",
   "execution_count": 77
  },
  {
   "cell_type": "code",
   "outputs": [
    {
     "data": {
      "text/plain": "                   Team   G  MP Per Game  FG Per Game  FGA Per Game    FG%  \\\n0         Atlanta Hawks  82        241.5         34.3          76.9  0.446   \n1         Atlanta Hawks  82        242.4         35.2          77.5  0.455   \n2         Atlanta Hawks  50        241.5         30.8          75.2  0.409   \n3         Atlanta Hawks  82        241.8         36.6          83.0  0.441   \n4         Atlanta Hawks  82        240.6         35.1          81.3  0.431   \n..                  ...  ..          ...          ...           ...    ...   \n169  Washington Wizards  82        241.5         37.6          83.1  0.452   \n170  Washington Wizards  50        241.0         35.4          79.4  0.445   \n171  Washington Wizards  82        241.5         36.7          81.5  0.451   \n172  Washington Wizards  82        240.0         34.5          78.7  0.439   \n173  Washington Wizards  82        240.6         35.8          81.3  0.441   \n\n     3P Per Game  3PA Per Game    3P%  2P Per Game  ...  \\\n0            8.0          22.4  0.359         26.3  ...   \n1            4.1          12.4  0.332         31.1  ...   \n2            3.9          12.9  0.306         26.8  ...   \n3            3.1           9.9  0.317         33.4  ...   \n4            4.1          11.4  0.357         31.0  ...   \n..           ...           ...    ...          ...  ...   \n169          3.9          11.5  0.339         33.7  ...   \n170          3.6          11.6  0.309         31.8  ...   \n171          4.1          10.9  0.376         32.6  ...   \n172          3.4          10.3  0.324         31.2  ...   \n173          3.7           9.6  0.388         32.1  ...   \n\n     % of 2P's that were assisted  % of 3P's that were assisted  \\\n0                           0.505                         0.712   \n1                           0.516                         0.748   \n2                           0.477                         0.716   \n3                           0.489                         0.806   \n4                           0.507                         0.811   \n..                            ...                           ...   \n169                         0.589                         0.853   \n170                         0.578                         0.810   \n171                         0.558                         0.833   \n172                         0.563                         0.753   \n173                         0.561                         0.784   \n\n     % of FGA that are dunks  Dunks Made  % of corner 3PA  \\\n0                      0.043         259            0.146   \n1                      0.054         304            0.102   \n2                      0.037         126            0.092   \n3                      0.038         236            0.128   \n4                      0.037         224            0.228   \n..                       ...         ...              ...   \n169                    0.061         394            0.230   \n170                    0.036         132            0.198   \n171                    0.048         300            0.204   \n172                    0.030         177            0.216   \n173                    0.041         267            0.168   \n\n     3P% from the corner  champion share  MVP_Shares  Weighted_Share  \\\n0                  0.410        0.266667       0.004          0.1245   \n1                  0.288        0.066667         NaN          0.1950   \n2                  0.322        0.200000       0.001          0.0815   \n3                  0.452        0.000000         NaN          0.0215   \n4                  0.371        0.000000         NaN             NaN   \n..                   ...             ...         ...             ...   \n169                0.364        0.000000       0.001          0.4550   \n170                0.322        0.000000         NaN          0.0240   \n171                0.462        0.000000         NaN             NaN   \n172                0.361        0.000000         NaN             NaN   \n173                0.439        0.000000       0.013          0.0230   \n\n     DPOY_Share  \n0       1.31425  \n1       1.12575  \n2       0.79325  \n3       0.07750  \n4           NaN  \n..          ...  \n169         NaN  \n170     0.03450  \n171         NaN  \n172         NaN  \n173         NaN  \n\n[174 rows x 64 columns]",
      "text/html": "<div>\n<style scoped>\n    .dataframe tbody tr th:only-of-type {\n        vertical-align: middle;\n    }\n\n    .dataframe tbody tr th {\n        vertical-align: top;\n    }\n\n    .dataframe thead th {\n        text-align: right;\n    }\n</style>\n<table border=\"1\" class=\"dataframe\">\n  <thead>\n    <tr style=\"text-align: right;\">\n      <th></th>\n      <th>Team</th>\n      <th>G</th>\n      <th>MP Per Game</th>\n      <th>FG Per Game</th>\n      <th>FGA Per Game</th>\n      <th>FG%</th>\n      <th>3P Per Game</th>\n      <th>3PA Per Game</th>\n      <th>3P%</th>\n      <th>2P Per Game</th>\n      <th>...</th>\n      <th>% of 2P's that were assisted</th>\n      <th>% of 3P's that were assisted</th>\n      <th>% of FGA that are dunks</th>\n      <th>Dunks Made</th>\n      <th>% of corner 3PA</th>\n      <th>3P% from the corner</th>\n      <th>champion share</th>\n      <th>MVP_Shares</th>\n      <th>Weighted_Share</th>\n      <th>DPOY_Share</th>\n    </tr>\n  </thead>\n  <tbody>\n    <tr>\n      <th>0</th>\n      <td>Atlanta Hawks</td>\n      <td>82</td>\n      <td>241.5</td>\n      <td>34.3</td>\n      <td>76.9</td>\n      <td>0.446</td>\n      <td>8.0</td>\n      <td>22.4</td>\n      <td>0.359</td>\n      <td>26.3</td>\n      <td>...</td>\n      <td>0.505</td>\n      <td>0.712</td>\n      <td>0.043</td>\n      <td>259</td>\n      <td>0.146</td>\n      <td>0.410</td>\n      <td>0.266667</td>\n      <td>0.004</td>\n      <td>0.1245</td>\n      <td>1.31425</td>\n    </tr>\n    <tr>\n      <th>1</th>\n      <td>Atlanta Hawks</td>\n      <td>82</td>\n      <td>242.4</td>\n      <td>35.2</td>\n      <td>77.5</td>\n      <td>0.455</td>\n      <td>4.1</td>\n      <td>12.4</td>\n      <td>0.332</td>\n      <td>31.1</td>\n      <td>...</td>\n      <td>0.516</td>\n      <td>0.748</td>\n      <td>0.054</td>\n      <td>304</td>\n      <td>0.102</td>\n      <td>0.288</td>\n      <td>0.066667</td>\n      <td>NaN</td>\n      <td>0.1950</td>\n      <td>1.12575</td>\n    </tr>\n    <tr>\n      <th>2</th>\n      <td>Atlanta Hawks</td>\n      <td>50</td>\n      <td>241.5</td>\n      <td>30.8</td>\n      <td>75.2</td>\n      <td>0.409</td>\n      <td>3.9</td>\n      <td>12.9</td>\n      <td>0.306</td>\n      <td>26.8</td>\n      <td>...</td>\n      <td>0.477</td>\n      <td>0.716</td>\n      <td>0.037</td>\n      <td>126</td>\n      <td>0.092</td>\n      <td>0.322</td>\n      <td>0.200000</td>\n      <td>0.001</td>\n      <td>0.0815</td>\n      <td>0.79325</td>\n    </tr>\n    <tr>\n      <th>3</th>\n      <td>Atlanta Hawks</td>\n      <td>82</td>\n      <td>241.8</td>\n      <td>36.6</td>\n      <td>83.0</td>\n      <td>0.441</td>\n      <td>3.1</td>\n      <td>9.9</td>\n      <td>0.317</td>\n      <td>33.4</td>\n      <td>...</td>\n      <td>0.489</td>\n      <td>0.806</td>\n      <td>0.038</td>\n      <td>236</td>\n      <td>0.128</td>\n      <td>0.452</td>\n      <td>0.000000</td>\n      <td>NaN</td>\n      <td>0.0215</td>\n      <td>0.07750</td>\n    </tr>\n    <tr>\n      <th>4</th>\n      <td>Atlanta Hawks</td>\n      <td>82</td>\n      <td>240.6</td>\n      <td>35.1</td>\n      <td>81.3</td>\n      <td>0.431</td>\n      <td>4.1</td>\n      <td>11.4</td>\n      <td>0.357</td>\n      <td>31.0</td>\n      <td>...</td>\n      <td>0.507</td>\n      <td>0.811</td>\n      <td>0.037</td>\n      <td>224</td>\n      <td>0.228</td>\n      <td>0.371</td>\n      <td>0.000000</td>\n      <td>NaN</td>\n      <td>NaN</td>\n      <td>NaN</td>\n    </tr>\n    <tr>\n      <th>...</th>\n      <td>...</td>\n      <td>...</td>\n      <td>...</td>\n      <td>...</td>\n      <td>...</td>\n      <td>...</td>\n      <td>...</td>\n      <td>...</td>\n      <td>...</td>\n      <td>...</td>\n      <td>...</td>\n      <td>...</td>\n      <td>...</td>\n      <td>...</td>\n      <td>...</td>\n      <td>...</td>\n      <td>...</td>\n      <td>...</td>\n      <td>...</td>\n      <td>...</td>\n      <td>...</td>\n    </tr>\n    <tr>\n      <th>169</th>\n      <td>Washington Wizards</td>\n      <td>82</td>\n      <td>241.5</td>\n      <td>37.6</td>\n      <td>83.1</td>\n      <td>0.452</td>\n      <td>3.9</td>\n      <td>11.5</td>\n      <td>0.339</td>\n      <td>33.7</td>\n      <td>...</td>\n      <td>0.589</td>\n      <td>0.853</td>\n      <td>0.061</td>\n      <td>394</td>\n      <td>0.230</td>\n      <td>0.364</td>\n      <td>0.000000</td>\n      <td>0.001</td>\n      <td>0.4550</td>\n      <td>NaN</td>\n    </tr>\n    <tr>\n      <th>170</th>\n      <td>Washington Wizards</td>\n      <td>50</td>\n      <td>241.0</td>\n      <td>35.4</td>\n      <td>79.4</td>\n      <td>0.445</td>\n      <td>3.6</td>\n      <td>11.6</td>\n      <td>0.309</td>\n      <td>31.8</td>\n      <td>...</td>\n      <td>0.578</td>\n      <td>0.810</td>\n      <td>0.036</td>\n      <td>132</td>\n      <td>0.198</td>\n      <td>0.322</td>\n      <td>0.000000</td>\n      <td>NaN</td>\n      <td>0.0240</td>\n      <td>0.03450</td>\n    </tr>\n    <tr>\n      <th>171</th>\n      <td>Washington Wizards</td>\n      <td>82</td>\n      <td>241.5</td>\n      <td>36.7</td>\n      <td>81.5</td>\n      <td>0.451</td>\n      <td>4.1</td>\n      <td>10.9</td>\n      <td>0.376</td>\n      <td>32.6</td>\n      <td>...</td>\n      <td>0.558</td>\n      <td>0.833</td>\n      <td>0.048</td>\n      <td>300</td>\n      <td>0.204</td>\n      <td>0.462</td>\n      <td>0.000000</td>\n      <td>NaN</td>\n      <td>NaN</td>\n      <td>NaN</td>\n    </tr>\n    <tr>\n      <th>172</th>\n      <td>Washington Wizards</td>\n      <td>82</td>\n      <td>240.0</td>\n      <td>34.5</td>\n      <td>78.7</td>\n      <td>0.439</td>\n      <td>3.4</td>\n      <td>10.3</td>\n      <td>0.324</td>\n      <td>31.2</td>\n      <td>...</td>\n      <td>0.563</td>\n      <td>0.753</td>\n      <td>0.030</td>\n      <td>177</td>\n      <td>0.216</td>\n      <td>0.361</td>\n      <td>0.000000</td>\n      <td>NaN</td>\n      <td>NaN</td>\n      <td>NaN</td>\n    </tr>\n    <tr>\n      <th>173</th>\n      <td>Washington Wizards</td>\n      <td>82</td>\n      <td>240.6</td>\n      <td>35.8</td>\n      <td>81.3</td>\n      <td>0.441</td>\n      <td>3.7</td>\n      <td>9.6</td>\n      <td>0.388</td>\n      <td>32.1</td>\n      <td>...</td>\n      <td>0.561</td>\n      <td>0.784</td>\n      <td>0.041</td>\n      <td>267</td>\n      <td>0.168</td>\n      <td>0.439</td>\n      <td>0.000000</td>\n      <td>0.013</td>\n      <td>0.0230</td>\n      <td>NaN</td>\n    </tr>\n  </tbody>\n</table>\n<p>174 rows × 64 columns</p>\n</div>"
     },
     "execution_count": 78,
     "metadata": {},
     "output_type": "execute_result"
    }
   ],
   "source": [
    "combine3"
   ],
   "metadata": {
    "collapsed": false,
    "ExecuteTime": {
     "end_time": "2024-06-09T07:58:35.896057Z",
     "start_time": "2024-06-09T07:58:35.885338Z"
    }
   },
   "id": "d4feddda19f955f5",
   "execution_count": 78
  },
  {
   "cell_type": "code",
   "outputs": [],
   "source": [
    "adv = pd.read_csv(\"advanced.csv\")"
   ],
   "metadata": {
    "collapsed": false,
    "ExecuteTime": {
     "end_time": "2024-06-09T08:02:01.628100Z",
     "start_time": "2024-06-09T08:02:01.625124Z"
    }
   },
   "id": "3ca32e0659fe1c28",
   "execution_count": 81
  },
  {
   "cell_type": "code",
   "outputs": [
    {
     "data": {
      "text/plain": "                      Team   Age   W   L  PW  PL    MOV   SOS    SRS   ORtg  \\\n0           Chicago Bulls*  30.7  69  13  68  14  10.80 -0.11  10.70  114.4   \n1               Utah Jazz*  29.6  64  18  64  18   8.79 -0.82   7.97  113.6   \n2     Seattle SuperSonics*  30.0  57  25  62  20   7.68 -0.77   6.91  111.2   \n3           Atlanta Hawks*  28.8  56  26  57  25   5.44  0.08   5.52  108.5   \n4              Miami Heat*  27.2  61  21  57  25   5.49  0.07   5.56  106.8   \n..                     ...   ...  ..  ..  ..  ..    ...   ...    ...    ...   \n169        Houston Rockets  25.9  28  54  27  55  -4.89  0.58  -4.31  103.1   \n170  Golden State Warriors  24.8  21  61  26  56  -5.40  0.61  -4.80  102.8   \n171         Denver Nuggets  28.2  27  55  24  58  -5.82  0.63  -5.19  101.4   \n172      Memphis Grizzlies  25.5  23  59  20  62  -7.44  0.70  -6.74   98.2   \n173          Chicago Bulls  25.5  21  61  18  64  -8.54  0.02  -8.52   98.2   \n\n     ...    TS%   eFG%  TOV%  ORB%  FT/FGA  eFG%.1  TOV%.1  DRB%  FT/FGA.1  \\\n0    ...  0.547  0.511  12.5  35.9   0.199   0.471    14.8  69.3     0.196   \n1    ...  0.581  0.530  14.7  29.7   0.299   0.480    15.5  71.6     0.290   \n2    ...  0.557  0.510  14.2  30.9   0.269   0.490    17.7  69.1     0.242   \n3    ...  0.542  0.498  14.6  31.5   0.236   0.472    15.0  69.2     0.191   \n4    ...  0.546  0.507  15.5  29.2   0.233   0.465    15.6  70.6     0.248   \n..   ...    ...    ...   ...   ...     ...     ...     ...   ...       ...   \n169  ...  0.507  0.465  13.4  29.0   0.211   0.491    11.5  69.8     0.178   \n170  ...  0.499  0.452  14.7  35.3   0.242   0.488    12.9  69.4     0.232   \n171  ...  0.495  0.455  13.6  30.6   0.190   0.492    13.6  69.9     0.245   \n172  ...  0.501  0.462  15.4  27.8   0.204   0.486    13.7  68.0     0.197   \n173  ...  0.499  0.456  14.6  26.6   0.218   0.497    13.7  71.4     0.239   \n\n     Season  \n0      1997  \n1      1997  \n2      1997  \n3      1997  \n4      1997  \n..      ...  \n169    2002  \n170    2002  \n171    2002  \n172    2002  \n173    2002  \n\n[174 rows x 25 columns]",
      "text/html": "<div>\n<style scoped>\n    .dataframe tbody tr th:only-of-type {\n        vertical-align: middle;\n    }\n\n    .dataframe tbody tr th {\n        vertical-align: top;\n    }\n\n    .dataframe thead th {\n        text-align: right;\n    }\n</style>\n<table border=\"1\" class=\"dataframe\">\n  <thead>\n    <tr style=\"text-align: right;\">\n      <th></th>\n      <th>Team</th>\n      <th>Age</th>\n      <th>W</th>\n      <th>L</th>\n      <th>PW</th>\n      <th>PL</th>\n      <th>MOV</th>\n      <th>SOS</th>\n      <th>SRS</th>\n      <th>ORtg</th>\n      <th>...</th>\n      <th>TS%</th>\n      <th>eFG%</th>\n      <th>TOV%</th>\n      <th>ORB%</th>\n      <th>FT/FGA</th>\n      <th>eFG%.1</th>\n      <th>TOV%.1</th>\n      <th>DRB%</th>\n      <th>FT/FGA.1</th>\n      <th>Season</th>\n    </tr>\n  </thead>\n  <tbody>\n    <tr>\n      <th>0</th>\n      <td>Chicago Bulls*</td>\n      <td>30.7</td>\n      <td>69</td>\n      <td>13</td>\n      <td>68</td>\n      <td>14</td>\n      <td>10.80</td>\n      <td>-0.11</td>\n      <td>10.70</td>\n      <td>114.4</td>\n      <td>...</td>\n      <td>0.547</td>\n      <td>0.511</td>\n      <td>12.5</td>\n      <td>35.9</td>\n      <td>0.199</td>\n      <td>0.471</td>\n      <td>14.8</td>\n      <td>69.3</td>\n      <td>0.196</td>\n      <td>1997</td>\n    </tr>\n    <tr>\n      <th>1</th>\n      <td>Utah Jazz*</td>\n      <td>29.6</td>\n      <td>64</td>\n      <td>18</td>\n      <td>64</td>\n      <td>18</td>\n      <td>8.79</td>\n      <td>-0.82</td>\n      <td>7.97</td>\n      <td>113.6</td>\n      <td>...</td>\n      <td>0.581</td>\n      <td>0.530</td>\n      <td>14.7</td>\n      <td>29.7</td>\n      <td>0.299</td>\n      <td>0.480</td>\n      <td>15.5</td>\n      <td>71.6</td>\n      <td>0.290</td>\n      <td>1997</td>\n    </tr>\n    <tr>\n      <th>2</th>\n      <td>Seattle SuperSonics*</td>\n      <td>30.0</td>\n      <td>57</td>\n      <td>25</td>\n      <td>62</td>\n      <td>20</td>\n      <td>7.68</td>\n      <td>-0.77</td>\n      <td>6.91</td>\n      <td>111.2</td>\n      <td>...</td>\n      <td>0.557</td>\n      <td>0.510</td>\n      <td>14.2</td>\n      <td>30.9</td>\n      <td>0.269</td>\n      <td>0.490</td>\n      <td>17.7</td>\n      <td>69.1</td>\n      <td>0.242</td>\n      <td>1997</td>\n    </tr>\n    <tr>\n      <th>3</th>\n      <td>Atlanta Hawks*</td>\n      <td>28.8</td>\n      <td>56</td>\n      <td>26</td>\n      <td>57</td>\n      <td>25</td>\n      <td>5.44</td>\n      <td>0.08</td>\n      <td>5.52</td>\n      <td>108.5</td>\n      <td>...</td>\n      <td>0.542</td>\n      <td>0.498</td>\n      <td>14.6</td>\n      <td>31.5</td>\n      <td>0.236</td>\n      <td>0.472</td>\n      <td>15.0</td>\n      <td>69.2</td>\n      <td>0.191</td>\n      <td>1997</td>\n    </tr>\n    <tr>\n      <th>4</th>\n      <td>Miami Heat*</td>\n      <td>27.2</td>\n      <td>61</td>\n      <td>21</td>\n      <td>57</td>\n      <td>25</td>\n      <td>5.49</td>\n      <td>0.07</td>\n      <td>5.56</td>\n      <td>106.8</td>\n      <td>...</td>\n      <td>0.546</td>\n      <td>0.507</td>\n      <td>15.5</td>\n      <td>29.2</td>\n      <td>0.233</td>\n      <td>0.465</td>\n      <td>15.6</td>\n      <td>70.6</td>\n      <td>0.248</td>\n      <td>1997</td>\n    </tr>\n    <tr>\n      <th>...</th>\n      <td>...</td>\n      <td>...</td>\n      <td>...</td>\n      <td>...</td>\n      <td>...</td>\n      <td>...</td>\n      <td>...</td>\n      <td>...</td>\n      <td>...</td>\n      <td>...</td>\n      <td>...</td>\n      <td>...</td>\n      <td>...</td>\n      <td>...</td>\n      <td>...</td>\n      <td>...</td>\n      <td>...</td>\n      <td>...</td>\n      <td>...</td>\n      <td>...</td>\n      <td>...</td>\n    </tr>\n    <tr>\n      <th>169</th>\n      <td>Houston Rockets</td>\n      <td>25.9</td>\n      <td>28</td>\n      <td>54</td>\n      <td>27</td>\n      <td>55</td>\n      <td>-4.89</td>\n      <td>0.58</td>\n      <td>-4.31</td>\n      <td>103.1</td>\n      <td>...</td>\n      <td>0.507</td>\n      <td>0.465</td>\n      <td>13.4</td>\n      <td>29.0</td>\n      <td>0.211</td>\n      <td>0.491</td>\n      <td>11.5</td>\n      <td>69.8</td>\n      <td>0.178</td>\n      <td>2002</td>\n    </tr>\n    <tr>\n      <th>170</th>\n      <td>Golden State Warriors</td>\n      <td>24.8</td>\n      <td>21</td>\n      <td>61</td>\n      <td>26</td>\n      <td>56</td>\n      <td>-5.40</td>\n      <td>0.61</td>\n      <td>-4.80</td>\n      <td>102.8</td>\n      <td>...</td>\n      <td>0.499</td>\n      <td>0.452</td>\n      <td>14.7</td>\n      <td>35.3</td>\n      <td>0.242</td>\n      <td>0.488</td>\n      <td>12.9</td>\n      <td>69.4</td>\n      <td>0.232</td>\n      <td>2002</td>\n    </tr>\n    <tr>\n      <th>171</th>\n      <td>Denver Nuggets</td>\n      <td>28.2</td>\n      <td>27</td>\n      <td>55</td>\n      <td>24</td>\n      <td>58</td>\n      <td>-5.82</td>\n      <td>0.63</td>\n      <td>-5.19</td>\n      <td>101.4</td>\n      <td>...</td>\n      <td>0.495</td>\n      <td>0.455</td>\n      <td>13.6</td>\n      <td>30.6</td>\n      <td>0.190</td>\n      <td>0.492</td>\n      <td>13.6</td>\n      <td>69.9</td>\n      <td>0.245</td>\n      <td>2002</td>\n    </tr>\n    <tr>\n      <th>172</th>\n      <td>Memphis Grizzlies</td>\n      <td>25.5</td>\n      <td>23</td>\n      <td>59</td>\n      <td>20</td>\n      <td>62</td>\n      <td>-7.44</td>\n      <td>0.70</td>\n      <td>-6.74</td>\n      <td>98.2</td>\n      <td>...</td>\n      <td>0.501</td>\n      <td>0.462</td>\n      <td>15.4</td>\n      <td>27.8</td>\n      <td>0.204</td>\n      <td>0.486</td>\n      <td>13.7</td>\n      <td>68.0</td>\n      <td>0.197</td>\n      <td>2002</td>\n    </tr>\n    <tr>\n      <th>173</th>\n      <td>Chicago Bulls</td>\n      <td>25.5</td>\n      <td>21</td>\n      <td>61</td>\n      <td>18</td>\n      <td>64</td>\n      <td>-8.54</td>\n      <td>0.02</td>\n      <td>-8.52</td>\n      <td>98.2</td>\n      <td>...</td>\n      <td>0.499</td>\n      <td>0.456</td>\n      <td>14.6</td>\n      <td>26.6</td>\n      <td>0.218</td>\n      <td>0.497</td>\n      <td>13.7</td>\n      <td>71.4</td>\n      <td>0.239</td>\n      <td>2002</td>\n    </tr>\n  </tbody>\n</table>\n<p>174 rows × 25 columns</p>\n</div>"
     },
     "execution_count": 82,
     "metadata": {},
     "output_type": "execute_result"
    }
   ],
   "source": [
    "adv"
   ],
   "metadata": {
    "collapsed": false,
    "ExecuteTime": {
     "end_time": "2024-06-09T08:02:05.688102Z",
     "start_time": "2024-06-09T08:02:05.678162Z"
    }
   },
   "id": "12bcb4e4b7ca8b96",
   "execution_count": 82
  },
  {
   "cell_type": "code",
   "outputs": [],
   "source": [
    "adv[\"Team\"] = adv[\"Team\"].str.replace(\"*\", \"\", regex=False)"
   ],
   "metadata": {
    "collapsed": false,
    "ExecuteTime": {
     "end_time": "2024-06-09T08:04:14.612046Z",
     "start_time": "2024-06-09T08:04:14.609197Z"
    }
   },
   "id": "fff7fbb3a9c0ebea",
   "execution_count": 83
  },
  {
   "cell_type": "code",
   "outputs": [
    {
     "data": {
      "text/plain": "                      Team   Age   W   L  PW  PL    MOV   SOS    SRS   ORtg  \\\n0            Chicago Bulls  30.7  69  13  68  14  10.80 -0.11  10.70  114.4   \n1                Utah Jazz  29.6  64  18  64  18   8.79 -0.82   7.97  113.6   \n2      Seattle SuperSonics  30.0  57  25  62  20   7.68 -0.77   6.91  111.2   \n3            Atlanta Hawks  28.8  56  26  57  25   5.44  0.08   5.52  108.5   \n4               Miami Heat  27.2  61  21  57  25   5.49  0.07   5.56  106.8   \n..                     ...   ...  ..  ..  ..  ..    ...   ...    ...    ...   \n169        Houston Rockets  25.9  28  54  27  55  -4.89  0.58  -4.31  103.1   \n170  Golden State Warriors  24.8  21  61  26  56  -5.40  0.61  -4.80  102.8   \n171         Denver Nuggets  28.2  27  55  24  58  -5.82  0.63  -5.19  101.4   \n172      Memphis Grizzlies  25.5  23  59  20  62  -7.44  0.70  -6.74   98.2   \n173          Chicago Bulls  25.5  21  61  18  64  -8.54  0.02  -8.52   98.2   \n\n     ...    TS%   eFG%  TOV%  ORB%  FT/FGA  eFG%.1  TOV%.1  DRB%  FT/FGA.1  \\\n0    ...  0.547  0.511  12.5  35.9   0.199   0.471    14.8  69.3     0.196   \n1    ...  0.581  0.530  14.7  29.7   0.299   0.480    15.5  71.6     0.290   \n2    ...  0.557  0.510  14.2  30.9   0.269   0.490    17.7  69.1     0.242   \n3    ...  0.542  0.498  14.6  31.5   0.236   0.472    15.0  69.2     0.191   \n4    ...  0.546  0.507  15.5  29.2   0.233   0.465    15.6  70.6     0.248   \n..   ...    ...    ...   ...   ...     ...     ...     ...   ...       ...   \n169  ...  0.507  0.465  13.4  29.0   0.211   0.491    11.5  69.8     0.178   \n170  ...  0.499  0.452  14.7  35.3   0.242   0.488    12.9  69.4     0.232   \n171  ...  0.495  0.455  13.6  30.6   0.190   0.492    13.6  69.9     0.245   \n172  ...  0.501  0.462  15.4  27.8   0.204   0.486    13.7  68.0     0.197   \n173  ...  0.499  0.456  14.6  26.6   0.218   0.497    13.7  71.4     0.239   \n\n     Season  \n0      1997  \n1      1997  \n2      1997  \n3      1997  \n4      1997  \n..      ...  \n169    2002  \n170    2002  \n171    2002  \n172    2002  \n173    2002  \n\n[174 rows x 25 columns]",
      "text/html": "<div>\n<style scoped>\n    .dataframe tbody tr th:only-of-type {\n        vertical-align: middle;\n    }\n\n    .dataframe tbody tr th {\n        vertical-align: top;\n    }\n\n    .dataframe thead th {\n        text-align: right;\n    }\n</style>\n<table border=\"1\" class=\"dataframe\">\n  <thead>\n    <tr style=\"text-align: right;\">\n      <th></th>\n      <th>Team</th>\n      <th>Age</th>\n      <th>W</th>\n      <th>L</th>\n      <th>PW</th>\n      <th>PL</th>\n      <th>MOV</th>\n      <th>SOS</th>\n      <th>SRS</th>\n      <th>ORtg</th>\n      <th>...</th>\n      <th>TS%</th>\n      <th>eFG%</th>\n      <th>TOV%</th>\n      <th>ORB%</th>\n      <th>FT/FGA</th>\n      <th>eFG%.1</th>\n      <th>TOV%.1</th>\n      <th>DRB%</th>\n      <th>FT/FGA.1</th>\n      <th>Season</th>\n    </tr>\n  </thead>\n  <tbody>\n    <tr>\n      <th>0</th>\n      <td>Chicago Bulls</td>\n      <td>30.7</td>\n      <td>69</td>\n      <td>13</td>\n      <td>68</td>\n      <td>14</td>\n      <td>10.80</td>\n      <td>-0.11</td>\n      <td>10.70</td>\n      <td>114.4</td>\n      <td>...</td>\n      <td>0.547</td>\n      <td>0.511</td>\n      <td>12.5</td>\n      <td>35.9</td>\n      <td>0.199</td>\n      <td>0.471</td>\n      <td>14.8</td>\n      <td>69.3</td>\n      <td>0.196</td>\n      <td>1997</td>\n    </tr>\n    <tr>\n      <th>1</th>\n      <td>Utah Jazz</td>\n      <td>29.6</td>\n      <td>64</td>\n      <td>18</td>\n      <td>64</td>\n      <td>18</td>\n      <td>8.79</td>\n      <td>-0.82</td>\n      <td>7.97</td>\n      <td>113.6</td>\n      <td>...</td>\n      <td>0.581</td>\n      <td>0.530</td>\n      <td>14.7</td>\n      <td>29.7</td>\n      <td>0.299</td>\n      <td>0.480</td>\n      <td>15.5</td>\n      <td>71.6</td>\n      <td>0.290</td>\n      <td>1997</td>\n    </tr>\n    <tr>\n      <th>2</th>\n      <td>Seattle SuperSonics</td>\n      <td>30.0</td>\n      <td>57</td>\n      <td>25</td>\n      <td>62</td>\n      <td>20</td>\n      <td>7.68</td>\n      <td>-0.77</td>\n      <td>6.91</td>\n      <td>111.2</td>\n      <td>...</td>\n      <td>0.557</td>\n      <td>0.510</td>\n      <td>14.2</td>\n      <td>30.9</td>\n      <td>0.269</td>\n      <td>0.490</td>\n      <td>17.7</td>\n      <td>69.1</td>\n      <td>0.242</td>\n      <td>1997</td>\n    </tr>\n    <tr>\n      <th>3</th>\n      <td>Atlanta Hawks</td>\n      <td>28.8</td>\n      <td>56</td>\n      <td>26</td>\n      <td>57</td>\n      <td>25</td>\n      <td>5.44</td>\n      <td>0.08</td>\n      <td>5.52</td>\n      <td>108.5</td>\n      <td>...</td>\n      <td>0.542</td>\n      <td>0.498</td>\n      <td>14.6</td>\n      <td>31.5</td>\n      <td>0.236</td>\n      <td>0.472</td>\n      <td>15.0</td>\n      <td>69.2</td>\n      <td>0.191</td>\n      <td>1997</td>\n    </tr>\n    <tr>\n      <th>4</th>\n      <td>Miami Heat</td>\n      <td>27.2</td>\n      <td>61</td>\n      <td>21</td>\n      <td>57</td>\n      <td>25</td>\n      <td>5.49</td>\n      <td>0.07</td>\n      <td>5.56</td>\n      <td>106.8</td>\n      <td>...</td>\n      <td>0.546</td>\n      <td>0.507</td>\n      <td>15.5</td>\n      <td>29.2</td>\n      <td>0.233</td>\n      <td>0.465</td>\n      <td>15.6</td>\n      <td>70.6</td>\n      <td>0.248</td>\n      <td>1997</td>\n    </tr>\n    <tr>\n      <th>...</th>\n      <td>...</td>\n      <td>...</td>\n      <td>...</td>\n      <td>...</td>\n      <td>...</td>\n      <td>...</td>\n      <td>...</td>\n      <td>...</td>\n      <td>...</td>\n      <td>...</td>\n      <td>...</td>\n      <td>...</td>\n      <td>...</td>\n      <td>...</td>\n      <td>...</td>\n      <td>...</td>\n      <td>...</td>\n      <td>...</td>\n      <td>...</td>\n      <td>...</td>\n      <td>...</td>\n    </tr>\n    <tr>\n      <th>169</th>\n      <td>Houston Rockets</td>\n      <td>25.9</td>\n      <td>28</td>\n      <td>54</td>\n      <td>27</td>\n      <td>55</td>\n      <td>-4.89</td>\n      <td>0.58</td>\n      <td>-4.31</td>\n      <td>103.1</td>\n      <td>...</td>\n      <td>0.507</td>\n      <td>0.465</td>\n      <td>13.4</td>\n      <td>29.0</td>\n      <td>0.211</td>\n      <td>0.491</td>\n      <td>11.5</td>\n      <td>69.8</td>\n      <td>0.178</td>\n      <td>2002</td>\n    </tr>\n    <tr>\n      <th>170</th>\n      <td>Golden State Warriors</td>\n      <td>24.8</td>\n      <td>21</td>\n      <td>61</td>\n      <td>26</td>\n      <td>56</td>\n      <td>-5.40</td>\n      <td>0.61</td>\n      <td>-4.80</td>\n      <td>102.8</td>\n      <td>...</td>\n      <td>0.499</td>\n      <td>0.452</td>\n      <td>14.7</td>\n      <td>35.3</td>\n      <td>0.242</td>\n      <td>0.488</td>\n      <td>12.9</td>\n      <td>69.4</td>\n      <td>0.232</td>\n      <td>2002</td>\n    </tr>\n    <tr>\n      <th>171</th>\n      <td>Denver Nuggets</td>\n      <td>28.2</td>\n      <td>27</td>\n      <td>55</td>\n      <td>24</td>\n      <td>58</td>\n      <td>-5.82</td>\n      <td>0.63</td>\n      <td>-5.19</td>\n      <td>101.4</td>\n      <td>...</td>\n      <td>0.495</td>\n      <td>0.455</td>\n      <td>13.6</td>\n      <td>30.6</td>\n      <td>0.190</td>\n      <td>0.492</td>\n      <td>13.6</td>\n      <td>69.9</td>\n      <td>0.245</td>\n      <td>2002</td>\n    </tr>\n    <tr>\n      <th>172</th>\n      <td>Memphis Grizzlies</td>\n      <td>25.5</td>\n      <td>23</td>\n      <td>59</td>\n      <td>20</td>\n      <td>62</td>\n      <td>-7.44</td>\n      <td>0.70</td>\n      <td>-6.74</td>\n      <td>98.2</td>\n      <td>...</td>\n      <td>0.501</td>\n      <td>0.462</td>\n      <td>15.4</td>\n      <td>27.8</td>\n      <td>0.204</td>\n      <td>0.486</td>\n      <td>13.7</td>\n      <td>68.0</td>\n      <td>0.197</td>\n      <td>2002</td>\n    </tr>\n    <tr>\n      <th>173</th>\n      <td>Chicago Bulls</td>\n      <td>25.5</td>\n      <td>21</td>\n      <td>61</td>\n      <td>18</td>\n      <td>64</td>\n      <td>-8.54</td>\n      <td>0.02</td>\n      <td>-8.52</td>\n      <td>98.2</td>\n      <td>...</td>\n      <td>0.499</td>\n      <td>0.456</td>\n      <td>14.6</td>\n      <td>26.6</td>\n      <td>0.218</td>\n      <td>0.497</td>\n      <td>13.7</td>\n      <td>71.4</td>\n      <td>0.239</td>\n      <td>2002</td>\n    </tr>\n  </tbody>\n</table>\n<p>174 rows × 25 columns</p>\n</div>"
     },
     "execution_count": 84,
     "metadata": {},
     "output_type": "execute_result"
    }
   ],
   "source": [
    "adv"
   ],
   "metadata": {
    "collapsed": false,
    "ExecuteTime": {
     "end_time": "2024-06-09T08:04:17.053620Z",
     "start_time": "2024-06-09T08:04:17.043507Z"
    }
   },
   "id": "b6d2370a914aa611",
   "execution_count": 84
  },
  {
   "cell_type": "code",
   "outputs": [],
   "source": [
    "combine4 = combine3.merge(adv, how='outer', on=['Team', 'Season'])"
   ],
   "metadata": {
    "collapsed": false,
    "ExecuteTime": {
     "end_time": "2024-06-09T08:04:52.389394Z",
     "start_time": "2024-06-09T08:04:52.386141Z"
    }
   },
   "id": "d879e51983f9984b",
   "execution_count": 85
  },
  {
   "cell_type": "code",
   "outputs": [
    {
     "data": {
      "text/plain": "                   Team   G  MP Per Game  FG Per Game  FGA Per Game    FG%  \\\n0         Atlanta Hawks  82        241.5         34.3          76.9  0.446   \n1         Atlanta Hawks  82        242.4         35.2          77.5  0.455   \n2         Atlanta Hawks  50        241.5         30.8          75.2  0.409   \n3         Atlanta Hawks  82        241.8         36.6          83.0  0.441   \n4         Atlanta Hawks  82        240.6         35.1          81.3  0.431   \n..                  ...  ..          ...          ...           ...    ...   \n169  Washington Wizards  82        241.5         37.6          83.1  0.452   \n170  Washington Wizards  50        241.0         35.4          79.4  0.445   \n171  Washington Wizards  82        241.5         36.7          81.5  0.451   \n172  Washington Wizards  82        240.0         34.5          78.7  0.439   \n173  Washington Wizards  82        240.6         35.8          81.3  0.441   \n\n     3P Per Game  3PA Per Game    3P%  2P Per Game  ...   3PAr    TS%   eFG%  \\\n0            8.0          22.4  0.359         26.3  ...  0.291  0.542  0.498   \n1            4.1          12.4  0.332         31.1  ...  0.160  0.533  0.481   \n2            3.9          12.9  0.306         26.8  ...  0.171  0.492  0.436   \n3            3.1           9.9  0.317         33.4  ...  0.120  0.503  0.460   \n4            4.1          11.4  0.357         31.0  ...  0.140  0.500  0.456   \n..           ...           ...    ...          ...  ...    ...    ...    ...   \n169          3.9          11.5  0.339         33.7  ...  0.139  0.513  0.476   \n170          3.6          11.6  0.309         31.8  ...  0.146  0.507  0.468   \n171          4.1          10.9  0.376         32.6  ...  0.133  0.521  0.476   \n172          3.4          10.3  0.324         31.2  ...  0.131  0.514  0.460   \n173          3.7           9.6  0.388         32.1  ...  0.118  0.508  0.464   \n\n     TOV%  ORB%  FT/FGA  eFG%.1  TOV%.1  DRB%  FT/FGA.1  \n0    14.6  31.5   0.236   0.472    15.0  69.2     0.191  \n1    14.1  33.9   0.275   0.468    13.0  69.1     0.194  \n2    14.5  33.1   0.277   0.437    13.4  72.1     0.202  \n3    14.1  31.7   0.217   0.481    11.3  71.0     0.196  \n4    15.5  28.9   0.206   0.472    13.8  70.8     0.249  \n..    ...   ...     ...     ...     ...   ...       ...  \n169  13.0  31.2   0.219   0.481    15.1  69.5     0.248  \n170  14.1  28.2   0.213   0.474    15.1  69.5     0.273  \n171  14.8  30.6   0.234   0.489    13.9  71.7     0.273  \n172  15.7  29.7   0.264   0.503    14.1  71.8     0.236  \n173  12.5  30.7   0.214   0.484    13.0  71.4     0.214  \n\n[174 rows x 87 columns]",
      "text/html": "<div>\n<style scoped>\n    .dataframe tbody tr th:only-of-type {\n        vertical-align: middle;\n    }\n\n    .dataframe tbody tr th {\n        vertical-align: top;\n    }\n\n    .dataframe thead th {\n        text-align: right;\n    }\n</style>\n<table border=\"1\" class=\"dataframe\">\n  <thead>\n    <tr style=\"text-align: right;\">\n      <th></th>\n      <th>Team</th>\n      <th>G</th>\n      <th>MP Per Game</th>\n      <th>FG Per Game</th>\n      <th>FGA Per Game</th>\n      <th>FG%</th>\n      <th>3P Per Game</th>\n      <th>3PA Per Game</th>\n      <th>3P%</th>\n      <th>2P Per Game</th>\n      <th>...</th>\n      <th>3PAr</th>\n      <th>TS%</th>\n      <th>eFG%</th>\n      <th>TOV%</th>\n      <th>ORB%</th>\n      <th>FT/FGA</th>\n      <th>eFG%.1</th>\n      <th>TOV%.1</th>\n      <th>DRB%</th>\n      <th>FT/FGA.1</th>\n    </tr>\n  </thead>\n  <tbody>\n    <tr>\n      <th>0</th>\n      <td>Atlanta Hawks</td>\n      <td>82</td>\n      <td>241.5</td>\n      <td>34.3</td>\n      <td>76.9</td>\n      <td>0.446</td>\n      <td>8.0</td>\n      <td>22.4</td>\n      <td>0.359</td>\n      <td>26.3</td>\n      <td>...</td>\n      <td>0.291</td>\n      <td>0.542</td>\n      <td>0.498</td>\n      <td>14.6</td>\n      <td>31.5</td>\n      <td>0.236</td>\n      <td>0.472</td>\n      <td>15.0</td>\n      <td>69.2</td>\n      <td>0.191</td>\n    </tr>\n    <tr>\n      <th>1</th>\n      <td>Atlanta Hawks</td>\n      <td>82</td>\n      <td>242.4</td>\n      <td>35.2</td>\n      <td>77.5</td>\n      <td>0.455</td>\n      <td>4.1</td>\n      <td>12.4</td>\n      <td>0.332</td>\n      <td>31.1</td>\n      <td>...</td>\n      <td>0.160</td>\n      <td>0.533</td>\n      <td>0.481</td>\n      <td>14.1</td>\n      <td>33.9</td>\n      <td>0.275</td>\n      <td>0.468</td>\n      <td>13.0</td>\n      <td>69.1</td>\n      <td>0.194</td>\n    </tr>\n    <tr>\n      <th>2</th>\n      <td>Atlanta Hawks</td>\n      <td>50</td>\n      <td>241.5</td>\n      <td>30.8</td>\n      <td>75.2</td>\n      <td>0.409</td>\n      <td>3.9</td>\n      <td>12.9</td>\n      <td>0.306</td>\n      <td>26.8</td>\n      <td>...</td>\n      <td>0.171</td>\n      <td>0.492</td>\n      <td>0.436</td>\n      <td>14.5</td>\n      <td>33.1</td>\n      <td>0.277</td>\n      <td>0.437</td>\n      <td>13.4</td>\n      <td>72.1</td>\n      <td>0.202</td>\n    </tr>\n    <tr>\n      <th>3</th>\n      <td>Atlanta Hawks</td>\n      <td>82</td>\n      <td>241.8</td>\n      <td>36.6</td>\n      <td>83.0</td>\n      <td>0.441</td>\n      <td>3.1</td>\n      <td>9.9</td>\n      <td>0.317</td>\n      <td>33.4</td>\n      <td>...</td>\n      <td>0.120</td>\n      <td>0.503</td>\n      <td>0.460</td>\n      <td>14.1</td>\n      <td>31.7</td>\n      <td>0.217</td>\n      <td>0.481</td>\n      <td>11.3</td>\n      <td>71.0</td>\n      <td>0.196</td>\n    </tr>\n    <tr>\n      <th>4</th>\n      <td>Atlanta Hawks</td>\n      <td>82</td>\n      <td>240.6</td>\n      <td>35.1</td>\n      <td>81.3</td>\n      <td>0.431</td>\n      <td>4.1</td>\n      <td>11.4</td>\n      <td>0.357</td>\n      <td>31.0</td>\n      <td>...</td>\n      <td>0.140</td>\n      <td>0.500</td>\n      <td>0.456</td>\n      <td>15.5</td>\n      <td>28.9</td>\n      <td>0.206</td>\n      <td>0.472</td>\n      <td>13.8</td>\n      <td>70.8</td>\n      <td>0.249</td>\n    </tr>\n    <tr>\n      <th>...</th>\n      <td>...</td>\n      <td>...</td>\n      <td>...</td>\n      <td>...</td>\n      <td>...</td>\n      <td>...</td>\n      <td>...</td>\n      <td>...</td>\n      <td>...</td>\n      <td>...</td>\n      <td>...</td>\n      <td>...</td>\n      <td>...</td>\n      <td>...</td>\n      <td>...</td>\n      <td>...</td>\n      <td>...</td>\n      <td>...</td>\n      <td>...</td>\n      <td>...</td>\n      <td>...</td>\n    </tr>\n    <tr>\n      <th>169</th>\n      <td>Washington Wizards</td>\n      <td>82</td>\n      <td>241.5</td>\n      <td>37.6</td>\n      <td>83.1</td>\n      <td>0.452</td>\n      <td>3.9</td>\n      <td>11.5</td>\n      <td>0.339</td>\n      <td>33.7</td>\n      <td>...</td>\n      <td>0.139</td>\n      <td>0.513</td>\n      <td>0.476</td>\n      <td>13.0</td>\n      <td>31.2</td>\n      <td>0.219</td>\n      <td>0.481</td>\n      <td>15.1</td>\n      <td>69.5</td>\n      <td>0.248</td>\n    </tr>\n    <tr>\n      <th>170</th>\n      <td>Washington Wizards</td>\n      <td>50</td>\n      <td>241.0</td>\n      <td>35.4</td>\n      <td>79.4</td>\n      <td>0.445</td>\n      <td>3.6</td>\n      <td>11.6</td>\n      <td>0.309</td>\n      <td>31.8</td>\n      <td>...</td>\n      <td>0.146</td>\n      <td>0.507</td>\n      <td>0.468</td>\n      <td>14.1</td>\n      <td>28.2</td>\n      <td>0.213</td>\n      <td>0.474</td>\n      <td>15.1</td>\n      <td>69.5</td>\n      <td>0.273</td>\n    </tr>\n    <tr>\n      <th>171</th>\n      <td>Washington Wizards</td>\n      <td>82</td>\n      <td>241.5</td>\n      <td>36.7</td>\n      <td>81.5</td>\n      <td>0.451</td>\n      <td>4.1</td>\n      <td>10.9</td>\n      <td>0.376</td>\n      <td>32.6</td>\n      <td>...</td>\n      <td>0.133</td>\n      <td>0.521</td>\n      <td>0.476</td>\n      <td>14.8</td>\n      <td>30.6</td>\n      <td>0.234</td>\n      <td>0.489</td>\n      <td>13.9</td>\n      <td>71.7</td>\n      <td>0.273</td>\n    </tr>\n    <tr>\n      <th>172</th>\n      <td>Washington Wizards</td>\n      <td>82</td>\n      <td>240.0</td>\n      <td>34.5</td>\n      <td>78.7</td>\n      <td>0.439</td>\n      <td>3.4</td>\n      <td>10.3</td>\n      <td>0.324</td>\n      <td>31.2</td>\n      <td>...</td>\n      <td>0.131</td>\n      <td>0.514</td>\n      <td>0.460</td>\n      <td>15.7</td>\n      <td>29.7</td>\n      <td>0.264</td>\n      <td>0.503</td>\n      <td>14.1</td>\n      <td>71.8</td>\n      <td>0.236</td>\n    </tr>\n    <tr>\n      <th>173</th>\n      <td>Washington Wizards</td>\n      <td>82</td>\n      <td>240.6</td>\n      <td>35.8</td>\n      <td>81.3</td>\n      <td>0.441</td>\n      <td>3.7</td>\n      <td>9.6</td>\n      <td>0.388</td>\n      <td>32.1</td>\n      <td>...</td>\n      <td>0.118</td>\n      <td>0.508</td>\n      <td>0.464</td>\n      <td>12.5</td>\n      <td>30.7</td>\n      <td>0.214</td>\n      <td>0.484</td>\n      <td>13.0</td>\n      <td>71.4</td>\n      <td>0.214</td>\n    </tr>\n  </tbody>\n</table>\n<p>174 rows × 87 columns</p>\n</div>"
     },
     "execution_count": 86,
     "metadata": {},
     "output_type": "execute_result"
    }
   ],
   "source": [
    "combine4"
   ],
   "metadata": {
    "collapsed": false,
    "ExecuteTime": {
     "end_time": "2024-06-09T08:04:59.649677Z",
     "start_time": "2024-06-09T08:04:59.636651Z"
    }
   },
   "id": "71b170ad0876ed3e",
   "execution_count": 86
  },
  {
   "cell_type": "code",
   "outputs": [],
   "source": [
    "combine4.to_csv(\"combined_really_new.csv\")"
   ],
   "metadata": {
    "collapsed": false,
    "ExecuteTime": {
     "end_time": "2024-06-09T08:14:30.104408Z",
     "start_time": "2024-06-09T08:14:30.097877Z"
    }
   },
   "id": "58b2bab11fa004e2",
   "execution_count": 97
  },
  {
   "cell_type": "code",
   "outputs": [],
   "source": [
    "combine5 = pd.read_csv(\"combined_really_new.csv\")"
   ],
   "metadata": {
    "collapsed": false,
    "ExecuteTime": {
     "end_time": "2024-06-09T08:16:22.512355Z",
     "start_time": "2024-06-09T08:16:22.507721Z"
    }
   },
   "id": "173724a30df3e94b",
   "execution_count": 98
  },
  {
   "cell_type": "code",
   "outputs": [],
   "source": [
    "stats = pd.read_csv(\"combined_stats_1.csv\")"
   ],
   "metadata": {
    "collapsed": false,
    "ExecuteTime": {
     "end_time": "2024-06-09T08:16:28.157533Z",
     "start_time": "2024-06-09T08:16:28.151410Z"
    }
   },
   "id": "f4c25e5d7004b1c8",
   "execution_count": 99
  },
  {
   "cell_type": "code",
   "outputs": [
    {
     "data": {
      "text/plain": "                   Team   G  MP Per Game  FG Per Game  FGA Per Game  \\\n0         Atlanta Hawks  82        242.7         34.9          78.5   \n1         Atlanta Hawks  82        242.7         34.5          79.6   \n2         Atlanta Hawks  82        242.1         35.9          81.4   \n3         Atlanta Hawks  82        242.4         35.9          79.2   \n4         Atlanta Hawks  82        242.4         34.5          77.7   \n..                  ...  ..          ...          ...           ...   \n623  Washington Wizards  82        243.0         42.1          90.1   \n624  Washington Wizards  72        241.0         41.5          90.9   \n625  Washington Wizards  72        241.7         43.2          90.9   \n626  Washington Wizards  82        241.8         40.6          86.0   \n627  Washington Wizards  82        240.9         42.1          86.9   \n\n     3P Per Game  3PA Per Game  2P Per Game  2PA Per Game  FT Per Game  ...  \\\n0            4.9          13.9         30.0          64.5         19.4  ...   \n1            5.1          15.2         29.4          64.4         18.7  ...   \n2            3.7          11.9         32.2          69.5         17.3  ...   \n3            5.2          14.1         30.8          65.1         20.2  ...   \n4            4.2          12.7         30.4          65.0         20.5  ...   \n..           ...           ...          ...           ...          ...  ...   \n623         11.3          33.3         30.8          56.8         18.4  ...   \n624         12.0          32.6         29.5          58.3         19.4  ...   \n625         10.2          29.0         33.0          61.9         20.1  ...   \n626         10.5          30.6         30.1          55.4         17.0  ...   \n627         11.3          31.7         30.9          55.2         17.6  ...   \n\n     % of 2P's that were assisted  % of 3P's that were assisted  \\\n0                           0.543                         0.856   \n1                           0.537                         0.845   \n2                           0.511                         0.872   \n3                           0.504                         0.837   \n4                           0.518                         0.833   \n..                            ...                           ...   \n623                         0.533                         0.868   \n624                         0.509                         0.832   \n625                         0.501                         0.880   \n626                         0.532                         0.860   \n627                         0.508                         0.862   \n\n     % of FGA that are dunks  Dunks Made  % of corner 3PA  \\\n0                      0.048         297            0.276   \n1                      0.045         289            0.292   \n2                      0.056         354            0.265   \n3                      0.047         290            0.278   \n4                      0.047         273            0.253   \n..                       ...         ...              ...   \n623                    0.067         454            0.213   \n624                    0.047         276            0.167   \n625                    0.055         320            0.231   \n626                    0.065         408            0.246   \n627                    0.059         377            0.215   \n\n     3P% from the corner  champion share  MVP_Shares  Weighted_Share  \\\n0                  0.397          0.0000         NaN          0.0015   \n1                  0.370          0.0000         NaN             NaN   \n2                  0.295          0.0000         NaN             NaN   \n3                  0.383          0.0000         NaN          0.0015   \n4                  0.373          0.0000         NaN          0.0025   \n..                   ...             ...         ...             ...   \n623                0.360          0.0000         NaN          0.0340   \n624                0.388          0.0000         NaN          0.0320   \n625                0.369          0.0625       0.005          0.1860   \n626                0.397          0.0000         NaN             NaN   \n627                0.399          0.0000         NaN             NaN   \n\n     DPOY_Share  \n0        0.0690  \n1           NaN  \n2           NaN  \n3           NaN  \n4        0.0335  \n..          ...  \n623      0.0025  \n624         NaN  \n625      0.0025  \n626         NaN  \n627      0.0025  \n\n[628 rows x 87 columns]",
      "text/html": "<div>\n<style scoped>\n    .dataframe tbody tr th:only-of-type {\n        vertical-align: middle;\n    }\n\n    .dataframe tbody tr th {\n        vertical-align: top;\n    }\n\n    .dataframe thead th {\n        text-align: right;\n    }\n</style>\n<table border=\"1\" class=\"dataframe\">\n  <thead>\n    <tr style=\"text-align: right;\">\n      <th></th>\n      <th>Team</th>\n      <th>G</th>\n      <th>MP Per Game</th>\n      <th>FG Per Game</th>\n      <th>FGA Per Game</th>\n      <th>3P Per Game</th>\n      <th>3PA Per Game</th>\n      <th>2P Per Game</th>\n      <th>2PA Per Game</th>\n      <th>FT Per Game</th>\n      <th>...</th>\n      <th>% of 2P's that were assisted</th>\n      <th>% of 3P's that were assisted</th>\n      <th>% of FGA that are dunks</th>\n      <th>Dunks Made</th>\n      <th>% of corner 3PA</th>\n      <th>3P% from the corner</th>\n      <th>champion share</th>\n      <th>MVP_Shares</th>\n      <th>Weighted_Share</th>\n      <th>DPOY_Share</th>\n    </tr>\n  </thead>\n  <tbody>\n    <tr>\n      <th>0</th>\n      <td>Atlanta Hawks</td>\n      <td>82</td>\n      <td>242.7</td>\n      <td>34.9</td>\n      <td>78.5</td>\n      <td>4.9</td>\n      <td>13.9</td>\n      <td>30.0</td>\n      <td>64.5</td>\n      <td>19.4</td>\n      <td>...</td>\n      <td>0.543</td>\n      <td>0.856</td>\n      <td>0.048</td>\n      <td>297</td>\n      <td>0.276</td>\n      <td>0.397</td>\n      <td>0.0000</td>\n      <td>NaN</td>\n      <td>0.0015</td>\n      <td>0.0690</td>\n    </tr>\n    <tr>\n      <th>1</th>\n      <td>Atlanta Hawks</td>\n      <td>82</td>\n      <td>242.7</td>\n      <td>34.5</td>\n      <td>79.6</td>\n      <td>5.1</td>\n      <td>15.2</td>\n      <td>29.4</td>\n      <td>64.4</td>\n      <td>18.7</td>\n      <td>...</td>\n      <td>0.537</td>\n      <td>0.845</td>\n      <td>0.045</td>\n      <td>289</td>\n      <td>0.292</td>\n      <td>0.370</td>\n      <td>0.0000</td>\n      <td>NaN</td>\n      <td>NaN</td>\n      <td>NaN</td>\n    </tr>\n    <tr>\n      <th>2</th>\n      <td>Atlanta Hawks</td>\n      <td>82</td>\n      <td>242.1</td>\n      <td>35.9</td>\n      <td>81.4</td>\n      <td>3.7</td>\n      <td>11.9</td>\n      <td>32.2</td>\n      <td>69.5</td>\n      <td>17.3</td>\n      <td>...</td>\n      <td>0.511</td>\n      <td>0.872</td>\n      <td>0.056</td>\n      <td>354</td>\n      <td>0.265</td>\n      <td>0.295</td>\n      <td>0.0000</td>\n      <td>NaN</td>\n      <td>NaN</td>\n      <td>NaN</td>\n    </tr>\n    <tr>\n      <th>3</th>\n      <td>Atlanta Hawks</td>\n      <td>82</td>\n      <td>242.4</td>\n      <td>35.9</td>\n      <td>79.2</td>\n      <td>5.2</td>\n      <td>14.1</td>\n      <td>30.8</td>\n      <td>65.1</td>\n      <td>20.2</td>\n      <td>...</td>\n      <td>0.504</td>\n      <td>0.837</td>\n      <td>0.047</td>\n      <td>290</td>\n      <td>0.278</td>\n      <td>0.383</td>\n      <td>0.0000</td>\n      <td>NaN</td>\n      <td>0.0015</td>\n      <td>NaN</td>\n    </tr>\n    <tr>\n      <th>4</th>\n      <td>Atlanta Hawks</td>\n      <td>82</td>\n      <td>242.4</td>\n      <td>34.5</td>\n      <td>77.7</td>\n      <td>4.2</td>\n      <td>12.7</td>\n      <td>30.4</td>\n      <td>65.0</td>\n      <td>20.5</td>\n      <td>...</td>\n      <td>0.518</td>\n      <td>0.833</td>\n      <td>0.047</td>\n      <td>273</td>\n      <td>0.253</td>\n      <td>0.373</td>\n      <td>0.0000</td>\n      <td>NaN</td>\n      <td>0.0025</td>\n      <td>0.0335</td>\n    </tr>\n    <tr>\n      <th>...</th>\n      <td>...</td>\n      <td>...</td>\n      <td>...</td>\n      <td>...</td>\n      <td>...</td>\n      <td>...</td>\n      <td>...</td>\n      <td>...</td>\n      <td>...</td>\n      <td>...</td>\n      <td>...</td>\n      <td>...</td>\n      <td>...</td>\n      <td>...</td>\n      <td>...</td>\n      <td>...</td>\n      <td>...</td>\n      <td>...</td>\n      <td>...</td>\n      <td>...</td>\n      <td>...</td>\n    </tr>\n    <tr>\n      <th>623</th>\n      <td>Washington Wizards</td>\n      <td>82</td>\n      <td>243.0</td>\n      <td>42.1</td>\n      <td>90.1</td>\n      <td>11.3</td>\n      <td>33.3</td>\n      <td>30.8</td>\n      <td>56.8</td>\n      <td>18.4</td>\n      <td>...</td>\n      <td>0.533</td>\n      <td>0.868</td>\n      <td>0.067</td>\n      <td>454</td>\n      <td>0.213</td>\n      <td>0.360</td>\n      <td>0.0000</td>\n      <td>NaN</td>\n      <td>0.0340</td>\n      <td>0.0025</td>\n    </tr>\n    <tr>\n      <th>624</th>\n      <td>Washington Wizards</td>\n      <td>72</td>\n      <td>241.0</td>\n      <td>41.5</td>\n      <td>90.9</td>\n      <td>12.0</td>\n      <td>32.6</td>\n      <td>29.5</td>\n      <td>58.3</td>\n      <td>19.4</td>\n      <td>...</td>\n      <td>0.509</td>\n      <td>0.832</td>\n      <td>0.047</td>\n      <td>276</td>\n      <td>0.167</td>\n      <td>0.388</td>\n      <td>0.0000</td>\n      <td>NaN</td>\n      <td>0.0320</td>\n      <td>NaN</td>\n    </tr>\n    <tr>\n      <th>625</th>\n      <td>Washington Wizards</td>\n      <td>72</td>\n      <td>241.7</td>\n      <td>43.2</td>\n      <td>90.9</td>\n      <td>10.2</td>\n      <td>29.0</td>\n      <td>33.0</td>\n      <td>61.9</td>\n      <td>20.1</td>\n      <td>...</td>\n      <td>0.501</td>\n      <td>0.880</td>\n      <td>0.055</td>\n      <td>320</td>\n      <td>0.231</td>\n      <td>0.369</td>\n      <td>0.0625</td>\n      <td>0.005</td>\n      <td>0.1860</td>\n      <td>0.0025</td>\n    </tr>\n    <tr>\n      <th>626</th>\n      <td>Washington Wizards</td>\n      <td>82</td>\n      <td>241.8</td>\n      <td>40.6</td>\n      <td>86.0</td>\n      <td>10.5</td>\n      <td>30.6</td>\n      <td>30.1</td>\n      <td>55.4</td>\n      <td>17.0</td>\n      <td>...</td>\n      <td>0.532</td>\n      <td>0.860</td>\n      <td>0.065</td>\n      <td>408</td>\n      <td>0.246</td>\n      <td>0.397</td>\n      <td>0.0000</td>\n      <td>NaN</td>\n      <td>NaN</td>\n      <td>NaN</td>\n    </tr>\n    <tr>\n      <th>627</th>\n      <td>Washington Wizards</td>\n      <td>82</td>\n      <td>240.9</td>\n      <td>42.1</td>\n      <td>86.9</td>\n      <td>11.3</td>\n      <td>31.7</td>\n      <td>30.9</td>\n      <td>55.2</td>\n      <td>17.6</td>\n      <td>...</td>\n      <td>0.508</td>\n      <td>0.862</td>\n      <td>0.059</td>\n      <td>377</td>\n      <td>0.215</td>\n      <td>0.399</td>\n      <td>0.0000</td>\n      <td>NaN</td>\n      <td>NaN</td>\n      <td>0.0025</td>\n    </tr>\n  </tbody>\n</table>\n<p>628 rows × 87 columns</p>\n</div>"
     },
     "execution_count": 100,
     "metadata": {},
     "output_type": "execute_result"
    }
   ],
   "source": [
    "stats"
   ],
   "metadata": {
    "collapsed": false,
    "ExecuteTime": {
     "end_time": "2024-06-09T08:16:28.749225Z",
     "start_time": "2024-06-09T08:16:28.738094Z"
    }
   },
   "id": "ee1e0292afd939b5",
   "execution_count": 100
  },
  {
   "cell_type": "code",
   "outputs": [],
   "source": [
    "column_order = stats.columns"
   ],
   "metadata": {
    "collapsed": false,
    "ExecuteTime": {
     "end_time": "2024-06-09T08:17:38.164616Z",
     "start_time": "2024-06-09T08:17:38.162438Z"
    }
   },
   "id": "7c0c60e542f88db8",
   "execution_count": 103
  },
  {
   "cell_type": "code",
   "outputs": [],
   "source": [
    "combine5 = combine5[column_order]"
   ],
   "metadata": {
    "collapsed": false,
    "ExecuteTime": {
     "end_time": "2024-06-09T08:17:54.300754Z",
     "start_time": "2024-06-09T08:17:54.298404Z"
    }
   },
   "id": "3381233a58367f78",
   "execution_count": 105
  },
  {
   "cell_type": "code",
   "outputs": [],
   "source": [
    "merged_df = pd.concat([combine5, stats], ignore_index=True)"
   ],
   "metadata": {
    "collapsed": false,
    "ExecuteTime": {
     "end_time": "2024-06-09T08:18:36.684824Z",
     "start_time": "2024-06-09T08:18:36.681262Z"
    }
   },
   "id": "72b0883981ec9151",
   "execution_count": 106
  },
  {
   "cell_type": "code",
   "outputs": [
    {
     "data": {
      "text/plain": "                   Team   G  MP Per Game  FG Per Game  FGA Per Game  \\\n0         Atlanta Hawks  82        241.5         34.3          76.9   \n1         Atlanta Hawks  82        242.4         35.2          77.5   \n2         Atlanta Hawks  50        241.5         30.8          75.2   \n3         Atlanta Hawks  82        241.8         36.6          83.0   \n4         Atlanta Hawks  82        240.6         35.1          81.3   \n..                  ...  ..          ...          ...           ...   \n797  Washington Wizards  82        243.0         42.1          90.1   \n798  Washington Wizards  72        241.0         41.5          90.9   \n799  Washington Wizards  72        241.7         43.2          90.9   \n800  Washington Wizards  82        241.8         40.6          86.0   \n801  Washington Wizards  82        240.9         42.1          86.9   \n\n     3P Per Game  3PA Per Game  2P Per Game  2PA Per Game  FT Per Game  ...  \\\n0            8.0          22.4         26.3          54.5         18.2  ...   \n1            4.1          12.4         31.1          65.1         21.3  ...   \n2            3.9          12.9         26.8          62.3         20.8  ...   \n3            3.1           9.9         33.4          73.1         18.0  ...   \n4            4.1          11.4         31.0          69.9         16.8  ...   \n..           ...           ...          ...           ...          ...  ...   \n797         11.3          33.3         30.8          56.8         18.4  ...   \n798         12.0          32.6         29.5          58.3         19.4  ...   \n799         10.2          29.0         33.0          61.9         20.1  ...   \n800         10.5          30.6         30.1          55.4         17.0  ...   \n801         11.3          31.7         30.9          55.2         17.6  ...   \n\n     % of 2P's that were assisted  % of 3P's that were assisted  \\\n0                           0.505                         0.712   \n1                           0.516                         0.748   \n2                           0.477                         0.716   \n3                           0.489                         0.806   \n4                           0.507                         0.811   \n..                            ...                           ...   \n797                         0.533                         0.868   \n798                         0.509                         0.832   \n799                         0.501                         0.880   \n800                         0.532                         0.860   \n801                         0.508                         0.862   \n\n     % of FGA that are dunks  Dunks Made  % of corner 3PA  \\\n0                      0.043         259            0.146   \n1                      0.054         304            0.102   \n2                      0.037         126            0.092   \n3                      0.038         236            0.128   \n4                      0.037         224            0.228   \n..                       ...         ...              ...   \n797                    0.067         454            0.213   \n798                    0.047         276            0.167   \n799                    0.055         320            0.231   \n800                    0.065         408            0.246   \n801                    0.059         377            0.215   \n\n     3P% from the corner  champion share  MVP_Shares  Weighted_Share  \\\n0                  0.410        0.266667       0.004          0.1245   \n1                  0.288        0.066667         NaN          0.1950   \n2                  0.322        0.200000       0.001          0.0815   \n3                  0.452        0.000000         NaN          0.0215   \n4                  0.371        0.000000         NaN             NaN   \n..                   ...             ...         ...             ...   \n797                0.360        0.000000         NaN          0.0340   \n798                0.388        0.000000         NaN          0.0320   \n799                0.369        0.062500       0.005          0.1860   \n800                0.397        0.000000         NaN             NaN   \n801                0.399        0.000000         NaN             NaN   \n\n     DPOY_Share  \n0       1.31425  \n1       1.12575  \n2       0.79325  \n3       0.07750  \n4           NaN  \n..          ...  \n797     0.00250  \n798         NaN  \n799     0.00250  \n800         NaN  \n801     0.00250  \n\n[802 rows x 87 columns]",
      "text/html": "<div>\n<style scoped>\n    .dataframe tbody tr th:only-of-type {\n        vertical-align: middle;\n    }\n\n    .dataframe tbody tr th {\n        vertical-align: top;\n    }\n\n    .dataframe thead th {\n        text-align: right;\n    }\n</style>\n<table border=\"1\" class=\"dataframe\">\n  <thead>\n    <tr style=\"text-align: right;\">\n      <th></th>\n      <th>Team</th>\n      <th>G</th>\n      <th>MP Per Game</th>\n      <th>FG Per Game</th>\n      <th>FGA Per Game</th>\n      <th>3P Per Game</th>\n      <th>3PA Per Game</th>\n      <th>2P Per Game</th>\n      <th>2PA Per Game</th>\n      <th>FT Per Game</th>\n      <th>...</th>\n      <th>% of 2P's that were assisted</th>\n      <th>% of 3P's that were assisted</th>\n      <th>% of FGA that are dunks</th>\n      <th>Dunks Made</th>\n      <th>% of corner 3PA</th>\n      <th>3P% from the corner</th>\n      <th>champion share</th>\n      <th>MVP_Shares</th>\n      <th>Weighted_Share</th>\n      <th>DPOY_Share</th>\n    </tr>\n  </thead>\n  <tbody>\n    <tr>\n      <th>0</th>\n      <td>Atlanta Hawks</td>\n      <td>82</td>\n      <td>241.5</td>\n      <td>34.3</td>\n      <td>76.9</td>\n      <td>8.0</td>\n      <td>22.4</td>\n      <td>26.3</td>\n      <td>54.5</td>\n      <td>18.2</td>\n      <td>...</td>\n      <td>0.505</td>\n      <td>0.712</td>\n      <td>0.043</td>\n      <td>259</td>\n      <td>0.146</td>\n      <td>0.410</td>\n      <td>0.266667</td>\n      <td>0.004</td>\n      <td>0.1245</td>\n      <td>1.31425</td>\n    </tr>\n    <tr>\n      <th>1</th>\n      <td>Atlanta Hawks</td>\n      <td>82</td>\n      <td>242.4</td>\n      <td>35.2</td>\n      <td>77.5</td>\n      <td>4.1</td>\n      <td>12.4</td>\n      <td>31.1</td>\n      <td>65.1</td>\n      <td>21.3</td>\n      <td>...</td>\n      <td>0.516</td>\n      <td>0.748</td>\n      <td>0.054</td>\n      <td>304</td>\n      <td>0.102</td>\n      <td>0.288</td>\n      <td>0.066667</td>\n      <td>NaN</td>\n      <td>0.1950</td>\n      <td>1.12575</td>\n    </tr>\n    <tr>\n      <th>2</th>\n      <td>Atlanta Hawks</td>\n      <td>50</td>\n      <td>241.5</td>\n      <td>30.8</td>\n      <td>75.2</td>\n      <td>3.9</td>\n      <td>12.9</td>\n      <td>26.8</td>\n      <td>62.3</td>\n      <td>20.8</td>\n      <td>...</td>\n      <td>0.477</td>\n      <td>0.716</td>\n      <td>0.037</td>\n      <td>126</td>\n      <td>0.092</td>\n      <td>0.322</td>\n      <td>0.200000</td>\n      <td>0.001</td>\n      <td>0.0815</td>\n      <td>0.79325</td>\n    </tr>\n    <tr>\n      <th>3</th>\n      <td>Atlanta Hawks</td>\n      <td>82</td>\n      <td>241.8</td>\n      <td>36.6</td>\n      <td>83.0</td>\n      <td>3.1</td>\n      <td>9.9</td>\n      <td>33.4</td>\n      <td>73.1</td>\n      <td>18.0</td>\n      <td>...</td>\n      <td>0.489</td>\n      <td>0.806</td>\n      <td>0.038</td>\n      <td>236</td>\n      <td>0.128</td>\n      <td>0.452</td>\n      <td>0.000000</td>\n      <td>NaN</td>\n      <td>0.0215</td>\n      <td>0.07750</td>\n    </tr>\n    <tr>\n      <th>4</th>\n      <td>Atlanta Hawks</td>\n      <td>82</td>\n      <td>240.6</td>\n      <td>35.1</td>\n      <td>81.3</td>\n      <td>4.1</td>\n      <td>11.4</td>\n      <td>31.0</td>\n      <td>69.9</td>\n      <td>16.8</td>\n      <td>...</td>\n      <td>0.507</td>\n      <td>0.811</td>\n      <td>0.037</td>\n      <td>224</td>\n      <td>0.228</td>\n      <td>0.371</td>\n      <td>0.000000</td>\n      <td>NaN</td>\n      <td>NaN</td>\n      <td>NaN</td>\n    </tr>\n    <tr>\n      <th>...</th>\n      <td>...</td>\n      <td>...</td>\n      <td>...</td>\n      <td>...</td>\n      <td>...</td>\n      <td>...</td>\n      <td>...</td>\n      <td>...</td>\n      <td>...</td>\n      <td>...</td>\n      <td>...</td>\n      <td>...</td>\n      <td>...</td>\n      <td>...</td>\n      <td>...</td>\n      <td>...</td>\n      <td>...</td>\n      <td>...</td>\n      <td>...</td>\n      <td>...</td>\n      <td>...</td>\n    </tr>\n    <tr>\n      <th>797</th>\n      <td>Washington Wizards</td>\n      <td>82</td>\n      <td>243.0</td>\n      <td>42.1</td>\n      <td>90.1</td>\n      <td>11.3</td>\n      <td>33.3</td>\n      <td>30.8</td>\n      <td>56.8</td>\n      <td>18.4</td>\n      <td>...</td>\n      <td>0.533</td>\n      <td>0.868</td>\n      <td>0.067</td>\n      <td>454</td>\n      <td>0.213</td>\n      <td>0.360</td>\n      <td>0.000000</td>\n      <td>NaN</td>\n      <td>0.0340</td>\n      <td>0.00250</td>\n    </tr>\n    <tr>\n      <th>798</th>\n      <td>Washington Wizards</td>\n      <td>72</td>\n      <td>241.0</td>\n      <td>41.5</td>\n      <td>90.9</td>\n      <td>12.0</td>\n      <td>32.6</td>\n      <td>29.5</td>\n      <td>58.3</td>\n      <td>19.4</td>\n      <td>...</td>\n      <td>0.509</td>\n      <td>0.832</td>\n      <td>0.047</td>\n      <td>276</td>\n      <td>0.167</td>\n      <td>0.388</td>\n      <td>0.000000</td>\n      <td>NaN</td>\n      <td>0.0320</td>\n      <td>NaN</td>\n    </tr>\n    <tr>\n      <th>799</th>\n      <td>Washington Wizards</td>\n      <td>72</td>\n      <td>241.7</td>\n      <td>43.2</td>\n      <td>90.9</td>\n      <td>10.2</td>\n      <td>29.0</td>\n      <td>33.0</td>\n      <td>61.9</td>\n      <td>20.1</td>\n      <td>...</td>\n      <td>0.501</td>\n      <td>0.880</td>\n      <td>0.055</td>\n      <td>320</td>\n      <td>0.231</td>\n      <td>0.369</td>\n      <td>0.062500</td>\n      <td>0.005</td>\n      <td>0.1860</td>\n      <td>0.00250</td>\n    </tr>\n    <tr>\n      <th>800</th>\n      <td>Washington Wizards</td>\n      <td>82</td>\n      <td>241.8</td>\n      <td>40.6</td>\n      <td>86.0</td>\n      <td>10.5</td>\n      <td>30.6</td>\n      <td>30.1</td>\n      <td>55.4</td>\n      <td>17.0</td>\n      <td>...</td>\n      <td>0.532</td>\n      <td>0.860</td>\n      <td>0.065</td>\n      <td>408</td>\n      <td>0.246</td>\n      <td>0.397</td>\n      <td>0.000000</td>\n      <td>NaN</td>\n      <td>NaN</td>\n      <td>NaN</td>\n    </tr>\n    <tr>\n      <th>801</th>\n      <td>Washington Wizards</td>\n      <td>82</td>\n      <td>240.9</td>\n      <td>42.1</td>\n      <td>86.9</td>\n      <td>11.3</td>\n      <td>31.7</td>\n      <td>30.9</td>\n      <td>55.2</td>\n      <td>17.6</td>\n      <td>...</td>\n      <td>0.508</td>\n      <td>0.862</td>\n      <td>0.059</td>\n      <td>377</td>\n      <td>0.215</td>\n      <td>0.399</td>\n      <td>0.000000</td>\n      <td>NaN</td>\n      <td>NaN</td>\n      <td>0.00250</td>\n    </tr>\n  </tbody>\n</table>\n<p>802 rows × 87 columns</p>\n</div>"
     },
     "execution_count": 109,
     "metadata": {},
     "output_type": "execute_result"
    }
   ],
   "source": [
    "merged_df"
   ],
   "metadata": {
    "collapsed": false,
    "ExecuteTime": {
     "end_time": "2024-06-09T08:25:11.476205Z",
     "start_time": "2024-06-09T08:25:11.459797Z"
    }
   },
   "id": "26d325ab6456cee",
   "execution_count": 109
  },
  {
   "cell_type": "code",
   "outputs": [],
   "source": [
    "merged_df.fillna(0, inplace=True)"
   ],
   "metadata": {
    "collapsed": false,
    "ExecuteTime": {
     "end_time": "2024-06-09T08:29:25.081847Z",
     "start_time": "2024-06-09T08:29:25.079569Z"
    }
   },
   "id": "d28da1acfe71bef6",
   "execution_count": 112
  },
  {
   "cell_type": "code",
   "outputs": [
    {
     "data": {
      "text/plain": "                   Team   G  MP Per Game  FG Per Game  FGA Per Game  \\\n0         Atlanta Hawks  82        241.5         34.3          76.9   \n1         Atlanta Hawks  82        242.4         35.2          77.5   \n2         Atlanta Hawks  50        241.5         30.8          75.2   \n3         Atlanta Hawks  82        241.8         36.6          83.0   \n4         Atlanta Hawks  82        240.6         35.1          81.3   \n..                  ...  ..          ...          ...           ...   \n797  Washington Wizards  82        243.0         42.1          90.1   \n798  Washington Wizards  72        241.0         41.5          90.9   \n799  Washington Wizards  72        241.7         43.2          90.9   \n800  Washington Wizards  82        241.8         40.6          86.0   \n801  Washington Wizards  82        240.9         42.1          86.9   \n\n     3P Per Game  3PA Per Game  2P Per Game  2PA Per Game  FT Per Game  ...  \\\n0            8.0          22.4         26.3          54.5         18.2  ...   \n1            4.1          12.4         31.1          65.1         21.3  ...   \n2            3.9          12.9         26.8          62.3         20.8  ...   \n3            3.1           9.9         33.4          73.1         18.0  ...   \n4            4.1          11.4         31.0          69.9         16.8  ...   \n..           ...           ...          ...           ...          ...  ...   \n797         11.3          33.3         30.8          56.8         18.4  ...   \n798         12.0          32.6         29.5          58.3         19.4  ...   \n799         10.2          29.0         33.0          61.9         20.1  ...   \n800         10.5          30.6         30.1          55.4         17.0  ...   \n801         11.3          31.7         30.9          55.2         17.6  ...   \n\n     % of 2P's that were assisted  % of 3P's that were assisted  \\\n0                           0.505                         0.712   \n1                           0.516                         0.748   \n2                           0.477                         0.716   \n3                           0.489                         0.806   \n4                           0.507                         0.811   \n..                            ...                           ...   \n797                         0.533                         0.868   \n798                         0.509                         0.832   \n799                         0.501                         0.880   \n800                         0.532                         0.860   \n801                         0.508                         0.862   \n\n     % of FGA that are dunks  Dunks Made  % of corner 3PA  \\\n0                      0.043         259            0.146   \n1                      0.054         304            0.102   \n2                      0.037         126            0.092   \n3                      0.038         236            0.128   \n4                      0.037         224            0.228   \n..                       ...         ...              ...   \n797                    0.067         454            0.213   \n798                    0.047         276            0.167   \n799                    0.055         320            0.231   \n800                    0.065         408            0.246   \n801                    0.059         377            0.215   \n\n     3P% from the corner  champion share  MVP_Shares  Weighted_Share  \\\n0                  0.410        0.266667       0.004          0.1245   \n1                  0.288        0.066667       0.000          0.1950   \n2                  0.322        0.200000       0.001          0.0815   \n3                  0.452        0.000000       0.000          0.0215   \n4                  0.371        0.000000       0.000          0.0000   \n..                   ...             ...         ...             ...   \n797                0.360        0.000000       0.000          0.0340   \n798                0.388        0.000000       0.000          0.0320   \n799                0.369        0.062500       0.005          0.1860   \n800                0.397        0.000000       0.000          0.0000   \n801                0.399        0.000000       0.000          0.0000   \n\n     DPOY_Share  \n0       1.31425  \n1       1.12575  \n2       0.79325  \n3       0.07750  \n4       0.00000  \n..          ...  \n797     0.00250  \n798     0.00000  \n799     0.00250  \n800     0.00000  \n801     0.00250  \n\n[802 rows x 87 columns]",
      "text/html": "<div>\n<style scoped>\n    .dataframe tbody tr th:only-of-type {\n        vertical-align: middle;\n    }\n\n    .dataframe tbody tr th {\n        vertical-align: top;\n    }\n\n    .dataframe thead th {\n        text-align: right;\n    }\n</style>\n<table border=\"1\" class=\"dataframe\">\n  <thead>\n    <tr style=\"text-align: right;\">\n      <th></th>\n      <th>Team</th>\n      <th>G</th>\n      <th>MP Per Game</th>\n      <th>FG Per Game</th>\n      <th>FGA Per Game</th>\n      <th>3P Per Game</th>\n      <th>3PA Per Game</th>\n      <th>2P Per Game</th>\n      <th>2PA Per Game</th>\n      <th>FT Per Game</th>\n      <th>...</th>\n      <th>% of 2P's that were assisted</th>\n      <th>% of 3P's that were assisted</th>\n      <th>% of FGA that are dunks</th>\n      <th>Dunks Made</th>\n      <th>% of corner 3PA</th>\n      <th>3P% from the corner</th>\n      <th>champion share</th>\n      <th>MVP_Shares</th>\n      <th>Weighted_Share</th>\n      <th>DPOY_Share</th>\n    </tr>\n  </thead>\n  <tbody>\n    <tr>\n      <th>0</th>\n      <td>Atlanta Hawks</td>\n      <td>82</td>\n      <td>241.5</td>\n      <td>34.3</td>\n      <td>76.9</td>\n      <td>8.0</td>\n      <td>22.4</td>\n      <td>26.3</td>\n      <td>54.5</td>\n      <td>18.2</td>\n      <td>...</td>\n      <td>0.505</td>\n      <td>0.712</td>\n      <td>0.043</td>\n      <td>259</td>\n      <td>0.146</td>\n      <td>0.410</td>\n      <td>0.266667</td>\n      <td>0.004</td>\n      <td>0.1245</td>\n      <td>1.31425</td>\n    </tr>\n    <tr>\n      <th>1</th>\n      <td>Atlanta Hawks</td>\n      <td>82</td>\n      <td>242.4</td>\n      <td>35.2</td>\n      <td>77.5</td>\n      <td>4.1</td>\n      <td>12.4</td>\n      <td>31.1</td>\n      <td>65.1</td>\n      <td>21.3</td>\n      <td>...</td>\n      <td>0.516</td>\n      <td>0.748</td>\n      <td>0.054</td>\n      <td>304</td>\n      <td>0.102</td>\n      <td>0.288</td>\n      <td>0.066667</td>\n      <td>0.000</td>\n      <td>0.1950</td>\n      <td>1.12575</td>\n    </tr>\n    <tr>\n      <th>2</th>\n      <td>Atlanta Hawks</td>\n      <td>50</td>\n      <td>241.5</td>\n      <td>30.8</td>\n      <td>75.2</td>\n      <td>3.9</td>\n      <td>12.9</td>\n      <td>26.8</td>\n      <td>62.3</td>\n      <td>20.8</td>\n      <td>...</td>\n      <td>0.477</td>\n      <td>0.716</td>\n      <td>0.037</td>\n      <td>126</td>\n      <td>0.092</td>\n      <td>0.322</td>\n      <td>0.200000</td>\n      <td>0.001</td>\n      <td>0.0815</td>\n      <td>0.79325</td>\n    </tr>\n    <tr>\n      <th>3</th>\n      <td>Atlanta Hawks</td>\n      <td>82</td>\n      <td>241.8</td>\n      <td>36.6</td>\n      <td>83.0</td>\n      <td>3.1</td>\n      <td>9.9</td>\n      <td>33.4</td>\n      <td>73.1</td>\n      <td>18.0</td>\n      <td>...</td>\n      <td>0.489</td>\n      <td>0.806</td>\n      <td>0.038</td>\n      <td>236</td>\n      <td>0.128</td>\n      <td>0.452</td>\n      <td>0.000000</td>\n      <td>0.000</td>\n      <td>0.0215</td>\n      <td>0.07750</td>\n    </tr>\n    <tr>\n      <th>4</th>\n      <td>Atlanta Hawks</td>\n      <td>82</td>\n      <td>240.6</td>\n      <td>35.1</td>\n      <td>81.3</td>\n      <td>4.1</td>\n      <td>11.4</td>\n      <td>31.0</td>\n      <td>69.9</td>\n      <td>16.8</td>\n      <td>...</td>\n      <td>0.507</td>\n      <td>0.811</td>\n      <td>0.037</td>\n      <td>224</td>\n      <td>0.228</td>\n      <td>0.371</td>\n      <td>0.000000</td>\n      <td>0.000</td>\n      <td>0.0000</td>\n      <td>0.00000</td>\n    </tr>\n    <tr>\n      <th>...</th>\n      <td>...</td>\n      <td>...</td>\n      <td>...</td>\n      <td>...</td>\n      <td>...</td>\n      <td>...</td>\n      <td>...</td>\n      <td>...</td>\n      <td>...</td>\n      <td>...</td>\n      <td>...</td>\n      <td>...</td>\n      <td>...</td>\n      <td>...</td>\n      <td>...</td>\n      <td>...</td>\n      <td>...</td>\n      <td>...</td>\n      <td>...</td>\n      <td>...</td>\n      <td>...</td>\n    </tr>\n    <tr>\n      <th>797</th>\n      <td>Washington Wizards</td>\n      <td>82</td>\n      <td>243.0</td>\n      <td>42.1</td>\n      <td>90.1</td>\n      <td>11.3</td>\n      <td>33.3</td>\n      <td>30.8</td>\n      <td>56.8</td>\n      <td>18.4</td>\n      <td>...</td>\n      <td>0.533</td>\n      <td>0.868</td>\n      <td>0.067</td>\n      <td>454</td>\n      <td>0.213</td>\n      <td>0.360</td>\n      <td>0.000000</td>\n      <td>0.000</td>\n      <td>0.0340</td>\n      <td>0.00250</td>\n    </tr>\n    <tr>\n      <th>798</th>\n      <td>Washington Wizards</td>\n      <td>72</td>\n      <td>241.0</td>\n      <td>41.5</td>\n      <td>90.9</td>\n      <td>12.0</td>\n      <td>32.6</td>\n      <td>29.5</td>\n      <td>58.3</td>\n      <td>19.4</td>\n      <td>...</td>\n      <td>0.509</td>\n      <td>0.832</td>\n      <td>0.047</td>\n      <td>276</td>\n      <td>0.167</td>\n      <td>0.388</td>\n      <td>0.000000</td>\n      <td>0.000</td>\n      <td>0.0320</td>\n      <td>0.00000</td>\n    </tr>\n    <tr>\n      <th>799</th>\n      <td>Washington Wizards</td>\n      <td>72</td>\n      <td>241.7</td>\n      <td>43.2</td>\n      <td>90.9</td>\n      <td>10.2</td>\n      <td>29.0</td>\n      <td>33.0</td>\n      <td>61.9</td>\n      <td>20.1</td>\n      <td>...</td>\n      <td>0.501</td>\n      <td>0.880</td>\n      <td>0.055</td>\n      <td>320</td>\n      <td>0.231</td>\n      <td>0.369</td>\n      <td>0.062500</td>\n      <td>0.005</td>\n      <td>0.1860</td>\n      <td>0.00250</td>\n    </tr>\n    <tr>\n      <th>800</th>\n      <td>Washington Wizards</td>\n      <td>82</td>\n      <td>241.8</td>\n      <td>40.6</td>\n      <td>86.0</td>\n      <td>10.5</td>\n      <td>30.6</td>\n      <td>30.1</td>\n      <td>55.4</td>\n      <td>17.0</td>\n      <td>...</td>\n      <td>0.532</td>\n      <td>0.860</td>\n      <td>0.065</td>\n      <td>408</td>\n      <td>0.246</td>\n      <td>0.397</td>\n      <td>0.000000</td>\n      <td>0.000</td>\n      <td>0.0000</td>\n      <td>0.00000</td>\n    </tr>\n    <tr>\n      <th>801</th>\n      <td>Washington Wizards</td>\n      <td>82</td>\n      <td>240.9</td>\n      <td>42.1</td>\n      <td>86.9</td>\n      <td>11.3</td>\n      <td>31.7</td>\n      <td>30.9</td>\n      <td>55.2</td>\n      <td>17.6</td>\n      <td>...</td>\n      <td>0.508</td>\n      <td>0.862</td>\n      <td>0.059</td>\n      <td>377</td>\n      <td>0.215</td>\n      <td>0.399</td>\n      <td>0.000000</td>\n      <td>0.000</td>\n      <td>0.0000</td>\n      <td>0.00250</td>\n    </tr>\n  </tbody>\n</table>\n<p>802 rows × 87 columns</p>\n</div>"
     },
     "execution_count": 116,
     "metadata": {},
     "output_type": "execute_result"
    }
   ],
   "source": [
    "merged_df"
   ],
   "metadata": {
    "collapsed": false,
    "ExecuteTime": {
     "end_time": "2024-06-10T02:00:30.366125Z",
     "start_time": "2024-06-10T02:00:30.345732Z"
    }
   },
   "id": "e615bb273a23f503",
   "execution_count": 116
  },
  {
   "cell_type": "code",
   "outputs": [],
   "source": [
    "merged_df.to_csv(\"combined_stats_2.csv\")"
   ],
   "metadata": {
    "collapsed": false,
    "ExecuteTime": {
     "end_time": "2024-06-09T08:30:01.743748Z",
     "start_time": "2024-06-09T08:30:01.715137Z"
    }
   },
   "id": "9c545078fa7d42e",
   "execution_count": 115
  },
  {
   "cell_type": "code",
   "outputs": [],
   "source": [
    "coaches = pd.read_csv(\"coaches.csv\")"
   ],
   "metadata": {
    "collapsed": false,
    "ExecuteTime": {
     "end_time": "2024-06-10T05:42:19.738651Z",
     "start_time": "2024-06-10T05:42:19.733096Z"
    }
   },
   "id": "b3d8fcb163425fcf",
   "execution_count": 152
  },
  {
   "cell_type": "code",
   "outputs": [
    {
     "data": {
      "text/plain": "              Coach Team  Seasons With Franchise  Seasons Coaching  G (CS)  \\\n0     Lenny Wilkens  ATL                       4                24      82   \n1         M.L. Carr  BOS                       2                 2      82   \n2       Dave Cowens  CHH                       1                 2      82   \n3      Phil Jackson  CHI                       8                 8      82   \n4     Mike Fratello  CLE                       4                12      82   \n..              ...  ...                     ...               ...     ...   \n801      Mike Brown  SAC                       1                 9      82   \n802  Gregg Popovich  SAS                      27                27      82   \n803      Nick Nurse  TOR                       5                 5      82   \n804      Will Hardy  UTA                       1                 1      82   \n805      Wes Unseld  WAS                       2                 2      82   \n\n     W (CS)  L (CS)  G (F)  W (F)  L (F)  ...  G (P)  W (P)  L (P)  G (PF)  \\\n0        56      26    328    201    127  ...   10.0    4.0    6.0    34.0   \n1        15      67    164     48    116  ...    NaN    NaN    NaN     NaN   \n2        54      28     82     54     28  ...    3.0    0.0    3.0     3.0   \n3        69      13    656    483    173  ...   19.0   15.0    4.0   131.0   \n4        42      40    328    179    149  ...    NaN    NaN    NaN    10.0   \n..      ...     ...    ...    ...    ...  ...    ...    ...    ...     ...   \n801      48      34     82     48     34  ...    7.0    3.0    4.0     7.0   \n802      22      60   2127   1366    761  ...    NaN    NaN    NaN   284.0   \n803      41      41    390    227    163  ...    NaN    NaN    NaN    41.0   \n804      37      45     82     37     45  ...    NaN    NaN    NaN     NaN   \n805      35      47    164     70     94  ...    NaN    NaN    NaN     NaN   \n\n     W (PF)  L (PF)  G (P Car)  W (P Car)  L (P Car)  Season  \n0      13.0    21.0      144.0       68.0       76.0    1997  \n1       NaN     NaN        NaN        NaN        NaN    1997  \n2       0.0     3.0        3.0        0.0        3.0    1997  \n3      96.0    35.0      131.0       96.0       35.0    1997  \n4       1.0     9.0       50.0       19.0       31.0    1997  \n..      ...     ...        ...        ...        ...     ...  \n801     3.0     4.0       90.0       50.0       40.0    2023  \n802   170.0   114.0      284.0      170.0      114.0    2023  \n803    25.0    16.0       41.0       25.0       16.0    2023  \n804     NaN     NaN        NaN        NaN        NaN    2023  \n805     NaN     NaN        NaN        NaN        NaN    2023  \n\n[806 rows x 24 columns]",
      "text/html": "<div>\n<style scoped>\n    .dataframe tbody tr th:only-of-type {\n        vertical-align: middle;\n    }\n\n    .dataframe tbody tr th {\n        vertical-align: top;\n    }\n\n    .dataframe thead th {\n        text-align: right;\n    }\n</style>\n<table border=\"1\" class=\"dataframe\">\n  <thead>\n    <tr style=\"text-align: right;\">\n      <th></th>\n      <th>Coach</th>\n      <th>Team</th>\n      <th>Seasons With Franchise</th>\n      <th>Seasons Coaching</th>\n      <th>G (CS)</th>\n      <th>W (CS)</th>\n      <th>L (CS)</th>\n      <th>G (F)</th>\n      <th>W (F)</th>\n      <th>L (F)</th>\n      <th>...</th>\n      <th>G (P)</th>\n      <th>W (P)</th>\n      <th>L (P)</th>\n      <th>G (PF)</th>\n      <th>W (PF)</th>\n      <th>L (PF)</th>\n      <th>G (P Car)</th>\n      <th>W (P Car)</th>\n      <th>L (P Car)</th>\n      <th>Season</th>\n    </tr>\n  </thead>\n  <tbody>\n    <tr>\n      <th>0</th>\n      <td>Lenny Wilkens</td>\n      <td>ATL</td>\n      <td>4</td>\n      <td>24</td>\n      <td>82</td>\n      <td>56</td>\n      <td>26</td>\n      <td>328</td>\n      <td>201</td>\n      <td>127</td>\n      <td>...</td>\n      <td>10.0</td>\n      <td>4.0</td>\n      <td>6.0</td>\n      <td>34.0</td>\n      <td>13.0</td>\n      <td>21.0</td>\n      <td>144.0</td>\n      <td>68.0</td>\n      <td>76.0</td>\n      <td>1997</td>\n    </tr>\n    <tr>\n      <th>1</th>\n      <td>M.L. Carr</td>\n      <td>BOS</td>\n      <td>2</td>\n      <td>2</td>\n      <td>82</td>\n      <td>15</td>\n      <td>67</td>\n      <td>164</td>\n      <td>48</td>\n      <td>116</td>\n      <td>...</td>\n      <td>NaN</td>\n      <td>NaN</td>\n      <td>NaN</td>\n      <td>NaN</td>\n      <td>NaN</td>\n      <td>NaN</td>\n      <td>NaN</td>\n      <td>NaN</td>\n      <td>NaN</td>\n      <td>1997</td>\n    </tr>\n    <tr>\n      <th>2</th>\n      <td>Dave Cowens</td>\n      <td>CHH</td>\n      <td>1</td>\n      <td>2</td>\n      <td>82</td>\n      <td>54</td>\n      <td>28</td>\n      <td>82</td>\n      <td>54</td>\n      <td>28</td>\n      <td>...</td>\n      <td>3.0</td>\n      <td>0.0</td>\n      <td>3.0</td>\n      <td>3.0</td>\n      <td>0.0</td>\n      <td>3.0</td>\n      <td>3.0</td>\n      <td>0.0</td>\n      <td>3.0</td>\n      <td>1997</td>\n    </tr>\n    <tr>\n      <th>3</th>\n      <td>Phil Jackson</td>\n      <td>CHI</td>\n      <td>8</td>\n      <td>8</td>\n      <td>82</td>\n      <td>69</td>\n      <td>13</td>\n      <td>656</td>\n      <td>483</td>\n      <td>173</td>\n      <td>...</td>\n      <td>19.0</td>\n      <td>15.0</td>\n      <td>4.0</td>\n      <td>131.0</td>\n      <td>96.0</td>\n      <td>35.0</td>\n      <td>131.0</td>\n      <td>96.0</td>\n      <td>35.0</td>\n      <td>1997</td>\n    </tr>\n    <tr>\n      <th>4</th>\n      <td>Mike Fratello</td>\n      <td>CLE</td>\n      <td>4</td>\n      <td>12</td>\n      <td>82</td>\n      <td>42</td>\n      <td>40</td>\n      <td>328</td>\n      <td>179</td>\n      <td>149</td>\n      <td>...</td>\n      <td>NaN</td>\n      <td>NaN</td>\n      <td>NaN</td>\n      <td>10.0</td>\n      <td>1.0</td>\n      <td>9.0</td>\n      <td>50.0</td>\n      <td>19.0</td>\n      <td>31.0</td>\n      <td>1997</td>\n    </tr>\n    <tr>\n      <th>...</th>\n      <td>...</td>\n      <td>...</td>\n      <td>...</td>\n      <td>...</td>\n      <td>...</td>\n      <td>...</td>\n      <td>...</td>\n      <td>...</td>\n      <td>...</td>\n      <td>...</td>\n      <td>...</td>\n      <td>...</td>\n      <td>...</td>\n      <td>...</td>\n      <td>...</td>\n      <td>...</td>\n      <td>...</td>\n      <td>...</td>\n      <td>...</td>\n      <td>...</td>\n      <td>...</td>\n    </tr>\n    <tr>\n      <th>801</th>\n      <td>Mike Brown</td>\n      <td>SAC</td>\n      <td>1</td>\n      <td>9</td>\n      <td>82</td>\n      <td>48</td>\n      <td>34</td>\n      <td>82</td>\n      <td>48</td>\n      <td>34</td>\n      <td>...</td>\n      <td>7.0</td>\n      <td>3.0</td>\n      <td>4.0</td>\n      <td>7.0</td>\n      <td>3.0</td>\n      <td>4.0</td>\n      <td>90.0</td>\n      <td>50.0</td>\n      <td>40.0</td>\n      <td>2023</td>\n    </tr>\n    <tr>\n      <th>802</th>\n      <td>Gregg Popovich</td>\n      <td>SAS</td>\n      <td>27</td>\n      <td>27</td>\n      <td>82</td>\n      <td>22</td>\n      <td>60</td>\n      <td>2127</td>\n      <td>1366</td>\n      <td>761</td>\n      <td>...</td>\n      <td>NaN</td>\n      <td>NaN</td>\n      <td>NaN</td>\n      <td>284.0</td>\n      <td>170.0</td>\n      <td>114.0</td>\n      <td>284.0</td>\n      <td>170.0</td>\n      <td>114.0</td>\n      <td>2023</td>\n    </tr>\n    <tr>\n      <th>803</th>\n      <td>Nick Nurse</td>\n      <td>TOR</td>\n      <td>5</td>\n      <td>5</td>\n      <td>82</td>\n      <td>41</td>\n      <td>41</td>\n      <td>390</td>\n      <td>227</td>\n      <td>163</td>\n      <td>...</td>\n      <td>NaN</td>\n      <td>NaN</td>\n      <td>NaN</td>\n      <td>41.0</td>\n      <td>25.0</td>\n      <td>16.0</td>\n      <td>41.0</td>\n      <td>25.0</td>\n      <td>16.0</td>\n      <td>2023</td>\n    </tr>\n    <tr>\n      <th>804</th>\n      <td>Will Hardy</td>\n      <td>UTA</td>\n      <td>1</td>\n      <td>1</td>\n      <td>82</td>\n      <td>37</td>\n      <td>45</td>\n      <td>82</td>\n      <td>37</td>\n      <td>45</td>\n      <td>...</td>\n      <td>NaN</td>\n      <td>NaN</td>\n      <td>NaN</td>\n      <td>NaN</td>\n      <td>NaN</td>\n      <td>NaN</td>\n      <td>NaN</td>\n      <td>NaN</td>\n      <td>NaN</td>\n      <td>2023</td>\n    </tr>\n    <tr>\n      <th>805</th>\n      <td>Wes Unseld</td>\n      <td>WAS</td>\n      <td>2</td>\n      <td>2</td>\n      <td>82</td>\n      <td>35</td>\n      <td>47</td>\n      <td>164</td>\n      <td>70</td>\n      <td>94</td>\n      <td>...</td>\n      <td>NaN</td>\n      <td>NaN</td>\n      <td>NaN</td>\n      <td>NaN</td>\n      <td>NaN</td>\n      <td>NaN</td>\n      <td>NaN</td>\n      <td>NaN</td>\n      <td>NaN</td>\n      <td>2023</td>\n    </tr>\n  </tbody>\n</table>\n<p>806 rows × 24 columns</p>\n</div>"
     },
     "execution_count": 153,
     "metadata": {},
     "output_type": "execute_result"
    }
   ],
   "source": [
    "coaches"
   ],
   "metadata": {
    "collapsed": false,
    "ExecuteTime": {
     "end_time": "2024-06-10T05:42:20.938453Z",
     "start_time": "2024-06-10T05:42:20.928450Z"
    }
   },
   "id": "b422a0d9394309ae",
   "execution_count": 153
  },
  {
   "cell_type": "code",
   "outputs": [],
   "source": [
    "coaches[\"Team\"] = coaches[\"Team\"].replace(team_names)"
   ],
   "metadata": {
    "collapsed": false,
    "ExecuteTime": {
     "end_time": "2024-06-10T05:42:23.578697Z",
     "start_time": "2024-06-10T05:42:23.573291Z"
    }
   },
   "id": "4d79a714083a4116",
   "execution_count": 154
  },
  {
   "cell_type": "code",
   "outputs": [
    {
     "data": {
      "text/plain": "              Coach                 Team  Seasons With Franchise  \\\n0     Lenny Wilkens        Atlanta Hawks                       4   \n1         M.L. Carr       Boston Celtics                       2   \n2       Dave Cowens    Charlotte Hornets                       1   \n3      Phil Jackson        Chicago Bulls                       8   \n4     Mike Fratello  Cleveland Cavaliers                       4   \n..              ...                  ...                     ...   \n801      Mike Brown     Sacramento Kings                       1   \n802  Gregg Popovich    San Antonio Spurs                      27   \n803      Nick Nurse      Toronto Raptors                       5   \n804      Will Hardy            Utah Jazz                       1   \n805      Wes Unseld   Washington Wizards                       2   \n\n     Seasons Coaching  G (CS)  W (CS)  L (CS)  G (F)  W (F)  L (F)  ...  \\\n0                  24      82      56      26    328    201    127  ...   \n1                   2      82      15      67    164     48    116  ...   \n2                   2      82      54      28     82     54     28  ...   \n3                   8      82      69      13    656    483    173  ...   \n4                  12      82      42      40    328    179    149  ...   \n..                ...     ...     ...     ...    ...    ...    ...  ...   \n801                 9      82      48      34     82     48     34  ...   \n802                27      82      22      60   2127   1366    761  ...   \n803                 5      82      41      41    390    227    163  ...   \n804                 1      82      37      45     82     37     45  ...   \n805                 2      82      35      47    164     70     94  ...   \n\n     G (P)  W (P)  L (P)  G (PF)  W (PF)  L (PF)  G (P Car)  W (P Car)  \\\n0     10.0    4.0    6.0    34.0    13.0    21.0      144.0       68.0   \n1      NaN    NaN    NaN     NaN     NaN     NaN        NaN        NaN   \n2      3.0    0.0    3.0     3.0     0.0     3.0        3.0        0.0   \n3     19.0   15.0    4.0   131.0    96.0    35.0      131.0       96.0   \n4      NaN    NaN    NaN    10.0     1.0     9.0       50.0       19.0   \n..     ...    ...    ...     ...     ...     ...        ...        ...   \n801    7.0    3.0    4.0     7.0     3.0     4.0       90.0       50.0   \n802    NaN    NaN    NaN   284.0   170.0   114.0      284.0      170.0   \n803    NaN    NaN    NaN    41.0    25.0    16.0       41.0       25.0   \n804    NaN    NaN    NaN     NaN     NaN     NaN        NaN        NaN   \n805    NaN    NaN    NaN     NaN     NaN     NaN        NaN        NaN   \n\n     L (P Car)  Season  \n0         76.0    1997  \n1          NaN    1997  \n2          3.0    1997  \n3         35.0    1997  \n4         31.0    1997  \n..         ...     ...  \n801       40.0    2023  \n802      114.0    2023  \n803       16.0    2023  \n804        NaN    2023  \n805        NaN    2023  \n\n[806 rows x 24 columns]",
      "text/html": "<div>\n<style scoped>\n    .dataframe tbody tr th:only-of-type {\n        vertical-align: middle;\n    }\n\n    .dataframe tbody tr th {\n        vertical-align: top;\n    }\n\n    .dataframe thead th {\n        text-align: right;\n    }\n</style>\n<table border=\"1\" class=\"dataframe\">\n  <thead>\n    <tr style=\"text-align: right;\">\n      <th></th>\n      <th>Coach</th>\n      <th>Team</th>\n      <th>Seasons With Franchise</th>\n      <th>Seasons Coaching</th>\n      <th>G (CS)</th>\n      <th>W (CS)</th>\n      <th>L (CS)</th>\n      <th>G (F)</th>\n      <th>W (F)</th>\n      <th>L (F)</th>\n      <th>...</th>\n      <th>G (P)</th>\n      <th>W (P)</th>\n      <th>L (P)</th>\n      <th>G (PF)</th>\n      <th>W (PF)</th>\n      <th>L (PF)</th>\n      <th>G (P Car)</th>\n      <th>W (P Car)</th>\n      <th>L (P Car)</th>\n      <th>Season</th>\n    </tr>\n  </thead>\n  <tbody>\n    <tr>\n      <th>0</th>\n      <td>Lenny Wilkens</td>\n      <td>Atlanta Hawks</td>\n      <td>4</td>\n      <td>24</td>\n      <td>82</td>\n      <td>56</td>\n      <td>26</td>\n      <td>328</td>\n      <td>201</td>\n      <td>127</td>\n      <td>...</td>\n      <td>10.0</td>\n      <td>4.0</td>\n      <td>6.0</td>\n      <td>34.0</td>\n      <td>13.0</td>\n      <td>21.0</td>\n      <td>144.0</td>\n      <td>68.0</td>\n      <td>76.0</td>\n      <td>1997</td>\n    </tr>\n    <tr>\n      <th>1</th>\n      <td>M.L. Carr</td>\n      <td>Boston Celtics</td>\n      <td>2</td>\n      <td>2</td>\n      <td>82</td>\n      <td>15</td>\n      <td>67</td>\n      <td>164</td>\n      <td>48</td>\n      <td>116</td>\n      <td>...</td>\n      <td>NaN</td>\n      <td>NaN</td>\n      <td>NaN</td>\n      <td>NaN</td>\n      <td>NaN</td>\n      <td>NaN</td>\n      <td>NaN</td>\n      <td>NaN</td>\n      <td>NaN</td>\n      <td>1997</td>\n    </tr>\n    <tr>\n      <th>2</th>\n      <td>Dave Cowens</td>\n      <td>Charlotte Hornets</td>\n      <td>1</td>\n      <td>2</td>\n      <td>82</td>\n      <td>54</td>\n      <td>28</td>\n      <td>82</td>\n      <td>54</td>\n      <td>28</td>\n      <td>...</td>\n      <td>3.0</td>\n      <td>0.0</td>\n      <td>3.0</td>\n      <td>3.0</td>\n      <td>0.0</td>\n      <td>3.0</td>\n      <td>3.0</td>\n      <td>0.0</td>\n      <td>3.0</td>\n      <td>1997</td>\n    </tr>\n    <tr>\n      <th>3</th>\n      <td>Phil Jackson</td>\n      <td>Chicago Bulls</td>\n      <td>8</td>\n      <td>8</td>\n      <td>82</td>\n      <td>69</td>\n      <td>13</td>\n      <td>656</td>\n      <td>483</td>\n      <td>173</td>\n      <td>...</td>\n      <td>19.0</td>\n      <td>15.0</td>\n      <td>4.0</td>\n      <td>131.0</td>\n      <td>96.0</td>\n      <td>35.0</td>\n      <td>131.0</td>\n      <td>96.0</td>\n      <td>35.0</td>\n      <td>1997</td>\n    </tr>\n    <tr>\n      <th>4</th>\n      <td>Mike Fratello</td>\n      <td>Cleveland Cavaliers</td>\n      <td>4</td>\n      <td>12</td>\n      <td>82</td>\n      <td>42</td>\n      <td>40</td>\n      <td>328</td>\n      <td>179</td>\n      <td>149</td>\n      <td>...</td>\n      <td>NaN</td>\n      <td>NaN</td>\n      <td>NaN</td>\n      <td>10.0</td>\n      <td>1.0</td>\n      <td>9.0</td>\n      <td>50.0</td>\n      <td>19.0</td>\n      <td>31.0</td>\n      <td>1997</td>\n    </tr>\n    <tr>\n      <th>...</th>\n      <td>...</td>\n      <td>...</td>\n      <td>...</td>\n      <td>...</td>\n      <td>...</td>\n      <td>...</td>\n      <td>...</td>\n      <td>...</td>\n      <td>...</td>\n      <td>...</td>\n      <td>...</td>\n      <td>...</td>\n      <td>...</td>\n      <td>...</td>\n      <td>...</td>\n      <td>...</td>\n      <td>...</td>\n      <td>...</td>\n      <td>...</td>\n      <td>...</td>\n      <td>...</td>\n    </tr>\n    <tr>\n      <th>801</th>\n      <td>Mike Brown</td>\n      <td>Sacramento Kings</td>\n      <td>1</td>\n      <td>9</td>\n      <td>82</td>\n      <td>48</td>\n      <td>34</td>\n      <td>82</td>\n      <td>48</td>\n      <td>34</td>\n      <td>...</td>\n      <td>7.0</td>\n      <td>3.0</td>\n      <td>4.0</td>\n      <td>7.0</td>\n      <td>3.0</td>\n      <td>4.0</td>\n      <td>90.0</td>\n      <td>50.0</td>\n      <td>40.0</td>\n      <td>2023</td>\n    </tr>\n    <tr>\n      <th>802</th>\n      <td>Gregg Popovich</td>\n      <td>San Antonio Spurs</td>\n      <td>27</td>\n      <td>27</td>\n      <td>82</td>\n      <td>22</td>\n      <td>60</td>\n      <td>2127</td>\n      <td>1366</td>\n      <td>761</td>\n      <td>...</td>\n      <td>NaN</td>\n      <td>NaN</td>\n      <td>NaN</td>\n      <td>284.0</td>\n      <td>170.0</td>\n      <td>114.0</td>\n      <td>284.0</td>\n      <td>170.0</td>\n      <td>114.0</td>\n      <td>2023</td>\n    </tr>\n    <tr>\n      <th>803</th>\n      <td>Nick Nurse</td>\n      <td>Toronto Raptors</td>\n      <td>5</td>\n      <td>5</td>\n      <td>82</td>\n      <td>41</td>\n      <td>41</td>\n      <td>390</td>\n      <td>227</td>\n      <td>163</td>\n      <td>...</td>\n      <td>NaN</td>\n      <td>NaN</td>\n      <td>NaN</td>\n      <td>41.0</td>\n      <td>25.0</td>\n      <td>16.0</td>\n      <td>41.0</td>\n      <td>25.0</td>\n      <td>16.0</td>\n      <td>2023</td>\n    </tr>\n    <tr>\n      <th>804</th>\n      <td>Will Hardy</td>\n      <td>Utah Jazz</td>\n      <td>1</td>\n      <td>1</td>\n      <td>82</td>\n      <td>37</td>\n      <td>45</td>\n      <td>82</td>\n      <td>37</td>\n      <td>45</td>\n      <td>...</td>\n      <td>NaN</td>\n      <td>NaN</td>\n      <td>NaN</td>\n      <td>NaN</td>\n      <td>NaN</td>\n      <td>NaN</td>\n      <td>NaN</td>\n      <td>NaN</td>\n      <td>NaN</td>\n      <td>2023</td>\n    </tr>\n    <tr>\n      <th>805</th>\n      <td>Wes Unseld</td>\n      <td>Washington Wizards</td>\n      <td>2</td>\n      <td>2</td>\n      <td>82</td>\n      <td>35</td>\n      <td>47</td>\n      <td>164</td>\n      <td>70</td>\n      <td>94</td>\n      <td>...</td>\n      <td>NaN</td>\n      <td>NaN</td>\n      <td>NaN</td>\n      <td>NaN</td>\n      <td>NaN</td>\n      <td>NaN</td>\n      <td>NaN</td>\n      <td>NaN</td>\n      <td>NaN</td>\n      <td>2023</td>\n    </tr>\n  </tbody>\n</table>\n<p>806 rows × 24 columns</p>\n</div>"
     },
     "execution_count": 155,
     "metadata": {},
     "output_type": "execute_result"
    }
   ],
   "source": [
    "coaches"
   ],
   "metadata": {
    "collapsed": false,
    "ExecuteTime": {
     "end_time": "2024-06-10T05:42:24.521521Z",
     "start_time": "2024-06-10T05:42:24.511452Z"
    }
   },
   "id": "e8e2bd68761917f3",
   "execution_count": 155
  },
  {
   "cell_type": "code",
   "outputs": [],
   "source": [
    "coaches['Team'] = coaches['Team'].replace('WSB','Washington Bullets', regex=True)\n",
    "coaches['Team'] = coaches['Team'].replace('VAN','Vancouver Grizzlies', regex=True)\n",
    "coaches['Team'] = coaches['Team'].replace('CHO', 'Charlotte Hornets', regex=True)"
   ],
   "metadata": {
    "collapsed": false,
    "ExecuteTime": {
     "end_time": "2024-06-10T05:42:25.893976Z",
     "start_time": "2024-06-10T05:42:25.890364Z"
    }
   },
   "id": "d933e4a276730356",
   "execution_count": 156
  },
  {
   "cell_type": "code",
   "outputs": [
    {
     "data": {
      "text/plain": "              Coach                 Team  Seasons With Franchise  \\\n0     Lenny Wilkens        Atlanta Hawks                       4   \n1         M.L. Carr       Boston Celtics                       2   \n2       Dave Cowens    Charlotte Hornets                       1   \n3      Phil Jackson        Chicago Bulls                       8   \n4     Mike Fratello  Cleveland Cavaliers                       4   \n..              ...                  ...                     ...   \n801      Mike Brown     Sacramento Kings                       1   \n802  Gregg Popovich    San Antonio Spurs                      27   \n803      Nick Nurse      Toronto Raptors                       5   \n804      Will Hardy            Utah Jazz                       1   \n805      Wes Unseld   Washington Wizards                       2   \n\n     Seasons Coaching  G (CS)  W (CS)  L (CS)  G (F)  W (F)  L (F)  ...  \\\n0                  24      82      56      26    328    201    127  ...   \n1                   2      82      15      67    164     48    116  ...   \n2                   2      82      54      28     82     54     28  ...   \n3                   8      82      69      13    656    483    173  ...   \n4                  12      82      42      40    328    179    149  ...   \n..                ...     ...     ...     ...    ...    ...    ...  ...   \n801                 9      82      48      34     82     48     34  ...   \n802                27      82      22      60   2127   1366    761  ...   \n803                 5      82      41      41    390    227    163  ...   \n804                 1      82      37      45     82     37     45  ...   \n805                 2      82      35      47    164     70     94  ...   \n\n     G (P)  W (P)  L (P)  G (PF)  W (PF)  L (PF)  G (P Car)  W (P Car)  \\\n0     10.0    4.0    6.0    34.0    13.0    21.0      144.0       68.0   \n1      NaN    NaN    NaN     NaN     NaN     NaN        NaN        NaN   \n2      3.0    0.0    3.0     3.0     0.0     3.0        3.0        0.0   \n3     19.0   15.0    4.0   131.0    96.0    35.0      131.0       96.0   \n4      NaN    NaN    NaN    10.0     1.0     9.0       50.0       19.0   \n..     ...    ...    ...     ...     ...     ...        ...        ...   \n801    7.0    3.0    4.0     7.0     3.0     4.0       90.0       50.0   \n802    NaN    NaN    NaN   284.0   170.0   114.0      284.0      170.0   \n803    NaN    NaN    NaN    41.0    25.0    16.0       41.0       25.0   \n804    NaN    NaN    NaN     NaN     NaN     NaN        NaN        NaN   \n805    NaN    NaN    NaN     NaN     NaN     NaN        NaN        NaN   \n\n     L (P Car)  Season  \n0         76.0    1997  \n1          NaN    1997  \n2          3.0    1997  \n3         35.0    1997  \n4         31.0    1997  \n..         ...     ...  \n801       40.0    2023  \n802      114.0    2023  \n803       16.0    2023  \n804        NaN    2023  \n805        NaN    2023  \n\n[806 rows x 24 columns]",
      "text/html": "<div>\n<style scoped>\n    .dataframe tbody tr th:only-of-type {\n        vertical-align: middle;\n    }\n\n    .dataframe tbody tr th {\n        vertical-align: top;\n    }\n\n    .dataframe thead th {\n        text-align: right;\n    }\n</style>\n<table border=\"1\" class=\"dataframe\">\n  <thead>\n    <tr style=\"text-align: right;\">\n      <th></th>\n      <th>Coach</th>\n      <th>Team</th>\n      <th>Seasons With Franchise</th>\n      <th>Seasons Coaching</th>\n      <th>G (CS)</th>\n      <th>W (CS)</th>\n      <th>L (CS)</th>\n      <th>G (F)</th>\n      <th>W (F)</th>\n      <th>L (F)</th>\n      <th>...</th>\n      <th>G (P)</th>\n      <th>W (P)</th>\n      <th>L (P)</th>\n      <th>G (PF)</th>\n      <th>W (PF)</th>\n      <th>L (PF)</th>\n      <th>G (P Car)</th>\n      <th>W (P Car)</th>\n      <th>L (P Car)</th>\n      <th>Season</th>\n    </tr>\n  </thead>\n  <tbody>\n    <tr>\n      <th>0</th>\n      <td>Lenny Wilkens</td>\n      <td>Atlanta Hawks</td>\n      <td>4</td>\n      <td>24</td>\n      <td>82</td>\n      <td>56</td>\n      <td>26</td>\n      <td>328</td>\n      <td>201</td>\n      <td>127</td>\n      <td>...</td>\n      <td>10.0</td>\n      <td>4.0</td>\n      <td>6.0</td>\n      <td>34.0</td>\n      <td>13.0</td>\n      <td>21.0</td>\n      <td>144.0</td>\n      <td>68.0</td>\n      <td>76.0</td>\n      <td>1997</td>\n    </tr>\n    <tr>\n      <th>1</th>\n      <td>M.L. Carr</td>\n      <td>Boston Celtics</td>\n      <td>2</td>\n      <td>2</td>\n      <td>82</td>\n      <td>15</td>\n      <td>67</td>\n      <td>164</td>\n      <td>48</td>\n      <td>116</td>\n      <td>...</td>\n      <td>NaN</td>\n      <td>NaN</td>\n      <td>NaN</td>\n      <td>NaN</td>\n      <td>NaN</td>\n      <td>NaN</td>\n      <td>NaN</td>\n      <td>NaN</td>\n      <td>NaN</td>\n      <td>1997</td>\n    </tr>\n    <tr>\n      <th>2</th>\n      <td>Dave Cowens</td>\n      <td>Charlotte Hornets</td>\n      <td>1</td>\n      <td>2</td>\n      <td>82</td>\n      <td>54</td>\n      <td>28</td>\n      <td>82</td>\n      <td>54</td>\n      <td>28</td>\n      <td>...</td>\n      <td>3.0</td>\n      <td>0.0</td>\n      <td>3.0</td>\n      <td>3.0</td>\n      <td>0.0</td>\n      <td>3.0</td>\n      <td>3.0</td>\n      <td>0.0</td>\n      <td>3.0</td>\n      <td>1997</td>\n    </tr>\n    <tr>\n      <th>3</th>\n      <td>Phil Jackson</td>\n      <td>Chicago Bulls</td>\n      <td>8</td>\n      <td>8</td>\n      <td>82</td>\n      <td>69</td>\n      <td>13</td>\n      <td>656</td>\n      <td>483</td>\n      <td>173</td>\n      <td>...</td>\n      <td>19.0</td>\n      <td>15.0</td>\n      <td>4.0</td>\n      <td>131.0</td>\n      <td>96.0</td>\n      <td>35.0</td>\n      <td>131.0</td>\n      <td>96.0</td>\n      <td>35.0</td>\n      <td>1997</td>\n    </tr>\n    <tr>\n      <th>4</th>\n      <td>Mike Fratello</td>\n      <td>Cleveland Cavaliers</td>\n      <td>4</td>\n      <td>12</td>\n      <td>82</td>\n      <td>42</td>\n      <td>40</td>\n      <td>328</td>\n      <td>179</td>\n      <td>149</td>\n      <td>...</td>\n      <td>NaN</td>\n      <td>NaN</td>\n      <td>NaN</td>\n      <td>10.0</td>\n      <td>1.0</td>\n      <td>9.0</td>\n      <td>50.0</td>\n      <td>19.0</td>\n      <td>31.0</td>\n      <td>1997</td>\n    </tr>\n    <tr>\n      <th>...</th>\n      <td>...</td>\n      <td>...</td>\n      <td>...</td>\n      <td>...</td>\n      <td>...</td>\n      <td>...</td>\n      <td>...</td>\n      <td>...</td>\n      <td>...</td>\n      <td>...</td>\n      <td>...</td>\n      <td>...</td>\n      <td>...</td>\n      <td>...</td>\n      <td>...</td>\n      <td>...</td>\n      <td>...</td>\n      <td>...</td>\n      <td>...</td>\n      <td>...</td>\n      <td>...</td>\n    </tr>\n    <tr>\n      <th>801</th>\n      <td>Mike Brown</td>\n      <td>Sacramento Kings</td>\n      <td>1</td>\n      <td>9</td>\n      <td>82</td>\n      <td>48</td>\n      <td>34</td>\n      <td>82</td>\n      <td>48</td>\n      <td>34</td>\n      <td>...</td>\n      <td>7.0</td>\n      <td>3.0</td>\n      <td>4.0</td>\n      <td>7.0</td>\n      <td>3.0</td>\n      <td>4.0</td>\n      <td>90.0</td>\n      <td>50.0</td>\n      <td>40.0</td>\n      <td>2023</td>\n    </tr>\n    <tr>\n      <th>802</th>\n      <td>Gregg Popovich</td>\n      <td>San Antonio Spurs</td>\n      <td>27</td>\n      <td>27</td>\n      <td>82</td>\n      <td>22</td>\n      <td>60</td>\n      <td>2127</td>\n      <td>1366</td>\n      <td>761</td>\n      <td>...</td>\n      <td>NaN</td>\n      <td>NaN</td>\n      <td>NaN</td>\n      <td>284.0</td>\n      <td>170.0</td>\n      <td>114.0</td>\n      <td>284.0</td>\n      <td>170.0</td>\n      <td>114.0</td>\n      <td>2023</td>\n    </tr>\n    <tr>\n      <th>803</th>\n      <td>Nick Nurse</td>\n      <td>Toronto Raptors</td>\n      <td>5</td>\n      <td>5</td>\n      <td>82</td>\n      <td>41</td>\n      <td>41</td>\n      <td>390</td>\n      <td>227</td>\n      <td>163</td>\n      <td>...</td>\n      <td>NaN</td>\n      <td>NaN</td>\n      <td>NaN</td>\n      <td>41.0</td>\n      <td>25.0</td>\n      <td>16.0</td>\n      <td>41.0</td>\n      <td>25.0</td>\n      <td>16.0</td>\n      <td>2023</td>\n    </tr>\n    <tr>\n      <th>804</th>\n      <td>Will Hardy</td>\n      <td>Utah Jazz</td>\n      <td>1</td>\n      <td>1</td>\n      <td>82</td>\n      <td>37</td>\n      <td>45</td>\n      <td>82</td>\n      <td>37</td>\n      <td>45</td>\n      <td>...</td>\n      <td>NaN</td>\n      <td>NaN</td>\n      <td>NaN</td>\n      <td>NaN</td>\n      <td>NaN</td>\n      <td>NaN</td>\n      <td>NaN</td>\n      <td>NaN</td>\n      <td>NaN</td>\n      <td>2023</td>\n    </tr>\n    <tr>\n      <th>805</th>\n      <td>Wes Unseld</td>\n      <td>Washington Wizards</td>\n      <td>2</td>\n      <td>2</td>\n      <td>82</td>\n      <td>35</td>\n      <td>47</td>\n      <td>164</td>\n      <td>70</td>\n      <td>94</td>\n      <td>...</td>\n      <td>NaN</td>\n      <td>NaN</td>\n      <td>NaN</td>\n      <td>NaN</td>\n      <td>NaN</td>\n      <td>NaN</td>\n      <td>NaN</td>\n      <td>NaN</td>\n      <td>NaN</td>\n      <td>2023</td>\n    </tr>\n  </tbody>\n</table>\n<p>806 rows × 24 columns</p>\n</div>"
     },
     "execution_count": 157,
     "metadata": {},
     "output_type": "execute_result"
    }
   ],
   "source": [
    "coaches"
   ],
   "metadata": {
    "collapsed": false,
    "ExecuteTime": {
     "end_time": "2024-06-10T05:42:27.132369Z",
     "start_time": "2024-06-10T05:42:27.120782Z"
    }
   },
   "id": "adf5b5fc4316a48f",
   "execution_count": 157
  },
  {
   "cell_type": "code",
   "outputs": [],
   "source": [
    "del coaches['Coach']"
   ],
   "metadata": {
    "collapsed": false,
    "ExecuteTime": {
     "end_time": "2024-06-10T05:42:28.731940Z",
     "start_time": "2024-06-10T05:42:28.729708Z"
    }
   },
   "id": "38b32f5698db370c",
   "execution_count": 158
  },
  {
   "cell_type": "code",
   "outputs": [],
   "source": [
    "del coaches['G (CS)']\n",
    "del coaches['W (CS)']\n",
    "del coaches['L (CS)']\n",
    "del coaches['G (P)']"
   ],
   "metadata": {
    "collapsed": false,
    "ExecuteTime": {
     "end_time": "2024-06-10T05:42:29.618125Z",
     "start_time": "2024-06-10T05:42:29.615962Z"
    }
   },
   "id": "9e34575c5771bf85",
   "execution_count": 159
  },
  {
   "cell_type": "code",
   "outputs": [],
   "source": [
    "del coaches['L (P)']\n",
    "del coaches['W (P)']"
   ],
   "metadata": {
    "collapsed": false,
    "ExecuteTime": {
     "end_time": "2024-06-10T05:42:30.510003Z",
     "start_time": "2024-06-10T05:42:30.506736Z"
    }
   },
   "id": "b4f1e9def5d664e0",
   "execution_count": 160
  },
  {
   "cell_type": "code",
   "outputs": [
    {
     "data": {
      "text/plain": "                    Team  Seasons With Franchise  Seasons Coaching  G (F)  \\\n0          Atlanta Hawks                       4                24    328   \n1         Boston Celtics                       2                 2    164   \n2      Charlotte Hornets                       1                 2     82   \n3          Chicago Bulls                       8                 8    656   \n4    Cleveland Cavaliers                       4                12    328   \n..                   ...                     ...               ...    ...   \n801     Sacramento Kings                       1                 9     82   \n802    San Antonio Spurs                      27                27   2127   \n803      Toronto Raptors                       5                 5    390   \n804            Utah Jazz                       1                 1     82   \n805   Washington Wizards                       2                 2    164   \n\n     W (F)  L (F)  G (Car)  W (Car)  L (Car)  W% (Car)  G (PF)  W (PF)  \\\n0      201    127     1946     1070      876     0.550    34.0    13.0   \n1       48    116      164       48      116     0.293     NaN     NaN   \n2       54     28      150       81       69     0.540     3.0     0.0   \n3      483    173      656      483      173     0.736   131.0    96.0   \n4      179    149      905      503      402     0.556    10.0     1.0   \n..     ...    ...      ...      ...      ...       ...     ...     ...   \n801     48     34      645      395      250     0.612     7.0     3.0   \n802   1366    761     2127     1366      761     0.642   284.0   170.0   \n803    227    163      390      227      163     0.582    41.0    25.0   \n804     37     45       82       37       45     0.451     NaN     NaN   \n805     70     94      164       70       94     0.427     NaN     NaN   \n\n     L (PF)  G (P Car)  W (P Car)  L (P Car)  Season  \n0      21.0      144.0       68.0       76.0    1997  \n1       NaN        NaN        NaN        NaN    1997  \n2       3.0        3.0        0.0        3.0    1997  \n3      35.0      131.0       96.0       35.0    1997  \n4       9.0       50.0       19.0       31.0    1997  \n..      ...        ...        ...        ...     ...  \n801     4.0       90.0       50.0       40.0    2023  \n802   114.0      284.0      170.0      114.0    2023  \n803    16.0       41.0       25.0       16.0    2023  \n804     NaN        NaN        NaN        NaN    2023  \n805     NaN        NaN        NaN        NaN    2023  \n\n[806 rows x 17 columns]",
      "text/html": "<div>\n<style scoped>\n    .dataframe tbody tr th:only-of-type {\n        vertical-align: middle;\n    }\n\n    .dataframe tbody tr th {\n        vertical-align: top;\n    }\n\n    .dataframe thead th {\n        text-align: right;\n    }\n</style>\n<table border=\"1\" class=\"dataframe\">\n  <thead>\n    <tr style=\"text-align: right;\">\n      <th></th>\n      <th>Team</th>\n      <th>Seasons With Franchise</th>\n      <th>Seasons Coaching</th>\n      <th>G (F)</th>\n      <th>W (F)</th>\n      <th>L (F)</th>\n      <th>G (Car)</th>\n      <th>W (Car)</th>\n      <th>L (Car)</th>\n      <th>W% (Car)</th>\n      <th>G (PF)</th>\n      <th>W (PF)</th>\n      <th>L (PF)</th>\n      <th>G (P Car)</th>\n      <th>W (P Car)</th>\n      <th>L (P Car)</th>\n      <th>Season</th>\n    </tr>\n  </thead>\n  <tbody>\n    <tr>\n      <th>0</th>\n      <td>Atlanta Hawks</td>\n      <td>4</td>\n      <td>24</td>\n      <td>328</td>\n      <td>201</td>\n      <td>127</td>\n      <td>1946</td>\n      <td>1070</td>\n      <td>876</td>\n      <td>0.550</td>\n      <td>34.0</td>\n      <td>13.0</td>\n      <td>21.0</td>\n      <td>144.0</td>\n      <td>68.0</td>\n      <td>76.0</td>\n      <td>1997</td>\n    </tr>\n    <tr>\n      <th>1</th>\n      <td>Boston Celtics</td>\n      <td>2</td>\n      <td>2</td>\n      <td>164</td>\n      <td>48</td>\n      <td>116</td>\n      <td>164</td>\n      <td>48</td>\n      <td>116</td>\n      <td>0.293</td>\n      <td>NaN</td>\n      <td>NaN</td>\n      <td>NaN</td>\n      <td>NaN</td>\n      <td>NaN</td>\n      <td>NaN</td>\n      <td>1997</td>\n    </tr>\n    <tr>\n      <th>2</th>\n      <td>Charlotte Hornets</td>\n      <td>1</td>\n      <td>2</td>\n      <td>82</td>\n      <td>54</td>\n      <td>28</td>\n      <td>150</td>\n      <td>81</td>\n      <td>69</td>\n      <td>0.540</td>\n      <td>3.0</td>\n      <td>0.0</td>\n      <td>3.0</td>\n      <td>3.0</td>\n      <td>0.0</td>\n      <td>3.0</td>\n      <td>1997</td>\n    </tr>\n    <tr>\n      <th>3</th>\n      <td>Chicago Bulls</td>\n      <td>8</td>\n      <td>8</td>\n      <td>656</td>\n      <td>483</td>\n      <td>173</td>\n      <td>656</td>\n      <td>483</td>\n      <td>173</td>\n      <td>0.736</td>\n      <td>131.0</td>\n      <td>96.0</td>\n      <td>35.0</td>\n      <td>131.0</td>\n      <td>96.0</td>\n      <td>35.0</td>\n      <td>1997</td>\n    </tr>\n    <tr>\n      <th>4</th>\n      <td>Cleveland Cavaliers</td>\n      <td>4</td>\n      <td>12</td>\n      <td>328</td>\n      <td>179</td>\n      <td>149</td>\n      <td>905</td>\n      <td>503</td>\n      <td>402</td>\n      <td>0.556</td>\n      <td>10.0</td>\n      <td>1.0</td>\n      <td>9.0</td>\n      <td>50.0</td>\n      <td>19.0</td>\n      <td>31.0</td>\n      <td>1997</td>\n    </tr>\n    <tr>\n      <th>...</th>\n      <td>...</td>\n      <td>...</td>\n      <td>...</td>\n      <td>...</td>\n      <td>...</td>\n      <td>...</td>\n      <td>...</td>\n      <td>...</td>\n      <td>...</td>\n      <td>...</td>\n      <td>...</td>\n      <td>...</td>\n      <td>...</td>\n      <td>...</td>\n      <td>...</td>\n      <td>...</td>\n      <td>...</td>\n    </tr>\n    <tr>\n      <th>801</th>\n      <td>Sacramento Kings</td>\n      <td>1</td>\n      <td>9</td>\n      <td>82</td>\n      <td>48</td>\n      <td>34</td>\n      <td>645</td>\n      <td>395</td>\n      <td>250</td>\n      <td>0.612</td>\n      <td>7.0</td>\n      <td>3.0</td>\n      <td>4.0</td>\n      <td>90.0</td>\n      <td>50.0</td>\n      <td>40.0</td>\n      <td>2023</td>\n    </tr>\n    <tr>\n      <th>802</th>\n      <td>San Antonio Spurs</td>\n      <td>27</td>\n      <td>27</td>\n      <td>2127</td>\n      <td>1366</td>\n      <td>761</td>\n      <td>2127</td>\n      <td>1366</td>\n      <td>761</td>\n      <td>0.642</td>\n      <td>284.0</td>\n      <td>170.0</td>\n      <td>114.0</td>\n      <td>284.0</td>\n      <td>170.0</td>\n      <td>114.0</td>\n      <td>2023</td>\n    </tr>\n    <tr>\n      <th>803</th>\n      <td>Toronto Raptors</td>\n      <td>5</td>\n      <td>5</td>\n      <td>390</td>\n      <td>227</td>\n      <td>163</td>\n      <td>390</td>\n      <td>227</td>\n      <td>163</td>\n      <td>0.582</td>\n      <td>41.0</td>\n      <td>25.0</td>\n      <td>16.0</td>\n      <td>41.0</td>\n      <td>25.0</td>\n      <td>16.0</td>\n      <td>2023</td>\n    </tr>\n    <tr>\n      <th>804</th>\n      <td>Utah Jazz</td>\n      <td>1</td>\n      <td>1</td>\n      <td>82</td>\n      <td>37</td>\n      <td>45</td>\n      <td>82</td>\n      <td>37</td>\n      <td>45</td>\n      <td>0.451</td>\n      <td>NaN</td>\n      <td>NaN</td>\n      <td>NaN</td>\n      <td>NaN</td>\n      <td>NaN</td>\n      <td>NaN</td>\n      <td>2023</td>\n    </tr>\n    <tr>\n      <th>805</th>\n      <td>Washington Wizards</td>\n      <td>2</td>\n      <td>2</td>\n      <td>164</td>\n      <td>70</td>\n      <td>94</td>\n      <td>164</td>\n      <td>70</td>\n      <td>94</td>\n      <td>0.427</td>\n      <td>NaN</td>\n      <td>NaN</td>\n      <td>NaN</td>\n      <td>NaN</td>\n      <td>NaN</td>\n      <td>NaN</td>\n      <td>2023</td>\n    </tr>\n  </tbody>\n</table>\n<p>806 rows × 17 columns</p>\n</div>"
     },
     "execution_count": 161,
     "metadata": {},
     "output_type": "execute_result"
    }
   ],
   "source": [
    "coaches"
   ],
   "metadata": {
    "collapsed": false,
    "ExecuteTime": {
     "end_time": "2024-06-10T05:42:31.861515Z",
     "start_time": "2024-06-10T05:42:31.853018Z"
    }
   },
   "id": "8c948a178090343f",
   "execution_count": 161
  },
  {
   "cell_type": "code",
   "outputs": [],
   "source": [
    "combine5 = merged_df.merge(coaches, how='outer', on=['Team', 'Season'])"
   ],
   "metadata": {
    "collapsed": false,
    "ExecuteTime": {
     "end_time": "2024-06-10T05:42:33.751740Z",
     "start_time": "2024-06-10T05:42:33.745471Z"
    }
   },
   "id": "524bacb1242e6333",
   "execution_count": 162
  },
  {
   "cell_type": "code",
   "outputs": [
    {
     "data": {
      "text/plain": "                   Team   G  MP Per Game  FG Per Game  FGA Per Game  \\\n0         Atlanta Hawks  82        241.5         34.3          76.9   \n1         Atlanta Hawks  82        242.4         35.2          77.5   \n2         Atlanta Hawks  50        241.5         30.8          75.2   \n3         Atlanta Hawks  82        241.8         36.6          83.0   \n4         Atlanta Hawks  82        240.6         35.1          81.3   \n..                  ...  ..          ...          ...           ...   \n801  Washington Wizards  82        243.0         42.1          90.1   \n802  Washington Wizards  72        241.0         41.5          90.9   \n803  Washington Wizards  72        241.7         43.2          90.9   \n804  Washington Wizards  82        241.8         40.6          86.0   \n805  Washington Wizards  82        240.9         42.1          86.9   \n\n     3P Per Game  3PA Per Game  2P Per Game  2PA Per Game  FT Per Game  ...  \\\n0            8.0          22.4         26.3          54.5         18.2  ...   \n1            4.1          12.4         31.1          65.1         21.3  ...   \n2            3.9          12.9         26.8          62.3         20.8  ...   \n3            3.1           9.9         33.4          73.1         18.0  ...   \n4            4.1          11.4         31.0          69.9         16.8  ...   \n..           ...           ...          ...           ...          ...  ...   \n801         11.3          33.3         30.8          56.8         18.4  ...   \n802         12.0          32.6         29.5          58.3         19.4  ...   \n803         10.2          29.0         33.0          61.9         20.1  ...   \n804         10.5          30.6         30.1          55.4         17.0  ...   \n805         11.3          31.7         30.9          55.2         17.6  ...   \n\n     G (Car)  W (Car)  L (Car)  W% (Car)  G (PF)  W (PF)  L (PF)  G (P Car)  \\\n0       1946     1070      876     0.550    34.0    13.0    21.0      144.0   \n1       2028     1120      908     0.552    38.0    14.0    24.0      148.0   \n2       2078     1151      927     0.554    47.0    17.0    30.0      157.0   \n3       2160     1179      981     0.546    47.0    17.0    30.0      157.0   \n4         82       25       57     0.305     NaN     NaN     NaN        NaN   \n..       ...      ...      ...       ...     ...     ...     ...        ...   \n801      791      462      329     0.584    19.0     9.0    10.0       92.0   \n802      863      487      376     0.564    19.0     9.0    10.0       92.0   \n803      935      521      414     0.557    24.0    10.0    14.0       97.0   \n804       82       35       47     0.427     NaN     NaN     NaN        NaN   \n805      164       70       94     0.427     NaN     NaN     NaN        NaN   \n\n     W (P Car)  L (P Car)  \n0         68.0       76.0  \n1         69.0       79.0  \n2         72.0       85.0  \n3         72.0       85.0  \n4          NaN        NaN  \n..         ...        ...  \n801       48.0       44.0  \n802       48.0       44.0  \n803       49.0       48.0  \n804        NaN        NaN  \n805        NaN        NaN  \n\n[806 rows x 102 columns]",
      "text/html": "<div>\n<style scoped>\n    .dataframe tbody tr th:only-of-type {\n        vertical-align: middle;\n    }\n\n    .dataframe tbody tr th {\n        vertical-align: top;\n    }\n\n    .dataframe thead th {\n        text-align: right;\n    }\n</style>\n<table border=\"1\" class=\"dataframe\">\n  <thead>\n    <tr style=\"text-align: right;\">\n      <th></th>\n      <th>Team</th>\n      <th>G</th>\n      <th>MP Per Game</th>\n      <th>FG Per Game</th>\n      <th>FGA Per Game</th>\n      <th>3P Per Game</th>\n      <th>3PA Per Game</th>\n      <th>2P Per Game</th>\n      <th>2PA Per Game</th>\n      <th>FT Per Game</th>\n      <th>...</th>\n      <th>G (Car)</th>\n      <th>W (Car)</th>\n      <th>L (Car)</th>\n      <th>W% (Car)</th>\n      <th>G (PF)</th>\n      <th>W (PF)</th>\n      <th>L (PF)</th>\n      <th>G (P Car)</th>\n      <th>W (P Car)</th>\n      <th>L (P Car)</th>\n    </tr>\n  </thead>\n  <tbody>\n    <tr>\n      <th>0</th>\n      <td>Atlanta Hawks</td>\n      <td>82</td>\n      <td>241.5</td>\n      <td>34.3</td>\n      <td>76.9</td>\n      <td>8.0</td>\n      <td>22.4</td>\n      <td>26.3</td>\n      <td>54.5</td>\n      <td>18.2</td>\n      <td>...</td>\n      <td>1946</td>\n      <td>1070</td>\n      <td>876</td>\n      <td>0.550</td>\n      <td>34.0</td>\n      <td>13.0</td>\n      <td>21.0</td>\n      <td>144.0</td>\n      <td>68.0</td>\n      <td>76.0</td>\n    </tr>\n    <tr>\n      <th>1</th>\n      <td>Atlanta Hawks</td>\n      <td>82</td>\n      <td>242.4</td>\n      <td>35.2</td>\n      <td>77.5</td>\n      <td>4.1</td>\n      <td>12.4</td>\n      <td>31.1</td>\n      <td>65.1</td>\n      <td>21.3</td>\n      <td>...</td>\n      <td>2028</td>\n      <td>1120</td>\n      <td>908</td>\n      <td>0.552</td>\n      <td>38.0</td>\n      <td>14.0</td>\n      <td>24.0</td>\n      <td>148.0</td>\n      <td>69.0</td>\n      <td>79.0</td>\n    </tr>\n    <tr>\n      <th>2</th>\n      <td>Atlanta Hawks</td>\n      <td>50</td>\n      <td>241.5</td>\n      <td>30.8</td>\n      <td>75.2</td>\n      <td>3.9</td>\n      <td>12.9</td>\n      <td>26.8</td>\n      <td>62.3</td>\n      <td>20.8</td>\n      <td>...</td>\n      <td>2078</td>\n      <td>1151</td>\n      <td>927</td>\n      <td>0.554</td>\n      <td>47.0</td>\n      <td>17.0</td>\n      <td>30.0</td>\n      <td>157.0</td>\n      <td>72.0</td>\n      <td>85.0</td>\n    </tr>\n    <tr>\n      <th>3</th>\n      <td>Atlanta Hawks</td>\n      <td>82</td>\n      <td>241.8</td>\n      <td>36.6</td>\n      <td>83.0</td>\n      <td>3.1</td>\n      <td>9.9</td>\n      <td>33.4</td>\n      <td>73.1</td>\n      <td>18.0</td>\n      <td>...</td>\n      <td>2160</td>\n      <td>1179</td>\n      <td>981</td>\n      <td>0.546</td>\n      <td>47.0</td>\n      <td>17.0</td>\n      <td>30.0</td>\n      <td>157.0</td>\n      <td>72.0</td>\n      <td>85.0</td>\n    </tr>\n    <tr>\n      <th>4</th>\n      <td>Atlanta Hawks</td>\n      <td>82</td>\n      <td>240.6</td>\n      <td>35.1</td>\n      <td>81.3</td>\n      <td>4.1</td>\n      <td>11.4</td>\n      <td>31.0</td>\n      <td>69.9</td>\n      <td>16.8</td>\n      <td>...</td>\n      <td>82</td>\n      <td>25</td>\n      <td>57</td>\n      <td>0.305</td>\n      <td>NaN</td>\n      <td>NaN</td>\n      <td>NaN</td>\n      <td>NaN</td>\n      <td>NaN</td>\n      <td>NaN</td>\n    </tr>\n    <tr>\n      <th>...</th>\n      <td>...</td>\n      <td>...</td>\n      <td>...</td>\n      <td>...</td>\n      <td>...</td>\n      <td>...</td>\n      <td>...</td>\n      <td>...</td>\n      <td>...</td>\n      <td>...</td>\n      <td>...</td>\n      <td>...</td>\n      <td>...</td>\n      <td>...</td>\n      <td>...</td>\n      <td>...</td>\n      <td>...</td>\n      <td>...</td>\n      <td>...</td>\n      <td>...</td>\n      <td>...</td>\n    </tr>\n    <tr>\n      <th>801</th>\n      <td>Washington Wizards</td>\n      <td>82</td>\n      <td>243.0</td>\n      <td>42.1</td>\n      <td>90.1</td>\n      <td>11.3</td>\n      <td>33.3</td>\n      <td>30.8</td>\n      <td>56.8</td>\n      <td>18.4</td>\n      <td>...</td>\n      <td>791</td>\n      <td>462</td>\n      <td>329</td>\n      <td>0.584</td>\n      <td>19.0</td>\n      <td>9.0</td>\n      <td>10.0</td>\n      <td>92.0</td>\n      <td>48.0</td>\n      <td>44.0</td>\n    </tr>\n    <tr>\n      <th>802</th>\n      <td>Washington Wizards</td>\n      <td>72</td>\n      <td>241.0</td>\n      <td>41.5</td>\n      <td>90.9</td>\n      <td>12.0</td>\n      <td>32.6</td>\n      <td>29.5</td>\n      <td>58.3</td>\n      <td>19.4</td>\n      <td>...</td>\n      <td>863</td>\n      <td>487</td>\n      <td>376</td>\n      <td>0.564</td>\n      <td>19.0</td>\n      <td>9.0</td>\n      <td>10.0</td>\n      <td>92.0</td>\n      <td>48.0</td>\n      <td>44.0</td>\n    </tr>\n    <tr>\n      <th>803</th>\n      <td>Washington Wizards</td>\n      <td>72</td>\n      <td>241.7</td>\n      <td>43.2</td>\n      <td>90.9</td>\n      <td>10.2</td>\n      <td>29.0</td>\n      <td>33.0</td>\n      <td>61.9</td>\n      <td>20.1</td>\n      <td>...</td>\n      <td>935</td>\n      <td>521</td>\n      <td>414</td>\n      <td>0.557</td>\n      <td>24.0</td>\n      <td>10.0</td>\n      <td>14.0</td>\n      <td>97.0</td>\n      <td>49.0</td>\n      <td>48.0</td>\n    </tr>\n    <tr>\n      <th>804</th>\n      <td>Washington Wizards</td>\n      <td>82</td>\n      <td>241.8</td>\n      <td>40.6</td>\n      <td>86.0</td>\n      <td>10.5</td>\n      <td>30.6</td>\n      <td>30.1</td>\n      <td>55.4</td>\n      <td>17.0</td>\n      <td>...</td>\n      <td>82</td>\n      <td>35</td>\n      <td>47</td>\n      <td>0.427</td>\n      <td>NaN</td>\n      <td>NaN</td>\n      <td>NaN</td>\n      <td>NaN</td>\n      <td>NaN</td>\n      <td>NaN</td>\n    </tr>\n    <tr>\n      <th>805</th>\n      <td>Washington Wizards</td>\n      <td>82</td>\n      <td>240.9</td>\n      <td>42.1</td>\n      <td>86.9</td>\n      <td>11.3</td>\n      <td>31.7</td>\n      <td>30.9</td>\n      <td>55.2</td>\n      <td>17.6</td>\n      <td>...</td>\n      <td>164</td>\n      <td>70</td>\n      <td>94</td>\n      <td>0.427</td>\n      <td>NaN</td>\n      <td>NaN</td>\n      <td>NaN</td>\n      <td>NaN</td>\n      <td>NaN</td>\n      <td>NaN</td>\n    </tr>\n  </tbody>\n</table>\n<p>806 rows × 102 columns</p>\n</div>"
     },
     "execution_count": 163,
     "metadata": {},
     "output_type": "execute_result"
    }
   ],
   "source": [
    "combine5 "
   ],
   "metadata": {
    "collapsed": false,
    "ExecuteTime": {
     "end_time": "2024-06-10T05:42:34.984769Z",
     "start_time": "2024-06-10T05:42:34.973164Z"
    }
   },
   "id": "dfdf5d7866d65ceb",
   "execution_count": 163
  },
  {
   "cell_type": "code",
   "outputs": [],
   "source": [
    "combine5.fillna(0, inplace=True)"
   ],
   "metadata": {
    "collapsed": false,
    "ExecuteTime": {
     "end_time": "2024-06-10T05:44:34.708343Z",
     "start_time": "2024-06-10T05:44:34.706230Z"
    }
   },
   "id": "b775e9e24db55127",
   "execution_count": 165
  },
  {
   "cell_type": "markdown",
   "source": [],
   "metadata": {
    "collapsed": false
   },
   "id": "a4c784d7304af50f"
  },
  {
   "cell_type": "code",
   "outputs": [],
   "source": [
    "combine5.to_csv(\"final_stats_NBA.csv\")"
   ],
   "metadata": {
    "collapsed": false,
    "ExecuteTime": {
     "end_time": "2024-06-10T05:44:58.721374Z",
     "start_time": "2024-06-10T05:44:58.696412Z"
    }
   },
   "id": "b70a89c963de47b1",
   "execution_count": 167
  },
  {
   "cell_type": "code",
   "outputs": [],
   "source": [],
   "metadata": {
    "collapsed": false
   },
   "id": "6502829bc5edda83"
  }
 ],
 "metadata": {
  "kernelspec": {
   "display_name": "Python 3",
   "language": "python",
   "name": "python3"
  },
  "language_info": {
   "codemirror_mode": {
    "name": "ipython",
    "version": 2
   },
   "file_extension": ".py",
   "mimetype": "text/x-python",
   "name": "python",
   "nbconvert_exporter": "python",
   "pygments_lexer": "ipython2",
   "version": "2.7.6"
  }
 },
 "nbformat": 4,
 "nbformat_minor": 5
}
