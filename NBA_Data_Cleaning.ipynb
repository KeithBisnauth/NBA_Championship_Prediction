{
 "cells": [
  {
   "cell_type": "code",
   "execution_count": 1,
   "id": "initial_id",
   "metadata": {
    "collapsed": true,
    "ExecuteTime": {
     "end_time": "2024-05-08T07:08:22.982767Z",
     "start_time": "2024-05-08T07:08:22.981376Z"
    }
   },
   "outputs": [],
   "source": [
    "import pandas as pd"
   ]
  },
  {
   "cell_type": "code",
   "outputs": [],
   "source": [
    "#Cleaning Regular Season Per Game Stats"
   ],
   "metadata": {
    "collapsed": false
   },
   "id": "c903981288a257bf"
  },
  {
   "cell_type": "code",
   "outputs": [],
   "source": [
    "per_game_stats = pd.read_csv('per_game_stats.csv')"
   ],
   "metadata": {
    "collapsed": false,
    "ExecuteTime": {
     "end_time": "2024-03-16T11:01:03.078664Z",
     "start_time": "2024-03-16T11:01:03.073169Z"
    }
   },
   "id": "8229cfa596b73f0f",
   "execution_count": 2
  },
  {
   "cell_type": "code",
   "outputs": [
    {
     "data": {
      "text/plain": "        Rk                     Team   G  MP Per Game  FG Per Game  \\\n0      1.0    Golden State Warriors  82        240.3         42.5   \n1      2.0            Phoenix Suns*  82        242.1         43.2   \n2      3.0          Denver Nuggets*  82        241.5         45.3   \n3      4.0  Portland Trail Blazers*  82        242.4         43.6   \n4      5.0            Orlando Magic  82        241.5         42.2   \n...    ...                      ...  ..          ...          ...   \n1021  26.0            Orlando Magic  82        241.2         40.5   \n1022  27.0        Charlotte Hornets  82        241.8         41.3   \n1023  28.0          Houston Rockets  82        240.9         40.6   \n1024  29.0          Detroit Pistons  82        241.5         39.6   \n1025  30.0              Miami Heat*  82        241.5         39.2   \n\n      FGA Per Game    FG%  3P Per Game  3PA Per Game   3P%   ...  \\\n0             87.9  0.484          3.0           9.1  0.324  ...   \n1             87.1  0.496          2.1           6.6  0.324  ...   \n2             97.7  0.464          2.8           8.3  0.337  ...   \n3             92.0  0.473          2.3           6.9  0.336  ...   \n4             91.8  0.459          1.4           4.8  0.295  ...   \n...            ...    ...          ...           ...    ...  ...   \n1021          86.3  0.470         10.8          31.1  0.346  ...   \n1022          90.4  0.457         10.7          32.5  0.330  ...   \n1023          88.9  0.457         10.4          31.9  0.327  ...   \n1024          87.1  0.454         11.4          32.4  0.351  ...   \n1025          85.3  0.460         12.0          34.8  0.344  ...   \n\n      ORB Per Game  DRB Per Game  TRB Per Game  AST Per Game  STL Per Game  \\\n0             11.2          29.1          40.2          24.1           9.2   \n1             12.8          32.3          45.2          25.7           8.1   \n2             14.3          30.9          45.1          27.7           9.9   \n3             16.5          31.1          47.6          25.4           9.1   \n4             15.9          30.1          46.0          24.3           7.5   \n...            ...           ...           ...           ...           ...   \n1021          10.2          33.1          43.2          23.2           7.4   \n1022          11.0          33.5          44.5          25.1           7.7   \n1023          13.4          32.9          46.3          22.4           7.3   \n1024          11.2          31.3          42.4          23.0           7.0   \n1025           9.7          30.9          40.6          23.8           8.0   \n\n      BLK Per Game  TOV Per Game  PF Per Game  PTS Per Game  Season  \n0              6.0          17.3         24.5         116.3  1990.0  \n1              6.1          15.5         22.3         114.9  1990.0  \n2              4.0          13.9         25.0         114.6  1990.0  \n3              4.4          16.5         25.0         114.2  1990.0  \n4              3.6          17.2         24.1         110.9  1990.0  \n...            ...           ...          ...           ...     ...  \n1021           4.7          15.1         20.1         111.4  2023.0  \n1022           5.2          14.2         20.3         111.0  2023.0  \n1023           4.6          16.2         20.5         110.7  2023.0  \n1024           3.8          15.1         22.1         110.3  2023.0  \n1025           3.0          13.5         18.5         109.5  2023.0  \n\n[1026 rows x 26 columns]",
      "text/html": "<div>\n<style scoped>\n    .dataframe tbody tr th:only-of-type {\n        vertical-align: middle;\n    }\n\n    .dataframe tbody tr th {\n        vertical-align: top;\n    }\n\n    .dataframe thead th {\n        text-align: right;\n    }\n</style>\n<table border=\"1\" class=\"dataframe\">\n  <thead>\n    <tr style=\"text-align: right;\">\n      <th></th>\n      <th>Rk</th>\n      <th>Team</th>\n      <th>G</th>\n      <th>MP Per Game</th>\n      <th>FG Per Game</th>\n      <th>FGA Per Game</th>\n      <th>FG%</th>\n      <th>3P Per Game</th>\n      <th>3PA Per Game</th>\n      <th>3P%</th>\n      <th>...</th>\n      <th>ORB Per Game</th>\n      <th>DRB Per Game</th>\n      <th>TRB Per Game</th>\n      <th>AST Per Game</th>\n      <th>STL Per Game</th>\n      <th>BLK Per Game</th>\n      <th>TOV Per Game</th>\n      <th>PF Per Game</th>\n      <th>PTS Per Game</th>\n      <th>Season</th>\n    </tr>\n  </thead>\n  <tbody>\n    <tr>\n      <th>0</th>\n      <td>1.0</td>\n      <td>Golden State Warriors</td>\n      <td>82</td>\n      <td>240.3</td>\n      <td>42.5</td>\n      <td>87.9</td>\n      <td>0.484</td>\n      <td>3.0</td>\n      <td>9.1</td>\n      <td>0.324</td>\n      <td>...</td>\n      <td>11.2</td>\n      <td>29.1</td>\n      <td>40.2</td>\n      <td>24.1</td>\n      <td>9.2</td>\n      <td>6.0</td>\n      <td>17.3</td>\n      <td>24.5</td>\n      <td>116.3</td>\n      <td>1990.0</td>\n    </tr>\n    <tr>\n      <th>1</th>\n      <td>2.0</td>\n      <td>Phoenix Suns*</td>\n      <td>82</td>\n      <td>242.1</td>\n      <td>43.2</td>\n      <td>87.1</td>\n      <td>0.496</td>\n      <td>2.1</td>\n      <td>6.6</td>\n      <td>0.324</td>\n      <td>...</td>\n      <td>12.8</td>\n      <td>32.3</td>\n      <td>45.2</td>\n      <td>25.7</td>\n      <td>8.1</td>\n      <td>6.1</td>\n      <td>15.5</td>\n      <td>22.3</td>\n      <td>114.9</td>\n      <td>1990.0</td>\n    </tr>\n    <tr>\n      <th>2</th>\n      <td>3.0</td>\n      <td>Denver Nuggets*</td>\n      <td>82</td>\n      <td>241.5</td>\n      <td>45.3</td>\n      <td>97.7</td>\n      <td>0.464</td>\n      <td>2.8</td>\n      <td>8.3</td>\n      <td>0.337</td>\n      <td>...</td>\n      <td>14.3</td>\n      <td>30.9</td>\n      <td>45.1</td>\n      <td>27.7</td>\n      <td>9.9</td>\n      <td>4.0</td>\n      <td>13.9</td>\n      <td>25.0</td>\n      <td>114.6</td>\n      <td>1990.0</td>\n    </tr>\n    <tr>\n      <th>3</th>\n      <td>4.0</td>\n      <td>Portland Trail Blazers*</td>\n      <td>82</td>\n      <td>242.4</td>\n      <td>43.6</td>\n      <td>92.0</td>\n      <td>0.473</td>\n      <td>2.3</td>\n      <td>6.9</td>\n      <td>0.336</td>\n      <td>...</td>\n      <td>16.5</td>\n      <td>31.1</td>\n      <td>47.6</td>\n      <td>25.4</td>\n      <td>9.1</td>\n      <td>4.4</td>\n      <td>16.5</td>\n      <td>25.0</td>\n      <td>114.2</td>\n      <td>1990.0</td>\n    </tr>\n    <tr>\n      <th>4</th>\n      <td>5.0</td>\n      <td>Orlando Magic</td>\n      <td>82</td>\n      <td>241.5</td>\n      <td>42.2</td>\n      <td>91.8</td>\n      <td>0.459</td>\n      <td>1.4</td>\n      <td>4.8</td>\n      <td>0.295</td>\n      <td>...</td>\n      <td>15.9</td>\n      <td>30.1</td>\n      <td>46.0</td>\n      <td>24.3</td>\n      <td>7.5</td>\n      <td>3.6</td>\n      <td>17.2</td>\n      <td>24.1</td>\n      <td>110.9</td>\n      <td>1990.0</td>\n    </tr>\n    <tr>\n      <th>...</th>\n      <td>...</td>\n      <td>...</td>\n      <td>...</td>\n      <td>...</td>\n      <td>...</td>\n      <td>...</td>\n      <td>...</td>\n      <td>...</td>\n      <td>...</td>\n      <td>...</td>\n      <td>...</td>\n      <td>...</td>\n      <td>...</td>\n      <td>...</td>\n      <td>...</td>\n      <td>...</td>\n      <td>...</td>\n      <td>...</td>\n      <td>...</td>\n      <td>...</td>\n      <td>...</td>\n    </tr>\n    <tr>\n      <th>1021</th>\n      <td>26.0</td>\n      <td>Orlando Magic</td>\n      <td>82</td>\n      <td>241.2</td>\n      <td>40.5</td>\n      <td>86.3</td>\n      <td>0.470</td>\n      <td>10.8</td>\n      <td>31.1</td>\n      <td>0.346</td>\n      <td>...</td>\n      <td>10.2</td>\n      <td>33.1</td>\n      <td>43.2</td>\n      <td>23.2</td>\n      <td>7.4</td>\n      <td>4.7</td>\n      <td>15.1</td>\n      <td>20.1</td>\n      <td>111.4</td>\n      <td>2023.0</td>\n    </tr>\n    <tr>\n      <th>1022</th>\n      <td>27.0</td>\n      <td>Charlotte Hornets</td>\n      <td>82</td>\n      <td>241.8</td>\n      <td>41.3</td>\n      <td>90.4</td>\n      <td>0.457</td>\n      <td>10.7</td>\n      <td>32.5</td>\n      <td>0.330</td>\n      <td>...</td>\n      <td>11.0</td>\n      <td>33.5</td>\n      <td>44.5</td>\n      <td>25.1</td>\n      <td>7.7</td>\n      <td>5.2</td>\n      <td>14.2</td>\n      <td>20.3</td>\n      <td>111.0</td>\n      <td>2023.0</td>\n    </tr>\n    <tr>\n      <th>1023</th>\n      <td>28.0</td>\n      <td>Houston Rockets</td>\n      <td>82</td>\n      <td>240.9</td>\n      <td>40.6</td>\n      <td>88.9</td>\n      <td>0.457</td>\n      <td>10.4</td>\n      <td>31.9</td>\n      <td>0.327</td>\n      <td>...</td>\n      <td>13.4</td>\n      <td>32.9</td>\n      <td>46.3</td>\n      <td>22.4</td>\n      <td>7.3</td>\n      <td>4.6</td>\n      <td>16.2</td>\n      <td>20.5</td>\n      <td>110.7</td>\n      <td>2023.0</td>\n    </tr>\n    <tr>\n      <th>1024</th>\n      <td>29.0</td>\n      <td>Detroit Pistons</td>\n      <td>82</td>\n      <td>241.5</td>\n      <td>39.6</td>\n      <td>87.1</td>\n      <td>0.454</td>\n      <td>11.4</td>\n      <td>32.4</td>\n      <td>0.351</td>\n      <td>...</td>\n      <td>11.2</td>\n      <td>31.3</td>\n      <td>42.4</td>\n      <td>23.0</td>\n      <td>7.0</td>\n      <td>3.8</td>\n      <td>15.1</td>\n      <td>22.1</td>\n      <td>110.3</td>\n      <td>2023.0</td>\n    </tr>\n    <tr>\n      <th>1025</th>\n      <td>30.0</td>\n      <td>Miami Heat*</td>\n      <td>82</td>\n      <td>241.5</td>\n      <td>39.2</td>\n      <td>85.3</td>\n      <td>0.460</td>\n      <td>12.0</td>\n      <td>34.8</td>\n      <td>0.344</td>\n      <td>...</td>\n      <td>9.7</td>\n      <td>30.9</td>\n      <td>40.6</td>\n      <td>23.8</td>\n      <td>8.0</td>\n      <td>3.0</td>\n      <td>13.5</td>\n      <td>18.5</td>\n      <td>109.5</td>\n      <td>2023.0</td>\n    </tr>\n  </tbody>\n</table>\n<p>1026 rows × 26 columns</p>\n</div>"
     },
     "execution_count": 3,
     "metadata": {},
     "output_type": "execute_result"
    }
   ],
   "source": [
    "per_game_stats"
   ],
   "metadata": {
    "collapsed": false,
    "ExecuteTime": {
     "end_time": "2024-03-16T11:01:03.094275Z",
     "start_time": "2024-03-16T11:01:03.079882Z"
    }
   },
   "id": "529e2e86b71f5407",
   "execution_count": 3
  },
  {
   "cell_type": "code",
   "outputs": [],
   "source": [
    "del per_game_stats['Rk']\n",
    "del per_game_stats['FG%']\n",
    "del per_game_stats['3P% ']\n",
    "del per_game_stats['2P% ']\n",
    "del per_game_stats['FT% ']"
   ],
   "metadata": {
    "collapsed": false,
    "ExecuteTime": {
     "end_time": "2024-03-16T11:01:03.100378Z",
     "start_time": "2024-03-16T11:01:03.096702Z"
    }
   },
   "id": "99af092cfc329567",
   "execution_count": 4
  },
  {
   "cell_type": "code",
   "outputs": [
    {
     "data": {
      "text/plain": "                      Team   G  MP Per Game  FG Per Game  FGA Per Game  \\\n0    Golden State Warriors  82        240.3         42.5          87.9   \n1            Phoenix Suns*  82        242.1         43.2          87.1   \n2          Denver Nuggets*  82        241.5         45.3          97.7   \n3  Portland Trail Blazers*  82        242.4         43.6          92.0   \n4            Orlando Magic  82        241.5         42.2          91.8   \n\n   3P Per Game  3PA Per Game  2P Per Game  2PA Per Game  FT Per Game  ...  \\\n0          3.0           9.1         39.6          78.8         28.2  ...   \n1          2.1           6.6         41.1          80.4         26.3  ...   \n2          2.8           8.3         42.5          89.5         21.2  ...   \n3          2.3           6.9         41.2          85.1         24.8  ...   \n4          1.4           4.8         40.7          87.0         25.1  ...   \n\n   ORB Per Game  DRB Per Game  TRB Per Game  AST Per Game  STL Per Game  \\\n0          11.2          29.1          40.2          24.1           9.2   \n1          12.8          32.3          45.2          25.7           8.1   \n2          14.3          30.9          45.1          27.7           9.9   \n3          16.5          31.1          47.6          25.4           9.1   \n4          15.9          30.1          46.0          24.3           7.5   \n\n   BLK Per Game  TOV Per Game  PF Per Game  PTS Per Game  Season  \n0           6.0          17.3         24.5         116.3  1990.0  \n1           6.1          15.5         22.3         114.9  1990.0  \n2           4.0          13.9         25.0         114.6  1990.0  \n3           4.4          16.5         25.0         114.2  1990.0  \n4           3.6          17.2         24.1         110.9  1990.0  \n\n[5 rows x 21 columns]",
      "text/html": "<div>\n<style scoped>\n    .dataframe tbody tr th:only-of-type {\n        vertical-align: middle;\n    }\n\n    .dataframe tbody tr th {\n        vertical-align: top;\n    }\n\n    .dataframe thead th {\n        text-align: right;\n    }\n</style>\n<table border=\"1\" class=\"dataframe\">\n  <thead>\n    <tr style=\"text-align: right;\">\n      <th></th>\n      <th>Team</th>\n      <th>G</th>\n      <th>MP Per Game</th>\n      <th>FG Per Game</th>\n      <th>FGA Per Game</th>\n      <th>3P Per Game</th>\n      <th>3PA Per Game</th>\n      <th>2P Per Game</th>\n      <th>2PA Per Game</th>\n      <th>FT Per Game</th>\n      <th>...</th>\n      <th>ORB Per Game</th>\n      <th>DRB Per Game</th>\n      <th>TRB Per Game</th>\n      <th>AST Per Game</th>\n      <th>STL Per Game</th>\n      <th>BLK Per Game</th>\n      <th>TOV Per Game</th>\n      <th>PF Per Game</th>\n      <th>PTS Per Game</th>\n      <th>Season</th>\n    </tr>\n  </thead>\n  <tbody>\n    <tr>\n      <th>0</th>\n      <td>Golden State Warriors</td>\n      <td>82</td>\n      <td>240.3</td>\n      <td>42.5</td>\n      <td>87.9</td>\n      <td>3.0</td>\n      <td>9.1</td>\n      <td>39.6</td>\n      <td>78.8</td>\n      <td>28.2</td>\n      <td>...</td>\n      <td>11.2</td>\n      <td>29.1</td>\n      <td>40.2</td>\n      <td>24.1</td>\n      <td>9.2</td>\n      <td>6.0</td>\n      <td>17.3</td>\n      <td>24.5</td>\n      <td>116.3</td>\n      <td>1990.0</td>\n    </tr>\n    <tr>\n      <th>1</th>\n      <td>Phoenix Suns*</td>\n      <td>82</td>\n      <td>242.1</td>\n      <td>43.2</td>\n      <td>87.1</td>\n      <td>2.1</td>\n      <td>6.6</td>\n      <td>41.1</td>\n      <td>80.4</td>\n      <td>26.3</td>\n      <td>...</td>\n      <td>12.8</td>\n      <td>32.3</td>\n      <td>45.2</td>\n      <td>25.7</td>\n      <td>8.1</td>\n      <td>6.1</td>\n      <td>15.5</td>\n      <td>22.3</td>\n      <td>114.9</td>\n      <td>1990.0</td>\n    </tr>\n    <tr>\n      <th>2</th>\n      <td>Denver Nuggets*</td>\n      <td>82</td>\n      <td>241.5</td>\n      <td>45.3</td>\n      <td>97.7</td>\n      <td>2.8</td>\n      <td>8.3</td>\n      <td>42.5</td>\n      <td>89.5</td>\n      <td>21.2</td>\n      <td>...</td>\n      <td>14.3</td>\n      <td>30.9</td>\n      <td>45.1</td>\n      <td>27.7</td>\n      <td>9.9</td>\n      <td>4.0</td>\n      <td>13.9</td>\n      <td>25.0</td>\n      <td>114.6</td>\n      <td>1990.0</td>\n    </tr>\n    <tr>\n      <th>3</th>\n      <td>Portland Trail Blazers*</td>\n      <td>82</td>\n      <td>242.4</td>\n      <td>43.6</td>\n      <td>92.0</td>\n      <td>2.3</td>\n      <td>6.9</td>\n      <td>41.2</td>\n      <td>85.1</td>\n      <td>24.8</td>\n      <td>...</td>\n      <td>16.5</td>\n      <td>31.1</td>\n      <td>47.6</td>\n      <td>25.4</td>\n      <td>9.1</td>\n      <td>4.4</td>\n      <td>16.5</td>\n      <td>25.0</td>\n      <td>114.2</td>\n      <td>1990.0</td>\n    </tr>\n    <tr>\n      <th>4</th>\n      <td>Orlando Magic</td>\n      <td>82</td>\n      <td>241.5</td>\n      <td>42.2</td>\n      <td>91.8</td>\n      <td>1.4</td>\n      <td>4.8</td>\n      <td>40.7</td>\n      <td>87.0</td>\n      <td>25.1</td>\n      <td>...</td>\n      <td>15.9</td>\n      <td>30.1</td>\n      <td>46.0</td>\n      <td>24.3</td>\n      <td>7.5</td>\n      <td>3.6</td>\n      <td>17.2</td>\n      <td>24.1</td>\n      <td>110.9</td>\n      <td>1990.0</td>\n    </tr>\n  </tbody>\n</table>\n<p>5 rows × 21 columns</p>\n</div>"
     },
     "execution_count": 5,
     "metadata": {},
     "output_type": "execute_result"
    }
   ],
   "source": [
    "per_game_stats.head()"
   ],
   "metadata": {
    "collapsed": false,
    "ExecuteTime": {
     "end_time": "2024-03-16T11:01:03.115323Z",
     "start_time": "2024-03-16T11:01:03.102112Z"
    }
   },
   "id": "7d782a4a61441df8",
   "execution_count": 5
  },
  {
   "cell_type": "code",
   "outputs": [],
   "source": [
    "per_game_stats[\"Team\"] = per_game_stats[\"Team\"].str.replace(\"*\", \"\", regex=False)"
   ],
   "metadata": {
    "collapsed": false,
    "ExecuteTime": {
     "end_time": "2024-03-16T11:01:03.121355Z",
     "start_time": "2024-03-16T11:01:03.117716Z"
    }
   },
   "id": "bb86631db6acf725",
   "execution_count": 6
  },
  {
   "cell_type": "code",
   "outputs": [
    {
     "data": {
      "text/plain": "                     Team   G  MP Per Game  FG Per Game  FGA Per Game  \\\n0   Golden State Warriors  82        240.3         42.5          87.9   \n1            Phoenix Suns  82        242.1         43.2          87.1   \n2          Denver Nuggets  82        241.5         45.3          97.7   \n3  Portland Trail Blazers  82        242.4         43.6          92.0   \n4           Orlando Magic  82        241.5         42.2          91.8   \n\n   3P Per Game  3PA Per Game  2P Per Game  2PA Per Game  FT Per Game  ...  \\\n0          3.0           9.1         39.6          78.8         28.2  ...   \n1          2.1           6.6         41.1          80.4         26.3  ...   \n2          2.8           8.3         42.5          89.5         21.2  ...   \n3          2.3           6.9         41.2          85.1         24.8  ...   \n4          1.4           4.8         40.7          87.0         25.1  ...   \n\n   ORB Per Game  DRB Per Game  TRB Per Game  AST Per Game  STL Per Game  \\\n0          11.2          29.1          40.2          24.1           9.2   \n1          12.8          32.3          45.2          25.7           8.1   \n2          14.3          30.9          45.1          27.7           9.9   \n3          16.5          31.1          47.6          25.4           9.1   \n4          15.9          30.1          46.0          24.3           7.5   \n\n   BLK Per Game  TOV Per Game  PF Per Game  PTS Per Game  Season  \n0           6.0          17.3         24.5         116.3  1990.0  \n1           6.1          15.5         22.3         114.9  1990.0  \n2           4.0          13.9         25.0         114.6  1990.0  \n3           4.4          16.5         25.0         114.2  1990.0  \n4           3.6          17.2         24.1         110.9  1990.0  \n\n[5 rows x 21 columns]",
      "text/html": "<div>\n<style scoped>\n    .dataframe tbody tr th:only-of-type {\n        vertical-align: middle;\n    }\n\n    .dataframe tbody tr th {\n        vertical-align: top;\n    }\n\n    .dataframe thead th {\n        text-align: right;\n    }\n</style>\n<table border=\"1\" class=\"dataframe\">\n  <thead>\n    <tr style=\"text-align: right;\">\n      <th></th>\n      <th>Team</th>\n      <th>G</th>\n      <th>MP Per Game</th>\n      <th>FG Per Game</th>\n      <th>FGA Per Game</th>\n      <th>3P Per Game</th>\n      <th>3PA Per Game</th>\n      <th>2P Per Game</th>\n      <th>2PA Per Game</th>\n      <th>FT Per Game</th>\n      <th>...</th>\n      <th>ORB Per Game</th>\n      <th>DRB Per Game</th>\n      <th>TRB Per Game</th>\n      <th>AST Per Game</th>\n      <th>STL Per Game</th>\n      <th>BLK Per Game</th>\n      <th>TOV Per Game</th>\n      <th>PF Per Game</th>\n      <th>PTS Per Game</th>\n      <th>Season</th>\n    </tr>\n  </thead>\n  <tbody>\n    <tr>\n      <th>0</th>\n      <td>Golden State Warriors</td>\n      <td>82</td>\n      <td>240.3</td>\n      <td>42.5</td>\n      <td>87.9</td>\n      <td>3.0</td>\n      <td>9.1</td>\n      <td>39.6</td>\n      <td>78.8</td>\n      <td>28.2</td>\n      <td>...</td>\n      <td>11.2</td>\n      <td>29.1</td>\n      <td>40.2</td>\n      <td>24.1</td>\n      <td>9.2</td>\n      <td>6.0</td>\n      <td>17.3</td>\n      <td>24.5</td>\n      <td>116.3</td>\n      <td>1990.0</td>\n    </tr>\n    <tr>\n      <th>1</th>\n      <td>Phoenix Suns</td>\n      <td>82</td>\n      <td>242.1</td>\n      <td>43.2</td>\n      <td>87.1</td>\n      <td>2.1</td>\n      <td>6.6</td>\n      <td>41.1</td>\n      <td>80.4</td>\n      <td>26.3</td>\n      <td>...</td>\n      <td>12.8</td>\n      <td>32.3</td>\n      <td>45.2</td>\n      <td>25.7</td>\n      <td>8.1</td>\n      <td>6.1</td>\n      <td>15.5</td>\n      <td>22.3</td>\n      <td>114.9</td>\n      <td>1990.0</td>\n    </tr>\n    <tr>\n      <th>2</th>\n      <td>Denver Nuggets</td>\n      <td>82</td>\n      <td>241.5</td>\n      <td>45.3</td>\n      <td>97.7</td>\n      <td>2.8</td>\n      <td>8.3</td>\n      <td>42.5</td>\n      <td>89.5</td>\n      <td>21.2</td>\n      <td>...</td>\n      <td>14.3</td>\n      <td>30.9</td>\n      <td>45.1</td>\n      <td>27.7</td>\n      <td>9.9</td>\n      <td>4.0</td>\n      <td>13.9</td>\n      <td>25.0</td>\n      <td>114.6</td>\n      <td>1990.0</td>\n    </tr>\n    <tr>\n      <th>3</th>\n      <td>Portland Trail Blazers</td>\n      <td>82</td>\n      <td>242.4</td>\n      <td>43.6</td>\n      <td>92.0</td>\n      <td>2.3</td>\n      <td>6.9</td>\n      <td>41.2</td>\n      <td>85.1</td>\n      <td>24.8</td>\n      <td>...</td>\n      <td>16.5</td>\n      <td>31.1</td>\n      <td>47.6</td>\n      <td>25.4</td>\n      <td>9.1</td>\n      <td>4.4</td>\n      <td>16.5</td>\n      <td>25.0</td>\n      <td>114.2</td>\n      <td>1990.0</td>\n    </tr>\n    <tr>\n      <th>4</th>\n      <td>Orlando Magic</td>\n      <td>82</td>\n      <td>241.5</td>\n      <td>42.2</td>\n      <td>91.8</td>\n      <td>1.4</td>\n      <td>4.8</td>\n      <td>40.7</td>\n      <td>87.0</td>\n      <td>25.1</td>\n      <td>...</td>\n      <td>15.9</td>\n      <td>30.1</td>\n      <td>46.0</td>\n      <td>24.3</td>\n      <td>7.5</td>\n      <td>3.6</td>\n      <td>17.2</td>\n      <td>24.1</td>\n      <td>110.9</td>\n      <td>1990.0</td>\n    </tr>\n  </tbody>\n</table>\n<p>5 rows × 21 columns</p>\n</div>"
     },
     "execution_count": 7,
     "metadata": {},
     "output_type": "execute_result"
    }
   ],
   "source": [
    "per_game_stats.head()"
   ],
   "metadata": {
    "collapsed": false,
    "ExecuteTime": {
     "end_time": "2024-03-16T11:01:03.136758Z",
     "start_time": "2024-03-16T11:01:03.123326Z"
    }
   },
   "id": "ada9300332f61680",
   "execution_count": 7
  },
  {
   "cell_type": "code",
   "outputs": [],
   "source": [
    "per_game_stats.drop(per_game_stats.index[(per_game_stats[\"Team\"] == \"League Average\")], axis=0, inplace=True)"
   ],
   "metadata": {
    "collapsed": false,
    "ExecuteTime": {
     "end_time": "2024-03-16T11:01:03.143050Z",
     "start_time": "2024-03-16T11:01:03.138878Z"
    }
   },
   "id": "36af76da8b70829a",
   "execution_count": 8
  },
  {
   "cell_type": "code",
   "outputs": [
    {
     "data": {
      "text/plain": "                        Team   G  MP Per Game  FG Per Game  FGA Per Game  \\\n0      Golden State Warriors  82        240.3         42.5          87.9   \n1               Phoenix Suns  82        242.1         43.2          87.1   \n2             Denver Nuggets  82        241.5         45.3          97.7   \n3     Portland Trail Blazers  82        242.4         43.6          92.0   \n4              Orlando Magic  82        241.5         42.2          91.8   \n...                      ...  ..          ...          ...           ...   \n1021           Orlando Magic  82        241.2         40.5          86.3   \n1022       Charlotte Hornets  82        241.8         41.3          90.4   \n1023         Houston Rockets  82        240.9         40.6          88.9   \n1024         Detroit Pistons  82        241.5         39.6          87.1   \n1025              Miami Heat  82        241.5         39.2          85.3   \n\n      3P Per Game  3PA Per Game  2P Per Game  2PA Per Game  FT Per Game  ...  \\\n0             3.0           9.1         39.6          78.8         28.2  ...   \n1             2.1           6.6         41.1          80.4         26.3  ...   \n2             2.8           8.3         42.5          89.5         21.2  ...   \n3             2.3           6.9         41.2          85.1         24.8  ...   \n4             1.4           4.8         40.7          87.0         25.1  ...   \n...           ...           ...          ...           ...          ...  ...   \n1021         10.8          31.1         29.8          55.2         19.6  ...   \n1022         10.7          32.5         30.5          57.9         17.6  ...   \n1023         10.4          31.9         30.2          56.9         19.1  ...   \n1024         11.4          32.4         28.2          54.6         19.8  ...   \n1025         12.0          34.8         27.3          50.5         19.1  ...   \n\n      ORB Per Game  DRB Per Game  TRB Per Game  AST Per Game  STL Per Game  \\\n0             11.2          29.1          40.2          24.1           9.2   \n1             12.8          32.3          45.2          25.7           8.1   \n2             14.3          30.9          45.1          27.7           9.9   \n3             16.5          31.1          47.6          25.4           9.1   \n4             15.9          30.1          46.0          24.3           7.5   \n...            ...           ...           ...           ...           ...   \n1021          10.2          33.1          43.2          23.2           7.4   \n1022          11.0          33.5          44.5          25.1           7.7   \n1023          13.4          32.9          46.3          22.4           7.3   \n1024          11.2          31.3          42.4          23.0           7.0   \n1025           9.7          30.9          40.6          23.8           8.0   \n\n      BLK Per Game  TOV Per Game  PF Per Game  PTS Per Game  Season  \n0              6.0          17.3         24.5         116.3  1990.0  \n1              6.1          15.5         22.3         114.9  1990.0  \n2              4.0          13.9         25.0         114.6  1990.0  \n3              4.4          16.5         25.0         114.2  1990.0  \n4              3.6          17.2         24.1         110.9  1990.0  \n...            ...           ...          ...           ...     ...  \n1021           4.7          15.1         20.1         111.4  2023.0  \n1022           5.2          14.2         20.3         111.0  2023.0  \n1023           4.6          16.2         20.5         110.7  2023.0  \n1024           3.8          15.1         22.1         110.3  2023.0  \n1025           3.0          13.5         18.5         109.5  2023.0  \n\n[993 rows x 21 columns]",
      "text/html": "<div>\n<style scoped>\n    .dataframe tbody tr th:only-of-type {\n        vertical-align: middle;\n    }\n\n    .dataframe tbody tr th {\n        vertical-align: top;\n    }\n\n    .dataframe thead th {\n        text-align: right;\n    }\n</style>\n<table border=\"1\" class=\"dataframe\">\n  <thead>\n    <tr style=\"text-align: right;\">\n      <th></th>\n      <th>Team</th>\n      <th>G</th>\n      <th>MP Per Game</th>\n      <th>FG Per Game</th>\n      <th>FGA Per Game</th>\n      <th>3P Per Game</th>\n      <th>3PA Per Game</th>\n      <th>2P Per Game</th>\n      <th>2PA Per Game</th>\n      <th>FT Per Game</th>\n      <th>...</th>\n      <th>ORB Per Game</th>\n      <th>DRB Per Game</th>\n      <th>TRB Per Game</th>\n      <th>AST Per Game</th>\n      <th>STL Per Game</th>\n      <th>BLK Per Game</th>\n      <th>TOV Per Game</th>\n      <th>PF Per Game</th>\n      <th>PTS Per Game</th>\n      <th>Season</th>\n    </tr>\n  </thead>\n  <tbody>\n    <tr>\n      <th>0</th>\n      <td>Golden State Warriors</td>\n      <td>82</td>\n      <td>240.3</td>\n      <td>42.5</td>\n      <td>87.9</td>\n      <td>3.0</td>\n      <td>9.1</td>\n      <td>39.6</td>\n      <td>78.8</td>\n      <td>28.2</td>\n      <td>...</td>\n      <td>11.2</td>\n      <td>29.1</td>\n      <td>40.2</td>\n      <td>24.1</td>\n      <td>9.2</td>\n      <td>6.0</td>\n      <td>17.3</td>\n      <td>24.5</td>\n      <td>116.3</td>\n      <td>1990.0</td>\n    </tr>\n    <tr>\n      <th>1</th>\n      <td>Phoenix Suns</td>\n      <td>82</td>\n      <td>242.1</td>\n      <td>43.2</td>\n      <td>87.1</td>\n      <td>2.1</td>\n      <td>6.6</td>\n      <td>41.1</td>\n      <td>80.4</td>\n      <td>26.3</td>\n      <td>...</td>\n      <td>12.8</td>\n      <td>32.3</td>\n      <td>45.2</td>\n      <td>25.7</td>\n      <td>8.1</td>\n      <td>6.1</td>\n      <td>15.5</td>\n      <td>22.3</td>\n      <td>114.9</td>\n      <td>1990.0</td>\n    </tr>\n    <tr>\n      <th>2</th>\n      <td>Denver Nuggets</td>\n      <td>82</td>\n      <td>241.5</td>\n      <td>45.3</td>\n      <td>97.7</td>\n      <td>2.8</td>\n      <td>8.3</td>\n      <td>42.5</td>\n      <td>89.5</td>\n      <td>21.2</td>\n      <td>...</td>\n      <td>14.3</td>\n      <td>30.9</td>\n      <td>45.1</td>\n      <td>27.7</td>\n      <td>9.9</td>\n      <td>4.0</td>\n      <td>13.9</td>\n      <td>25.0</td>\n      <td>114.6</td>\n      <td>1990.0</td>\n    </tr>\n    <tr>\n      <th>3</th>\n      <td>Portland Trail Blazers</td>\n      <td>82</td>\n      <td>242.4</td>\n      <td>43.6</td>\n      <td>92.0</td>\n      <td>2.3</td>\n      <td>6.9</td>\n      <td>41.2</td>\n      <td>85.1</td>\n      <td>24.8</td>\n      <td>...</td>\n      <td>16.5</td>\n      <td>31.1</td>\n      <td>47.6</td>\n      <td>25.4</td>\n      <td>9.1</td>\n      <td>4.4</td>\n      <td>16.5</td>\n      <td>25.0</td>\n      <td>114.2</td>\n      <td>1990.0</td>\n    </tr>\n    <tr>\n      <th>4</th>\n      <td>Orlando Magic</td>\n      <td>82</td>\n      <td>241.5</td>\n      <td>42.2</td>\n      <td>91.8</td>\n      <td>1.4</td>\n      <td>4.8</td>\n      <td>40.7</td>\n      <td>87.0</td>\n      <td>25.1</td>\n      <td>...</td>\n      <td>15.9</td>\n      <td>30.1</td>\n      <td>46.0</td>\n      <td>24.3</td>\n      <td>7.5</td>\n      <td>3.6</td>\n      <td>17.2</td>\n      <td>24.1</td>\n      <td>110.9</td>\n      <td>1990.0</td>\n    </tr>\n    <tr>\n      <th>...</th>\n      <td>...</td>\n      <td>...</td>\n      <td>...</td>\n      <td>...</td>\n      <td>...</td>\n      <td>...</td>\n      <td>...</td>\n      <td>...</td>\n      <td>...</td>\n      <td>...</td>\n      <td>...</td>\n      <td>...</td>\n      <td>...</td>\n      <td>...</td>\n      <td>...</td>\n      <td>...</td>\n      <td>...</td>\n      <td>...</td>\n      <td>...</td>\n      <td>...</td>\n      <td>...</td>\n    </tr>\n    <tr>\n      <th>1021</th>\n      <td>Orlando Magic</td>\n      <td>82</td>\n      <td>241.2</td>\n      <td>40.5</td>\n      <td>86.3</td>\n      <td>10.8</td>\n      <td>31.1</td>\n      <td>29.8</td>\n      <td>55.2</td>\n      <td>19.6</td>\n      <td>...</td>\n      <td>10.2</td>\n      <td>33.1</td>\n      <td>43.2</td>\n      <td>23.2</td>\n      <td>7.4</td>\n      <td>4.7</td>\n      <td>15.1</td>\n      <td>20.1</td>\n      <td>111.4</td>\n      <td>2023.0</td>\n    </tr>\n    <tr>\n      <th>1022</th>\n      <td>Charlotte Hornets</td>\n      <td>82</td>\n      <td>241.8</td>\n      <td>41.3</td>\n      <td>90.4</td>\n      <td>10.7</td>\n      <td>32.5</td>\n      <td>30.5</td>\n      <td>57.9</td>\n      <td>17.6</td>\n      <td>...</td>\n      <td>11.0</td>\n      <td>33.5</td>\n      <td>44.5</td>\n      <td>25.1</td>\n      <td>7.7</td>\n      <td>5.2</td>\n      <td>14.2</td>\n      <td>20.3</td>\n      <td>111.0</td>\n      <td>2023.0</td>\n    </tr>\n    <tr>\n      <th>1023</th>\n      <td>Houston Rockets</td>\n      <td>82</td>\n      <td>240.9</td>\n      <td>40.6</td>\n      <td>88.9</td>\n      <td>10.4</td>\n      <td>31.9</td>\n      <td>30.2</td>\n      <td>56.9</td>\n      <td>19.1</td>\n      <td>...</td>\n      <td>13.4</td>\n      <td>32.9</td>\n      <td>46.3</td>\n      <td>22.4</td>\n      <td>7.3</td>\n      <td>4.6</td>\n      <td>16.2</td>\n      <td>20.5</td>\n      <td>110.7</td>\n      <td>2023.0</td>\n    </tr>\n    <tr>\n      <th>1024</th>\n      <td>Detroit Pistons</td>\n      <td>82</td>\n      <td>241.5</td>\n      <td>39.6</td>\n      <td>87.1</td>\n      <td>11.4</td>\n      <td>32.4</td>\n      <td>28.2</td>\n      <td>54.6</td>\n      <td>19.8</td>\n      <td>...</td>\n      <td>11.2</td>\n      <td>31.3</td>\n      <td>42.4</td>\n      <td>23.0</td>\n      <td>7.0</td>\n      <td>3.8</td>\n      <td>15.1</td>\n      <td>22.1</td>\n      <td>110.3</td>\n      <td>2023.0</td>\n    </tr>\n    <tr>\n      <th>1025</th>\n      <td>Miami Heat</td>\n      <td>82</td>\n      <td>241.5</td>\n      <td>39.2</td>\n      <td>85.3</td>\n      <td>12.0</td>\n      <td>34.8</td>\n      <td>27.3</td>\n      <td>50.5</td>\n      <td>19.1</td>\n      <td>...</td>\n      <td>9.7</td>\n      <td>30.9</td>\n      <td>40.6</td>\n      <td>23.8</td>\n      <td>8.0</td>\n      <td>3.0</td>\n      <td>13.5</td>\n      <td>18.5</td>\n      <td>109.5</td>\n      <td>2023.0</td>\n    </tr>\n  </tbody>\n</table>\n<p>993 rows × 21 columns</p>\n</div>"
     },
     "execution_count": 9,
     "metadata": {},
     "output_type": "execute_result"
    }
   ],
   "source": [
    "per_game_stats"
   ],
   "metadata": {
    "collapsed": false,
    "ExecuteTime": {
     "end_time": "2024-03-16T11:01:03.159184Z",
     "start_time": "2024-03-16T11:01:03.144466Z"
    }
   },
   "id": "fcee473c401f1796",
   "execution_count": 9
  },
  {
   "cell_type": "code",
   "outputs": [],
   "source": [
    "per_game_stats.to_csv(\"per_game_stats_1.csv\")"
   ],
   "metadata": {
    "collapsed": false,
    "ExecuteTime": {
     "end_time": "2024-03-16T11:01:03.173001Z",
     "start_time": "2024-03-16T11:01:03.161625Z"
    }
   },
   "id": "8f8dd1d39ad8f355",
   "execution_count": 10
  },
  {
   "cell_type": "code",
   "outputs": [],
   "source": [
    "#Cleaning Regular Season Stat Totals"
   ],
   "metadata": {
    "collapsed": false
   },
   "id": "56d82e695d8ba532"
  },
  {
   "cell_type": "code",
   "outputs": [],
   "source": [
    "stat_totals = pd.read_csv('stat_totals.csv')"
   ],
   "metadata": {
    "collapsed": false,
    "ExecuteTime": {
     "end_time": "2024-03-16T11:01:03.180542Z",
     "start_time": "2024-03-16T11:01:03.174757Z"
    }
   },
   "id": "6dc516110e95cea0",
   "execution_count": 11
  },
  {
   "cell_type": "code",
   "outputs": [
    {
     "data": {
      "text/plain": "        Rk                     Team   G  MP Total  FG Total  FGA Total   FG%   \\\n0      1.0    Golden State Warriors  82     19705      3489       7208  0.484   \n1      2.0            Phoenix Suns*  82     19855      3544       7139  0.496   \n2      3.0          Denver Nuggets*  82     19805      3716       8015  0.464   \n3      4.0  Portland Trail Blazers*  82     19880      3572       7547  0.473   \n4      5.0            Orlando Magic  82     19805      3457       7525  0.459   \n...    ...                      ...  ..       ...       ...        ...    ...   \n1022  27.0        Charlotte Hornets  82     19830      3385       7413  0.457   \n1023  28.0          Houston Rockets  82     19755      3329       7287  0.457   \n1024  29.0          Detroit Pistons  82     19805      3244       7140  0.454   \n1025  30.0              Miami Heat*  82     19805      3215       6991  0.460   \n1026   NaN           League Average  82     19828      3442       7241  0.475   \n\n      3P Total  3PA Total    3P%  ...  ORB Total  DRB Total  TRB Total  \\\n0          243        750  0.324  ...        915       2385       3300   \n1          176        543  0.324  ...       1053       2651       3704   \n2          228        677  0.337  ...       1169       2532       3701   \n3          190        565  0.336  ...       1355       2552       3907   \n4          116        393  0.295  ...       1304       2465       3769   \n...        ...        ...    ...  ...        ...        ...        ...   \n1022       881       2669  0.330  ...        901       2751       3652   \n1023       856       2619  0.327  ...       1100       2695       3795   \n1024       934       2659  0.351  ...        916       2564       3480   \n1025       980       2852  0.344  ...        796       2533       3329   \n1026      1012       2806  0.361  ...        856       2706       3562   \n\n      AST Total  STL Total  BLK Total  TOV Total  PF Total  PTS Total  Season  \n0          1978        756        488       1415      2010       9534  1990.0  \n1          2109        668        501       1275      1825       9423  1990.0  \n2          2275        814        329       1136      2047       9397  1990.0  \n3          2085        749        364       1356      2048       9365  1990.0  \n4          1993        617        294       1407      1975       9090  1990.0  \n...         ...        ...        ...        ...       ...        ...     ...  \n1022       2062        634        425       1164      1661       9098  2023.0  \n1023       1835        600        374       1332      1679       9081  2023.0  \n1024       1884        574        308       1237      1813       9045  2023.0  \n1025       1955        655        243       1106      1516       8977  2023.0  \n1026       2076        598        382       1156      1638       9404     NaN  \n\n[1027 rows x 26 columns]",
      "text/html": "<div>\n<style scoped>\n    .dataframe tbody tr th:only-of-type {\n        vertical-align: middle;\n    }\n\n    .dataframe tbody tr th {\n        vertical-align: top;\n    }\n\n    .dataframe thead th {\n        text-align: right;\n    }\n</style>\n<table border=\"1\" class=\"dataframe\">\n  <thead>\n    <tr style=\"text-align: right;\">\n      <th></th>\n      <th>Rk</th>\n      <th>Team</th>\n      <th>G</th>\n      <th>MP Total</th>\n      <th>FG Total</th>\n      <th>FGA Total</th>\n      <th>FG%</th>\n      <th>3P Total</th>\n      <th>3PA Total</th>\n      <th>3P%</th>\n      <th>...</th>\n      <th>ORB Total</th>\n      <th>DRB Total</th>\n      <th>TRB Total</th>\n      <th>AST Total</th>\n      <th>STL Total</th>\n      <th>BLK Total</th>\n      <th>TOV Total</th>\n      <th>PF Total</th>\n      <th>PTS Total</th>\n      <th>Season</th>\n    </tr>\n  </thead>\n  <tbody>\n    <tr>\n      <th>0</th>\n      <td>1.0</td>\n      <td>Golden State Warriors</td>\n      <td>82</td>\n      <td>19705</td>\n      <td>3489</td>\n      <td>7208</td>\n      <td>0.484</td>\n      <td>243</td>\n      <td>750</td>\n      <td>0.324</td>\n      <td>...</td>\n      <td>915</td>\n      <td>2385</td>\n      <td>3300</td>\n      <td>1978</td>\n      <td>756</td>\n      <td>488</td>\n      <td>1415</td>\n      <td>2010</td>\n      <td>9534</td>\n      <td>1990.0</td>\n    </tr>\n    <tr>\n      <th>1</th>\n      <td>2.0</td>\n      <td>Phoenix Suns*</td>\n      <td>82</td>\n      <td>19855</td>\n      <td>3544</td>\n      <td>7139</td>\n      <td>0.496</td>\n      <td>176</td>\n      <td>543</td>\n      <td>0.324</td>\n      <td>...</td>\n      <td>1053</td>\n      <td>2651</td>\n      <td>3704</td>\n      <td>2109</td>\n      <td>668</td>\n      <td>501</td>\n      <td>1275</td>\n      <td>1825</td>\n      <td>9423</td>\n      <td>1990.0</td>\n    </tr>\n    <tr>\n      <th>2</th>\n      <td>3.0</td>\n      <td>Denver Nuggets*</td>\n      <td>82</td>\n      <td>19805</td>\n      <td>3716</td>\n      <td>8015</td>\n      <td>0.464</td>\n      <td>228</td>\n      <td>677</td>\n      <td>0.337</td>\n      <td>...</td>\n      <td>1169</td>\n      <td>2532</td>\n      <td>3701</td>\n      <td>2275</td>\n      <td>814</td>\n      <td>329</td>\n      <td>1136</td>\n      <td>2047</td>\n      <td>9397</td>\n      <td>1990.0</td>\n    </tr>\n    <tr>\n      <th>3</th>\n      <td>4.0</td>\n      <td>Portland Trail Blazers*</td>\n      <td>82</td>\n      <td>19880</td>\n      <td>3572</td>\n      <td>7547</td>\n      <td>0.473</td>\n      <td>190</td>\n      <td>565</td>\n      <td>0.336</td>\n      <td>...</td>\n      <td>1355</td>\n      <td>2552</td>\n      <td>3907</td>\n      <td>2085</td>\n      <td>749</td>\n      <td>364</td>\n      <td>1356</td>\n      <td>2048</td>\n      <td>9365</td>\n      <td>1990.0</td>\n    </tr>\n    <tr>\n      <th>4</th>\n      <td>5.0</td>\n      <td>Orlando Magic</td>\n      <td>82</td>\n      <td>19805</td>\n      <td>3457</td>\n      <td>7525</td>\n      <td>0.459</td>\n      <td>116</td>\n      <td>393</td>\n      <td>0.295</td>\n      <td>...</td>\n      <td>1304</td>\n      <td>2465</td>\n      <td>3769</td>\n      <td>1993</td>\n      <td>617</td>\n      <td>294</td>\n      <td>1407</td>\n      <td>1975</td>\n      <td>9090</td>\n      <td>1990.0</td>\n    </tr>\n    <tr>\n      <th>...</th>\n      <td>...</td>\n      <td>...</td>\n      <td>...</td>\n      <td>...</td>\n      <td>...</td>\n      <td>...</td>\n      <td>...</td>\n      <td>...</td>\n      <td>...</td>\n      <td>...</td>\n      <td>...</td>\n      <td>...</td>\n      <td>...</td>\n      <td>...</td>\n      <td>...</td>\n      <td>...</td>\n      <td>...</td>\n      <td>...</td>\n      <td>...</td>\n      <td>...</td>\n      <td>...</td>\n    </tr>\n    <tr>\n      <th>1022</th>\n      <td>27.0</td>\n      <td>Charlotte Hornets</td>\n      <td>82</td>\n      <td>19830</td>\n      <td>3385</td>\n      <td>7413</td>\n      <td>0.457</td>\n      <td>881</td>\n      <td>2669</td>\n      <td>0.330</td>\n      <td>...</td>\n      <td>901</td>\n      <td>2751</td>\n      <td>3652</td>\n      <td>2062</td>\n      <td>634</td>\n      <td>425</td>\n      <td>1164</td>\n      <td>1661</td>\n      <td>9098</td>\n      <td>2023.0</td>\n    </tr>\n    <tr>\n      <th>1023</th>\n      <td>28.0</td>\n      <td>Houston Rockets</td>\n      <td>82</td>\n      <td>19755</td>\n      <td>3329</td>\n      <td>7287</td>\n      <td>0.457</td>\n      <td>856</td>\n      <td>2619</td>\n      <td>0.327</td>\n      <td>...</td>\n      <td>1100</td>\n      <td>2695</td>\n      <td>3795</td>\n      <td>1835</td>\n      <td>600</td>\n      <td>374</td>\n      <td>1332</td>\n      <td>1679</td>\n      <td>9081</td>\n      <td>2023.0</td>\n    </tr>\n    <tr>\n      <th>1024</th>\n      <td>29.0</td>\n      <td>Detroit Pistons</td>\n      <td>82</td>\n      <td>19805</td>\n      <td>3244</td>\n      <td>7140</td>\n      <td>0.454</td>\n      <td>934</td>\n      <td>2659</td>\n      <td>0.351</td>\n      <td>...</td>\n      <td>916</td>\n      <td>2564</td>\n      <td>3480</td>\n      <td>1884</td>\n      <td>574</td>\n      <td>308</td>\n      <td>1237</td>\n      <td>1813</td>\n      <td>9045</td>\n      <td>2023.0</td>\n    </tr>\n    <tr>\n      <th>1025</th>\n      <td>30.0</td>\n      <td>Miami Heat*</td>\n      <td>82</td>\n      <td>19805</td>\n      <td>3215</td>\n      <td>6991</td>\n      <td>0.460</td>\n      <td>980</td>\n      <td>2852</td>\n      <td>0.344</td>\n      <td>...</td>\n      <td>796</td>\n      <td>2533</td>\n      <td>3329</td>\n      <td>1955</td>\n      <td>655</td>\n      <td>243</td>\n      <td>1106</td>\n      <td>1516</td>\n      <td>8977</td>\n      <td>2023.0</td>\n    </tr>\n    <tr>\n      <th>1026</th>\n      <td>NaN</td>\n      <td>League Average</td>\n      <td>82</td>\n      <td>19828</td>\n      <td>3442</td>\n      <td>7241</td>\n      <td>0.475</td>\n      <td>1012</td>\n      <td>2806</td>\n      <td>0.361</td>\n      <td>...</td>\n      <td>856</td>\n      <td>2706</td>\n      <td>3562</td>\n      <td>2076</td>\n      <td>598</td>\n      <td>382</td>\n      <td>1156</td>\n      <td>1638</td>\n      <td>9404</td>\n      <td>NaN</td>\n    </tr>\n  </tbody>\n</table>\n<p>1027 rows × 26 columns</p>\n</div>"
     },
     "execution_count": 12,
     "metadata": {},
     "output_type": "execute_result"
    }
   ],
   "source": [
    "stat_totals"
   ],
   "metadata": {
    "collapsed": false,
    "ExecuteTime": {
     "end_time": "2024-03-16T11:01:03.190389Z",
     "start_time": "2024-03-16T11:01:03.181614Z"
    }
   },
   "id": "233a5ee693e9759c",
   "execution_count": 12
  },
  {
   "cell_type": "code",
   "outputs": [],
   "source": [
    "del stat_totals[\"Rk\"]\n",
    "del stat_totals[\"G\"]"
   ],
   "metadata": {
    "collapsed": false,
    "ExecuteTime": {
     "end_time": "2024-03-16T11:01:03.194074Z",
     "start_time": "2024-03-16T11:01:03.191726Z"
    }
   },
   "id": "f1ad2a80366f30b0",
   "execution_count": 13
  },
  {
   "cell_type": "code",
   "outputs": [],
   "source": [
    "stat_totals[\"Team\"] = stat_totals[\"Team\"].str.replace(\"*\", \"\", regex=False)"
   ],
   "metadata": {
    "collapsed": false,
    "ExecuteTime": {
     "end_time": "2024-03-16T11:01:03.198048Z",
     "start_time": "2024-03-16T11:01:03.195497Z"
    }
   },
   "id": "fd2ef24441f9b006",
   "execution_count": 14
  },
  {
   "cell_type": "code",
   "outputs": [],
   "source": [
    "stat_totals.drop(stat_totals.index[(stat_totals[\"Team\"] == \"League Average\")], axis=0, inplace=True)"
   ],
   "metadata": {
    "collapsed": false,
    "ExecuteTime": {
     "end_time": "2024-03-16T11:01:03.202131Z",
     "start_time": "2024-03-16T11:01:03.198965Z"
    }
   },
   "id": "cc0c8c36cbed1776",
   "execution_count": 15
  },
  {
   "cell_type": "code",
   "outputs": [
    {
     "data": {
      "text/plain": "                        Team  MP Total  FG Total  FGA Total   FG%   3P Total  \\\n0      Golden State Warriors     19705      3489       7208  0.484       243   \n1               Phoenix Suns     19855      3544       7139  0.496       176   \n2             Denver Nuggets     19805      3716       8015  0.464       228   \n3     Portland Trail Blazers     19880      3572       7547  0.473       190   \n4              Orlando Magic     19805      3457       7525  0.459       116   \n...                      ...       ...       ...        ...    ...       ...   \n1021           Orlando Magic     19780      3323       7074  0.470       883   \n1022       Charlotte Hornets     19830      3385       7413  0.457       881   \n1023         Houston Rockets     19755      3329       7287  0.457       856   \n1024         Detroit Pistons     19805      3244       7140  0.454       934   \n1025              Miami Heat     19805      3215       6991  0.460       980   \n\n      3PA Total    3P%  2P Total  2PA Total  ...  ORB Total  DRB Total  \\\n0           750  0.324      3246       6458  ...        915       2385   \n1           543  0.324      3368       6596  ...       1053       2651   \n2           677  0.337      3488       7338  ...       1169       2532   \n3           565  0.336      3382       6982  ...       1355       2552   \n4           393  0.295      3341       7132  ...       1304       2465   \n...         ...    ...       ...        ...  ...        ...        ...   \n1021       2551  0.346      2440       4523  ...        833       2713   \n1022       2669  0.330      2504       4744  ...        901       2751   \n1023       2619  0.327      2473       4668  ...       1100       2695   \n1024       2659  0.351      2310       4481  ...        916       2564   \n1025       2852  0.344      2235       4139  ...        796       2533   \n\n      TRB Total  AST Total  STL Total  BLK Total  TOV Total  PF Total  \\\n0          3300       1978        756        488       1415      2010   \n1          3704       2109        668        501       1275      1825   \n2          3701       2275        814        329       1136      2047   \n3          3907       2085        749        364       1356      2048   \n4          3769       1993        617        294       1407      1975   \n...         ...        ...        ...        ...        ...       ...   \n1021       3546       1906        603        382       1236      1652   \n1022       3652       2062        634        425       1164      1661   \n1023       3795       1835        600        374       1332      1679   \n1024       3480       1884        574        308       1237      1813   \n1025       3329       1955        655        243       1106      1516   \n\n      PTS Total  Season  \n0          9534  1990.0  \n1          9423  1990.0  \n2          9397  1990.0  \n3          9365  1990.0  \n4          9090  1990.0  \n...         ...     ...  \n1021       9136  2023.0  \n1022       9098  2023.0  \n1023       9081  2023.0  \n1024       9045  2023.0  \n1025       8977  2023.0  \n\n[993 rows x 24 columns]",
      "text/html": "<div>\n<style scoped>\n    .dataframe tbody tr th:only-of-type {\n        vertical-align: middle;\n    }\n\n    .dataframe tbody tr th {\n        vertical-align: top;\n    }\n\n    .dataframe thead th {\n        text-align: right;\n    }\n</style>\n<table border=\"1\" class=\"dataframe\">\n  <thead>\n    <tr style=\"text-align: right;\">\n      <th></th>\n      <th>Team</th>\n      <th>MP Total</th>\n      <th>FG Total</th>\n      <th>FGA Total</th>\n      <th>FG%</th>\n      <th>3P Total</th>\n      <th>3PA Total</th>\n      <th>3P%</th>\n      <th>2P Total</th>\n      <th>2PA Total</th>\n      <th>...</th>\n      <th>ORB Total</th>\n      <th>DRB Total</th>\n      <th>TRB Total</th>\n      <th>AST Total</th>\n      <th>STL Total</th>\n      <th>BLK Total</th>\n      <th>TOV Total</th>\n      <th>PF Total</th>\n      <th>PTS Total</th>\n      <th>Season</th>\n    </tr>\n  </thead>\n  <tbody>\n    <tr>\n      <th>0</th>\n      <td>Golden State Warriors</td>\n      <td>19705</td>\n      <td>3489</td>\n      <td>7208</td>\n      <td>0.484</td>\n      <td>243</td>\n      <td>750</td>\n      <td>0.324</td>\n      <td>3246</td>\n      <td>6458</td>\n      <td>...</td>\n      <td>915</td>\n      <td>2385</td>\n      <td>3300</td>\n      <td>1978</td>\n      <td>756</td>\n      <td>488</td>\n      <td>1415</td>\n      <td>2010</td>\n      <td>9534</td>\n      <td>1990.0</td>\n    </tr>\n    <tr>\n      <th>1</th>\n      <td>Phoenix Suns</td>\n      <td>19855</td>\n      <td>3544</td>\n      <td>7139</td>\n      <td>0.496</td>\n      <td>176</td>\n      <td>543</td>\n      <td>0.324</td>\n      <td>3368</td>\n      <td>6596</td>\n      <td>...</td>\n      <td>1053</td>\n      <td>2651</td>\n      <td>3704</td>\n      <td>2109</td>\n      <td>668</td>\n      <td>501</td>\n      <td>1275</td>\n      <td>1825</td>\n      <td>9423</td>\n      <td>1990.0</td>\n    </tr>\n    <tr>\n      <th>2</th>\n      <td>Denver Nuggets</td>\n      <td>19805</td>\n      <td>3716</td>\n      <td>8015</td>\n      <td>0.464</td>\n      <td>228</td>\n      <td>677</td>\n      <td>0.337</td>\n      <td>3488</td>\n      <td>7338</td>\n      <td>...</td>\n      <td>1169</td>\n      <td>2532</td>\n      <td>3701</td>\n      <td>2275</td>\n      <td>814</td>\n      <td>329</td>\n      <td>1136</td>\n      <td>2047</td>\n      <td>9397</td>\n      <td>1990.0</td>\n    </tr>\n    <tr>\n      <th>3</th>\n      <td>Portland Trail Blazers</td>\n      <td>19880</td>\n      <td>3572</td>\n      <td>7547</td>\n      <td>0.473</td>\n      <td>190</td>\n      <td>565</td>\n      <td>0.336</td>\n      <td>3382</td>\n      <td>6982</td>\n      <td>...</td>\n      <td>1355</td>\n      <td>2552</td>\n      <td>3907</td>\n      <td>2085</td>\n      <td>749</td>\n      <td>364</td>\n      <td>1356</td>\n      <td>2048</td>\n      <td>9365</td>\n      <td>1990.0</td>\n    </tr>\n    <tr>\n      <th>4</th>\n      <td>Orlando Magic</td>\n      <td>19805</td>\n      <td>3457</td>\n      <td>7525</td>\n      <td>0.459</td>\n      <td>116</td>\n      <td>393</td>\n      <td>0.295</td>\n      <td>3341</td>\n      <td>7132</td>\n      <td>...</td>\n      <td>1304</td>\n      <td>2465</td>\n      <td>3769</td>\n      <td>1993</td>\n      <td>617</td>\n      <td>294</td>\n      <td>1407</td>\n      <td>1975</td>\n      <td>9090</td>\n      <td>1990.0</td>\n    </tr>\n    <tr>\n      <th>...</th>\n      <td>...</td>\n      <td>...</td>\n      <td>...</td>\n      <td>...</td>\n      <td>...</td>\n      <td>...</td>\n      <td>...</td>\n      <td>...</td>\n      <td>...</td>\n      <td>...</td>\n      <td>...</td>\n      <td>...</td>\n      <td>...</td>\n      <td>...</td>\n      <td>...</td>\n      <td>...</td>\n      <td>...</td>\n      <td>...</td>\n      <td>...</td>\n      <td>...</td>\n      <td>...</td>\n    </tr>\n    <tr>\n      <th>1021</th>\n      <td>Orlando Magic</td>\n      <td>19780</td>\n      <td>3323</td>\n      <td>7074</td>\n      <td>0.470</td>\n      <td>883</td>\n      <td>2551</td>\n      <td>0.346</td>\n      <td>2440</td>\n      <td>4523</td>\n      <td>...</td>\n      <td>833</td>\n      <td>2713</td>\n      <td>3546</td>\n      <td>1906</td>\n      <td>603</td>\n      <td>382</td>\n      <td>1236</td>\n      <td>1652</td>\n      <td>9136</td>\n      <td>2023.0</td>\n    </tr>\n    <tr>\n      <th>1022</th>\n      <td>Charlotte Hornets</td>\n      <td>19830</td>\n      <td>3385</td>\n      <td>7413</td>\n      <td>0.457</td>\n      <td>881</td>\n      <td>2669</td>\n      <td>0.330</td>\n      <td>2504</td>\n      <td>4744</td>\n      <td>...</td>\n      <td>901</td>\n      <td>2751</td>\n      <td>3652</td>\n      <td>2062</td>\n      <td>634</td>\n      <td>425</td>\n      <td>1164</td>\n      <td>1661</td>\n      <td>9098</td>\n      <td>2023.0</td>\n    </tr>\n    <tr>\n      <th>1023</th>\n      <td>Houston Rockets</td>\n      <td>19755</td>\n      <td>3329</td>\n      <td>7287</td>\n      <td>0.457</td>\n      <td>856</td>\n      <td>2619</td>\n      <td>0.327</td>\n      <td>2473</td>\n      <td>4668</td>\n      <td>...</td>\n      <td>1100</td>\n      <td>2695</td>\n      <td>3795</td>\n      <td>1835</td>\n      <td>600</td>\n      <td>374</td>\n      <td>1332</td>\n      <td>1679</td>\n      <td>9081</td>\n      <td>2023.0</td>\n    </tr>\n    <tr>\n      <th>1024</th>\n      <td>Detroit Pistons</td>\n      <td>19805</td>\n      <td>3244</td>\n      <td>7140</td>\n      <td>0.454</td>\n      <td>934</td>\n      <td>2659</td>\n      <td>0.351</td>\n      <td>2310</td>\n      <td>4481</td>\n      <td>...</td>\n      <td>916</td>\n      <td>2564</td>\n      <td>3480</td>\n      <td>1884</td>\n      <td>574</td>\n      <td>308</td>\n      <td>1237</td>\n      <td>1813</td>\n      <td>9045</td>\n      <td>2023.0</td>\n    </tr>\n    <tr>\n      <th>1025</th>\n      <td>Miami Heat</td>\n      <td>19805</td>\n      <td>3215</td>\n      <td>6991</td>\n      <td>0.460</td>\n      <td>980</td>\n      <td>2852</td>\n      <td>0.344</td>\n      <td>2235</td>\n      <td>4139</td>\n      <td>...</td>\n      <td>796</td>\n      <td>2533</td>\n      <td>3329</td>\n      <td>1955</td>\n      <td>655</td>\n      <td>243</td>\n      <td>1106</td>\n      <td>1516</td>\n      <td>8977</td>\n      <td>2023.0</td>\n    </tr>\n  </tbody>\n</table>\n<p>993 rows × 24 columns</p>\n</div>"
     },
     "execution_count": 16,
     "metadata": {},
     "output_type": "execute_result"
    }
   ],
   "source": [
    "stat_totals"
   ],
   "metadata": {
    "collapsed": false,
    "ExecuteTime": {
     "end_time": "2024-03-16T11:01:03.212400Z",
     "start_time": "2024-03-16T11:01:03.203061Z"
    }
   },
   "id": "8c785b126be1a3fe",
   "execution_count": 16
  },
  {
   "cell_type": "code",
   "outputs": [],
   "source": [
    "#Cleaning Regular Season Per 100 Stats "
   ],
   "metadata": {
    "collapsed": false
   },
   "id": "283722f04d0e49d9"
  },
  {
   "cell_type": "code",
   "outputs": [],
   "source": [
    "per_100 = pd.read_csv('per_100.csv')"
   ],
   "metadata": {
    "collapsed": false,
    "ExecuteTime": {
     "end_time": "2024-03-16T11:01:03.218951Z",
     "start_time": "2024-03-16T11:01:03.213575Z"
    }
   },
   "id": "449d7f3dce194a8e",
   "execution_count": 17
  },
  {
   "cell_type": "code",
   "outputs": [
    {
     "data": {
      "text/plain": "     Rk                 Team   G  MP Total  FG Per 100  FGA Per 100  \\\n0     1  Los Angeles Lakers*  82     19855        43.1         88.0   \n1     2  Philadelphia 76ers*  82     19805        43.2         88.2   \n2     3        Phoenix Suns*  82     19855        42.6         85.7   \n3     4        Atlanta Hawks  82     19730        43.4         89.1   \n4     5       Chicago Bulls*  82     19830        44.2         88.7   \n..   ..                  ...  ..       ...         ...          ...   \n988  26        Orlando Magic  82     19780        40.6         86.4   \n989  27      Houston Rockets  82     19755        40.8         89.4   \n990  28      Detroit Pistons  82     19805        39.7         87.4   \n991  29    San Antonio Spurs  82     19855        42.0         90.3   \n992  30    Charlotte Hornets  82     19830        40.6         89.0   \n\n     FG% Per 100  3P Per 100  3PA Per 100  3P% Per 100  ...  ORB Per 100  \\\n0          0.490         3.9         10.6        0.367  ...         13.8   \n1          0.489         2.4          6.8        0.348  ...         13.9   \n2          0.496         2.1          6.5        0.324  ...         12.6   \n3          0.487         1.6          5.2        0.302  ...         16.2   \n4          0.498         3.1          8.4        0.374  ...         13.5   \n..           ...         ...          ...          ...  ...          ...   \n988        0.470        10.8         31.2        0.346  ...         10.2   \n989        0.457        10.5         32.1        0.327  ...         13.5   \n990        0.454        11.4         32.5        0.351  ...         11.2   \n991        0.465        10.8         31.4        0.345  ...         11.5   \n992        0.457        10.6         32.0        0.330  ...         10.8   \n\n     DRB Per 100  TRB Per 100  AST Per 100  STL Per 100  BLK Per 100  \\\n0           30.9         44.6         28.0          8.2          5.6   \n1           30.2         44.2         24.3          8.6          4.6   \n2           31.8         44.5         25.3          8.0          6.0   \n3           27.8         43.9         23.1          9.1          4.5   \n4           28.5         42.0         27.2         10.2          4.9   \n..           ...          ...          ...          ...          ...   \n988         33.1         43.3         23.3          7.4          4.7   \n989         33.1         46.6         22.5          7.4          4.6   \n990         31.4         42.6         23.1          7.0          3.8   \n991         31.1         42.6         26.5          6.8          3.8   \n992         33.0         43.8         24.7          7.6          5.1   \n\n     TOV Per 100  PF Per 100  PTS Per 100  Season  \n0           15.4        21.8        114.0    1990  \n1           15.2        21.3        113.5    1990  \n2           15.3        21.9        113.1    1990  \n3           16.1        23.7        113.0    1990  \n4           15.6        23.8        112.3    1990  \n..           ...         ...          ...     ...  \n988         15.1        20.2        111.6    2023  \n989         16.3        20.6        111.4    2023  \n990         15.1        22.2        110.7    2023  \n991         14.9        19.4        110.2    2023  \n992         14.0        19.9        109.2    2023  \n\n[993 rows x 26 columns]",
      "text/html": "<div>\n<style scoped>\n    .dataframe tbody tr th:only-of-type {\n        vertical-align: middle;\n    }\n\n    .dataframe tbody tr th {\n        vertical-align: top;\n    }\n\n    .dataframe thead th {\n        text-align: right;\n    }\n</style>\n<table border=\"1\" class=\"dataframe\">\n  <thead>\n    <tr style=\"text-align: right;\">\n      <th></th>\n      <th>Rk</th>\n      <th>Team</th>\n      <th>G</th>\n      <th>MP Total</th>\n      <th>FG Per 100</th>\n      <th>FGA Per 100</th>\n      <th>FG% Per 100</th>\n      <th>3P Per 100</th>\n      <th>3PA Per 100</th>\n      <th>3P% Per 100</th>\n      <th>...</th>\n      <th>ORB Per 100</th>\n      <th>DRB Per 100</th>\n      <th>TRB Per 100</th>\n      <th>AST Per 100</th>\n      <th>STL Per 100</th>\n      <th>BLK Per 100</th>\n      <th>TOV Per 100</th>\n      <th>PF Per 100</th>\n      <th>PTS Per 100</th>\n      <th>Season</th>\n    </tr>\n  </thead>\n  <tbody>\n    <tr>\n      <th>0</th>\n      <td>1</td>\n      <td>Los Angeles Lakers*</td>\n      <td>82</td>\n      <td>19855</td>\n      <td>43.1</td>\n      <td>88.0</td>\n      <td>0.490</td>\n      <td>3.9</td>\n      <td>10.6</td>\n      <td>0.367</td>\n      <td>...</td>\n      <td>13.8</td>\n      <td>30.9</td>\n      <td>44.6</td>\n      <td>28.0</td>\n      <td>8.2</td>\n      <td>5.6</td>\n      <td>15.4</td>\n      <td>21.8</td>\n      <td>114.0</td>\n      <td>1990</td>\n    </tr>\n    <tr>\n      <th>1</th>\n      <td>2</td>\n      <td>Philadelphia 76ers*</td>\n      <td>82</td>\n      <td>19805</td>\n      <td>43.2</td>\n      <td>88.2</td>\n      <td>0.489</td>\n      <td>2.4</td>\n      <td>6.8</td>\n      <td>0.348</td>\n      <td>...</td>\n      <td>13.9</td>\n      <td>30.2</td>\n      <td>44.2</td>\n      <td>24.3</td>\n      <td>8.6</td>\n      <td>4.6</td>\n      <td>15.2</td>\n      <td>21.3</td>\n      <td>113.5</td>\n      <td>1990</td>\n    </tr>\n    <tr>\n      <th>2</th>\n      <td>3</td>\n      <td>Phoenix Suns*</td>\n      <td>82</td>\n      <td>19855</td>\n      <td>42.6</td>\n      <td>85.7</td>\n      <td>0.496</td>\n      <td>2.1</td>\n      <td>6.5</td>\n      <td>0.324</td>\n      <td>...</td>\n      <td>12.6</td>\n      <td>31.8</td>\n      <td>44.5</td>\n      <td>25.3</td>\n      <td>8.0</td>\n      <td>6.0</td>\n      <td>15.3</td>\n      <td>21.9</td>\n      <td>113.1</td>\n      <td>1990</td>\n    </tr>\n    <tr>\n      <th>3</th>\n      <td>4</td>\n      <td>Atlanta Hawks</td>\n      <td>82</td>\n      <td>19730</td>\n      <td>43.4</td>\n      <td>89.1</td>\n      <td>0.487</td>\n      <td>1.6</td>\n      <td>5.2</td>\n      <td>0.302</td>\n      <td>...</td>\n      <td>16.2</td>\n      <td>27.8</td>\n      <td>43.9</td>\n      <td>23.1</td>\n      <td>9.1</td>\n      <td>4.5</td>\n      <td>16.1</td>\n      <td>23.7</td>\n      <td>113.0</td>\n      <td>1990</td>\n    </tr>\n    <tr>\n      <th>4</th>\n      <td>5</td>\n      <td>Chicago Bulls*</td>\n      <td>82</td>\n      <td>19830</td>\n      <td>44.2</td>\n      <td>88.7</td>\n      <td>0.498</td>\n      <td>3.1</td>\n      <td>8.4</td>\n      <td>0.374</td>\n      <td>...</td>\n      <td>13.5</td>\n      <td>28.5</td>\n      <td>42.0</td>\n      <td>27.2</td>\n      <td>10.2</td>\n      <td>4.9</td>\n      <td>15.6</td>\n      <td>23.8</td>\n      <td>112.3</td>\n      <td>1990</td>\n    </tr>\n    <tr>\n      <th>...</th>\n      <td>...</td>\n      <td>...</td>\n      <td>...</td>\n      <td>...</td>\n      <td>...</td>\n      <td>...</td>\n      <td>...</td>\n      <td>...</td>\n      <td>...</td>\n      <td>...</td>\n      <td>...</td>\n      <td>...</td>\n      <td>...</td>\n      <td>...</td>\n      <td>...</td>\n      <td>...</td>\n      <td>...</td>\n      <td>...</td>\n      <td>...</td>\n      <td>...</td>\n      <td>...</td>\n    </tr>\n    <tr>\n      <th>988</th>\n      <td>26</td>\n      <td>Orlando Magic</td>\n      <td>82</td>\n      <td>19780</td>\n      <td>40.6</td>\n      <td>86.4</td>\n      <td>0.470</td>\n      <td>10.8</td>\n      <td>31.2</td>\n      <td>0.346</td>\n      <td>...</td>\n      <td>10.2</td>\n      <td>33.1</td>\n      <td>43.3</td>\n      <td>23.3</td>\n      <td>7.4</td>\n      <td>4.7</td>\n      <td>15.1</td>\n      <td>20.2</td>\n      <td>111.6</td>\n      <td>2023</td>\n    </tr>\n    <tr>\n      <th>989</th>\n      <td>27</td>\n      <td>Houston Rockets</td>\n      <td>82</td>\n      <td>19755</td>\n      <td>40.8</td>\n      <td>89.4</td>\n      <td>0.457</td>\n      <td>10.5</td>\n      <td>32.1</td>\n      <td>0.327</td>\n      <td>...</td>\n      <td>13.5</td>\n      <td>33.1</td>\n      <td>46.6</td>\n      <td>22.5</td>\n      <td>7.4</td>\n      <td>4.6</td>\n      <td>16.3</td>\n      <td>20.6</td>\n      <td>111.4</td>\n      <td>2023</td>\n    </tr>\n    <tr>\n      <th>990</th>\n      <td>28</td>\n      <td>Detroit Pistons</td>\n      <td>82</td>\n      <td>19805</td>\n      <td>39.7</td>\n      <td>87.4</td>\n      <td>0.454</td>\n      <td>11.4</td>\n      <td>32.5</td>\n      <td>0.351</td>\n      <td>...</td>\n      <td>11.2</td>\n      <td>31.4</td>\n      <td>42.6</td>\n      <td>23.1</td>\n      <td>7.0</td>\n      <td>3.8</td>\n      <td>15.1</td>\n      <td>22.2</td>\n      <td>110.7</td>\n      <td>2023</td>\n    </tr>\n    <tr>\n      <th>991</th>\n      <td>29</td>\n      <td>San Antonio Spurs</td>\n      <td>82</td>\n      <td>19855</td>\n      <td>42.0</td>\n      <td>90.3</td>\n      <td>0.465</td>\n      <td>10.8</td>\n      <td>31.4</td>\n      <td>0.345</td>\n      <td>...</td>\n      <td>11.5</td>\n      <td>31.1</td>\n      <td>42.6</td>\n      <td>26.5</td>\n      <td>6.8</td>\n      <td>3.8</td>\n      <td>14.9</td>\n      <td>19.4</td>\n      <td>110.2</td>\n      <td>2023</td>\n    </tr>\n    <tr>\n      <th>992</th>\n      <td>30</td>\n      <td>Charlotte Hornets</td>\n      <td>82</td>\n      <td>19830</td>\n      <td>40.6</td>\n      <td>89.0</td>\n      <td>0.457</td>\n      <td>10.6</td>\n      <td>32.0</td>\n      <td>0.330</td>\n      <td>...</td>\n      <td>10.8</td>\n      <td>33.0</td>\n      <td>43.8</td>\n      <td>24.7</td>\n      <td>7.6</td>\n      <td>5.1</td>\n      <td>14.0</td>\n      <td>19.9</td>\n      <td>109.2</td>\n      <td>2023</td>\n    </tr>\n  </tbody>\n</table>\n<p>993 rows × 26 columns</p>\n</div>"
     },
     "execution_count": 18,
     "metadata": {},
     "output_type": "execute_result"
    }
   ],
   "source": [
    "per_100"
   ],
   "metadata": {
    "collapsed": false,
    "ExecuteTime": {
     "end_time": "2024-03-16T11:01:03.233867Z",
     "start_time": "2024-03-16T11:01:03.219993Z"
    }
   },
   "id": "1b71cd80f7f0d140",
   "execution_count": 18
  },
  {
   "cell_type": "code",
   "outputs": [],
   "source": [
    "del per_100['Rk']\n",
    "del per_100['G']\n",
    "del per_100['MP Total']"
   ],
   "metadata": {
    "collapsed": false,
    "ExecuteTime": {
     "end_time": "2024-03-16T11:01:03.237758Z",
     "start_time": "2024-03-16T11:01:03.235384Z"
    }
   },
   "id": "9b846fa7f6f8216f",
   "execution_count": 19
  },
  {
   "cell_type": "code",
   "outputs": [],
   "source": [
    "per_100[\"Team\"] = per_100[\"Team\"].str.replace(\"*\", \"\", regex=False)"
   ],
   "metadata": {
    "collapsed": false,
    "ExecuteTime": {
     "end_time": "2024-03-16T11:01:03.241684Z",
     "start_time": "2024-03-16T11:01:03.238984Z"
    }
   },
   "id": "f51c2c41dd5daff0",
   "execution_count": 20
  },
  {
   "cell_type": "code",
   "outputs": [
    {
     "data": {
      "text/plain": "                   Team  FG Per 100  FGA Per 100  FG% Per 100  3P Per 100  \\\n0    Los Angeles Lakers        43.1         88.0        0.490         3.9   \n1    Philadelphia 76ers        43.2         88.2        0.489         2.4   \n2          Phoenix Suns        42.6         85.7        0.496         2.1   \n3         Atlanta Hawks        43.4         89.1        0.487         1.6   \n4         Chicago Bulls        44.2         88.7        0.498         3.1   \n..                  ...         ...          ...          ...         ...   \n988       Orlando Magic        40.6         86.4        0.470        10.8   \n989     Houston Rockets        40.8         89.4        0.457        10.5   \n990     Detroit Pistons        39.7         87.4        0.454        11.4   \n991   San Antonio Spurs        42.0         90.3        0.465        10.8   \n992   Charlotte Hornets        40.6         89.0        0.457        10.6   \n\n     3PA Per 100  3P% Per 100  2P Per 100  2PA Per 100  2P% Per 100  ...  \\\n0           10.6        0.367        39.2         77.4        0.507  ...   \n1            6.8        0.348        40.8         81.4        0.501  ...   \n2            6.5        0.324        40.4         79.2        0.511  ...   \n3            5.2        0.302        41.8         83.9        0.498  ...   \n4            8.4        0.374        41.1         80.3        0.511  ...   \n..           ...          ...         ...          ...          ...  ...   \n988         31.2        0.346        29.8         55.3        0.539  ...   \n989         32.1        0.327        30.3         57.3        0.530  ...   \n990         32.5        0.351        28.3         54.8        0.516  ...   \n991         31.4        0.345        31.2         58.9        0.529  ...   \n992         32.0        0.330        30.1         56.9        0.528  ...   \n\n     ORB Per 100  DRB Per 100  TRB Per 100  AST Per 100  STL Per 100  \\\n0           13.8         30.9         44.6         28.0          8.2   \n1           13.9         30.2         44.2         24.3          8.6   \n2           12.6         31.8         44.5         25.3          8.0   \n3           16.2         27.8         43.9         23.1          9.1   \n4           13.5         28.5         42.0         27.2         10.2   \n..           ...          ...          ...          ...          ...   \n988         10.2         33.1         43.3         23.3          7.4   \n989         13.5         33.1         46.6         22.5          7.4   \n990         11.2         31.4         42.6         23.1          7.0   \n991         11.5         31.1         42.6         26.5          6.8   \n992         10.8         33.0         43.8         24.7          7.6   \n\n     BLK Per 100  TOV Per 100  PF Per 100  PTS Per 100  Season  \n0            5.6         15.4        21.8        114.0    1990  \n1            4.6         15.2        21.3        113.5    1990  \n2            6.0         15.3        21.9        113.1    1990  \n3            4.5         16.1        23.7        113.0    1990  \n4            4.9         15.6        23.8        112.3    1990  \n..           ...          ...         ...          ...     ...  \n988          4.7         15.1        20.2        111.6    2023  \n989          4.6         16.3        20.6        111.4    2023  \n990          3.8         15.1        22.2        110.7    2023  \n991          3.8         14.9        19.4        110.2    2023  \n992          5.1         14.0        19.9        109.2    2023  \n\n[993 rows x 23 columns]",
      "text/html": "<div>\n<style scoped>\n    .dataframe tbody tr th:only-of-type {\n        vertical-align: middle;\n    }\n\n    .dataframe tbody tr th {\n        vertical-align: top;\n    }\n\n    .dataframe thead th {\n        text-align: right;\n    }\n</style>\n<table border=\"1\" class=\"dataframe\">\n  <thead>\n    <tr style=\"text-align: right;\">\n      <th></th>\n      <th>Team</th>\n      <th>FG Per 100</th>\n      <th>FGA Per 100</th>\n      <th>FG% Per 100</th>\n      <th>3P Per 100</th>\n      <th>3PA Per 100</th>\n      <th>3P% Per 100</th>\n      <th>2P Per 100</th>\n      <th>2PA Per 100</th>\n      <th>2P% Per 100</th>\n      <th>...</th>\n      <th>ORB Per 100</th>\n      <th>DRB Per 100</th>\n      <th>TRB Per 100</th>\n      <th>AST Per 100</th>\n      <th>STL Per 100</th>\n      <th>BLK Per 100</th>\n      <th>TOV Per 100</th>\n      <th>PF Per 100</th>\n      <th>PTS Per 100</th>\n      <th>Season</th>\n    </tr>\n  </thead>\n  <tbody>\n    <tr>\n      <th>0</th>\n      <td>Los Angeles Lakers</td>\n      <td>43.1</td>\n      <td>88.0</td>\n      <td>0.490</td>\n      <td>3.9</td>\n      <td>10.6</td>\n      <td>0.367</td>\n      <td>39.2</td>\n      <td>77.4</td>\n      <td>0.507</td>\n      <td>...</td>\n      <td>13.8</td>\n      <td>30.9</td>\n      <td>44.6</td>\n      <td>28.0</td>\n      <td>8.2</td>\n      <td>5.6</td>\n      <td>15.4</td>\n      <td>21.8</td>\n      <td>114.0</td>\n      <td>1990</td>\n    </tr>\n    <tr>\n      <th>1</th>\n      <td>Philadelphia 76ers</td>\n      <td>43.2</td>\n      <td>88.2</td>\n      <td>0.489</td>\n      <td>2.4</td>\n      <td>6.8</td>\n      <td>0.348</td>\n      <td>40.8</td>\n      <td>81.4</td>\n      <td>0.501</td>\n      <td>...</td>\n      <td>13.9</td>\n      <td>30.2</td>\n      <td>44.2</td>\n      <td>24.3</td>\n      <td>8.6</td>\n      <td>4.6</td>\n      <td>15.2</td>\n      <td>21.3</td>\n      <td>113.5</td>\n      <td>1990</td>\n    </tr>\n    <tr>\n      <th>2</th>\n      <td>Phoenix Suns</td>\n      <td>42.6</td>\n      <td>85.7</td>\n      <td>0.496</td>\n      <td>2.1</td>\n      <td>6.5</td>\n      <td>0.324</td>\n      <td>40.4</td>\n      <td>79.2</td>\n      <td>0.511</td>\n      <td>...</td>\n      <td>12.6</td>\n      <td>31.8</td>\n      <td>44.5</td>\n      <td>25.3</td>\n      <td>8.0</td>\n      <td>6.0</td>\n      <td>15.3</td>\n      <td>21.9</td>\n      <td>113.1</td>\n      <td>1990</td>\n    </tr>\n    <tr>\n      <th>3</th>\n      <td>Atlanta Hawks</td>\n      <td>43.4</td>\n      <td>89.1</td>\n      <td>0.487</td>\n      <td>1.6</td>\n      <td>5.2</td>\n      <td>0.302</td>\n      <td>41.8</td>\n      <td>83.9</td>\n      <td>0.498</td>\n      <td>...</td>\n      <td>16.2</td>\n      <td>27.8</td>\n      <td>43.9</td>\n      <td>23.1</td>\n      <td>9.1</td>\n      <td>4.5</td>\n      <td>16.1</td>\n      <td>23.7</td>\n      <td>113.0</td>\n      <td>1990</td>\n    </tr>\n    <tr>\n      <th>4</th>\n      <td>Chicago Bulls</td>\n      <td>44.2</td>\n      <td>88.7</td>\n      <td>0.498</td>\n      <td>3.1</td>\n      <td>8.4</td>\n      <td>0.374</td>\n      <td>41.1</td>\n      <td>80.3</td>\n      <td>0.511</td>\n      <td>...</td>\n      <td>13.5</td>\n      <td>28.5</td>\n      <td>42.0</td>\n      <td>27.2</td>\n      <td>10.2</td>\n      <td>4.9</td>\n      <td>15.6</td>\n      <td>23.8</td>\n      <td>112.3</td>\n      <td>1990</td>\n    </tr>\n    <tr>\n      <th>...</th>\n      <td>...</td>\n      <td>...</td>\n      <td>...</td>\n      <td>...</td>\n      <td>...</td>\n      <td>...</td>\n      <td>...</td>\n      <td>...</td>\n      <td>...</td>\n      <td>...</td>\n      <td>...</td>\n      <td>...</td>\n      <td>...</td>\n      <td>...</td>\n      <td>...</td>\n      <td>...</td>\n      <td>...</td>\n      <td>...</td>\n      <td>...</td>\n      <td>...</td>\n      <td>...</td>\n    </tr>\n    <tr>\n      <th>988</th>\n      <td>Orlando Magic</td>\n      <td>40.6</td>\n      <td>86.4</td>\n      <td>0.470</td>\n      <td>10.8</td>\n      <td>31.2</td>\n      <td>0.346</td>\n      <td>29.8</td>\n      <td>55.3</td>\n      <td>0.539</td>\n      <td>...</td>\n      <td>10.2</td>\n      <td>33.1</td>\n      <td>43.3</td>\n      <td>23.3</td>\n      <td>7.4</td>\n      <td>4.7</td>\n      <td>15.1</td>\n      <td>20.2</td>\n      <td>111.6</td>\n      <td>2023</td>\n    </tr>\n    <tr>\n      <th>989</th>\n      <td>Houston Rockets</td>\n      <td>40.8</td>\n      <td>89.4</td>\n      <td>0.457</td>\n      <td>10.5</td>\n      <td>32.1</td>\n      <td>0.327</td>\n      <td>30.3</td>\n      <td>57.3</td>\n      <td>0.530</td>\n      <td>...</td>\n      <td>13.5</td>\n      <td>33.1</td>\n      <td>46.6</td>\n      <td>22.5</td>\n      <td>7.4</td>\n      <td>4.6</td>\n      <td>16.3</td>\n      <td>20.6</td>\n      <td>111.4</td>\n      <td>2023</td>\n    </tr>\n    <tr>\n      <th>990</th>\n      <td>Detroit Pistons</td>\n      <td>39.7</td>\n      <td>87.4</td>\n      <td>0.454</td>\n      <td>11.4</td>\n      <td>32.5</td>\n      <td>0.351</td>\n      <td>28.3</td>\n      <td>54.8</td>\n      <td>0.516</td>\n      <td>...</td>\n      <td>11.2</td>\n      <td>31.4</td>\n      <td>42.6</td>\n      <td>23.1</td>\n      <td>7.0</td>\n      <td>3.8</td>\n      <td>15.1</td>\n      <td>22.2</td>\n      <td>110.7</td>\n      <td>2023</td>\n    </tr>\n    <tr>\n      <th>991</th>\n      <td>San Antonio Spurs</td>\n      <td>42.0</td>\n      <td>90.3</td>\n      <td>0.465</td>\n      <td>10.8</td>\n      <td>31.4</td>\n      <td>0.345</td>\n      <td>31.2</td>\n      <td>58.9</td>\n      <td>0.529</td>\n      <td>...</td>\n      <td>11.5</td>\n      <td>31.1</td>\n      <td>42.6</td>\n      <td>26.5</td>\n      <td>6.8</td>\n      <td>3.8</td>\n      <td>14.9</td>\n      <td>19.4</td>\n      <td>110.2</td>\n      <td>2023</td>\n    </tr>\n    <tr>\n      <th>992</th>\n      <td>Charlotte Hornets</td>\n      <td>40.6</td>\n      <td>89.0</td>\n      <td>0.457</td>\n      <td>10.6</td>\n      <td>32.0</td>\n      <td>0.330</td>\n      <td>30.1</td>\n      <td>56.9</td>\n      <td>0.528</td>\n      <td>...</td>\n      <td>10.8</td>\n      <td>33.0</td>\n      <td>43.8</td>\n      <td>24.7</td>\n      <td>7.6</td>\n      <td>5.1</td>\n      <td>14.0</td>\n      <td>19.9</td>\n      <td>109.2</td>\n      <td>2023</td>\n    </tr>\n  </tbody>\n</table>\n<p>993 rows × 23 columns</p>\n</div>"
     },
     "execution_count": 21,
     "metadata": {},
     "output_type": "execute_result"
    }
   ],
   "source": [
    "per_100"
   ],
   "metadata": {
    "collapsed": false,
    "ExecuteTime": {
     "end_time": "2024-03-16T11:01:03.255725Z",
     "start_time": "2024-03-16T11:01:03.242895Z"
    }
   },
   "id": "706813f75fd4eddf",
   "execution_count": 21
  },
  {
   "cell_type": "code",
   "outputs": [],
   "source": [
    "#Cleaning Regular Season Advanced Stats"
   ],
   "metadata": {
    "collapsed": false
   },
   "id": "67d3bf28a920f95b"
  },
  {
   "cell_type": "code",
   "outputs": [],
   "source": [
    "adv_statistics = pd.read_csv('adv_statistics.csv')"
   ],
   "metadata": {
    "collapsed": false,
    "ExecuteTime": {
     "end_time": "2024-03-16T11:01:03.261397Z",
     "start_time": "2024-03-16T11:01:03.256375Z"
    }
   },
   "id": "d4eb7b035397ef08",
   "execution_count": 22
  },
  {
   "cell_type": "code",
   "outputs": [
    {
     "data": {
      "text/plain": "        Rk                     Team   Age     W     L  PW  PL    MOV   SOS  \\\n0      1.0      Los Angeles Lakers*  28.9  63.0  19.0  58  24   6.78 -0.04   \n1      2.0            Phoenix Suns*  26.7  54.0  28.0  58  24   7.10 -0.01   \n2      3.0         Detroit Pistons*  29.5  59.0  23.0  57  25   6.09 -0.68   \n3      4.0  Portland Trail Blazers*  26.7  59.0  23.0  57  25   6.32  0.16   \n4      5.0      Philadelphia 76ers*  27.4  53.0  29.0  54  28   4.99 -0.75   \n...    ...                      ...   ...   ...   ...  ..  ..    ...   ...   \n1022  27.0        Charlotte Hornets  25.3  27.0  55.0  26  56  -6.24  0.35   \n1023  28.0          Houston Rockets  22.1  22.0  60.0  23  59  -7.85  0.24   \n1024  29.0          Detroit Pistons  24.1  17.0  65.0  22  60  -8.22  0.49   \n1025  30.0        San Antonio Spurs  23.9  22.0  60.0  19  63 -10.04  0.22   \n1026   NaN           League Average  26.3   NaN   NaN  41  41   0.00  0.00   \n\n       SRS  ...    TS%   eFG%  TOV%  ORB%  FT/FGA  eFG%.1  TOV%.1  DRB%  \\\n0     6.74  ...  0.562  0.512  13.2  32.8   0.271   0.479    12.8  68.5   \n1     7.09  ...  0.565  0.509  13.3  31.1   0.302   0.478    12.8  68.8   \n2     5.41  ...  0.537  0.490  13.4  34.2   0.245   0.461    13.7  70.3   \n3     6.48  ...  0.535  0.486  13.4  36.5   0.269   0.479    15.2  70.8   \n4     4.23  ...  0.556  0.502  12.9  32.0   0.281   0.495    13.3  68.4   \n...    ...  ...    ...    ...   ...   ...     ...     ...     ...   ...   \n1022 -5.89  ...  0.550  0.516  12.3  23.8   0.195   0.544    12.5  75.5   \n1023 -7.62  ...  0.554  0.516  14.0  30.2   0.215   0.564    11.8  75.8   \n1024 -7.73  ...  0.561  0.520  13.3  24.9   0.227   0.557    11.9  74.0   \n1025 -9.82  ...  0.554  0.525  13.0  25.6   0.170   0.576    12.0  74.9   \n1026  0.00  ...  0.581  0.545  12.5  24.0   0.208   0.545    12.5  76.0   \n\n      FT/FGA.1  Season  \n0        0.219  1990.0  \n1        0.209  1990.0  \n2        0.262  1990.0  \n3        0.265  1990.0  \n4        0.223  1990.0  \n...        ...     ...  \n1022     0.211  2023.0  \n1023     0.218  2023.0  \n1024     0.231  2023.0  \n1025     0.201  2023.0  \n1026     0.208     NaN  \n\n[1027 rows x 26 columns]",
      "text/html": "<div>\n<style scoped>\n    .dataframe tbody tr th:only-of-type {\n        vertical-align: middle;\n    }\n\n    .dataframe tbody tr th {\n        vertical-align: top;\n    }\n\n    .dataframe thead th {\n        text-align: right;\n    }\n</style>\n<table border=\"1\" class=\"dataframe\">\n  <thead>\n    <tr style=\"text-align: right;\">\n      <th></th>\n      <th>Rk</th>\n      <th>Team</th>\n      <th>Age</th>\n      <th>W</th>\n      <th>L</th>\n      <th>PW</th>\n      <th>PL</th>\n      <th>MOV</th>\n      <th>SOS</th>\n      <th>SRS</th>\n      <th>...</th>\n      <th>TS%</th>\n      <th>eFG%</th>\n      <th>TOV%</th>\n      <th>ORB%</th>\n      <th>FT/FGA</th>\n      <th>eFG%.1</th>\n      <th>TOV%.1</th>\n      <th>DRB%</th>\n      <th>FT/FGA.1</th>\n      <th>Season</th>\n    </tr>\n  </thead>\n  <tbody>\n    <tr>\n      <th>0</th>\n      <td>1.0</td>\n      <td>Los Angeles Lakers*</td>\n      <td>28.9</td>\n      <td>63.0</td>\n      <td>19.0</td>\n      <td>58</td>\n      <td>24</td>\n      <td>6.78</td>\n      <td>-0.04</td>\n      <td>6.74</td>\n      <td>...</td>\n      <td>0.562</td>\n      <td>0.512</td>\n      <td>13.2</td>\n      <td>32.8</td>\n      <td>0.271</td>\n      <td>0.479</td>\n      <td>12.8</td>\n      <td>68.5</td>\n      <td>0.219</td>\n      <td>1990.0</td>\n    </tr>\n    <tr>\n      <th>1</th>\n      <td>2.0</td>\n      <td>Phoenix Suns*</td>\n      <td>26.7</td>\n      <td>54.0</td>\n      <td>28.0</td>\n      <td>58</td>\n      <td>24</td>\n      <td>7.10</td>\n      <td>-0.01</td>\n      <td>7.09</td>\n      <td>...</td>\n      <td>0.565</td>\n      <td>0.509</td>\n      <td>13.3</td>\n      <td>31.1</td>\n      <td>0.302</td>\n      <td>0.478</td>\n      <td>12.8</td>\n      <td>68.8</td>\n      <td>0.209</td>\n      <td>1990.0</td>\n    </tr>\n    <tr>\n      <th>2</th>\n      <td>3.0</td>\n      <td>Detroit Pistons*</td>\n      <td>29.5</td>\n      <td>59.0</td>\n      <td>23.0</td>\n      <td>57</td>\n      <td>25</td>\n      <td>6.09</td>\n      <td>-0.68</td>\n      <td>5.41</td>\n      <td>...</td>\n      <td>0.537</td>\n      <td>0.490</td>\n      <td>13.4</td>\n      <td>34.2</td>\n      <td>0.245</td>\n      <td>0.461</td>\n      <td>13.7</td>\n      <td>70.3</td>\n      <td>0.262</td>\n      <td>1990.0</td>\n    </tr>\n    <tr>\n      <th>3</th>\n      <td>4.0</td>\n      <td>Portland Trail Blazers*</td>\n      <td>26.7</td>\n      <td>59.0</td>\n      <td>23.0</td>\n      <td>57</td>\n      <td>25</td>\n      <td>6.32</td>\n      <td>0.16</td>\n      <td>6.48</td>\n      <td>...</td>\n      <td>0.535</td>\n      <td>0.486</td>\n      <td>13.4</td>\n      <td>36.5</td>\n      <td>0.269</td>\n      <td>0.479</td>\n      <td>15.2</td>\n      <td>70.8</td>\n      <td>0.265</td>\n      <td>1990.0</td>\n    </tr>\n    <tr>\n      <th>4</th>\n      <td>5.0</td>\n      <td>Philadelphia 76ers*</td>\n      <td>27.4</td>\n      <td>53.0</td>\n      <td>29.0</td>\n      <td>54</td>\n      <td>28</td>\n      <td>4.99</td>\n      <td>-0.75</td>\n      <td>4.23</td>\n      <td>...</td>\n      <td>0.556</td>\n      <td>0.502</td>\n      <td>12.9</td>\n      <td>32.0</td>\n      <td>0.281</td>\n      <td>0.495</td>\n      <td>13.3</td>\n      <td>68.4</td>\n      <td>0.223</td>\n      <td>1990.0</td>\n    </tr>\n    <tr>\n      <th>...</th>\n      <td>...</td>\n      <td>...</td>\n      <td>...</td>\n      <td>...</td>\n      <td>...</td>\n      <td>...</td>\n      <td>...</td>\n      <td>...</td>\n      <td>...</td>\n      <td>...</td>\n      <td>...</td>\n      <td>...</td>\n      <td>...</td>\n      <td>...</td>\n      <td>...</td>\n      <td>...</td>\n      <td>...</td>\n      <td>...</td>\n      <td>...</td>\n      <td>...</td>\n      <td>...</td>\n    </tr>\n    <tr>\n      <th>1022</th>\n      <td>27.0</td>\n      <td>Charlotte Hornets</td>\n      <td>25.3</td>\n      <td>27.0</td>\n      <td>55.0</td>\n      <td>26</td>\n      <td>56</td>\n      <td>-6.24</td>\n      <td>0.35</td>\n      <td>-5.89</td>\n      <td>...</td>\n      <td>0.550</td>\n      <td>0.516</td>\n      <td>12.3</td>\n      <td>23.8</td>\n      <td>0.195</td>\n      <td>0.544</td>\n      <td>12.5</td>\n      <td>75.5</td>\n      <td>0.211</td>\n      <td>2023.0</td>\n    </tr>\n    <tr>\n      <th>1023</th>\n      <td>28.0</td>\n      <td>Houston Rockets</td>\n      <td>22.1</td>\n      <td>22.0</td>\n      <td>60.0</td>\n      <td>23</td>\n      <td>59</td>\n      <td>-7.85</td>\n      <td>0.24</td>\n      <td>-7.62</td>\n      <td>...</td>\n      <td>0.554</td>\n      <td>0.516</td>\n      <td>14.0</td>\n      <td>30.2</td>\n      <td>0.215</td>\n      <td>0.564</td>\n      <td>11.8</td>\n      <td>75.8</td>\n      <td>0.218</td>\n      <td>2023.0</td>\n    </tr>\n    <tr>\n      <th>1024</th>\n      <td>29.0</td>\n      <td>Detroit Pistons</td>\n      <td>24.1</td>\n      <td>17.0</td>\n      <td>65.0</td>\n      <td>22</td>\n      <td>60</td>\n      <td>-8.22</td>\n      <td>0.49</td>\n      <td>-7.73</td>\n      <td>...</td>\n      <td>0.561</td>\n      <td>0.520</td>\n      <td>13.3</td>\n      <td>24.9</td>\n      <td>0.227</td>\n      <td>0.557</td>\n      <td>11.9</td>\n      <td>74.0</td>\n      <td>0.231</td>\n      <td>2023.0</td>\n    </tr>\n    <tr>\n      <th>1025</th>\n      <td>30.0</td>\n      <td>San Antonio Spurs</td>\n      <td>23.9</td>\n      <td>22.0</td>\n      <td>60.0</td>\n      <td>19</td>\n      <td>63</td>\n      <td>-10.04</td>\n      <td>0.22</td>\n      <td>-9.82</td>\n      <td>...</td>\n      <td>0.554</td>\n      <td>0.525</td>\n      <td>13.0</td>\n      <td>25.6</td>\n      <td>0.170</td>\n      <td>0.576</td>\n      <td>12.0</td>\n      <td>74.9</td>\n      <td>0.201</td>\n      <td>2023.0</td>\n    </tr>\n    <tr>\n      <th>1026</th>\n      <td>NaN</td>\n      <td>League Average</td>\n      <td>26.3</td>\n      <td>NaN</td>\n      <td>NaN</td>\n      <td>41</td>\n      <td>41</td>\n      <td>0.00</td>\n      <td>0.00</td>\n      <td>0.00</td>\n      <td>...</td>\n      <td>0.581</td>\n      <td>0.545</td>\n      <td>12.5</td>\n      <td>24.0</td>\n      <td>0.208</td>\n      <td>0.545</td>\n      <td>12.5</td>\n      <td>76.0</td>\n      <td>0.208</td>\n      <td>NaN</td>\n    </tr>\n  </tbody>\n</table>\n<p>1027 rows × 26 columns</p>\n</div>"
     },
     "execution_count": 23,
     "metadata": {},
     "output_type": "execute_result"
    }
   ],
   "source": [
    "adv_statistics"
   ],
   "metadata": {
    "collapsed": false,
    "ExecuteTime": {
     "end_time": "2024-03-16T11:01:03.273791Z",
     "start_time": "2024-03-16T11:01:03.261981Z"
    }
   },
   "id": "4f05899f32808db",
   "execution_count": 23
  },
  {
   "cell_type": "code",
   "outputs": [],
   "source": [
    "del adv_statistics[\"Rk\"]"
   ],
   "metadata": {
    "collapsed": false,
    "ExecuteTime": {
     "end_time": "2024-03-16T11:01:03.277315Z",
     "start_time": "2024-03-16T11:01:03.274618Z"
    }
   },
   "id": "36af7fd754255325",
   "execution_count": 24
  },
  {
   "cell_type": "code",
   "outputs": [],
   "source": [
    "adv_statistics[\"Team\"] = adv_statistics[\"Team\"].str.replace(\"*\", \"\", regex=False)\n"
   ],
   "metadata": {
    "collapsed": false,
    "ExecuteTime": {
     "end_time": "2024-03-16T11:01:03.280758Z",
     "start_time": "2024-03-16T11:01:03.278073Z"
    }
   },
   "id": "c21396c97d96c082",
   "execution_count": 25
  },
  {
   "cell_type": "code",
   "outputs": [],
   "source": [
    "adv_statistics.drop(adv_statistics.index[(adv_statistics[\"Team\"] == \"League Average\")], axis=0, inplace=True)"
   ],
   "metadata": {
    "collapsed": false,
    "ExecuteTime": {
     "end_time": "2024-03-16T11:01:03.284395Z",
     "start_time": "2024-03-16T11:01:03.281894Z"
    }
   },
   "id": "e577aeab08842ddd",
   "execution_count": 26
  },
  {
   "cell_type": "code",
   "outputs": [
    {
     "data": {
      "text/plain": "                        Team   Age     W     L  PW  PL    MOV   SOS   SRS  \\\n0         Los Angeles Lakers  28.9  63.0  19.0  58  24   6.78 -0.04  6.74   \n1               Phoenix Suns  26.7  54.0  28.0  58  24   7.10 -0.01  7.09   \n2            Detroit Pistons  29.5  59.0  23.0  57  25   6.09 -0.68  5.41   \n3     Portland Trail Blazers  26.7  59.0  23.0  57  25   6.32  0.16  6.48   \n4         Philadelphia 76ers  27.4  53.0  29.0  54  28   4.99 -0.75  4.23   \n...                      ...   ...   ...   ...  ..  ..    ...   ...   ...   \n1021  Portland Trail Blazers  25.1  33.0  49.0  31  51  -4.01  0.05 -3.96   \n1022       Charlotte Hornets  25.3  27.0  55.0  26  56  -6.24  0.35 -5.89   \n1023         Houston Rockets  22.1  22.0  60.0  23  59  -7.85  0.24 -7.62   \n1024         Detroit Pistons  24.1  17.0  65.0  22  60  -8.22  0.49 -7.73   \n1025       San Antonio Spurs  23.9  22.0  60.0  19  63 -10.04  0.22 -9.82   \n\n       ORtg  ...    TS%   eFG%  TOV%  ORB%  FT/FGA  eFG%.1  TOV%.1  DRB%  \\\n0     114.0  ...  0.562  0.512  13.2  32.8   0.271   0.479    12.8  68.5   \n1     113.1  ...  0.565  0.509  13.3  31.1   0.302   0.478    12.8  68.8   \n2     109.9  ...  0.537  0.490  13.4  34.2   0.245   0.461    13.7  70.3   \n3     110.5  ...  0.535  0.486  13.4  36.5   0.269   0.479    15.2  70.8   \n4     113.5  ...  0.556  0.502  12.9  32.0   0.281   0.495    13.3  68.4   \n...     ...  ...    ...    ...   ...   ...     ...     ...     ...   ...   \n1021  114.8  ...  0.589  0.549  13.1  22.4   0.230   0.563    12.1  74.9   \n1022  109.2  ...  0.550  0.516  12.3  23.8   0.195   0.544    12.5  75.5   \n1023  111.4  ...  0.554  0.516  14.0  30.2   0.215   0.564    11.8  75.8   \n1024  110.7  ...  0.561  0.520  13.3  24.9   0.227   0.557    11.9  74.0   \n1025  110.2  ...  0.554  0.525  13.0  25.6   0.170   0.576    12.0  74.9   \n\n      FT/FGA.1  Season  \n0        0.219  1990.0  \n1        0.209  1990.0  \n2        0.262  1990.0  \n3        0.265  1990.0  \n4        0.223  1990.0  \n...        ...     ...  \n1021     0.217  2023.0  \n1022     0.211  2023.0  \n1023     0.218  2023.0  \n1024     0.231  2023.0  \n1025     0.201  2023.0  \n\n[993 rows x 25 columns]",
      "text/html": "<div>\n<style scoped>\n    .dataframe tbody tr th:only-of-type {\n        vertical-align: middle;\n    }\n\n    .dataframe tbody tr th {\n        vertical-align: top;\n    }\n\n    .dataframe thead th {\n        text-align: right;\n    }\n</style>\n<table border=\"1\" class=\"dataframe\">\n  <thead>\n    <tr style=\"text-align: right;\">\n      <th></th>\n      <th>Team</th>\n      <th>Age</th>\n      <th>W</th>\n      <th>L</th>\n      <th>PW</th>\n      <th>PL</th>\n      <th>MOV</th>\n      <th>SOS</th>\n      <th>SRS</th>\n      <th>ORtg</th>\n      <th>...</th>\n      <th>TS%</th>\n      <th>eFG%</th>\n      <th>TOV%</th>\n      <th>ORB%</th>\n      <th>FT/FGA</th>\n      <th>eFG%.1</th>\n      <th>TOV%.1</th>\n      <th>DRB%</th>\n      <th>FT/FGA.1</th>\n      <th>Season</th>\n    </tr>\n  </thead>\n  <tbody>\n    <tr>\n      <th>0</th>\n      <td>Los Angeles Lakers</td>\n      <td>28.9</td>\n      <td>63.0</td>\n      <td>19.0</td>\n      <td>58</td>\n      <td>24</td>\n      <td>6.78</td>\n      <td>-0.04</td>\n      <td>6.74</td>\n      <td>114.0</td>\n      <td>...</td>\n      <td>0.562</td>\n      <td>0.512</td>\n      <td>13.2</td>\n      <td>32.8</td>\n      <td>0.271</td>\n      <td>0.479</td>\n      <td>12.8</td>\n      <td>68.5</td>\n      <td>0.219</td>\n      <td>1990.0</td>\n    </tr>\n    <tr>\n      <th>1</th>\n      <td>Phoenix Suns</td>\n      <td>26.7</td>\n      <td>54.0</td>\n      <td>28.0</td>\n      <td>58</td>\n      <td>24</td>\n      <td>7.10</td>\n      <td>-0.01</td>\n      <td>7.09</td>\n      <td>113.1</td>\n      <td>...</td>\n      <td>0.565</td>\n      <td>0.509</td>\n      <td>13.3</td>\n      <td>31.1</td>\n      <td>0.302</td>\n      <td>0.478</td>\n      <td>12.8</td>\n      <td>68.8</td>\n      <td>0.209</td>\n      <td>1990.0</td>\n    </tr>\n    <tr>\n      <th>2</th>\n      <td>Detroit Pistons</td>\n      <td>29.5</td>\n      <td>59.0</td>\n      <td>23.0</td>\n      <td>57</td>\n      <td>25</td>\n      <td>6.09</td>\n      <td>-0.68</td>\n      <td>5.41</td>\n      <td>109.9</td>\n      <td>...</td>\n      <td>0.537</td>\n      <td>0.490</td>\n      <td>13.4</td>\n      <td>34.2</td>\n      <td>0.245</td>\n      <td>0.461</td>\n      <td>13.7</td>\n      <td>70.3</td>\n      <td>0.262</td>\n      <td>1990.0</td>\n    </tr>\n    <tr>\n      <th>3</th>\n      <td>Portland Trail Blazers</td>\n      <td>26.7</td>\n      <td>59.0</td>\n      <td>23.0</td>\n      <td>57</td>\n      <td>25</td>\n      <td>6.32</td>\n      <td>0.16</td>\n      <td>6.48</td>\n      <td>110.5</td>\n      <td>...</td>\n      <td>0.535</td>\n      <td>0.486</td>\n      <td>13.4</td>\n      <td>36.5</td>\n      <td>0.269</td>\n      <td>0.479</td>\n      <td>15.2</td>\n      <td>70.8</td>\n      <td>0.265</td>\n      <td>1990.0</td>\n    </tr>\n    <tr>\n      <th>4</th>\n      <td>Philadelphia 76ers</td>\n      <td>27.4</td>\n      <td>53.0</td>\n      <td>29.0</td>\n      <td>54</td>\n      <td>28</td>\n      <td>4.99</td>\n      <td>-0.75</td>\n      <td>4.23</td>\n      <td>113.5</td>\n      <td>...</td>\n      <td>0.556</td>\n      <td>0.502</td>\n      <td>12.9</td>\n      <td>32.0</td>\n      <td>0.281</td>\n      <td>0.495</td>\n      <td>13.3</td>\n      <td>68.4</td>\n      <td>0.223</td>\n      <td>1990.0</td>\n    </tr>\n    <tr>\n      <th>...</th>\n      <td>...</td>\n      <td>...</td>\n      <td>...</td>\n      <td>...</td>\n      <td>...</td>\n      <td>...</td>\n      <td>...</td>\n      <td>...</td>\n      <td>...</td>\n      <td>...</td>\n      <td>...</td>\n      <td>...</td>\n      <td>...</td>\n      <td>...</td>\n      <td>...</td>\n      <td>...</td>\n      <td>...</td>\n      <td>...</td>\n      <td>...</td>\n      <td>...</td>\n      <td>...</td>\n    </tr>\n    <tr>\n      <th>1021</th>\n      <td>Portland Trail Blazers</td>\n      <td>25.1</td>\n      <td>33.0</td>\n      <td>49.0</td>\n      <td>31</td>\n      <td>51</td>\n      <td>-4.01</td>\n      <td>0.05</td>\n      <td>-3.96</td>\n      <td>114.8</td>\n      <td>...</td>\n      <td>0.589</td>\n      <td>0.549</td>\n      <td>13.1</td>\n      <td>22.4</td>\n      <td>0.230</td>\n      <td>0.563</td>\n      <td>12.1</td>\n      <td>74.9</td>\n      <td>0.217</td>\n      <td>2023.0</td>\n    </tr>\n    <tr>\n      <th>1022</th>\n      <td>Charlotte Hornets</td>\n      <td>25.3</td>\n      <td>27.0</td>\n      <td>55.0</td>\n      <td>26</td>\n      <td>56</td>\n      <td>-6.24</td>\n      <td>0.35</td>\n      <td>-5.89</td>\n      <td>109.2</td>\n      <td>...</td>\n      <td>0.550</td>\n      <td>0.516</td>\n      <td>12.3</td>\n      <td>23.8</td>\n      <td>0.195</td>\n      <td>0.544</td>\n      <td>12.5</td>\n      <td>75.5</td>\n      <td>0.211</td>\n      <td>2023.0</td>\n    </tr>\n    <tr>\n      <th>1023</th>\n      <td>Houston Rockets</td>\n      <td>22.1</td>\n      <td>22.0</td>\n      <td>60.0</td>\n      <td>23</td>\n      <td>59</td>\n      <td>-7.85</td>\n      <td>0.24</td>\n      <td>-7.62</td>\n      <td>111.4</td>\n      <td>...</td>\n      <td>0.554</td>\n      <td>0.516</td>\n      <td>14.0</td>\n      <td>30.2</td>\n      <td>0.215</td>\n      <td>0.564</td>\n      <td>11.8</td>\n      <td>75.8</td>\n      <td>0.218</td>\n      <td>2023.0</td>\n    </tr>\n    <tr>\n      <th>1024</th>\n      <td>Detroit Pistons</td>\n      <td>24.1</td>\n      <td>17.0</td>\n      <td>65.0</td>\n      <td>22</td>\n      <td>60</td>\n      <td>-8.22</td>\n      <td>0.49</td>\n      <td>-7.73</td>\n      <td>110.7</td>\n      <td>...</td>\n      <td>0.561</td>\n      <td>0.520</td>\n      <td>13.3</td>\n      <td>24.9</td>\n      <td>0.227</td>\n      <td>0.557</td>\n      <td>11.9</td>\n      <td>74.0</td>\n      <td>0.231</td>\n      <td>2023.0</td>\n    </tr>\n    <tr>\n      <th>1025</th>\n      <td>San Antonio Spurs</td>\n      <td>23.9</td>\n      <td>22.0</td>\n      <td>60.0</td>\n      <td>19</td>\n      <td>63</td>\n      <td>-10.04</td>\n      <td>0.22</td>\n      <td>-9.82</td>\n      <td>110.2</td>\n      <td>...</td>\n      <td>0.554</td>\n      <td>0.525</td>\n      <td>13.0</td>\n      <td>25.6</td>\n      <td>0.170</td>\n      <td>0.576</td>\n      <td>12.0</td>\n      <td>74.9</td>\n      <td>0.201</td>\n      <td>2023.0</td>\n    </tr>\n  </tbody>\n</table>\n<p>993 rows × 25 columns</p>\n</div>"
     },
     "execution_count": 27,
     "metadata": {},
     "output_type": "execute_result"
    }
   ],
   "source": [
    "adv_statistics"
   ],
   "metadata": {
    "collapsed": false,
    "ExecuteTime": {
     "end_time": "2024-03-16T11:01:03.297883Z",
     "start_time": "2024-03-16T11:01:03.285001Z"
    }
   },
   "id": "4929c0fca43ea622",
   "execution_count": 27
  },
  {
   "cell_type": "markdown",
   "source": [],
   "metadata": {
    "collapsed": false
   },
   "id": "d06573202ffd86b5"
  },
  {
   "cell_type": "code",
   "outputs": [],
   "source": [
    "#Combining Regular Season Stats"
   ],
   "metadata": {
    "collapsed": false
   },
   "id": "90e10a385ac93ab0"
  },
  {
   "cell_type": "code",
   "outputs": [],
   "source": [
    "combined = per_game_stats.merge(stat_totals, how='outer', on=[\"Team\", \"Season\"]) "
   ],
   "metadata": {
    "collapsed": false,
    "ExecuteTime": {
     "end_time": "2024-03-16T11:05:27.843315Z",
     "start_time": "2024-03-16T11:05:27.835789Z"
    }
   },
   "id": "cbda56b0ca5705a2",
   "execution_count": 29
  },
  {
   "cell_type": "code",
   "outputs": [
    {
     "data": {
      "text/plain": "                   Team   G  MP Per Game  FG Per Game  FGA Per Game  \\\n0         Atlanta Hawks  82        240.6         41.7          85.6   \n1         Atlanta Hawks  82        240.9         40.8          88.1   \n2         Atlanta Hawks  82        242.7         42.6          91.2   \n3         Atlanta Hawks  82        241.8         41.4          88.7   \n4         Atlanta Hawks  82        240.9         39.6          85.8   \n..                  ...  ..          ...          ...           ...   \n988  Washington Wizards  82        243.0         42.1          90.1   \n989  Washington Wizards  72        241.0         41.5          90.9   \n990  Washington Wizards  72        241.7         43.2          90.9   \n991  Washington Wizards  82        241.8         40.6          86.0   \n992  Washington Wizards  82        240.9         42.1          86.9   \n\n     3P Per Game  3PA Per Game  2P Per Game  2PA Per Game  FT Per Game  ...  \\\n0            1.5           5.0         40.2          80.6         23.7  ...   \n1            3.3          10.2         37.5          77.9         24.8  ...   \n2            2.6           8.2         40.0          83.0         18.5  ...   \n3            4.7          13.1         36.7          75.6         20.1  ...   \n4            3.3          10.1         36.3          75.7         19.0  ...   \n..           ...           ...          ...           ...          ...  ...   \n988         11.3          33.3         30.8          56.8         18.4  ...   \n989         12.0          32.6         29.5          58.3         19.4  ...   \n990         10.2          29.0         33.0          61.9         20.1  ...   \n991         10.5          30.6         30.1          55.4         17.0  ...   \n992         11.3          31.7         30.9          55.2         17.6  ...   \n\n       FT%  ORB Total  DRB Total  TRB Total  AST Total  STL Total  BLK Total  \\\n0    0.764       1273       2187       3460       1820        717        353   \n1    0.800       1235       2420       3655       1864        729        374   \n2    0.731       1288       2498       3786       2123        793        320   \n3    0.742       1290       2344       3634       2084        806        278   \n4    0.752       1250       2423       3673       2056        915        449   \n..     ...        ...        ...        ...        ...        ...        ...   \n988  0.768        794       2679       3473       2154        683        379   \n989  0.788        732       2295       3027       1801        574        309   \n990  0.769        697       2557       3254       1835        528        297   \n991  0.783        737       2798       3535       2052        522        406   \n992  0.785        774       2804       3578       2083        561        424   \n\n     TOV Total  PF Total  PTS Total  \n0         1270      1871       8901  \n1         1231      1768       9003  \n2         1255      1771       8711  \n3         1339      1807       8814  \n4         1252      1625       8318  \n..         ...       ...        ...  \n988       1154      1701       9350  \n989       1020      1634       8238  \n990       1037      1555       8398  \n991       1077      1545       8907  \n992       1158      1539       9279  \n\n[993 rows x 43 columns]",
      "text/html": "<div>\n<style scoped>\n    .dataframe tbody tr th:only-of-type {\n        vertical-align: middle;\n    }\n\n    .dataframe tbody tr th {\n        vertical-align: top;\n    }\n\n    .dataframe thead th {\n        text-align: right;\n    }\n</style>\n<table border=\"1\" class=\"dataframe\">\n  <thead>\n    <tr style=\"text-align: right;\">\n      <th></th>\n      <th>Team</th>\n      <th>G</th>\n      <th>MP Per Game</th>\n      <th>FG Per Game</th>\n      <th>FGA Per Game</th>\n      <th>3P Per Game</th>\n      <th>3PA Per Game</th>\n      <th>2P Per Game</th>\n      <th>2PA Per Game</th>\n      <th>FT Per Game</th>\n      <th>...</th>\n      <th>FT%</th>\n      <th>ORB Total</th>\n      <th>DRB Total</th>\n      <th>TRB Total</th>\n      <th>AST Total</th>\n      <th>STL Total</th>\n      <th>BLK Total</th>\n      <th>TOV Total</th>\n      <th>PF Total</th>\n      <th>PTS Total</th>\n    </tr>\n  </thead>\n  <tbody>\n    <tr>\n      <th>0</th>\n      <td>Atlanta Hawks</td>\n      <td>82</td>\n      <td>240.6</td>\n      <td>41.7</td>\n      <td>85.6</td>\n      <td>1.5</td>\n      <td>5.0</td>\n      <td>40.2</td>\n      <td>80.6</td>\n      <td>23.7</td>\n      <td>...</td>\n      <td>0.764</td>\n      <td>1273</td>\n      <td>2187</td>\n      <td>3460</td>\n      <td>1820</td>\n      <td>717</td>\n      <td>353</td>\n      <td>1270</td>\n      <td>1871</td>\n      <td>8901</td>\n    </tr>\n    <tr>\n      <th>1</th>\n      <td>Atlanta Hawks</td>\n      <td>82</td>\n      <td>240.9</td>\n      <td>40.8</td>\n      <td>88.1</td>\n      <td>3.3</td>\n      <td>10.2</td>\n      <td>37.5</td>\n      <td>77.9</td>\n      <td>24.8</td>\n      <td>...</td>\n      <td>0.800</td>\n      <td>1235</td>\n      <td>2420</td>\n      <td>3655</td>\n      <td>1864</td>\n      <td>729</td>\n      <td>374</td>\n      <td>1231</td>\n      <td>1768</td>\n      <td>9003</td>\n    </tr>\n    <tr>\n      <th>2</th>\n      <td>Atlanta Hawks</td>\n      <td>82</td>\n      <td>242.7</td>\n      <td>42.6</td>\n      <td>91.2</td>\n      <td>2.6</td>\n      <td>8.2</td>\n      <td>40.0</td>\n      <td>83.0</td>\n      <td>18.5</td>\n      <td>...</td>\n      <td>0.731</td>\n      <td>1288</td>\n      <td>2498</td>\n      <td>3786</td>\n      <td>2123</td>\n      <td>793</td>\n      <td>320</td>\n      <td>1255</td>\n      <td>1771</td>\n      <td>8711</td>\n    </tr>\n    <tr>\n      <th>3</th>\n      <td>Atlanta Hawks</td>\n      <td>82</td>\n      <td>241.8</td>\n      <td>41.4</td>\n      <td>88.7</td>\n      <td>4.7</td>\n      <td>13.1</td>\n      <td>36.7</td>\n      <td>75.6</td>\n      <td>20.1</td>\n      <td>...</td>\n      <td>0.742</td>\n      <td>1290</td>\n      <td>2344</td>\n      <td>3634</td>\n      <td>2084</td>\n      <td>806</td>\n      <td>278</td>\n      <td>1339</td>\n      <td>1807</td>\n      <td>8814</td>\n    </tr>\n    <tr>\n      <th>4</th>\n      <td>Atlanta Hawks</td>\n      <td>82</td>\n      <td>240.9</td>\n      <td>39.6</td>\n      <td>85.8</td>\n      <td>3.3</td>\n      <td>10.1</td>\n      <td>36.3</td>\n      <td>75.7</td>\n      <td>19.0</td>\n      <td>...</td>\n      <td>0.752</td>\n      <td>1250</td>\n      <td>2423</td>\n      <td>3673</td>\n      <td>2056</td>\n      <td>915</td>\n      <td>449</td>\n      <td>1252</td>\n      <td>1625</td>\n      <td>8318</td>\n    </tr>\n    <tr>\n      <th>...</th>\n      <td>...</td>\n      <td>...</td>\n      <td>...</td>\n      <td>...</td>\n      <td>...</td>\n      <td>...</td>\n      <td>...</td>\n      <td>...</td>\n      <td>...</td>\n      <td>...</td>\n      <td>...</td>\n      <td>...</td>\n      <td>...</td>\n      <td>...</td>\n      <td>...</td>\n      <td>...</td>\n      <td>...</td>\n      <td>...</td>\n      <td>...</td>\n      <td>...</td>\n      <td>...</td>\n    </tr>\n    <tr>\n      <th>988</th>\n      <td>Washington Wizards</td>\n      <td>82</td>\n      <td>243.0</td>\n      <td>42.1</td>\n      <td>90.1</td>\n      <td>11.3</td>\n      <td>33.3</td>\n      <td>30.8</td>\n      <td>56.8</td>\n      <td>18.4</td>\n      <td>...</td>\n      <td>0.768</td>\n      <td>794</td>\n      <td>2679</td>\n      <td>3473</td>\n      <td>2154</td>\n      <td>683</td>\n      <td>379</td>\n      <td>1154</td>\n      <td>1701</td>\n      <td>9350</td>\n    </tr>\n    <tr>\n      <th>989</th>\n      <td>Washington Wizards</td>\n      <td>72</td>\n      <td>241.0</td>\n      <td>41.5</td>\n      <td>90.9</td>\n      <td>12.0</td>\n      <td>32.6</td>\n      <td>29.5</td>\n      <td>58.3</td>\n      <td>19.4</td>\n      <td>...</td>\n      <td>0.788</td>\n      <td>732</td>\n      <td>2295</td>\n      <td>3027</td>\n      <td>1801</td>\n      <td>574</td>\n      <td>309</td>\n      <td>1020</td>\n      <td>1634</td>\n      <td>8238</td>\n    </tr>\n    <tr>\n      <th>990</th>\n      <td>Washington Wizards</td>\n      <td>72</td>\n      <td>241.7</td>\n      <td>43.2</td>\n      <td>90.9</td>\n      <td>10.2</td>\n      <td>29.0</td>\n      <td>33.0</td>\n      <td>61.9</td>\n      <td>20.1</td>\n      <td>...</td>\n      <td>0.769</td>\n      <td>697</td>\n      <td>2557</td>\n      <td>3254</td>\n      <td>1835</td>\n      <td>528</td>\n      <td>297</td>\n      <td>1037</td>\n      <td>1555</td>\n      <td>8398</td>\n    </tr>\n    <tr>\n      <th>991</th>\n      <td>Washington Wizards</td>\n      <td>82</td>\n      <td>241.8</td>\n      <td>40.6</td>\n      <td>86.0</td>\n      <td>10.5</td>\n      <td>30.6</td>\n      <td>30.1</td>\n      <td>55.4</td>\n      <td>17.0</td>\n      <td>...</td>\n      <td>0.783</td>\n      <td>737</td>\n      <td>2798</td>\n      <td>3535</td>\n      <td>2052</td>\n      <td>522</td>\n      <td>406</td>\n      <td>1077</td>\n      <td>1545</td>\n      <td>8907</td>\n    </tr>\n    <tr>\n      <th>992</th>\n      <td>Washington Wizards</td>\n      <td>82</td>\n      <td>240.9</td>\n      <td>42.1</td>\n      <td>86.9</td>\n      <td>11.3</td>\n      <td>31.7</td>\n      <td>30.9</td>\n      <td>55.2</td>\n      <td>17.6</td>\n      <td>...</td>\n      <td>0.785</td>\n      <td>774</td>\n      <td>2804</td>\n      <td>3578</td>\n      <td>2083</td>\n      <td>561</td>\n      <td>424</td>\n      <td>1158</td>\n      <td>1539</td>\n      <td>9279</td>\n    </tr>\n  </tbody>\n</table>\n<p>993 rows × 43 columns</p>\n</div>"
     },
     "execution_count": 30,
     "metadata": {},
     "output_type": "execute_result"
    }
   ],
   "source": [
    "combined"
   ],
   "metadata": {
    "collapsed": false,
    "ExecuteTime": {
     "end_time": "2024-03-16T11:05:34.510548Z",
     "start_time": "2024-03-16T11:05:34.495157Z"
    }
   },
   "id": "ad371bc8f0125f5c",
   "execution_count": 30
  },
  {
   "cell_type": "code",
   "outputs": [],
   "source": [
    "combined_2 = combined.merge(per_100, how='outer', on=[\"Team\", \"Season\"]) "
   ],
   "metadata": {
    "collapsed": false,
    "ExecuteTime": {
     "end_time": "2024-03-16T11:11:06.390111Z",
     "start_time": "2024-03-16T11:11:06.383386Z"
    }
   },
   "id": "d56fd3468407aec",
   "execution_count": 31
  },
  {
   "cell_type": "code",
   "outputs": [
    {
     "data": {
      "text/plain": "                   Team   G  MP Per Game  FG Per Game  FGA Per Game  \\\n0         Atlanta Hawks  82        240.6         41.7          85.6   \n1         Atlanta Hawks  82        240.9         40.8          88.1   \n2         Atlanta Hawks  82        242.7         42.6          91.2   \n3         Atlanta Hawks  82        241.8         41.4          88.7   \n4         Atlanta Hawks  82        240.9         39.6          85.8   \n..                  ...  ..          ...          ...           ...   \n988  Washington Wizards  82        243.0         42.1          90.1   \n989  Washington Wizards  72        241.0         41.5          90.9   \n990  Washington Wizards  72        241.7         43.2          90.9   \n991  Washington Wizards  82        241.8         40.6          86.0   \n992  Washington Wizards  82        240.9         42.1          86.9   \n\n     3P Per Game  3PA Per Game  2P Per Game  2PA Per Game  FT Per Game  ...  \\\n0            1.5           5.0         40.2          80.6         23.7  ...   \n1            3.3          10.2         37.5          77.9         24.8  ...   \n2            2.6           8.2         40.0          83.0         18.5  ...   \n3            4.7          13.1         36.7          75.6         20.1  ...   \n4            3.3          10.1         36.3          75.7         19.0  ...   \n..           ...           ...          ...           ...          ...  ...   \n988         11.3          33.3         30.8          56.8         18.4  ...   \n989         12.0          32.6         29.5          58.3         19.4  ...   \n990         10.2          29.0         33.0          61.9         20.1  ...   \n991         10.5          30.6         30.1          55.4         17.0  ...   \n992         11.3          31.7         30.9          55.2         17.6  ...   \n\n     FT% Per 100  ORB Per 100  DRB Per 100  TRB Per 100  AST Per 100  \\\n0          0.764         16.2         27.8         43.9         23.1   \n1          0.800         15.2         29.8         45.0         23.0   \n2          0.731         15.9         30.8         46.7         26.2   \n3          0.742         16.0         29.1         45.1         25.9   \n4          0.752         16.1         31.2         47.4         26.5   \n..           ...          ...          ...          ...          ...   \n988        0.768          9.4         31.8         41.3         25.6   \n989        0.788          9.9         30.9         40.8         24.3   \n990        0.769          9.2         33.9         43.1         24.3   \n991        0.783          9.2         34.9         44.1         25.6   \n992        0.785          9.5         34.6         44.1         25.7   \n\n     STL Per 100  BLK Per 100  TOV Per 100  PF Per 100  PTS Per 100  \n0            9.1          4.5         16.1        23.7        113.0  \n1            9.0          4.6         15.2        21.8        110.9  \n2            9.8          3.9         15.5        21.8        107.3  \n3           10.0          3.4         16.6        22.4        109.3  \n4           11.8          5.8         16.1        20.9        107.2  \n..           ...          ...          ...         ...          ...  \n988          8.1          4.5         13.7        20.2        111.1  \n989          7.7          4.2         13.7        22.0        110.9  \n990          7.0          3.9         13.7        20.6        111.2  \n991          6.5          5.1         13.4        19.3        111.1  \n992          6.9          5.2         14.3        19.0        114.4  \n\n[993 rows x 64 columns]",
      "text/html": "<div>\n<style scoped>\n    .dataframe tbody tr th:only-of-type {\n        vertical-align: middle;\n    }\n\n    .dataframe tbody tr th {\n        vertical-align: top;\n    }\n\n    .dataframe thead th {\n        text-align: right;\n    }\n</style>\n<table border=\"1\" class=\"dataframe\">\n  <thead>\n    <tr style=\"text-align: right;\">\n      <th></th>\n      <th>Team</th>\n      <th>G</th>\n      <th>MP Per Game</th>\n      <th>FG Per Game</th>\n      <th>FGA Per Game</th>\n      <th>3P Per Game</th>\n      <th>3PA Per Game</th>\n      <th>2P Per Game</th>\n      <th>2PA Per Game</th>\n      <th>FT Per Game</th>\n      <th>...</th>\n      <th>FT% Per 100</th>\n      <th>ORB Per 100</th>\n      <th>DRB Per 100</th>\n      <th>TRB Per 100</th>\n      <th>AST Per 100</th>\n      <th>STL Per 100</th>\n      <th>BLK Per 100</th>\n      <th>TOV Per 100</th>\n      <th>PF Per 100</th>\n      <th>PTS Per 100</th>\n    </tr>\n  </thead>\n  <tbody>\n    <tr>\n      <th>0</th>\n      <td>Atlanta Hawks</td>\n      <td>82</td>\n      <td>240.6</td>\n      <td>41.7</td>\n      <td>85.6</td>\n      <td>1.5</td>\n      <td>5.0</td>\n      <td>40.2</td>\n      <td>80.6</td>\n      <td>23.7</td>\n      <td>...</td>\n      <td>0.764</td>\n      <td>16.2</td>\n      <td>27.8</td>\n      <td>43.9</td>\n      <td>23.1</td>\n      <td>9.1</td>\n      <td>4.5</td>\n      <td>16.1</td>\n      <td>23.7</td>\n      <td>113.0</td>\n    </tr>\n    <tr>\n      <th>1</th>\n      <td>Atlanta Hawks</td>\n      <td>82</td>\n      <td>240.9</td>\n      <td>40.8</td>\n      <td>88.1</td>\n      <td>3.3</td>\n      <td>10.2</td>\n      <td>37.5</td>\n      <td>77.9</td>\n      <td>24.8</td>\n      <td>...</td>\n      <td>0.800</td>\n      <td>15.2</td>\n      <td>29.8</td>\n      <td>45.0</td>\n      <td>23.0</td>\n      <td>9.0</td>\n      <td>4.6</td>\n      <td>15.2</td>\n      <td>21.8</td>\n      <td>110.9</td>\n    </tr>\n    <tr>\n      <th>2</th>\n      <td>Atlanta Hawks</td>\n      <td>82</td>\n      <td>242.7</td>\n      <td>42.6</td>\n      <td>91.2</td>\n      <td>2.6</td>\n      <td>8.2</td>\n      <td>40.0</td>\n      <td>83.0</td>\n      <td>18.5</td>\n      <td>...</td>\n      <td>0.731</td>\n      <td>15.9</td>\n      <td>30.8</td>\n      <td>46.7</td>\n      <td>26.2</td>\n      <td>9.8</td>\n      <td>3.9</td>\n      <td>15.5</td>\n      <td>21.8</td>\n      <td>107.3</td>\n    </tr>\n    <tr>\n      <th>3</th>\n      <td>Atlanta Hawks</td>\n      <td>82</td>\n      <td>241.8</td>\n      <td>41.4</td>\n      <td>88.7</td>\n      <td>4.7</td>\n      <td>13.1</td>\n      <td>36.7</td>\n      <td>75.6</td>\n      <td>20.1</td>\n      <td>...</td>\n      <td>0.742</td>\n      <td>16.0</td>\n      <td>29.1</td>\n      <td>45.1</td>\n      <td>25.9</td>\n      <td>10.0</td>\n      <td>3.4</td>\n      <td>16.6</td>\n      <td>22.4</td>\n      <td>109.3</td>\n    </tr>\n    <tr>\n      <th>4</th>\n      <td>Atlanta Hawks</td>\n      <td>82</td>\n      <td>240.9</td>\n      <td>39.6</td>\n      <td>85.8</td>\n      <td>3.3</td>\n      <td>10.1</td>\n      <td>36.3</td>\n      <td>75.7</td>\n      <td>19.0</td>\n      <td>...</td>\n      <td>0.752</td>\n      <td>16.1</td>\n      <td>31.2</td>\n      <td>47.4</td>\n      <td>26.5</td>\n      <td>11.8</td>\n      <td>5.8</td>\n      <td>16.1</td>\n      <td>20.9</td>\n      <td>107.2</td>\n    </tr>\n    <tr>\n      <th>...</th>\n      <td>...</td>\n      <td>...</td>\n      <td>...</td>\n      <td>...</td>\n      <td>...</td>\n      <td>...</td>\n      <td>...</td>\n      <td>...</td>\n      <td>...</td>\n      <td>...</td>\n      <td>...</td>\n      <td>...</td>\n      <td>...</td>\n      <td>...</td>\n      <td>...</td>\n      <td>...</td>\n      <td>...</td>\n      <td>...</td>\n      <td>...</td>\n      <td>...</td>\n      <td>...</td>\n    </tr>\n    <tr>\n      <th>988</th>\n      <td>Washington Wizards</td>\n      <td>82</td>\n      <td>243.0</td>\n      <td>42.1</td>\n      <td>90.1</td>\n      <td>11.3</td>\n      <td>33.3</td>\n      <td>30.8</td>\n      <td>56.8</td>\n      <td>18.4</td>\n      <td>...</td>\n      <td>0.768</td>\n      <td>9.4</td>\n      <td>31.8</td>\n      <td>41.3</td>\n      <td>25.6</td>\n      <td>8.1</td>\n      <td>4.5</td>\n      <td>13.7</td>\n      <td>20.2</td>\n      <td>111.1</td>\n    </tr>\n    <tr>\n      <th>989</th>\n      <td>Washington Wizards</td>\n      <td>72</td>\n      <td>241.0</td>\n      <td>41.5</td>\n      <td>90.9</td>\n      <td>12.0</td>\n      <td>32.6</td>\n      <td>29.5</td>\n      <td>58.3</td>\n      <td>19.4</td>\n      <td>...</td>\n      <td>0.788</td>\n      <td>9.9</td>\n      <td>30.9</td>\n      <td>40.8</td>\n      <td>24.3</td>\n      <td>7.7</td>\n      <td>4.2</td>\n      <td>13.7</td>\n      <td>22.0</td>\n      <td>110.9</td>\n    </tr>\n    <tr>\n      <th>990</th>\n      <td>Washington Wizards</td>\n      <td>72</td>\n      <td>241.7</td>\n      <td>43.2</td>\n      <td>90.9</td>\n      <td>10.2</td>\n      <td>29.0</td>\n      <td>33.0</td>\n      <td>61.9</td>\n      <td>20.1</td>\n      <td>...</td>\n      <td>0.769</td>\n      <td>9.2</td>\n      <td>33.9</td>\n      <td>43.1</td>\n      <td>24.3</td>\n      <td>7.0</td>\n      <td>3.9</td>\n      <td>13.7</td>\n      <td>20.6</td>\n      <td>111.2</td>\n    </tr>\n    <tr>\n      <th>991</th>\n      <td>Washington Wizards</td>\n      <td>82</td>\n      <td>241.8</td>\n      <td>40.6</td>\n      <td>86.0</td>\n      <td>10.5</td>\n      <td>30.6</td>\n      <td>30.1</td>\n      <td>55.4</td>\n      <td>17.0</td>\n      <td>...</td>\n      <td>0.783</td>\n      <td>9.2</td>\n      <td>34.9</td>\n      <td>44.1</td>\n      <td>25.6</td>\n      <td>6.5</td>\n      <td>5.1</td>\n      <td>13.4</td>\n      <td>19.3</td>\n      <td>111.1</td>\n    </tr>\n    <tr>\n      <th>992</th>\n      <td>Washington Wizards</td>\n      <td>82</td>\n      <td>240.9</td>\n      <td>42.1</td>\n      <td>86.9</td>\n      <td>11.3</td>\n      <td>31.7</td>\n      <td>30.9</td>\n      <td>55.2</td>\n      <td>17.6</td>\n      <td>...</td>\n      <td>0.785</td>\n      <td>9.5</td>\n      <td>34.6</td>\n      <td>44.1</td>\n      <td>25.7</td>\n      <td>6.9</td>\n      <td>5.2</td>\n      <td>14.3</td>\n      <td>19.0</td>\n      <td>114.4</td>\n    </tr>\n  </tbody>\n</table>\n<p>993 rows × 64 columns</p>\n</div>"
     },
     "execution_count": 32,
     "metadata": {},
     "output_type": "execute_result"
    }
   ],
   "source": [
    "combined_2"
   ],
   "metadata": {
    "collapsed": false,
    "ExecuteTime": {
     "end_time": "2024-03-16T11:11:11.825391Z",
     "start_time": "2024-03-16T11:11:11.806099Z"
    }
   },
   "id": "16ec3bbaff353c19",
   "execution_count": 32
  },
  {
   "cell_type": "code",
   "outputs": [],
   "source": [
    "combined_3 = combined.merge(adv_statistics, how='outer', on=[\"Team\", \"Season\"])"
   ],
   "metadata": {
    "collapsed": false,
    "ExecuteTime": {
     "end_time": "2024-03-16T11:11:52.873562Z",
     "start_time": "2024-03-16T11:11:52.869813Z"
    }
   },
   "id": "677e4c9a7a1276bc",
   "execution_count": 33
  },
  {
   "cell_type": "code",
   "outputs": [
    {
     "data": {
      "text/plain": "                   Team   G  MP Per Game  FG Per Game  FGA Per Game  \\\n0         Atlanta Hawks  82        240.6         41.7          85.6   \n1         Atlanta Hawks  82        240.9         40.8          88.1   \n2         Atlanta Hawks  82        242.7         42.6          91.2   \n3         Atlanta Hawks  82        241.8         41.4          88.7   \n4         Atlanta Hawks  82        240.9         39.6          85.8   \n..                  ...  ..          ...          ...           ...   \n988  Washington Wizards  82        243.0         42.1          90.1   \n989  Washington Wizards  72        241.0         41.5          90.9   \n990  Washington Wizards  72        241.7         43.2          90.9   \n991  Washington Wizards  82        241.8         40.6          86.0   \n992  Washington Wizards  82        240.9         42.1          86.9   \n\n     3P Per Game  3PA Per Game  2P Per Game  2PA Per Game  FT Per Game  ...  \\\n0            1.5           5.0         40.2          80.6         23.7  ...   \n1            3.3          10.2         37.5          77.9         24.8  ...   \n2            2.6           8.2         40.0          83.0         18.5  ...   \n3            4.7          13.1         36.7          75.6         20.1  ...   \n4            3.3          10.1         36.3          75.7         19.0  ...   \n..           ...           ...          ...           ...          ...  ...   \n988         11.3          33.3         30.8          56.8         18.4  ...   \n989         12.0          32.6         29.5          58.3         19.4  ...   \n990         10.2          29.0         33.0          61.9         20.1  ...   \n991         10.5          30.6         30.1          55.4         17.0  ...   \n992         11.3          31.7         30.9          55.2         17.6  ...   \n\n      3PAr    TS%   eFG%  TOV%  ORB%  FT/FGA  eFG%.1  TOV%.1  DRB%  FT/FGA.1  \n0    0.059  0.547  0.496  13.5  36.3   0.277   0.509    14.0  65.5     0.254  \n1    0.116  0.540  0.482  12.9  33.1   0.282   0.509    13.7  69.1     0.220  \n2    0.090  0.519  0.481  13.0  33.6   0.203   0.497    13.2  68.3     0.209  \n3    0.148  0.534  0.493  14.0  34.8   0.227   0.516    14.6  68.5     0.224  \n4    0.118  0.523  0.480  13.6  34.6   0.221   0.475    16.0  67.7     0.185  \n..     ...    ...    ...   ...   ...     ...     ...     ...   ...       ...  \n988  0.370  0.567  0.531  12.3  21.3   0.204   0.546    13.5  74.1     0.199  \n989  0.358  0.562  0.523  12.2  22.2   0.213   0.558    13.9  75.3     0.231  \n990  0.319  0.569  0.531  12.3  21.3   0.221   0.539    12.5  77.6     0.217  \n991  0.356  0.568  0.532  12.1  20.9   0.197   0.529    10.7  76.9     0.202  \n992  0.365  0.585  0.550  12.7  22.6   0.202   0.540    11.0  76.1     0.194  \n\n[993 rows x 66 columns]",
      "text/html": "<div>\n<style scoped>\n    .dataframe tbody tr th:only-of-type {\n        vertical-align: middle;\n    }\n\n    .dataframe tbody tr th {\n        vertical-align: top;\n    }\n\n    .dataframe thead th {\n        text-align: right;\n    }\n</style>\n<table border=\"1\" class=\"dataframe\">\n  <thead>\n    <tr style=\"text-align: right;\">\n      <th></th>\n      <th>Team</th>\n      <th>G</th>\n      <th>MP Per Game</th>\n      <th>FG Per Game</th>\n      <th>FGA Per Game</th>\n      <th>3P Per Game</th>\n      <th>3PA Per Game</th>\n      <th>2P Per Game</th>\n      <th>2PA Per Game</th>\n      <th>FT Per Game</th>\n      <th>...</th>\n      <th>3PAr</th>\n      <th>TS%</th>\n      <th>eFG%</th>\n      <th>TOV%</th>\n      <th>ORB%</th>\n      <th>FT/FGA</th>\n      <th>eFG%.1</th>\n      <th>TOV%.1</th>\n      <th>DRB%</th>\n      <th>FT/FGA.1</th>\n    </tr>\n  </thead>\n  <tbody>\n    <tr>\n      <th>0</th>\n      <td>Atlanta Hawks</td>\n      <td>82</td>\n      <td>240.6</td>\n      <td>41.7</td>\n      <td>85.6</td>\n      <td>1.5</td>\n      <td>5.0</td>\n      <td>40.2</td>\n      <td>80.6</td>\n      <td>23.7</td>\n      <td>...</td>\n      <td>0.059</td>\n      <td>0.547</td>\n      <td>0.496</td>\n      <td>13.5</td>\n      <td>36.3</td>\n      <td>0.277</td>\n      <td>0.509</td>\n      <td>14.0</td>\n      <td>65.5</td>\n      <td>0.254</td>\n    </tr>\n    <tr>\n      <th>1</th>\n      <td>Atlanta Hawks</td>\n      <td>82</td>\n      <td>240.9</td>\n      <td>40.8</td>\n      <td>88.1</td>\n      <td>3.3</td>\n      <td>10.2</td>\n      <td>37.5</td>\n      <td>77.9</td>\n      <td>24.8</td>\n      <td>...</td>\n      <td>0.116</td>\n      <td>0.540</td>\n      <td>0.482</td>\n      <td>12.9</td>\n      <td>33.1</td>\n      <td>0.282</td>\n      <td>0.509</td>\n      <td>13.7</td>\n      <td>69.1</td>\n      <td>0.220</td>\n    </tr>\n    <tr>\n      <th>2</th>\n      <td>Atlanta Hawks</td>\n      <td>82</td>\n      <td>242.7</td>\n      <td>42.6</td>\n      <td>91.2</td>\n      <td>2.6</td>\n      <td>8.2</td>\n      <td>40.0</td>\n      <td>83.0</td>\n      <td>18.5</td>\n      <td>...</td>\n      <td>0.090</td>\n      <td>0.519</td>\n      <td>0.481</td>\n      <td>13.0</td>\n      <td>33.6</td>\n      <td>0.203</td>\n      <td>0.497</td>\n      <td>13.2</td>\n      <td>68.3</td>\n      <td>0.209</td>\n    </tr>\n    <tr>\n      <th>3</th>\n      <td>Atlanta Hawks</td>\n      <td>82</td>\n      <td>241.8</td>\n      <td>41.4</td>\n      <td>88.7</td>\n      <td>4.7</td>\n      <td>13.1</td>\n      <td>36.7</td>\n      <td>75.6</td>\n      <td>20.1</td>\n      <td>...</td>\n      <td>0.148</td>\n      <td>0.534</td>\n      <td>0.493</td>\n      <td>14.0</td>\n      <td>34.8</td>\n      <td>0.227</td>\n      <td>0.516</td>\n      <td>14.6</td>\n      <td>68.5</td>\n      <td>0.224</td>\n    </tr>\n    <tr>\n      <th>4</th>\n      <td>Atlanta Hawks</td>\n      <td>82</td>\n      <td>240.9</td>\n      <td>39.6</td>\n      <td>85.8</td>\n      <td>3.3</td>\n      <td>10.1</td>\n      <td>36.3</td>\n      <td>75.7</td>\n      <td>19.0</td>\n      <td>...</td>\n      <td>0.118</td>\n      <td>0.523</td>\n      <td>0.480</td>\n      <td>13.6</td>\n      <td>34.6</td>\n      <td>0.221</td>\n      <td>0.475</td>\n      <td>16.0</td>\n      <td>67.7</td>\n      <td>0.185</td>\n    </tr>\n    <tr>\n      <th>...</th>\n      <td>...</td>\n      <td>...</td>\n      <td>...</td>\n      <td>...</td>\n      <td>...</td>\n      <td>...</td>\n      <td>...</td>\n      <td>...</td>\n      <td>...</td>\n      <td>...</td>\n      <td>...</td>\n      <td>...</td>\n      <td>...</td>\n      <td>...</td>\n      <td>...</td>\n      <td>...</td>\n      <td>...</td>\n      <td>...</td>\n      <td>...</td>\n      <td>...</td>\n      <td>...</td>\n    </tr>\n    <tr>\n      <th>988</th>\n      <td>Washington Wizards</td>\n      <td>82</td>\n      <td>243.0</td>\n      <td>42.1</td>\n      <td>90.1</td>\n      <td>11.3</td>\n      <td>33.3</td>\n      <td>30.8</td>\n      <td>56.8</td>\n      <td>18.4</td>\n      <td>...</td>\n      <td>0.370</td>\n      <td>0.567</td>\n      <td>0.531</td>\n      <td>12.3</td>\n      <td>21.3</td>\n      <td>0.204</td>\n      <td>0.546</td>\n      <td>13.5</td>\n      <td>74.1</td>\n      <td>0.199</td>\n    </tr>\n    <tr>\n      <th>989</th>\n      <td>Washington Wizards</td>\n      <td>72</td>\n      <td>241.0</td>\n      <td>41.5</td>\n      <td>90.9</td>\n      <td>12.0</td>\n      <td>32.6</td>\n      <td>29.5</td>\n      <td>58.3</td>\n      <td>19.4</td>\n      <td>...</td>\n      <td>0.358</td>\n      <td>0.562</td>\n      <td>0.523</td>\n      <td>12.2</td>\n      <td>22.2</td>\n      <td>0.213</td>\n      <td>0.558</td>\n      <td>13.9</td>\n      <td>75.3</td>\n      <td>0.231</td>\n    </tr>\n    <tr>\n      <th>990</th>\n      <td>Washington Wizards</td>\n      <td>72</td>\n      <td>241.7</td>\n      <td>43.2</td>\n      <td>90.9</td>\n      <td>10.2</td>\n      <td>29.0</td>\n      <td>33.0</td>\n      <td>61.9</td>\n      <td>20.1</td>\n      <td>...</td>\n      <td>0.319</td>\n      <td>0.569</td>\n      <td>0.531</td>\n      <td>12.3</td>\n      <td>21.3</td>\n      <td>0.221</td>\n      <td>0.539</td>\n      <td>12.5</td>\n      <td>77.6</td>\n      <td>0.217</td>\n    </tr>\n    <tr>\n      <th>991</th>\n      <td>Washington Wizards</td>\n      <td>82</td>\n      <td>241.8</td>\n      <td>40.6</td>\n      <td>86.0</td>\n      <td>10.5</td>\n      <td>30.6</td>\n      <td>30.1</td>\n      <td>55.4</td>\n      <td>17.0</td>\n      <td>...</td>\n      <td>0.356</td>\n      <td>0.568</td>\n      <td>0.532</td>\n      <td>12.1</td>\n      <td>20.9</td>\n      <td>0.197</td>\n      <td>0.529</td>\n      <td>10.7</td>\n      <td>76.9</td>\n      <td>0.202</td>\n    </tr>\n    <tr>\n      <th>992</th>\n      <td>Washington Wizards</td>\n      <td>82</td>\n      <td>240.9</td>\n      <td>42.1</td>\n      <td>86.9</td>\n      <td>11.3</td>\n      <td>31.7</td>\n      <td>30.9</td>\n      <td>55.2</td>\n      <td>17.6</td>\n      <td>...</td>\n      <td>0.365</td>\n      <td>0.585</td>\n      <td>0.550</td>\n      <td>12.7</td>\n      <td>22.6</td>\n      <td>0.202</td>\n      <td>0.540</td>\n      <td>11.0</td>\n      <td>76.1</td>\n      <td>0.194</td>\n    </tr>\n  </tbody>\n</table>\n<p>993 rows × 66 columns</p>\n</div>"
     },
     "execution_count": 34,
     "metadata": {},
     "output_type": "execute_result"
    }
   ],
   "source": [
    "combined_3"
   ],
   "metadata": {
    "collapsed": false,
    "ExecuteTime": {
     "end_time": "2024-03-16T11:11:57.306806Z",
     "start_time": "2024-03-16T11:11:57.289310Z"
    }
   },
   "id": "5494c829cf1b5dbc",
   "execution_count": 34
  },
  {
   "cell_type": "code",
   "outputs": [],
   "source": [
    "combined_3.to_csv('combined_stats.csv')"
   ],
   "metadata": {
    "collapsed": false,
    "ExecuteTime": {
     "end_time": "2024-03-16T11:14:29.059476Z",
     "start_time": "2024-03-16T11:14:29.026779Z"
    }
   },
   "id": "1160537927893002",
   "execution_count": 36
  },
  {
   "cell_type": "code",
   "outputs": [
    {
     "data": {
      "text/plain": "Team             object\nG                 int64\nMP Per Game     float64\nFG Per Game     float64\nFGA Per Game    float64\n                 ...   \nFT/FGA          float64\neFG%.1          float64\nTOV%.1          float64\nDRB%            float64\nFT/FGA.1        float64\nLength: 66, dtype: object"
     },
     "execution_count": 37,
     "metadata": {},
     "output_type": "execute_result"
    }
   ],
   "source": [
    "combined_3.dtypes"
   ],
   "metadata": {
    "collapsed": false,
    "ExecuteTime": {
     "end_time": "2024-03-16T11:17:58.994875Z",
     "start_time": "2024-03-16T11:17:58.990030Z"
    }
   },
   "id": "5e330f9798052694",
   "execution_count": 37
  },
  {
   "cell_type": "code",
   "outputs": [],
   "source": [
    "combined_stats_1 = pd.read_csv('combined_stats_1.csv')"
   ],
   "metadata": {
    "collapsed": false,
    "ExecuteTime": {
     "end_time": "2024-04-05T04:03:27.936588Z",
     "start_time": "2024-04-05T04:03:27.929460Z"
    }
   },
   "id": "26482534a51020b2",
   "execution_count": 2
  },
  {
   "cell_type": "code",
   "outputs": [
    {
     "data": {
      "text/plain": "     Unnamed: 0                 Team   G  MP Per Game  FG Per Game  \\\n0            13        Atlanta Hawks  82        242.7         34.9   \n1            47       Boston Celtics  82        241.8         32.9   \n2           124        Chicago Bulls  82        243.0         36.5   \n3           158  Cleveland Cavaliers  82        241.8         34.8   \n4           192     Dallas Mavericks  82        241.2         38.5   \n..          ...                  ...  ..          ...          ...   \n623         837     Sacramento Kings  82        241.8         43.6   \n624         871    San Antonio Spurs  82        242.1         43.1   \n625         918      Toronto Raptors  82        241.5         41.9   \n626         952            Utah Jazz  82        241.5         42.5   \n627         992   Washington Wizards  82        240.9         42.1   \n\n     FGA Per Game  3P Per Game  3PA Per Game  2P Per Game  2PA Per Game  ...  \\\n0            78.5          4.9          13.9         30.0          64.5  ...   \n1            79.4          8.8          26.3         24.2          53.1  ...   \n2            81.9          4.3          12.2         32.2          69.7  ...   \n3            82.3          3.6          10.9         31.2          71.3  ...   \n4            85.1          7.8          20.3         30.8          64.8  ...   \n..            ...          ...           ...          ...           ...  ...   \n623          88.2         13.8          37.3         29.8          50.9  ...   \n624          92.6         11.1          32.2         32.0          60.4  ...   \n625          91.3         10.7          32.0         31.1          59.3  ...   \n626          89.8         13.3          37.8         29.2          52.0  ...   \n627          86.9         11.3          31.7         30.9          55.2  ...   \n\n      3PAr    TS%   eFG%  TOV%  ORB%  FT/FGA  eFG%.1  TOV%.1  DRB%  FT/FGA.1  \n0    0.177  0.527  0.476  15.7  27.9   0.248   0.469    12.1  70.4     0.222  \n1    0.331  0.514  0.470  13.4  23.6   0.227   0.471    15.1  72.5     0.242  \n2    0.148  0.512  0.471  15.4  27.7   0.217   0.470    13.3  69.5     0.263  \n3    0.133  0.491  0.444  16.4  31.0   0.223   0.484    13.0  73.2     0.252  \n4    0.239  0.543  0.498  10.9  25.4   0.213   0.473    14.8  70.9     0.221  \n..     ...    ...    ...   ...   ...     ...     ...     ...   ...       ...  \n623  0.423  0.608  0.572  12.0  22.7   0.225   0.563    12.6  77.2     0.203  \n624  0.348  0.554  0.525  13.0  25.6   0.170   0.576    12.0  74.9     0.201  \n625  0.351  0.555  0.517  10.3  27.8   0.201   0.565    15.3  76.7     0.223  \n626  0.421  0.584  0.547  13.3  26.8   0.209   0.541    10.9  75.2     0.205  \n627  0.365  0.585  0.550  12.7  22.6   0.202   0.540    11.0  76.1     0.194  \n\n[628 rows x 67 columns]",
      "text/html": "<div>\n<style scoped>\n    .dataframe tbody tr th:only-of-type {\n        vertical-align: middle;\n    }\n\n    .dataframe tbody tr th {\n        vertical-align: top;\n    }\n\n    .dataframe thead th {\n        text-align: right;\n    }\n</style>\n<table border=\"1\" class=\"dataframe\">\n  <thead>\n    <tr style=\"text-align: right;\">\n      <th></th>\n      <th>Unnamed: 0</th>\n      <th>Team</th>\n      <th>G</th>\n      <th>MP Per Game</th>\n      <th>FG Per Game</th>\n      <th>FGA Per Game</th>\n      <th>3P Per Game</th>\n      <th>3PA Per Game</th>\n      <th>2P Per Game</th>\n      <th>2PA Per Game</th>\n      <th>...</th>\n      <th>3PAr</th>\n      <th>TS%</th>\n      <th>eFG%</th>\n      <th>TOV%</th>\n      <th>ORB%</th>\n      <th>FT/FGA</th>\n      <th>eFG%.1</th>\n      <th>TOV%.1</th>\n      <th>DRB%</th>\n      <th>FT/FGA.1</th>\n    </tr>\n  </thead>\n  <tbody>\n    <tr>\n      <th>0</th>\n      <td>13</td>\n      <td>Atlanta Hawks</td>\n      <td>82</td>\n      <td>242.7</td>\n      <td>34.9</td>\n      <td>78.5</td>\n      <td>4.9</td>\n      <td>13.9</td>\n      <td>30.0</td>\n      <td>64.5</td>\n      <td>...</td>\n      <td>0.177</td>\n      <td>0.527</td>\n      <td>0.476</td>\n      <td>15.7</td>\n      <td>27.9</td>\n      <td>0.248</td>\n      <td>0.469</td>\n      <td>12.1</td>\n      <td>70.4</td>\n      <td>0.222</td>\n    </tr>\n    <tr>\n      <th>1</th>\n      <td>47</td>\n      <td>Boston Celtics</td>\n      <td>82</td>\n      <td>241.8</td>\n      <td>32.9</td>\n      <td>79.4</td>\n      <td>8.8</td>\n      <td>26.3</td>\n      <td>24.2</td>\n      <td>53.1</td>\n      <td>...</td>\n      <td>0.331</td>\n      <td>0.514</td>\n      <td>0.470</td>\n      <td>13.4</td>\n      <td>23.6</td>\n      <td>0.227</td>\n      <td>0.471</td>\n      <td>15.1</td>\n      <td>72.5</td>\n      <td>0.242</td>\n    </tr>\n    <tr>\n      <th>2</th>\n      <td>124</td>\n      <td>Chicago Bulls</td>\n      <td>82</td>\n      <td>243.0</td>\n      <td>36.5</td>\n      <td>81.9</td>\n      <td>4.3</td>\n      <td>12.2</td>\n      <td>32.2</td>\n      <td>69.7</td>\n      <td>...</td>\n      <td>0.148</td>\n      <td>0.512</td>\n      <td>0.471</td>\n      <td>15.4</td>\n      <td>27.7</td>\n      <td>0.217</td>\n      <td>0.470</td>\n      <td>13.3</td>\n      <td>69.5</td>\n      <td>0.263</td>\n    </tr>\n    <tr>\n      <th>3</th>\n      <td>158</td>\n      <td>Cleveland Cavaliers</td>\n      <td>82</td>\n      <td>241.8</td>\n      <td>34.8</td>\n      <td>82.3</td>\n      <td>3.6</td>\n      <td>10.9</td>\n      <td>31.2</td>\n      <td>71.3</td>\n      <td>...</td>\n      <td>0.133</td>\n      <td>0.491</td>\n      <td>0.444</td>\n      <td>16.4</td>\n      <td>31.0</td>\n      <td>0.223</td>\n      <td>0.484</td>\n      <td>13.0</td>\n      <td>73.2</td>\n      <td>0.252</td>\n    </tr>\n    <tr>\n      <th>4</th>\n      <td>192</td>\n      <td>Dallas Mavericks</td>\n      <td>82</td>\n      <td>241.2</td>\n      <td>38.5</td>\n      <td>85.1</td>\n      <td>7.8</td>\n      <td>20.3</td>\n      <td>30.8</td>\n      <td>64.8</td>\n      <td>...</td>\n      <td>0.239</td>\n      <td>0.543</td>\n      <td>0.498</td>\n      <td>10.9</td>\n      <td>25.4</td>\n      <td>0.213</td>\n      <td>0.473</td>\n      <td>14.8</td>\n      <td>70.9</td>\n      <td>0.221</td>\n    </tr>\n    <tr>\n      <th>...</th>\n      <td>...</td>\n      <td>...</td>\n      <td>...</td>\n      <td>...</td>\n      <td>...</td>\n      <td>...</td>\n      <td>...</td>\n      <td>...</td>\n      <td>...</td>\n      <td>...</td>\n      <td>...</td>\n      <td>...</td>\n      <td>...</td>\n      <td>...</td>\n      <td>...</td>\n      <td>...</td>\n      <td>...</td>\n      <td>...</td>\n      <td>...</td>\n      <td>...</td>\n      <td>...</td>\n    </tr>\n    <tr>\n      <th>623</th>\n      <td>837</td>\n      <td>Sacramento Kings</td>\n      <td>82</td>\n      <td>241.8</td>\n      <td>43.6</td>\n      <td>88.2</td>\n      <td>13.8</td>\n      <td>37.3</td>\n      <td>29.8</td>\n      <td>50.9</td>\n      <td>...</td>\n      <td>0.423</td>\n      <td>0.608</td>\n      <td>0.572</td>\n      <td>12.0</td>\n      <td>22.7</td>\n      <td>0.225</td>\n      <td>0.563</td>\n      <td>12.6</td>\n      <td>77.2</td>\n      <td>0.203</td>\n    </tr>\n    <tr>\n      <th>624</th>\n      <td>871</td>\n      <td>San Antonio Spurs</td>\n      <td>82</td>\n      <td>242.1</td>\n      <td>43.1</td>\n      <td>92.6</td>\n      <td>11.1</td>\n      <td>32.2</td>\n      <td>32.0</td>\n      <td>60.4</td>\n      <td>...</td>\n      <td>0.348</td>\n      <td>0.554</td>\n      <td>0.525</td>\n      <td>13.0</td>\n      <td>25.6</td>\n      <td>0.170</td>\n      <td>0.576</td>\n      <td>12.0</td>\n      <td>74.9</td>\n      <td>0.201</td>\n    </tr>\n    <tr>\n      <th>625</th>\n      <td>918</td>\n      <td>Toronto Raptors</td>\n      <td>82</td>\n      <td>241.5</td>\n      <td>41.9</td>\n      <td>91.3</td>\n      <td>10.7</td>\n      <td>32.0</td>\n      <td>31.1</td>\n      <td>59.3</td>\n      <td>...</td>\n      <td>0.351</td>\n      <td>0.555</td>\n      <td>0.517</td>\n      <td>10.3</td>\n      <td>27.8</td>\n      <td>0.201</td>\n      <td>0.565</td>\n      <td>15.3</td>\n      <td>76.7</td>\n      <td>0.223</td>\n    </tr>\n    <tr>\n      <th>626</th>\n      <td>952</td>\n      <td>Utah Jazz</td>\n      <td>82</td>\n      <td>241.5</td>\n      <td>42.5</td>\n      <td>89.8</td>\n      <td>13.3</td>\n      <td>37.8</td>\n      <td>29.2</td>\n      <td>52.0</td>\n      <td>...</td>\n      <td>0.421</td>\n      <td>0.584</td>\n      <td>0.547</td>\n      <td>13.3</td>\n      <td>26.8</td>\n      <td>0.209</td>\n      <td>0.541</td>\n      <td>10.9</td>\n      <td>75.2</td>\n      <td>0.205</td>\n    </tr>\n    <tr>\n      <th>627</th>\n      <td>992</td>\n      <td>Washington Wizards</td>\n      <td>82</td>\n      <td>240.9</td>\n      <td>42.1</td>\n      <td>86.9</td>\n      <td>11.3</td>\n      <td>31.7</td>\n      <td>30.9</td>\n      <td>55.2</td>\n      <td>...</td>\n      <td>0.365</td>\n      <td>0.585</td>\n      <td>0.550</td>\n      <td>12.7</td>\n      <td>22.6</td>\n      <td>0.202</td>\n      <td>0.540</td>\n      <td>11.0</td>\n      <td>76.1</td>\n      <td>0.194</td>\n    </tr>\n  </tbody>\n</table>\n<p>628 rows × 67 columns</p>\n</div>"
     },
     "execution_count": 3,
     "metadata": {},
     "output_type": "execute_result"
    }
   ],
   "source": [
    "combined_stats_1"
   ],
   "metadata": {
    "collapsed": false,
    "ExecuteTime": {
     "end_time": "2024-04-05T04:03:33.271442Z",
     "start_time": "2024-04-05T04:03:33.257095Z"
    }
   },
   "id": "3deb7b10c433f9d5",
   "execution_count": 3
  },
  {
   "cell_type": "code",
   "outputs": [],
   "source": [
    "#Cleaning Regular Season Shooting Stats"
   ],
   "metadata": {
    "collapsed": false
   },
   "id": "2687976fb07255b0"
  },
  {
   "cell_type": "code",
   "outputs": [],
   "source": [
    "shooting_stats=pd.read_csv('reg_season_shooting_stats.csv')"
   ],
   "metadata": {
    "collapsed": false,
    "ExecuteTime": {
     "end_time": "2024-04-05T04:04:11.101398Z",
     "start_time": "2024-04-05T04:04:11.095652Z"
    }
   },
   "id": "a1d3c772beb96e9f",
   "execution_count": 4
  },
  {
   "cell_type": "code",
   "outputs": [
    {
     "data": {
      "text/plain": "                    Team  Dist.  % of 2P FGA  % of FGA 0-3 feet from basket  \\\n0          Atlanta Hawks   11.9        0.823                          0.269   \n1        Boston Celtics*   13.8        0.669                          0.268   \n2          Chicago Bulls   10.9        0.852                          0.324   \n3    Cleveland Cavaliers   11.1        0.867                          0.303   \n4      Dallas Mavericks*   13.2        0.761                          0.253   \n..                   ...    ...          ...                            ...   \n623    Sacramento Kings*   14.1        0.577                          0.243   \n624    San Antonio Spurs   13.1        0.652                          0.258   \n625     Toronto Raptors*   13.4        0.649                          0.243   \n626            Utah Jazz   14.3        0.579                          0.204   \n627   Washington Wizards   14.2        0.635                          0.211   \n\n     % of FGA 3-10 feet from basket  % of FGA 10-16 feet from basket  \\\n0                             0.158                            0.181   \n1                             0.140                            0.109   \n2                             0.169                            0.148   \n3                             0.159                            0.188   \n4                             0.131                            0.136   \n..                              ...                              ...   \n623                           0.199                            0.080   \n624                           0.230                            0.112   \n625                           0.220                            0.095   \n626                           0.265                            0.073   \n627                           0.243                            0.106   \n\n     % of FGA 16 feet from basket - 3P line  % of 3P FGA  0-3 feet FG%  \\\n0                                     0.214        0.177         0.584   \n1                                     0.152        0.331         0.618   \n2                                     0.211        0.148         0.590   \n3                                     0.216        0.133         0.596   \n4                                     0.241        0.239         0.622   \n..                                      ...          ...           ...   \n623                                   0.050        0.423         0.741   \n624                                   0.053        0.348         0.679   \n625                                   0.084        0.351         0.694   \n626                                   0.037        0.421         0.707   \n627                                   0.075        0.365         0.759   \n\n     3-10 feet FG%  ...  16 feet - 3P FG%  % of 2P's that were assisted  \\\n0            0.381  ...             0.410                         0.543   \n1            0.319  ...             0.371                         0.496   \n2            0.405  ...             0.380                         0.562   \n3            0.331  ...             0.359                         0.572   \n4            0.416  ...             0.391                         0.515   \n..             ...  ...               ...                           ...   \n623          0.488  ...             0.450                         0.495   \n624          0.442  ...             0.425                         0.530   \n625          0.445  ...             0.379                         0.474   \n626          0.498  ...             0.439                         0.500   \n627          0.470  ...             0.428                         0.508   \n\n     % of 3P's that were assisted  % of FGA that are dunks  Dunks Made  \\\n0                           0.856                    0.048         297   \n1                           0.823                    0.034         204   \n2                           0.848                    0.059         370   \n3                           0.853                    0.064         381   \n4                           0.843                    0.032         211   \n..                            ...                      ...         ...   \n623                         0.875                    0.059         380   \n624                         0.924                    0.040         265   \n625                         0.819                    0.064         432   \n626                         0.854                    0.071         460   \n627                         0.862                    0.059         377   \n\n     % of FGA that are layups  # of layups made  % of corner 3PA  \\\n0                       0.202               647            0.276   \n1                       0.225               821            0.230   \n2                       0.243               829            0.260   \n3                       0.200               700            0.335   \n4                       0.206               808            0.242   \n..                        ...               ...              ...   \n623                     0.261              1166            0.226   \n624                     0.303              1339            0.216   \n625                     0.257              1082            0.264   \n626                     0.274              1144            0.220   \n627                     0.272              1118            0.215   \n\n     3P% from the corner  Season  \n0                  0.397    2003  \n1                  0.343    2003  \n2                  0.363    2003  \n3                  0.373    2003  \n4                  0.372    2003  \n..                   ...     ...  \n623                0.397    2023  \n624                0.367    2023  \n625                0.363    2023  \n626                0.413    2023  \n627                0.399    2023  \n\n[628 rows x 21 columns]",
      "text/html": "<div>\n<style scoped>\n    .dataframe tbody tr th:only-of-type {\n        vertical-align: middle;\n    }\n\n    .dataframe tbody tr th {\n        vertical-align: top;\n    }\n\n    .dataframe thead th {\n        text-align: right;\n    }\n</style>\n<table border=\"1\" class=\"dataframe\">\n  <thead>\n    <tr style=\"text-align: right;\">\n      <th></th>\n      <th>Team</th>\n      <th>Dist.</th>\n      <th>% of 2P FGA</th>\n      <th>% of FGA 0-3 feet from basket</th>\n      <th>% of FGA 3-10 feet from basket</th>\n      <th>% of FGA 10-16 feet from basket</th>\n      <th>% of FGA 16 feet from basket - 3P line</th>\n      <th>% of 3P FGA</th>\n      <th>0-3 feet FG%</th>\n      <th>3-10 feet FG%</th>\n      <th>...</th>\n      <th>16 feet - 3P FG%</th>\n      <th>% of 2P's that were assisted</th>\n      <th>% of 3P's that were assisted</th>\n      <th>% of FGA that are dunks</th>\n      <th>Dunks Made</th>\n      <th>% of FGA that are layups</th>\n      <th># of layups made</th>\n      <th>% of corner 3PA</th>\n      <th>3P% from the corner</th>\n      <th>Season</th>\n    </tr>\n  </thead>\n  <tbody>\n    <tr>\n      <th>0</th>\n      <td>Atlanta Hawks</td>\n      <td>11.9</td>\n      <td>0.823</td>\n      <td>0.269</td>\n      <td>0.158</td>\n      <td>0.181</td>\n      <td>0.214</td>\n      <td>0.177</td>\n      <td>0.584</td>\n      <td>0.381</td>\n      <td>...</td>\n      <td>0.410</td>\n      <td>0.543</td>\n      <td>0.856</td>\n      <td>0.048</td>\n      <td>297</td>\n      <td>0.202</td>\n      <td>647</td>\n      <td>0.276</td>\n      <td>0.397</td>\n      <td>2003</td>\n    </tr>\n    <tr>\n      <th>1</th>\n      <td>Boston Celtics*</td>\n      <td>13.8</td>\n      <td>0.669</td>\n      <td>0.268</td>\n      <td>0.140</td>\n      <td>0.109</td>\n      <td>0.152</td>\n      <td>0.331</td>\n      <td>0.618</td>\n      <td>0.319</td>\n      <td>...</td>\n      <td>0.371</td>\n      <td>0.496</td>\n      <td>0.823</td>\n      <td>0.034</td>\n      <td>204</td>\n      <td>0.225</td>\n      <td>821</td>\n      <td>0.230</td>\n      <td>0.343</td>\n      <td>2003</td>\n    </tr>\n    <tr>\n      <th>2</th>\n      <td>Chicago Bulls</td>\n      <td>10.9</td>\n      <td>0.852</td>\n      <td>0.324</td>\n      <td>0.169</td>\n      <td>0.148</td>\n      <td>0.211</td>\n      <td>0.148</td>\n      <td>0.590</td>\n      <td>0.405</td>\n      <td>...</td>\n      <td>0.380</td>\n      <td>0.562</td>\n      <td>0.848</td>\n      <td>0.059</td>\n      <td>370</td>\n      <td>0.243</td>\n      <td>829</td>\n      <td>0.260</td>\n      <td>0.363</td>\n      <td>2003</td>\n    </tr>\n    <tr>\n      <th>3</th>\n      <td>Cleveland Cavaliers</td>\n      <td>11.1</td>\n      <td>0.867</td>\n      <td>0.303</td>\n      <td>0.159</td>\n      <td>0.188</td>\n      <td>0.216</td>\n      <td>0.133</td>\n      <td>0.596</td>\n      <td>0.331</td>\n      <td>...</td>\n      <td>0.359</td>\n      <td>0.572</td>\n      <td>0.853</td>\n      <td>0.064</td>\n      <td>381</td>\n      <td>0.200</td>\n      <td>700</td>\n      <td>0.335</td>\n      <td>0.373</td>\n      <td>2003</td>\n    </tr>\n    <tr>\n      <th>4</th>\n      <td>Dallas Mavericks*</td>\n      <td>13.2</td>\n      <td>0.761</td>\n      <td>0.253</td>\n      <td>0.131</td>\n      <td>0.136</td>\n      <td>0.241</td>\n      <td>0.239</td>\n      <td>0.622</td>\n      <td>0.416</td>\n      <td>...</td>\n      <td>0.391</td>\n      <td>0.515</td>\n      <td>0.843</td>\n      <td>0.032</td>\n      <td>211</td>\n      <td>0.206</td>\n      <td>808</td>\n      <td>0.242</td>\n      <td>0.372</td>\n      <td>2003</td>\n    </tr>\n    <tr>\n      <th>...</th>\n      <td>...</td>\n      <td>...</td>\n      <td>...</td>\n      <td>...</td>\n      <td>...</td>\n      <td>...</td>\n      <td>...</td>\n      <td>...</td>\n      <td>...</td>\n      <td>...</td>\n      <td>...</td>\n      <td>...</td>\n      <td>...</td>\n      <td>...</td>\n      <td>...</td>\n      <td>...</td>\n      <td>...</td>\n      <td>...</td>\n      <td>...</td>\n      <td>...</td>\n      <td>...</td>\n    </tr>\n    <tr>\n      <th>623</th>\n      <td>Sacramento Kings*</td>\n      <td>14.1</td>\n      <td>0.577</td>\n      <td>0.243</td>\n      <td>0.199</td>\n      <td>0.080</td>\n      <td>0.050</td>\n      <td>0.423</td>\n      <td>0.741</td>\n      <td>0.488</td>\n      <td>...</td>\n      <td>0.450</td>\n      <td>0.495</td>\n      <td>0.875</td>\n      <td>0.059</td>\n      <td>380</td>\n      <td>0.261</td>\n      <td>1166</td>\n      <td>0.226</td>\n      <td>0.397</td>\n      <td>2023</td>\n    </tr>\n    <tr>\n      <th>624</th>\n      <td>San Antonio Spurs</td>\n      <td>13.1</td>\n      <td>0.652</td>\n      <td>0.258</td>\n      <td>0.230</td>\n      <td>0.112</td>\n      <td>0.053</td>\n      <td>0.348</td>\n      <td>0.679</td>\n      <td>0.442</td>\n      <td>...</td>\n      <td>0.425</td>\n      <td>0.530</td>\n      <td>0.924</td>\n      <td>0.040</td>\n      <td>265</td>\n      <td>0.303</td>\n      <td>1339</td>\n      <td>0.216</td>\n      <td>0.367</td>\n      <td>2023</td>\n    </tr>\n    <tr>\n      <th>625</th>\n      <td>Toronto Raptors*</td>\n      <td>13.4</td>\n      <td>0.649</td>\n      <td>0.243</td>\n      <td>0.220</td>\n      <td>0.095</td>\n      <td>0.084</td>\n      <td>0.351</td>\n      <td>0.694</td>\n      <td>0.445</td>\n      <td>...</td>\n      <td>0.379</td>\n      <td>0.474</td>\n      <td>0.819</td>\n      <td>0.064</td>\n      <td>432</td>\n      <td>0.257</td>\n      <td>1082</td>\n      <td>0.264</td>\n      <td>0.363</td>\n      <td>2023</td>\n    </tr>\n    <tr>\n      <th>626</th>\n      <td>Utah Jazz</td>\n      <td>14.3</td>\n      <td>0.579</td>\n      <td>0.204</td>\n      <td>0.265</td>\n      <td>0.073</td>\n      <td>0.037</td>\n      <td>0.421</td>\n      <td>0.707</td>\n      <td>0.498</td>\n      <td>...</td>\n      <td>0.439</td>\n      <td>0.500</td>\n      <td>0.854</td>\n      <td>0.071</td>\n      <td>460</td>\n      <td>0.274</td>\n      <td>1144</td>\n      <td>0.220</td>\n      <td>0.413</td>\n      <td>2023</td>\n    </tr>\n    <tr>\n      <th>627</th>\n      <td>Washington Wizards</td>\n      <td>14.2</td>\n      <td>0.635</td>\n      <td>0.211</td>\n      <td>0.243</td>\n      <td>0.106</td>\n      <td>0.075</td>\n      <td>0.365</td>\n      <td>0.759</td>\n      <td>0.470</td>\n      <td>...</td>\n      <td>0.428</td>\n      <td>0.508</td>\n      <td>0.862</td>\n      <td>0.059</td>\n      <td>377</td>\n      <td>0.272</td>\n      <td>1118</td>\n      <td>0.215</td>\n      <td>0.399</td>\n      <td>2023</td>\n    </tr>\n  </tbody>\n</table>\n<p>628 rows × 21 columns</p>\n</div>"
     },
     "execution_count": 5,
     "metadata": {},
     "output_type": "execute_result"
    }
   ],
   "source": [
    "shooting_stats"
   ],
   "metadata": {
    "collapsed": false,
    "ExecuteTime": {
     "end_time": "2024-04-05T04:04:14.726551Z",
     "start_time": "2024-04-05T04:04:14.710741Z"
    }
   },
   "id": "39253de5356ec97c",
   "execution_count": 5
  },
  {
   "cell_type": "code",
   "outputs": [],
   "source": [
    "shooting_stats[\"Team\"] = shooting_stats[\"Team\"].str.replace(\"*\", \"\", regex=False)"
   ],
   "metadata": {
    "collapsed": false,
    "ExecuteTime": {
     "end_time": "2024-04-05T04:16:29.787533Z",
     "start_time": "2024-04-05T04:16:29.783735Z"
    }
   },
   "id": "141321cd150d3b99",
   "execution_count": 9
  },
  {
   "cell_type": "code",
   "outputs": [
    {
     "data": {
      "text/plain": "                    Team  Dist.  % of 2P FGA  % of FGA 0-3 feet from basket  \\\n0          Atlanta Hawks   11.9        0.823                          0.269   \n1         Boston Celtics   13.8        0.669                          0.268   \n2          Chicago Bulls   10.9        0.852                          0.324   \n3    Cleveland Cavaliers   11.1        0.867                          0.303   \n4       Dallas Mavericks   13.2        0.761                          0.253   \n..                   ...    ...          ...                            ...   \n623     Sacramento Kings   14.1        0.577                          0.243   \n624    San Antonio Spurs   13.1        0.652                          0.258   \n625      Toronto Raptors   13.4        0.649                          0.243   \n626            Utah Jazz   14.3        0.579                          0.204   \n627   Washington Wizards   14.2        0.635                          0.211   \n\n     % of FGA 3-10 feet from basket  % of FGA 10-16 feet from basket  \\\n0                             0.158                            0.181   \n1                             0.140                            0.109   \n2                             0.169                            0.148   \n3                             0.159                            0.188   \n4                             0.131                            0.136   \n..                              ...                              ...   \n623                           0.199                            0.080   \n624                           0.230                            0.112   \n625                           0.220                            0.095   \n626                           0.265                            0.073   \n627                           0.243                            0.106   \n\n     % of FGA 16 feet from basket - 3P line  % of 3P FGA  0-3 feet FG%  \\\n0                                     0.214        0.177         0.584   \n1                                     0.152        0.331         0.618   \n2                                     0.211        0.148         0.590   \n3                                     0.216        0.133         0.596   \n4                                     0.241        0.239         0.622   \n..                                      ...          ...           ...   \n623                                   0.050        0.423         0.741   \n624                                   0.053        0.348         0.679   \n625                                   0.084        0.351         0.694   \n626                                   0.037        0.421         0.707   \n627                                   0.075        0.365         0.759   \n\n     3-10 feet FG%  ...  16 feet - 3P FG%  % of 2P's that were assisted  \\\n0            0.381  ...             0.410                         0.543   \n1            0.319  ...             0.371                         0.496   \n2            0.405  ...             0.380                         0.562   \n3            0.331  ...             0.359                         0.572   \n4            0.416  ...             0.391                         0.515   \n..             ...  ...               ...                           ...   \n623          0.488  ...             0.450                         0.495   \n624          0.442  ...             0.425                         0.530   \n625          0.445  ...             0.379                         0.474   \n626          0.498  ...             0.439                         0.500   \n627          0.470  ...             0.428                         0.508   \n\n     % of 3P's that were assisted  % of FGA that are dunks  Dunks Made  \\\n0                           0.856                    0.048         297   \n1                           0.823                    0.034         204   \n2                           0.848                    0.059         370   \n3                           0.853                    0.064         381   \n4                           0.843                    0.032         211   \n..                            ...                      ...         ...   \n623                         0.875                    0.059         380   \n624                         0.924                    0.040         265   \n625                         0.819                    0.064         432   \n626                         0.854                    0.071         460   \n627                         0.862                    0.059         377   \n\n     % of FGA that are layups  # of layups made  % of corner 3PA  \\\n0                       0.202               647            0.276   \n1                       0.225               821            0.230   \n2                       0.243               829            0.260   \n3                       0.200               700            0.335   \n4                       0.206               808            0.242   \n..                        ...               ...              ...   \n623                     0.261              1166            0.226   \n624                     0.303              1339            0.216   \n625                     0.257              1082            0.264   \n626                     0.274              1144            0.220   \n627                     0.272              1118            0.215   \n\n     3P% from the corner  Season  \n0                  0.397    2003  \n1                  0.343    2003  \n2                  0.363    2003  \n3                  0.373    2003  \n4                  0.372    2003  \n..                   ...     ...  \n623                0.397    2023  \n624                0.367    2023  \n625                0.363    2023  \n626                0.413    2023  \n627                0.399    2023  \n\n[628 rows x 21 columns]",
      "text/html": "<div>\n<style scoped>\n    .dataframe tbody tr th:only-of-type {\n        vertical-align: middle;\n    }\n\n    .dataframe tbody tr th {\n        vertical-align: top;\n    }\n\n    .dataframe thead th {\n        text-align: right;\n    }\n</style>\n<table border=\"1\" class=\"dataframe\">\n  <thead>\n    <tr style=\"text-align: right;\">\n      <th></th>\n      <th>Team</th>\n      <th>Dist.</th>\n      <th>% of 2P FGA</th>\n      <th>% of FGA 0-3 feet from basket</th>\n      <th>% of FGA 3-10 feet from basket</th>\n      <th>% of FGA 10-16 feet from basket</th>\n      <th>% of FGA 16 feet from basket - 3P line</th>\n      <th>% of 3P FGA</th>\n      <th>0-3 feet FG%</th>\n      <th>3-10 feet FG%</th>\n      <th>...</th>\n      <th>16 feet - 3P FG%</th>\n      <th>% of 2P's that were assisted</th>\n      <th>% of 3P's that were assisted</th>\n      <th>% of FGA that are dunks</th>\n      <th>Dunks Made</th>\n      <th>% of FGA that are layups</th>\n      <th># of layups made</th>\n      <th>% of corner 3PA</th>\n      <th>3P% from the corner</th>\n      <th>Season</th>\n    </tr>\n  </thead>\n  <tbody>\n    <tr>\n      <th>0</th>\n      <td>Atlanta Hawks</td>\n      <td>11.9</td>\n      <td>0.823</td>\n      <td>0.269</td>\n      <td>0.158</td>\n      <td>0.181</td>\n      <td>0.214</td>\n      <td>0.177</td>\n      <td>0.584</td>\n      <td>0.381</td>\n      <td>...</td>\n      <td>0.410</td>\n      <td>0.543</td>\n      <td>0.856</td>\n      <td>0.048</td>\n      <td>297</td>\n      <td>0.202</td>\n      <td>647</td>\n      <td>0.276</td>\n      <td>0.397</td>\n      <td>2003</td>\n    </tr>\n    <tr>\n      <th>1</th>\n      <td>Boston Celtics</td>\n      <td>13.8</td>\n      <td>0.669</td>\n      <td>0.268</td>\n      <td>0.140</td>\n      <td>0.109</td>\n      <td>0.152</td>\n      <td>0.331</td>\n      <td>0.618</td>\n      <td>0.319</td>\n      <td>...</td>\n      <td>0.371</td>\n      <td>0.496</td>\n      <td>0.823</td>\n      <td>0.034</td>\n      <td>204</td>\n      <td>0.225</td>\n      <td>821</td>\n      <td>0.230</td>\n      <td>0.343</td>\n      <td>2003</td>\n    </tr>\n    <tr>\n      <th>2</th>\n      <td>Chicago Bulls</td>\n      <td>10.9</td>\n      <td>0.852</td>\n      <td>0.324</td>\n      <td>0.169</td>\n      <td>0.148</td>\n      <td>0.211</td>\n      <td>0.148</td>\n      <td>0.590</td>\n      <td>0.405</td>\n      <td>...</td>\n      <td>0.380</td>\n      <td>0.562</td>\n      <td>0.848</td>\n      <td>0.059</td>\n      <td>370</td>\n      <td>0.243</td>\n      <td>829</td>\n      <td>0.260</td>\n      <td>0.363</td>\n      <td>2003</td>\n    </tr>\n    <tr>\n      <th>3</th>\n      <td>Cleveland Cavaliers</td>\n      <td>11.1</td>\n      <td>0.867</td>\n      <td>0.303</td>\n      <td>0.159</td>\n      <td>0.188</td>\n      <td>0.216</td>\n      <td>0.133</td>\n      <td>0.596</td>\n      <td>0.331</td>\n      <td>...</td>\n      <td>0.359</td>\n      <td>0.572</td>\n      <td>0.853</td>\n      <td>0.064</td>\n      <td>381</td>\n      <td>0.200</td>\n      <td>700</td>\n      <td>0.335</td>\n      <td>0.373</td>\n      <td>2003</td>\n    </tr>\n    <tr>\n      <th>4</th>\n      <td>Dallas Mavericks</td>\n      <td>13.2</td>\n      <td>0.761</td>\n      <td>0.253</td>\n      <td>0.131</td>\n      <td>0.136</td>\n      <td>0.241</td>\n      <td>0.239</td>\n      <td>0.622</td>\n      <td>0.416</td>\n      <td>...</td>\n      <td>0.391</td>\n      <td>0.515</td>\n      <td>0.843</td>\n      <td>0.032</td>\n      <td>211</td>\n      <td>0.206</td>\n      <td>808</td>\n      <td>0.242</td>\n      <td>0.372</td>\n      <td>2003</td>\n    </tr>\n    <tr>\n      <th>...</th>\n      <td>...</td>\n      <td>...</td>\n      <td>...</td>\n      <td>...</td>\n      <td>...</td>\n      <td>...</td>\n      <td>...</td>\n      <td>...</td>\n      <td>...</td>\n      <td>...</td>\n      <td>...</td>\n      <td>...</td>\n      <td>...</td>\n      <td>...</td>\n      <td>...</td>\n      <td>...</td>\n      <td>...</td>\n      <td>...</td>\n      <td>...</td>\n      <td>...</td>\n      <td>...</td>\n    </tr>\n    <tr>\n      <th>623</th>\n      <td>Sacramento Kings</td>\n      <td>14.1</td>\n      <td>0.577</td>\n      <td>0.243</td>\n      <td>0.199</td>\n      <td>0.080</td>\n      <td>0.050</td>\n      <td>0.423</td>\n      <td>0.741</td>\n      <td>0.488</td>\n      <td>...</td>\n      <td>0.450</td>\n      <td>0.495</td>\n      <td>0.875</td>\n      <td>0.059</td>\n      <td>380</td>\n      <td>0.261</td>\n      <td>1166</td>\n      <td>0.226</td>\n      <td>0.397</td>\n      <td>2023</td>\n    </tr>\n    <tr>\n      <th>624</th>\n      <td>San Antonio Spurs</td>\n      <td>13.1</td>\n      <td>0.652</td>\n      <td>0.258</td>\n      <td>0.230</td>\n      <td>0.112</td>\n      <td>0.053</td>\n      <td>0.348</td>\n      <td>0.679</td>\n      <td>0.442</td>\n      <td>...</td>\n      <td>0.425</td>\n      <td>0.530</td>\n      <td>0.924</td>\n      <td>0.040</td>\n      <td>265</td>\n      <td>0.303</td>\n      <td>1339</td>\n      <td>0.216</td>\n      <td>0.367</td>\n      <td>2023</td>\n    </tr>\n    <tr>\n      <th>625</th>\n      <td>Toronto Raptors</td>\n      <td>13.4</td>\n      <td>0.649</td>\n      <td>0.243</td>\n      <td>0.220</td>\n      <td>0.095</td>\n      <td>0.084</td>\n      <td>0.351</td>\n      <td>0.694</td>\n      <td>0.445</td>\n      <td>...</td>\n      <td>0.379</td>\n      <td>0.474</td>\n      <td>0.819</td>\n      <td>0.064</td>\n      <td>432</td>\n      <td>0.257</td>\n      <td>1082</td>\n      <td>0.264</td>\n      <td>0.363</td>\n      <td>2023</td>\n    </tr>\n    <tr>\n      <th>626</th>\n      <td>Utah Jazz</td>\n      <td>14.3</td>\n      <td>0.579</td>\n      <td>0.204</td>\n      <td>0.265</td>\n      <td>0.073</td>\n      <td>0.037</td>\n      <td>0.421</td>\n      <td>0.707</td>\n      <td>0.498</td>\n      <td>...</td>\n      <td>0.439</td>\n      <td>0.500</td>\n      <td>0.854</td>\n      <td>0.071</td>\n      <td>460</td>\n      <td>0.274</td>\n      <td>1144</td>\n      <td>0.220</td>\n      <td>0.413</td>\n      <td>2023</td>\n    </tr>\n    <tr>\n      <th>627</th>\n      <td>Washington Wizards</td>\n      <td>14.2</td>\n      <td>0.635</td>\n      <td>0.211</td>\n      <td>0.243</td>\n      <td>0.106</td>\n      <td>0.075</td>\n      <td>0.365</td>\n      <td>0.759</td>\n      <td>0.470</td>\n      <td>...</td>\n      <td>0.428</td>\n      <td>0.508</td>\n      <td>0.862</td>\n      <td>0.059</td>\n      <td>377</td>\n      <td>0.272</td>\n      <td>1118</td>\n      <td>0.215</td>\n      <td>0.399</td>\n      <td>2023</td>\n    </tr>\n  </tbody>\n</table>\n<p>628 rows × 21 columns</p>\n</div>"
     },
     "execution_count": 10,
     "metadata": {},
     "output_type": "execute_result"
    }
   ],
   "source": [
    "shooting_stats"
   ],
   "metadata": {
    "collapsed": false,
    "ExecuteTime": {
     "end_time": "2024-04-05T04:16:34.983690Z",
     "start_time": "2024-04-05T04:16:34.968840Z"
    }
   },
   "id": "2f9ff0255734a86d",
   "execution_count": 10
  },
  {
   "cell_type": "code",
   "outputs": [],
   "source": [
    "final_combined = combined_stats_1.merge(shooting_stats, how='outer', on=[\"Team\", \"Season\"])"
   ],
   "metadata": {
    "collapsed": false,
    "ExecuteTime": {
     "end_time": "2024-04-05T04:16:56.222974Z",
     "start_time": "2024-04-05T04:16:56.217476Z"
    }
   },
   "id": "24685575d41459b6",
   "execution_count": 11
  },
  {
   "cell_type": "code",
   "outputs": [
    {
     "data": {
      "text/plain": "     Unnamed: 0                Team   G  MP Per Game  FG Per Game  \\\n0            13       Atlanta Hawks  82        242.7         34.9   \n1            14       Atlanta Hawks  82        242.7         34.5   \n2            15       Atlanta Hawks  82        242.1         35.9   \n3            16       Atlanta Hawks  82        242.4         35.9   \n4            17       Atlanta Hawks  82        242.4         34.5   \n..          ...                 ...  ..          ...          ...   \n623         988  Washington Wizards  82        243.0         42.1   \n624         989  Washington Wizards  72        241.0         41.5   \n625         990  Washington Wizards  72        241.7         43.2   \n626         991  Washington Wizards  82        241.8         40.6   \n627         992  Washington Wizards  82        240.9         42.1   \n\n     FGA Per Game  3P Per Game  3PA Per Game  2P Per Game  2PA Per Game  ...  \\\n0            78.5          4.9          13.9         30.0          64.5  ...   \n1            79.6          5.1          15.2         29.4          64.4  ...   \n2            81.4          3.7          11.9         32.2          69.5  ...   \n3            79.2          5.2          14.1         30.8          65.1  ...   \n4            77.7          4.2          12.7         30.4          65.0  ...   \n..            ...          ...           ...          ...           ...  ...   \n623          90.1         11.3          33.3         30.8          56.8  ...   \n624          90.9         12.0          32.6         29.5          58.3  ...   \n625          90.9         10.2          29.0         33.0          61.9  ...   \n626          86.0         10.5          30.6         30.1          55.4  ...   \n627          86.9         11.3          31.7         30.9          55.2  ...   \n\n     10-16 feet FG%  16 feet - 3P FG%  % of 2P's that were assisted  \\\n0             0.423             0.410                         0.543   \n1             0.363             0.409                         0.537   \n2             0.331             0.426                         0.511   \n3             0.377             0.414                         0.504   \n4             0.398             0.387                         0.518   \n..              ...               ...                           ...   \n623           0.386             0.393                         0.533   \n624           0.410             0.387                         0.509   \n625           0.408             0.402                         0.501   \n626           0.430             0.426                         0.532   \n627           0.459             0.428                         0.508   \n\n     % of 3P's that were assisted  % of FGA that are dunks  Dunks Made  \\\n0                           0.856                    0.048         297   \n1                           0.845                    0.045         289   \n2                           0.872                    0.056         354   \n3                           0.837                    0.047         290   \n4                           0.833                    0.047         273   \n..                            ...                      ...         ...   \n623                         0.868                    0.067         454   \n624                         0.832                    0.047         276   \n625                         0.880                    0.055         320   \n626                         0.860                    0.065         408   \n627                         0.862                    0.059         377   \n\n     % of FGA that are layups  # of layups made  % of corner 3PA  \\\n0                       0.202               647            0.276   \n1                       0.232               767            0.292   \n2                       0.289               985            0.265   \n3                       0.272               922            0.278   \n4                       0.284               940            0.253   \n..                        ...               ...              ...   \n623                     0.282              1210            0.213   \n624                     0.285              1029            0.167   \n625                     0.299              1074            0.231   \n626                     0.280              1135            0.246   \n627                     0.272              1118            0.215   \n\n     3P% from the corner  \n0                  0.397  \n1                  0.370  \n2                  0.295  \n3                  0.383  \n4                  0.373  \n..                   ...  \n623                0.360  \n624                0.388  \n625                0.369  \n626                0.397  \n627                0.399  \n\n[628 rows x 86 columns]",
      "text/html": "<div>\n<style scoped>\n    .dataframe tbody tr th:only-of-type {\n        vertical-align: middle;\n    }\n\n    .dataframe tbody tr th {\n        vertical-align: top;\n    }\n\n    .dataframe thead th {\n        text-align: right;\n    }\n</style>\n<table border=\"1\" class=\"dataframe\">\n  <thead>\n    <tr style=\"text-align: right;\">\n      <th></th>\n      <th>Unnamed: 0</th>\n      <th>Team</th>\n      <th>G</th>\n      <th>MP Per Game</th>\n      <th>FG Per Game</th>\n      <th>FGA Per Game</th>\n      <th>3P Per Game</th>\n      <th>3PA Per Game</th>\n      <th>2P Per Game</th>\n      <th>2PA Per Game</th>\n      <th>...</th>\n      <th>10-16 feet FG%</th>\n      <th>16 feet - 3P FG%</th>\n      <th>% of 2P's that were assisted</th>\n      <th>% of 3P's that were assisted</th>\n      <th>% of FGA that are dunks</th>\n      <th>Dunks Made</th>\n      <th>% of FGA that are layups</th>\n      <th># of layups made</th>\n      <th>% of corner 3PA</th>\n      <th>3P% from the corner</th>\n    </tr>\n  </thead>\n  <tbody>\n    <tr>\n      <th>0</th>\n      <td>13</td>\n      <td>Atlanta Hawks</td>\n      <td>82</td>\n      <td>242.7</td>\n      <td>34.9</td>\n      <td>78.5</td>\n      <td>4.9</td>\n      <td>13.9</td>\n      <td>30.0</td>\n      <td>64.5</td>\n      <td>...</td>\n      <td>0.423</td>\n      <td>0.410</td>\n      <td>0.543</td>\n      <td>0.856</td>\n      <td>0.048</td>\n      <td>297</td>\n      <td>0.202</td>\n      <td>647</td>\n      <td>0.276</td>\n      <td>0.397</td>\n    </tr>\n    <tr>\n      <th>1</th>\n      <td>14</td>\n      <td>Atlanta Hawks</td>\n      <td>82</td>\n      <td>242.7</td>\n      <td>34.5</td>\n      <td>79.6</td>\n      <td>5.1</td>\n      <td>15.2</td>\n      <td>29.4</td>\n      <td>64.4</td>\n      <td>...</td>\n      <td>0.363</td>\n      <td>0.409</td>\n      <td>0.537</td>\n      <td>0.845</td>\n      <td>0.045</td>\n      <td>289</td>\n      <td>0.232</td>\n      <td>767</td>\n      <td>0.292</td>\n      <td>0.370</td>\n    </tr>\n    <tr>\n      <th>2</th>\n      <td>15</td>\n      <td>Atlanta Hawks</td>\n      <td>82</td>\n      <td>242.1</td>\n      <td>35.9</td>\n      <td>81.4</td>\n      <td>3.7</td>\n      <td>11.9</td>\n      <td>32.2</td>\n      <td>69.5</td>\n      <td>...</td>\n      <td>0.331</td>\n      <td>0.426</td>\n      <td>0.511</td>\n      <td>0.872</td>\n      <td>0.056</td>\n      <td>354</td>\n      <td>0.289</td>\n      <td>985</td>\n      <td>0.265</td>\n      <td>0.295</td>\n    </tr>\n    <tr>\n      <th>3</th>\n      <td>16</td>\n      <td>Atlanta Hawks</td>\n      <td>82</td>\n      <td>242.4</td>\n      <td>35.9</td>\n      <td>79.2</td>\n      <td>5.2</td>\n      <td>14.1</td>\n      <td>30.8</td>\n      <td>65.1</td>\n      <td>...</td>\n      <td>0.377</td>\n      <td>0.414</td>\n      <td>0.504</td>\n      <td>0.837</td>\n      <td>0.047</td>\n      <td>290</td>\n      <td>0.272</td>\n      <td>922</td>\n      <td>0.278</td>\n      <td>0.383</td>\n    </tr>\n    <tr>\n      <th>4</th>\n      <td>17</td>\n      <td>Atlanta Hawks</td>\n      <td>82</td>\n      <td>242.4</td>\n      <td>34.5</td>\n      <td>77.7</td>\n      <td>4.2</td>\n      <td>12.7</td>\n      <td>30.4</td>\n      <td>65.0</td>\n      <td>...</td>\n      <td>0.398</td>\n      <td>0.387</td>\n      <td>0.518</td>\n      <td>0.833</td>\n      <td>0.047</td>\n      <td>273</td>\n      <td>0.284</td>\n      <td>940</td>\n      <td>0.253</td>\n      <td>0.373</td>\n    </tr>\n    <tr>\n      <th>...</th>\n      <td>...</td>\n      <td>...</td>\n      <td>...</td>\n      <td>...</td>\n      <td>...</td>\n      <td>...</td>\n      <td>...</td>\n      <td>...</td>\n      <td>...</td>\n      <td>...</td>\n      <td>...</td>\n      <td>...</td>\n      <td>...</td>\n      <td>...</td>\n      <td>...</td>\n      <td>...</td>\n      <td>...</td>\n      <td>...</td>\n      <td>...</td>\n      <td>...</td>\n      <td>...</td>\n    </tr>\n    <tr>\n      <th>623</th>\n      <td>988</td>\n      <td>Washington Wizards</td>\n      <td>82</td>\n      <td>243.0</td>\n      <td>42.1</td>\n      <td>90.1</td>\n      <td>11.3</td>\n      <td>33.3</td>\n      <td>30.8</td>\n      <td>56.8</td>\n      <td>...</td>\n      <td>0.386</td>\n      <td>0.393</td>\n      <td>0.533</td>\n      <td>0.868</td>\n      <td>0.067</td>\n      <td>454</td>\n      <td>0.282</td>\n      <td>1210</td>\n      <td>0.213</td>\n      <td>0.360</td>\n    </tr>\n    <tr>\n      <th>624</th>\n      <td>989</td>\n      <td>Washington Wizards</td>\n      <td>72</td>\n      <td>241.0</td>\n      <td>41.5</td>\n      <td>90.9</td>\n      <td>12.0</td>\n      <td>32.6</td>\n      <td>29.5</td>\n      <td>58.3</td>\n      <td>...</td>\n      <td>0.410</td>\n      <td>0.387</td>\n      <td>0.509</td>\n      <td>0.832</td>\n      <td>0.047</td>\n      <td>276</td>\n      <td>0.285</td>\n      <td>1029</td>\n      <td>0.167</td>\n      <td>0.388</td>\n    </tr>\n    <tr>\n      <th>625</th>\n      <td>990</td>\n      <td>Washington Wizards</td>\n      <td>72</td>\n      <td>241.7</td>\n      <td>43.2</td>\n      <td>90.9</td>\n      <td>10.2</td>\n      <td>29.0</td>\n      <td>33.0</td>\n      <td>61.9</td>\n      <td>...</td>\n      <td>0.408</td>\n      <td>0.402</td>\n      <td>0.501</td>\n      <td>0.880</td>\n      <td>0.055</td>\n      <td>320</td>\n      <td>0.299</td>\n      <td>1074</td>\n      <td>0.231</td>\n      <td>0.369</td>\n    </tr>\n    <tr>\n      <th>626</th>\n      <td>991</td>\n      <td>Washington Wizards</td>\n      <td>82</td>\n      <td>241.8</td>\n      <td>40.6</td>\n      <td>86.0</td>\n      <td>10.5</td>\n      <td>30.6</td>\n      <td>30.1</td>\n      <td>55.4</td>\n      <td>...</td>\n      <td>0.430</td>\n      <td>0.426</td>\n      <td>0.532</td>\n      <td>0.860</td>\n      <td>0.065</td>\n      <td>408</td>\n      <td>0.280</td>\n      <td>1135</td>\n      <td>0.246</td>\n      <td>0.397</td>\n    </tr>\n    <tr>\n      <th>627</th>\n      <td>992</td>\n      <td>Washington Wizards</td>\n      <td>82</td>\n      <td>240.9</td>\n      <td>42.1</td>\n      <td>86.9</td>\n      <td>11.3</td>\n      <td>31.7</td>\n      <td>30.9</td>\n      <td>55.2</td>\n      <td>...</td>\n      <td>0.459</td>\n      <td>0.428</td>\n      <td>0.508</td>\n      <td>0.862</td>\n      <td>0.059</td>\n      <td>377</td>\n      <td>0.272</td>\n      <td>1118</td>\n      <td>0.215</td>\n      <td>0.399</td>\n    </tr>\n  </tbody>\n</table>\n<p>628 rows × 86 columns</p>\n</div>"
     },
     "execution_count": 12,
     "metadata": {},
     "output_type": "execute_result"
    }
   ],
   "source": [
    "final_combined"
   ],
   "metadata": {
    "collapsed": false,
    "ExecuteTime": {
     "end_time": "2024-04-05T04:16:57.829080Z",
     "start_time": "2024-04-05T04:16:57.808669Z"
    }
   },
   "id": "7e42f24956e8f6e",
   "execution_count": 12
  },
  {
   "cell_type": "code",
   "outputs": [],
   "source": [
    "final_combined.to_csv('final_regular_season_stats.csv')"
   ],
   "metadata": {
    "collapsed": false,
    "ExecuteTime": {
     "end_time": "2024-04-05T04:17:29.683595Z",
     "start_time": "2024-04-05T04:17:29.650395Z"
    }
   },
   "id": "4214ff3fa26bad00",
   "execution_count": 13
  },
  {
   "cell_type": "code",
   "outputs": [],
   "source": [
    "#Combining Regular Season and Playoff Stats"
   ],
   "metadata": {
    "collapsed": false
   },
   "id": "7a3c2093831f0e8b"
  },
  {
   "cell_type": "code",
   "outputs": [],
   "source": [
    "playoff_game_stats = pd.read_csv('Final_Playoff_Stats_1.csv')"
   ],
   "metadata": {
    "collapsed": false,
    "ExecuteTime": {
     "end_time": "2024-05-08T07:09:03.569255Z",
     "start_time": "2024-05-08T07:09:03.560764Z"
    }
   },
   "id": "8360882740f43f84",
   "execution_count": 2
  },
  {
   "cell_type": "code",
   "outputs": [
    {
     "data": {
      "text/plain": "     Unnamed: 0_x                Team  G (P)  MP Per Game (P)  \\\n0              99       Atlanta Hawks      7            240.0   \n1             116       Atlanta Hawks     11            240.0   \n2             132       Atlanta Hawks     11            240.0   \n3             151       Atlanta Hawks     12            240.0   \n4             168       Atlanta Hawks      6            244.2   \n..            ...                 ...    ...              ...   \n331           201  Washington Wizards     11            242.3   \n332           209  Washington Wizards     10            242.5   \n333           241  Washington Wizards     13            241.9   \n334           259  Washington Wizards      6            240.0   \n335           315  Washington Wizards      5            240.0   \n\n     FG Per Game (P)  FGA Per Game (P)  3P Per Game (P)  3PA Per Game (P)  \\\n0               29.3              71.3              4.0              12.4   \n1               30.1              73.6              6.1              17.5   \n2               33.8              79.6              4.5              13.6   \n3               32.9              75.8              4.5              13.9   \n4               31.8              79.3              5.8              18.8   \n..               ...               ...              ...               ...   \n331             34.5              79.7              5.6              16.8   \n332             37.3              84.5              9.4              23.3   \n333             40.1              87.6              8.4              26.5   \n334             39.7              85.2              8.0              21.8   \n335             40.6              88.6              7.0              24.2   \n\n     2P Per Game (P)  2PA Per Game (P)  ...  3-10 feet FG% (P)  \\\n0               25.3              58.9  ...              0.446   \n1               24.0              56.1  ...              0.381   \n2               29.3              66.0  ...              0.391   \n3               28.4              61.9  ...              0.441   \n4               26.0              60.5  ...              0.380   \n..               ...               ...  ...                ...   \n331             28.8              62.9  ...              0.348   \n332             27.9              61.2  ...              0.386   \n333             31.7              61.2  ...              0.426   \n334             31.7              63.3  ...              0.383   \n335             33.6              64.4  ...              0.377   \n\n     10-16 feet FG% (P)  16 feet - 3P FG% (P) 3P FG% (P)  \\\n0                 0.278                 0.325      0.322   \n1                 0.318                 0.337      0.347   \n2                 0.357                 0.398      0.333   \n3                 0.441                 0.366      0.323   \n4                 0.244                 0.327      0.310   \n..                  ...                   ...        ...   \n331               0.422                 0.387      0.335   \n332               0.396                 0.314      0.403   \n333               0.485                 0.443      0.317   \n334               0.438                 0.422      0.366   \n335               0.500                 0.418      0.289   \n\n     % of 2P's that were assisted (P)  % of 3P's that were assisted (P)  \\\n0                               0.548                             0.893   \n1                               0.508                             0.776   \n2                               0.429                             0.840   \n3                               0.516                             0.759   \n4                               0.519                             0.686   \n..                                ...                               ...   \n331                             0.508                             0.871   \n332                             0.509                             0.947   \n333                             0.502                             0.817   \n334                             0.526                             0.833   \n335                             0.482                             0.886   \n\n     %FGA (P)  Md. (P)  %3PA (P)  3P%_y (P)  \n0       0.040       18     0.172      0.333  \n1       0.059       41     0.301      0.241  \n2       0.040       32     0.313      0.383  \n3       0.044       37     0.240      0.275  \n4       0.065       29     0.239      0.407  \n..        ...      ...       ...        ...  \n331     0.039       33     0.211      0.308  \n332     0.026       21     0.262      0.443  \n333     0.038       41     0.224      0.312  \n334     0.057       29     0.176      0.478  \n335     0.059       24     0.223      0.296  \n\n[336 rows x 101 columns]",
      "text/html": "<div>\n<style scoped>\n    .dataframe tbody tr th:only-of-type {\n        vertical-align: middle;\n    }\n\n    .dataframe tbody tr th {\n        vertical-align: top;\n    }\n\n    .dataframe thead th {\n        text-align: right;\n    }\n</style>\n<table border=\"1\" class=\"dataframe\">\n  <thead>\n    <tr style=\"text-align: right;\">\n      <th></th>\n      <th>Unnamed: 0_x</th>\n      <th>Team</th>\n      <th>G (P)</th>\n      <th>MP Per Game (P)</th>\n      <th>FG Per Game (P)</th>\n      <th>FGA Per Game (P)</th>\n      <th>3P Per Game (P)</th>\n      <th>3PA Per Game (P)</th>\n      <th>2P Per Game (P)</th>\n      <th>2PA Per Game (P)</th>\n      <th>...</th>\n      <th>3-10 feet FG% (P)</th>\n      <th>10-16 feet FG% (P)</th>\n      <th>16 feet - 3P FG% (P)</th>\n      <th>3P FG% (P)</th>\n      <th>% of 2P's that were assisted (P)</th>\n      <th>% of 3P's that were assisted (P)</th>\n      <th>%FGA (P)</th>\n      <th>Md. (P)</th>\n      <th>%3PA (P)</th>\n      <th>3P%_y (P)</th>\n    </tr>\n  </thead>\n  <tbody>\n    <tr>\n      <th>0</th>\n      <td>99</td>\n      <td>Atlanta Hawks</td>\n      <td>7</td>\n      <td>240.0</td>\n      <td>29.3</td>\n      <td>71.3</td>\n      <td>4.0</td>\n      <td>12.4</td>\n      <td>25.3</td>\n      <td>58.9</td>\n      <td>...</td>\n      <td>0.446</td>\n      <td>0.278</td>\n      <td>0.325</td>\n      <td>0.322</td>\n      <td>0.548</td>\n      <td>0.893</td>\n      <td>0.040</td>\n      <td>18</td>\n      <td>0.172</td>\n      <td>0.333</td>\n    </tr>\n    <tr>\n      <th>1</th>\n      <td>116</td>\n      <td>Atlanta Hawks</td>\n      <td>11</td>\n      <td>240.0</td>\n      <td>30.1</td>\n      <td>73.6</td>\n      <td>6.1</td>\n      <td>17.5</td>\n      <td>24.0</td>\n      <td>56.1</td>\n      <td>...</td>\n      <td>0.381</td>\n      <td>0.318</td>\n      <td>0.337</td>\n      <td>0.347</td>\n      <td>0.508</td>\n      <td>0.776</td>\n      <td>0.059</td>\n      <td>41</td>\n      <td>0.301</td>\n      <td>0.241</td>\n    </tr>\n    <tr>\n      <th>2</th>\n      <td>132</td>\n      <td>Atlanta Hawks</td>\n      <td>11</td>\n      <td>240.0</td>\n      <td>33.8</td>\n      <td>79.6</td>\n      <td>4.5</td>\n      <td>13.6</td>\n      <td>29.3</td>\n      <td>66.0</td>\n      <td>...</td>\n      <td>0.391</td>\n      <td>0.357</td>\n      <td>0.398</td>\n      <td>0.333</td>\n      <td>0.429</td>\n      <td>0.840</td>\n      <td>0.040</td>\n      <td>32</td>\n      <td>0.313</td>\n      <td>0.383</td>\n    </tr>\n    <tr>\n      <th>3</th>\n      <td>151</td>\n      <td>Atlanta Hawks</td>\n      <td>12</td>\n      <td>240.0</td>\n      <td>32.9</td>\n      <td>75.8</td>\n      <td>4.5</td>\n      <td>13.9</td>\n      <td>28.4</td>\n      <td>61.9</td>\n      <td>...</td>\n      <td>0.441</td>\n      <td>0.441</td>\n      <td>0.366</td>\n      <td>0.323</td>\n      <td>0.516</td>\n      <td>0.759</td>\n      <td>0.044</td>\n      <td>37</td>\n      <td>0.240</td>\n      <td>0.275</td>\n    </tr>\n    <tr>\n      <th>4</th>\n      <td>168</td>\n      <td>Atlanta Hawks</td>\n      <td>6</td>\n      <td>244.2</td>\n      <td>31.8</td>\n      <td>79.3</td>\n      <td>5.8</td>\n      <td>18.8</td>\n      <td>26.0</td>\n      <td>60.5</td>\n      <td>...</td>\n      <td>0.380</td>\n      <td>0.244</td>\n      <td>0.327</td>\n      <td>0.310</td>\n      <td>0.519</td>\n      <td>0.686</td>\n      <td>0.065</td>\n      <td>29</td>\n      <td>0.239</td>\n      <td>0.407</td>\n    </tr>\n    <tr>\n      <th>...</th>\n      <td>...</td>\n      <td>...</td>\n      <td>...</td>\n      <td>...</td>\n      <td>...</td>\n      <td>...</td>\n      <td>...</td>\n      <td>...</td>\n      <td>...</td>\n      <td>...</td>\n      <td>...</td>\n      <td>...</td>\n      <td>...</td>\n      <td>...</td>\n      <td>...</td>\n      <td>...</td>\n      <td>...</td>\n      <td>...</td>\n      <td>...</td>\n      <td>...</td>\n      <td>...</td>\n    </tr>\n    <tr>\n      <th>331</th>\n      <td>201</td>\n      <td>Washington Wizards</td>\n      <td>11</td>\n      <td>242.3</td>\n      <td>34.5</td>\n      <td>79.7</td>\n      <td>5.6</td>\n      <td>16.8</td>\n      <td>28.8</td>\n      <td>62.9</td>\n      <td>...</td>\n      <td>0.348</td>\n      <td>0.422</td>\n      <td>0.387</td>\n      <td>0.335</td>\n      <td>0.508</td>\n      <td>0.871</td>\n      <td>0.039</td>\n      <td>33</td>\n      <td>0.211</td>\n      <td>0.308</td>\n    </tr>\n    <tr>\n      <th>332</th>\n      <td>209</td>\n      <td>Washington Wizards</td>\n      <td>10</td>\n      <td>242.5</td>\n      <td>37.3</td>\n      <td>84.5</td>\n      <td>9.4</td>\n      <td>23.3</td>\n      <td>27.9</td>\n      <td>61.2</td>\n      <td>...</td>\n      <td>0.386</td>\n      <td>0.396</td>\n      <td>0.314</td>\n      <td>0.403</td>\n      <td>0.509</td>\n      <td>0.947</td>\n      <td>0.026</td>\n      <td>21</td>\n      <td>0.262</td>\n      <td>0.443</td>\n    </tr>\n    <tr>\n      <th>333</th>\n      <td>241</td>\n      <td>Washington Wizards</td>\n      <td>13</td>\n      <td>241.9</td>\n      <td>40.1</td>\n      <td>87.6</td>\n      <td>8.4</td>\n      <td>26.5</td>\n      <td>31.7</td>\n      <td>61.2</td>\n      <td>...</td>\n      <td>0.426</td>\n      <td>0.485</td>\n      <td>0.443</td>\n      <td>0.317</td>\n      <td>0.502</td>\n      <td>0.817</td>\n      <td>0.038</td>\n      <td>41</td>\n      <td>0.224</td>\n      <td>0.312</td>\n    </tr>\n    <tr>\n      <th>334</th>\n      <td>259</td>\n      <td>Washington Wizards</td>\n      <td>6</td>\n      <td>240.0</td>\n      <td>39.7</td>\n      <td>85.2</td>\n      <td>8.0</td>\n      <td>21.8</td>\n      <td>31.7</td>\n      <td>63.3</td>\n      <td>...</td>\n      <td>0.383</td>\n      <td>0.438</td>\n      <td>0.422</td>\n      <td>0.366</td>\n      <td>0.526</td>\n      <td>0.833</td>\n      <td>0.057</td>\n      <td>29</td>\n      <td>0.176</td>\n      <td>0.478</td>\n    </tr>\n    <tr>\n      <th>335</th>\n      <td>315</td>\n      <td>Washington Wizards</td>\n      <td>5</td>\n      <td>240.0</td>\n      <td>40.6</td>\n      <td>88.6</td>\n      <td>7.0</td>\n      <td>24.2</td>\n      <td>33.6</td>\n      <td>64.4</td>\n      <td>...</td>\n      <td>0.377</td>\n      <td>0.500</td>\n      <td>0.418</td>\n      <td>0.289</td>\n      <td>0.482</td>\n      <td>0.886</td>\n      <td>0.059</td>\n      <td>24</td>\n      <td>0.223</td>\n      <td>0.296</td>\n    </tr>\n  </tbody>\n</table>\n<p>336 rows × 101 columns</p>\n</div>"
     },
     "execution_count": 3,
     "metadata": {},
     "output_type": "execute_result"
    }
   ],
   "source": [
    "playoff_game_stats"
   ],
   "metadata": {
    "collapsed": false,
    "ExecuteTime": {
     "end_time": "2024-05-08T07:09:13.406641Z",
     "start_time": "2024-05-08T07:09:13.390899Z"
    }
   },
   "id": "5807ec882f601085",
   "execution_count": 3
  },
  {
   "cell_type": "code",
   "outputs": [],
   "source": [
    "regular_season_stats = pd.read_csv('final_regular_season_stats.csv')"
   ],
   "metadata": {
    "collapsed": false,
    "ExecuteTime": {
     "end_time": "2024-05-08T07:12:08.063124Z",
     "start_time": "2024-05-08T07:12:08.055941Z"
    }
   },
   "id": "4c67b833c8b8fec1",
   "execution_count": 4
  },
  {
   "cell_type": "code",
   "outputs": [
    {
     "data": {
      "text/plain": "                    Team     G  MP Per Game  FG Per Game  FGA Per Game  \\\n0          Atlanta Hawks  82.0        242.7         34.9          78.5   \n1         Boston Celtics  82.0        241.8         32.9          79.4   \n2          Chicago Bulls  82.0        243.0         36.5          81.9   \n3    Cleveland Cavaliers  82.0        241.8         34.8          82.3   \n4       Dallas Mavericks  82.0        241.2         38.5          85.1   \n..                   ...   ...          ...          ...           ...   \n653                  NaN   NaN          NaN          NaN           NaN   \n654                  NaN   NaN          NaN          NaN           NaN   \n655                  NaN   NaN          NaN          NaN           NaN   \n656                  NaN   NaN          NaN          NaN           NaN   \n657                  NaN   NaN          NaN          NaN           NaN   \n\n     3P Per Game  3PA Per Game  2P Per Game  2PA Per Game  FT Per Game  ...  \\\n0            4.9          13.9         30.0          64.5         19.4  ...   \n1            8.8          26.3         24.2          53.1         18.0  ...   \n2            4.3          12.2         32.2          69.7         17.7  ...   \n3            3.6          10.9         31.2          71.3         18.3  ...   \n4            7.8          20.3         30.8          64.8         18.1  ...   \n..           ...           ...          ...           ...          ...  ...   \n653          NaN           NaN          NaN           NaN          NaN  ...   \n654          NaN           NaN          NaN           NaN          NaN  ...   \n655          NaN           NaN          NaN           NaN          NaN  ...   \n656          NaN           NaN          NaN           NaN          NaN  ...   \n657          NaN           NaN          NaN           NaN          NaN  ...   \n\n     16 feet - 3P FG%  % of 2P's that were assisted  \\\n0               0.410                         0.543   \n1               0.371                         0.496   \n2               0.380                         0.562   \n3               0.359                         0.572   \n4               0.391                         0.515   \n..                ...                           ...   \n653               NaN                           NaN   \n654               NaN                           NaN   \n655               NaN                           NaN   \n656               NaN                           NaN   \n657               NaN                           NaN   \n\n     % of 3P's that were assisted  % of FGA that are dunks  Dunks Made  \\\n0                           0.856                    0.048       297.0   \n1                           0.823                    0.034       204.0   \n2                           0.848                    0.059       370.0   \n3                           0.853                    0.064       381.0   \n4                           0.843                    0.032       211.0   \n..                            ...                      ...         ...   \n653                           NaN                      NaN         NaN   \n654                           NaN                      NaN         NaN   \n655                           NaN                      NaN         NaN   \n656                           NaN                      NaN         NaN   \n657                           NaN                      NaN         NaN   \n\n     % of FGA that are layups  # of layups made  % of corner 3PA  \\\n0                       0.202             647.0            0.276   \n1                       0.225             821.0            0.230   \n2                       0.243             829.0            0.260   \n3                       0.200             700.0            0.335   \n4                       0.206             808.0            0.242   \n..                        ...               ...              ...   \n653                       NaN               NaN              NaN   \n654                       NaN               NaN              NaN   \n655                       NaN               NaN              NaN   \n656                       NaN               NaN              NaN   \n657                       NaN               NaN              NaN   \n\n     3P% from the corner  champion share  \n0                  0.397           0.000  \n1                  0.343           0.250  \n2                  0.363           0.000  \n3                  0.373           0.000  \n4                  0.372           0.625  \n..                   ...             ...  \n653                  NaN           0.000  \n654                  NaN           0.000  \n655                  NaN           0.000  \n656                  NaN           0.000  \n657                  NaN           0.000  \n\n[658 rows x 86 columns]",
      "text/html": "<div>\n<style scoped>\n    .dataframe tbody tr th:only-of-type {\n        vertical-align: middle;\n    }\n\n    .dataframe tbody tr th {\n        vertical-align: top;\n    }\n\n    .dataframe thead th {\n        text-align: right;\n    }\n</style>\n<table border=\"1\" class=\"dataframe\">\n  <thead>\n    <tr style=\"text-align: right;\">\n      <th></th>\n      <th>Team</th>\n      <th>G</th>\n      <th>MP Per Game</th>\n      <th>FG Per Game</th>\n      <th>FGA Per Game</th>\n      <th>3P Per Game</th>\n      <th>3PA Per Game</th>\n      <th>2P Per Game</th>\n      <th>2PA Per Game</th>\n      <th>FT Per Game</th>\n      <th>...</th>\n      <th>16 feet - 3P FG%</th>\n      <th>% of 2P's that were assisted</th>\n      <th>% of 3P's that were assisted</th>\n      <th>% of FGA that are dunks</th>\n      <th>Dunks Made</th>\n      <th>% of FGA that are layups</th>\n      <th># of layups made</th>\n      <th>% of corner 3PA</th>\n      <th>3P% from the corner</th>\n      <th>champion share</th>\n    </tr>\n  </thead>\n  <tbody>\n    <tr>\n      <th>0</th>\n      <td>Atlanta Hawks</td>\n      <td>82.0</td>\n      <td>242.7</td>\n      <td>34.9</td>\n      <td>78.5</td>\n      <td>4.9</td>\n      <td>13.9</td>\n      <td>30.0</td>\n      <td>64.5</td>\n      <td>19.4</td>\n      <td>...</td>\n      <td>0.410</td>\n      <td>0.543</td>\n      <td>0.856</td>\n      <td>0.048</td>\n      <td>297.0</td>\n      <td>0.202</td>\n      <td>647.0</td>\n      <td>0.276</td>\n      <td>0.397</td>\n      <td>0.000</td>\n    </tr>\n    <tr>\n      <th>1</th>\n      <td>Boston Celtics</td>\n      <td>82.0</td>\n      <td>241.8</td>\n      <td>32.9</td>\n      <td>79.4</td>\n      <td>8.8</td>\n      <td>26.3</td>\n      <td>24.2</td>\n      <td>53.1</td>\n      <td>18.0</td>\n      <td>...</td>\n      <td>0.371</td>\n      <td>0.496</td>\n      <td>0.823</td>\n      <td>0.034</td>\n      <td>204.0</td>\n      <td>0.225</td>\n      <td>821.0</td>\n      <td>0.230</td>\n      <td>0.343</td>\n      <td>0.250</td>\n    </tr>\n    <tr>\n      <th>2</th>\n      <td>Chicago Bulls</td>\n      <td>82.0</td>\n      <td>243.0</td>\n      <td>36.5</td>\n      <td>81.9</td>\n      <td>4.3</td>\n      <td>12.2</td>\n      <td>32.2</td>\n      <td>69.7</td>\n      <td>17.7</td>\n      <td>...</td>\n      <td>0.380</td>\n      <td>0.562</td>\n      <td>0.848</td>\n      <td>0.059</td>\n      <td>370.0</td>\n      <td>0.243</td>\n      <td>829.0</td>\n      <td>0.260</td>\n      <td>0.363</td>\n      <td>0.000</td>\n    </tr>\n    <tr>\n      <th>3</th>\n      <td>Cleveland Cavaliers</td>\n      <td>82.0</td>\n      <td>241.8</td>\n      <td>34.8</td>\n      <td>82.3</td>\n      <td>3.6</td>\n      <td>10.9</td>\n      <td>31.2</td>\n      <td>71.3</td>\n      <td>18.3</td>\n      <td>...</td>\n      <td>0.359</td>\n      <td>0.572</td>\n      <td>0.853</td>\n      <td>0.064</td>\n      <td>381.0</td>\n      <td>0.200</td>\n      <td>700.0</td>\n      <td>0.335</td>\n      <td>0.373</td>\n      <td>0.000</td>\n    </tr>\n    <tr>\n      <th>4</th>\n      <td>Dallas Mavericks</td>\n      <td>82.0</td>\n      <td>241.2</td>\n      <td>38.5</td>\n      <td>85.1</td>\n      <td>7.8</td>\n      <td>20.3</td>\n      <td>30.8</td>\n      <td>64.8</td>\n      <td>18.1</td>\n      <td>...</td>\n      <td>0.391</td>\n      <td>0.515</td>\n      <td>0.843</td>\n      <td>0.032</td>\n      <td>211.0</td>\n      <td>0.206</td>\n      <td>808.0</td>\n      <td>0.242</td>\n      <td>0.372</td>\n      <td>0.625</td>\n    </tr>\n    <tr>\n      <th>...</th>\n      <td>...</td>\n      <td>...</td>\n      <td>...</td>\n      <td>...</td>\n      <td>...</td>\n      <td>...</td>\n      <td>...</td>\n      <td>...</td>\n      <td>...</td>\n      <td>...</td>\n      <td>...</td>\n      <td>...</td>\n      <td>...</td>\n      <td>...</td>\n      <td>...</td>\n      <td>...</td>\n      <td>...</td>\n      <td>...</td>\n      <td>...</td>\n      <td>...</td>\n      <td>...</td>\n    </tr>\n    <tr>\n      <th>653</th>\n      <td>NaN</td>\n      <td>NaN</td>\n      <td>NaN</td>\n      <td>NaN</td>\n      <td>NaN</td>\n      <td>NaN</td>\n      <td>NaN</td>\n      <td>NaN</td>\n      <td>NaN</td>\n      <td>NaN</td>\n      <td>...</td>\n      <td>NaN</td>\n      <td>NaN</td>\n      <td>NaN</td>\n      <td>NaN</td>\n      <td>NaN</td>\n      <td>NaN</td>\n      <td>NaN</td>\n      <td>NaN</td>\n      <td>NaN</td>\n      <td>0.000</td>\n    </tr>\n    <tr>\n      <th>654</th>\n      <td>NaN</td>\n      <td>NaN</td>\n      <td>NaN</td>\n      <td>NaN</td>\n      <td>NaN</td>\n      <td>NaN</td>\n      <td>NaN</td>\n      <td>NaN</td>\n      <td>NaN</td>\n      <td>NaN</td>\n      <td>...</td>\n      <td>NaN</td>\n      <td>NaN</td>\n      <td>NaN</td>\n      <td>NaN</td>\n      <td>NaN</td>\n      <td>NaN</td>\n      <td>NaN</td>\n      <td>NaN</td>\n      <td>NaN</td>\n      <td>0.000</td>\n    </tr>\n    <tr>\n      <th>655</th>\n      <td>NaN</td>\n      <td>NaN</td>\n      <td>NaN</td>\n      <td>NaN</td>\n      <td>NaN</td>\n      <td>NaN</td>\n      <td>NaN</td>\n      <td>NaN</td>\n      <td>NaN</td>\n      <td>NaN</td>\n      <td>...</td>\n      <td>NaN</td>\n      <td>NaN</td>\n      <td>NaN</td>\n      <td>NaN</td>\n      <td>NaN</td>\n      <td>NaN</td>\n      <td>NaN</td>\n      <td>NaN</td>\n      <td>NaN</td>\n      <td>0.000</td>\n    </tr>\n    <tr>\n      <th>656</th>\n      <td>NaN</td>\n      <td>NaN</td>\n      <td>NaN</td>\n      <td>NaN</td>\n      <td>NaN</td>\n      <td>NaN</td>\n      <td>NaN</td>\n      <td>NaN</td>\n      <td>NaN</td>\n      <td>NaN</td>\n      <td>...</td>\n      <td>NaN</td>\n      <td>NaN</td>\n      <td>NaN</td>\n      <td>NaN</td>\n      <td>NaN</td>\n      <td>NaN</td>\n      <td>NaN</td>\n      <td>NaN</td>\n      <td>NaN</td>\n      <td>0.000</td>\n    </tr>\n    <tr>\n      <th>657</th>\n      <td>NaN</td>\n      <td>NaN</td>\n      <td>NaN</td>\n      <td>NaN</td>\n      <td>NaN</td>\n      <td>NaN</td>\n      <td>NaN</td>\n      <td>NaN</td>\n      <td>NaN</td>\n      <td>NaN</td>\n      <td>...</td>\n      <td>NaN</td>\n      <td>NaN</td>\n      <td>NaN</td>\n      <td>NaN</td>\n      <td>NaN</td>\n      <td>NaN</td>\n      <td>NaN</td>\n      <td>NaN</td>\n      <td>NaN</td>\n      <td>0.000</td>\n    </tr>\n  </tbody>\n</table>\n<p>658 rows × 86 columns</p>\n</div>"
     },
     "execution_count": 5,
     "metadata": {},
     "output_type": "execute_result"
    }
   ],
   "source": [
    "regular_season_stats"
   ],
   "metadata": {
    "collapsed": false,
    "ExecuteTime": {
     "end_time": "2024-05-08T07:12:10.596568Z",
     "start_time": "2024-05-08T07:12:10.582312Z"
    }
   },
   "id": "c9c82840e06dacbc",
   "execution_count": 5
  },
  {
   "cell_type": "code",
   "outputs": [],
   "source": [
    "complete_file =  playoff_game_stats.merge(regular_season_stats, how='outer', on=[\"Team\", \"Season\"]) "
   ],
   "metadata": {
    "collapsed": false,
    "ExecuteTime": {
     "end_time": "2024-05-08T07:15:34.818513Z",
     "start_time": "2024-05-08T07:15:34.811504Z"
    }
   },
   "id": "ccb8f89f28e219db",
   "execution_count": 6
  },
  {
   "cell_type": "code",
   "outputs": [],
   "source": [
    "complete_file.to_csv('complete_stats.csv')"
   ],
   "metadata": {
    "collapsed": false,
    "ExecuteTime": {
     "end_time": "2024-05-08T07:16:07.837823Z",
     "start_time": "2024-05-08T07:16:07.791540Z"
    }
   },
   "id": "9d3c69b5de04ac5d",
   "execution_count": 7
  },
  {
   "cell_type": "code",
   "outputs": [],
   "source": [],
   "metadata": {
    "collapsed": false
   },
   "id": "30bd302c003b4bcd"
  }
 ],
 "metadata": {
  "kernelspec": {
   "display_name": "Python 3",
   "language": "python",
   "name": "python3"
  },
  "language_info": {
   "codemirror_mode": {
    "name": "ipython",
    "version": 2
   },
   "file_extension": ".py",
   "mimetype": "text/x-python",
   "name": "python",
   "nbconvert_exporter": "python",
   "pygments_lexer": "ipython2",
   "version": "2.7.6"
  }
 },
 "nbformat": 4,
 "nbformat_minor": 5
}
